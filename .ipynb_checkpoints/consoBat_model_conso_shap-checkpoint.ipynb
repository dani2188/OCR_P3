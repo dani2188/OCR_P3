{
 "cells": [
  {
   "cell_type": "code",
   "execution_count": 1,
   "metadata": {},
   "outputs": [],
   "source": [
    "# Importation des bibliothèques nécessaires\n",
    "import pandas as pd\n",
    "import numpy as np\n",
    "import matplotlib.pyplot as plt\n",
    "import seaborn as sns"
   ]
  },
  {
   "cell_type": "code",
   "execution_count": 2,
   "metadata": {},
   "outputs": [
    {
     "name": "stdout",
     "output_type": "stream",
     "text": [
      "The scikit-learn version is 1.0.2.\n"
     ]
    }
   ],
   "source": [
    "import sklearn\n",
    "print('The scikit-learn version is {}.'.format(sklearn.__version__))"
   ]
  },
  {
   "cell_type": "code",
   "execution_count": 3,
   "metadata": {},
   "outputs": [],
   "source": [
    "## On charge notre dataframe nettoyé:\n",
    "df= pd.read_csv('consoBat_df9.csv')"
   ]
  },
  {
   "cell_type": "code",
   "execution_count": 4,
   "metadata": {},
   "outputs": [
    {
     "data": {
      "text/html": [
       "<div>\n",
       "<style scoped>\n",
       "    .dataframe tbody tr th:only-of-type {\n",
       "        vertical-align: middle;\n",
       "    }\n",
       "\n",
       "    .dataframe tbody tr th {\n",
       "        vertical-align: top;\n",
       "    }\n",
       "\n",
       "    .dataframe thead th {\n",
       "        text-align: right;\n",
       "    }\n",
       "</style>\n",
       "<table border=\"1\" class=\"dataframe\">\n",
       "  <thead>\n",
       "    <tr style=\"text-align: right;\">\n",
       "      <th></th>\n",
       "      <th>OSEBuildingID</th>\n",
       "      <th>BuildingType</th>\n",
       "      <th>PrimaryPropertyType</th>\n",
       "      <th>PropertyName</th>\n",
       "      <th>Address</th>\n",
       "      <th>City</th>\n",
       "      <th>State</th>\n",
       "      <th>ZipCode</th>\n",
       "      <th>TaxParcelIdentificationNumber</th>\n",
       "      <th>CouncilDistrictCode</th>\n",
       "      <th>...</th>\n",
       "      <th>SourceEUIWN(kBtu/sf)</th>\n",
       "      <th>SiteEnergyUseWN(kBtu)</th>\n",
       "      <th>SteamUse(kBtu)</th>\n",
       "      <th>Electricity(kBtu)</th>\n",
       "      <th>NaturalGas(kBtu)</th>\n",
       "      <th>DefaultData</th>\n",
       "      <th>ComplianceStatus</th>\n",
       "      <th>TotalGHGEmissions</th>\n",
       "      <th>GHGEmissionsIntensity</th>\n",
       "      <th>BuildingAge</th>\n",
       "    </tr>\n",
       "  </thead>\n",
       "  <tbody>\n",
       "    <tr>\n",
       "      <th>0</th>\n",
       "      <td>1</td>\n",
       "      <td>NonResidential</td>\n",
       "      <td>Hotel</td>\n",
       "      <td>Mayflower park hotel</td>\n",
       "      <td>405 Olive way</td>\n",
       "      <td>Seattle</td>\n",
       "      <td>WA</td>\n",
       "      <td>98101.0</td>\n",
       "      <td>0659000030</td>\n",
       "      <td>7</td>\n",
       "      <td>...</td>\n",
       "      <td>189.000000</td>\n",
       "      <td>7456910.0</td>\n",
       "      <td>2003882.00</td>\n",
       "      <td>3946027.0</td>\n",
       "      <td>1276453.0</td>\n",
       "      <td>False</td>\n",
       "      <td>Compliant</td>\n",
       "      <td>249.98</td>\n",
       "      <td>2.83</td>\n",
       "      <td>89</td>\n",
       "    </tr>\n",
       "    <tr>\n",
       "      <th>1</th>\n",
       "      <td>2</td>\n",
       "      <td>NonResidential</td>\n",
       "      <td>Hotel</td>\n",
       "      <td>Paramount Hotel</td>\n",
       "      <td>724 Pine street</td>\n",
       "      <td>Seattle</td>\n",
       "      <td>WA</td>\n",
       "      <td>98101.0</td>\n",
       "      <td>0659000220</td>\n",
       "      <td>7</td>\n",
       "      <td>...</td>\n",
       "      <td>179.399994</td>\n",
       "      <td>8664479.0</td>\n",
       "      <td>0.00</td>\n",
       "      <td>3242851.0</td>\n",
       "      <td>5145082.0</td>\n",
       "      <td>False</td>\n",
       "      <td>Compliant</td>\n",
       "      <td>295.86</td>\n",
       "      <td>2.86</td>\n",
       "      <td>20</td>\n",
       "    </tr>\n",
       "    <tr>\n",
       "      <th>2</th>\n",
       "      <td>5</td>\n",
       "      <td>NonResidential</td>\n",
       "      <td>Hotel</td>\n",
       "      <td>HOTEL MAX</td>\n",
       "      <td>620 STEWART ST</td>\n",
       "      <td>Seattle</td>\n",
       "      <td>WA</td>\n",
       "      <td>98101.0</td>\n",
       "      <td>0659000640</td>\n",
       "      <td>7</td>\n",
       "      <td>...</td>\n",
       "      <td>224.000000</td>\n",
       "      <td>6946800.5</td>\n",
       "      <td>2214446.25</td>\n",
       "      <td>2768924.0</td>\n",
       "      <td>1811213.0</td>\n",
       "      <td>False</td>\n",
       "      <td>Compliant</td>\n",
       "      <td>286.43</td>\n",
       "      <td>4.67</td>\n",
       "      <td>90</td>\n",
       "    </tr>\n",
       "    <tr>\n",
       "      <th>3</th>\n",
       "      <td>10</td>\n",
       "      <td>NonResidential</td>\n",
       "      <td>Hotel</td>\n",
       "      <td>Camlin</td>\n",
       "      <td>1619 9th Avenue</td>\n",
       "      <td>Seattle</td>\n",
       "      <td>WA</td>\n",
       "      <td>98101.0</td>\n",
       "      <td>0660000825</td>\n",
       "      <td>7</td>\n",
       "      <td>...</td>\n",
       "      <td>154.699997</td>\n",
       "      <td>6062767.5</td>\n",
       "      <td>0.00</td>\n",
       "      <td>2811215.0</td>\n",
       "      <td>2947580.0</td>\n",
       "      <td>False</td>\n",
       "      <td>Compliant</td>\n",
       "      <td>176.14</td>\n",
       "      <td>2.12</td>\n",
       "      <td>90</td>\n",
       "    </tr>\n",
       "    <tr>\n",
       "      <th>4</th>\n",
       "      <td>11</td>\n",
       "      <td>NonResidential</td>\n",
       "      <td>Other</td>\n",
       "      <td>Paramount Theatre</td>\n",
       "      <td>911 Pine St</td>\n",
       "      <td>Seattle</td>\n",
       "      <td>WA</td>\n",
       "      <td>98101.0</td>\n",
       "      <td>0660000955</td>\n",
       "      <td>7</td>\n",
       "      <td>...</td>\n",
       "      <td>152.300003</td>\n",
       "      <td>7067881.5</td>\n",
       "      <td>2276286.50</td>\n",
       "      <td>3636655.0</td>\n",
       "      <td>385189.0</td>\n",
       "      <td>False</td>\n",
       "      <td>Compliant</td>\n",
       "      <td>221.51</td>\n",
       "      <td>2.16</td>\n",
       "      <td>90</td>\n",
       "    </tr>\n",
       "  </tbody>\n",
       "</table>\n",
       "<p>5 rows × 33 columns</p>\n",
       "</div>"
      ],
      "text/plain": [
       "   OSEBuildingID    BuildingType PrimaryPropertyType          PropertyName  \\\n",
       "0              1  NonResidential               Hotel  Mayflower park hotel   \n",
       "1              2  NonResidential               Hotel       Paramount Hotel   \n",
       "2              5  NonResidential               Hotel             HOTEL MAX   \n",
       "3             10  NonResidential               Hotel                Camlin   \n",
       "4             11  NonResidential               Other     Paramount Theatre   \n",
       "\n",
       "           Address     City State  ZipCode TaxParcelIdentificationNumber  \\\n",
       "0    405 Olive way  Seattle    WA  98101.0                    0659000030   \n",
       "1  724 Pine street  Seattle    WA  98101.0                    0659000220   \n",
       "2   620 STEWART ST  Seattle    WA  98101.0                    0659000640   \n",
       "3  1619 9th Avenue  Seattle    WA  98101.0                    0660000825   \n",
       "4      911 Pine St  Seattle    WA  98101.0                    0660000955   \n",
       "\n",
       "   CouncilDistrictCode  ... SourceEUIWN(kBtu/sf)  SiteEnergyUseWN(kBtu)  \\\n",
       "0                    7  ...           189.000000              7456910.0   \n",
       "1                    7  ...           179.399994              8664479.0   \n",
       "2                    7  ...           224.000000              6946800.5   \n",
       "3                    7  ...           154.699997              6062767.5   \n",
       "4                    7  ...           152.300003              7067881.5   \n",
       "\n",
       "   SteamUse(kBtu)  Electricity(kBtu)  NaturalGas(kBtu)  DefaultData  \\\n",
       "0      2003882.00          3946027.0         1276453.0        False   \n",
       "1            0.00          3242851.0         5145082.0        False   \n",
       "2      2214446.25          2768924.0         1811213.0        False   \n",
       "3            0.00          2811215.0         2947580.0        False   \n",
       "4      2276286.50          3636655.0          385189.0        False   \n",
       "\n",
       "   ComplianceStatus  TotalGHGEmissions GHGEmissionsIntensity BuildingAge  \n",
       "0         Compliant             249.98                  2.83          89  \n",
       "1         Compliant             295.86                  2.86          20  \n",
       "2         Compliant             286.43                  4.67          90  \n",
       "3         Compliant             176.14                  2.12          90  \n",
       "4         Compliant             221.51                  2.16          90  \n",
       "\n",
       "[5 rows x 33 columns]"
      ]
     },
     "execution_count": 4,
     "metadata": {},
     "output_type": "execute_result"
    }
   ],
   "source": [
    "df.head()"
   ]
  },
  {
   "cell_type": "code",
   "execution_count": 5,
   "metadata": {},
   "outputs": [
    {
     "name": "stdout",
     "output_type": "stream",
     "text": [
      "<class 'pandas.core.frame.DataFrame'>\n",
      "RangeIndex: 1358 entries, 0 to 1357\n",
      "Data columns (total 33 columns):\n",
      " #   Column                         Non-Null Count  Dtype  \n",
      "---  ------                         --------------  -----  \n",
      " 0   OSEBuildingID                  1358 non-null   int64  \n",
      " 1   BuildingType                   1358 non-null   object \n",
      " 2   PrimaryPropertyType            1358 non-null   object \n",
      " 3   PropertyName                   1358 non-null   object \n",
      " 4   Address                        1358 non-null   object \n",
      " 5   City                           1358 non-null   object \n",
      " 6   State                          1358 non-null   object \n",
      " 7   ZipCode                        1358 non-null   float64\n",
      " 8   TaxParcelIdentificationNumber  1358 non-null   object \n",
      " 9   CouncilDistrictCode            1358 non-null   int64  \n",
      " 10  Neighborhood                   1358 non-null   object \n",
      " 11  Latitude                       1358 non-null   float64\n",
      " 12  Longitude                      1358 non-null   float64\n",
      " 13  NumberofBuildings              1358 non-null   float64\n",
      " 14  NumberofFloors                 1358 non-null   int64  \n",
      " 15  PropertyGFATotal               1358 non-null   int64  \n",
      " 16  PropertyGFAParking             1358 non-null   int64  \n",
      " 17  PropertyGFABuilding(s)         1358 non-null   int64  \n",
      " 18  ListOfAllPropertyUseTypes      1358 non-null   object \n",
      " 19  LargestPropertyUseType         1358 non-null   object \n",
      " 20  LargestPropertyUseTypeGFA      1358 non-null   float64\n",
      " 21  ENERGYSTARScore                896 non-null    float64\n",
      " 22  SiteEUIWN(kBtu/sf)             1358 non-null   float64\n",
      " 23  SourceEUIWN(kBtu/sf)           1358 non-null   float64\n",
      " 24  SiteEnergyUseWN(kBtu)          1358 non-null   float64\n",
      " 25  SteamUse(kBtu)                 1358 non-null   float64\n",
      " 26  Electricity(kBtu)              1358 non-null   float64\n",
      " 27  NaturalGas(kBtu)               1358 non-null   float64\n",
      " 28  DefaultData                    1358 non-null   bool   \n",
      " 29  ComplianceStatus               1358 non-null   object \n",
      " 30  TotalGHGEmissions              1358 non-null   float64\n",
      " 31  GHGEmissionsIntensity          1358 non-null   float64\n",
      " 32  BuildingAge                    1358 non-null   int64  \n",
      "dtypes: bool(1), float64(14), int64(7), object(11)\n",
      "memory usage: 341.0+ KB\n"
     ]
    }
   ],
   "source": [
    "df.info()"
   ]
  },
  {
   "cell_type": "code",
   "execution_count": 6,
   "metadata": {},
   "outputs": [],
   "source": [
    "# On sépare les variables numériques des variables catégorielles:\n",
    "var_num= df.select_dtypes(include=['int64','float64'])\n",
    "var_categ= df.select_dtypes(exclude=['int64','float64','bool']) "
   ]
  },
  {
   "cell_type": "code",
   "execution_count": 7,
   "metadata": {},
   "outputs": [
    {
     "data": {
      "text/html": [
       "<div>\n",
       "<style scoped>\n",
       "    .dataframe tbody tr th:only-of-type {\n",
       "        vertical-align: middle;\n",
       "    }\n",
       "\n",
       "    .dataframe tbody tr th {\n",
       "        vertical-align: top;\n",
       "    }\n",
       "\n",
       "    .dataframe thead th {\n",
       "        text-align: right;\n",
       "    }\n",
       "</style>\n",
       "<table border=\"1\" class=\"dataframe\">\n",
       "  <thead>\n",
       "    <tr style=\"text-align: right;\">\n",
       "      <th></th>\n",
       "      <th>BuildingType</th>\n",
       "      <th>PrimaryPropertyType</th>\n",
       "      <th>PropertyName</th>\n",
       "      <th>Address</th>\n",
       "      <th>City</th>\n",
       "      <th>State</th>\n",
       "      <th>TaxParcelIdentificationNumber</th>\n",
       "      <th>Neighborhood</th>\n",
       "      <th>ListOfAllPropertyUseTypes</th>\n",
       "      <th>LargestPropertyUseType</th>\n",
       "      <th>ComplianceStatus</th>\n",
       "    </tr>\n",
       "  </thead>\n",
       "  <tbody>\n",
       "    <tr>\n",
       "      <th>0</th>\n",
       "      <td>NonResidential</td>\n",
       "      <td>Hotel</td>\n",
       "      <td>Mayflower park hotel</td>\n",
       "      <td>405 Olive way</td>\n",
       "      <td>Seattle</td>\n",
       "      <td>WA</td>\n",
       "      <td>0659000030</td>\n",
       "      <td>DOWNTOWN</td>\n",
       "      <td>Hotel</td>\n",
       "      <td>Hotel</td>\n",
       "      <td>Compliant</td>\n",
       "    </tr>\n",
       "    <tr>\n",
       "      <th>1</th>\n",
       "      <td>NonResidential</td>\n",
       "      <td>Hotel</td>\n",
       "      <td>Paramount Hotel</td>\n",
       "      <td>724 Pine street</td>\n",
       "      <td>Seattle</td>\n",
       "      <td>WA</td>\n",
       "      <td>0659000220</td>\n",
       "      <td>DOWNTOWN</td>\n",
       "      <td>Hotel, Parking, Restaurant</td>\n",
       "      <td>Hotel</td>\n",
       "      <td>Compliant</td>\n",
       "    </tr>\n",
       "    <tr>\n",
       "      <th>2</th>\n",
       "      <td>NonResidential</td>\n",
       "      <td>Hotel</td>\n",
       "      <td>HOTEL MAX</td>\n",
       "      <td>620 STEWART ST</td>\n",
       "      <td>Seattle</td>\n",
       "      <td>WA</td>\n",
       "      <td>0659000640</td>\n",
       "      <td>DOWNTOWN</td>\n",
       "      <td>Hotel</td>\n",
       "      <td>Hotel</td>\n",
       "      <td>Compliant</td>\n",
       "    </tr>\n",
       "    <tr>\n",
       "      <th>3</th>\n",
       "      <td>NonResidential</td>\n",
       "      <td>Hotel</td>\n",
       "      <td>Camlin</td>\n",
       "      <td>1619 9th Avenue</td>\n",
       "      <td>Seattle</td>\n",
       "      <td>WA</td>\n",
       "      <td>0660000825</td>\n",
       "      <td>DOWNTOWN</td>\n",
       "      <td>Hotel</td>\n",
       "      <td>Hotel</td>\n",
       "      <td>Compliant</td>\n",
       "    </tr>\n",
       "    <tr>\n",
       "      <th>4</th>\n",
       "      <td>NonResidential</td>\n",
       "      <td>Other</td>\n",
       "      <td>Paramount Theatre</td>\n",
       "      <td>911 Pine St</td>\n",
       "      <td>Seattle</td>\n",
       "      <td>WA</td>\n",
       "      <td>0660000955</td>\n",
       "      <td>DOWNTOWN</td>\n",
       "      <td>Other - Entertainment/Public Assembly</td>\n",
       "      <td>Other - Entertainment/Public Assembly</td>\n",
       "      <td>Compliant</td>\n",
       "    </tr>\n",
       "  </tbody>\n",
       "</table>\n",
       "</div>"
      ],
      "text/plain": [
       "     BuildingType PrimaryPropertyType          PropertyName          Address  \\\n",
       "0  NonResidential               Hotel  Mayflower park hotel    405 Olive way   \n",
       "1  NonResidential               Hotel       Paramount Hotel  724 Pine street   \n",
       "2  NonResidential               Hotel             HOTEL MAX   620 STEWART ST   \n",
       "3  NonResidential               Hotel                Camlin  1619 9th Avenue   \n",
       "4  NonResidential               Other     Paramount Theatre      911 Pine St   \n",
       "\n",
       "      City State TaxParcelIdentificationNumber Neighborhood  \\\n",
       "0  Seattle    WA                    0659000030     DOWNTOWN   \n",
       "1  Seattle    WA                    0659000220     DOWNTOWN   \n",
       "2  Seattle    WA                    0659000640     DOWNTOWN   \n",
       "3  Seattle    WA                    0660000825     DOWNTOWN   \n",
       "4  Seattle    WA                    0660000955     DOWNTOWN   \n",
       "\n",
       "               ListOfAllPropertyUseTypes  \\\n",
       "0                                  Hotel   \n",
       "1             Hotel, Parking, Restaurant   \n",
       "2                                  Hotel   \n",
       "3                                  Hotel   \n",
       "4  Other - Entertainment/Public Assembly   \n",
       "\n",
       "                  LargestPropertyUseType ComplianceStatus  \n",
       "0                                  Hotel        Compliant  \n",
       "1                                  Hotel        Compliant  \n",
       "2                                  Hotel        Compliant  \n",
       "3                                  Hotel        Compliant  \n",
       "4  Other - Entertainment/Public Assembly        Compliant  "
      ]
     },
     "execution_count": 7,
     "metadata": {},
     "output_type": "execute_result"
    }
   ],
   "source": [
    "var_categ.head()"
   ]
  },
  {
   "cell_type": "code",
   "execution_count": 8,
   "metadata": {},
   "outputs": [
    {
     "data": {
      "text/plain": [
       "BuildingType                        5\n",
       "PrimaryPropertyType                21\n",
       "PropertyName                     1355\n",
       "Address                          1342\n",
       "City                                1\n",
       "State                               1\n",
       "TaxParcelIdentificationNumber    1303\n",
       "Neighborhood                       18\n",
       "ListOfAllPropertyUseTypes         288\n",
       "LargestPropertyUseType             50\n",
       "ComplianceStatus                    4\n",
       "dtype: int64"
      ]
     },
     "execution_count": 8,
     "metadata": {},
     "output_type": "execute_result"
    }
   ],
   "source": [
    "var_categ.nunique()"
   ]
  },
  {
   "cell_type": "markdown",
   "metadata": {},
   "source": [
    "On écarte les variables catégorielles qui représentent des constantes:"
   ]
  },
  {
   "cell_type": "code",
   "execution_count": 9,
   "metadata": {},
   "outputs": [],
   "source": [
    "var_categ= var_categ.drop(['BuildingType','City','State'],axis=1)"
   ]
  },
  {
   "cell_type": "code",
   "execution_count": 10,
   "metadata": {},
   "outputs": [
    {
     "data": {
      "text/html": [
       "<div>\n",
       "<style scoped>\n",
       "    .dataframe tbody tr th:only-of-type {\n",
       "        vertical-align: middle;\n",
       "    }\n",
       "\n",
       "    .dataframe tbody tr th {\n",
       "        vertical-align: top;\n",
       "    }\n",
       "\n",
       "    .dataframe thead th {\n",
       "        text-align: right;\n",
       "    }\n",
       "</style>\n",
       "<table border=\"1\" class=\"dataframe\">\n",
       "  <thead>\n",
       "    <tr style=\"text-align: right;\">\n",
       "      <th></th>\n",
       "      <th>PrimaryPropertyType</th>\n",
       "      <th>PropertyName</th>\n",
       "      <th>Address</th>\n",
       "      <th>TaxParcelIdentificationNumber</th>\n",
       "      <th>Neighborhood</th>\n",
       "      <th>ListOfAllPropertyUseTypes</th>\n",
       "      <th>LargestPropertyUseType</th>\n",
       "      <th>ComplianceStatus</th>\n",
       "    </tr>\n",
       "  </thead>\n",
       "  <tbody>\n",
       "    <tr>\n",
       "      <th>0</th>\n",
       "      <td>Hotel</td>\n",
       "      <td>Mayflower park hotel</td>\n",
       "      <td>405 Olive way</td>\n",
       "      <td>0659000030</td>\n",
       "      <td>DOWNTOWN</td>\n",
       "      <td>Hotel</td>\n",
       "      <td>Hotel</td>\n",
       "      <td>Compliant</td>\n",
       "    </tr>\n",
       "    <tr>\n",
       "      <th>1</th>\n",
       "      <td>Hotel</td>\n",
       "      <td>Paramount Hotel</td>\n",
       "      <td>724 Pine street</td>\n",
       "      <td>0659000220</td>\n",
       "      <td>DOWNTOWN</td>\n",
       "      <td>Hotel, Parking, Restaurant</td>\n",
       "      <td>Hotel</td>\n",
       "      <td>Compliant</td>\n",
       "    </tr>\n",
       "    <tr>\n",
       "      <th>2</th>\n",
       "      <td>Hotel</td>\n",
       "      <td>HOTEL MAX</td>\n",
       "      <td>620 STEWART ST</td>\n",
       "      <td>0659000640</td>\n",
       "      <td>DOWNTOWN</td>\n",
       "      <td>Hotel</td>\n",
       "      <td>Hotel</td>\n",
       "      <td>Compliant</td>\n",
       "    </tr>\n",
       "    <tr>\n",
       "      <th>3</th>\n",
       "      <td>Hotel</td>\n",
       "      <td>Camlin</td>\n",
       "      <td>1619 9th Avenue</td>\n",
       "      <td>0660000825</td>\n",
       "      <td>DOWNTOWN</td>\n",
       "      <td>Hotel</td>\n",
       "      <td>Hotel</td>\n",
       "      <td>Compliant</td>\n",
       "    </tr>\n",
       "    <tr>\n",
       "      <th>4</th>\n",
       "      <td>Other</td>\n",
       "      <td>Paramount Theatre</td>\n",
       "      <td>911 Pine St</td>\n",
       "      <td>0660000955</td>\n",
       "      <td>DOWNTOWN</td>\n",
       "      <td>Other - Entertainment/Public Assembly</td>\n",
       "      <td>Other - Entertainment/Public Assembly</td>\n",
       "      <td>Compliant</td>\n",
       "    </tr>\n",
       "  </tbody>\n",
       "</table>\n",
       "</div>"
      ],
      "text/plain": [
       "  PrimaryPropertyType          PropertyName          Address  \\\n",
       "0               Hotel  Mayflower park hotel    405 Olive way   \n",
       "1               Hotel       Paramount Hotel  724 Pine street   \n",
       "2               Hotel             HOTEL MAX   620 STEWART ST   \n",
       "3               Hotel                Camlin  1619 9th Avenue   \n",
       "4               Other     Paramount Theatre      911 Pine St   \n",
       "\n",
       "  TaxParcelIdentificationNumber Neighborhood  \\\n",
       "0                    0659000030     DOWNTOWN   \n",
       "1                    0659000220     DOWNTOWN   \n",
       "2                    0659000640     DOWNTOWN   \n",
       "3                    0660000825     DOWNTOWN   \n",
       "4                    0660000955     DOWNTOWN   \n",
       "\n",
       "               ListOfAllPropertyUseTypes  \\\n",
       "0                                  Hotel   \n",
       "1             Hotel, Parking, Restaurant   \n",
       "2                                  Hotel   \n",
       "3                                  Hotel   \n",
       "4  Other - Entertainment/Public Assembly   \n",
       "\n",
       "                  LargestPropertyUseType ComplianceStatus  \n",
       "0                                  Hotel        Compliant  \n",
       "1                                  Hotel        Compliant  \n",
       "2                                  Hotel        Compliant  \n",
       "3                                  Hotel        Compliant  \n",
       "4  Other - Entertainment/Public Assembly        Compliant  "
      ]
     },
     "execution_count": 10,
     "metadata": {},
     "output_type": "execute_result"
    }
   ],
   "source": [
    "var_categ.head()"
   ]
  },
  {
   "cell_type": "code",
   "execution_count": 11,
   "metadata": {},
   "outputs": [],
   "source": [
    "#On écarte les variables catégorielles non pertinentes pour notre modèle:\n",
    "var_categ= var_categ.drop(['PropertyName','Address','TaxParcelIdentificationNumber','ListOfAllPropertyUseTypes'],axis=1)"
   ]
  },
  {
   "cell_type": "code",
   "execution_count": 12,
   "metadata": {},
   "outputs": [
    {
     "data": {
      "text/plain": [
       "['PrimaryPropertyType',\n",
       " 'Neighborhood',\n",
       " 'LargestPropertyUseType',\n",
       " 'ComplianceStatus']"
      ]
     },
     "execution_count": 12,
     "metadata": {},
     "output_type": "execute_result"
    }
   ],
   "source": [
    "var_categ.columns.tolist()"
   ]
  },
  {
   "cell_type": "markdown",
   "metadata": {},
   "source": [
    "On s'intéresse maintenant aux variables numériques:"
   ]
  },
  {
   "cell_type": "code",
   "execution_count": 13,
   "metadata": {},
   "outputs": [
    {
     "data": {
      "text/plain": [
       "Index(['OSEBuildingID', 'ZipCode', 'CouncilDistrictCode', 'Latitude',\n",
       "       'Longitude', 'NumberofBuildings', 'NumberofFloors', 'PropertyGFATotal',\n",
       "       'PropertyGFAParking', 'PropertyGFABuilding(s)',\n",
       "       'LargestPropertyUseTypeGFA', 'ENERGYSTARScore', 'SiteEUIWN(kBtu/sf)',\n",
       "       'SourceEUIWN(kBtu/sf)', 'SiteEnergyUseWN(kBtu)', 'SteamUse(kBtu)',\n",
       "       'Electricity(kBtu)', 'NaturalGas(kBtu)', 'TotalGHGEmissions',\n",
       "       'GHGEmissionsIntensity', 'BuildingAge'],\n",
       "      dtype='object')"
      ]
     },
     "execution_count": 13,
     "metadata": {},
     "output_type": "execute_result"
    }
   ],
   "source": [
    "var_num.columns"
   ]
  },
  {
   "cell_type": "markdown",
   "metadata": {},
   "source": [
    "Dans cette partie de modélisation, on séléctionne la variables target: (SiteEnergyUseWN(kBtu) au lieu de (SiteEUIWN(kBtu/sf)) qui prend pas en compte la surface du site.  "
   ]
  },
  {
   "cell_type": "code",
   "execution_count": 14,
   "metadata": {},
   "outputs": [],
   "source": [
    "var_num= var_num.drop(['SiteEUIWN(kBtu/sf)'],axis=1)"
   ]
  },
  {
   "cell_type": "markdown",
   "metadata": {},
   "source": [
    "On écarte les variables non pertinentes pour notre modèle:"
   ]
  },
  {
   "cell_type": "code",
   "execution_count": 15,
   "metadata": {},
   "outputs": [],
   "source": [
    "var_num= var_num.drop(['OSEBuildingID','ZipCode','CouncilDistrictCode','Latitude','Longitude'],axis=1)"
   ]
  },
  {
   "cell_type": "markdown",
   "metadata": {},
   "source": [
    "On écarte les variables (SteamUse(kBtu)), (Electricity(kBtu)),(NaturalGas(kBtu)) qui représentent des relevés et ne doivent pas être pris en compte par souci de data leakage."
   ]
  },
  {
   "cell_type": "code",
   "execution_count": 16,
   "metadata": {},
   "outputs": [],
   "source": [
    "var_num= var_num.drop(['SteamUse(kBtu)','Electricity(kBtu)','NaturalGas(kBtu)'],axis=1)"
   ]
  },
  {
   "cell_type": "code",
   "execution_count": 17,
   "metadata": {},
   "outputs": [
    {
     "data": {
      "text/plain": [
       "['NumberofBuildings',\n",
       " 'NumberofFloors',\n",
       " 'PropertyGFATotal',\n",
       " 'PropertyGFAParking',\n",
       " 'PropertyGFABuilding(s)',\n",
       " 'LargestPropertyUseTypeGFA',\n",
       " 'ENERGYSTARScore',\n",
       " 'SourceEUIWN(kBtu/sf)',\n",
       " 'SiteEnergyUseWN(kBtu)',\n",
       " 'TotalGHGEmissions',\n",
       " 'GHGEmissionsIntensity',\n",
       " 'BuildingAge']"
      ]
     },
     "execution_count": 17,
     "metadata": {},
     "output_type": "execute_result"
    }
   ],
   "source": [
    "var_num.columns.tolist()"
   ]
  },
  {
   "cell_type": "code",
   "execution_count": 18,
   "metadata": {},
   "outputs": [],
   "source": [
    "df_filter= pd.concat([var_categ, var_num], axis=1)"
   ]
  },
  {
   "cell_type": "code",
   "execution_count": 19,
   "metadata": {},
   "outputs": [
    {
     "data": {
      "text/html": [
       "<div>\n",
       "<style scoped>\n",
       "    .dataframe tbody tr th:only-of-type {\n",
       "        vertical-align: middle;\n",
       "    }\n",
       "\n",
       "    .dataframe tbody tr th {\n",
       "        vertical-align: top;\n",
       "    }\n",
       "\n",
       "    .dataframe thead th {\n",
       "        text-align: right;\n",
       "    }\n",
       "</style>\n",
       "<table border=\"1\" class=\"dataframe\">\n",
       "  <thead>\n",
       "    <tr style=\"text-align: right;\">\n",
       "      <th></th>\n",
       "      <th>PrimaryPropertyType</th>\n",
       "      <th>Neighborhood</th>\n",
       "      <th>LargestPropertyUseType</th>\n",
       "      <th>ComplianceStatus</th>\n",
       "      <th>NumberofBuildings</th>\n",
       "      <th>NumberofFloors</th>\n",
       "      <th>PropertyGFATotal</th>\n",
       "      <th>PropertyGFAParking</th>\n",
       "      <th>PropertyGFABuilding(s)</th>\n",
       "      <th>LargestPropertyUseTypeGFA</th>\n",
       "      <th>ENERGYSTARScore</th>\n",
       "      <th>SourceEUIWN(kBtu/sf)</th>\n",
       "      <th>SiteEnergyUseWN(kBtu)</th>\n",
       "      <th>TotalGHGEmissions</th>\n",
       "      <th>GHGEmissionsIntensity</th>\n",
       "      <th>BuildingAge</th>\n",
       "    </tr>\n",
       "  </thead>\n",
       "  <tbody>\n",
       "    <tr>\n",
       "      <th>0</th>\n",
       "      <td>Hotel</td>\n",
       "      <td>DOWNTOWN</td>\n",
       "      <td>Hotel</td>\n",
       "      <td>Compliant</td>\n",
       "      <td>1.0</td>\n",
       "      <td>12</td>\n",
       "      <td>88434</td>\n",
       "      <td>0</td>\n",
       "      <td>88434</td>\n",
       "      <td>88434.0</td>\n",
       "      <td>60.0</td>\n",
       "      <td>189.000000</td>\n",
       "      <td>7456910.0</td>\n",
       "      <td>249.98</td>\n",
       "      <td>2.83</td>\n",
       "      <td>89</td>\n",
       "    </tr>\n",
       "    <tr>\n",
       "      <th>1</th>\n",
       "      <td>Hotel</td>\n",
       "      <td>DOWNTOWN</td>\n",
       "      <td>Hotel</td>\n",
       "      <td>Compliant</td>\n",
       "      <td>1.0</td>\n",
       "      <td>11</td>\n",
       "      <td>103566</td>\n",
       "      <td>15064</td>\n",
       "      <td>88502</td>\n",
       "      <td>83880.0</td>\n",
       "      <td>61.0</td>\n",
       "      <td>179.399994</td>\n",
       "      <td>8664479.0</td>\n",
       "      <td>295.86</td>\n",
       "      <td>2.86</td>\n",
       "      <td>20</td>\n",
       "    </tr>\n",
       "    <tr>\n",
       "      <th>2</th>\n",
       "      <td>Hotel</td>\n",
       "      <td>DOWNTOWN</td>\n",
       "      <td>Hotel</td>\n",
       "      <td>Compliant</td>\n",
       "      <td>1.0</td>\n",
       "      <td>10</td>\n",
       "      <td>61320</td>\n",
       "      <td>0</td>\n",
       "      <td>61320</td>\n",
       "      <td>61320.0</td>\n",
       "      <td>56.0</td>\n",
       "      <td>224.000000</td>\n",
       "      <td>6946800.5</td>\n",
       "      <td>286.43</td>\n",
       "      <td>4.67</td>\n",
       "      <td>90</td>\n",
       "    </tr>\n",
       "    <tr>\n",
       "      <th>3</th>\n",
       "      <td>Hotel</td>\n",
       "      <td>DOWNTOWN</td>\n",
       "      <td>Hotel</td>\n",
       "      <td>Compliant</td>\n",
       "      <td>1.0</td>\n",
       "      <td>11</td>\n",
       "      <td>83008</td>\n",
       "      <td>0</td>\n",
       "      <td>83008</td>\n",
       "      <td>81352.0</td>\n",
       "      <td>27.0</td>\n",
       "      <td>154.699997</td>\n",
       "      <td>6062767.5</td>\n",
       "      <td>176.14</td>\n",
       "      <td>2.12</td>\n",
       "      <td>90</td>\n",
       "    </tr>\n",
       "    <tr>\n",
       "      <th>4</th>\n",
       "      <td>Other</td>\n",
       "      <td>DOWNTOWN</td>\n",
       "      <td>Other - Entertainment/Public Assembly</td>\n",
       "      <td>Compliant</td>\n",
       "      <td>1.0</td>\n",
       "      <td>8</td>\n",
       "      <td>102761</td>\n",
       "      <td>0</td>\n",
       "      <td>102761</td>\n",
       "      <td>102761.0</td>\n",
       "      <td>NaN</td>\n",
       "      <td>152.300003</td>\n",
       "      <td>7067881.5</td>\n",
       "      <td>221.51</td>\n",
       "      <td>2.16</td>\n",
       "      <td>90</td>\n",
       "    </tr>\n",
       "  </tbody>\n",
       "</table>\n",
       "</div>"
      ],
      "text/plain": [
       "  PrimaryPropertyType Neighborhood                 LargestPropertyUseType  \\\n",
       "0               Hotel     DOWNTOWN                                  Hotel   \n",
       "1               Hotel     DOWNTOWN                                  Hotel   \n",
       "2               Hotel     DOWNTOWN                                  Hotel   \n",
       "3               Hotel     DOWNTOWN                                  Hotel   \n",
       "4               Other     DOWNTOWN  Other - Entertainment/Public Assembly   \n",
       "\n",
       "  ComplianceStatus  NumberofBuildings  NumberofFloors  PropertyGFATotal  \\\n",
       "0        Compliant                1.0              12             88434   \n",
       "1        Compliant                1.0              11            103566   \n",
       "2        Compliant                1.0              10             61320   \n",
       "3        Compliant                1.0              11             83008   \n",
       "4        Compliant                1.0               8            102761   \n",
       "\n",
       "   PropertyGFAParking  PropertyGFABuilding(s)  LargestPropertyUseTypeGFA  \\\n",
       "0                   0                   88434                    88434.0   \n",
       "1               15064                   88502                    83880.0   \n",
       "2                   0                   61320                    61320.0   \n",
       "3                   0                   83008                    81352.0   \n",
       "4                   0                  102761                   102761.0   \n",
       "\n",
       "   ENERGYSTARScore  SourceEUIWN(kBtu/sf)  SiteEnergyUseWN(kBtu)  \\\n",
       "0             60.0            189.000000              7456910.0   \n",
       "1             61.0            179.399994              8664479.0   \n",
       "2             56.0            224.000000              6946800.5   \n",
       "3             27.0            154.699997              6062767.5   \n",
       "4              NaN            152.300003              7067881.5   \n",
       "\n",
       "   TotalGHGEmissions  GHGEmissionsIntensity  BuildingAge  \n",
       "0             249.98                   2.83           89  \n",
       "1             295.86                   2.86           20  \n",
       "2             286.43                   4.67           90  \n",
       "3             176.14                   2.12           90  \n",
       "4             221.51                   2.16           90  "
      ]
     },
     "execution_count": 19,
     "metadata": {},
     "output_type": "execute_result"
    }
   ],
   "source": [
    "df_filter.head()"
   ]
  },
  {
   "cell_type": "code",
   "execution_count": 20,
   "metadata": {},
   "outputs": [
    {
     "data": {
      "text/plain": [
       "(1358, 16)"
      ]
     },
     "execution_count": 20,
     "metadata": {},
     "output_type": "execute_result"
    }
   ],
   "source": [
    "df_filter.shape"
   ]
  },
  {
   "cell_type": "code",
   "execution_count": 21,
   "metadata": {},
   "outputs": [
    {
     "data": {
      "text/plain": [
       "array(['Hotel', 'Other', 'Mixed Use Property', 'K-12 School',\n",
       "       'Small- and Mid-Sized Office', 'Self-Storage Facility',\n",
       "       'Large Office', 'Retail Store', 'University', 'Residence Hall',\n",
       "       'Warehouse', 'Distribution Center', 'Senior Care Community',\n",
       "       'Worship Facility', 'Medical Office',\n",
       "       'Supermarket / Grocery Store', 'Refrigerated Warehouse',\n",
       "       'Low-Rise Multifamily', 'Restaurant', 'Laboratory', 'Hospital'],\n",
       "      dtype=object)"
      ]
     },
     "execution_count": 21,
     "metadata": {},
     "output_type": "execute_result"
    }
   ],
   "source": [
    "df_filter.PrimaryPropertyType.unique()"
   ]
  },
  {
   "cell_type": "markdown",
   "metadata": {},
   "source": [
    "On prépare le feature (PrimaryPropertyType) pour l'encodage OneHotEncoder:"
   ]
  },
  {
   "cell_type": "code",
   "execution_count": 22,
   "metadata": {},
   "outputs": [],
   "source": [
    "def PropertyType_preprocessing(text):\n",
    "    \"\"\"\n",
    "    Function to Preprocess the features PrimaryPropertyType .\n",
    "    \"\"\"\n",
    "    text= text.lower()  # converts all uppercase characters to lowercase\n",
    "    text = text.replace(\"/\", \"\")    # Remove slash\n",
    "    text = text.replace(\"-\", \"\")    # Remove dash\n",
    "    text = text.replace(\" \", \"\")    # Remove whitespaces\n",
    "    text = text.replace(\"12\", \"twelve\")\n",
    "    return text\n",
    "\n",
    "df_filter['PrimaryPropertyType'] = df_filter['PrimaryPropertyType'].apply(lambda x: PropertyType_preprocessing(x))"
   ]
  },
  {
   "cell_type": "code",
   "execution_count": 23,
   "metadata": {},
   "outputs": [
    {
     "data": {
      "text/plain": [
       "array(['hotel', 'other', 'mixeduseproperty', 'ktwelveschool',\n",
       "       'smallandmidsizedoffice', 'selfstoragefacility', 'largeoffice',\n",
       "       'retailstore', 'university', 'residencehall', 'warehouse',\n",
       "       'distributioncenter', 'seniorcarecommunity', 'worshipfacility',\n",
       "       'medicaloffice', 'supermarketgrocerystore',\n",
       "       'refrigeratedwarehouse', 'lowrisemultifamily', 'restaurant',\n",
       "       'laboratory', 'hospital'], dtype=object)"
      ]
     },
     "execution_count": 23,
     "metadata": {},
     "output_type": "execute_result"
    }
   ],
   "source": [
    "df_filter.PrimaryPropertyType.unique()"
   ]
  },
  {
   "cell_type": "code",
   "execution_count": 24,
   "metadata": {},
   "outputs": [
    {
     "name": "stdout",
     "output_type": "stream",
     "text": [
      "<class 'pandas.core.frame.DataFrame'>\n",
      "RangeIndex: 1358 entries, 0 to 1357\n",
      "Data columns (total 16 columns):\n",
      " #   Column                     Non-Null Count  Dtype  \n",
      "---  ------                     --------------  -----  \n",
      " 0   PrimaryPropertyType        1358 non-null   object \n",
      " 1   Neighborhood               1358 non-null   object \n",
      " 2   LargestPropertyUseType     1358 non-null   object \n",
      " 3   ComplianceStatus           1358 non-null   object \n",
      " 4   NumberofBuildings          1358 non-null   float64\n",
      " 5   NumberofFloors             1358 non-null   int64  \n",
      " 6   PropertyGFATotal           1358 non-null   int64  \n",
      " 7   PropertyGFAParking         1358 non-null   int64  \n",
      " 8   PropertyGFABuilding(s)     1358 non-null   int64  \n",
      " 9   LargestPropertyUseTypeGFA  1358 non-null   float64\n",
      " 10  ENERGYSTARScore            896 non-null    float64\n",
      " 11  SourceEUIWN(kBtu/sf)       1358 non-null   float64\n",
      " 12  SiteEnergyUseWN(kBtu)      1358 non-null   float64\n",
      " 13  TotalGHGEmissions          1358 non-null   float64\n",
      " 14  GHGEmissionsIntensity      1358 non-null   float64\n",
      " 15  BuildingAge                1358 non-null   int64  \n",
      "dtypes: float64(7), int64(5), object(4)\n",
      "memory usage: 169.9+ KB\n"
     ]
    }
   ],
   "source": [
    "df_filter.info()"
   ]
  },
  {
   "cell_type": "code",
   "execution_count": 25,
   "metadata": {},
   "outputs": [],
   "source": [
    "# on charge le df_filter dans un fichier csv:\n",
    "df_filter.to_csv('consoBat_df_filter.csv',index=False)"
   ]
  },
  {
   "cell_type": "markdown",
   "metadata": {},
   "source": [
    "### Prédiction de la variable de consommation d'énergie: (SiteEnergyUseWN(kBtu), sans le feature (ENERGYSTARScore)"
   ]
  },
  {
   "cell_type": "markdown",
   "metadata": {},
   "source": [
    "#### Préparation du preprocessor:"
   ]
  },
  {
   "cell_type": "code",
   "execution_count": 26,
   "metadata": {},
   "outputs": [],
   "source": [
    "# Importation des bibliothèques nécessaires:\n",
    "from sklearn.preprocessing import StandardScaler, OneHotEncoder\n",
    "from sklearn.model_selection import GridSearchCV, cross_val_score\n",
    "from sklearn.pipeline import make_pipeline\n",
    "from sklearn.model_selection import train_test_split\n",
    "from sklearn.compose import make_column_transformer\n",
    "from sklearn.model_selection import GridSearchCV\n",
    "from sklearn.metrics import *\n",
    "from sklearn.impute import SimpleImputer\n",
    "from sklearn.linear_model import LinearRegression, Ridge, Lasso,  ElasticNet\n",
    "from sklearn.svm import SVR\n",
    "from sklearn.ensemble import RandomForestRegressor, AdaBoostRegressor\n",
    "from sklearn.tree import DecisionTreeRegressor\n",
    "import warnings\n",
    "warnings.filterwarnings(\"ignore\")"
   ]
  },
  {
   "cell_type": "code",
   "execution_count": 27,
   "metadata": {},
   "outputs": [
    {
     "data": {
      "text/plain": [
       "16"
      ]
     },
     "execution_count": 27,
     "metadata": {},
     "output_type": "execute_result"
    }
   ],
   "source": [
    "len(df_filter.columns)"
   ]
  },
  {
   "cell_type": "markdown",
   "metadata": {},
   "source": [
    "##### On définit les variables X et y:"
   ]
  },
  {
   "cell_type": "code",
   "execution_count": 28,
   "metadata": {},
   "outputs": [],
   "source": [
    "# On écarte les 2 variables de prédictions et la variable (ENERGYSTARScore) avec les données manquantes:\n",
    "X=df_filter.drop(['TotalGHGEmissions','SiteEnergyUseWN(kBtu)','ENERGYSTARScore'],axis=1)"
   ]
  },
  {
   "cell_type": "code",
   "execution_count": 29,
   "metadata": {},
   "outputs": [
    {
     "data": {
      "text/plain": [
       "13"
      ]
     },
     "execution_count": 29,
     "metadata": {},
     "output_type": "execute_result"
    }
   ],
   "source": [
    "len(X.columns)"
   ]
  },
  {
   "cell_type": "code",
   "execution_count": 30,
   "metadata": {},
   "outputs": [],
   "source": [
    "y= df_filter['SiteEnergyUseWN(kBtu)']"
   ]
  },
  {
   "cell_type": "markdown",
   "metadata": {},
   "source": [
    "##### On split les données entre Training set et Test set:"
   ]
  },
  {
   "cell_type": "code",
   "execution_count": 31,
   "metadata": {},
   "outputs": [],
   "source": [
    "#spliting data to training/test data:\n",
    "X_train, X_test, y_train, y_test = train_test_split(X, y, test_size=0.3, random_state=42)"
   ]
  },
  {
   "cell_type": "code",
   "execution_count": 32,
   "metadata": {},
   "outputs": [
    {
     "name": "stdout",
     "output_type": "stream",
     "text": [
      "(950, 13)\n",
      "(408, 13)\n"
     ]
    }
   ],
   "source": [
    "# dimensions X_train et X_test\n",
    "print(X_train.shape)\n",
    "print(X_test.shape)"
   ]
  },
  {
   "cell_type": "markdown",
   "metadata": {},
   "source": [
    "On a un dataframe avec des variables catégorielles et numériques, donc on fait appel à (make_column_transformer)"
   ]
  },
  {
   "cell_type": "code",
   "execution_count": 33,
   "metadata": {},
   "outputs": [],
   "source": [
    "col_categ= var_categ.columns.tolist()"
   ]
  },
  {
   "cell_type": "code",
   "execution_count": 34,
   "metadata": {},
   "outputs": [
    {
     "data": {
      "text/plain": [
       "4"
      ]
     },
     "execution_count": 34,
     "metadata": {},
     "output_type": "execute_result"
    }
   ],
   "source": [
    "len(col_categ)"
   ]
  },
  {
   "cell_type": "code",
   "execution_count": 35,
   "metadata": {},
   "outputs": [],
   "source": [
    "col_num= var_num.columns.tolist()"
   ]
  },
  {
   "cell_type": "code",
   "execution_count": 36,
   "metadata": {},
   "outputs": [
    {
     "data": {
      "text/plain": [
       "['NumberofBuildings',\n",
       " 'NumberofFloors',\n",
       " 'PropertyGFATotal',\n",
       " 'PropertyGFAParking',\n",
       " 'PropertyGFABuilding(s)',\n",
       " 'LargestPropertyUseTypeGFA',\n",
       " 'ENERGYSTARScore',\n",
       " 'SourceEUIWN(kBtu/sf)',\n",
       " 'SiteEnergyUseWN(kBtu)',\n",
       " 'TotalGHGEmissions',\n",
       " 'GHGEmissionsIntensity',\n",
       " 'BuildingAge']"
      ]
     },
     "execution_count": 36,
     "metadata": {},
     "output_type": "execute_result"
    }
   ],
   "source": [
    "col_num"
   ]
  },
  {
   "cell_type": "code",
   "execution_count": 37,
   "metadata": {},
   "outputs": [
    {
     "name": "stdout",
     "output_type": "stream",
     "text": [
      "SiteEnergyUseWN(kBtu)\n",
      "TotalGHGEmissions\n",
      "ENERGYSTARScore\n"
     ]
    }
   ],
   "source": [
    "#On écarte les 2 variables de prédictions et la variable (ENERGYSTARScore) avec données manquantes.\n",
    "remove_lst= ['SiteEnergyUseWN(kBtu)', 'TotalGHGEmissions','ENERGYSTARScore']\n",
    "for x in remove_lst:\n",
    "    print (x), col_num.remove(x)       "
   ]
  },
  {
   "cell_type": "code",
   "execution_count": 38,
   "metadata": {},
   "outputs": [
    {
     "data": {
      "text/plain": [
       "['NumberofBuildings',\n",
       " 'NumberofFloors',\n",
       " 'PropertyGFATotal',\n",
       " 'PropertyGFAParking',\n",
       " 'PropertyGFABuilding(s)',\n",
       " 'LargestPropertyUseTypeGFA',\n",
       " 'SourceEUIWN(kBtu/sf)',\n",
       " 'GHGEmissionsIntensity',\n",
       " 'BuildingAge']"
      ]
     },
     "execution_count": 38,
     "metadata": {},
     "output_type": "execute_result"
    }
   ],
   "source": [
    "# Vérification:\n",
    "col_num"
   ]
  },
  {
   "cell_type": "code",
   "execution_count": 39,
   "metadata": {},
   "outputs": [],
   "source": [
    "# Application de make_column_transformer car différent type de preprocessing requis pour les features.\n",
    "column_trans= make_column_transformer((OneHotEncoder(handle_unknown='ignore') ,col_categ), (StandardScaler(), col_num))"
   ]
  },
  {
   "cell_type": "markdown",
   "metadata": {},
   "source": [
    "#### Application du modèle basique de regression: LinearRegression"
   ]
  },
  {
   "cell_type": "code",
   "execution_count": 41,
   "metadata": {},
   "outputs": [
    {
     "data": {
      "text/plain": [
       "GridSearchCV(cv=5,\n",
       "             estimator=Pipeline(steps=[('columntransformer',\n",
       "                                        ColumnTransformer(transformers=[('onehotencoder',\n",
       "                                                                         OneHotEncoder(handle_unknown='ignore'),\n",
       "                                                                         ['PrimaryPropertyType',\n",
       "                                                                          'Neighborhood',\n",
       "                                                                          'LargestPropertyUseType',\n",
       "                                                                          'ComplianceStatus']),\n",
       "                                                                        ('standardscaler',\n",
       "                                                                         StandardScaler(),\n",
       "                                                                         ['NumberofBuildings',\n",
       "                                                                          'NumberofFloors',\n",
       "                                                                          'PropertyGFATotal',\n",
       "                                                                          'PropertyGFAParking',\n",
       "                                                                          'PropertyGFABuilding(s)',\n",
       "                                                                          'LargestPropertyUseTypeGFA',\n",
       "                                                                          'SourceEUIWN(kBtu/sf)',\n",
       "                                                                          'GHGEmissionsIntensity',\n",
       "                                                                          'BuildingAge'])])),\n",
       "                                       ('linearregression',\n",
       "                                        LinearRegression())]),\n",
       "             param_grid={'linearregression__fit_intercept': [True, False]},\n",
       "             scoring='r2')"
      ]
     },
     "execution_count": 41,
     "metadata": {},
     "output_type": "execute_result"
    }
   ],
   "source": [
    "lr = LinearRegression()\n",
    "# On crée le modèle à l'aide de pipeline\n",
    "pipe_lr= make_pipeline(column_trans,lr)\n",
    "#Grille de recherche:\n",
    "parameter= {'linearregression__fit_intercept':[True,False]}\n",
    "grid_lr= GridSearchCV(pipe_lr, parameter, cv=5,scoring='r2')\n",
    "grid_lr.fit(X_train,y_train)"
   ]
  },
  {
   "cell_type": "code",
   "execution_count": 42,
   "metadata": {},
   "outputs": [
    {
     "data": {
      "text/html": [
       "<style>#sk-3b24941a-6822-4858-b93d-055ff7fd8703 {color: black;background-color: white;}#sk-3b24941a-6822-4858-b93d-055ff7fd8703 pre{padding: 0;}#sk-3b24941a-6822-4858-b93d-055ff7fd8703 div.sk-toggleable {background-color: white;}#sk-3b24941a-6822-4858-b93d-055ff7fd8703 label.sk-toggleable__label {cursor: pointer;display: block;width: 100%;margin-bottom: 0;padding: 0.3em;box-sizing: border-box;text-align: center;}#sk-3b24941a-6822-4858-b93d-055ff7fd8703 label.sk-toggleable__label-arrow:before {content: \"▸\";float: left;margin-right: 0.25em;color: #696969;}#sk-3b24941a-6822-4858-b93d-055ff7fd8703 label.sk-toggleable__label-arrow:hover:before {color: black;}#sk-3b24941a-6822-4858-b93d-055ff7fd8703 div.sk-estimator:hover label.sk-toggleable__label-arrow:before {color: black;}#sk-3b24941a-6822-4858-b93d-055ff7fd8703 div.sk-toggleable__content {max-height: 0;max-width: 0;overflow: hidden;text-align: left;background-color: #f0f8ff;}#sk-3b24941a-6822-4858-b93d-055ff7fd8703 div.sk-toggleable__content pre {margin: 0.2em;color: black;border-radius: 0.25em;background-color: #f0f8ff;}#sk-3b24941a-6822-4858-b93d-055ff7fd8703 input.sk-toggleable__control:checked~div.sk-toggleable__content {max-height: 200px;max-width: 100%;overflow: auto;}#sk-3b24941a-6822-4858-b93d-055ff7fd8703 input.sk-toggleable__control:checked~label.sk-toggleable__label-arrow:before {content: \"▾\";}#sk-3b24941a-6822-4858-b93d-055ff7fd8703 div.sk-estimator input.sk-toggleable__control:checked~label.sk-toggleable__label {background-color: #d4ebff;}#sk-3b24941a-6822-4858-b93d-055ff7fd8703 div.sk-label input.sk-toggleable__control:checked~label.sk-toggleable__label {background-color: #d4ebff;}#sk-3b24941a-6822-4858-b93d-055ff7fd8703 input.sk-hidden--visually {border: 0;clip: rect(1px 1px 1px 1px);clip: rect(1px, 1px, 1px, 1px);height: 1px;margin: -1px;overflow: hidden;padding: 0;position: absolute;width: 1px;}#sk-3b24941a-6822-4858-b93d-055ff7fd8703 div.sk-estimator {font-family: monospace;background-color: #f0f8ff;border: 1px dotted black;border-radius: 0.25em;box-sizing: border-box;margin-bottom: 0.5em;}#sk-3b24941a-6822-4858-b93d-055ff7fd8703 div.sk-estimator:hover {background-color: #d4ebff;}#sk-3b24941a-6822-4858-b93d-055ff7fd8703 div.sk-parallel-item::after {content: \"\";width: 100%;border-bottom: 1px solid gray;flex-grow: 1;}#sk-3b24941a-6822-4858-b93d-055ff7fd8703 div.sk-label:hover label.sk-toggleable__label {background-color: #d4ebff;}#sk-3b24941a-6822-4858-b93d-055ff7fd8703 div.sk-serial::before {content: \"\";position: absolute;border-left: 1px solid gray;box-sizing: border-box;top: 2em;bottom: 0;left: 50%;}#sk-3b24941a-6822-4858-b93d-055ff7fd8703 div.sk-serial {display: flex;flex-direction: column;align-items: center;background-color: white;padding-right: 0.2em;padding-left: 0.2em;}#sk-3b24941a-6822-4858-b93d-055ff7fd8703 div.sk-item {z-index: 1;}#sk-3b24941a-6822-4858-b93d-055ff7fd8703 div.sk-parallel {display: flex;align-items: stretch;justify-content: center;background-color: white;}#sk-3b24941a-6822-4858-b93d-055ff7fd8703 div.sk-parallel::before {content: \"\";position: absolute;border-left: 1px solid gray;box-sizing: border-box;top: 2em;bottom: 0;left: 50%;}#sk-3b24941a-6822-4858-b93d-055ff7fd8703 div.sk-parallel-item {display: flex;flex-direction: column;position: relative;background-color: white;}#sk-3b24941a-6822-4858-b93d-055ff7fd8703 div.sk-parallel-item:first-child::after {align-self: flex-end;width: 50%;}#sk-3b24941a-6822-4858-b93d-055ff7fd8703 div.sk-parallel-item:last-child::after {align-self: flex-start;width: 50%;}#sk-3b24941a-6822-4858-b93d-055ff7fd8703 div.sk-parallel-item:only-child::after {width: 0;}#sk-3b24941a-6822-4858-b93d-055ff7fd8703 div.sk-dashed-wrapped {border: 1px dashed gray;margin: 0 0.4em 0.5em 0.4em;box-sizing: border-box;padding-bottom: 0.4em;background-color: white;position: relative;}#sk-3b24941a-6822-4858-b93d-055ff7fd8703 div.sk-label label {font-family: monospace;font-weight: bold;background-color: white;display: inline-block;line-height: 1.2em;}#sk-3b24941a-6822-4858-b93d-055ff7fd8703 div.sk-label-container {position: relative;z-index: 2;text-align: center;}#sk-3b24941a-6822-4858-b93d-055ff7fd8703 div.sk-container {/* jupyter's `normalize.less` sets `[hidden] { display: none; }` but bootstrap.min.css set `[hidden] { display: none !important; }` so we also need the `!important` here to be able to override the default hidden behavior on the sphinx rendered scikit-learn.org. See: https://github.com/scikit-learn/scikit-learn/issues/21755 */display: inline-block !important;position: relative;}#sk-3b24941a-6822-4858-b93d-055ff7fd8703 div.sk-text-repr-fallback {display: none;}</style><div id=\"sk-3b24941a-6822-4858-b93d-055ff7fd8703\" class=\"sk-top-container\"><div class=\"sk-text-repr-fallback\"><pre>Pipeline(steps=[(&#x27;columntransformer&#x27;,\n",
       "                 ColumnTransformer(transformers=[(&#x27;onehotencoder&#x27;,\n",
       "                                                  OneHotEncoder(handle_unknown=&#x27;ignore&#x27;),\n",
       "                                                  [&#x27;PrimaryPropertyType&#x27;,\n",
       "                                                   &#x27;Neighborhood&#x27;,\n",
       "                                                   &#x27;LargestPropertyUseType&#x27;,\n",
       "                                                   &#x27;ComplianceStatus&#x27;]),\n",
       "                                                 (&#x27;standardscaler&#x27;,\n",
       "                                                  StandardScaler(),\n",
       "                                                  [&#x27;NumberofBuildings&#x27;,\n",
       "                                                   &#x27;NumberofFloors&#x27;,\n",
       "                                                   &#x27;PropertyGFATotal&#x27;,\n",
       "                                                   &#x27;PropertyGFAParking&#x27;,\n",
       "                                                   &#x27;PropertyGFABuilding(s)&#x27;,\n",
       "                                                   &#x27;LargestPropertyUseTypeGFA&#x27;,\n",
       "                                                   &#x27;SourceEUIWN(kBtu/sf)&#x27;,\n",
       "                                                   &#x27;GHGEmissionsIntensity&#x27;,\n",
       "                                                   &#x27;BuildingAge&#x27;])])),\n",
       "                (&#x27;linearregression&#x27;, LinearRegression())])</pre><b>Please rerun this cell to show the HTML repr or trust the notebook.</b></div><div class=\"sk-container\" hidden><div class=\"sk-item sk-dashed-wrapped\"><div class=\"sk-label-container\"><div class=\"sk-label sk-toggleable\"><input class=\"sk-toggleable__control sk-hidden--visually\" id=\"ab23ce46-6d18-4d22-a441-cc8b57474ef8\" type=\"checkbox\" ><label for=\"ab23ce46-6d18-4d22-a441-cc8b57474ef8\" class=\"sk-toggleable__label sk-toggleable__label-arrow\">Pipeline</label><div class=\"sk-toggleable__content\"><pre>Pipeline(steps=[(&#x27;columntransformer&#x27;,\n",
       "                 ColumnTransformer(transformers=[(&#x27;onehotencoder&#x27;,\n",
       "                                                  OneHotEncoder(handle_unknown=&#x27;ignore&#x27;),\n",
       "                                                  [&#x27;PrimaryPropertyType&#x27;,\n",
       "                                                   &#x27;Neighborhood&#x27;,\n",
       "                                                   &#x27;LargestPropertyUseType&#x27;,\n",
       "                                                   &#x27;ComplianceStatus&#x27;]),\n",
       "                                                 (&#x27;standardscaler&#x27;,\n",
       "                                                  StandardScaler(),\n",
       "                                                  [&#x27;NumberofBuildings&#x27;,\n",
       "                                                   &#x27;NumberofFloors&#x27;,\n",
       "                                                   &#x27;PropertyGFATotal&#x27;,\n",
       "                                                   &#x27;PropertyGFAParking&#x27;,\n",
       "                                                   &#x27;PropertyGFABuilding(s)&#x27;,\n",
       "                                                   &#x27;LargestPropertyUseTypeGFA&#x27;,\n",
       "                                                   &#x27;SourceEUIWN(kBtu/sf)&#x27;,\n",
       "                                                   &#x27;GHGEmissionsIntensity&#x27;,\n",
       "                                                   &#x27;BuildingAge&#x27;])])),\n",
       "                (&#x27;linearregression&#x27;, LinearRegression())])</pre></div></div></div><div class=\"sk-serial\"><div class=\"sk-item sk-dashed-wrapped\"><div class=\"sk-label-container\"><div class=\"sk-label sk-toggleable\"><input class=\"sk-toggleable__control sk-hidden--visually\" id=\"bd5694e7-ea05-4505-9305-03796e4fe059\" type=\"checkbox\" ><label for=\"bd5694e7-ea05-4505-9305-03796e4fe059\" class=\"sk-toggleable__label sk-toggleable__label-arrow\">columntransformer: ColumnTransformer</label><div class=\"sk-toggleable__content\"><pre>ColumnTransformer(transformers=[(&#x27;onehotencoder&#x27;,\n",
       "                                 OneHotEncoder(handle_unknown=&#x27;ignore&#x27;),\n",
       "                                 [&#x27;PrimaryPropertyType&#x27;, &#x27;Neighborhood&#x27;,\n",
       "                                  &#x27;LargestPropertyUseType&#x27;,\n",
       "                                  &#x27;ComplianceStatus&#x27;]),\n",
       "                                (&#x27;standardscaler&#x27;, StandardScaler(),\n",
       "                                 [&#x27;NumberofBuildings&#x27;, &#x27;NumberofFloors&#x27;,\n",
       "                                  &#x27;PropertyGFATotal&#x27;, &#x27;PropertyGFAParking&#x27;,\n",
       "                                  &#x27;PropertyGFABuilding(s)&#x27;,\n",
       "                                  &#x27;LargestPropertyUseTypeGFA&#x27;,\n",
       "                                  &#x27;SourceEUIWN(kBtu/sf)&#x27;,\n",
       "                                  &#x27;GHGEmissionsIntensity&#x27;, &#x27;BuildingAge&#x27;])])</pre></div></div></div><div class=\"sk-parallel\"><div class=\"sk-parallel-item\"><div class=\"sk-item\"><div class=\"sk-label-container\"><div class=\"sk-label sk-toggleable\"><input class=\"sk-toggleable__control sk-hidden--visually\" id=\"35ba1f6f-8c59-434c-a7d8-97325a67080b\" type=\"checkbox\" ><label for=\"35ba1f6f-8c59-434c-a7d8-97325a67080b\" class=\"sk-toggleable__label sk-toggleable__label-arrow\">onehotencoder</label><div class=\"sk-toggleable__content\"><pre>[&#x27;PrimaryPropertyType&#x27;, &#x27;Neighborhood&#x27;, &#x27;LargestPropertyUseType&#x27;, &#x27;ComplianceStatus&#x27;]</pre></div></div></div><div class=\"sk-serial\"><div class=\"sk-item\"><div class=\"sk-estimator sk-toggleable\"><input class=\"sk-toggleable__control sk-hidden--visually\" id=\"9759863c-22a7-4e24-b914-5d8b8c25edfd\" type=\"checkbox\" ><label for=\"9759863c-22a7-4e24-b914-5d8b8c25edfd\" class=\"sk-toggleable__label sk-toggleable__label-arrow\">OneHotEncoder</label><div class=\"sk-toggleable__content\"><pre>OneHotEncoder(handle_unknown=&#x27;ignore&#x27;)</pre></div></div></div></div></div></div><div class=\"sk-parallel-item\"><div class=\"sk-item\"><div class=\"sk-label-container\"><div class=\"sk-label sk-toggleable\"><input class=\"sk-toggleable__control sk-hidden--visually\" id=\"882c34a6-276c-46a7-8d1b-9288419da682\" type=\"checkbox\" ><label for=\"882c34a6-276c-46a7-8d1b-9288419da682\" class=\"sk-toggleable__label sk-toggleable__label-arrow\">standardscaler</label><div class=\"sk-toggleable__content\"><pre>[&#x27;NumberofBuildings&#x27;, &#x27;NumberofFloors&#x27;, &#x27;PropertyGFATotal&#x27;, &#x27;PropertyGFAParking&#x27;, &#x27;PropertyGFABuilding(s)&#x27;, &#x27;LargestPropertyUseTypeGFA&#x27;, &#x27;SourceEUIWN(kBtu/sf)&#x27;, &#x27;GHGEmissionsIntensity&#x27;, &#x27;BuildingAge&#x27;]</pre></div></div></div><div class=\"sk-serial\"><div class=\"sk-item\"><div class=\"sk-estimator sk-toggleable\"><input class=\"sk-toggleable__control sk-hidden--visually\" id=\"ebf9f919-c1c6-42d2-93f3-4326532ca4fb\" type=\"checkbox\" ><label for=\"ebf9f919-c1c6-42d2-93f3-4326532ca4fb\" class=\"sk-toggleable__label sk-toggleable__label-arrow\">StandardScaler</label><div class=\"sk-toggleable__content\"><pre>StandardScaler()</pre></div></div></div></div></div></div></div></div><div class=\"sk-item\"><div class=\"sk-estimator sk-toggleable\"><input class=\"sk-toggleable__control sk-hidden--visually\" id=\"14bd5bb9-5a2c-4f64-8840-7a986024841d\" type=\"checkbox\" ><label for=\"14bd5bb9-5a2c-4f64-8840-7a986024841d\" class=\"sk-toggleable__label sk-toggleable__label-arrow\">LinearRegression</label><div class=\"sk-toggleable__content\"><pre>LinearRegression()</pre></div></div></div></div></div></div></div>"
      ],
      "text/plain": [
       "Pipeline(steps=[('columntransformer',\n",
       "                 ColumnTransformer(transformers=[('onehotencoder',\n",
       "                                                  OneHotEncoder(handle_unknown='ignore'),\n",
       "                                                  ['PrimaryPropertyType',\n",
       "                                                   'Neighborhood',\n",
       "                                                   'LargestPropertyUseType',\n",
       "                                                   'ComplianceStatus']),\n",
       "                                                 ('standardscaler',\n",
       "                                                  StandardScaler(),\n",
       "                                                  ['NumberofBuildings',\n",
       "                                                   'NumberofFloors',\n",
       "                                                   'PropertyGFATotal',\n",
       "                                                   'PropertyGFAParking',\n",
       "                                                   'PropertyGFABuilding(s)',\n",
       "                                                   'LargestPropertyUseTypeGFA',\n",
       "                                                   'SourceEUIWN(kBtu/sf)',\n",
       "                                                   'GHGEmissionsIntensity',\n",
       "                                                   'BuildingAge'])])),\n",
       "                ('linearregression', LinearRegression())])"
      ]
     },
     "execution_count": 42,
     "metadata": {},
     "output_type": "execute_result"
    }
   ],
   "source": [
    "from sklearn import set_config\n",
    "set_config(display=\"diagram\")\n",
    "pipe_lr"
   ]
  },
  {
   "cell_type": "code",
   "execution_count": 43,
   "metadata": {},
   "outputs": [
    {
     "name": "stdout",
     "output_type": "stream",
     "text": [
      "0.4193598154743145\n",
      "{'linearregression__fit_intercept': False}\n"
     ]
    }
   ],
   "source": [
    "print(grid_lr.best_score_)\n",
    "print(grid_lr.best_params_)"
   ]
  },
  {
   "cell_type": "code",
   "execution_count": 44,
   "metadata": {},
   "outputs": [
    {
     "data": {
      "text/plain": [
       "0.861911074501502"
      ]
     },
     "execution_count": 44,
     "metadata": {},
     "output_type": "execute_result"
    }
   ],
   "source": [
    "model_lr= grid_lr.best_estimator_\n",
    "pred_lr= model_lr.predict(X_test)\n",
    "r2_score(y_test, pred_lr)"
   ]
  },
  {
   "cell_type": "markdown",
   "metadata": {},
   "source": [
    "##### Implémentation d'une fonction pour calcul des métriques:"
   ]
  },
  {
   "cell_type": "code",
   "execution_count": 45,
   "metadata": {},
   "outputs": [],
   "source": [
    "def compute_scores(y_test, prediction):\n",
    "    \"\"\"Function which computes RMSE, MSE, MAE, Median AE and R^2 of a prediction compared to true values.\"\"\"\n",
    "      \n",
    "    rmse = mean_squared_error(y_test, prediction, squared=False)\n",
    "    mse = mean_squared_error(y_test, prediction, squared=True)\n",
    "    mae = mean_absolute_error(y_test, prediction)\n",
    "    median_ae = median_absolute_error(y_test, prediction)\n",
    "    r2 = r2_score(y_test, prediction)\n",
    "    \n",
    "    scores = [rmse, mse, mae, median_ae, r2]\n",
    "    \n",
    "    return scores"
   ]
  },
  {
   "cell_type": "code",
   "execution_count": 46,
   "metadata": {},
   "outputs": [
    {
     "data": {
      "text/plain": [
       "[920497.5077972258,\n",
       " 847315661860.9039,\n",
       " 636783.6816501155,\n",
       " 428218.7878392418,\n",
       " 0.861911074501502]"
      ]
     },
     "execution_count": 46,
     "metadata": {},
     "output_type": "execute_result"
    }
   ],
   "source": [
    "# calcul des métriques:\n",
    "compute_scores(y_test, pred_lr)"
   ]
  },
  {
   "cell_type": "markdown",
   "metadata": {},
   "source": [
    "##### Plot de comparaison entre y_test, pred_lr:"
   ]
  },
  {
   "cell_type": "code",
   "execution_count": 47,
   "metadata": {},
   "outputs": [
    {
     "data": {
      "image/png": "[encoded data removed]",
      "text/plain": [
       "<Figure size 432x288 with 1 Axes>"
      ]
     },
     "metadata": {
      "needs_background": "light"
     },
     "output_type": "display_data"
    }
   ],
   "source": [
    "import matplotlib.pyplot as plt\n",
    "fig, ax = plt.subplots()\n",
    "ax.scatter(y_test, pred_lr)\n",
    "ax.plot([y_test.min(), y_test.max()], [y_test.min(), y_test.max()], 'k--', lw=4)\n",
    "ax.set_xlabel('Measured')\n",
    "ax.set_ylabel('Predicted')\n",
    "plt.show()"
   ]
  },
  {
   "cell_type": "code",
   "execution_count": 48,
   "metadata": {},
   "outputs": [
    {
     "data": {
      "text/plain": [
       "<matplotlib.axes._subplots.AxesSubplot at 0x24152d04fc8>"
      ]
     },
     "execution_count": 48,
     "metadata": {},
     "output_type": "execute_result"
    },
    {
     "data": {
      "image/png": "[encoded data removed]",
      "text/plain": [
       "<Figure size 360x216 with 1 Axes>"
      ]
     },
     "metadata": {
      "needs_background": "light"
     },
     "output_type": "display_data"
    }
   ],
   "source": [
    "#Vérification:\n",
    "plt.figure(figsize=(5,3))\n",
    "df_filter['SiteEnergyUseWN(kBtu)'].plot.box(showmeans=True)"
   ]
  },
  {
   "cell_type": "markdown",
   "metadata": {},
   "source": [
    "#### Application du modèle: Ridge Regression"
   ]
  },
  {
   "cell_type": "code",
   "execution_count": 49,
   "metadata": {},
   "outputs": [],
   "source": [
    "# instaciation de l'objet:\n",
    "ridge= Ridge()\n",
    "# On crée le modèle à l'aide de pipeline\n",
    "pipe_ridge= make_pipeline(column_trans,ridge)"
   ]
  },
  {
   "cell_type": "markdown",
   "metadata": {},
   "source": [
    "##### Cross validation avec: cross_val_score()"
   ]
  },
  {
   "cell_type": "code",
   "execution_count": 50,
   "metadata": {},
   "outputs": [
    {
     "data": {
      "text/plain": [
       "array([ 0.66070191,  0.73313039, -0.78506292,  0.60873309,  0.72321502])"
      ]
     },
     "execution_count": 50,
     "metadata": {},
     "output_type": "execute_result"
    }
   ],
   "source": [
    "cross_val_score(pipe_ridge,X_train,y_train,cv=5,scoring='r2')"
   ]
  },
  {
   "cell_type": "markdown",
   "metadata": {},
   "source": [
    "##### Optimisation des hyperparamètres avec: GridSearchCV()"
   ]
  },
  {
   "cell_type": "code",
   "execution_count": 51,
   "metadata": {},
   "outputs": [],
   "source": [
    "# Définition des paramètres:\n",
    "#le paramètre alpha permet de corriger l'overfitting\n",
    "parameter= {'ridge__alpha': [5,10,15]}\n",
    "#Grille de recherche:\n",
    "grid_ridge= GridSearchCV(pipe_ridge ,parameter, cv=5,scoring='r2')"
   ]
  },
  {
   "cell_type": "code",
   "execution_count": 52,
   "metadata": {},
   "outputs": [
    {
     "data": {
      "text/html": [
       "<style>#sk-93d4c926-451a-4df3-ad36-72c21d731dfd {color: black;background-color: white;}#sk-93d4c926-451a-4df3-ad36-72c21d731dfd pre{padding: 0;}#sk-93d4c926-451a-4df3-ad36-72c21d731dfd div.sk-toggleable {background-color: white;}#sk-93d4c926-451a-4df3-ad36-72c21d731dfd label.sk-toggleable__label {cursor: pointer;display: block;width: 100%;margin-bottom: 0;padding: 0.3em;box-sizing: border-box;text-align: center;}#sk-93d4c926-451a-4df3-ad36-72c21d731dfd label.sk-toggleable__label-arrow:before {content: \"▸\";float: left;margin-right: 0.25em;color: #696969;}#sk-93d4c926-451a-4df3-ad36-72c21d731dfd label.sk-toggleable__label-arrow:hover:before {color: black;}#sk-93d4c926-451a-4df3-ad36-72c21d731dfd div.sk-estimator:hover label.sk-toggleable__label-arrow:before {color: black;}#sk-93d4c926-451a-4df3-ad36-72c21d731dfd div.sk-toggleable__content {max-height: 0;max-width: 0;overflow: hidden;text-align: left;background-color: #f0f8ff;}#sk-93d4c926-451a-4df3-ad36-72c21d731dfd div.sk-toggleable__content pre {margin: 0.2em;color: black;border-radius: 0.25em;background-color: #f0f8ff;}#sk-93d4c926-451a-4df3-ad36-72c21d731dfd input.sk-toggleable__control:checked~div.sk-toggleable__content {max-height: 200px;max-width: 100%;overflow: auto;}#sk-93d4c926-451a-4df3-ad36-72c21d731dfd input.sk-toggleable__control:checked~label.sk-toggleable__label-arrow:before {content: \"▾\";}#sk-93d4c926-451a-4df3-ad36-72c21d731dfd div.sk-estimator input.sk-toggleable__control:checked~label.sk-toggleable__label {background-color: #d4ebff;}#sk-93d4c926-451a-4df3-ad36-72c21d731dfd div.sk-label input.sk-toggleable__control:checked~label.sk-toggleable__label {background-color: #d4ebff;}#sk-93d4c926-451a-4df3-ad36-72c21d731dfd input.sk-hidden--visually {border: 0;clip: rect(1px 1px 1px 1px);clip: rect(1px, 1px, 1px, 1px);height: 1px;margin: -1px;overflow: hidden;padding: 0;position: absolute;width: 1px;}#sk-93d4c926-451a-4df3-ad36-72c21d731dfd div.sk-estimator {font-family: monospace;background-color: #f0f8ff;border: 1px dotted black;border-radius: 0.25em;box-sizing: border-box;margin-bottom: 0.5em;}#sk-93d4c926-451a-4df3-ad36-72c21d731dfd div.sk-estimator:hover {background-color: #d4ebff;}#sk-93d4c926-451a-4df3-ad36-72c21d731dfd div.sk-parallel-item::after {content: \"\";width: 100%;border-bottom: 1px solid gray;flex-grow: 1;}#sk-93d4c926-451a-4df3-ad36-72c21d731dfd div.sk-label:hover label.sk-toggleable__label {background-color: #d4ebff;}#sk-93d4c926-451a-4df3-ad36-72c21d731dfd div.sk-serial::before {content: \"\";position: absolute;border-left: 1px solid gray;box-sizing: border-box;top: 2em;bottom: 0;left: 50%;}#sk-93d4c926-451a-4df3-ad36-72c21d731dfd div.sk-serial {display: flex;flex-direction: column;align-items: center;background-color: white;padding-right: 0.2em;padding-left: 0.2em;}#sk-93d4c926-451a-4df3-ad36-72c21d731dfd div.sk-item {z-index: 1;}#sk-93d4c926-451a-4df3-ad36-72c21d731dfd div.sk-parallel {display: flex;align-items: stretch;justify-content: center;background-color: white;}#sk-93d4c926-451a-4df3-ad36-72c21d731dfd div.sk-parallel::before {content: \"\";position: absolute;border-left: 1px solid gray;box-sizing: border-box;top: 2em;bottom: 0;left: 50%;}#sk-93d4c926-451a-4df3-ad36-72c21d731dfd div.sk-parallel-item {display: flex;flex-direction: column;position: relative;background-color: white;}#sk-93d4c926-451a-4df3-ad36-72c21d731dfd div.sk-parallel-item:first-child::after {align-self: flex-end;width: 50%;}#sk-93d4c926-451a-4df3-ad36-72c21d731dfd div.sk-parallel-item:last-child::after {align-self: flex-start;width: 50%;}#sk-93d4c926-451a-4df3-ad36-72c21d731dfd div.sk-parallel-item:only-child::after {width: 0;}#sk-93d4c926-451a-4df3-ad36-72c21d731dfd div.sk-dashed-wrapped {border: 1px dashed gray;margin: 0 0.4em 0.5em 0.4em;box-sizing: border-box;padding-bottom: 0.4em;background-color: white;position: relative;}#sk-93d4c926-451a-4df3-ad36-72c21d731dfd div.sk-label label {font-family: monospace;font-weight: bold;background-color: white;display: inline-block;line-height: 1.2em;}#sk-93d4c926-451a-4df3-ad36-72c21d731dfd div.sk-label-container {position: relative;z-index: 2;text-align: center;}#sk-93d4c926-451a-4df3-ad36-72c21d731dfd div.sk-container {/* jupyter's `normalize.less` sets `[hidden] { display: none; }` but bootstrap.min.css set `[hidden] { display: none !important; }` so we also need the `!important` here to be able to override the default hidden behavior on the sphinx rendered scikit-learn.org. See: https://github.com/scikit-learn/scikit-learn/issues/21755 */display: inline-block !important;position: relative;}#sk-93d4c926-451a-4df3-ad36-72c21d731dfd div.sk-text-repr-fallback {display: none;}</style><div id=\"sk-93d4c926-451a-4df3-ad36-72c21d731dfd\" class=\"sk-top-container\"><div class=\"sk-text-repr-fallback\"><pre>GridSearchCV(cv=5,\n",
       "             estimator=Pipeline(steps=[(&#x27;columntransformer&#x27;,\n",
       "                                        ColumnTransformer(transformers=[(&#x27;onehotencoder&#x27;,\n",
       "                                                                         OneHotEncoder(handle_unknown=&#x27;ignore&#x27;),\n",
       "                                                                         [&#x27;PrimaryPropertyType&#x27;,\n",
       "                                                                          &#x27;Neighborhood&#x27;,\n",
       "                                                                          &#x27;LargestPropertyUseType&#x27;,\n",
       "                                                                          &#x27;ComplianceStatus&#x27;]),\n",
       "                                                                        (&#x27;standardscaler&#x27;,\n",
       "                                                                         StandardScaler(),\n",
       "                                                                         [&#x27;NumberofBuildings&#x27;,\n",
       "                                                                          &#x27;NumberofFloors&#x27;,\n",
       "                                                                          &#x27;PropertyGFATotal&#x27;,\n",
       "                                                                          &#x27;PropertyGFAParking&#x27;,\n",
       "                                                                          &#x27;PropertyGFABuilding(s)&#x27;,\n",
       "                                                                          &#x27;LargestPropertyUseTypeGFA&#x27;,\n",
       "                                                                          &#x27;SourceEUIWN(kBtu/sf)&#x27;,\n",
       "                                                                          &#x27;GHGEmissionsIntensity&#x27;,\n",
       "                                                                          &#x27;BuildingAge&#x27;])])),\n",
       "                                       (&#x27;ridge&#x27;, Ridge())]),\n",
       "             param_grid={&#x27;ridge__alpha&#x27;: [5, 10, 15]}, scoring=&#x27;r2&#x27;)</pre><b>Please rerun this cell to show the HTML repr or trust the notebook.</b></div><div class=\"sk-container\" hidden><div class=\"sk-item sk-dashed-wrapped\"><div class=\"sk-label-container\"><div class=\"sk-label sk-toggleable\"><input class=\"sk-toggleable__control sk-hidden--visually\" id=\"b43c4bf9-5021-459a-8f20-2c323db662de\" type=\"checkbox\" ><label for=\"b43c4bf9-5021-459a-8f20-2c323db662de\" class=\"sk-toggleable__label sk-toggleable__label-arrow\">GridSearchCV</label><div class=\"sk-toggleable__content\"><pre>GridSearchCV(cv=5,\n",
       "             estimator=Pipeline(steps=[(&#x27;columntransformer&#x27;,\n",
       "                                        ColumnTransformer(transformers=[(&#x27;onehotencoder&#x27;,\n",
       "                                                                         OneHotEncoder(handle_unknown=&#x27;ignore&#x27;),\n",
       "                                                                         [&#x27;PrimaryPropertyType&#x27;,\n",
       "                                                                          &#x27;Neighborhood&#x27;,\n",
       "                                                                          &#x27;LargestPropertyUseType&#x27;,\n",
       "                                                                          &#x27;ComplianceStatus&#x27;]),\n",
       "                                                                        (&#x27;standardscaler&#x27;,\n",
       "                                                                         StandardScaler(),\n",
       "                                                                         [&#x27;NumberofBuildings&#x27;,\n",
       "                                                                          &#x27;NumberofFloors&#x27;,\n",
       "                                                                          &#x27;PropertyGFATotal&#x27;,\n",
       "                                                                          &#x27;PropertyGFAParking&#x27;,\n",
       "                                                                          &#x27;PropertyGFABuilding(s)&#x27;,\n",
       "                                                                          &#x27;LargestPropertyUseTypeGFA&#x27;,\n",
       "                                                                          &#x27;SourceEUIWN(kBtu/sf)&#x27;,\n",
       "                                                                          &#x27;GHGEmissionsIntensity&#x27;,\n",
       "                                                                          &#x27;BuildingAge&#x27;])])),\n",
       "                                       (&#x27;ridge&#x27;, Ridge())]),\n",
       "             param_grid={&#x27;ridge__alpha&#x27;: [5, 10, 15]}, scoring=&#x27;r2&#x27;)</pre></div></div></div><div class=\"sk-parallel\"><div class=\"sk-parallel-item\"><div class=\"sk-item\"><div class=\"sk-serial\"><div class=\"sk-item\"><div class=\"sk-serial\"><div class=\"sk-item sk-dashed-wrapped\"><div class=\"sk-label-container\"><div class=\"sk-label sk-toggleable\"><input class=\"sk-toggleable__control sk-hidden--visually\" id=\"6500297d-f018-45ee-a0e6-aa6077f1a1f6\" type=\"checkbox\" ><label for=\"6500297d-f018-45ee-a0e6-aa6077f1a1f6\" class=\"sk-toggleable__label sk-toggleable__label-arrow\">columntransformer: ColumnTransformer</label><div class=\"sk-toggleable__content\"><pre>ColumnTransformer(transformers=[(&#x27;onehotencoder&#x27;,\n",
       "                                 OneHotEncoder(handle_unknown=&#x27;ignore&#x27;),\n",
       "                                 [&#x27;PrimaryPropertyType&#x27;, &#x27;Neighborhood&#x27;,\n",
       "                                  &#x27;LargestPropertyUseType&#x27;,\n",
       "                                  &#x27;ComplianceStatus&#x27;]),\n",
       "                                (&#x27;standardscaler&#x27;, StandardScaler(),\n",
       "                                 [&#x27;NumberofBuildings&#x27;, &#x27;NumberofFloors&#x27;,\n",
       "                                  &#x27;PropertyGFATotal&#x27;, &#x27;PropertyGFAParking&#x27;,\n",
       "                                  &#x27;PropertyGFABuilding(s)&#x27;,\n",
       "                                  &#x27;LargestPropertyUseTypeGFA&#x27;,\n",
       "                                  &#x27;SourceEUIWN(kBtu/sf)&#x27;,\n",
       "                                  &#x27;GHGEmissionsIntensity&#x27;, &#x27;BuildingAge&#x27;])])</pre></div></div></div><div class=\"sk-parallel\"><div class=\"sk-parallel-item\"><div class=\"sk-item\"><div class=\"sk-label-container\"><div class=\"sk-label sk-toggleable\"><input class=\"sk-toggleable__control sk-hidden--visually\" id=\"f7859b40-9b4b-4799-8ef1-151107d774e3\" type=\"checkbox\" ><label for=\"f7859b40-9b4b-4799-8ef1-151107d774e3\" class=\"sk-toggleable__label sk-toggleable__label-arrow\">onehotencoder</label><div class=\"sk-toggleable__content\"><pre>[&#x27;PrimaryPropertyType&#x27;, &#x27;Neighborhood&#x27;, &#x27;LargestPropertyUseType&#x27;, &#x27;ComplianceStatus&#x27;]</pre></div></div></div><div class=\"sk-serial\"><div class=\"sk-item\"><div class=\"sk-estimator sk-toggleable\"><input class=\"sk-toggleable__control sk-hidden--visually\" id=\"51731acc-6057-4684-b9fa-2fe8eeea1268\" type=\"checkbox\" ><label for=\"51731acc-6057-4684-b9fa-2fe8eeea1268\" class=\"sk-toggleable__label sk-toggleable__label-arrow\">OneHotEncoder</label><div class=\"sk-toggleable__content\"><pre>OneHotEncoder(handle_unknown=&#x27;ignore&#x27;)</pre></div></div></div></div></div></div><div class=\"sk-parallel-item\"><div class=\"sk-item\"><div class=\"sk-label-container\"><div class=\"sk-label sk-toggleable\"><input class=\"sk-toggleable__control sk-hidden--visually\" id=\"029976b4-da0d-4efe-b90d-4c7894606c68\" type=\"checkbox\" ><label for=\"029976b4-da0d-4efe-b90d-4c7894606c68\" class=\"sk-toggleable__label sk-toggleable__label-arrow\">standardscaler</label><div class=\"sk-toggleable__content\"><pre>[&#x27;NumberofBuildings&#x27;, &#x27;NumberofFloors&#x27;, &#x27;PropertyGFATotal&#x27;, &#x27;PropertyGFAParking&#x27;, &#x27;PropertyGFABuilding(s)&#x27;, &#x27;LargestPropertyUseTypeGFA&#x27;, &#x27;SourceEUIWN(kBtu/sf)&#x27;, &#x27;GHGEmissionsIntensity&#x27;, &#x27;BuildingAge&#x27;]</pre></div></div></div><div class=\"sk-serial\"><div class=\"sk-item\"><div class=\"sk-estimator sk-toggleable\"><input class=\"sk-toggleable__control sk-hidden--visually\" id=\"fe20e980-dae1-4031-8e07-379008f30d82\" type=\"checkbox\" ><label for=\"fe20e980-dae1-4031-8e07-379008f30d82\" class=\"sk-toggleable__label sk-toggleable__label-arrow\">StandardScaler</label><div class=\"sk-toggleable__content\"><pre>StandardScaler()</pre></div></div></div></div></div></div></div></div><div class=\"sk-item\"><div class=\"sk-estimator sk-toggleable\"><input class=\"sk-toggleable__control sk-hidden--visually\" id=\"c7bac38c-b0e9-4a04-885f-9dde19b8ea30\" type=\"checkbox\" ><label for=\"c7bac38c-b0e9-4a04-885f-9dde19b8ea30\" class=\"sk-toggleable__label sk-toggleable__label-arrow\">Ridge</label><div class=\"sk-toggleable__content\"><pre>Ridge()</pre></div></div></div></div></div></div></div></div></div></div></div></div>"
      ],
      "text/plain": [
       "GridSearchCV(cv=5,\n",
       "             estimator=Pipeline(steps=[('columntransformer',\n",
       "                                        ColumnTransformer(transformers=[('onehotencoder',\n",
       "                                                                         OneHotEncoder(handle_unknown='ignore'),\n",
       "                                                                         ['PrimaryPropertyType',\n",
       "                                                                          'Neighborhood',\n",
       "                                                                          'LargestPropertyUseType',\n",
       "                                                                          'ComplianceStatus']),\n",
       "                                                                        ('standardscaler',\n",
       "                                                                         StandardScaler(),\n",
       "                                                                         ['NumberofBuildings',\n",
       "                                                                          'NumberofFloors',\n",
       "                                                                          'PropertyGFATotal',\n",
       "                                                                          'PropertyGFAParking',\n",
       "                                                                          'PropertyGFABuilding(s)',\n",
       "                                                                          'LargestPropertyUseTypeGFA',\n",
       "                                                                          'SourceEUIWN(kBtu/sf)',\n",
       "                                                                          'GHGEmissionsIntensity',\n",
       "                                                                          'BuildingAge'])])),\n",
       "                                       ('ridge', Ridge())]),\n",
       "             param_grid={'ridge__alpha': [5, 10, 15]}, scoring='r2')"
      ]
     },
     "execution_count": 52,
     "metadata": {},
     "output_type": "execute_result"
    }
   ],
   "source": [
    "grid_ridge.fit(X_train,y_train)"
   ]
  },
  {
   "cell_type": "code",
   "execution_count": 53,
   "metadata": {},
   "outputs": [
    {
     "name": "stdout",
     "output_type": "stream",
     "text": [
      "0.38553343632833426\n",
      "{'ridge__alpha': 15}\n"
     ]
    }
   ],
   "source": [
    "print(grid_ridge.best_score_)\n",
    "print(grid_ridge.best_params_)"
   ]
  },
  {
   "cell_type": "code",
   "execution_count": 54,
   "metadata": {},
   "outputs": [
    {
     "data": {
      "text/plain": [
       "0.7278427978849189"
      ]
     },
     "execution_count": 54,
     "metadata": {},
     "output_type": "execute_result"
    }
   ],
   "source": [
    "model_ridge= grid_ridge.best_estimator_\n",
    "pred_ridge= model_ridge.predict(X_test)\n",
    "r2_score(y_test, pred_ridge)"
   ]
  },
  {
   "cell_type": "code",
   "execution_count": 55,
   "metadata": {},
   "outputs": [
    {
     "data": {
      "text/plain": [
       "[1292269.5398069324,\n",
       " 1669960563512.821,\n",
       " 838180.0526990155,\n",
       " 554727.1940761064,\n",
       " 0.7278427978849189]"
      ]
     },
     "execution_count": 55,
     "metadata": {},
     "output_type": "execute_result"
    }
   ],
   "source": [
    "# calcul des métriques:\n",
    "compute_scores(y_test, pred_ridge)"
   ]
  },
  {
   "cell_type": "markdown",
   "metadata": {},
   "source": [
    "##### Plot de comparaison entre y_test, pred_ridge:"
   ]
  },
  {
   "cell_type": "code",
   "execution_count": 56,
   "metadata": {},
   "outputs": [
    {
     "data": {
      "image/png": "[encoded data removed]",
      "text/plain": [
       "<Figure size 432x288 with 1 Axes>"
      ]
     },
     "metadata": {
      "needs_background": "light"
     },
     "output_type": "display_data"
    }
   ],
   "source": [
    "fig, ax = plt.subplots()\n",
    "ax.scatter(y_test, pred_ridge)\n",
    "ax.plot([y_test.min(), y_test.max()], [y_test.min(), y_test.max()], 'k--', lw=4)\n",
    "ax.set_xlabel('Measured')\n",
    "ax.set_ylabel('Predicted')\n",
    "plt.show()"
   ]
  },
  {
   "cell_type": "markdown",
   "metadata": {},
   "source": [
    "#### Application du modèle: Support Vector Regression"
   ]
  },
  {
   "cell_type": "code",
   "execution_count": 57,
   "metadata": {},
   "outputs": [],
   "source": [
    "# Instanciation de l'objet:\n",
    "svr= SVR()\n",
    "# On crée le modèle à l'aide de pipeline\n",
    "from sklearn.pipeline import make_pipeline\n",
    "pipe_svr= make_pipeline(column_trans,svr)"
   ]
  },
  {
   "cell_type": "code",
   "execution_count": 58,
   "metadata": {},
   "outputs": [
    {
     "data": {
      "text/plain": [
       "dict_keys(['memory', 'steps', 'verbose', 'columntransformer', 'svr', 'columntransformer__n_jobs', 'columntransformer__remainder', 'columntransformer__sparse_threshold', 'columntransformer__transformer_weights', 'columntransformer__transformers', 'columntransformer__verbose', 'columntransformer__verbose_feature_names_out', 'columntransformer__onehotencoder', 'columntransformer__standardscaler', 'columntransformer__onehotencoder__categories', 'columntransformer__onehotencoder__drop', 'columntransformer__onehotencoder__dtype', 'columntransformer__onehotencoder__handle_unknown', 'columntransformer__onehotencoder__sparse', 'columntransformer__standardscaler__copy', 'columntransformer__standardscaler__with_mean', 'columntransformer__standardscaler__with_std', 'svr__C', 'svr__cache_size', 'svr__coef0', 'svr__degree', 'svr__epsilon', 'svr__gamma', 'svr__kernel', 'svr__max_iter', 'svr__shrinking', 'svr__tol', 'svr__verbose'])"
      ]
     },
     "execution_count": 58,
     "metadata": {},
     "output_type": "execute_result"
    }
   ],
   "source": [
    "# liste des paramètres de l'estimateur:\n",
    "pipe_svr.get_params().keys()"
   ]
  },
  {
   "cell_type": "code",
   "execution_count": 59,
   "metadata": {},
   "outputs": [
    {
     "data": {
      "text/plain": [
       "array([-0.13752586, -0.20898778, -0.09798359, -0.05169826, -0.09387686])"
      ]
     },
     "execution_count": 59,
     "metadata": {},
     "output_type": "execute_result"
    }
   ],
   "source": [
    "# Cross validation avec: cross_val_score()\n",
    "cross_val_score(pipe_svr,X_train,y_train,cv=5)"
   ]
  },
  {
   "cell_type": "markdown",
   "metadata": {},
   "source": [
    "COMMENTAIRE:"
   ]
  },
  {
   "cell_type": "code",
   "execution_count": 60,
   "metadata": {},
   "outputs": [
    {
     "data": {
      "text/html": [
       "<style>#sk-7f71cce3-85bb-4dae-af3f-eae5b4d8ee20 {color: black;background-color: white;}#sk-7f71cce3-85bb-4dae-af3f-eae5b4d8ee20 pre{padding: 0;}#sk-7f71cce3-85bb-4dae-af3f-eae5b4d8ee20 div.sk-toggleable {background-color: white;}#sk-7f71cce3-85bb-4dae-af3f-eae5b4d8ee20 label.sk-toggleable__label {cursor: pointer;display: block;width: 100%;margin-bottom: 0;padding: 0.3em;box-sizing: border-box;text-align: center;}#sk-7f71cce3-85bb-4dae-af3f-eae5b4d8ee20 label.sk-toggleable__label-arrow:before {content: \"▸\";float: left;margin-right: 0.25em;color: #696969;}#sk-7f71cce3-85bb-4dae-af3f-eae5b4d8ee20 label.sk-toggleable__label-arrow:hover:before {color: black;}#sk-7f71cce3-85bb-4dae-af3f-eae5b4d8ee20 div.sk-estimator:hover label.sk-toggleable__label-arrow:before {color: black;}#sk-7f71cce3-85bb-4dae-af3f-eae5b4d8ee20 div.sk-toggleable__content {max-height: 0;max-width: 0;overflow: hidden;text-align: left;background-color: #f0f8ff;}#sk-7f71cce3-85bb-4dae-af3f-eae5b4d8ee20 div.sk-toggleable__content pre {margin: 0.2em;color: black;border-radius: 0.25em;background-color: #f0f8ff;}#sk-7f71cce3-85bb-4dae-af3f-eae5b4d8ee20 input.sk-toggleable__control:checked~div.sk-toggleable__content {max-height: 200px;max-width: 100%;overflow: auto;}#sk-7f71cce3-85bb-4dae-af3f-eae5b4d8ee20 input.sk-toggleable__control:checked~label.sk-toggleable__label-arrow:before {content: \"▾\";}#sk-7f71cce3-85bb-4dae-af3f-eae5b4d8ee20 div.sk-estimator input.sk-toggleable__control:checked~label.sk-toggleable__label {background-color: #d4ebff;}#sk-7f71cce3-85bb-4dae-af3f-eae5b4d8ee20 div.sk-label input.sk-toggleable__control:checked~label.sk-toggleable__label {background-color: #d4ebff;}#sk-7f71cce3-85bb-4dae-af3f-eae5b4d8ee20 input.sk-hidden--visually {border: 0;clip: rect(1px 1px 1px 1px);clip: rect(1px, 1px, 1px, 1px);height: 1px;margin: -1px;overflow: hidden;padding: 0;position: absolute;width: 1px;}#sk-7f71cce3-85bb-4dae-af3f-eae5b4d8ee20 div.sk-estimator {font-family: monospace;background-color: #f0f8ff;border: 1px dotted black;border-radius: 0.25em;box-sizing: border-box;margin-bottom: 0.5em;}#sk-7f71cce3-85bb-4dae-af3f-eae5b4d8ee20 div.sk-estimator:hover {background-color: #d4ebff;}#sk-7f71cce3-85bb-4dae-af3f-eae5b4d8ee20 div.sk-parallel-item::after {content: \"\";width: 100%;border-bottom: 1px solid gray;flex-grow: 1;}#sk-7f71cce3-85bb-4dae-af3f-eae5b4d8ee20 div.sk-label:hover label.sk-toggleable__label {background-color: #d4ebff;}#sk-7f71cce3-85bb-4dae-af3f-eae5b4d8ee20 div.sk-serial::before {content: \"\";position: absolute;border-left: 1px solid gray;box-sizing: border-box;top: 2em;bottom: 0;left: 50%;}#sk-7f71cce3-85bb-4dae-af3f-eae5b4d8ee20 div.sk-serial {display: flex;flex-direction: column;align-items: center;background-color: white;padding-right: 0.2em;padding-left: 0.2em;}#sk-7f71cce3-85bb-4dae-af3f-eae5b4d8ee20 div.sk-item {z-index: 1;}#sk-7f71cce3-85bb-4dae-af3f-eae5b4d8ee20 div.sk-parallel {display: flex;align-items: stretch;justify-content: center;background-color: white;}#sk-7f71cce3-85bb-4dae-af3f-eae5b4d8ee20 div.sk-parallel::before {content: \"\";position: absolute;border-left: 1px solid gray;box-sizing: border-box;top: 2em;bottom: 0;left: 50%;}#sk-7f71cce3-85bb-4dae-af3f-eae5b4d8ee20 div.sk-parallel-item {display: flex;flex-direction: column;position: relative;background-color: white;}#sk-7f71cce3-85bb-4dae-af3f-eae5b4d8ee20 div.sk-parallel-item:first-child::after {align-self: flex-end;width: 50%;}#sk-7f71cce3-85bb-4dae-af3f-eae5b4d8ee20 div.sk-parallel-item:last-child::after {align-self: flex-start;width: 50%;}#sk-7f71cce3-85bb-4dae-af3f-eae5b4d8ee20 div.sk-parallel-item:only-child::after {width: 0;}#sk-7f71cce3-85bb-4dae-af3f-eae5b4d8ee20 div.sk-dashed-wrapped {border: 1px dashed gray;margin: 0 0.4em 0.5em 0.4em;box-sizing: border-box;padding-bottom: 0.4em;background-color: white;position: relative;}#sk-7f71cce3-85bb-4dae-af3f-eae5b4d8ee20 div.sk-label label {font-family: monospace;font-weight: bold;background-color: white;display: inline-block;line-height: 1.2em;}#sk-7f71cce3-85bb-4dae-af3f-eae5b4d8ee20 div.sk-label-container {position: relative;z-index: 2;text-align: center;}#sk-7f71cce3-85bb-4dae-af3f-eae5b4d8ee20 div.sk-container {/* jupyter's `normalize.less` sets `[hidden] { display: none; }` but bootstrap.min.css set `[hidden] { display: none !important; }` so we also need the `!important` here to be able to override the default hidden behavior on the sphinx rendered scikit-learn.org. See: https://github.com/scikit-learn/scikit-learn/issues/21755 */display: inline-block !important;position: relative;}#sk-7f71cce3-85bb-4dae-af3f-eae5b4d8ee20 div.sk-text-repr-fallback {display: none;}</style><div id=\"sk-7f71cce3-85bb-4dae-af3f-eae5b4d8ee20\" class=\"sk-top-container\"><div class=\"sk-text-repr-fallback\"><pre>GridSearchCV(cv=5,\n",
       "             estimator=Pipeline(steps=[(&#x27;columntransformer&#x27;,\n",
       "                                        ColumnTransformer(transformers=[(&#x27;onehotencoder&#x27;,\n",
       "                                                                         OneHotEncoder(handle_unknown=&#x27;ignore&#x27;),\n",
       "                                                                         [&#x27;PrimaryPropertyType&#x27;,\n",
       "                                                                          &#x27;Neighborhood&#x27;,\n",
       "                                                                          &#x27;LargestPropertyUseType&#x27;,\n",
       "                                                                          &#x27;ComplianceStatus&#x27;]),\n",
       "                                                                        (&#x27;standardscaler&#x27;,\n",
       "                                                                         StandardScaler(),\n",
       "                                                                         [&#x27;NumberofBuildings&#x27;,\n",
       "                                                                          &#x27;NumberofFloors&#x27;,\n",
       "                                                                          &#x27;PropertyGFATotal&#x27;,\n",
       "                                                                          &#x27;PropertyGFAParking&#x27;,\n",
       "                                                                          &#x27;PropertyGFABuilding(s)&#x27;,\n",
       "                                                                          &#x27;LargestPropertyUseTypeGFA&#x27;,\n",
       "                                                                          &#x27;SourceEUIWN(kBtu/sf)&#x27;,\n",
       "                                                                          &#x27;GHGEmissionsIntensity&#x27;,\n",
       "                                                                          &#x27;BuildingAge&#x27;])])),\n",
       "                                       (&#x27;svr&#x27;, SVR())]),\n",
       "             param_grid={&#x27;svr__kernel&#x27;: (&#x27;poly&#x27;, &#x27;linear&#x27;, &#x27;rbf&#x27;)},\n",
       "             scoring=&#x27;r2&#x27;)</pre><b>Please rerun this cell to show the HTML repr or trust the notebook.</b></div><div class=\"sk-container\" hidden><div class=\"sk-item sk-dashed-wrapped\"><div class=\"sk-label-container\"><div class=\"sk-label sk-toggleable\"><input class=\"sk-toggleable__control sk-hidden--visually\" id=\"87e1cae6-f8b3-4913-aa0c-06e2e389bd8c\" type=\"checkbox\" ><label for=\"87e1cae6-f8b3-4913-aa0c-06e2e389bd8c\" class=\"sk-toggleable__label sk-toggleable__label-arrow\">GridSearchCV</label><div class=\"sk-toggleable__content\"><pre>GridSearchCV(cv=5,\n",
       "             estimator=Pipeline(steps=[(&#x27;columntransformer&#x27;,\n",
       "                                        ColumnTransformer(transformers=[(&#x27;onehotencoder&#x27;,\n",
       "                                                                         OneHotEncoder(handle_unknown=&#x27;ignore&#x27;),\n",
       "                                                                         [&#x27;PrimaryPropertyType&#x27;,\n",
       "                                                                          &#x27;Neighborhood&#x27;,\n",
       "                                                                          &#x27;LargestPropertyUseType&#x27;,\n",
       "                                                                          &#x27;ComplianceStatus&#x27;]),\n",
       "                                                                        (&#x27;standardscaler&#x27;,\n",
       "                                                                         StandardScaler(),\n",
       "                                                                         [&#x27;NumberofBuildings&#x27;,\n",
       "                                                                          &#x27;NumberofFloors&#x27;,\n",
       "                                                                          &#x27;PropertyGFATotal&#x27;,\n",
       "                                                                          &#x27;PropertyGFAParking&#x27;,\n",
       "                                                                          &#x27;PropertyGFABuilding(s)&#x27;,\n",
       "                                                                          &#x27;LargestPropertyUseTypeGFA&#x27;,\n",
       "                                                                          &#x27;SourceEUIWN(kBtu/sf)&#x27;,\n",
       "                                                                          &#x27;GHGEmissionsIntensity&#x27;,\n",
       "                                                                          &#x27;BuildingAge&#x27;])])),\n",
       "                                       (&#x27;svr&#x27;, SVR())]),\n",
       "             param_grid={&#x27;svr__kernel&#x27;: (&#x27;poly&#x27;, &#x27;linear&#x27;, &#x27;rbf&#x27;)},\n",
       "             scoring=&#x27;r2&#x27;)</pre></div></div></div><div class=\"sk-parallel\"><div class=\"sk-parallel-item\"><div class=\"sk-item\"><div class=\"sk-serial\"><div class=\"sk-item\"><div class=\"sk-serial\"><div class=\"sk-item sk-dashed-wrapped\"><div class=\"sk-label-container\"><div class=\"sk-label sk-toggleable\"><input class=\"sk-toggleable__control sk-hidden--visually\" id=\"0607b4c3-a7df-43cd-afdd-3b8ee6f72e6b\" type=\"checkbox\" ><label for=\"0607b4c3-a7df-43cd-afdd-3b8ee6f72e6b\" class=\"sk-toggleable__label sk-toggleable__label-arrow\">columntransformer: ColumnTransformer</label><div class=\"sk-toggleable__content\"><pre>ColumnTransformer(transformers=[(&#x27;onehotencoder&#x27;,\n",
       "                                 OneHotEncoder(handle_unknown=&#x27;ignore&#x27;),\n",
       "                                 [&#x27;PrimaryPropertyType&#x27;, &#x27;Neighborhood&#x27;,\n",
       "                                  &#x27;LargestPropertyUseType&#x27;,\n",
       "                                  &#x27;ComplianceStatus&#x27;]),\n",
       "                                (&#x27;standardscaler&#x27;, StandardScaler(),\n",
       "                                 [&#x27;NumberofBuildings&#x27;, &#x27;NumberofFloors&#x27;,\n",
       "                                  &#x27;PropertyGFATotal&#x27;, &#x27;PropertyGFAParking&#x27;,\n",
       "                                  &#x27;PropertyGFABuilding(s)&#x27;,\n",
       "                                  &#x27;LargestPropertyUseTypeGFA&#x27;,\n",
       "                                  &#x27;SourceEUIWN(kBtu/sf)&#x27;,\n",
       "                                  &#x27;GHGEmissionsIntensity&#x27;, &#x27;BuildingAge&#x27;])])</pre></div></div></div><div class=\"sk-parallel\"><div class=\"sk-parallel-item\"><div class=\"sk-item\"><div class=\"sk-label-container\"><div class=\"sk-label sk-toggleable\"><input class=\"sk-toggleable__control sk-hidden--visually\" id=\"91c11a57-a643-47f9-84ea-6c082ea0f681\" type=\"checkbox\" ><label for=\"91c11a57-a643-47f9-84ea-6c082ea0f681\" class=\"sk-toggleable__label sk-toggleable__label-arrow\">onehotencoder</label><div class=\"sk-toggleable__content\"><pre>[&#x27;PrimaryPropertyType&#x27;, &#x27;Neighborhood&#x27;, &#x27;LargestPropertyUseType&#x27;, &#x27;ComplianceStatus&#x27;]</pre></div></div></div><div class=\"sk-serial\"><div class=\"sk-item\"><div class=\"sk-estimator sk-toggleable\"><input class=\"sk-toggleable__control sk-hidden--visually\" id=\"5f9f827e-3fe9-44e3-bf90-f0cb69f99316\" type=\"checkbox\" ><label for=\"5f9f827e-3fe9-44e3-bf90-f0cb69f99316\" class=\"sk-toggleable__label sk-toggleable__label-arrow\">OneHotEncoder</label><div class=\"sk-toggleable__content\"><pre>OneHotEncoder(handle_unknown=&#x27;ignore&#x27;)</pre></div></div></div></div></div></div><div class=\"sk-parallel-item\"><div class=\"sk-item\"><div class=\"sk-label-container\"><div class=\"sk-label sk-toggleable\"><input class=\"sk-toggleable__control sk-hidden--visually\" id=\"483ac26a-7c6f-4db9-a8e8-9d822036a982\" type=\"checkbox\" ><label for=\"483ac26a-7c6f-4db9-a8e8-9d822036a982\" class=\"sk-toggleable__label sk-toggleable__label-arrow\">standardscaler</label><div class=\"sk-toggleable__content\"><pre>[&#x27;NumberofBuildings&#x27;, &#x27;NumberofFloors&#x27;, &#x27;PropertyGFATotal&#x27;, &#x27;PropertyGFAParking&#x27;, &#x27;PropertyGFABuilding(s)&#x27;, &#x27;LargestPropertyUseTypeGFA&#x27;, &#x27;SourceEUIWN(kBtu/sf)&#x27;, &#x27;GHGEmissionsIntensity&#x27;, &#x27;BuildingAge&#x27;]</pre></div></div></div><div class=\"sk-serial\"><div class=\"sk-item\"><div class=\"sk-estimator sk-toggleable\"><input class=\"sk-toggleable__control sk-hidden--visually\" id=\"5d71b0dc-7c11-4dd2-afe2-9e4bab888a65\" type=\"checkbox\" ><label for=\"5d71b0dc-7c11-4dd2-afe2-9e4bab888a65\" class=\"sk-toggleable__label sk-toggleable__label-arrow\">StandardScaler</label><div class=\"sk-toggleable__content\"><pre>StandardScaler()</pre></div></div></div></div></div></div></div></div><div class=\"sk-item\"><div class=\"sk-estimator sk-toggleable\"><input class=\"sk-toggleable__control sk-hidden--visually\" id=\"1c9278f1-a1b6-477c-a303-c03c3e5d17f1\" type=\"checkbox\" ><label for=\"1c9278f1-a1b6-477c-a303-c03c3e5d17f1\" class=\"sk-toggleable__label sk-toggleable__label-arrow\">SVR</label><div class=\"sk-toggleable__content\"><pre>SVR()</pre></div></div></div></div></div></div></div></div></div></div></div></div>"
      ],
      "text/plain": [
       "GridSearchCV(cv=5,\n",
       "             estimator=Pipeline(steps=[('columntransformer',\n",
       "                                        ColumnTransformer(transformers=[('onehotencoder',\n",
       "                                                                         OneHotEncoder(handle_unknown='ignore'),\n",
       "                                                                         ['PrimaryPropertyType',\n",
       "                                                                          'Neighborhood',\n",
       "                                                                          'LargestPropertyUseType',\n",
       "                                                                          'ComplianceStatus']),\n",
       "                                                                        ('standardscaler',\n",
       "                                                                         StandardScaler(),\n",
       "                                                                         ['NumberofBuildings',\n",
       "                                                                          'NumberofFloors',\n",
       "                                                                          'PropertyGFATotal',\n",
       "                                                                          'PropertyGFAParking',\n",
       "                                                                          'PropertyGFABuilding(s)',\n",
       "                                                                          'LargestPropertyUseTypeGFA',\n",
       "                                                                          'SourceEUIWN(kBtu/sf)',\n",
       "                                                                          'GHGEmissionsIntensity',\n",
       "                                                                          'BuildingAge'])])),\n",
       "                                       ('svr', SVR())]),\n",
       "             param_grid={'svr__kernel': ('poly', 'linear', 'rbf')},\n",
       "             scoring='r2')"
      ]
     },
     "execution_count": 60,
     "metadata": {},
     "output_type": "execute_result"
    }
   ],
   "source": [
    "# Optimisation des hyperparamètres avec: GridSearchCV()\n",
    "parameters = {'svr__kernel': ('poly','linear','rbf')}\n",
    "#Grille de recherche:\n",
    "grid_svr= GridSearchCV(pipe_svr,parameters, cv=5,scoring='r2')\n",
    "grid_svr.fit(X_train,y_train)"
   ]
  },
  {
   "cell_type": "code",
   "execution_count": 61,
   "metadata": {},
   "outputs": [
    {
     "name": "stdout",
     "output_type": "stream",
     "text": [
      "-0.117382768633053\n",
      "{'svr__kernel': 'linear'}\n"
     ]
    }
   ],
   "source": [
    "print(grid_svr.best_score_)\n",
    "print(grid_svr.best_params_)"
   ]
  },
  {
   "cell_type": "code",
   "execution_count": 62,
   "metadata": {},
   "outputs": [
    {
     "data": {
      "text/plain": [
       "-0.11099994456131324"
      ]
     },
     "execution_count": 62,
     "metadata": {},
     "output_type": "execute_result"
    }
   ],
   "source": [
    "model_svr= grid_svr.best_estimator_\n",
    "pred_svr= model_svr.predict(X_test)\n",
    "r2_score(y_test, pred_svr)"
   ]
  },
  {
   "cell_type": "code",
   "execution_count": 63,
   "metadata": {},
   "outputs": [
    {
     "data": {
      "text/plain": [
       "[2610959.952126411,\n",
       " 6817111871607.948,\n",
       " 1857889.0572750247,\n",
       " 1302310.1335317548,\n",
       " -0.11099994456131324]"
      ]
     },
     "execution_count": 63,
     "metadata": {},
     "output_type": "execute_result"
    }
   ],
   "source": [
    "# calcul des métriques:\n",
    "compute_scores(y_test, pred_svr)"
   ]
  },
  {
   "cell_type": "code",
   "execution_count": 64,
   "metadata": {},
   "outputs": [
    {
     "data": {
      "image/png": "[encoded data removed]",
      "text/plain": [
       "<Figure size 432x288 with 1 Axes>"
      ]
     },
     "metadata": {
      "needs_background": "light"
     },
     "output_type": "display_data"
    }
   ],
   "source": [
    "fig, ax = plt.subplots()\n",
    "ax.scatter(y_test, pred_svr)\n",
    "ax.plot([y_test.min(), y_test.max()], [y_test.min(), y_test.max()], 'k--', lw=4)\n",
    "ax.set_xlabel('Measured')\n",
    "ax.set_ylabel('Predicted')\n",
    "plt.show()"
   ]
  },
  {
   "cell_type": "markdown",
   "metadata": {},
   "source": [
    "COMMENTAIRE:"
   ]
  },
  {
   "cell_type": "markdown",
   "metadata": {},
   "source": [
    "#### Application du modèle: Lasso"
   ]
  },
  {
   "cell_type": "markdown",
   "metadata": {},
   "source": [
    "Ce modèle est pratique pour écarter les features non pertinents."
   ]
  },
  {
   "cell_type": "code",
   "execution_count": 65,
   "metadata": {},
   "outputs": [],
   "source": [
    "lasso= Lasso(tol=0.1)\n",
    "# On crée le modèle à l'aide de pipeline\n",
    "pipe_lasso= make_pipeline(column_trans,lasso)"
   ]
  },
  {
   "cell_type": "code",
   "execution_count": 66,
   "metadata": {},
   "outputs": [
    {
     "data": {
      "text/plain": [
       "dict_keys(['memory', 'steps', 'verbose', 'columntransformer', 'lasso', 'columntransformer__n_jobs', 'columntransformer__remainder', 'columntransformer__sparse_threshold', 'columntransformer__transformer_weights', 'columntransformer__transformers', 'columntransformer__verbose', 'columntransformer__verbose_feature_names_out', 'columntransformer__onehotencoder', 'columntransformer__standardscaler', 'columntransformer__onehotencoder__categories', 'columntransformer__onehotencoder__drop', 'columntransformer__onehotencoder__dtype', 'columntransformer__onehotencoder__handle_unknown', 'columntransformer__onehotencoder__sparse', 'columntransformer__standardscaler__copy', 'columntransformer__standardscaler__with_mean', 'columntransformer__standardscaler__with_std', 'lasso__alpha', 'lasso__copy_X', 'lasso__fit_intercept', 'lasso__max_iter', 'lasso__normalize', 'lasso__positive', 'lasso__precompute', 'lasso__random_state', 'lasso__selection', 'lasso__tol', 'lasso__warm_start'])"
      ]
     },
     "execution_count": 66,
     "metadata": {},
     "output_type": "execute_result"
    }
   ],
   "source": [
    "# liste des paramètres de l'estimateur:\n",
    "pipe_lasso.get_params().keys()"
   ]
  },
  {
   "cell_type": "code",
   "execution_count": 67,
   "metadata": {},
   "outputs": [
    {
     "data": {
      "text/plain": [
       "0.41609173032016916"
      ]
     },
     "execution_count": 67,
     "metadata": {},
     "output_type": "execute_result"
    }
   ],
   "source": [
    "# Cross validation avec: cross_val_score()\n",
    "cross_val_score(pipe_lasso,X_train,y_train,cv=5).mean()"
   ]
  },
  {
   "cell_type": "code",
   "execution_count": 68,
   "metadata": {},
   "outputs": [
    {
     "data": {
      "text/html": [
       "<style>#sk-859c8765-d35e-4a5c-b21f-6570cdf27ad9 {color: black;background-color: white;}#sk-859c8765-d35e-4a5c-b21f-6570cdf27ad9 pre{padding: 0;}#sk-859c8765-d35e-4a5c-b21f-6570cdf27ad9 div.sk-toggleable {background-color: white;}#sk-859c8765-d35e-4a5c-b21f-6570cdf27ad9 label.sk-toggleable__label {cursor: pointer;display: block;width: 100%;margin-bottom: 0;padding: 0.3em;box-sizing: border-box;text-align: center;}#sk-859c8765-d35e-4a5c-b21f-6570cdf27ad9 label.sk-toggleable__label-arrow:before {content: \"▸\";float: left;margin-right: 0.25em;color: #696969;}#sk-859c8765-d35e-4a5c-b21f-6570cdf27ad9 label.sk-toggleable__label-arrow:hover:before {color: black;}#sk-859c8765-d35e-4a5c-b21f-6570cdf27ad9 div.sk-estimator:hover label.sk-toggleable__label-arrow:before {color: black;}#sk-859c8765-d35e-4a5c-b21f-6570cdf27ad9 div.sk-toggleable__content {max-height: 0;max-width: 0;overflow: hidden;text-align: left;background-color: #f0f8ff;}#sk-859c8765-d35e-4a5c-b21f-6570cdf27ad9 div.sk-toggleable__content pre {margin: 0.2em;color: black;border-radius: 0.25em;background-color: #f0f8ff;}#sk-859c8765-d35e-4a5c-b21f-6570cdf27ad9 input.sk-toggleable__control:checked~div.sk-toggleable__content {max-height: 200px;max-width: 100%;overflow: auto;}#sk-859c8765-d35e-4a5c-b21f-6570cdf27ad9 input.sk-toggleable__control:checked~label.sk-toggleable__label-arrow:before {content: \"▾\";}#sk-859c8765-d35e-4a5c-b21f-6570cdf27ad9 div.sk-estimator input.sk-toggleable__control:checked~label.sk-toggleable__label {background-color: #d4ebff;}#sk-859c8765-d35e-4a5c-b21f-6570cdf27ad9 div.sk-label input.sk-toggleable__control:checked~label.sk-toggleable__label {background-color: #d4ebff;}#sk-859c8765-d35e-4a5c-b21f-6570cdf27ad9 input.sk-hidden--visually {border: 0;clip: rect(1px 1px 1px 1px);clip: rect(1px, 1px, 1px, 1px);height: 1px;margin: -1px;overflow: hidden;padding: 0;position: absolute;width: 1px;}#sk-859c8765-d35e-4a5c-b21f-6570cdf27ad9 div.sk-estimator {font-family: monospace;background-color: #f0f8ff;border: 1px dotted black;border-radius: 0.25em;box-sizing: border-box;margin-bottom: 0.5em;}#sk-859c8765-d35e-4a5c-b21f-6570cdf27ad9 div.sk-estimator:hover {background-color: #d4ebff;}#sk-859c8765-d35e-4a5c-b21f-6570cdf27ad9 div.sk-parallel-item::after {content: \"\";width: 100%;border-bottom: 1px solid gray;flex-grow: 1;}#sk-859c8765-d35e-4a5c-b21f-6570cdf27ad9 div.sk-label:hover label.sk-toggleable__label {background-color: #d4ebff;}#sk-859c8765-d35e-4a5c-b21f-6570cdf27ad9 div.sk-serial::before {content: \"\";position: absolute;border-left: 1px solid gray;box-sizing: border-box;top: 2em;bottom: 0;left: 50%;}#sk-859c8765-d35e-4a5c-b21f-6570cdf27ad9 div.sk-serial {display: flex;flex-direction: column;align-items: center;background-color: white;padding-right: 0.2em;padding-left: 0.2em;}#sk-859c8765-d35e-4a5c-b21f-6570cdf27ad9 div.sk-item {z-index: 1;}#sk-859c8765-d35e-4a5c-b21f-6570cdf27ad9 div.sk-parallel {display: flex;align-items: stretch;justify-content: center;background-color: white;}#sk-859c8765-d35e-4a5c-b21f-6570cdf27ad9 div.sk-parallel::before {content: \"\";position: absolute;border-left: 1px solid gray;box-sizing: border-box;top: 2em;bottom: 0;left: 50%;}#sk-859c8765-d35e-4a5c-b21f-6570cdf27ad9 div.sk-parallel-item {display: flex;flex-direction: column;position: relative;background-color: white;}#sk-859c8765-d35e-4a5c-b21f-6570cdf27ad9 div.sk-parallel-item:first-child::after {align-self: flex-end;width: 50%;}#sk-859c8765-d35e-4a5c-b21f-6570cdf27ad9 div.sk-parallel-item:last-child::after {align-self: flex-start;width: 50%;}#sk-859c8765-d35e-4a5c-b21f-6570cdf27ad9 div.sk-parallel-item:only-child::after {width: 0;}#sk-859c8765-d35e-4a5c-b21f-6570cdf27ad9 div.sk-dashed-wrapped {border: 1px dashed gray;margin: 0 0.4em 0.5em 0.4em;box-sizing: border-box;padding-bottom: 0.4em;background-color: white;position: relative;}#sk-859c8765-d35e-4a5c-b21f-6570cdf27ad9 div.sk-label label {font-family: monospace;font-weight: bold;background-color: white;display: inline-block;line-height: 1.2em;}#sk-859c8765-d35e-4a5c-b21f-6570cdf27ad9 div.sk-label-container {position: relative;z-index: 2;text-align: center;}#sk-859c8765-d35e-4a5c-b21f-6570cdf27ad9 div.sk-container {/* jupyter's `normalize.less` sets `[hidden] { display: none; }` but bootstrap.min.css set `[hidden] { display: none !important; }` so we also need the `!important` here to be able to override the default hidden behavior on the sphinx rendered scikit-learn.org. See: https://github.com/scikit-learn/scikit-learn/issues/21755 */display: inline-block !important;position: relative;}#sk-859c8765-d35e-4a5c-b21f-6570cdf27ad9 div.sk-text-repr-fallback {display: none;}</style><div id=\"sk-859c8765-d35e-4a5c-b21f-6570cdf27ad9\" class=\"sk-top-container\"><div class=\"sk-text-repr-fallback\"><pre>GridSearchCV(cv=5,\n",
       "             estimator=Pipeline(steps=[(&#x27;columntransformer&#x27;,\n",
       "                                        ColumnTransformer(transformers=[(&#x27;onehotencoder&#x27;,\n",
       "                                                                         OneHotEncoder(handle_unknown=&#x27;ignore&#x27;),\n",
       "                                                                         [&#x27;PrimaryPropertyType&#x27;,\n",
       "                                                                          &#x27;Neighborhood&#x27;,\n",
       "                                                                          &#x27;LargestPropertyUseType&#x27;,\n",
       "                                                                          &#x27;ComplianceStatus&#x27;]),\n",
       "                                                                        (&#x27;standardscaler&#x27;,\n",
       "                                                                         StandardScaler(),\n",
       "                                                                         [&#x27;NumberofBuildings&#x27;,\n",
       "                                                                          &#x27;NumberofFloors&#x27;,\n",
       "                                                                          &#x27;PropertyGFATotal&#x27;,\n",
       "                                                                          &#x27;PropertyGFAParking&#x27;,\n",
       "                                                                          &#x27;PropertyGFABuilding(s)&#x27;,\n",
       "                                                                          &#x27;LargestPropertyUseTypeGFA&#x27;,\n",
       "                                                                          &#x27;SourceEUIWN(kBtu/sf)&#x27;,\n",
       "                                                                          &#x27;GHGEmissionsIntensity&#x27;,\n",
       "                                                                          &#x27;BuildingAge&#x27;])])),\n",
       "                                       (&#x27;lasso&#x27;, Lasso(tol=0.1))]),\n",
       "             param_grid={&#x27;lasso__alpha&#x27;: [60, 70, 80]}, scoring=&#x27;r2&#x27;)</pre><b>Please rerun this cell to show the HTML repr or trust the notebook.</b></div><div class=\"sk-container\" hidden><div class=\"sk-item sk-dashed-wrapped\"><div class=\"sk-label-container\"><div class=\"sk-label sk-toggleable\"><input class=\"sk-toggleable__control sk-hidden--visually\" id=\"b6b0e50a-995b-45f4-8ab9-d21eed9ed34a\" type=\"checkbox\" ><label for=\"b6b0e50a-995b-45f4-8ab9-d21eed9ed34a\" class=\"sk-toggleable__label sk-toggleable__label-arrow\">GridSearchCV</label><div class=\"sk-toggleable__content\"><pre>GridSearchCV(cv=5,\n",
       "             estimator=Pipeline(steps=[(&#x27;columntransformer&#x27;,\n",
       "                                        ColumnTransformer(transformers=[(&#x27;onehotencoder&#x27;,\n",
       "                                                                         OneHotEncoder(handle_unknown=&#x27;ignore&#x27;),\n",
       "                                                                         [&#x27;PrimaryPropertyType&#x27;,\n",
       "                                                                          &#x27;Neighborhood&#x27;,\n",
       "                                                                          &#x27;LargestPropertyUseType&#x27;,\n",
       "                                                                          &#x27;ComplianceStatus&#x27;]),\n",
       "                                                                        (&#x27;standardscaler&#x27;,\n",
       "                                                                         StandardScaler(),\n",
       "                                                                         [&#x27;NumberofBuildings&#x27;,\n",
       "                                                                          &#x27;NumberofFloors&#x27;,\n",
       "                                                                          &#x27;PropertyGFATotal&#x27;,\n",
       "                                                                          &#x27;PropertyGFAParking&#x27;,\n",
       "                                                                          &#x27;PropertyGFABuilding(s)&#x27;,\n",
       "                                                                          &#x27;LargestPropertyUseTypeGFA&#x27;,\n",
       "                                                                          &#x27;SourceEUIWN(kBtu/sf)&#x27;,\n",
       "                                                                          &#x27;GHGEmissionsIntensity&#x27;,\n",
       "                                                                          &#x27;BuildingAge&#x27;])])),\n",
       "                                       (&#x27;lasso&#x27;, Lasso(tol=0.1))]),\n",
       "             param_grid={&#x27;lasso__alpha&#x27;: [60, 70, 80]}, scoring=&#x27;r2&#x27;)</pre></div></div></div><div class=\"sk-parallel\"><div class=\"sk-parallel-item\"><div class=\"sk-item\"><div class=\"sk-serial\"><div class=\"sk-item\"><div class=\"sk-serial\"><div class=\"sk-item sk-dashed-wrapped\"><div class=\"sk-label-container\"><div class=\"sk-label sk-toggleable\"><input class=\"sk-toggleable__control sk-hidden--visually\" id=\"d4ff7c10-bbdb-45b7-96e2-073af653145c\" type=\"checkbox\" ><label for=\"d4ff7c10-bbdb-45b7-96e2-073af653145c\" class=\"sk-toggleable__label sk-toggleable__label-arrow\">columntransformer: ColumnTransformer</label><div class=\"sk-toggleable__content\"><pre>ColumnTransformer(transformers=[(&#x27;onehotencoder&#x27;,\n",
       "                                 OneHotEncoder(handle_unknown=&#x27;ignore&#x27;),\n",
       "                                 [&#x27;PrimaryPropertyType&#x27;, &#x27;Neighborhood&#x27;,\n",
       "                                  &#x27;LargestPropertyUseType&#x27;,\n",
       "                                  &#x27;ComplianceStatus&#x27;]),\n",
       "                                (&#x27;standardscaler&#x27;, StandardScaler(),\n",
       "                                 [&#x27;NumberofBuildings&#x27;, &#x27;NumberofFloors&#x27;,\n",
       "                                  &#x27;PropertyGFATotal&#x27;, &#x27;PropertyGFAParking&#x27;,\n",
       "                                  &#x27;PropertyGFABuilding(s)&#x27;,\n",
       "                                  &#x27;LargestPropertyUseTypeGFA&#x27;,\n",
       "                                  &#x27;SourceEUIWN(kBtu/sf)&#x27;,\n",
       "                                  &#x27;GHGEmissionsIntensity&#x27;, &#x27;BuildingAge&#x27;])])</pre></div></div></div><div class=\"sk-parallel\"><div class=\"sk-parallel-item\"><div class=\"sk-item\"><div class=\"sk-label-container\"><div class=\"sk-label sk-toggleable\"><input class=\"sk-toggleable__control sk-hidden--visually\" id=\"73226f90-c3ff-45d9-9c37-12f191f7f4c2\" type=\"checkbox\" ><label for=\"73226f90-c3ff-45d9-9c37-12f191f7f4c2\" class=\"sk-toggleable__label sk-toggleable__label-arrow\">onehotencoder</label><div class=\"sk-toggleable__content\"><pre>[&#x27;PrimaryPropertyType&#x27;, &#x27;Neighborhood&#x27;, &#x27;LargestPropertyUseType&#x27;, &#x27;ComplianceStatus&#x27;]</pre></div></div></div><div class=\"sk-serial\"><div class=\"sk-item\"><div class=\"sk-estimator sk-toggleable\"><input class=\"sk-toggleable__control sk-hidden--visually\" id=\"eff14929-484c-439e-a673-b499e7341074\" type=\"checkbox\" ><label for=\"eff14929-484c-439e-a673-b499e7341074\" class=\"sk-toggleable__label sk-toggleable__label-arrow\">OneHotEncoder</label><div class=\"sk-toggleable__content\"><pre>OneHotEncoder(handle_unknown=&#x27;ignore&#x27;)</pre></div></div></div></div></div></div><div class=\"sk-parallel-item\"><div class=\"sk-item\"><div class=\"sk-label-container\"><div class=\"sk-label sk-toggleable\"><input class=\"sk-toggleable__control sk-hidden--visually\" id=\"4e665942-7352-47fd-a4c5-f0edf889a6d3\" type=\"checkbox\" ><label for=\"4e665942-7352-47fd-a4c5-f0edf889a6d3\" class=\"sk-toggleable__label sk-toggleable__label-arrow\">standardscaler</label><div class=\"sk-toggleable__content\"><pre>[&#x27;NumberofBuildings&#x27;, &#x27;NumberofFloors&#x27;, &#x27;PropertyGFATotal&#x27;, &#x27;PropertyGFAParking&#x27;, &#x27;PropertyGFABuilding(s)&#x27;, &#x27;LargestPropertyUseTypeGFA&#x27;, &#x27;SourceEUIWN(kBtu/sf)&#x27;, &#x27;GHGEmissionsIntensity&#x27;, &#x27;BuildingAge&#x27;]</pre></div></div></div><div class=\"sk-serial\"><div class=\"sk-item\"><div class=\"sk-estimator sk-toggleable\"><input class=\"sk-toggleable__control sk-hidden--visually\" id=\"1c8b66d1-9718-4309-a864-ca6ca0938238\" type=\"checkbox\" ><label for=\"1c8b66d1-9718-4309-a864-ca6ca0938238\" class=\"sk-toggleable__label sk-toggleable__label-arrow\">StandardScaler</label><div class=\"sk-toggleable__content\"><pre>StandardScaler()</pre></div></div></div></div></div></div></div></div><div class=\"sk-item\"><div class=\"sk-estimator sk-toggleable\"><input class=\"sk-toggleable__control sk-hidden--visually\" id=\"73adaaec-d63d-4363-9b18-f2835f510e9d\" type=\"checkbox\" ><label for=\"73adaaec-d63d-4363-9b18-f2835f510e9d\" class=\"sk-toggleable__label sk-toggleable__label-arrow\">Lasso</label><div class=\"sk-toggleable__content\"><pre>Lasso(tol=0.1)</pre></div></div></div></div></div></div></div></div></div></div></div></div>"
      ],
      "text/plain": [
       "GridSearchCV(cv=5,\n",
       "             estimator=Pipeline(steps=[('columntransformer',\n",
       "                                        ColumnTransformer(transformers=[('onehotencoder',\n",
       "                                                                         OneHotEncoder(handle_unknown='ignore'),\n",
       "                                                                         ['PrimaryPropertyType',\n",
       "                                                                          'Neighborhood',\n",
       "                                                                          'LargestPropertyUseType',\n",
       "                                                                          'ComplianceStatus']),\n",
       "                                                                        ('standardscaler',\n",
       "                                                                         StandardScaler(),\n",
       "                                                                         ['NumberofBuildings',\n",
       "                                                                          'NumberofFloors',\n",
       "                                                                          'PropertyGFATotal',\n",
       "                                                                          'PropertyGFAParking',\n",
       "                                                                          'PropertyGFABuilding(s)',\n",
       "                                                                          'LargestPropertyUseTypeGFA',\n",
       "                                                                          'SourceEUIWN(kBtu/sf)',\n",
       "                                                                          'GHGEmissionsIntensity',\n",
       "                                                                          'BuildingAge'])])),\n",
       "                                       ('lasso', Lasso(tol=0.1))]),\n",
       "             param_grid={'lasso__alpha': [60, 70, 80]}, scoring='r2')"
      ]
     },
     "execution_count": 68,
     "metadata": {},
     "output_type": "execute_result"
    }
   ],
   "source": [
    "# Optimisation des hyperparamètres avec: GridSearchCV()\n",
    "parameters = {'lasso__alpha':[60,70,80]}\n",
    "#Grille de recherche:\n",
    "grid_lasso= GridSearchCV(pipe_lasso,parameters, cv=5,scoring='r2')\n",
    "grid_lasso.fit(X_train,y_train)"
   ]
  },
  {
   "cell_type": "code",
   "execution_count": 69,
   "metadata": {},
   "outputs": [
    {
     "name": "stdout",
     "output_type": "stream",
     "text": [
      "0.4170824284209937\n",
      "{'lasso__alpha': 80}\n"
     ]
    }
   ],
   "source": [
    "print(grid_lasso.best_score_)\n",
    "print(grid_lasso.best_params_)"
   ]
  },
  {
   "cell_type": "code",
   "execution_count": 70,
   "metadata": {},
   "outputs": [
    {
     "data": {
      "text/plain": [
       "0.8628033477153769"
      ]
     },
     "execution_count": 70,
     "metadata": {},
     "output_type": "execute_result"
    }
   ],
   "source": [
    "model_lasso= grid_lasso.best_estimator_\n",
    "model_lasso.score(X_test,y_test)"
   ]
  },
  {
   "cell_type": "code",
   "execution_count": 71,
   "metadata": {},
   "outputs": [
    {
     "data": {
      "text/plain": [
       "[917518.7520702021,\n",
       " 841840660400.461,\n",
       " 632853.3515783617,\n",
       " 423226.14635027724,\n",
       " 0.8628033477153769]"
      ]
     },
     "execution_count": 71,
     "metadata": {},
     "output_type": "execute_result"
    }
   ],
   "source": [
    "pred_lasso= model_lasso.predict(X_test)\n",
    "# Evaluation des métriques:\n",
    "compute_scores(y_test, pred_lasso)"
   ]
  },
  {
   "cell_type": "code",
   "execution_count": 72,
   "metadata": {},
   "outputs": [
    {
     "data": {
      "image/png": "[encoded data removed]",
      "text/plain": [
       "<Figure size 432x288 with 1 Axes>"
      ]
     },
     "metadata": {
      "needs_background": "light"
     },
     "output_type": "display_data"
    }
   ],
   "source": [
    "fig, ax = plt.subplots()\n",
    "ax.scatter(y_test, pred_lasso)\n",
    "ax.plot([y_test.min(), y_test.max()], [y_test.min(), y_test.max()], 'k--', lw=4)\n",
    "ax.set_xlabel('Measured')\n",
    "ax.set_ylabel('Predicted')\n",
    "plt.show()"
   ]
  },
  {
   "cell_type": "markdown",
   "metadata": {},
   "source": [
    "#### Application du modèle: Elastic-Net"
   ]
  },
  {
   "cell_type": "code",
   "execution_count": 73,
   "metadata": {},
   "outputs": [],
   "source": [
    "elastic= ElasticNet(tol=0.1)\n",
    "# On crée le modèle à l'aide de pipeline\n",
    "pipe_elastic= make_pipeline(column_trans,elastic)"
   ]
  },
  {
   "cell_type": "code",
   "execution_count": 74,
   "metadata": {},
   "outputs": [
    {
     "data": {
      "text/plain": [
       "dict_keys(['memory', 'steps', 'verbose', 'columntransformer', 'elasticnet', 'columntransformer__n_jobs', 'columntransformer__remainder', 'columntransformer__sparse_threshold', 'columntransformer__transformer_weights', 'columntransformer__transformers', 'columntransformer__verbose', 'columntransformer__verbose_feature_names_out', 'columntransformer__onehotencoder', 'columntransformer__standardscaler', 'columntransformer__onehotencoder__categories', 'columntransformer__onehotencoder__drop', 'columntransformer__onehotencoder__dtype', 'columntransformer__onehotencoder__handle_unknown', 'columntransformer__onehotencoder__sparse', 'columntransformer__standardscaler__copy', 'columntransformer__standardscaler__with_mean', 'columntransformer__standardscaler__with_std', 'elasticnet__alpha', 'elasticnet__copy_X', 'elasticnet__fit_intercept', 'elasticnet__l1_ratio', 'elasticnet__max_iter', 'elasticnet__normalize', 'elasticnet__positive', 'elasticnet__precompute', 'elasticnet__random_state', 'elasticnet__selection', 'elasticnet__tol', 'elasticnet__warm_start'])"
      ]
     },
     "execution_count": 74,
     "metadata": {},
     "output_type": "execute_result"
    }
   ],
   "source": [
    "# liste des paramètres de l'estimateur:\n",
    "pipe_elastic.get_params().keys()"
   ]
  },
  {
   "cell_type": "code",
   "execution_count": 75,
   "metadata": {},
   "outputs": [
    {
     "data": {
      "text/plain": [
       "array([ 0.60440883,  0.6442821 , -0.2458667 ,  0.59155963,  0.63095506])"
      ]
     },
     "execution_count": 75,
     "metadata": {},
     "output_type": "execute_result"
    }
   ],
   "source": [
    "# Cross validation avec: cross_val_score()\n",
    "cross_val_score(pipe_elastic,X_train,y_train,cv=5,scoring='r2')"
   ]
  },
  {
   "cell_type": "code",
   "execution_count": 76,
   "metadata": {},
   "outputs": [
    {
     "data": {
      "text/html": [
       "<style>#sk-b08e87f8-c062-4838-a7b8-dbf4a09ac31a {color: black;background-color: white;}#sk-b08e87f8-c062-4838-a7b8-dbf4a09ac31a pre{padding: 0;}#sk-b08e87f8-c062-4838-a7b8-dbf4a09ac31a div.sk-toggleable {background-color: white;}#sk-b08e87f8-c062-4838-a7b8-dbf4a09ac31a label.sk-toggleable__label {cursor: pointer;display: block;width: 100%;margin-bottom: 0;padding: 0.3em;box-sizing: border-box;text-align: center;}#sk-b08e87f8-c062-4838-a7b8-dbf4a09ac31a label.sk-toggleable__label-arrow:before {content: \"▸\";float: left;margin-right: 0.25em;color: #696969;}#sk-b08e87f8-c062-4838-a7b8-dbf4a09ac31a label.sk-toggleable__label-arrow:hover:before {color: black;}#sk-b08e87f8-c062-4838-a7b8-dbf4a09ac31a div.sk-estimator:hover label.sk-toggleable__label-arrow:before {color: black;}#sk-b08e87f8-c062-4838-a7b8-dbf4a09ac31a div.sk-toggleable__content {max-height: 0;max-width: 0;overflow: hidden;text-align: left;background-color: #f0f8ff;}#sk-b08e87f8-c062-4838-a7b8-dbf4a09ac31a div.sk-toggleable__content pre {margin: 0.2em;color: black;border-radius: 0.25em;background-color: #f0f8ff;}#sk-b08e87f8-c062-4838-a7b8-dbf4a09ac31a input.sk-toggleable__control:checked~div.sk-toggleable__content {max-height: 200px;max-width: 100%;overflow: auto;}#sk-b08e87f8-c062-4838-a7b8-dbf4a09ac31a input.sk-toggleable__control:checked~label.sk-toggleable__label-arrow:before {content: \"▾\";}#sk-b08e87f8-c062-4838-a7b8-dbf4a09ac31a div.sk-estimator input.sk-toggleable__control:checked~label.sk-toggleable__label {background-color: #d4ebff;}#sk-b08e87f8-c062-4838-a7b8-dbf4a09ac31a div.sk-label input.sk-toggleable__control:checked~label.sk-toggleable__label {background-color: #d4ebff;}#sk-b08e87f8-c062-4838-a7b8-dbf4a09ac31a input.sk-hidden--visually {border: 0;clip: rect(1px 1px 1px 1px);clip: rect(1px, 1px, 1px, 1px);height: 1px;margin: -1px;overflow: hidden;padding: 0;position: absolute;width: 1px;}#sk-b08e87f8-c062-4838-a7b8-dbf4a09ac31a div.sk-estimator {font-family: monospace;background-color: #f0f8ff;border: 1px dotted black;border-radius: 0.25em;box-sizing: border-box;margin-bottom: 0.5em;}#sk-b08e87f8-c062-4838-a7b8-dbf4a09ac31a div.sk-estimator:hover {background-color: #d4ebff;}#sk-b08e87f8-c062-4838-a7b8-dbf4a09ac31a div.sk-parallel-item::after {content: \"\";width: 100%;border-bottom: 1px solid gray;flex-grow: 1;}#sk-b08e87f8-c062-4838-a7b8-dbf4a09ac31a div.sk-label:hover label.sk-toggleable__label {background-color: #d4ebff;}#sk-b08e87f8-c062-4838-a7b8-dbf4a09ac31a div.sk-serial::before {content: \"\";position: absolute;border-left: 1px solid gray;box-sizing: border-box;top: 2em;bottom: 0;left: 50%;}#sk-b08e87f8-c062-4838-a7b8-dbf4a09ac31a div.sk-serial {display: flex;flex-direction: column;align-items: center;background-color: white;padding-right: 0.2em;padding-left: 0.2em;}#sk-b08e87f8-c062-4838-a7b8-dbf4a09ac31a div.sk-item {z-index: 1;}#sk-b08e87f8-c062-4838-a7b8-dbf4a09ac31a div.sk-parallel {display: flex;align-items: stretch;justify-content: center;background-color: white;}#sk-b08e87f8-c062-4838-a7b8-dbf4a09ac31a div.sk-parallel::before {content: \"\";position: absolute;border-left: 1px solid gray;box-sizing: border-box;top: 2em;bottom: 0;left: 50%;}#sk-b08e87f8-c062-4838-a7b8-dbf4a09ac31a div.sk-parallel-item {display: flex;flex-direction: column;position: relative;background-color: white;}#sk-b08e87f8-c062-4838-a7b8-dbf4a09ac31a div.sk-parallel-item:first-child::after {align-self: flex-end;width: 50%;}#sk-b08e87f8-c062-4838-a7b8-dbf4a09ac31a div.sk-parallel-item:last-child::after {align-self: flex-start;width: 50%;}#sk-b08e87f8-c062-4838-a7b8-dbf4a09ac31a div.sk-parallel-item:only-child::after {width: 0;}#sk-b08e87f8-c062-4838-a7b8-dbf4a09ac31a div.sk-dashed-wrapped {border: 1px dashed gray;margin: 0 0.4em 0.5em 0.4em;box-sizing: border-box;padding-bottom: 0.4em;background-color: white;position: relative;}#sk-b08e87f8-c062-4838-a7b8-dbf4a09ac31a div.sk-label label {font-family: monospace;font-weight: bold;background-color: white;display: inline-block;line-height: 1.2em;}#sk-b08e87f8-c062-4838-a7b8-dbf4a09ac31a div.sk-label-container {position: relative;z-index: 2;text-align: center;}#sk-b08e87f8-c062-4838-a7b8-dbf4a09ac31a div.sk-container {/* jupyter's `normalize.less` sets `[hidden] { display: none; }` but bootstrap.min.css set `[hidden] { display: none !important; }` so we also need the `!important` here to be able to override the default hidden behavior on the sphinx rendered scikit-learn.org. See: https://github.com/scikit-learn/scikit-learn/issues/21755 */display: inline-block !important;position: relative;}#sk-b08e87f8-c062-4838-a7b8-dbf4a09ac31a div.sk-text-repr-fallback {display: none;}</style><div id=\"sk-b08e87f8-c062-4838-a7b8-dbf4a09ac31a\" class=\"sk-top-container\"><div class=\"sk-text-repr-fallback\"><pre>GridSearchCV(cv=5,\n",
       "             estimator=Pipeline(steps=[(&#x27;columntransformer&#x27;,\n",
       "                                        ColumnTransformer(transformers=[(&#x27;onehotencoder&#x27;,\n",
       "                                                                         OneHotEncoder(handle_unknown=&#x27;ignore&#x27;),\n",
       "                                                                         [&#x27;PrimaryPropertyType&#x27;,\n",
       "                                                                          &#x27;Neighborhood&#x27;,\n",
       "                                                                          &#x27;LargestPropertyUseType&#x27;,\n",
       "                                                                          &#x27;ComplianceStatus&#x27;]),\n",
       "                                                                        (&#x27;standardscaler&#x27;,\n",
       "                                                                         StandardScaler(),\n",
       "                                                                         [&#x27;NumberofBuildings&#x27;,\n",
       "                                                                          &#x27;NumberofFloors&#x27;,\n",
       "                                                                          &#x27;PropertyGFATotal&#x27;,\n",
       "                                                                          &#x27;PropertyGFAParking&#x27;,\n",
       "                                                                          &#x27;PropertyGFABuilding(s)&#x27;,\n",
       "                                                                          &#x27;LargestPropertyUseTypeGFA&#x27;,\n",
       "                                                                          &#x27;SourceEUIWN(kBtu/sf)&#x27;,\n",
       "                                                                          &#x27;GHGEmissionsIntensity&#x27;,\n",
       "                                                                          &#x27;BuildingAge&#x27;])])),\n",
       "                                       (&#x27;elasticnet&#x27;, ElasticNet(tol=0.1))]),\n",
       "             param_grid={&#x27;elasticnet__alpha&#x27;: [0.01, 0.1, 1],\n",
       "                         &#x27;elasticnet__l1_ratio&#x27;: [1e-05, 0.0001, 0.001]})</pre><b>Please rerun this cell to show the HTML repr or trust the notebook.</b></div><div class=\"sk-container\" hidden><div class=\"sk-item sk-dashed-wrapped\"><div class=\"sk-label-container\"><div class=\"sk-label sk-toggleable\"><input class=\"sk-toggleable__control sk-hidden--visually\" id=\"029aa04e-75af-426b-9bc4-07eeb59f5480\" type=\"checkbox\" ><label for=\"029aa04e-75af-426b-9bc4-07eeb59f5480\" class=\"sk-toggleable__label sk-toggleable__label-arrow\">GridSearchCV</label><div class=\"sk-toggleable__content\"><pre>GridSearchCV(cv=5,\n",
       "             estimator=Pipeline(steps=[(&#x27;columntransformer&#x27;,\n",
       "                                        ColumnTransformer(transformers=[(&#x27;onehotencoder&#x27;,\n",
       "                                                                         OneHotEncoder(handle_unknown=&#x27;ignore&#x27;),\n",
       "                                                                         [&#x27;PrimaryPropertyType&#x27;,\n",
       "                                                                          &#x27;Neighborhood&#x27;,\n",
       "                                                                          &#x27;LargestPropertyUseType&#x27;,\n",
       "                                                                          &#x27;ComplianceStatus&#x27;]),\n",
       "                                                                        (&#x27;standardscaler&#x27;,\n",
       "                                                                         StandardScaler(),\n",
       "                                                                         [&#x27;NumberofBuildings&#x27;,\n",
       "                                                                          &#x27;NumberofFloors&#x27;,\n",
       "                                                                          &#x27;PropertyGFATotal&#x27;,\n",
       "                                                                          &#x27;PropertyGFAParking&#x27;,\n",
       "                                                                          &#x27;PropertyGFABuilding(s)&#x27;,\n",
       "                                                                          &#x27;LargestPropertyUseTypeGFA&#x27;,\n",
       "                                                                          &#x27;SourceEUIWN(kBtu/sf)&#x27;,\n",
       "                                                                          &#x27;GHGEmissionsIntensity&#x27;,\n",
       "                                                                          &#x27;BuildingAge&#x27;])])),\n",
       "                                       (&#x27;elasticnet&#x27;, ElasticNet(tol=0.1))]),\n",
       "             param_grid={&#x27;elasticnet__alpha&#x27;: [0.01, 0.1, 1],\n",
       "                         &#x27;elasticnet__l1_ratio&#x27;: [1e-05, 0.0001, 0.001]})</pre></div></div></div><div class=\"sk-parallel\"><div class=\"sk-parallel-item\"><div class=\"sk-item\"><div class=\"sk-serial\"><div class=\"sk-item\"><div class=\"sk-serial\"><div class=\"sk-item sk-dashed-wrapped\"><div class=\"sk-label-container\"><div class=\"sk-label sk-toggleable\"><input class=\"sk-toggleable__control sk-hidden--visually\" id=\"3c7c74bd-6580-47bc-8b1b-516dbd4e2068\" type=\"checkbox\" ><label for=\"3c7c74bd-6580-47bc-8b1b-516dbd4e2068\" class=\"sk-toggleable__label sk-toggleable__label-arrow\">columntransformer: ColumnTransformer</label><div class=\"sk-toggleable__content\"><pre>ColumnTransformer(transformers=[(&#x27;onehotencoder&#x27;,\n",
       "                                 OneHotEncoder(handle_unknown=&#x27;ignore&#x27;),\n",
       "                                 [&#x27;PrimaryPropertyType&#x27;, &#x27;Neighborhood&#x27;,\n",
       "                                  &#x27;LargestPropertyUseType&#x27;,\n",
       "                                  &#x27;ComplianceStatus&#x27;]),\n",
       "                                (&#x27;standardscaler&#x27;, StandardScaler(),\n",
       "                                 [&#x27;NumberofBuildings&#x27;, &#x27;NumberofFloors&#x27;,\n",
       "                                  &#x27;PropertyGFATotal&#x27;, &#x27;PropertyGFAParking&#x27;,\n",
       "                                  &#x27;PropertyGFABuilding(s)&#x27;,\n",
       "                                  &#x27;LargestPropertyUseTypeGFA&#x27;,\n",
       "                                  &#x27;SourceEUIWN(kBtu/sf)&#x27;,\n",
       "                                  &#x27;GHGEmissionsIntensity&#x27;, &#x27;BuildingAge&#x27;])])</pre></div></div></div><div class=\"sk-parallel\"><div class=\"sk-parallel-item\"><div class=\"sk-item\"><div class=\"sk-label-container\"><div class=\"sk-label sk-toggleable\"><input class=\"sk-toggleable__control sk-hidden--visually\" id=\"23f13462-2b61-4c3d-960d-33f75a3feb12\" type=\"checkbox\" ><label for=\"23f13462-2b61-4c3d-960d-33f75a3feb12\" class=\"sk-toggleable__label sk-toggleable__label-arrow\">onehotencoder</label><div class=\"sk-toggleable__content\"><pre>[&#x27;PrimaryPropertyType&#x27;, &#x27;Neighborhood&#x27;, &#x27;LargestPropertyUseType&#x27;, &#x27;ComplianceStatus&#x27;]</pre></div></div></div><div class=\"sk-serial\"><div class=\"sk-item\"><div class=\"sk-estimator sk-toggleable\"><input class=\"sk-toggleable__control sk-hidden--visually\" id=\"77fc1d39-a963-42bf-91ad-f67ae0d98e07\" type=\"checkbox\" ><label for=\"77fc1d39-a963-42bf-91ad-f67ae0d98e07\" class=\"sk-toggleable__label sk-toggleable__label-arrow\">OneHotEncoder</label><div class=\"sk-toggleable__content\"><pre>OneHotEncoder(handle_unknown=&#x27;ignore&#x27;)</pre></div></div></div></div></div></div><div class=\"sk-parallel-item\"><div class=\"sk-item\"><div class=\"sk-label-container\"><div class=\"sk-label sk-toggleable\"><input class=\"sk-toggleable__control sk-hidden--visually\" id=\"d322aa50-3690-4083-92d6-1e5da68178c2\" type=\"checkbox\" ><label for=\"d322aa50-3690-4083-92d6-1e5da68178c2\" class=\"sk-toggleable__label sk-toggleable__label-arrow\">standardscaler</label><div class=\"sk-toggleable__content\"><pre>[&#x27;NumberofBuildings&#x27;, &#x27;NumberofFloors&#x27;, &#x27;PropertyGFATotal&#x27;, &#x27;PropertyGFAParking&#x27;, &#x27;PropertyGFABuilding(s)&#x27;, &#x27;LargestPropertyUseTypeGFA&#x27;, &#x27;SourceEUIWN(kBtu/sf)&#x27;, &#x27;GHGEmissionsIntensity&#x27;, &#x27;BuildingAge&#x27;]</pre></div></div></div><div class=\"sk-serial\"><div class=\"sk-item\"><div class=\"sk-estimator sk-toggleable\"><input class=\"sk-toggleable__control sk-hidden--visually\" id=\"ac57ed1f-3d27-4983-b016-6dfc58bdd2b5\" type=\"checkbox\" ><label for=\"ac57ed1f-3d27-4983-b016-6dfc58bdd2b5\" class=\"sk-toggleable__label sk-toggleable__label-arrow\">StandardScaler</label><div class=\"sk-toggleable__content\"><pre>StandardScaler()</pre></div></div></div></div></div></div></div></div><div class=\"sk-item\"><div class=\"sk-estimator sk-toggleable\"><input class=\"sk-toggleable__control sk-hidden--visually\" id=\"4706c083-fc11-4272-b55a-faae8d9c2583\" type=\"checkbox\" ><label for=\"4706c083-fc11-4272-b55a-faae8d9c2583\" class=\"sk-toggleable__label sk-toggleable__label-arrow\">ElasticNet</label><div class=\"sk-toggleable__content\"><pre>ElasticNet(tol=0.1)</pre></div></div></div></div></div></div></div></div></div></div></div></div>"
      ],
      "text/plain": [
       "GridSearchCV(cv=5,\n",
       "             estimator=Pipeline(steps=[('columntransformer',\n",
       "                                        ColumnTransformer(transformers=[('onehotencoder',\n",
       "                                                                         OneHotEncoder(handle_unknown='ignore'),\n",
       "                                                                         ['PrimaryPropertyType',\n",
       "                                                                          'Neighborhood',\n",
       "                                                                          'LargestPropertyUseType',\n",
       "                                                                          'ComplianceStatus']),\n",
       "                                                                        ('standardscaler',\n",
       "                                                                         StandardScaler(),\n",
       "                                                                         ['NumberofBuildings',\n",
       "                                                                          'NumberofFloors',\n",
       "                                                                          'PropertyGFATotal',\n",
       "                                                                          'PropertyGFAParking',\n",
       "                                                                          'PropertyGFABuilding(s)',\n",
       "                                                                          'LargestPropertyUseTypeGFA',\n",
       "                                                                          'SourceEUIWN(kBtu/sf)',\n",
       "                                                                          'GHGEmissionsIntensity',\n",
       "                                                                          'BuildingAge'])])),\n",
       "                                       ('elasticnet', ElasticNet(tol=0.1))]),\n",
       "             param_grid={'elasticnet__alpha': [0.01, 0.1, 1],\n",
       "                         'elasticnet__l1_ratio': [1e-05, 0.0001, 0.001]})"
      ]
     },
     "execution_count": 76,
     "metadata": {},
     "output_type": "execute_result"
    }
   ],
   "source": [
    "# Optimisation des hyperparamètres avec: GridSearchCV()\n",
    "parameters = {'elasticnet__l1_ratio':[1e-5,1e-4,1e-3],'elasticnet__alpha':[1e-2,0.1,1]}\n",
    "#Grille de recherche:\n",
    "grid_elastic= GridSearchCV(pipe_elastic,parameters, cv=5)\n",
    "grid_elastic.fit(X_train,y_train)"
   ]
  },
  {
   "cell_type": "code",
   "execution_count": 77,
   "metadata": {},
   "outputs": [
    {
     "name": "stdout",
     "output_type": "stream",
     "text": [
      "0.43527733385554424\n",
      "{'elasticnet__alpha': 1, 'elasticnet__l1_ratio': 0.001}\n"
     ]
    }
   ],
   "source": [
    "print(grid_elastic.best_score_)\n",
    "print(grid_elastic.best_params_)"
   ]
  },
  {
   "cell_type": "code",
   "execution_count": 78,
   "metadata": {},
   "outputs": [
    {
     "data": {
      "text/plain": [
       "0.5800346826129915"
      ]
     },
     "execution_count": 78,
     "metadata": {},
     "output_type": "execute_result"
    }
   ],
   "source": [
    "model_elastic= grid_elastic.best_estimator_\n",
    "model_elastic.score(X_test,y_test)"
   ]
  },
  {
   "cell_type": "code",
   "execution_count": 79,
   "metadata": {},
   "outputs": [
    {
     "data": {
      "text/plain": [
       "[1605276.7099931724,\n",
       " 2576913315646.504,\n",
       " 1173790.6851413387,\n",
       " 965992.1417123908,\n",
       " 0.5800346826129915]"
      ]
     },
     "execution_count": 79,
     "metadata": {},
     "output_type": "execute_result"
    }
   ],
   "source": [
    "pred_elastic= model_elastic.predict(X_test)\n",
    "# Evaluation des métriques:\n",
    "compute_scores(y_test, pred_elastic)"
   ]
  },
  {
   "cell_type": "code",
   "execution_count": 80,
   "metadata": {},
   "outputs": [
    {
     "data": {
      "image/png": "[encoded data removed]",
      "text/plain": [
       "<Figure size 432x288 with 1 Axes>"
      ]
     },
     "metadata": {
      "needs_background": "light"
     },
     "output_type": "display_data"
    }
   ],
   "source": [
    "fig, ax = plt.subplots()\n",
    "ax.scatter(y_test, pred_elastic)\n",
    "ax.plot([y_test.min(), y_test.max()], [y_test.min(), y_test.max()], 'k--', lw=4)\n",
    "ax.set_xlabel('Measured')\n",
    "ax.set_ylabel('Predicted')\n",
    "plt.show()"
   ]
  },
  {
   "cell_type": "markdown",
   "metadata": {},
   "source": [
    "#### Application du modèle: Forests of randomized trees"
   ]
  },
  {
   "cell_type": "code",
   "execution_count": 81,
   "metadata": {},
   "outputs": [],
   "source": [
    "randomforest= RandomForestRegressor()\n",
    "# On crée le modèle à l'aide de pipeline\n",
    "pipe_randomforest= make_pipeline(column_trans, randomforest)"
   ]
  },
  {
   "cell_type": "code",
   "execution_count": 82,
   "metadata": {},
   "outputs": [
    {
     "data": {
      "text/plain": [
       "dict_keys(['memory', 'steps', 'verbose', 'columntransformer', 'randomforestregressor', 'columntransformer__n_jobs', 'columntransformer__remainder', 'columntransformer__sparse_threshold', 'columntransformer__transformer_weights', 'columntransformer__transformers', 'columntransformer__verbose', 'columntransformer__verbose_feature_names_out', 'columntransformer__onehotencoder', 'columntransformer__standardscaler', 'columntransformer__onehotencoder__categories', 'columntransformer__onehotencoder__drop', 'columntransformer__onehotencoder__dtype', 'columntransformer__onehotencoder__handle_unknown', 'columntransformer__onehotencoder__sparse', 'columntransformer__standardscaler__copy', 'columntransformer__standardscaler__with_mean', 'columntransformer__standardscaler__with_std', 'randomforestregressor__bootstrap', 'randomforestregressor__ccp_alpha', 'randomforestregressor__criterion', 'randomforestregressor__max_depth', 'randomforestregressor__max_features', 'randomforestregressor__max_leaf_nodes', 'randomforestregressor__max_samples', 'randomforestregressor__min_impurity_decrease', 'randomforestregressor__min_samples_leaf', 'randomforestregressor__min_samples_split', 'randomforestregressor__min_weight_fraction_leaf', 'randomforestregressor__n_estimators', 'randomforestregressor__n_jobs', 'randomforestregressor__oob_score', 'randomforestregressor__random_state', 'randomforestregressor__verbose', 'randomforestregressor__warm_start'])"
      ]
     },
     "execution_count": 82,
     "metadata": {},
     "output_type": "execute_result"
    }
   ],
   "source": [
    "# liste des paramètres de l'estimateur:\n",
    "pipe_randomforest.get_params().keys()"
   ]
  },
  {
   "cell_type": "code",
   "execution_count": 83,
   "metadata": {},
   "outputs": [
    {
     "data": {
      "text/plain": [
       "array([0.91028231, 0.9221821 , 0.93642095, 0.9370641 , 0.93285035])"
      ]
     },
     "execution_count": 83,
     "metadata": {},
     "output_type": "execute_result"
    }
   ],
   "source": [
    "# Cross validation avec: cross_val_score()\n",
    "cross_val_score(pipe_randomforest,X_train,y_train,cv=5,scoring='r2')"
   ]
  },
  {
   "cell_type": "code",
   "execution_count": 84,
   "metadata": {},
   "outputs": [
    {
     "data": {
      "text/html": [
       "<style>#sk-7a77edca-3794-447a-bc0b-1b559064a57e {color: black;background-color: white;}#sk-7a77edca-3794-447a-bc0b-1b559064a57e pre{padding: 0;}#sk-7a77edca-3794-447a-bc0b-1b559064a57e div.sk-toggleable {background-color: white;}#sk-7a77edca-3794-447a-bc0b-1b559064a57e label.sk-toggleable__label {cursor: pointer;display: block;width: 100%;margin-bottom: 0;padding: 0.3em;box-sizing: border-box;text-align: center;}#sk-7a77edca-3794-447a-bc0b-1b559064a57e label.sk-toggleable__label-arrow:before {content: \"▸\";float: left;margin-right: 0.25em;color: #696969;}#sk-7a77edca-3794-447a-bc0b-1b559064a57e label.sk-toggleable__label-arrow:hover:before {color: black;}#sk-7a77edca-3794-447a-bc0b-1b559064a57e div.sk-estimator:hover label.sk-toggleable__label-arrow:before {color: black;}#sk-7a77edca-3794-447a-bc0b-1b559064a57e div.sk-toggleable__content {max-height: 0;max-width: 0;overflow: hidden;text-align: left;background-color: #f0f8ff;}#sk-7a77edca-3794-447a-bc0b-1b559064a57e div.sk-toggleable__content pre {margin: 0.2em;color: black;border-radius: 0.25em;background-color: #f0f8ff;}#sk-7a77edca-3794-447a-bc0b-1b559064a57e input.sk-toggleable__control:checked~div.sk-toggleable__content {max-height: 200px;max-width: 100%;overflow: auto;}#sk-7a77edca-3794-447a-bc0b-1b559064a57e input.sk-toggleable__control:checked~label.sk-toggleable__label-arrow:before {content: \"▾\";}#sk-7a77edca-3794-447a-bc0b-1b559064a57e div.sk-estimator input.sk-toggleable__control:checked~label.sk-toggleable__label {background-color: #d4ebff;}#sk-7a77edca-3794-447a-bc0b-1b559064a57e div.sk-label input.sk-toggleable__control:checked~label.sk-toggleable__label {background-color: #d4ebff;}#sk-7a77edca-3794-447a-bc0b-1b559064a57e input.sk-hidden--visually {border: 0;clip: rect(1px 1px 1px 1px);clip: rect(1px, 1px, 1px, 1px);height: 1px;margin: -1px;overflow: hidden;padding: 0;position: absolute;width: 1px;}#sk-7a77edca-3794-447a-bc0b-1b559064a57e div.sk-estimator {font-family: monospace;background-color: #f0f8ff;border: 1px dotted black;border-radius: 0.25em;box-sizing: border-box;margin-bottom: 0.5em;}#sk-7a77edca-3794-447a-bc0b-1b559064a57e div.sk-estimator:hover {background-color: #d4ebff;}#sk-7a77edca-3794-447a-bc0b-1b559064a57e div.sk-parallel-item::after {content: \"\";width: 100%;border-bottom: 1px solid gray;flex-grow: 1;}#sk-7a77edca-3794-447a-bc0b-1b559064a57e div.sk-label:hover label.sk-toggleable__label {background-color: #d4ebff;}#sk-7a77edca-3794-447a-bc0b-1b559064a57e div.sk-serial::before {content: \"\";position: absolute;border-left: 1px solid gray;box-sizing: border-box;top: 2em;bottom: 0;left: 50%;}#sk-7a77edca-3794-447a-bc0b-1b559064a57e div.sk-serial {display: flex;flex-direction: column;align-items: center;background-color: white;padding-right: 0.2em;padding-left: 0.2em;}#sk-7a77edca-3794-447a-bc0b-1b559064a57e div.sk-item {z-index: 1;}#sk-7a77edca-3794-447a-bc0b-1b559064a57e div.sk-parallel {display: flex;align-items: stretch;justify-content: center;background-color: white;}#sk-7a77edca-3794-447a-bc0b-1b559064a57e div.sk-parallel::before {content: \"\";position: absolute;border-left: 1px solid gray;box-sizing: border-box;top: 2em;bottom: 0;left: 50%;}#sk-7a77edca-3794-447a-bc0b-1b559064a57e div.sk-parallel-item {display: flex;flex-direction: column;position: relative;background-color: white;}#sk-7a77edca-3794-447a-bc0b-1b559064a57e div.sk-parallel-item:first-child::after {align-self: flex-end;width: 50%;}#sk-7a77edca-3794-447a-bc0b-1b559064a57e div.sk-parallel-item:last-child::after {align-self: flex-start;width: 50%;}#sk-7a77edca-3794-447a-bc0b-1b559064a57e div.sk-parallel-item:only-child::after {width: 0;}#sk-7a77edca-3794-447a-bc0b-1b559064a57e div.sk-dashed-wrapped {border: 1px dashed gray;margin: 0 0.4em 0.5em 0.4em;box-sizing: border-box;padding-bottom: 0.4em;background-color: white;position: relative;}#sk-7a77edca-3794-447a-bc0b-1b559064a57e div.sk-label label {font-family: monospace;font-weight: bold;background-color: white;display: inline-block;line-height: 1.2em;}#sk-7a77edca-3794-447a-bc0b-1b559064a57e div.sk-label-container {position: relative;z-index: 2;text-align: center;}#sk-7a77edca-3794-447a-bc0b-1b559064a57e div.sk-container {/* jupyter's `normalize.less` sets `[hidden] { display: none; }` but bootstrap.min.css set `[hidden] { display: none !important; }` so we also need the `!important` here to be able to override the default hidden behavior on the sphinx rendered scikit-learn.org. See: https://github.com/scikit-learn/scikit-learn/issues/21755 */display: inline-block !important;position: relative;}#sk-7a77edca-3794-447a-bc0b-1b559064a57e div.sk-text-repr-fallback {display: none;}</style><div id=\"sk-7a77edca-3794-447a-bc0b-1b559064a57e\" class=\"sk-top-container\"><div class=\"sk-text-repr-fallback\"><pre>GridSearchCV(cv=5,\n",
       "             estimator=Pipeline(steps=[(&#x27;columntransformer&#x27;,\n",
       "                                        ColumnTransformer(transformers=[(&#x27;onehotencoder&#x27;,\n",
       "                                                                         OneHotEncoder(handle_unknown=&#x27;ignore&#x27;),\n",
       "                                                                         [&#x27;PrimaryPropertyType&#x27;,\n",
       "                                                                          &#x27;Neighborhood&#x27;,\n",
       "                                                                          &#x27;LargestPropertyUseType&#x27;,\n",
       "                                                                          &#x27;ComplianceStatus&#x27;]),\n",
       "                                                                        (&#x27;standardscaler&#x27;,\n",
       "                                                                         StandardScaler(),\n",
       "                                                                         [&#x27;NumberofBuildings&#x27;,\n",
       "                                                                          &#x27;NumberofFloors&#x27;,\n",
       "                                                                          &#x27;PropertyGFATotal&#x27;,\n",
       "                                                                          &#x27;PropertyGFAParking&#x27;,\n",
       "                                                                          &#x27;PropertyGFABuilding(s)&#x27;,\n",
       "                                                                          &#x27;LargestPropertyUseTypeGFA&#x27;,\n",
       "                                                                          &#x27;SourceEUIWN(kBtu/sf)&#x27;,\n",
       "                                                                          &#x27;GHGEmissionsIntensity&#x27;,\n",
       "                                                                          &#x27;BuildingAge&#x27;])])),\n",
       "                                       (&#x27;randomforestregressor&#x27;,\n",
       "                                        RandomForestRegressor())]),\n",
       "             param_grid={&#x27;randomforestregressor__n_estimators&#x27;: [100, 200,\n",
       "                                                                 300]})</pre><b>Please rerun this cell to show the HTML repr or trust the notebook.</b></div><div class=\"sk-container\" hidden><div class=\"sk-item sk-dashed-wrapped\"><div class=\"sk-label-container\"><div class=\"sk-label sk-toggleable\"><input class=\"sk-toggleable__control sk-hidden--visually\" id=\"9a599ac5-a651-4198-8ad2-36c176952219\" type=\"checkbox\" ><label for=\"9a599ac5-a651-4198-8ad2-36c176952219\" class=\"sk-toggleable__label sk-toggleable__label-arrow\">GridSearchCV</label><div class=\"sk-toggleable__content\"><pre>GridSearchCV(cv=5,\n",
       "             estimator=Pipeline(steps=[(&#x27;columntransformer&#x27;,\n",
       "                                        ColumnTransformer(transformers=[(&#x27;onehotencoder&#x27;,\n",
       "                                                                         OneHotEncoder(handle_unknown=&#x27;ignore&#x27;),\n",
       "                                                                         [&#x27;PrimaryPropertyType&#x27;,\n",
       "                                                                          &#x27;Neighborhood&#x27;,\n",
       "                                                                          &#x27;LargestPropertyUseType&#x27;,\n",
       "                                                                          &#x27;ComplianceStatus&#x27;]),\n",
       "                                                                        (&#x27;standardscaler&#x27;,\n",
       "                                                                         StandardScaler(),\n",
       "                                                                         [&#x27;NumberofBuildings&#x27;,\n",
       "                                                                          &#x27;NumberofFloors&#x27;,\n",
       "                                                                          &#x27;PropertyGFATotal&#x27;,\n",
       "                                                                          &#x27;PropertyGFAParking&#x27;,\n",
       "                                                                          &#x27;PropertyGFABuilding(s)&#x27;,\n",
       "                                                                          &#x27;LargestPropertyUseTypeGFA&#x27;,\n",
       "                                                                          &#x27;SourceEUIWN(kBtu/sf)&#x27;,\n",
       "                                                                          &#x27;GHGEmissionsIntensity&#x27;,\n",
       "                                                                          &#x27;BuildingAge&#x27;])])),\n",
       "                                       (&#x27;randomforestregressor&#x27;,\n",
       "                                        RandomForestRegressor())]),\n",
       "             param_grid={&#x27;randomforestregressor__n_estimators&#x27;: [100, 200,\n",
       "                                                                 300]})</pre></div></div></div><div class=\"sk-parallel\"><div class=\"sk-parallel-item\"><div class=\"sk-item\"><div class=\"sk-serial\"><div class=\"sk-item\"><div class=\"sk-serial\"><div class=\"sk-item sk-dashed-wrapped\"><div class=\"sk-label-container\"><div class=\"sk-label sk-toggleable\"><input class=\"sk-toggleable__control sk-hidden--visually\" id=\"ac0988de-ab4a-4876-b826-cbe1332e95cf\" type=\"checkbox\" ><label for=\"ac0988de-ab4a-4876-b826-cbe1332e95cf\" class=\"sk-toggleable__label sk-toggleable__label-arrow\">columntransformer: ColumnTransformer</label><div class=\"sk-toggleable__content\"><pre>ColumnTransformer(transformers=[(&#x27;onehotencoder&#x27;,\n",
       "                                 OneHotEncoder(handle_unknown=&#x27;ignore&#x27;),\n",
       "                                 [&#x27;PrimaryPropertyType&#x27;, &#x27;Neighborhood&#x27;,\n",
       "                                  &#x27;LargestPropertyUseType&#x27;,\n",
       "                                  &#x27;ComplianceStatus&#x27;]),\n",
       "                                (&#x27;standardscaler&#x27;, StandardScaler(),\n",
       "                                 [&#x27;NumberofBuildings&#x27;, &#x27;NumberofFloors&#x27;,\n",
       "                                  &#x27;PropertyGFATotal&#x27;, &#x27;PropertyGFAParking&#x27;,\n",
       "                                  &#x27;PropertyGFABuilding(s)&#x27;,\n",
       "                                  &#x27;LargestPropertyUseTypeGFA&#x27;,\n",
       "                                  &#x27;SourceEUIWN(kBtu/sf)&#x27;,\n",
       "                                  &#x27;GHGEmissionsIntensity&#x27;, &#x27;BuildingAge&#x27;])])</pre></div></div></div><div class=\"sk-parallel\"><div class=\"sk-parallel-item\"><div class=\"sk-item\"><div class=\"sk-label-container\"><div class=\"sk-label sk-toggleable\"><input class=\"sk-toggleable__control sk-hidden--visually\" id=\"c797c2ba-b6eb-4868-8582-919e1b46244e\" type=\"checkbox\" ><label for=\"c797c2ba-b6eb-4868-8582-919e1b46244e\" class=\"sk-toggleable__label sk-toggleable__label-arrow\">onehotencoder</label><div class=\"sk-toggleable__content\"><pre>[&#x27;PrimaryPropertyType&#x27;, &#x27;Neighborhood&#x27;, &#x27;LargestPropertyUseType&#x27;, &#x27;ComplianceStatus&#x27;]</pre></div></div></div><div class=\"sk-serial\"><div class=\"sk-item\"><div class=\"sk-estimator sk-toggleable\"><input class=\"sk-toggleable__control sk-hidden--visually\" id=\"4ec6f41b-2c3b-4f5b-b887-b5eb1bda8d24\" type=\"checkbox\" ><label for=\"4ec6f41b-2c3b-4f5b-b887-b5eb1bda8d24\" class=\"sk-toggleable__label sk-toggleable__label-arrow\">OneHotEncoder</label><div class=\"sk-toggleable__content\"><pre>OneHotEncoder(handle_unknown=&#x27;ignore&#x27;)</pre></div></div></div></div></div></div><div class=\"sk-parallel-item\"><div class=\"sk-item\"><div class=\"sk-label-container\"><div class=\"sk-label sk-toggleable\"><input class=\"sk-toggleable__control sk-hidden--visually\" id=\"13fb0a79-f12e-4e90-a788-7d7d55ddb6c0\" type=\"checkbox\" ><label for=\"13fb0a79-f12e-4e90-a788-7d7d55ddb6c0\" class=\"sk-toggleable__label sk-toggleable__label-arrow\">standardscaler</label><div class=\"sk-toggleable__content\"><pre>[&#x27;NumberofBuildings&#x27;, &#x27;NumberofFloors&#x27;, &#x27;PropertyGFATotal&#x27;, &#x27;PropertyGFAParking&#x27;, &#x27;PropertyGFABuilding(s)&#x27;, &#x27;LargestPropertyUseTypeGFA&#x27;, &#x27;SourceEUIWN(kBtu/sf)&#x27;, &#x27;GHGEmissionsIntensity&#x27;, &#x27;BuildingAge&#x27;]</pre></div></div></div><div class=\"sk-serial\"><div class=\"sk-item\"><div class=\"sk-estimator sk-toggleable\"><input class=\"sk-toggleable__control sk-hidden--visually\" id=\"f5391cd8-6272-4d21-9845-c39d11827508\" type=\"checkbox\" ><label for=\"f5391cd8-6272-4d21-9845-c39d11827508\" class=\"sk-toggleable__label sk-toggleable__label-arrow\">StandardScaler</label><div class=\"sk-toggleable__content\"><pre>StandardScaler()</pre></div></div></div></div></div></div></div></div><div class=\"sk-item\"><div class=\"sk-estimator sk-toggleable\"><input class=\"sk-toggleable__control sk-hidden--visually\" id=\"719f965e-11ac-4a06-bd61-41786190f854\" type=\"checkbox\" ><label for=\"719f965e-11ac-4a06-bd61-41786190f854\" class=\"sk-toggleable__label sk-toggleable__label-arrow\">RandomForestRegressor</label><div class=\"sk-toggleable__content\"><pre>RandomForestRegressor()</pre></div></div></div></div></div></div></div></div></div></div></div></div>"
      ],
      "text/plain": [
       "GridSearchCV(cv=5,\n",
       "             estimator=Pipeline(steps=[('columntransformer',\n",
       "                                        ColumnTransformer(transformers=[('onehotencoder',\n",
       "                                                                         OneHotEncoder(handle_unknown='ignore'),\n",
       "                                                                         ['PrimaryPropertyType',\n",
       "                                                                          'Neighborhood',\n",
       "                                                                          'LargestPropertyUseType',\n",
       "                                                                          'ComplianceStatus']),\n",
       "                                                                        ('standardscaler',\n",
       "                                                                         StandardScaler(),\n",
       "                                                                         ['NumberofBuildings',\n",
       "                                                                          'NumberofFloors',\n",
       "                                                                          'PropertyGFATotal',\n",
       "                                                                          'PropertyGFAParking',\n",
       "                                                                          'PropertyGFABuilding(s)',\n",
       "                                                                          'LargestPropertyUseTypeGFA',\n",
       "                                                                          'SourceEUIWN(kBtu/sf)',\n",
       "                                                                          'GHGEmissionsIntensity',\n",
       "                                                                          'BuildingAge'])])),\n",
       "                                       ('randomforestregressor',\n",
       "                                        RandomForestRegressor())]),\n",
       "             param_grid={'randomforestregressor__n_estimators': [100, 200,\n",
       "                                                                 300]})"
      ]
     },
     "execution_count": 84,
     "metadata": {},
     "output_type": "execute_result"
    }
   ],
   "source": [
    "parameter= {'randomforestregressor__n_estimators': [100,200,300]}\n",
    "#Grille de recherche:\n",
    "grid_randomforest= GridSearchCV(pipe_randomforest, parameter, cv=5)\n",
    "grid_randomforest.fit(X_train,y_train)"
   ]
  },
  {
   "cell_type": "code",
   "execution_count": 85,
   "metadata": {},
   "outputs": [
    {
     "name": "stdout",
     "output_type": "stream",
     "text": [
      "0.9293176027880887\n",
      "{'randomforestregressor__n_estimators': 200}\n"
     ]
    }
   ],
   "source": [
    "print(grid_randomforest.best_score_)\n",
    "print(grid_randomforest.best_params_)"
   ]
  },
  {
   "cell_type": "code",
   "execution_count": 86,
   "metadata": {},
   "outputs": [
    {
     "data": {
      "text/plain": [
       "0.9488216533091504"
      ]
     },
     "execution_count": 86,
     "metadata": {},
     "output_type": "execute_result"
    }
   ],
   "source": [
    "model_randomforest= grid_randomforest.best_estimator_\n",
    "model_randomforest.score(X_test,y_test)"
   ]
  },
  {
   "cell_type": "code",
   "execution_count": 87,
   "metadata": {},
   "outputs": [
    {
     "data": {
      "text/plain": [
       "[560384.7625450261,\n",
       " 314031082092.6454,\n",
       " 312615.1033080805,\n",
       " 149686.30566324995,\n",
       " 0.9488216533091504]"
      ]
     },
     "execution_count": 87,
     "metadata": {},
     "output_type": "execute_result"
    }
   ],
   "source": [
    "pred_randomforest= model_randomforest.predict(X_test)\n",
    "# Evaluation des métriques:\n",
    "compute_scores(y_test, pred_randomforest)"
   ]
  },
  {
   "cell_type": "code",
   "execution_count": 88,
   "metadata": {},
   "outputs": [
    {
     "data": {
      "image/png": "[encoded data removed]",
      "text/plain": [
       "<Figure size 432x288 with 1 Axes>"
      ]
     },
     "metadata": {
      "needs_background": "light"
     },
     "output_type": "display_data"
    }
   ],
   "source": [
    "fig, ax = plt.subplots()\n",
    "ax.scatter(y_test, pred_randomforest)\n",
    "ax.plot([y_test.min(), y_test.max()], [y_test.min(), y_test.max()], 'k--', lw=4)\n",
    "ax.set_xlabel('Measured')\n",
    "ax.set_ylabel('Predicted')\n",
    "plt.show()"
   ]
  },
  {
   "cell_type": "markdown",
   "metadata": {},
   "source": [
    "##### Application du modèle: Decision Tree Regression with AdaBoost"
   ]
  },
  {
   "cell_type": "code",
   "execution_count": 89,
   "metadata": {},
   "outputs": [],
   "source": [
    "adaboost= AdaBoostRegressor(DecisionTreeRegressor(max_depth=4), n_estimators=300)\n",
    "# On crée le modèle à l'aide de pipeline\n",
    "pipe_adaboost= make_pipeline(column_trans, adaboost)"
   ]
  },
  {
   "cell_type": "code",
   "execution_count": 90,
   "metadata": {},
   "outputs": [
    {
     "data": {
      "text/plain": [
       "dict_keys(['memory', 'steps', 'verbose', 'columntransformer', 'adaboostregressor', 'columntransformer__n_jobs', 'columntransformer__remainder', 'columntransformer__sparse_threshold', 'columntransformer__transformer_weights', 'columntransformer__transformers', 'columntransformer__verbose', 'columntransformer__verbose_feature_names_out', 'columntransformer__onehotencoder', 'columntransformer__standardscaler', 'columntransformer__onehotencoder__categories', 'columntransformer__onehotencoder__drop', 'columntransformer__onehotencoder__dtype', 'columntransformer__onehotencoder__handle_unknown', 'columntransformer__onehotencoder__sparse', 'columntransformer__standardscaler__copy', 'columntransformer__standardscaler__with_mean', 'columntransformer__standardscaler__with_std', 'adaboostregressor__base_estimator__ccp_alpha', 'adaboostregressor__base_estimator__criterion', 'adaboostregressor__base_estimator__max_depth', 'adaboostregressor__base_estimator__max_features', 'adaboostregressor__base_estimator__max_leaf_nodes', 'adaboostregressor__base_estimator__min_impurity_decrease', 'adaboostregressor__base_estimator__min_samples_leaf', 'adaboostregressor__base_estimator__min_samples_split', 'adaboostregressor__base_estimator__min_weight_fraction_leaf', 'adaboostregressor__base_estimator__random_state', 'adaboostregressor__base_estimator__splitter', 'adaboostregressor__base_estimator', 'adaboostregressor__learning_rate', 'adaboostregressor__loss', 'adaboostregressor__n_estimators', 'adaboostregressor__random_state'])"
      ]
     },
     "execution_count": 90,
     "metadata": {},
     "output_type": "execute_result"
    }
   ],
   "source": [
    "# liste des paramètres de l'estimateur:\n",
    "pipe_adaboost.get_params().keys()"
   ]
  },
  {
   "cell_type": "code",
   "execution_count": 91,
   "metadata": {},
   "outputs": [
    {
     "data": {
      "text/plain": [
       "array([0.82514685, 0.83863789, 0.82548253, 0.77444973, 0.82030508])"
      ]
     },
     "execution_count": 91,
     "metadata": {},
     "output_type": "execute_result"
    }
   ],
   "source": [
    "# Cross validation avec: cross_val_score()\n",
    "cross_val_score(pipe_adaboost,X_train,y_train,cv=5,scoring='r2')"
   ]
  },
  {
   "cell_type": "code",
   "execution_count": 92,
   "metadata": {},
   "outputs": [
    {
     "data": {
      "text/html": [
       "<style>#sk-98aed2a2-22fb-403c-932c-1f6509ec0c9d {color: black;background-color: white;}#sk-98aed2a2-22fb-403c-932c-1f6509ec0c9d pre{padding: 0;}#sk-98aed2a2-22fb-403c-932c-1f6509ec0c9d div.sk-toggleable {background-color: white;}#sk-98aed2a2-22fb-403c-932c-1f6509ec0c9d label.sk-toggleable__label {cursor: pointer;display: block;width: 100%;margin-bottom: 0;padding: 0.3em;box-sizing: border-box;text-align: center;}#sk-98aed2a2-22fb-403c-932c-1f6509ec0c9d label.sk-toggleable__label-arrow:before {content: \"▸\";float: left;margin-right: 0.25em;color: #696969;}#sk-98aed2a2-22fb-403c-932c-1f6509ec0c9d label.sk-toggleable__label-arrow:hover:before {color: black;}#sk-98aed2a2-22fb-403c-932c-1f6509ec0c9d div.sk-estimator:hover label.sk-toggleable__label-arrow:before {color: black;}#sk-98aed2a2-22fb-403c-932c-1f6509ec0c9d div.sk-toggleable__content {max-height: 0;max-width: 0;overflow: hidden;text-align: left;background-color: #f0f8ff;}#sk-98aed2a2-22fb-403c-932c-1f6509ec0c9d div.sk-toggleable__content pre {margin: 0.2em;color: black;border-radius: 0.25em;background-color: #f0f8ff;}#sk-98aed2a2-22fb-403c-932c-1f6509ec0c9d input.sk-toggleable__control:checked~div.sk-toggleable__content {max-height: 200px;max-width: 100%;overflow: auto;}#sk-98aed2a2-22fb-403c-932c-1f6509ec0c9d input.sk-toggleable__control:checked~label.sk-toggleable__label-arrow:before {content: \"▾\";}#sk-98aed2a2-22fb-403c-932c-1f6509ec0c9d div.sk-estimator input.sk-toggleable__control:checked~label.sk-toggleable__label {background-color: #d4ebff;}#sk-98aed2a2-22fb-403c-932c-1f6509ec0c9d div.sk-label input.sk-toggleable__control:checked~label.sk-toggleable__label {background-color: #d4ebff;}#sk-98aed2a2-22fb-403c-932c-1f6509ec0c9d input.sk-hidden--visually {border: 0;clip: rect(1px 1px 1px 1px);clip: rect(1px, 1px, 1px, 1px);height: 1px;margin: -1px;overflow: hidden;padding: 0;position: absolute;width: 1px;}#sk-98aed2a2-22fb-403c-932c-1f6509ec0c9d div.sk-estimator {font-family: monospace;background-color: #f0f8ff;border: 1px dotted black;border-radius: 0.25em;box-sizing: border-box;margin-bottom: 0.5em;}#sk-98aed2a2-22fb-403c-932c-1f6509ec0c9d div.sk-estimator:hover {background-color: #d4ebff;}#sk-98aed2a2-22fb-403c-932c-1f6509ec0c9d div.sk-parallel-item::after {content: \"\";width: 100%;border-bottom: 1px solid gray;flex-grow: 1;}#sk-98aed2a2-22fb-403c-932c-1f6509ec0c9d div.sk-label:hover label.sk-toggleable__label {background-color: #d4ebff;}#sk-98aed2a2-22fb-403c-932c-1f6509ec0c9d div.sk-serial::before {content: \"\";position: absolute;border-left: 1px solid gray;box-sizing: border-box;top: 2em;bottom: 0;left: 50%;}#sk-98aed2a2-22fb-403c-932c-1f6509ec0c9d div.sk-serial {display: flex;flex-direction: column;align-items: center;background-color: white;padding-right: 0.2em;padding-left: 0.2em;}#sk-98aed2a2-22fb-403c-932c-1f6509ec0c9d div.sk-item {z-index: 1;}#sk-98aed2a2-22fb-403c-932c-1f6509ec0c9d div.sk-parallel {display: flex;align-items: stretch;justify-content: center;background-color: white;}#sk-98aed2a2-22fb-403c-932c-1f6509ec0c9d div.sk-parallel::before {content: \"\";position: absolute;border-left: 1px solid gray;box-sizing: border-box;top: 2em;bottom: 0;left: 50%;}#sk-98aed2a2-22fb-403c-932c-1f6509ec0c9d div.sk-parallel-item {display: flex;flex-direction: column;position: relative;background-color: white;}#sk-98aed2a2-22fb-403c-932c-1f6509ec0c9d div.sk-parallel-item:first-child::after {align-self: flex-end;width: 50%;}#sk-98aed2a2-22fb-403c-932c-1f6509ec0c9d div.sk-parallel-item:last-child::after {align-self: flex-start;width: 50%;}#sk-98aed2a2-22fb-403c-932c-1f6509ec0c9d div.sk-parallel-item:only-child::after {width: 0;}#sk-98aed2a2-22fb-403c-932c-1f6509ec0c9d div.sk-dashed-wrapped {border: 1px dashed gray;margin: 0 0.4em 0.5em 0.4em;box-sizing: border-box;padding-bottom: 0.4em;background-color: white;position: relative;}#sk-98aed2a2-22fb-403c-932c-1f6509ec0c9d div.sk-label label {font-family: monospace;font-weight: bold;background-color: white;display: inline-block;line-height: 1.2em;}#sk-98aed2a2-22fb-403c-932c-1f6509ec0c9d div.sk-label-container {position: relative;z-index: 2;text-align: center;}#sk-98aed2a2-22fb-403c-932c-1f6509ec0c9d div.sk-container {/* jupyter's `normalize.less` sets `[hidden] { display: none; }` but bootstrap.min.css set `[hidden] { display: none !important; }` so we also need the `!important` here to be able to override the default hidden behavior on the sphinx rendered scikit-learn.org. See: https://github.com/scikit-learn/scikit-learn/issues/21755 */display: inline-block !important;position: relative;}#sk-98aed2a2-22fb-403c-932c-1f6509ec0c9d div.sk-text-repr-fallback {display: none;}</style><div id=\"sk-98aed2a2-22fb-403c-932c-1f6509ec0c9d\" class=\"sk-top-container\"><div class=\"sk-text-repr-fallback\"><pre>GridSearchCV(cv=5,\n",
       "             estimator=Pipeline(steps=[(&#x27;columntransformer&#x27;,\n",
       "                                        ColumnTransformer(transformers=[(&#x27;onehotencoder&#x27;,\n",
       "                                                                         OneHotEncoder(handle_unknown=&#x27;ignore&#x27;),\n",
       "                                                                         [&#x27;PrimaryPropertyType&#x27;,\n",
       "                                                                          &#x27;Neighborhood&#x27;,\n",
       "                                                                          &#x27;LargestPropertyUseType&#x27;,\n",
       "                                                                          &#x27;ComplianceStatus&#x27;]),\n",
       "                                                                        (&#x27;standardscaler&#x27;,\n",
       "                                                                         StandardScaler(),\n",
       "                                                                         [&#x27;NumberofBuildings&#x27;,\n",
       "                                                                          &#x27;NumberofFloors&#x27;,\n",
       "                                                                          &#x27;PropertyGFATotal&#x27;,\n",
       "                                                                          &#x27;PropertyGFAParking&#x27;,...\n",
       "                                                                          &#x27;SourceEUIWN(kBtu/sf)&#x27;,\n",
       "                                                                          &#x27;GHGEmissionsIntensity&#x27;,\n",
       "                                                                          &#x27;BuildingAge&#x27;])])),\n",
       "                                       (&#x27;adaboostregressor&#x27;,\n",
       "                                        AdaBoostRegressor(base_estimator=DecisionTreeRegressor(max_depth=4),\n",
       "                                                          n_estimators=300))]),\n",
       "             param_grid={&#x27;adaboostregressor__base_estimator__max_depth&#x27;: [4, 6,\n",
       "                                                                          8],\n",
       "                         &#x27;adaboostregressor__loss&#x27;: [&#x27;linear&#x27;, &#x27;square&#x27;,\n",
       "                                                     &#x27;exponential&#x27;],\n",
       "                         &#x27;adaboostregressor__n_estimators&#x27;: [300, 400, 500]})</pre><b>Please rerun this cell to show the HTML repr or trust the notebook.</b></div><div class=\"sk-container\" hidden><div class=\"sk-item sk-dashed-wrapped\"><div class=\"sk-label-container\"><div class=\"sk-label sk-toggleable\"><input class=\"sk-toggleable__control sk-hidden--visually\" id=\"4133e10c-2db7-46ac-8233-e7f72a1ab5b5\" type=\"checkbox\" ><label for=\"4133e10c-2db7-46ac-8233-e7f72a1ab5b5\" class=\"sk-toggleable__label sk-toggleable__label-arrow\">GridSearchCV</label><div class=\"sk-toggleable__content\"><pre>GridSearchCV(cv=5,\n",
       "             estimator=Pipeline(steps=[(&#x27;columntransformer&#x27;,\n",
       "                                        ColumnTransformer(transformers=[(&#x27;onehotencoder&#x27;,\n",
       "                                                                         OneHotEncoder(handle_unknown=&#x27;ignore&#x27;),\n",
       "                                                                         [&#x27;PrimaryPropertyType&#x27;,\n",
       "                                                                          &#x27;Neighborhood&#x27;,\n",
       "                                                                          &#x27;LargestPropertyUseType&#x27;,\n",
       "                                                                          &#x27;ComplianceStatus&#x27;]),\n",
       "                                                                        (&#x27;standardscaler&#x27;,\n",
       "                                                                         StandardScaler(),\n",
       "                                                                         [&#x27;NumberofBuildings&#x27;,\n",
       "                                                                          &#x27;NumberofFloors&#x27;,\n",
       "                                                                          &#x27;PropertyGFATotal&#x27;,\n",
       "                                                                          &#x27;PropertyGFAParking&#x27;,...\n",
       "                                                                          &#x27;SourceEUIWN(kBtu/sf)&#x27;,\n",
       "                                                                          &#x27;GHGEmissionsIntensity&#x27;,\n",
       "                                                                          &#x27;BuildingAge&#x27;])])),\n",
       "                                       (&#x27;adaboostregressor&#x27;,\n",
       "                                        AdaBoostRegressor(base_estimator=DecisionTreeRegressor(max_depth=4),\n",
       "                                                          n_estimators=300))]),\n",
       "             param_grid={&#x27;adaboostregressor__base_estimator__max_depth&#x27;: [4, 6,\n",
       "                                                                          8],\n",
       "                         &#x27;adaboostregressor__loss&#x27;: [&#x27;linear&#x27;, &#x27;square&#x27;,\n",
       "                                                     &#x27;exponential&#x27;],\n",
       "                         &#x27;adaboostregressor__n_estimators&#x27;: [300, 400, 500]})</pre></div></div></div><div class=\"sk-parallel\"><div class=\"sk-parallel-item\"><div class=\"sk-item\"><div class=\"sk-serial\"><div class=\"sk-item\"><div class=\"sk-serial\"><div class=\"sk-item sk-dashed-wrapped\"><div class=\"sk-label-container\"><div class=\"sk-label sk-toggleable\"><input class=\"sk-toggleable__control sk-hidden--visually\" id=\"64c694f1-738f-41cc-b9fc-566338121d41\" type=\"checkbox\" ><label for=\"64c694f1-738f-41cc-b9fc-566338121d41\" class=\"sk-toggleable__label sk-toggleable__label-arrow\">columntransformer: ColumnTransformer</label><div class=\"sk-toggleable__content\"><pre>ColumnTransformer(transformers=[(&#x27;onehotencoder&#x27;,\n",
       "                                 OneHotEncoder(handle_unknown=&#x27;ignore&#x27;),\n",
       "                                 [&#x27;PrimaryPropertyType&#x27;, &#x27;Neighborhood&#x27;,\n",
       "                                  &#x27;LargestPropertyUseType&#x27;,\n",
       "                                  &#x27;ComplianceStatus&#x27;]),\n",
       "                                (&#x27;standardscaler&#x27;, StandardScaler(),\n",
       "                                 [&#x27;NumberofBuildings&#x27;, &#x27;NumberofFloors&#x27;,\n",
       "                                  &#x27;PropertyGFATotal&#x27;, &#x27;PropertyGFAParking&#x27;,\n",
       "                                  &#x27;PropertyGFABuilding(s)&#x27;,\n",
       "                                  &#x27;LargestPropertyUseTypeGFA&#x27;,\n",
       "                                  &#x27;SourceEUIWN(kBtu/sf)&#x27;,\n",
       "                                  &#x27;GHGEmissionsIntensity&#x27;, &#x27;BuildingAge&#x27;])])</pre></div></div></div><div class=\"sk-parallel\"><div class=\"sk-parallel-item\"><div class=\"sk-item\"><div class=\"sk-label-container\"><div class=\"sk-label sk-toggleable\"><input class=\"sk-toggleable__control sk-hidden--visually\" id=\"f6c4c30f-b5eb-4201-8297-90b0a98c389f\" type=\"checkbox\" ><label for=\"f6c4c30f-b5eb-4201-8297-90b0a98c389f\" class=\"sk-toggleable__label sk-toggleable__label-arrow\">onehotencoder</label><div class=\"sk-toggleable__content\"><pre>[&#x27;PrimaryPropertyType&#x27;, &#x27;Neighborhood&#x27;, &#x27;LargestPropertyUseType&#x27;, &#x27;ComplianceStatus&#x27;]</pre></div></div></div><div class=\"sk-serial\"><div class=\"sk-item\"><div class=\"sk-estimator sk-toggleable\"><input class=\"sk-toggleable__control sk-hidden--visually\" id=\"56516a4e-5d43-4de5-a981-b7453a50ea26\" type=\"checkbox\" ><label for=\"56516a4e-5d43-4de5-a981-b7453a50ea26\" class=\"sk-toggleable__label sk-toggleable__label-arrow\">OneHotEncoder</label><div class=\"sk-toggleable__content\"><pre>OneHotEncoder(handle_unknown=&#x27;ignore&#x27;)</pre></div></div></div></div></div></div><div class=\"sk-parallel-item\"><div class=\"sk-item\"><div class=\"sk-label-container\"><div class=\"sk-label sk-toggleable\"><input class=\"sk-toggleable__control sk-hidden--visually\" id=\"88288962-60cf-4a26-8ee8-f013ef0f68f7\" type=\"checkbox\" ><label for=\"88288962-60cf-4a26-8ee8-f013ef0f68f7\" class=\"sk-toggleable__label sk-toggleable__label-arrow\">standardscaler</label><div class=\"sk-toggleable__content\"><pre>[&#x27;NumberofBuildings&#x27;, &#x27;NumberofFloors&#x27;, &#x27;PropertyGFATotal&#x27;, &#x27;PropertyGFAParking&#x27;, &#x27;PropertyGFABuilding(s)&#x27;, &#x27;LargestPropertyUseTypeGFA&#x27;, &#x27;SourceEUIWN(kBtu/sf)&#x27;, &#x27;GHGEmissionsIntensity&#x27;, &#x27;BuildingAge&#x27;]</pre></div></div></div><div class=\"sk-serial\"><div class=\"sk-item\"><div class=\"sk-estimator sk-toggleable\"><input class=\"sk-toggleable__control sk-hidden--visually\" id=\"88f43d96-177f-48d6-a951-9336a9c32118\" type=\"checkbox\" ><label for=\"88f43d96-177f-48d6-a951-9336a9c32118\" class=\"sk-toggleable__label sk-toggleable__label-arrow\">StandardScaler</label><div class=\"sk-toggleable__content\"><pre>StandardScaler()</pre></div></div></div></div></div></div></div></div><div class=\"sk-item sk-dashed-wrapped\"><div class=\"sk-label-container\"><div class=\"sk-label sk-toggleable\"><input class=\"sk-toggleable__control sk-hidden--visually\" id=\"6396fca0-1c24-4cd1-a837-750c36388f6e\" type=\"checkbox\" ><label for=\"6396fca0-1c24-4cd1-a837-750c36388f6e\" class=\"sk-toggleable__label sk-toggleable__label-arrow\">adaboostregressor: AdaBoostRegressor</label><div class=\"sk-toggleable__content\"><pre>AdaBoostRegressor(base_estimator=DecisionTreeRegressor(max_depth=4),\n",
       "                  n_estimators=300)</pre></div></div></div><div class=\"sk-parallel\"><div class=\"sk-parallel-item\"><div class=\"sk-item\"><div class=\"sk-serial\"><div class=\"sk-item\"><div class=\"sk-estimator sk-toggleable\"><input class=\"sk-toggleable__control sk-hidden--visually\" id=\"ec2e2246-22d3-45a2-b599-6692db5473bd\" type=\"checkbox\" ><label for=\"ec2e2246-22d3-45a2-b599-6692db5473bd\" class=\"sk-toggleable__label sk-toggleable__label-arrow\">DecisionTreeRegressor</label><div class=\"sk-toggleable__content\"><pre>DecisionTreeRegressor(max_depth=4)</pre></div></div></div></div></div></div></div></div></div></div></div></div></div></div></div></div></div>"
      ],
      "text/plain": [
       "GridSearchCV(cv=5,\n",
       "             estimator=Pipeline(steps=[('columntransformer',\n",
       "                                        ColumnTransformer(transformers=[('onehotencoder',\n",
       "                                                                         OneHotEncoder(handle_unknown='ignore'),\n",
       "                                                                         ['PrimaryPropertyType',\n",
       "                                                                          'Neighborhood',\n",
       "                                                                          'LargestPropertyUseType',\n",
       "                                                                          'ComplianceStatus']),\n",
       "                                                                        ('standardscaler',\n",
       "                                                                         StandardScaler(),\n",
       "                                                                         ['NumberofBuildings',\n",
       "                                                                          'NumberofFloors',\n",
       "                                                                          'PropertyGFATotal',\n",
       "                                                                          'PropertyGFAParking',...\n",
       "                                                                          'SourceEUIWN(kBtu/sf)',\n",
       "                                                                          'GHGEmissionsIntensity',\n",
       "                                                                          'BuildingAge'])])),\n",
       "                                       ('adaboostregressor',\n",
       "                                        AdaBoostRegressor(base_estimator=DecisionTreeRegressor(max_depth=4),\n",
       "                                                          n_estimators=300))]),\n",
       "             param_grid={'adaboostregressor__base_estimator__max_depth': [4, 6,\n",
       "                                                                          8],\n",
       "                         'adaboostregressor__loss': ['linear', 'square',\n",
       "                                                     'exponential'],\n",
       "                         'adaboostregressor__n_estimators': [300, 400, 500]})"
      ]
     },
     "execution_count": 92,
     "metadata": {},
     "output_type": "execute_result"
    }
   ],
   "source": [
    "parameter= {'adaboostregressor__loss': ['linear', 'square', 'exponential'], \n",
    "           'adaboostregressor__base_estimator__max_depth':[4,6,8]\n",
    "           , 'adaboostregressor__n_estimators':[300,400,500]}\n",
    "#Grille de recherche:\n",
    "grid_adaboost= GridSearchCV(pipe_adaboost, parameter, cv=5)\n",
    "grid_adaboost.fit(X_train,y_train)"
   ]
  },
  {
   "cell_type": "code",
   "execution_count": 93,
   "metadata": {},
   "outputs": [
    {
     "name": "stdout",
     "output_type": "stream",
     "text": [
      "0.9239567338373711\n",
      "{'adaboostregressor__base_estimator__max_depth': 8, 'adaboostregressor__loss': 'linear', 'adaboostregressor__n_estimators': 300}\n"
     ]
    }
   ],
   "source": [
    "print(grid_adaboost.best_score_)\n",
    "print(grid_adaboost.best_params_)"
   ]
  },
  {
   "cell_type": "code",
   "execution_count": 94,
   "metadata": {},
   "outputs": [
    {
     "data": {
      "text/plain": [
       "0.9284418747703909"
      ]
     },
     "execution_count": 94,
     "metadata": {},
     "output_type": "execute_result"
    }
   ],
   "source": [
    "model_adaboost= grid_adaboost.best_estimator_\n",
    "model_adaboost.score(X_test,y_test)"
   ]
  },
  {
   "cell_type": "code",
   "execution_count": 95,
   "metadata": {},
   "outputs": [
    {
     "data": {
      "text/plain": [
       "[662632.402308746,\n",
       " 439081700589.45984,\n",
       " 415597.64592947485,\n",
       " 296624.1402777778,\n",
       " 0.9284418747703909]"
      ]
     },
     "execution_count": 95,
     "metadata": {},
     "output_type": "execute_result"
    }
   ],
   "source": [
    "pred_adaboost= model_adaboost.predict(X_test)\n",
    "# Evaluation des métriques:\n",
    "compute_scores(y_test, pred_adaboost)"
   ]
  },
  {
   "cell_type": "code",
   "execution_count": 96,
   "metadata": {},
   "outputs": [
    {
     "data": {
      "image/png": "[encoded data removed]",
      "text/plain": [
       "<Figure size 432x288 with 1 Axes>"
      ]
     },
     "metadata": {
      "needs_background": "light"
     },
     "output_type": "display_data"
    }
   ],
   "source": [
    "fig, ax = plt.subplots()\n",
    "ax.scatter(y_test, pred_adaboost)\n",
    "ax.plot([y_test.min(), y_test.max()], [y_test.min(), y_test.max()], 'k--', lw=4)\n",
    "ax.set_xlabel('Measured')\n",
    "ax.set_ylabel('Predicted')\n",
    "plt.show()"
   ]
  },
  {
   "cell_type": "markdown",
   "metadata": {},
   "source": [
    "#### Synthèse des métriques des différents modèle:"
   ]
  },
  {
   "cell_type": "code",
   "execution_count": 97,
   "metadata": {},
   "outputs": [],
   "source": [
    "lst=[compute_scores(y_test, pred_lr),compute_scores(y_test, pred_ridge),compute_scores(y_test, pred_svr),\n",
    "     compute_scores(y_test, pred_lasso),compute_scores(y_test, pred_elastic),compute_scores(y_test, pred_randomforest),\n",
    "    compute_scores(y_test, pred_adaboost)]"
   ]
  },
  {
   "cell_type": "code",
   "execution_count": 98,
   "metadata": {},
   "outputs": [
    {
     "data": {
      "text/plain": [
       "[[920497.5077972258,\n",
       "  847315661860.9039,\n",
       "  636783.6816501155,\n",
       "  428218.7878392418,\n",
       "  0.861911074501502],\n",
       " [1292269.5398069324,\n",
       "  1669960563512.821,\n",
       "  838180.0526990155,\n",
       "  554727.1940761064,\n",
       "  0.7278427978849189],\n",
       " [2610959.952126411,\n",
       "  6817111871607.948,\n",
       "  1857889.0572750247,\n",
       "  1302310.1335317548,\n",
       "  -0.11099994456131324],\n",
       " [917518.7520702021,\n",
       "  841840660400.461,\n",
       "  632853.3515783617,\n",
       "  423226.14635027724,\n",
       "  0.8628033477153769],\n",
       " [1605276.7099931724,\n",
       "  2576913315646.504,\n",
       "  1173790.6851413387,\n",
       "  965992.1417123908,\n",
       "  0.5800346826129915],\n",
       " [560384.7625450261,\n",
       "  314031082092.6454,\n",
       "  312615.1033080805,\n",
       "  149686.30566324995,\n",
       "  0.9488216533091504],\n",
       " [662632.402308746,\n",
       "  439081700589.45984,\n",
       "  415597.64592947485,\n",
       "  296624.1402777778,\n",
       "  0.9284418747703909]]"
      ]
     },
     "execution_count": 98,
     "metadata": {},
     "output_type": "execute_result"
    }
   ],
   "source": [
    "lst"
   ]
  },
  {
   "cell_type": "code",
   "execution_count": 99,
   "metadata": {},
   "outputs": [],
   "source": [
    "lst=[compute_scores(y_test, pred_lr),compute_scores(y_test, pred_ridge),compute_scores(y_test, pred_svr),\n",
    "     compute_scores(y_test, pred_lasso),compute_scores(y_test, pred_elastic),compute_scores(y_test, pred_randomforest),\n",
    "    compute_scores(y_test, pred_adaboost)]\n",
    "                   \n",
    "df_metrics_1 = pd.DataFrame(lst, index =['Linear regression','Ridge regression','SVR','Lasso','ElasticNet',\n",
    "                                                       'RandomForest', 'Adaboost']\n",
    "                            , columns =['RMSE', 'MSE', 'MAE', 'MEDIAN AE', 'R²'])"
   ]
  },
  {
   "cell_type": "code",
   "execution_count": 100,
   "metadata": {},
   "outputs": [
    {
     "data": {
      "text/html": [
       "<div>\n",
       "<style scoped>\n",
       "    .dataframe tbody tr th:only-of-type {\n",
       "        vertical-align: middle;\n",
       "    }\n",
       "\n",
       "    .dataframe tbody tr th {\n",
       "        vertical-align: top;\n",
       "    }\n",
       "\n",
       "    .dataframe thead th {\n",
       "        text-align: right;\n",
       "    }\n",
       "</style>\n",
       "<table border=\"1\" class=\"dataframe\">\n",
       "  <thead>\n",
       "    <tr style=\"text-align: right;\">\n",
       "      <th></th>\n",
       "      <th>RMSE</th>\n",
       "      <th>MSE</th>\n",
       "      <th>MAE</th>\n",
       "      <th>MEDIAN AE</th>\n",
       "      <th>R²</th>\n",
       "    </tr>\n",
       "  </thead>\n",
       "  <tbody>\n",
       "    <tr>\n",
       "      <th>Linear regression</th>\n",
       "      <td>9.204975e+05</td>\n",
       "      <td>8.473157e+11</td>\n",
       "      <td>6.367837e+05</td>\n",
       "      <td>4.282188e+05</td>\n",
       "      <td>0.861911</td>\n",
       "    </tr>\n",
       "    <tr>\n",
       "      <th>Ridge regression</th>\n",
       "      <td>1.292270e+06</td>\n",
       "      <td>1.669961e+12</td>\n",
       "      <td>8.381801e+05</td>\n",
       "      <td>5.547272e+05</td>\n",
       "      <td>0.727843</td>\n",
       "    </tr>\n",
       "    <tr>\n",
       "      <th>SVR</th>\n",
       "      <td>2.610960e+06</td>\n",
       "      <td>6.817112e+12</td>\n",
       "      <td>1.857889e+06</td>\n",
       "      <td>1.302310e+06</td>\n",
       "      <td>-0.111000</td>\n",
       "    </tr>\n",
       "    <tr>\n",
       "      <th>Lasso</th>\n",
       "      <td>9.175188e+05</td>\n",
       "      <td>8.418407e+11</td>\n",
       "      <td>6.328534e+05</td>\n",
       "      <td>4.232261e+05</td>\n",
       "      <td>0.862803</td>\n",
       "    </tr>\n",
       "    <tr>\n",
       "      <th>ElasticNet</th>\n",
       "      <td>1.605277e+06</td>\n",
       "      <td>2.576913e+12</td>\n",
       "      <td>1.173791e+06</td>\n",
       "      <td>9.659921e+05</td>\n",
       "      <td>0.580035</td>\n",
       "    </tr>\n",
       "    <tr>\n",
       "      <th>RandomForest</th>\n",
       "      <td>5.603848e+05</td>\n",
       "      <td>3.140311e+11</td>\n",
       "      <td>3.126151e+05</td>\n",
       "      <td>1.496863e+05</td>\n",
       "      <td>0.948822</td>\n",
       "    </tr>\n",
       "    <tr>\n",
       "      <th>Adaboost</th>\n",
       "      <td>6.626324e+05</td>\n",
       "      <td>4.390817e+11</td>\n",
       "      <td>4.155976e+05</td>\n",
       "      <td>2.966241e+05</td>\n",
       "      <td>0.928442</td>\n",
       "    </tr>\n",
       "  </tbody>\n",
       "</table>\n",
       "</div>"
      ],
      "text/plain": [
       "                           RMSE           MSE           MAE     MEDIAN AE  \\\n",
       "Linear regression  9.204975e+05  8.473157e+11  6.367837e+05  4.282188e+05   \n",
       "Ridge regression   1.292270e+06  1.669961e+12  8.381801e+05  5.547272e+05   \n",
       "SVR                2.610960e+06  6.817112e+12  1.857889e+06  1.302310e+06   \n",
       "Lasso              9.175188e+05  8.418407e+11  6.328534e+05  4.232261e+05   \n",
       "ElasticNet         1.605277e+06  2.576913e+12  1.173791e+06  9.659921e+05   \n",
       "RandomForest       5.603848e+05  3.140311e+11  3.126151e+05  1.496863e+05   \n",
       "Adaboost           6.626324e+05  4.390817e+11  4.155976e+05  2.966241e+05   \n",
       "\n",
       "                         R²  \n",
       "Linear regression  0.861911  \n",
       "Ridge regression   0.727843  \n",
       "SVR               -0.111000  \n",
       "Lasso              0.862803  \n",
       "ElasticNet         0.580035  \n",
       "RandomForest       0.948822  \n",
       "Adaboost           0.928442  "
      ]
     },
     "execution_count": 100,
     "metadata": {},
     "output_type": "execute_result"
    }
   ],
   "source": [
    "df_metrics_1"
   ]
  },
  {
   "cell_type": "markdown",
   "metadata": {},
   "source": [
    "Dataframe synthèse des score R² pour le Xtrain"
   ]
  },
  {
   "cell_type": "code",
   "execution_count": 105,
   "metadata": {},
   "outputs": [],
   "source": [
    "r2_lr= grid_lr.best_score_\n",
    "r2_ridge= grid_ridge.best_score_\n",
    "r2_svr= grid_svr.best_score_\n",
    "r2_lasso= grid_lasso.best_score_\n",
    "r2_elastic= grid_elastic.best_score_\n",
    "r2_randomforest= grid_randomforest.best_score_\n",
    "r2_adaboost= grid_adaboost.best_score_\n",
    "\n",
    "lst= [r2_lr, r2_ridge, r2_svr, r2_lasso, r2_elastic,r2_randomforest,r2_adaboost]\n",
    "\n",
    "df_Xtrain_r2= pd.DataFrame(lst, index =['Linear regression','Ridge regression','SVR','Lasso','ElasticNet',\n",
    "                                                       'RandomForest', 'Adaboost'], columns =['R²'])"
   ]
  },
  {
   "cell_type": "code",
   "execution_count": 106,
   "metadata": {},
   "outputs": [
    {
     "data": {
      "text/html": [
       "<div>\n",
       "<style scoped>\n",
       "    .dataframe tbody tr th:only-of-type {\n",
       "        vertical-align: middle;\n",
       "    }\n",
       "\n",
       "    .dataframe tbody tr th {\n",
       "        vertical-align: top;\n",
       "    }\n",
       "\n",
       "    .dataframe thead th {\n",
       "        text-align: right;\n",
       "    }\n",
       "</style>\n",
       "<table border=\"1\" class=\"dataframe\">\n",
       "  <thead>\n",
       "    <tr style=\"text-align: right;\">\n",
       "      <th></th>\n",
       "      <th>R²</th>\n",
       "    </tr>\n",
       "  </thead>\n",
       "  <tbody>\n",
       "    <tr>\n",
       "      <th>Linear regression</th>\n",
       "      <td>0.419360</td>\n",
       "    </tr>\n",
       "    <tr>\n",
       "      <th>Ridge regression</th>\n",
       "      <td>0.385533</td>\n",
       "    </tr>\n",
       "    <tr>\n",
       "      <th>SVR</th>\n",
       "      <td>-0.117383</td>\n",
       "    </tr>\n",
       "    <tr>\n",
       "      <th>Lasso</th>\n",
       "      <td>0.417082</td>\n",
       "    </tr>\n",
       "    <tr>\n",
       "      <th>ElasticNet</th>\n",
       "      <td>0.435277</td>\n",
       "    </tr>\n",
       "    <tr>\n",
       "      <th>RandomForest</th>\n",
       "      <td>0.929318</td>\n",
       "    </tr>\n",
       "    <tr>\n",
       "      <th>Adaboost</th>\n",
       "      <td>0.923957</td>\n",
       "    </tr>\n",
       "  </tbody>\n",
       "</table>\n",
       "</div>"
      ],
      "text/plain": [
       "                         R²\n",
       "Linear regression  0.419360\n",
       "Ridge regression   0.385533\n",
       "SVR               -0.117383\n",
       "Lasso              0.417082\n",
       "ElasticNet         0.435277\n",
       "RandomForest       0.929318\n",
       "Adaboost           0.923957"
      ]
     },
     "execution_count": 106,
     "metadata": {},
     "output_type": "execute_result"
    }
   ],
   "source": [
    "df_Xtrain_r2"
   ]
  },
  {
   "cell_type": "code",
   "execution_count": 101,
   "metadata": {},
   "outputs": [
    {
     "ename": "NameError",
     "evalue": "name 'stop' is not defined",
     "output_type": "error",
     "traceback": [
      "\u001b[1;31m---------------------------------------------------------------------------\u001b[0m",
      "\u001b[1;31mNameError\u001b[0m                                 Traceback (most recent call last)",
      "\u001b[1;32m<ipython-input-101-e2c9c290de89>\u001b[0m in \u001b[0;36m<module>\u001b[1;34m\u001b[0m\n\u001b[1;32m----> 1\u001b[1;33m \u001b[0mprint\u001b[0m\u001b[1;33m(\u001b[0m\u001b[0mstop\u001b[0m\u001b[1;33m)\u001b[0m\u001b[1;33m\u001b[0m\u001b[1;33m\u001b[0m\u001b[0m\n\u001b[0m",
      "\u001b[1;31mNameError\u001b[0m: name 'stop' is not defined"
     ]
    }
   ],
   "source": [
    "print(stop)"
   ]
  },
  {
   "cell_type": "markdown",
   "metadata": {},
   "source": [
    "### Prédiction de la variable de consommation d'énergie: (SiteEnergyUseWN(kBtu), en incluant le feature (ENERGYSTARScore)"
   ]
  },
  {
   "cell_type": "code",
   "execution_count": 107,
   "metadata": {},
   "outputs": [],
   "source": [
    "# On écarte les 2 variables de prédictions\n",
    "X=df_filter.drop(['TotalGHGEmissions','SiteEnergyUseWN(kBtu)'],axis=1)\n",
    "y= df_filter['SiteEnergyUseWN(kBtu)']"
   ]
  },
  {
   "cell_type": "code",
   "execution_count": 108,
   "metadata": {},
   "outputs": [],
   "source": [
    "#spliting data to training/test data:\n",
    "X_train, X_test, y_train, y_test = train_test_split(X, y, test_size=0.3, random_state=42,shuffle= True)"
   ]
  },
  {
   "cell_type": "code",
   "execution_count": 109,
   "metadata": {},
   "outputs": [
    {
     "name": "stdout",
     "output_type": "stream",
     "text": [
      "(950, 14)\n",
      "(408, 14)\n"
     ]
    }
   ],
   "source": [
    "print(X_train.shape)\n",
    "print(X_test.shape)"
   ]
  },
  {
   "cell_type": "code",
   "execution_count": 110,
   "metadata": {},
   "outputs": [
    {
     "data": {
      "text/plain": [
       "['NumberofBuildings',\n",
       " 'NumberofFloors',\n",
       " 'PropertyGFATotal',\n",
       " 'PropertyGFAParking',\n",
       " 'PropertyGFABuilding(s)',\n",
       " 'LargestPropertyUseTypeGFA',\n",
       " 'SourceEUIWN(kBtu/sf)',\n",
       " 'GHGEmissionsIntensity',\n",
       " 'BuildingAge']"
      ]
     },
     "execution_count": 110,
     "metadata": {},
     "output_type": "execute_result"
    }
   ],
   "source": [
    "col_num"
   ]
  },
  {
   "cell_type": "code",
   "execution_count": 111,
   "metadata": {},
   "outputs": [],
   "source": [
    "# On ajoute la variable (ENERGYSTARScore):\n",
    "col_num.append('ENERGYSTARScore') "
   ]
  },
  {
   "cell_type": "code",
   "execution_count": 112,
   "metadata": {},
   "outputs": [
    {
     "data": {
      "text/plain": [
       "['NumberofBuildings',\n",
       " 'NumberofFloors',\n",
       " 'PropertyGFATotal',\n",
       " 'PropertyGFAParking',\n",
       " 'PropertyGFABuilding(s)',\n",
       " 'LargestPropertyUseTypeGFA',\n",
       " 'SourceEUIWN(kBtu/sf)',\n",
       " 'GHGEmissionsIntensity',\n",
       " 'BuildingAge',\n",
       " 'ENERGYSTARScore']"
      ]
     },
     "execution_count": 112,
     "metadata": {},
     "output_type": "execute_result"
    }
   ],
   "source": [
    "# Vérification:\n",
    "col_num"
   ]
  },
  {
   "cell_type": "markdown",
   "metadata": {},
   "source": [
    "Nouveau pipeline avec cette fois ci l'appliction de SimpleImputer(strategy=\"median\") pour les valeurs manquantes de (ENERGYSTARScore):"
   ]
  },
  {
   "cell_type": "code",
   "execution_count": 113,
   "metadata": {},
   "outputs": [],
   "source": [
    "from sklearn.pipeline import Pipeline\n",
    "from sklearn.compose import ColumnTransformer\n",
    "\n",
    "numeric_transformer = Pipeline( steps=[(\"imputer\", SimpleImputer(strategy=\"median\")), (\"scaler\", StandardScaler())])\n",
    "categorical_transformer= OneHotEncoder(handle_unknown='ignore')\n",
    "                                       \n",
    "                                       \n",
    "column_trans = ColumnTransformer([(\"num\", numeric_transformer, col_num),(\"cat\", categorical_transformer, col_categ)])\n",
    "    "
   ]
  },
  {
   "cell_type": "markdown",
   "metadata": {},
   "source": [
    "#### Application du modèle Linear Regression:"
   ]
  },
  {
   "cell_type": "code",
   "execution_count": 114,
   "metadata": {},
   "outputs": [
    {
     "data": {
      "text/html": [
       "<style>#sk-00cad746-ba79-4af5-b878-76bdc9d7d74c {color: black;background-color: white;}#sk-00cad746-ba79-4af5-b878-76bdc9d7d74c pre{padding: 0;}#sk-00cad746-ba79-4af5-b878-76bdc9d7d74c div.sk-toggleable {background-color: white;}#sk-00cad746-ba79-4af5-b878-76bdc9d7d74c label.sk-toggleable__label {cursor: pointer;display: block;width: 100%;margin-bottom: 0;padding: 0.3em;box-sizing: border-box;text-align: center;}#sk-00cad746-ba79-4af5-b878-76bdc9d7d74c label.sk-toggleable__label-arrow:before {content: \"▸\";float: left;margin-right: 0.25em;color: #696969;}#sk-00cad746-ba79-4af5-b878-76bdc9d7d74c label.sk-toggleable__label-arrow:hover:before {color: black;}#sk-00cad746-ba79-4af5-b878-76bdc9d7d74c div.sk-estimator:hover label.sk-toggleable__label-arrow:before {color: black;}#sk-00cad746-ba79-4af5-b878-76bdc9d7d74c div.sk-toggleable__content {max-height: 0;max-width: 0;overflow: hidden;text-align: left;background-color: #f0f8ff;}#sk-00cad746-ba79-4af5-b878-76bdc9d7d74c div.sk-toggleable__content pre {margin: 0.2em;color: black;border-radius: 0.25em;background-color: #f0f8ff;}#sk-00cad746-ba79-4af5-b878-76bdc9d7d74c input.sk-toggleable__control:checked~div.sk-toggleable__content {max-height: 200px;max-width: 100%;overflow: auto;}#sk-00cad746-ba79-4af5-b878-76bdc9d7d74c input.sk-toggleable__control:checked~label.sk-toggleable__label-arrow:before {content: \"▾\";}#sk-00cad746-ba79-4af5-b878-76bdc9d7d74c div.sk-estimator input.sk-toggleable__control:checked~label.sk-toggleable__label {background-color: #d4ebff;}#sk-00cad746-ba79-4af5-b878-76bdc9d7d74c div.sk-label input.sk-toggleable__control:checked~label.sk-toggleable__label {background-color: #d4ebff;}#sk-00cad746-ba79-4af5-b878-76bdc9d7d74c input.sk-hidden--visually {border: 0;clip: rect(1px 1px 1px 1px);clip: rect(1px, 1px, 1px, 1px);height: 1px;margin: -1px;overflow: hidden;padding: 0;position: absolute;width: 1px;}#sk-00cad746-ba79-4af5-b878-76bdc9d7d74c div.sk-estimator {font-family: monospace;background-color: #f0f8ff;border: 1px dotted black;border-radius: 0.25em;box-sizing: border-box;margin-bottom: 0.5em;}#sk-00cad746-ba79-4af5-b878-76bdc9d7d74c div.sk-estimator:hover {background-color: #d4ebff;}#sk-00cad746-ba79-4af5-b878-76bdc9d7d74c div.sk-parallel-item::after {content: \"\";width: 100%;border-bottom: 1px solid gray;flex-grow: 1;}#sk-00cad746-ba79-4af5-b878-76bdc9d7d74c div.sk-label:hover label.sk-toggleable__label {background-color: #d4ebff;}#sk-00cad746-ba79-4af5-b878-76bdc9d7d74c div.sk-serial::before {content: \"\";position: absolute;border-left: 1px solid gray;box-sizing: border-box;top: 2em;bottom: 0;left: 50%;}#sk-00cad746-ba79-4af5-b878-76bdc9d7d74c div.sk-serial {display: flex;flex-direction: column;align-items: center;background-color: white;padding-right: 0.2em;padding-left: 0.2em;}#sk-00cad746-ba79-4af5-b878-76bdc9d7d74c div.sk-item {z-index: 1;}#sk-00cad746-ba79-4af5-b878-76bdc9d7d74c div.sk-parallel {display: flex;align-items: stretch;justify-content: center;background-color: white;}#sk-00cad746-ba79-4af5-b878-76bdc9d7d74c div.sk-parallel::before {content: \"\";position: absolute;border-left: 1px solid gray;box-sizing: border-box;top: 2em;bottom: 0;left: 50%;}#sk-00cad746-ba79-4af5-b878-76bdc9d7d74c div.sk-parallel-item {display: flex;flex-direction: column;position: relative;background-color: white;}#sk-00cad746-ba79-4af5-b878-76bdc9d7d74c div.sk-parallel-item:first-child::after {align-self: flex-end;width: 50%;}#sk-00cad746-ba79-4af5-b878-76bdc9d7d74c div.sk-parallel-item:last-child::after {align-self: flex-start;width: 50%;}#sk-00cad746-ba79-4af5-b878-76bdc9d7d74c div.sk-parallel-item:only-child::after {width: 0;}#sk-00cad746-ba79-4af5-b878-76bdc9d7d74c div.sk-dashed-wrapped {border: 1px dashed gray;margin: 0 0.4em 0.5em 0.4em;box-sizing: border-box;padding-bottom: 0.4em;background-color: white;position: relative;}#sk-00cad746-ba79-4af5-b878-76bdc9d7d74c div.sk-label label {font-family: monospace;font-weight: bold;background-color: white;display: inline-block;line-height: 1.2em;}#sk-00cad746-ba79-4af5-b878-76bdc9d7d74c div.sk-label-container {position: relative;z-index: 2;text-align: center;}#sk-00cad746-ba79-4af5-b878-76bdc9d7d74c div.sk-container {/* jupyter's `normalize.less` sets `[hidden] { display: none; }` but bootstrap.min.css set `[hidden] { display: none !important; }` so we also need the `!important` here to be able to override the default hidden behavior on the sphinx rendered scikit-learn.org. See: https://github.com/scikit-learn/scikit-learn/issues/21755 */display: inline-block !important;position: relative;}#sk-00cad746-ba79-4af5-b878-76bdc9d7d74c div.sk-text-repr-fallback {display: none;}</style><div id=\"sk-00cad746-ba79-4af5-b878-76bdc9d7d74c\" class=\"sk-top-container\"><div class=\"sk-text-repr-fallback\"><pre>GridSearchCV(cv=5,\n",
       "             estimator=Pipeline(steps=[(&#x27;columntransformer&#x27;,\n",
       "                                        ColumnTransformer(transformers=[(&#x27;num&#x27;,\n",
       "                                                                         Pipeline(steps=[(&#x27;imputer&#x27;,\n",
       "                                                                                          SimpleImputer(strategy=&#x27;median&#x27;)),\n",
       "                                                                                         (&#x27;scaler&#x27;,\n",
       "                                                                                          StandardScaler())]),\n",
       "                                                                         [&#x27;NumberofBuildings&#x27;,\n",
       "                                                                          &#x27;NumberofFloors&#x27;,\n",
       "                                                                          &#x27;PropertyGFATotal&#x27;,\n",
       "                                                                          &#x27;PropertyGFAParking&#x27;,\n",
       "                                                                          &#x27;PropertyGFABuilding(s)&#x27;,\n",
       "                                                                          &#x27;LargestPropertyUseTypeGFA&#x27;,\n",
       "                                                                          &#x27;SourceEUIWN(kBtu/sf)&#x27;,\n",
       "                                                                          &#x27;GHGEmissionsIntensity&#x27;,\n",
       "                                                                          &#x27;BuildingAge&#x27;,\n",
       "                                                                          &#x27;ENERGYSTARScore&#x27;]),\n",
       "                                                                        (&#x27;cat&#x27;,\n",
       "                                                                         OneHotEncoder(handle_unknown=&#x27;ignore&#x27;),\n",
       "                                                                         [&#x27;PrimaryPropertyType&#x27;,\n",
       "                                                                          &#x27;Neighborhood&#x27;,\n",
       "                                                                          &#x27;LargestPropertyUseType&#x27;,\n",
       "                                                                          &#x27;ComplianceStatus&#x27;])])),\n",
       "                                       (&#x27;linearregression&#x27;,\n",
       "                                        LinearRegression())]),\n",
       "             param_grid={&#x27;linearregression__fit_intercept&#x27;: [True, False]},\n",
       "             scoring=&#x27;r2&#x27;)</pre><b>Please rerun this cell to show the HTML repr or trust the notebook.</b></div><div class=\"sk-container\" hidden><div class=\"sk-item sk-dashed-wrapped\"><div class=\"sk-label-container\"><div class=\"sk-label sk-toggleable\"><input class=\"sk-toggleable__control sk-hidden--visually\" id=\"79536d2b-dbbc-441c-9435-96c7486c9e1f\" type=\"checkbox\" ><label for=\"79536d2b-dbbc-441c-9435-96c7486c9e1f\" class=\"sk-toggleable__label sk-toggleable__label-arrow\">GridSearchCV</label><div class=\"sk-toggleable__content\"><pre>GridSearchCV(cv=5,\n",
       "             estimator=Pipeline(steps=[(&#x27;columntransformer&#x27;,\n",
       "                                        ColumnTransformer(transformers=[(&#x27;num&#x27;,\n",
       "                                                                         Pipeline(steps=[(&#x27;imputer&#x27;,\n",
       "                                                                                          SimpleImputer(strategy=&#x27;median&#x27;)),\n",
       "                                                                                         (&#x27;scaler&#x27;,\n",
       "                                                                                          StandardScaler())]),\n",
       "                                                                         [&#x27;NumberofBuildings&#x27;,\n",
       "                                                                          &#x27;NumberofFloors&#x27;,\n",
       "                                                                          &#x27;PropertyGFATotal&#x27;,\n",
       "                                                                          &#x27;PropertyGFAParking&#x27;,\n",
       "                                                                          &#x27;PropertyGFABuilding(s)&#x27;,\n",
       "                                                                          &#x27;LargestPropertyUseTypeGFA&#x27;,\n",
       "                                                                          &#x27;SourceEUIWN(kBtu/sf)&#x27;,\n",
       "                                                                          &#x27;GHGEmissionsIntensity&#x27;,\n",
       "                                                                          &#x27;BuildingAge&#x27;,\n",
       "                                                                          &#x27;ENERGYSTARScore&#x27;]),\n",
       "                                                                        (&#x27;cat&#x27;,\n",
       "                                                                         OneHotEncoder(handle_unknown=&#x27;ignore&#x27;),\n",
       "                                                                         [&#x27;PrimaryPropertyType&#x27;,\n",
       "                                                                          &#x27;Neighborhood&#x27;,\n",
       "                                                                          &#x27;LargestPropertyUseType&#x27;,\n",
       "                                                                          &#x27;ComplianceStatus&#x27;])])),\n",
       "                                       (&#x27;linearregression&#x27;,\n",
       "                                        LinearRegression())]),\n",
       "             param_grid={&#x27;linearregression__fit_intercept&#x27;: [True, False]},\n",
       "             scoring=&#x27;r2&#x27;)</pre></div></div></div><div class=\"sk-parallel\"><div class=\"sk-parallel-item\"><div class=\"sk-item\"><div class=\"sk-serial\"><div class=\"sk-item\"><div class=\"sk-serial\"><div class=\"sk-item sk-dashed-wrapped\"><div class=\"sk-label-container\"><div class=\"sk-label sk-toggleable\"><input class=\"sk-toggleable__control sk-hidden--visually\" id=\"f365fa9f-2db3-4184-abf7-edd7d37519d2\" type=\"checkbox\" ><label for=\"f365fa9f-2db3-4184-abf7-edd7d37519d2\" class=\"sk-toggleable__label sk-toggleable__label-arrow\">columntransformer: ColumnTransformer</label><div class=\"sk-toggleable__content\"><pre>ColumnTransformer(transformers=[(&#x27;num&#x27;,\n",
       "                                 Pipeline(steps=[(&#x27;imputer&#x27;,\n",
       "                                                  SimpleImputer(strategy=&#x27;median&#x27;)),\n",
       "                                                 (&#x27;scaler&#x27;, StandardScaler())]),\n",
       "                                 [&#x27;NumberofBuildings&#x27;, &#x27;NumberofFloors&#x27;,\n",
       "                                  &#x27;PropertyGFATotal&#x27;, &#x27;PropertyGFAParking&#x27;,\n",
       "                                  &#x27;PropertyGFABuilding(s)&#x27;,\n",
       "                                  &#x27;LargestPropertyUseTypeGFA&#x27;,\n",
       "                                  &#x27;SourceEUIWN(kBtu/sf)&#x27;,\n",
       "                                  &#x27;GHGEmissionsIntensity&#x27;, &#x27;BuildingAge&#x27;,\n",
       "                                  &#x27;ENERGYSTARScore&#x27;]),\n",
       "                                (&#x27;cat&#x27;, OneHotEncoder(handle_unknown=&#x27;ignore&#x27;),\n",
       "                                 [&#x27;PrimaryPropertyType&#x27;, &#x27;Neighborhood&#x27;,\n",
       "                                  &#x27;LargestPropertyUseType&#x27;,\n",
       "                                  &#x27;ComplianceStatus&#x27;])])</pre></div></div></div><div class=\"sk-parallel\"><div class=\"sk-parallel-item\"><div class=\"sk-item\"><div class=\"sk-label-container\"><div class=\"sk-label sk-toggleable\"><input class=\"sk-toggleable__control sk-hidden--visually\" id=\"f40b76b5-11f3-4e55-bb96-f1ff08f81972\" type=\"checkbox\" ><label for=\"f40b76b5-11f3-4e55-bb96-f1ff08f81972\" class=\"sk-toggleable__label sk-toggleable__label-arrow\">num</label><div class=\"sk-toggleable__content\"><pre>[&#x27;NumberofBuildings&#x27;, &#x27;NumberofFloors&#x27;, &#x27;PropertyGFATotal&#x27;, &#x27;PropertyGFAParking&#x27;, &#x27;PropertyGFABuilding(s)&#x27;, &#x27;LargestPropertyUseTypeGFA&#x27;, &#x27;SourceEUIWN(kBtu/sf)&#x27;, &#x27;GHGEmissionsIntensity&#x27;, &#x27;BuildingAge&#x27;, &#x27;ENERGYSTARScore&#x27;]</pre></div></div></div><div class=\"sk-serial\"><div class=\"sk-item\"><div class=\"sk-serial\"><div class=\"sk-item\"><div class=\"sk-estimator sk-toggleable\"><input class=\"sk-toggleable__control sk-hidden--visually\" id=\"ed4a5dff-43f5-4002-9e6b-0af32872488a\" type=\"checkbox\" ><label for=\"ed4a5dff-43f5-4002-9e6b-0af32872488a\" class=\"sk-toggleable__label sk-toggleable__label-arrow\">SimpleImputer</label><div class=\"sk-toggleable__content\"><pre>SimpleImputer(strategy=&#x27;median&#x27;)</pre></div></div></div><div class=\"sk-item\"><div class=\"sk-estimator sk-toggleable\"><input class=\"sk-toggleable__control sk-hidden--visually\" id=\"7d8680d1-6e89-47ef-8b4b-426e90695454\" type=\"checkbox\" ><label for=\"7d8680d1-6e89-47ef-8b4b-426e90695454\" class=\"sk-toggleable__label sk-toggleable__label-arrow\">StandardScaler</label><div class=\"sk-toggleable__content\"><pre>StandardScaler()</pre></div></div></div></div></div></div></div></div><div class=\"sk-parallel-item\"><div class=\"sk-item\"><div class=\"sk-label-container\"><div class=\"sk-label sk-toggleable\"><input class=\"sk-toggleable__control sk-hidden--visually\" id=\"3847707a-79e0-4b37-86d4-3c487d4ddbd1\" type=\"checkbox\" ><label for=\"3847707a-79e0-4b37-86d4-3c487d4ddbd1\" class=\"sk-toggleable__label sk-toggleable__label-arrow\">cat</label><div class=\"sk-toggleable__content\"><pre>[&#x27;PrimaryPropertyType&#x27;, &#x27;Neighborhood&#x27;, &#x27;LargestPropertyUseType&#x27;, &#x27;ComplianceStatus&#x27;]</pre></div></div></div><div class=\"sk-serial\"><div class=\"sk-item\"><div class=\"sk-estimator sk-toggleable\"><input class=\"sk-toggleable__control sk-hidden--visually\" id=\"c2606eb7-9652-4395-9b32-31afc30f2ad8\" type=\"checkbox\" ><label for=\"c2606eb7-9652-4395-9b32-31afc30f2ad8\" class=\"sk-toggleable__label sk-toggleable__label-arrow\">OneHotEncoder</label><div class=\"sk-toggleable__content\"><pre>OneHotEncoder(handle_unknown=&#x27;ignore&#x27;)</pre></div></div></div></div></div></div></div></div><div class=\"sk-item\"><div class=\"sk-estimator sk-toggleable\"><input class=\"sk-toggleable__control sk-hidden--visually\" id=\"d0c25956-ecb7-41aa-aff4-dd08cbe47d4f\" type=\"checkbox\" ><label for=\"d0c25956-ecb7-41aa-aff4-dd08cbe47d4f\" class=\"sk-toggleable__label sk-toggleable__label-arrow\">LinearRegression</label><div class=\"sk-toggleable__content\"><pre>LinearRegression()</pre></div></div></div></div></div></div></div></div></div></div></div></div>"
      ],
      "text/plain": [
       "GridSearchCV(cv=5,\n",
       "             estimator=Pipeline(steps=[('columntransformer',\n",
       "                                        ColumnTransformer(transformers=[('num',\n",
       "                                                                         Pipeline(steps=[('imputer',\n",
       "                                                                                          SimpleImputer(strategy='median')),\n",
       "                                                                                         ('scaler',\n",
       "                                                                                          StandardScaler())]),\n",
       "                                                                         ['NumberofBuildings',\n",
       "                                                                          'NumberofFloors',\n",
       "                                                                          'PropertyGFATotal',\n",
       "                                                                          'PropertyGFAParking',\n",
       "                                                                          'PropertyGFABuilding(s)',\n",
       "                                                                          'LargestPropertyUseTypeGFA',\n",
       "                                                                          'SourceEUIWN(kBtu/sf)',\n",
       "                                                                          'GHGEmissionsIntensity',\n",
       "                                                                          'BuildingAge',\n",
       "                                                                          'ENERGYSTARScore']),\n",
       "                                                                        ('cat',\n",
       "                                                                         OneHotEncoder(handle_unknown='ignore'),\n",
       "                                                                         ['PrimaryPropertyType',\n",
       "                                                                          'Neighborhood',\n",
       "                                                                          'LargestPropertyUseType',\n",
       "                                                                          'ComplianceStatus'])])),\n",
       "                                       ('linearregression',\n",
       "                                        LinearRegression())]),\n",
       "             param_grid={'linearregression__fit_intercept': [True, False]},\n",
       "             scoring='r2')"
      ]
     },
     "execution_count": 114,
     "metadata": {},
     "output_type": "execute_result"
    }
   ],
   "source": [
    "lr = LinearRegression()\n",
    "# On crée le modèle à l'aide de pipeline\n",
    "pipe_lr= make_pipeline(column_trans,lr)\n",
    "#Grille de recherche:\n",
    "parameter= {'linearregression__fit_intercept':[True,False]}\n",
    "grid_lr= GridSearchCV(pipe_lr, parameter, cv=5,scoring='r2')\n",
    "grid_lr.fit(X_train,y_train)"
   ]
  },
  {
   "cell_type": "code",
   "execution_count": 115,
   "metadata": {},
   "outputs": [
    {
     "data": {
      "text/html": [
       "<style>#sk-04bea535-52b7-43ae-aebc-9ccf5d6e302b {color: black;background-color: white;}#sk-04bea535-52b7-43ae-aebc-9ccf5d6e302b pre{padding: 0;}#sk-04bea535-52b7-43ae-aebc-9ccf5d6e302b div.sk-toggleable {background-color: white;}#sk-04bea535-52b7-43ae-aebc-9ccf5d6e302b label.sk-toggleable__label {cursor: pointer;display: block;width: 100%;margin-bottom: 0;padding: 0.3em;box-sizing: border-box;text-align: center;}#sk-04bea535-52b7-43ae-aebc-9ccf5d6e302b label.sk-toggleable__label-arrow:before {content: \"▸\";float: left;margin-right: 0.25em;color: #696969;}#sk-04bea535-52b7-43ae-aebc-9ccf5d6e302b label.sk-toggleable__label-arrow:hover:before {color: black;}#sk-04bea535-52b7-43ae-aebc-9ccf5d6e302b div.sk-estimator:hover label.sk-toggleable__label-arrow:before {color: black;}#sk-04bea535-52b7-43ae-aebc-9ccf5d6e302b div.sk-toggleable__content {max-height: 0;max-width: 0;overflow: hidden;text-align: left;background-color: #f0f8ff;}#sk-04bea535-52b7-43ae-aebc-9ccf5d6e302b div.sk-toggleable__content pre {margin: 0.2em;color: black;border-radius: 0.25em;background-color: #f0f8ff;}#sk-04bea535-52b7-43ae-aebc-9ccf5d6e302b input.sk-toggleable__control:checked~div.sk-toggleable__content {max-height: 200px;max-width: 100%;overflow: auto;}#sk-04bea535-52b7-43ae-aebc-9ccf5d6e302b input.sk-toggleable__control:checked~label.sk-toggleable__label-arrow:before {content: \"▾\";}#sk-04bea535-52b7-43ae-aebc-9ccf5d6e302b div.sk-estimator input.sk-toggleable__control:checked~label.sk-toggleable__label {background-color: #d4ebff;}#sk-04bea535-52b7-43ae-aebc-9ccf5d6e302b div.sk-label input.sk-toggleable__control:checked~label.sk-toggleable__label {background-color: #d4ebff;}#sk-04bea535-52b7-43ae-aebc-9ccf5d6e302b input.sk-hidden--visually {border: 0;clip: rect(1px 1px 1px 1px);clip: rect(1px, 1px, 1px, 1px);height: 1px;margin: -1px;overflow: hidden;padding: 0;position: absolute;width: 1px;}#sk-04bea535-52b7-43ae-aebc-9ccf5d6e302b div.sk-estimator {font-family: monospace;background-color: #f0f8ff;border: 1px dotted black;border-radius: 0.25em;box-sizing: border-box;margin-bottom: 0.5em;}#sk-04bea535-52b7-43ae-aebc-9ccf5d6e302b div.sk-estimator:hover {background-color: #d4ebff;}#sk-04bea535-52b7-43ae-aebc-9ccf5d6e302b div.sk-parallel-item::after {content: \"\";width: 100%;border-bottom: 1px solid gray;flex-grow: 1;}#sk-04bea535-52b7-43ae-aebc-9ccf5d6e302b div.sk-label:hover label.sk-toggleable__label {background-color: #d4ebff;}#sk-04bea535-52b7-43ae-aebc-9ccf5d6e302b div.sk-serial::before {content: \"\";position: absolute;border-left: 1px solid gray;box-sizing: border-box;top: 2em;bottom: 0;left: 50%;}#sk-04bea535-52b7-43ae-aebc-9ccf5d6e302b div.sk-serial {display: flex;flex-direction: column;align-items: center;background-color: white;padding-right: 0.2em;padding-left: 0.2em;}#sk-04bea535-52b7-43ae-aebc-9ccf5d6e302b div.sk-item {z-index: 1;}#sk-04bea535-52b7-43ae-aebc-9ccf5d6e302b div.sk-parallel {display: flex;align-items: stretch;justify-content: center;background-color: white;}#sk-04bea535-52b7-43ae-aebc-9ccf5d6e302b div.sk-parallel::before {content: \"\";position: absolute;border-left: 1px solid gray;box-sizing: border-box;top: 2em;bottom: 0;left: 50%;}#sk-04bea535-52b7-43ae-aebc-9ccf5d6e302b div.sk-parallel-item {display: flex;flex-direction: column;position: relative;background-color: white;}#sk-04bea535-52b7-43ae-aebc-9ccf5d6e302b div.sk-parallel-item:first-child::after {align-self: flex-end;width: 50%;}#sk-04bea535-52b7-43ae-aebc-9ccf5d6e302b div.sk-parallel-item:last-child::after {align-self: flex-start;width: 50%;}#sk-04bea535-52b7-43ae-aebc-9ccf5d6e302b div.sk-parallel-item:only-child::after {width: 0;}#sk-04bea535-52b7-43ae-aebc-9ccf5d6e302b div.sk-dashed-wrapped {border: 1px dashed gray;margin: 0 0.4em 0.5em 0.4em;box-sizing: border-box;padding-bottom: 0.4em;background-color: white;position: relative;}#sk-04bea535-52b7-43ae-aebc-9ccf5d6e302b div.sk-label label {font-family: monospace;font-weight: bold;background-color: white;display: inline-block;line-height: 1.2em;}#sk-04bea535-52b7-43ae-aebc-9ccf5d6e302b div.sk-label-container {position: relative;z-index: 2;text-align: center;}#sk-04bea535-52b7-43ae-aebc-9ccf5d6e302b div.sk-container {/* jupyter's `normalize.less` sets `[hidden] { display: none; }` but bootstrap.min.css set `[hidden] { display: none !important; }` so we also need the `!important` here to be able to override the default hidden behavior on the sphinx rendered scikit-learn.org. See: https://github.com/scikit-learn/scikit-learn/issues/21755 */display: inline-block !important;position: relative;}#sk-04bea535-52b7-43ae-aebc-9ccf5d6e302b div.sk-text-repr-fallback {display: none;}</style><div id=\"sk-04bea535-52b7-43ae-aebc-9ccf5d6e302b\" class=\"sk-top-container\"><div class=\"sk-text-repr-fallback\"><pre>Pipeline(steps=[(&#x27;columntransformer&#x27;,\n",
       "                 ColumnTransformer(transformers=[(&#x27;num&#x27;,\n",
       "                                                  Pipeline(steps=[(&#x27;imputer&#x27;,\n",
       "                                                                   SimpleImputer(strategy=&#x27;median&#x27;)),\n",
       "                                                                  (&#x27;scaler&#x27;,\n",
       "                                                                   StandardScaler())]),\n",
       "                                                  [&#x27;NumberofBuildings&#x27;,\n",
       "                                                   &#x27;NumberofFloors&#x27;,\n",
       "                                                   &#x27;PropertyGFATotal&#x27;,\n",
       "                                                   &#x27;PropertyGFAParking&#x27;,\n",
       "                                                   &#x27;PropertyGFABuilding(s)&#x27;,\n",
       "                                                   &#x27;LargestPropertyUseTypeGFA&#x27;,\n",
       "                                                   &#x27;SourceEUIWN(kBtu/sf)&#x27;,\n",
       "                                                   &#x27;GHGEmissionsIntensity&#x27;,\n",
       "                                                   &#x27;BuildingAge&#x27;,\n",
       "                                                   &#x27;ENERGYSTARScore&#x27;]),\n",
       "                                                 (&#x27;cat&#x27;,\n",
       "                                                  OneHotEncoder(handle_unknown=&#x27;ignore&#x27;),\n",
       "                                                  [&#x27;PrimaryPropertyType&#x27;,\n",
       "                                                   &#x27;Neighborhood&#x27;,\n",
       "                                                   &#x27;LargestPropertyUseType&#x27;,\n",
       "                                                   &#x27;ComplianceStatus&#x27;])])),\n",
       "                (&#x27;linearregression&#x27;, LinearRegression())])</pre><b>Please rerun this cell to show the HTML repr or trust the notebook.</b></div><div class=\"sk-container\" hidden><div class=\"sk-item sk-dashed-wrapped\"><div class=\"sk-label-container\"><div class=\"sk-label sk-toggleable\"><input class=\"sk-toggleable__control sk-hidden--visually\" id=\"255d38c4-2724-4ce8-88bd-223d335d8f4f\" type=\"checkbox\" ><label for=\"255d38c4-2724-4ce8-88bd-223d335d8f4f\" class=\"sk-toggleable__label sk-toggleable__label-arrow\">Pipeline</label><div class=\"sk-toggleable__content\"><pre>Pipeline(steps=[(&#x27;columntransformer&#x27;,\n",
       "                 ColumnTransformer(transformers=[(&#x27;num&#x27;,\n",
       "                                                  Pipeline(steps=[(&#x27;imputer&#x27;,\n",
       "                                                                   SimpleImputer(strategy=&#x27;median&#x27;)),\n",
       "                                                                  (&#x27;scaler&#x27;,\n",
       "                                                                   StandardScaler())]),\n",
       "                                                  [&#x27;NumberofBuildings&#x27;,\n",
       "                                                   &#x27;NumberofFloors&#x27;,\n",
       "                                                   &#x27;PropertyGFATotal&#x27;,\n",
       "                                                   &#x27;PropertyGFAParking&#x27;,\n",
       "                                                   &#x27;PropertyGFABuilding(s)&#x27;,\n",
       "                                                   &#x27;LargestPropertyUseTypeGFA&#x27;,\n",
       "                                                   &#x27;SourceEUIWN(kBtu/sf)&#x27;,\n",
       "                                                   &#x27;GHGEmissionsIntensity&#x27;,\n",
       "                                                   &#x27;BuildingAge&#x27;,\n",
       "                                                   &#x27;ENERGYSTARScore&#x27;]),\n",
       "                                                 (&#x27;cat&#x27;,\n",
       "                                                  OneHotEncoder(handle_unknown=&#x27;ignore&#x27;),\n",
       "                                                  [&#x27;PrimaryPropertyType&#x27;,\n",
       "                                                   &#x27;Neighborhood&#x27;,\n",
       "                                                   &#x27;LargestPropertyUseType&#x27;,\n",
       "                                                   &#x27;ComplianceStatus&#x27;])])),\n",
       "                (&#x27;linearregression&#x27;, LinearRegression())])</pre></div></div></div><div class=\"sk-serial\"><div class=\"sk-item sk-dashed-wrapped\"><div class=\"sk-label-container\"><div class=\"sk-label sk-toggleable\"><input class=\"sk-toggleable__control sk-hidden--visually\" id=\"d0d34586-2988-4622-ac6d-58d1f5f84636\" type=\"checkbox\" ><label for=\"d0d34586-2988-4622-ac6d-58d1f5f84636\" class=\"sk-toggleable__label sk-toggleable__label-arrow\">columntransformer: ColumnTransformer</label><div class=\"sk-toggleable__content\"><pre>ColumnTransformer(transformers=[(&#x27;num&#x27;,\n",
       "                                 Pipeline(steps=[(&#x27;imputer&#x27;,\n",
       "                                                  SimpleImputer(strategy=&#x27;median&#x27;)),\n",
       "                                                 (&#x27;scaler&#x27;, StandardScaler())]),\n",
       "                                 [&#x27;NumberofBuildings&#x27;, &#x27;NumberofFloors&#x27;,\n",
       "                                  &#x27;PropertyGFATotal&#x27;, &#x27;PropertyGFAParking&#x27;,\n",
       "                                  &#x27;PropertyGFABuilding(s)&#x27;,\n",
       "                                  &#x27;LargestPropertyUseTypeGFA&#x27;,\n",
       "                                  &#x27;SourceEUIWN(kBtu/sf)&#x27;,\n",
       "                                  &#x27;GHGEmissionsIntensity&#x27;, &#x27;BuildingAge&#x27;,\n",
       "                                  &#x27;ENERGYSTARScore&#x27;]),\n",
       "                                (&#x27;cat&#x27;, OneHotEncoder(handle_unknown=&#x27;ignore&#x27;),\n",
       "                                 [&#x27;PrimaryPropertyType&#x27;, &#x27;Neighborhood&#x27;,\n",
       "                                  &#x27;LargestPropertyUseType&#x27;,\n",
       "                                  &#x27;ComplianceStatus&#x27;])])</pre></div></div></div><div class=\"sk-parallel\"><div class=\"sk-parallel-item\"><div class=\"sk-item\"><div class=\"sk-label-container\"><div class=\"sk-label sk-toggleable\"><input class=\"sk-toggleable__control sk-hidden--visually\" id=\"f196b7f8-9946-4692-926d-1c061d70674a\" type=\"checkbox\" ><label for=\"f196b7f8-9946-4692-926d-1c061d70674a\" class=\"sk-toggleable__label sk-toggleable__label-arrow\">num</label><div class=\"sk-toggleable__content\"><pre>[&#x27;NumberofBuildings&#x27;, &#x27;NumberofFloors&#x27;, &#x27;PropertyGFATotal&#x27;, &#x27;PropertyGFAParking&#x27;, &#x27;PropertyGFABuilding(s)&#x27;, &#x27;LargestPropertyUseTypeGFA&#x27;, &#x27;SourceEUIWN(kBtu/sf)&#x27;, &#x27;GHGEmissionsIntensity&#x27;, &#x27;BuildingAge&#x27;, &#x27;ENERGYSTARScore&#x27;]</pre></div></div></div><div class=\"sk-serial\"><div class=\"sk-item\"><div class=\"sk-serial\"><div class=\"sk-item\"><div class=\"sk-estimator sk-toggleable\"><input class=\"sk-toggleable__control sk-hidden--visually\" id=\"d36d7d16-50f4-45e7-b15d-7a69f81e3665\" type=\"checkbox\" ><label for=\"d36d7d16-50f4-45e7-b15d-7a69f81e3665\" class=\"sk-toggleable__label sk-toggleable__label-arrow\">SimpleImputer</label><div class=\"sk-toggleable__content\"><pre>SimpleImputer(strategy=&#x27;median&#x27;)</pre></div></div></div><div class=\"sk-item\"><div class=\"sk-estimator sk-toggleable\"><input class=\"sk-toggleable__control sk-hidden--visually\" id=\"aa526359-14ed-4b5b-84a9-86368a3017ac\" type=\"checkbox\" ><label for=\"aa526359-14ed-4b5b-84a9-86368a3017ac\" class=\"sk-toggleable__label sk-toggleable__label-arrow\">StandardScaler</label><div class=\"sk-toggleable__content\"><pre>StandardScaler()</pre></div></div></div></div></div></div></div></div><div class=\"sk-parallel-item\"><div class=\"sk-item\"><div class=\"sk-label-container\"><div class=\"sk-label sk-toggleable\"><input class=\"sk-toggleable__control sk-hidden--visually\" id=\"e9f2adcc-71a5-4c68-8db9-4be5148af846\" type=\"checkbox\" ><label for=\"e9f2adcc-71a5-4c68-8db9-4be5148af846\" class=\"sk-toggleable__label sk-toggleable__label-arrow\">cat</label><div class=\"sk-toggleable__content\"><pre>[&#x27;PrimaryPropertyType&#x27;, &#x27;Neighborhood&#x27;, &#x27;LargestPropertyUseType&#x27;, &#x27;ComplianceStatus&#x27;]</pre></div></div></div><div class=\"sk-serial\"><div class=\"sk-item\"><div class=\"sk-estimator sk-toggleable\"><input class=\"sk-toggleable__control sk-hidden--visually\" id=\"ea80c776-73ac-4845-8bb0-81630f686f74\" type=\"checkbox\" ><label for=\"ea80c776-73ac-4845-8bb0-81630f686f74\" class=\"sk-toggleable__label sk-toggleable__label-arrow\">OneHotEncoder</label><div class=\"sk-toggleable__content\"><pre>OneHotEncoder(handle_unknown=&#x27;ignore&#x27;)</pre></div></div></div></div></div></div></div></div><div class=\"sk-item\"><div class=\"sk-estimator sk-toggleable\"><input class=\"sk-toggleable__control sk-hidden--visually\" id=\"8f45472a-31ea-48fb-90ae-c82a8343d327\" type=\"checkbox\" ><label for=\"8f45472a-31ea-48fb-90ae-c82a8343d327\" class=\"sk-toggleable__label sk-toggleable__label-arrow\">LinearRegression</label><div class=\"sk-toggleable__content\"><pre>LinearRegression()</pre></div></div></div></div></div></div></div>"
      ],
      "text/plain": [
       "Pipeline(steps=[('columntransformer',\n",
       "                 ColumnTransformer(transformers=[('num',\n",
       "                                                  Pipeline(steps=[('imputer',\n",
       "                                                                   SimpleImputer(strategy='median')),\n",
       "                                                                  ('scaler',\n",
       "                                                                   StandardScaler())]),\n",
       "                                                  ['NumberofBuildings',\n",
       "                                                   'NumberofFloors',\n",
       "                                                   'PropertyGFATotal',\n",
       "                                                   'PropertyGFAParking',\n",
       "                                                   'PropertyGFABuilding(s)',\n",
       "                                                   'LargestPropertyUseTypeGFA',\n",
       "                                                   'SourceEUIWN(kBtu/sf)',\n",
       "                                                   'GHGEmissionsIntensity',\n",
       "                                                   'BuildingAge',\n",
       "                                                   'ENERGYSTARScore']),\n",
       "                                                 ('cat',\n",
       "                                                  OneHotEncoder(handle_unknown='ignore'),\n",
       "                                                  ['PrimaryPropertyType',\n",
       "                                                   'Neighborhood',\n",
       "                                                   'LargestPropertyUseType',\n",
       "                                                   'ComplianceStatus'])])),\n",
       "                ('linearregression', LinearRegression())])"
      ]
     },
     "execution_count": 115,
     "metadata": {},
     "output_type": "execute_result"
    }
   ],
   "source": [
    "pipe_lr"
   ]
  },
  {
   "cell_type": "code",
   "execution_count": 116,
   "metadata": {},
   "outputs": [
    {
     "data": {
      "text/plain": [
       "0.8632371580193337"
      ]
     },
     "execution_count": 116,
     "metadata": {},
     "output_type": "execute_result"
    }
   ],
   "source": [
    "model_lr= grid_lr.best_estimator_\n",
    "pred_lr= model_lr.predict(X_test)\n",
    "r2_score(y_test, pred_lr)"
   ]
  },
  {
   "cell_type": "code",
   "execution_count": 117,
   "metadata": {},
   "outputs": [
    {
     "data": {
      "text/plain": [
       "[916067.0248651002,\n",
       " 839178794045.196,\n",
       " 633234.792604086,\n",
       " 429396.4465948227,\n",
       " 0.8632371580193337]"
      ]
     },
     "execution_count": 117,
     "metadata": {},
     "output_type": "execute_result"
    }
   ],
   "source": [
    "# calcul des métriques:\n",
    "compute_scores(y_test, pred_lr)"
   ]
  },
  {
   "cell_type": "markdown",
   "metadata": {},
   "source": [
    "#### Application du modèle Ridge Regression:"
   ]
  },
  {
   "cell_type": "code",
   "execution_count": 118,
   "metadata": {},
   "outputs": [],
   "source": [
    "# instaciation de l'objet:\n",
    "ridge= Ridge()\n",
    "pipe_ridge= make_pipeline(column_trans,ridge)"
   ]
  },
  {
   "cell_type": "code",
   "execution_count": 119,
   "metadata": {},
   "outputs": [
    {
     "data": {
      "text/plain": [
       "array([ 0.66074868,  0.73341466, -0.79395317,  0.60746734,  0.72273988])"
      ]
     },
     "execution_count": 119,
     "metadata": {},
     "output_type": "execute_result"
    }
   ],
   "source": [
    "cross_val_score(pipe_ridge,X_train,y_train,cv=5,scoring='r2')"
   ]
  },
  {
   "cell_type": "code",
   "execution_count": 120,
   "metadata": {},
   "outputs": [
    {
     "data": {
      "text/plain": [
       "dict_keys(['memory', 'steps', 'verbose', 'columntransformer', 'ridge', 'columntransformer__n_jobs', 'columntransformer__remainder', 'columntransformer__sparse_threshold', 'columntransformer__transformer_weights', 'columntransformer__transformers', 'columntransformer__verbose', 'columntransformer__verbose_feature_names_out', 'columntransformer__num', 'columntransformer__cat', 'columntransformer__num__memory', 'columntransformer__num__steps', 'columntransformer__num__verbose', 'columntransformer__num__imputer', 'columntransformer__num__scaler', 'columntransformer__num__imputer__add_indicator', 'columntransformer__num__imputer__copy', 'columntransformer__num__imputer__fill_value', 'columntransformer__num__imputer__missing_values', 'columntransformer__num__imputer__strategy', 'columntransformer__num__imputer__verbose', 'columntransformer__num__scaler__copy', 'columntransformer__num__scaler__with_mean', 'columntransformer__num__scaler__with_std', 'columntransformer__cat__categories', 'columntransformer__cat__drop', 'columntransformer__cat__dtype', 'columntransformer__cat__handle_unknown', 'columntransformer__cat__sparse', 'ridge__alpha', 'ridge__copy_X', 'ridge__fit_intercept', 'ridge__max_iter', 'ridge__normalize', 'ridge__positive', 'ridge__random_state', 'ridge__solver', 'ridge__tol'])"
      ]
     },
     "execution_count": 120,
     "metadata": {},
     "output_type": "execute_result"
    }
   ],
   "source": [
    "# liste des paramètres de l'estimateur:\n",
    "pipe_ridge.get_params().keys()"
   ]
  },
  {
   "cell_type": "code",
   "execution_count": 121,
   "metadata": {},
   "outputs": [],
   "source": [
    "# Définition des paramètres:\n",
    "#le paramètre alpha permet de corriger l'overfitting\n",
    "parameter= {'ridge__alpha': [5,10,15]}\n",
    "#Grille de recherche:\n",
    "grid_ridge= GridSearchCV(pipe_ridge,parameter, cv=5,scoring='r2')"
   ]
  },
  {
   "cell_type": "code",
   "execution_count": 122,
   "metadata": {},
   "outputs": [
    {
     "data": {
      "text/html": [
       "<style>#sk-75fd4dbd-a8c5-4e50-a626-eb4c1d51155b {color: black;background-color: white;}#sk-75fd4dbd-a8c5-4e50-a626-eb4c1d51155b pre{padding: 0;}#sk-75fd4dbd-a8c5-4e50-a626-eb4c1d51155b div.sk-toggleable {background-color: white;}#sk-75fd4dbd-a8c5-4e50-a626-eb4c1d51155b label.sk-toggleable__label {cursor: pointer;display: block;width: 100%;margin-bottom: 0;padding: 0.3em;box-sizing: border-box;text-align: center;}#sk-75fd4dbd-a8c5-4e50-a626-eb4c1d51155b label.sk-toggleable__label-arrow:before {content: \"▸\";float: left;margin-right: 0.25em;color: #696969;}#sk-75fd4dbd-a8c5-4e50-a626-eb4c1d51155b label.sk-toggleable__label-arrow:hover:before {color: black;}#sk-75fd4dbd-a8c5-4e50-a626-eb4c1d51155b div.sk-estimator:hover label.sk-toggleable__label-arrow:before {color: black;}#sk-75fd4dbd-a8c5-4e50-a626-eb4c1d51155b div.sk-toggleable__content {max-height: 0;max-width: 0;overflow: hidden;text-align: left;background-color: #f0f8ff;}#sk-75fd4dbd-a8c5-4e50-a626-eb4c1d51155b div.sk-toggleable__content pre {margin: 0.2em;color: black;border-radius: 0.25em;background-color: #f0f8ff;}#sk-75fd4dbd-a8c5-4e50-a626-eb4c1d51155b input.sk-toggleable__control:checked~div.sk-toggleable__content {max-height: 200px;max-width: 100%;overflow: auto;}#sk-75fd4dbd-a8c5-4e50-a626-eb4c1d51155b input.sk-toggleable__control:checked~label.sk-toggleable__label-arrow:before {content: \"▾\";}#sk-75fd4dbd-a8c5-4e50-a626-eb4c1d51155b div.sk-estimator input.sk-toggleable__control:checked~label.sk-toggleable__label {background-color: #d4ebff;}#sk-75fd4dbd-a8c5-4e50-a626-eb4c1d51155b div.sk-label input.sk-toggleable__control:checked~label.sk-toggleable__label {background-color: #d4ebff;}#sk-75fd4dbd-a8c5-4e50-a626-eb4c1d51155b input.sk-hidden--visually {border: 0;clip: rect(1px 1px 1px 1px);clip: rect(1px, 1px, 1px, 1px);height: 1px;margin: -1px;overflow: hidden;padding: 0;position: absolute;width: 1px;}#sk-75fd4dbd-a8c5-4e50-a626-eb4c1d51155b div.sk-estimator {font-family: monospace;background-color: #f0f8ff;border: 1px dotted black;border-radius: 0.25em;box-sizing: border-box;margin-bottom: 0.5em;}#sk-75fd4dbd-a8c5-4e50-a626-eb4c1d51155b div.sk-estimator:hover {background-color: #d4ebff;}#sk-75fd4dbd-a8c5-4e50-a626-eb4c1d51155b div.sk-parallel-item::after {content: \"\";width: 100%;border-bottom: 1px solid gray;flex-grow: 1;}#sk-75fd4dbd-a8c5-4e50-a626-eb4c1d51155b div.sk-label:hover label.sk-toggleable__label {background-color: #d4ebff;}#sk-75fd4dbd-a8c5-4e50-a626-eb4c1d51155b div.sk-serial::before {content: \"\";position: absolute;border-left: 1px solid gray;box-sizing: border-box;top: 2em;bottom: 0;left: 50%;}#sk-75fd4dbd-a8c5-4e50-a626-eb4c1d51155b div.sk-serial {display: flex;flex-direction: column;align-items: center;background-color: white;padding-right: 0.2em;padding-left: 0.2em;}#sk-75fd4dbd-a8c5-4e50-a626-eb4c1d51155b div.sk-item {z-index: 1;}#sk-75fd4dbd-a8c5-4e50-a626-eb4c1d51155b div.sk-parallel {display: flex;align-items: stretch;justify-content: center;background-color: white;}#sk-75fd4dbd-a8c5-4e50-a626-eb4c1d51155b div.sk-parallel::before {content: \"\";position: absolute;border-left: 1px solid gray;box-sizing: border-box;top: 2em;bottom: 0;left: 50%;}#sk-75fd4dbd-a8c5-4e50-a626-eb4c1d51155b div.sk-parallel-item {display: flex;flex-direction: column;position: relative;background-color: white;}#sk-75fd4dbd-a8c5-4e50-a626-eb4c1d51155b div.sk-parallel-item:first-child::after {align-self: flex-end;width: 50%;}#sk-75fd4dbd-a8c5-4e50-a626-eb4c1d51155b div.sk-parallel-item:last-child::after {align-self: flex-start;width: 50%;}#sk-75fd4dbd-a8c5-4e50-a626-eb4c1d51155b div.sk-parallel-item:only-child::after {width: 0;}#sk-75fd4dbd-a8c5-4e50-a626-eb4c1d51155b div.sk-dashed-wrapped {border: 1px dashed gray;margin: 0 0.4em 0.5em 0.4em;box-sizing: border-box;padding-bottom: 0.4em;background-color: white;position: relative;}#sk-75fd4dbd-a8c5-4e50-a626-eb4c1d51155b div.sk-label label {font-family: monospace;font-weight: bold;background-color: white;display: inline-block;line-height: 1.2em;}#sk-75fd4dbd-a8c5-4e50-a626-eb4c1d51155b div.sk-label-container {position: relative;z-index: 2;text-align: center;}#sk-75fd4dbd-a8c5-4e50-a626-eb4c1d51155b div.sk-container {/* jupyter's `normalize.less` sets `[hidden] { display: none; }` but bootstrap.min.css set `[hidden] { display: none !important; }` so we also need the `!important` here to be able to override the default hidden behavior on the sphinx rendered scikit-learn.org. See: https://github.com/scikit-learn/scikit-learn/issues/21755 */display: inline-block !important;position: relative;}#sk-75fd4dbd-a8c5-4e50-a626-eb4c1d51155b div.sk-text-repr-fallback {display: none;}</style><div id=\"sk-75fd4dbd-a8c5-4e50-a626-eb4c1d51155b\" class=\"sk-top-container\"><div class=\"sk-text-repr-fallback\"><pre>GridSearchCV(cv=5,\n",
       "             estimator=Pipeline(steps=[(&#x27;columntransformer&#x27;,\n",
       "                                        ColumnTransformer(transformers=[(&#x27;num&#x27;,\n",
       "                                                                         Pipeline(steps=[(&#x27;imputer&#x27;,\n",
       "                                                                                          SimpleImputer(strategy=&#x27;median&#x27;)),\n",
       "                                                                                         (&#x27;scaler&#x27;,\n",
       "                                                                                          StandardScaler())]),\n",
       "                                                                         [&#x27;NumberofBuildings&#x27;,\n",
       "                                                                          &#x27;NumberofFloors&#x27;,\n",
       "                                                                          &#x27;PropertyGFATotal&#x27;,\n",
       "                                                                          &#x27;PropertyGFAParking&#x27;,\n",
       "                                                                          &#x27;PropertyGFABuilding(s)&#x27;,\n",
       "                                                                          &#x27;LargestPropertyUseTypeGFA&#x27;,\n",
       "                                                                          &#x27;SourceEUIWN(kBtu/sf)&#x27;,\n",
       "                                                                          &#x27;GHGEmissionsIntensity&#x27;,\n",
       "                                                                          &#x27;BuildingAge&#x27;,\n",
       "                                                                          &#x27;ENERGYSTARScore&#x27;]),\n",
       "                                                                        (&#x27;cat&#x27;,\n",
       "                                                                         OneHotEncoder(handle_unknown=&#x27;ignore&#x27;),\n",
       "                                                                         [&#x27;PrimaryPropertyType&#x27;,\n",
       "                                                                          &#x27;Neighborhood&#x27;,\n",
       "                                                                          &#x27;LargestPropertyUseType&#x27;,\n",
       "                                                                          &#x27;ComplianceStatus&#x27;])])),\n",
       "                                       (&#x27;ridge&#x27;, Ridge())]),\n",
       "             param_grid={&#x27;ridge__alpha&#x27;: [5, 10, 15]}, scoring=&#x27;r2&#x27;)</pre><b>Please rerun this cell to show the HTML repr or trust the notebook.</b></div><div class=\"sk-container\" hidden><div class=\"sk-item sk-dashed-wrapped\"><div class=\"sk-label-container\"><div class=\"sk-label sk-toggleable\"><input class=\"sk-toggleable__control sk-hidden--visually\" id=\"14790218-e794-473d-877b-253a69343c72\" type=\"checkbox\" ><label for=\"14790218-e794-473d-877b-253a69343c72\" class=\"sk-toggleable__label sk-toggleable__label-arrow\">GridSearchCV</label><div class=\"sk-toggleable__content\"><pre>GridSearchCV(cv=5,\n",
       "             estimator=Pipeline(steps=[(&#x27;columntransformer&#x27;,\n",
       "                                        ColumnTransformer(transformers=[(&#x27;num&#x27;,\n",
       "                                                                         Pipeline(steps=[(&#x27;imputer&#x27;,\n",
       "                                                                                          SimpleImputer(strategy=&#x27;median&#x27;)),\n",
       "                                                                                         (&#x27;scaler&#x27;,\n",
       "                                                                                          StandardScaler())]),\n",
       "                                                                         [&#x27;NumberofBuildings&#x27;,\n",
       "                                                                          &#x27;NumberofFloors&#x27;,\n",
       "                                                                          &#x27;PropertyGFATotal&#x27;,\n",
       "                                                                          &#x27;PropertyGFAParking&#x27;,\n",
       "                                                                          &#x27;PropertyGFABuilding(s)&#x27;,\n",
       "                                                                          &#x27;LargestPropertyUseTypeGFA&#x27;,\n",
       "                                                                          &#x27;SourceEUIWN(kBtu/sf)&#x27;,\n",
       "                                                                          &#x27;GHGEmissionsIntensity&#x27;,\n",
       "                                                                          &#x27;BuildingAge&#x27;,\n",
       "                                                                          &#x27;ENERGYSTARScore&#x27;]),\n",
       "                                                                        (&#x27;cat&#x27;,\n",
       "                                                                         OneHotEncoder(handle_unknown=&#x27;ignore&#x27;),\n",
       "                                                                         [&#x27;PrimaryPropertyType&#x27;,\n",
       "                                                                          &#x27;Neighborhood&#x27;,\n",
       "                                                                          &#x27;LargestPropertyUseType&#x27;,\n",
       "                                                                          &#x27;ComplianceStatus&#x27;])])),\n",
       "                                       (&#x27;ridge&#x27;, Ridge())]),\n",
       "             param_grid={&#x27;ridge__alpha&#x27;: [5, 10, 15]}, scoring=&#x27;r2&#x27;)</pre></div></div></div><div class=\"sk-parallel\"><div class=\"sk-parallel-item\"><div class=\"sk-item\"><div class=\"sk-serial\"><div class=\"sk-item\"><div class=\"sk-serial\"><div class=\"sk-item sk-dashed-wrapped\"><div class=\"sk-label-container\"><div class=\"sk-label sk-toggleable\"><input class=\"sk-toggleable__control sk-hidden--visually\" id=\"9287fa2c-fbeb-406b-8ebd-014a8b396871\" type=\"checkbox\" ><label for=\"9287fa2c-fbeb-406b-8ebd-014a8b396871\" class=\"sk-toggleable__label sk-toggleable__label-arrow\">columntransformer: ColumnTransformer</label><div class=\"sk-toggleable__content\"><pre>ColumnTransformer(transformers=[(&#x27;num&#x27;,\n",
       "                                 Pipeline(steps=[(&#x27;imputer&#x27;,\n",
       "                                                  SimpleImputer(strategy=&#x27;median&#x27;)),\n",
       "                                                 (&#x27;scaler&#x27;, StandardScaler())]),\n",
       "                                 [&#x27;NumberofBuildings&#x27;, &#x27;NumberofFloors&#x27;,\n",
       "                                  &#x27;PropertyGFATotal&#x27;, &#x27;PropertyGFAParking&#x27;,\n",
       "                                  &#x27;PropertyGFABuilding(s)&#x27;,\n",
       "                                  &#x27;LargestPropertyUseTypeGFA&#x27;,\n",
       "                                  &#x27;SourceEUIWN(kBtu/sf)&#x27;,\n",
       "                                  &#x27;GHGEmissionsIntensity&#x27;, &#x27;BuildingAge&#x27;,\n",
       "                                  &#x27;ENERGYSTARScore&#x27;]),\n",
       "                                (&#x27;cat&#x27;, OneHotEncoder(handle_unknown=&#x27;ignore&#x27;),\n",
       "                                 [&#x27;PrimaryPropertyType&#x27;, &#x27;Neighborhood&#x27;,\n",
       "                                  &#x27;LargestPropertyUseType&#x27;,\n",
       "                                  &#x27;ComplianceStatus&#x27;])])</pre></div></div></div><div class=\"sk-parallel\"><div class=\"sk-parallel-item\"><div class=\"sk-item\"><div class=\"sk-label-container\"><div class=\"sk-label sk-toggleable\"><input class=\"sk-toggleable__control sk-hidden--visually\" id=\"213bc103-d53f-44e3-9c72-9fcd91437251\" type=\"checkbox\" ><label for=\"213bc103-d53f-44e3-9c72-9fcd91437251\" class=\"sk-toggleable__label sk-toggleable__label-arrow\">num</label><div class=\"sk-toggleable__content\"><pre>[&#x27;NumberofBuildings&#x27;, &#x27;NumberofFloors&#x27;, &#x27;PropertyGFATotal&#x27;, &#x27;PropertyGFAParking&#x27;, &#x27;PropertyGFABuilding(s)&#x27;, &#x27;LargestPropertyUseTypeGFA&#x27;, &#x27;SourceEUIWN(kBtu/sf)&#x27;, &#x27;GHGEmissionsIntensity&#x27;, &#x27;BuildingAge&#x27;, &#x27;ENERGYSTARScore&#x27;]</pre></div></div></div><div class=\"sk-serial\"><div class=\"sk-item\"><div class=\"sk-serial\"><div class=\"sk-item\"><div class=\"sk-estimator sk-toggleable\"><input class=\"sk-toggleable__control sk-hidden--visually\" id=\"29fc9a88-57a8-4171-b94e-b3b231afefb8\" type=\"checkbox\" ><label for=\"29fc9a88-57a8-4171-b94e-b3b231afefb8\" class=\"sk-toggleable__label sk-toggleable__label-arrow\">SimpleImputer</label><div class=\"sk-toggleable__content\"><pre>SimpleImputer(strategy=&#x27;median&#x27;)</pre></div></div></div><div class=\"sk-item\"><div class=\"sk-estimator sk-toggleable\"><input class=\"sk-toggleable__control sk-hidden--visually\" id=\"19807a6f-0560-429e-87ef-9b5e72c2b57a\" type=\"checkbox\" ><label for=\"19807a6f-0560-429e-87ef-9b5e72c2b57a\" class=\"sk-toggleable__label sk-toggleable__label-arrow\">StandardScaler</label><div class=\"sk-toggleable__content\"><pre>StandardScaler()</pre></div></div></div></div></div></div></div></div><div class=\"sk-parallel-item\"><div class=\"sk-item\"><div class=\"sk-label-container\"><div class=\"sk-label sk-toggleable\"><input class=\"sk-toggleable__control sk-hidden--visually\" id=\"7cea10a2-da4f-4e13-b37d-633f9040b764\" type=\"checkbox\" ><label for=\"7cea10a2-da4f-4e13-b37d-633f9040b764\" class=\"sk-toggleable__label sk-toggleable__label-arrow\">cat</label><div class=\"sk-toggleable__content\"><pre>[&#x27;PrimaryPropertyType&#x27;, &#x27;Neighborhood&#x27;, &#x27;LargestPropertyUseType&#x27;, &#x27;ComplianceStatus&#x27;]</pre></div></div></div><div class=\"sk-serial\"><div class=\"sk-item\"><div class=\"sk-estimator sk-toggleable\"><input class=\"sk-toggleable__control sk-hidden--visually\" id=\"498fa3fc-a86a-4c4b-8da8-bce6c2885a59\" type=\"checkbox\" ><label for=\"498fa3fc-a86a-4c4b-8da8-bce6c2885a59\" class=\"sk-toggleable__label sk-toggleable__label-arrow\">OneHotEncoder</label><div class=\"sk-toggleable__content\"><pre>OneHotEncoder(handle_unknown=&#x27;ignore&#x27;)</pre></div></div></div></div></div></div></div></div><div class=\"sk-item\"><div class=\"sk-estimator sk-toggleable\"><input class=\"sk-toggleable__control sk-hidden--visually\" id=\"3ca7a0ad-3393-49ef-a3d4-50ab7f5afb87\" type=\"checkbox\" ><label for=\"3ca7a0ad-3393-49ef-a3d4-50ab7f5afb87\" class=\"sk-toggleable__label sk-toggleable__label-arrow\">Ridge</label><div class=\"sk-toggleable__content\"><pre>Ridge()</pre></div></div></div></div></div></div></div></div></div></div></div></div>"
      ],
      "text/plain": [
       "GridSearchCV(cv=5,\n",
       "             estimator=Pipeline(steps=[('columntransformer',\n",
       "                                        ColumnTransformer(transformers=[('num',\n",
       "                                                                         Pipeline(steps=[('imputer',\n",
       "                                                                                          SimpleImputer(strategy='median')),\n",
       "                                                                                         ('scaler',\n",
       "                                                                                          StandardScaler())]),\n",
       "                                                                         ['NumberofBuildings',\n",
       "                                                                          'NumberofFloors',\n",
       "                                                                          'PropertyGFATotal',\n",
       "                                                                          'PropertyGFAParking',\n",
       "                                                                          'PropertyGFABuilding(s)',\n",
       "                                                                          'LargestPropertyUseTypeGFA',\n",
       "                                                                          'SourceEUIWN(kBtu/sf)',\n",
       "                                                                          'GHGEmissionsIntensity',\n",
       "                                                                          'BuildingAge',\n",
       "                                                                          'ENERGYSTARScore']),\n",
       "                                                                        ('cat',\n",
       "                                                                         OneHotEncoder(handle_unknown='ignore'),\n",
       "                                                                         ['PrimaryPropertyType',\n",
       "                                                                          'Neighborhood',\n",
       "                                                                          'LargestPropertyUseType',\n",
       "                                                                          'ComplianceStatus'])])),\n",
       "                                       ('ridge', Ridge())]),\n",
       "             param_grid={'ridge__alpha': [5, 10, 15]}, scoring='r2')"
      ]
     },
     "execution_count": 122,
     "metadata": {},
     "output_type": "execute_result"
    }
   ],
   "source": [
    "grid_ridge.fit(X_train,y_train)"
   ]
  },
  {
   "cell_type": "code",
   "execution_count": 123,
   "metadata": {},
   "outputs": [
    {
     "name": "stdout",
     "output_type": "stream",
     "text": [
      "0.3841496307609261\n",
      "{'ridge__alpha': 15}\n"
     ]
    }
   ],
   "source": [
    "print(grid_ridge.best_score_)\n",
    "print(grid_ridge.best_params_)"
   ]
  },
  {
   "cell_type": "code",
   "execution_count": 124,
   "metadata": {},
   "outputs": [],
   "source": [
    "model_ridge= grid_ridge.best_estimator_"
   ]
  },
  {
   "cell_type": "code",
   "execution_count": 125,
   "metadata": {},
   "outputs": [],
   "source": [
    "pred_ridge= model_ridge.predict(X_test)"
   ]
  },
  {
   "cell_type": "code",
   "execution_count": 126,
   "metadata": {},
   "outputs": [
    {
     "data": {
      "text/plain": [
       "[1292768.9735769145,\n",
       " 1671251619043.1091,\n",
       " 838931.1538224191,\n",
       " 553764.1520905285,\n",
       " 0.7276323916821763]"
      ]
     },
     "execution_count": 126,
     "metadata": {},
     "output_type": "execute_result"
    }
   ],
   "source": [
    "# Evaluation des métriques:\n",
    "compute_scores(y_test, pred_ridge)"
   ]
  },
  {
   "cell_type": "markdown",
   "metadata": {},
   "source": [
    "#### Application du modèle SVR:"
   ]
  },
  {
   "cell_type": "code",
   "execution_count": 127,
   "metadata": {},
   "outputs": [],
   "source": [
    "# Instanciation de l'objet:\n",
    "svr= SVR()\n",
    "# On crée le modèle à l'aide de pipeline\n",
    "from sklearn.pipeline import make_pipeline\n",
    "pipe_svr= make_pipeline(column_trans,svr)"
   ]
  },
  {
   "cell_type": "code",
   "execution_count": 128,
   "metadata": {},
   "outputs": [],
   "source": [
    "# Optimisation des hyperparamètres avec: GridSearchCV()\n",
    "parameters = {'svr__kernel': ('poly','linear','rbf')}\n",
    "#Grille de recherche:\n",
    "grid_svr= GridSearchCV(pipe_svr,parameters, cv=5,scoring='r2')"
   ]
  },
  {
   "cell_type": "code",
   "execution_count": 129,
   "metadata": {},
   "outputs": [
    {
     "data": {
      "text/html": [
       "<style>#sk-939855bd-683e-49db-a1ad-68d601719f64 {color: black;background-color: white;}#sk-939855bd-683e-49db-a1ad-68d601719f64 pre{padding: 0;}#sk-939855bd-683e-49db-a1ad-68d601719f64 div.sk-toggleable {background-color: white;}#sk-939855bd-683e-49db-a1ad-68d601719f64 label.sk-toggleable__label {cursor: pointer;display: block;width: 100%;margin-bottom: 0;padding: 0.3em;box-sizing: border-box;text-align: center;}#sk-939855bd-683e-49db-a1ad-68d601719f64 label.sk-toggleable__label-arrow:before {content: \"▸\";float: left;margin-right: 0.25em;color: #696969;}#sk-939855bd-683e-49db-a1ad-68d601719f64 label.sk-toggleable__label-arrow:hover:before {color: black;}#sk-939855bd-683e-49db-a1ad-68d601719f64 div.sk-estimator:hover label.sk-toggleable__label-arrow:before {color: black;}#sk-939855bd-683e-49db-a1ad-68d601719f64 div.sk-toggleable__content {max-height: 0;max-width: 0;overflow: hidden;text-align: left;background-color: #f0f8ff;}#sk-939855bd-683e-49db-a1ad-68d601719f64 div.sk-toggleable__content pre {margin: 0.2em;color: black;border-radius: 0.25em;background-color: #f0f8ff;}#sk-939855bd-683e-49db-a1ad-68d601719f64 input.sk-toggleable__control:checked~div.sk-toggleable__content {max-height: 200px;max-width: 100%;overflow: auto;}#sk-939855bd-683e-49db-a1ad-68d601719f64 input.sk-toggleable__control:checked~label.sk-toggleable__label-arrow:before {content: \"▾\";}#sk-939855bd-683e-49db-a1ad-68d601719f64 div.sk-estimator input.sk-toggleable__control:checked~label.sk-toggleable__label {background-color: #d4ebff;}#sk-939855bd-683e-49db-a1ad-68d601719f64 div.sk-label input.sk-toggleable__control:checked~label.sk-toggleable__label {background-color: #d4ebff;}#sk-939855bd-683e-49db-a1ad-68d601719f64 input.sk-hidden--visually {border: 0;clip: rect(1px 1px 1px 1px);clip: rect(1px, 1px, 1px, 1px);height: 1px;margin: -1px;overflow: hidden;padding: 0;position: absolute;width: 1px;}#sk-939855bd-683e-49db-a1ad-68d601719f64 div.sk-estimator {font-family: monospace;background-color: #f0f8ff;border: 1px dotted black;border-radius: 0.25em;box-sizing: border-box;margin-bottom: 0.5em;}#sk-939855bd-683e-49db-a1ad-68d601719f64 div.sk-estimator:hover {background-color: #d4ebff;}#sk-939855bd-683e-49db-a1ad-68d601719f64 div.sk-parallel-item::after {content: \"\";width: 100%;border-bottom: 1px solid gray;flex-grow: 1;}#sk-939855bd-683e-49db-a1ad-68d601719f64 div.sk-label:hover label.sk-toggleable__label {background-color: #d4ebff;}#sk-939855bd-683e-49db-a1ad-68d601719f64 div.sk-serial::before {content: \"\";position: absolute;border-left: 1px solid gray;box-sizing: border-box;top: 2em;bottom: 0;left: 50%;}#sk-939855bd-683e-49db-a1ad-68d601719f64 div.sk-serial {display: flex;flex-direction: column;align-items: center;background-color: white;padding-right: 0.2em;padding-left: 0.2em;}#sk-939855bd-683e-49db-a1ad-68d601719f64 div.sk-item {z-index: 1;}#sk-939855bd-683e-49db-a1ad-68d601719f64 div.sk-parallel {display: flex;align-items: stretch;justify-content: center;background-color: white;}#sk-939855bd-683e-49db-a1ad-68d601719f64 div.sk-parallel::before {content: \"\";position: absolute;border-left: 1px solid gray;box-sizing: border-box;top: 2em;bottom: 0;left: 50%;}#sk-939855bd-683e-49db-a1ad-68d601719f64 div.sk-parallel-item {display: flex;flex-direction: column;position: relative;background-color: white;}#sk-939855bd-683e-49db-a1ad-68d601719f64 div.sk-parallel-item:first-child::after {align-self: flex-end;width: 50%;}#sk-939855bd-683e-49db-a1ad-68d601719f64 div.sk-parallel-item:last-child::after {align-self: flex-start;width: 50%;}#sk-939855bd-683e-49db-a1ad-68d601719f64 div.sk-parallel-item:only-child::after {width: 0;}#sk-939855bd-683e-49db-a1ad-68d601719f64 div.sk-dashed-wrapped {border: 1px dashed gray;margin: 0 0.4em 0.5em 0.4em;box-sizing: border-box;padding-bottom: 0.4em;background-color: white;position: relative;}#sk-939855bd-683e-49db-a1ad-68d601719f64 div.sk-label label {font-family: monospace;font-weight: bold;background-color: white;display: inline-block;line-height: 1.2em;}#sk-939855bd-683e-49db-a1ad-68d601719f64 div.sk-label-container {position: relative;z-index: 2;text-align: center;}#sk-939855bd-683e-49db-a1ad-68d601719f64 div.sk-container {/* jupyter's `normalize.less` sets `[hidden] { display: none; }` but bootstrap.min.css set `[hidden] { display: none !important; }` so we also need the `!important` here to be able to override the default hidden behavior on the sphinx rendered scikit-learn.org. See: https://github.com/scikit-learn/scikit-learn/issues/21755 */display: inline-block !important;position: relative;}#sk-939855bd-683e-49db-a1ad-68d601719f64 div.sk-text-repr-fallback {display: none;}</style><div id=\"sk-939855bd-683e-49db-a1ad-68d601719f64\" class=\"sk-top-container\"><div class=\"sk-text-repr-fallback\"><pre>GridSearchCV(cv=5,\n",
       "             estimator=Pipeline(steps=[(&#x27;columntransformer&#x27;,\n",
       "                                        ColumnTransformer(transformers=[(&#x27;num&#x27;,\n",
       "                                                                         Pipeline(steps=[(&#x27;imputer&#x27;,\n",
       "                                                                                          SimpleImputer(strategy=&#x27;median&#x27;)),\n",
       "                                                                                         (&#x27;scaler&#x27;,\n",
       "                                                                                          StandardScaler())]),\n",
       "                                                                         [&#x27;NumberofBuildings&#x27;,\n",
       "                                                                          &#x27;NumberofFloors&#x27;,\n",
       "                                                                          &#x27;PropertyGFATotal&#x27;,\n",
       "                                                                          &#x27;PropertyGFAParking&#x27;,\n",
       "                                                                          &#x27;PropertyGFABuilding(s)&#x27;,\n",
       "                                                                          &#x27;LargestPropertyUseTypeGFA&#x27;,\n",
       "                                                                          &#x27;SourceEUIWN(kBtu/sf)&#x27;,\n",
       "                                                                          &#x27;GHGEmissionsIntensity&#x27;,\n",
       "                                                                          &#x27;BuildingAge&#x27;,\n",
       "                                                                          &#x27;ENERGYSTARScore&#x27;]),\n",
       "                                                                        (&#x27;cat&#x27;,\n",
       "                                                                         OneHotEncoder(handle_unknown=&#x27;ignore&#x27;),\n",
       "                                                                         [&#x27;PrimaryPropertyType&#x27;,\n",
       "                                                                          &#x27;Neighborhood&#x27;,\n",
       "                                                                          &#x27;LargestPropertyUseType&#x27;,\n",
       "                                                                          &#x27;ComplianceStatus&#x27;])])),\n",
       "                                       (&#x27;svr&#x27;, SVR())]),\n",
       "             param_grid={&#x27;svr__kernel&#x27;: (&#x27;poly&#x27;, &#x27;linear&#x27;, &#x27;rbf&#x27;)},\n",
       "             scoring=&#x27;r2&#x27;)</pre><b>Please rerun this cell to show the HTML repr or trust the notebook.</b></div><div class=\"sk-container\" hidden><div class=\"sk-item sk-dashed-wrapped\"><div class=\"sk-label-container\"><div class=\"sk-label sk-toggleable\"><input class=\"sk-toggleable__control sk-hidden--visually\" id=\"477555d8-ffc0-430a-9305-1f5112a3cb4c\" type=\"checkbox\" ><label for=\"477555d8-ffc0-430a-9305-1f5112a3cb4c\" class=\"sk-toggleable__label sk-toggleable__label-arrow\">GridSearchCV</label><div class=\"sk-toggleable__content\"><pre>GridSearchCV(cv=5,\n",
       "             estimator=Pipeline(steps=[(&#x27;columntransformer&#x27;,\n",
       "                                        ColumnTransformer(transformers=[(&#x27;num&#x27;,\n",
       "                                                                         Pipeline(steps=[(&#x27;imputer&#x27;,\n",
       "                                                                                          SimpleImputer(strategy=&#x27;median&#x27;)),\n",
       "                                                                                         (&#x27;scaler&#x27;,\n",
       "                                                                                          StandardScaler())]),\n",
       "                                                                         [&#x27;NumberofBuildings&#x27;,\n",
       "                                                                          &#x27;NumberofFloors&#x27;,\n",
       "                                                                          &#x27;PropertyGFATotal&#x27;,\n",
       "                                                                          &#x27;PropertyGFAParking&#x27;,\n",
       "                                                                          &#x27;PropertyGFABuilding(s)&#x27;,\n",
       "                                                                          &#x27;LargestPropertyUseTypeGFA&#x27;,\n",
       "                                                                          &#x27;SourceEUIWN(kBtu/sf)&#x27;,\n",
       "                                                                          &#x27;GHGEmissionsIntensity&#x27;,\n",
       "                                                                          &#x27;BuildingAge&#x27;,\n",
       "                                                                          &#x27;ENERGYSTARScore&#x27;]),\n",
       "                                                                        (&#x27;cat&#x27;,\n",
       "                                                                         OneHotEncoder(handle_unknown=&#x27;ignore&#x27;),\n",
       "                                                                         [&#x27;PrimaryPropertyType&#x27;,\n",
       "                                                                          &#x27;Neighborhood&#x27;,\n",
       "                                                                          &#x27;LargestPropertyUseType&#x27;,\n",
       "                                                                          &#x27;ComplianceStatus&#x27;])])),\n",
       "                                       (&#x27;svr&#x27;, SVR())]),\n",
       "             param_grid={&#x27;svr__kernel&#x27;: (&#x27;poly&#x27;, &#x27;linear&#x27;, &#x27;rbf&#x27;)},\n",
       "             scoring=&#x27;r2&#x27;)</pre></div></div></div><div class=\"sk-parallel\"><div class=\"sk-parallel-item\"><div class=\"sk-item\"><div class=\"sk-serial\"><div class=\"sk-item\"><div class=\"sk-serial\"><div class=\"sk-item sk-dashed-wrapped\"><div class=\"sk-label-container\"><div class=\"sk-label sk-toggleable\"><input class=\"sk-toggleable__control sk-hidden--visually\" id=\"4250d211-232b-45e5-addb-2aa40f5991cc\" type=\"checkbox\" ><label for=\"4250d211-232b-45e5-addb-2aa40f5991cc\" class=\"sk-toggleable__label sk-toggleable__label-arrow\">columntransformer: ColumnTransformer</label><div class=\"sk-toggleable__content\"><pre>ColumnTransformer(transformers=[(&#x27;num&#x27;,\n",
       "                                 Pipeline(steps=[(&#x27;imputer&#x27;,\n",
       "                                                  SimpleImputer(strategy=&#x27;median&#x27;)),\n",
       "                                                 (&#x27;scaler&#x27;, StandardScaler())]),\n",
       "                                 [&#x27;NumberofBuildings&#x27;, &#x27;NumberofFloors&#x27;,\n",
       "                                  &#x27;PropertyGFATotal&#x27;, &#x27;PropertyGFAParking&#x27;,\n",
       "                                  &#x27;PropertyGFABuilding(s)&#x27;,\n",
       "                                  &#x27;LargestPropertyUseTypeGFA&#x27;,\n",
       "                                  &#x27;SourceEUIWN(kBtu/sf)&#x27;,\n",
       "                                  &#x27;GHGEmissionsIntensity&#x27;, &#x27;BuildingAge&#x27;,\n",
       "                                  &#x27;ENERGYSTARScore&#x27;]),\n",
       "                                (&#x27;cat&#x27;, OneHotEncoder(handle_unknown=&#x27;ignore&#x27;),\n",
       "                                 [&#x27;PrimaryPropertyType&#x27;, &#x27;Neighborhood&#x27;,\n",
       "                                  &#x27;LargestPropertyUseType&#x27;,\n",
       "                                  &#x27;ComplianceStatus&#x27;])])</pre></div></div></div><div class=\"sk-parallel\"><div class=\"sk-parallel-item\"><div class=\"sk-item\"><div class=\"sk-label-container\"><div class=\"sk-label sk-toggleable\"><input class=\"sk-toggleable__control sk-hidden--visually\" id=\"b6bfb462-1fd0-472f-a6cb-7b3fb990cd27\" type=\"checkbox\" ><label for=\"b6bfb462-1fd0-472f-a6cb-7b3fb990cd27\" class=\"sk-toggleable__label sk-toggleable__label-arrow\">num</label><div class=\"sk-toggleable__content\"><pre>[&#x27;NumberofBuildings&#x27;, &#x27;NumberofFloors&#x27;, &#x27;PropertyGFATotal&#x27;, &#x27;PropertyGFAParking&#x27;, &#x27;PropertyGFABuilding(s)&#x27;, &#x27;LargestPropertyUseTypeGFA&#x27;, &#x27;SourceEUIWN(kBtu/sf)&#x27;, &#x27;GHGEmissionsIntensity&#x27;, &#x27;BuildingAge&#x27;, &#x27;ENERGYSTARScore&#x27;]</pre></div></div></div><div class=\"sk-serial\"><div class=\"sk-item\"><div class=\"sk-serial\"><div class=\"sk-item\"><div class=\"sk-estimator sk-toggleable\"><input class=\"sk-toggleable__control sk-hidden--visually\" id=\"86b1ec77-ced1-4d9f-9e41-a7e5810eb3df\" type=\"checkbox\" ><label for=\"86b1ec77-ced1-4d9f-9e41-a7e5810eb3df\" class=\"sk-toggleable__label sk-toggleable__label-arrow\">SimpleImputer</label><div class=\"sk-toggleable__content\"><pre>SimpleImputer(strategy=&#x27;median&#x27;)</pre></div></div></div><div class=\"sk-item\"><div class=\"sk-estimator sk-toggleable\"><input class=\"sk-toggleable__control sk-hidden--visually\" id=\"38796c25-2603-45b7-a394-47cfa6e8dc23\" type=\"checkbox\" ><label for=\"38796c25-2603-45b7-a394-47cfa6e8dc23\" class=\"sk-toggleable__label sk-toggleable__label-arrow\">StandardScaler</label><div class=\"sk-toggleable__content\"><pre>StandardScaler()</pre></div></div></div></div></div></div></div></div><div class=\"sk-parallel-item\"><div class=\"sk-item\"><div class=\"sk-label-container\"><div class=\"sk-label sk-toggleable\"><input class=\"sk-toggleable__control sk-hidden--visually\" id=\"e08aeb2b-5eca-4886-9373-f3b1dfbd4652\" type=\"checkbox\" ><label for=\"e08aeb2b-5eca-4886-9373-f3b1dfbd4652\" class=\"sk-toggleable__label sk-toggleable__label-arrow\">cat</label><div class=\"sk-toggleable__content\"><pre>[&#x27;PrimaryPropertyType&#x27;, &#x27;Neighborhood&#x27;, &#x27;LargestPropertyUseType&#x27;, &#x27;ComplianceStatus&#x27;]</pre></div></div></div><div class=\"sk-serial\"><div class=\"sk-item\"><div class=\"sk-estimator sk-toggleable\"><input class=\"sk-toggleable__control sk-hidden--visually\" id=\"78aa78ab-a560-4d84-bcdd-4458bacf8408\" type=\"checkbox\" ><label for=\"78aa78ab-a560-4d84-bcdd-4458bacf8408\" class=\"sk-toggleable__label sk-toggleable__label-arrow\">OneHotEncoder</label><div class=\"sk-toggleable__content\"><pre>OneHotEncoder(handle_unknown=&#x27;ignore&#x27;)</pre></div></div></div></div></div></div></div></div><div class=\"sk-item\"><div class=\"sk-estimator sk-toggleable\"><input class=\"sk-toggleable__control sk-hidden--visually\" id=\"d3a42b86-3aa8-46f3-be49-7a086db3cb65\" type=\"checkbox\" ><label for=\"d3a42b86-3aa8-46f3-be49-7a086db3cb65\" class=\"sk-toggleable__label sk-toggleable__label-arrow\">SVR</label><div class=\"sk-toggleable__content\"><pre>SVR()</pre></div></div></div></div></div></div></div></div></div></div></div></div>"
      ],
      "text/plain": [
       "GridSearchCV(cv=5,\n",
       "             estimator=Pipeline(steps=[('columntransformer',\n",
       "                                        ColumnTransformer(transformers=[('num',\n",
       "                                                                         Pipeline(steps=[('imputer',\n",
       "                                                                                          SimpleImputer(strategy='median')),\n",
       "                                                                                         ('scaler',\n",
       "                                                                                          StandardScaler())]),\n",
       "                                                                         ['NumberofBuildings',\n",
       "                                                                          'NumberofFloors',\n",
       "                                                                          'PropertyGFATotal',\n",
       "                                                                          'PropertyGFAParking',\n",
       "                                                                          'PropertyGFABuilding(s)',\n",
       "                                                                          'LargestPropertyUseTypeGFA',\n",
       "                                                                          'SourceEUIWN(kBtu/sf)',\n",
       "                                                                          'GHGEmissionsIntensity',\n",
       "                                                                          'BuildingAge',\n",
       "                                                                          'ENERGYSTARScore']),\n",
       "                                                                        ('cat',\n",
       "                                                                         OneHotEncoder(handle_unknown='ignore'),\n",
       "                                                                         ['PrimaryPropertyType',\n",
       "                                                                          'Neighborhood',\n",
       "                                                                          'LargestPropertyUseType',\n",
       "                                                                          'ComplianceStatus'])])),\n",
       "                                       ('svr', SVR())]),\n",
       "             param_grid={'svr__kernel': ('poly', 'linear', 'rbf')},\n",
       "             scoring='r2')"
      ]
     },
     "execution_count": 129,
     "metadata": {},
     "output_type": "execute_result"
    }
   ],
   "source": [
    "grid_svr.fit(X_train,y_train)"
   ]
  },
  {
   "cell_type": "code",
   "execution_count": 130,
   "metadata": {},
   "outputs": [
    {
     "data": {
      "text/plain": [
       "-0.11097652945217829"
      ]
     },
     "execution_count": 130,
     "metadata": {},
     "output_type": "execute_result"
    }
   ],
   "source": [
    "model_svr= grid_svr.best_estimator_\n",
    "pred_svr= model_svr.predict(X_test)\n",
    "r2_score(y_test, pred_svr)"
   ]
  },
  {
   "cell_type": "code",
   "execution_count": 131,
   "metadata": {},
   "outputs": [
    {
     "data": {
      "text/plain": [
       "[2610932.4380681743,\n",
       " 6816968196156.621,\n",
       " 1857875.1626202324,\n",
       " 1302297.744943492,\n",
       " -0.11097652945217829]"
      ]
     },
     "execution_count": 131,
     "metadata": {},
     "output_type": "execute_result"
    }
   ],
   "source": [
    "# calcul des métriques:\n",
    "compute_scores(y_test, pred_svr)"
   ]
  },
  {
   "cell_type": "markdown",
   "metadata": {},
   "source": [
    "#### Application du modèle Lasso"
   ]
  },
  {
   "cell_type": "code",
   "execution_count": 132,
   "metadata": {},
   "outputs": [],
   "source": [
    "lasso= Lasso(tol=0.1)\n",
    "# On crée le modèle à l'aide de pipeline\n",
    "pipe_lasso= make_pipeline(column_trans,lasso)"
   ]
  },
  {
   "cell_type": "code",
   "execution_count": 133,
   "metadata": {},
   "outputs": [
    {
     "data": {
      "text/html": [
       "<style>#sk-7e83bbe9-46f2-4523-88a1-1a415e194b7a {color: black;background-color: white;}#sk-7e83bbe9-46f2-4523-88a1-1a415e194b7a pre{padding: 0;}#sk-7e83bbe9-46f2-4523-88a1-1a415e194b7a div.sk-toggleable {background-color: white;}#sk-7e83bbe9-46f2-4523-88a1-1a415e194b7a label.sk-toggleable__label {cursor: pointer;display: block;width: 100%;margin-bottom: 0;padding: 0.3em;box-sizing: border-box;text-align: center;}#sk-7e83bbe9-46f2-4523-88a1-1a415e194b7a label.sk-toggleable__label-arrow:before {content: \"▸\";float: left;margin-right: 0.25em;color: #696969;}#sk-7e83bbe9-46f2-4523-88a1-1a415e194b7a label.sk-toggleable__label-arrow:hover:before {color: black;}#sk-7e83bbe9-46f2-4523-88a1-1a415e194b7a div.sk-estimator:hover label.sk-toggleable__label-arrow:before {color: black;}#sk-7e83bbe9-46f2-4523-88a1-1a415e194b7a div.sk-toggleable__content {max-height: 0;max-width: 0;overflow: hidden;text-align: left;background-color: #f0f8ff;}#sk-7e83bbe9-46f2-4523-88a1-1a415e194b7a div.sk-toggleable__content pre {margin: 0.2em;color: black;border-radius: 0.25em;background-color: #f0f8ff;}#sk-7e83bbe9-46f2-4523-88a1-1a415e194b7a input.sk-toggleable__control:checked~div.sk-toggleable__content {max-height: 200px;max-width: 100%;overflow: auto;}#sk-7e83bbe9-46f2-4523-88a1-1a415e194b7a input.sk-toggleable__control:checked~label.sk-toggleable__label-arrow:before {content: \"▾\";}#sk-7e83bbe9-46f2-4523-88a1-1a415e194b7a div.sk-estimator input.sk-toggleable__control:checked~label.sk-toggleable__label {background-color: #d4ebff;}#sk-7e83bbe9-46f2-4523-88a1-1a415e194b7a div.sk-label input.sk-toggleable__control:checked~label.sk-toggleable__label {background-color: #d4ebff;}#sk-7e83bbe9-46f2-4523-88a1-1a415e194b7a input.sk-hidden--visually {border: 0;clip: rect(1px 1px 1px 1px);clip: rect(1px, 1px, 1px, 1px);height: 1px;margin: -1px;overflow: hidden;padding: 0;position: absolute;width: 1px;}#sk-7e83bbe9-46f2-4523-88a1-1a415e194b7a div.sk-estimator {font-family: monospace;background-color: #f0f8ff;border: 1px dotted black;border-radius: 0.25em;box-sizing: border-box;margin-bottom: 0.5em;}#sk-7e83bbe9-46f2-4523-88a1-1a415e194b7a div.sk-estimator:hover {background-color: #d4ebff;}#sk-7e83bbe9-46f2-4523-88a1-1a415e194b7a div.sk-parallel-item::after {content: \"\";width: 100%;border-bottom: 1px solid gray;flex-grow: 1;}#sk-7e83bbe9-46f2-4523-88a1-1a415e194b7a div.sk-label:hover label.sk-toggleable__label {background-color: #d4ebff;}#sk-7e83bbe9-46f2-4523-88a1-1a415e194b7a div.sk-serial::before {content: \"\";position: absolute;border-left: 1px solid gray;box-sizing: border-box;top: 2em;bottom: 0;left: 50%;}#sk-7e83bbe9-46f2-4523-88a1-1a415e194b7a div.sk-serial {display: flex;flex-direction: column;align-items: center;background-color: white;padding-right: 0.2em;padding-left: 0.2em;}#sk-7e83bbe9-46f2-4523-88a1-1a415e194b7a div.sk-item {z-index: 1;}#sk-7e83bbe9-46f2-4523-88a1-1a415e194b7a div.sk-parallel {display: flex;align-items: stretch;justify-content: center;background-color: white;}#sk-7e83bbe9-46f2-4523-88a1-1a415e194b7a div.sk-parallel::before {content: \"\";position: absolute;border-left: 1px solid gray;box-sizing: border-box;top: 2em;bottom: 0;left: 50%;}#sk-7e83bbe9-46f2-4523-88a1-1a415e194b7a div.sk-parallel-item {display: flex;flex-direction: column;position: relative;background-color: white;}#sk-7e83bbe9-46f2-4523-88a1-1a415e194b7a div.sk-parallel-item:first-child::after {align-self: flex-end;width: 50%;}#sk-7e83bbe9-46f2-4523-88a1-1a415e194b7a div.sk-parallel-item:last-child::after {align-self: flex-start;width: 50%;}#sk-7e83bbe9-46f2-4523-88a1-1a415e194b7a div.sk-parallel-item:only-child::after {width: 0;}#sk-7e83bbe9-46f2-4523-88a1-1a415e194b7a div.sk-dashed-wrapped {border: 1px dashed gray;margin: 0 0.4em 0.5em 0.4em;box-sizing: border-box;padding-bottom: 0.4em;background-color: white;position: relative;}#sk-7e83bbe9-46f2-4523-88a1-1a415e194b7a div.sk-label label {font-family: monospace;font-weight: bold;background-color: white;display: inline-block;line-height: 1.2em;}#sk-7e83bbe9-46f2-4523-88a1-1a415e194b7a div.sk-label-container {position: relative;z-index: 2;text-align: center;}#sk-7e83bbe9-46f2-4523-88a1-1a415e194b7a div.sk-container {/* jupyter's `normalize.less` sets `[hidden] { display: none; }` but bootstrap.min.css set `[hidden] { display: none !important; }` so we also need the `!important` here to be able to override the default hidden behavior on the sphinx rendered scikit-learn.org. See: https://github.com/scikit-learn/scikit-learn/issues/21755 */display: inline-block !important;position: relative;}#sk-7e83bbe9-46f2-4523-88a1-1a415e194b7a div.sk-text-repr-fallback {display: none;}</style><div id=\"sk-7e83bbe9-46f2-4523-88a1-1a415e194b7a\" class=\"sk-top-container\"><div class=\"sk-text-repr-fallback\"><pre>GridSearchCV(cv=5,\n",
       "             estimator=Pipeline(steps=[(&#x27;columntransformer&#x27;,\n",
       "                                        ColumnTransformer(transformers=[(&#x27;num&#x27;,\n",
       "                                                                         Pipeline(steps=[(&#x27;imputer&#x27;,\n",
       "                                                                                          SimpleImputer(strategy=&#x27;median&#x27;)),\n",
       "                                                                                         (&#x27;scaler&#x27;,\n",
       "                                                                                          StandardScaler())]),\n",
       "                                                                         [&#x27;NumberofBuildings&#x27;,\n",
       "                                                                          &#x27;NumberofFloors&#x27;,\n",
       "                                                                          &#x27;PropertyGFATotal&#x27;,\n",
       "                                                                          &#x27;PropertyGFAParking&#x27;,\n",
       "                                                                          &#x27;PropertyGFABuilding(s)&#x27;,\n",
       "                                                                          &#x27;LargestPropertyUseTypeGFA&#x27;,\n",
       "                                                                          &#x27;SourceEUIWN(kBtu/sf)&#x27;,\n",
       "                                                                          &#x27;GHGEmissionsIntensity&#x27;,\n",
       "                                                                          &#x27;BuildingAge&#x27;,\n",
       "                                                                          &#x27;ENERGYSTARScore&#x27;]),\n",
       "                                                                        (&#x27;cat&#x27;,\n",
       "                                                                         OneHotEncoder(handle_unknown=&#x27;ignore&#x27;),\n",
       "                                                                         [&#x27;PrimaryPropertyType&#x27;,\n",
       "                                                                          &#x27;Neighborhood&#x27;,\n",
       "                                                                          &#x27;LargestPropertyUseType&#x27;,\n",
       "                                                                          &#x27;ComplianceStatus&#x27;])])),\n",
       "                                       (&#x27;lasso&#x27;, Lasso(tol=0.1))]),\n",
       "             param_grid={&#x27;lasso__alpha&#x27;: [60, 70, 80]}, scoring=&#x27;r2&#x27;)</pre><b>Please rerun this cell to show the HTML repr or trust the notebook.</b></div><div class=\"sk-container\" hidden><div class=\"sk-item sk-dashed-wrapped\"><div class=\"sk-label-container\"><div class=\"sk-label sk-toggleable\"><input class=\"sk-toggleable__control sk-hidden--visually\" id=\"73274fba-7f5c-44e3-9302-9fd1a1f3cf3d\" type=\"checkbox\" ><label for=\"73274fba-7f5c-44e3-9302-9fd1a1f3cf3d\" class=\"sk-toggleable__label sk-toggleable__label-arrow\">GridSearchCV</label><div class=\"sk-toggleable__content\"><pre>GridSearchCV(cv=5,\n",
       "             estimator=Pipeline(steps=[(&#x27;columntransformer&#x27;,\n",
       "                                        ColumnTransformer(transformers=[(&#x27;num&#x27;,\n",
       "                                                                         Pipeline(steps=[(&#x27;imputer&#x27;,\n",
       "                                                                                          SimpleImputer(strategy=&#x27;median&#x27;)),\n",
       "                                                                                         (&#x27;scaler&#x27;,\n",
       "                                                                                          StandardScaler())]),\n",
       "                                                                         [&#x27;NumberofBuildings&#x27;,\n",
       "                                                                          &#x27;NumberofFloors&#x27;,\n",
       "                                                                          &#x27;PropertyGFATotal&#x27;,\n",
       "                                                                          &#x27;PropertyGFAParking&#x27;,\n",
       "                                                                          &#x27;PropertyGFABuilding(s)&#x27;,\n",
       "                                                                          &#x27;LargestPropertyUseTypeGFA&#x27;,\n",
       "                                                                          &#x27;SourceEUIWN(kBtu/sf)&#x27;,\n",
       "                                                                          &#x27;GHGEmissionsIntensity&#x27;,\n",
       "                                                                          &#x27;BuildingAge&#x27;,\n",
       "                                                                          &#x27;ENERGYSTARScore&#x27;]),\n",
       "                                                                        (&#x27;cat&#x27;,\n",
       "                                                                         OneHotEncoder(handle_unknown=&#x27;ignore&#x27;),\n",
       "                                                                         [&#x27;PrimaryPropertyType&#x27;,\n",
       "                                                                          &#x27;Neighborhood&#x27;,\n",
       "                                                                          &#x27;LargestPropertyUseType&#x27;,\n",
       "                                                                          &#x27;ComplianceStatus&#x27;])])),\n",
       "                                       (&#x27;lasso&#x27;, Lasso(tol=0.1))]),\n",
       "             param_grid={&#x27;lasso__alpha&#x27;: [60, 70, 80]}, scoring=&#x27;r2&#x27;)</pre></div></div></div><div class=\"sk-parallel\"><div class=\"sk-parallel-item\"><div class=\"sk-item\"><div class=\"sk-serial\"><div class=\"sk-item\"><div class=\"sk-serial\"><div class=\"sk-item sk-dashed-wrapped\"><div class=\"sk-label-container\"><div class=\"sk-label sk-toggleable\"><input class=\"sk-toggleable__control sk-hidden--visually\" id=\"760cac75-0673-41dc-ad4f-fa616780df3b\" type=\"checkbox\" ><label for=\"760cac75-0673-41dc-ad4f-fa616780df3b\" class=\"sk-toggleable__label sk-toggleable__label-arrow\">columntransformer: ColumnTransformer</label><div class=\"sk-toggleable__content\"><pre>ColumnTransformer(transformers=[(&#x27;num&#x27;,\n",
       "                                 Pipeline(steps=[(&#x27;imputer&#x27;,\n",
       "                                                  SimpleImputer(strategy=&#x27;median&#x27;)),\n",
       "                                                 (&#x27;scaler&#x27;, StandardScaler())]),\n",
       "                                 [&#x27;NumberofBuildings&#x27;, &#x27;NumberofFloors&#x27;,\n",
       "                                  &#x27;PropertyGFATotal&#x27;, &#x27;PropertyGFAParking&#x27;,\n",
       "                                  &#x27;PropertyGFABuilding(s)&#x27;,\n",
       "                                  &#x27;LargestPropertyUseTypeGFA&#x27;,\n",
       "                                  &#x27;SourceEUIWN(kBtu/sf)&#x27;,\n",
       "                                  &#x27;GHGEmissionsIntensity&#x27;, &#x27;BuildingAge&#x27;,\n",
       "                                  &#x27;ENERGYSTARScore&#x27;]),\n",
       "                                (&#x27;cat&#x27;, OneHotEncoder(handle_unknown=&#x27;ignore&#x27;),\n",
       "                                 [&#x27;PrimaryPropertyType&#x27;, &#x27;Neighborhood&#x27;,\n",
       "                                  &#x27;LargestPropertyUseType&#x27;,\n",
       "                                  &#x27;ComplianceStatus&#x27;])])</pre></div></div></div><div class=\"sk-parallel\"><div class=\"sk-parallel-item\"><div class=\"sk-item\"><div class=\"sk-label-container\"><div class=\"sk-label sk-toggleable\"><input class=\"sk-toggleable__control sk-hidden--visually\" id=\"62f7794e-2c36-4aa8-8192-57cb739611af\" type=\"checkbox\" ><label for=\"62f7794e-2c36-4aa8-8192-57cb739611af\" class=\"sk-toggleable__label sk-toggleable__label-arrow\">num</label><div class=\"sk-toggleable__content\"><pre>[&#x27;NumberofBuildings&#x27;, &#x27;NumberofFloors&#x27;, &#x27;PropertyGFATotal&#x27;, &#x27;PropertyGFAParking&#x27;, &#x27;PropertyGFABuilding(s)&#x27;, &#x27;LargestPropertyUseTypeGFA&#x27;, &#x27;SourceEUIWN(kBtu/sf)&#x27;, &#x27;GHGEmissionsIntensity&#x27;, &#x27;BuildingAge&#x27;, &#x27;ENERGYSTARScore&#x27;]</pre></div></div></div><div class=\"sk-serial\"><div class=\"sk-item\"><div class=\"sk-serial\"><div class=\"sk-item\"><div class=\"sk-estimator sk-toggleable\"><input class=\"sk-toggleable__control sk-hidden--visually\" id=\"4d99752c-45b0-43b1-bd00-f7e4de12fd37\" type=\"checkbox\" ><label for=\"4d99752c-45b0-43b1-bd00-f7e4de12fd37\" class=\"sk-toggleable__label sk-toggleable__label-arrow\">SimpleImputer</label><div class=\"sk-toggleable__content\"><pre>SimpleImputer(strategy=&#x27;median&#x27;)</pre></div></div></div><div class=\"sk-item\"><div class=\"sk-estimator sk-toggleable\"><input class=\"sk-toggleable__control sk-hidden--visually\" id=\"c11bb8b5-4be5-4c58-9d7d-d409e91c181b\" type=\"checkbox\" ><label for=\"c11bb8b5-4be5-4c58-9d7d-d409e91c181b\" class=\"sk-toggleable__label sk-toggleable__label-arrow\">StandardScaler</label><div class=\"sk-toggleable__content\"><pre>StandardScaler()</pre></div></div></div></div></div></div></div></div><div class=\"sk-parallel-item\"><div class=\"sk-item\"><div class=\"sk-label-container\"><div class=\"sk-label sk-toggleable\"><input class=\"sk-toggleable__control sk-hidden--visually\" id=\"36971c10-9228-4c23-8d9a-fdff12fc0443\" type=\"checkbox\" ><label for=\"36971c10-9228-4c23-8d9a-fdff12fc0443\" class=\"sk-toggleable__label sk-toggleable__label-arrow\">cat</label><div class=\"sk-toggleable__content\"><pre>[&#x27;PrimaryPropertyType&#x27;, &#x27;Neighborhood&#x27;, &#x27;LargestPropertyUseType&#x27;, &#x27;ComplianceStatus&#x27;]</pre></div></div></div><div class=\"sk-serial\"><div class=\"sk-item\"><div class=\"sk-estimator sk-toggleable\"><input class=\"sk-toggleable__control sk-hidden--visually\" id=\"8e23756a-d245-455d-9164-1e4bbb47c357\" type=\"checkbox\" ><label for=\"8e23756a-d245-455d-9164-1e4bbb47c357\" class=\"sk-toggleable__label sk-toggleable__label-arrow\">OneHotEncoder</label><div class=\"sk-toggleable__content\"><pre>OneHotEncoder(handle_unknown=&#x27;ignore&#x27;)</pre></div></div></div></div></div></div></div></div><div class=\"sk-item\"><div class=\"sk-estimator sk-toggleable\"><input class=\"sk-toggleable__control sk-hidden--visually\" id=\"ec403a66-ae43-462e-907a-098de197c546\" type=\"checkbox\" ><label for=\"ec403a66-ae43-462e-907a-098de197c546\" class=\"sk-toggleable__label sk-toggleable__label-arrow\">Lasso</label><div class=\"sk-toggleable__content\"><pre>Lasso(tol=0.1)</pre></div></div></div></div></div></div></div></div></div></div></div></div>"
      ],
      "text/plain": [
       "GridSearchCV(cv=5,\n",
       "             estimator=Pipeline(steps=[('columntransformer',\n",
       "                                        ColumnTransformer(transformers=[('num',\n",
       "                                                                         Pipeline(steps=[('imputer',\n",
       "                                                                                          SimpleImputer(strategy='median')),\n",
       "                                                                                         ('scaler',\n",
       "                                                                                          StandardScaler())]),\n",
       "                                                                         ['NumberofBuildings',\n",
       "                                                                          'NumberofFloors',\n",
       "                                                                          'PropertyGFATotal',\n",
       "                                                                          'PropertyGFAParking',\n",
       "                                                                          'PropertyGFABuilding(s)',\n",
       "                                                                          'LargestPropertyUseTypeGFA',\n",
       "                                                                          'SourceEUIWN(kBtu/sf)',\n",
       "                                                                          'GHGEmissionsIntensity',\n",
       "                                                                          'BuildingAge',\n",
       "                                                                          'ENERGYSTARScore']),\n",
       "                                                                        ('cat',\n",
       "                                                                         OneHotEncoder(handle_unknown='ignore'),\n",
       "                                                                         ['PrimaryPropertyType',\n",
       "                                                                          'Neighborhood',\n",
       "                                                                          'LargestPropertyUseType',\n",
       "                                                                          'ComplianceStatus'])])),\n",
       "                                       ('lasso', Lasso(tol=0.1))]),\n",
       "             param_grid={'lasso__alpha': [60, 70, 80]}, scoring='r2')"
      ]
     },
     "execution_count": 133,
     "metadata": {},
     "output_type": "execute_result"
    }
   ],
   "source": [
    "# Optimisation des hyperparamètres avec: GridSearchCV()\n",
    "parameters = {'lasso__alpha':[60,70,80]}\n",
    "#Grille de recherche:\n",
    "grid_lasso= GridSearchCV(pipe_lasso,parameters, cv=5,scoring='r2')\n",
    "grid_lasso.fit(X_train,y_train)"
   ]
  },
  {
   "cell_type": "code",
   "execution_count": 134,
   "metadata": {},
   "outputs": [
    {
     "data": {
      "text/plain": [
       "0.8641308446172603"
      ]
     },
     "execution_count": 134,
     "metadata": {},
     "output_type": "execute_result"
    }
   ],
   "source": [
    "model_lasso= grid_lasso.best_estimator_\n",
    "model_lasso.score(X_test,y_test)"
   ]
  },
  {
   "cell_type": "code",
   "execution_count": 135,
   "metadata": {},
   "outputs": [
    {
     "data": {
      "text/plain": [
       "[913069.066412606,\n",
       " 833695120039.5879,\n",
       " 626191.0405609682,\n",
       " 424153.6334257489,\n",
       " 0.8641308446172603]"
      ]
     },
     "execution_count": 135,
     "metadata": {},
     "output_type": "execute_result"
    }
   ],
   "source": [
    "pred_lasso= model_lasso.predict(X_test)\n",
    "# Evaluation des métriques:\n",
    "compute_scores(y_test, pred_lasso)"
   ]
  },
  {
   "cell_type": "markdown",
   "metadata": {},
   "source": [
    "#### Application du modèle Elastic Net"
   ]
  },
  {
   "cell_type": "code",
   "execution_count": 136,
   "metadata": {},
   "outputs": [],
   "source": [
    "elastic= ElasticNet(tol=0.1)\n",
    "# On crée le modèle à l'aide de pipeline\n",
    "pipe_elastic= make_pipeline(column_trans,elastic)"
   ]
  },
  {
   "cell_type": "code",
   "execution_count": 137,
   "metadata": {},
   "outputs": [
    {
     "data": {
      "text/html": [
       "<style>#sk-ad5b1956-caac-4359-a053-5a76ffd287fb {color: black;background-color: white;}#sk-ad5b1956-caac-4359-a053-5a76ffd287fb pre{padding: 0;}#sk-ad5b1956-caac-4359-a053-5a76ffd287fb div.sk-toggleable {background-color: white;}#sk-ad5b1956-caac-4359-a053-5a76ffd287fb label.sk-toggleable__label {cursor: pointer;display: block;width: 100%;margin-bottom: 0;padding: 0.3em;box-sizing: border-box;text-align: center;}#sk-ad5b1956-caac-4359-a053-5a76ffd287fb label.sk-toggleable__label-arrow:before {content: \"▸\";float: left;margin-right: 0.25em;color: #696969;}#sk-ad5b1956-caac-4359-a053-5a76ffd287fb label.sk-toggleable__label-arrow:hover:before {color: black;}#sk-ad5b1956-caac-4359-a053-5a76ffd287fb div.sk-estimator:hover label.sk-toggleable__label-arrow:before {color: black;}#sk-ad5b1956-caac-4359-a053-5a76ffd287fb div.sk-toggleable__content {max-height: 0;max-width: 0;overflow: hidden;text-align: left;background-color: #f0f8ff;}#sk-ad5b1956-caac-4359-a053-5a76ffd287fb div.sk-toggleable__content pre {margin: 0.2em;color: black;border-radius: 0.25em;background-color: #f0f8ff;}#sk-ad5b1956-caac-4359-a053-5a76ffd287fb input.sk-toggleable__control:checked~div.sk-toggleable__content {max-height: 200px;max-width: 100%;overflow: auto;}#sk-ad5b1956-caac-4359-a053-5a76ffd287fb input.sk-toggleable__control:checked~label.sk-toggleable__label-arrow:before {content: \"▾\";}#sk-ad5b1956-caac-4359-a053-5a76ffd287fb div.sk-estimator input.sk-toggleable__control:checked~label.sk-toggleable__label {background-color: #d4ebff;}#sk-ad5b1956-caac-4359-a053-5a76ffd287fb div.sk-label input.sk-toggleable__control:checked~label.sk-toggleable__label {background-color: #d4ebff;}#sk-ad5b1956-caac-4359-a053-5a76ffd287fb input.sk-hidden--visually {border: 0;clip: rect(1px 1px 1px 1px);clip: rect(1px, 1px, 1px, 1px);height: 1px;margin: -1px;overflow: hidden;padding: 0;position: absolute;width: 1px;}#sk-ad5b1956-caac-4359-a053-5a76ffd287fb div.sk-estimator {font-family: monospace;background-color: #f0f8ff;border: 1px dotted black;border-radius: 0.25em;box-sizing: border-box;margin-bottom: 0.5em;}#sk-ad5b1956-caac-4359-a053-5a76ffd287fb div.sk-estimator:hover {background-color: #d4ebff;}#sk-ad5b1956-caac-4359-a053-5a76ffd287fb div.sk-parallel-item::after {content: \"\";width: 100%;border-bottom: 1px solid gray;flex-grow: 1;}#sk-ad5b1956-caac-4359-a053-5a76ffd287fb div.sk-label:hover label.sk-toggleable__label {background-color: #d4ebff;}#sk-ad5b1956-caac-4359-a053-5a76ffd287fb div.sk-serial::before {content: \"\";position: absolute;border-left: 1px solid gray;box-sizing: border-box;top: 2em;bottom: 0;left: 50%;}#sk-ad5b1956-caac-4359-a053-5a76ffd287fb div.sk-serial {display: flex;flex-direction: column;align-items: center;background-color: white;padding-right: 0.2em;padding-left: 0.2em;}#sk-ad5b1956-caac-4359-a053-5a76ffd287fb div.sk-item {z-index: 1;}#sk-ad5b1956-caac-4359-a053-5a76ffd287fb div.sk-parallel {display: flex;align-items: stretch;justify-content: center;background-color: white;}#sk-ad5b1956-caac-4359-a053-5a76ffd287fb div.sk-parallel::before {content: \"\";position: absolute;border-left: 1px solid gray;box-sizing: border-box;top: 2em;bottom: 0;left: 50%;}#sk-ad5b1956-caac-4359-a053-5a76ffd287fb div.sk-parallel-item {display: flex;flex-direction: column;position: relative;background-color: white;}#sk-ad5b1956-caac-4359-a053-5a76ffd287fb div.sk-parallel-item:first-child::after {align-self: flex-end;width: 50%;}#sk-ad5b1956-caac-4359-a053-5a76ffd287fb div.sk-parallel-item:last-child::after {align-self: flex-start;width: 50%;}#sk-ad5b1956-caac-4359-a053-5a76ffd287fb div.sk-parallel-item:only-child::after {width: 0;}#sk-ad5b1956-caac-4359-a053-5a76ffd287fb div.sk-dashed-wrapped {border: 1px dashed gray;margin: 0 0.4em 0.5em 0.4em;box-sizing: border-box;padding-bottom: 0.4em;background-color: white;position: relative;}#sk-ad5b1956-caac-4359-a053-5a76ffd287fb div.sk-label label {font-family: monospace;font-weight: bold;background-color: white;display: inline-block;line-height: 1.2em;}#sk-ad5b1956-caac-4359-a053-5a76ffd287fb div.sk-label-container {position: relative;z-index: 2;text-align: center;}#sk-ad5b1956-caac-4359-a053-5a76ffd287fb div.sk-container {/* jupyter's `normalize.less` sets `[hidden] { display: none; }` but bootstrap.min.css set `[hidden] { display: none !important; }` so we also need the `!important` here to be able to override the default hidden behavior on the sphinx rendered scikit-learn.org. See: https://github.com/scikit-learn/scikit-learn/issues/21755 */display: inline-block !important;position: relative;}#sk-ad5b1956-caac-4359-a053-5a76ffd287fb div.sk-text-repr-fallback {display: none;}</style><div id=\"sk-ad5b1956-caac-4359-a053-5a76ffd287fb\" class=\"sk-top-container\"><div class=\"sk-text-repr-fallback\"><pre>GridSearchCV(cv=5,\n",
       "             estimator=Pipeline(steps=[(&#x27;columntransformer&#x27;,\n",
       "                                        ColumnTransformer(transformers=[(&#x27;num&#x27;,\n",
       "                                                                         Pipeline(steps=[(&#x27;imputer&#x27;,\n",
       "                                                                                          SimpleImputer(strategy=&#x27;median&#x27;)),\n",
       "                                                                                         (&#x27;scaler&#x27;,\n",
       "                                                                                          StandardScaler())]),\n",
       "                                                                         [&#x27;NumberofBuildings&#x27;,\n",
       "                                                                          &#x27;NumberofFloors&#x27;,\n",
       "                                                                          &#x27;PropertyGFATotal&#x27;,\n",
       "                                                                          &#x27;PropertyGFAParking&#x27;,\n",
       "                                                                          &#x27;PropertyGFABuilding(s)&#x27;,\n",
       "                                                                          &#x27;LargestPropertyUseTypeGFA&#x27;,\n",
       "                                                                          &#x27;SourceEUIWN(kBtu/sf)&#x27;,\n",
       "                                                                          &#x27;GHGEmissionsIntensity&#x27;,\n",
       "                                                                          &#x27;BuildingAge&#x27;,\n",
       "                                                                          &#x27;ENERGYSTARScore&#x27;]),\n",
       "                                                                        (&#x27;cat&#x27;,\n",
       "                                                                         OneHotEncoder(handle_unknown=&#x27;ignore&#x27;),\n",
       "                                                                         [&#x27;PrimaryPropertyType&#x27;,\n",
       "                                                                          &#x27;Neighborhood&#x27;,\n",
       "                                                                          &#x27;LargestPropertyUseType&#x27;,\n",
       "                                                                          &#x27;ComplianceStatus&#x27;])])),\n",
       "                                       (&#x27;elasticnet&#x27;, ElasticNet(tol=0.1))]),\n",
       "             param_grid={&#x27;elasticnet__alpha&#x27;: [0.01, 0.1, 1],\n",
       "                         &#x27;elasticnet__l1_ratio&#x27;: [1e-05, 0.0001, 0.001]})</pre><b>Please rerun this cell to show the HTML repr or trust the notebook.</b></div><div class=\"sk-container\" hidden><div class=\"sk-item sk-dashed-wrapped\"><div class=\"sk-label-container\"><div class=\"sk-label sk-toggleable\"><input class=\"sk-toggleable__control sk-hidden--visually\" id=\"7b79f250-a5ab-468c-94b7-4210de67985d\" type=\"checkbox\" ><label for=\"7b79f250-a5ab-468c-94b7-4210de67985d\" class=\"sk-toggleable__label sk-toggleable__label-arrow\">GridSearchCV</label><div class=\"sk-toggleable__content\"><pre>GridSearchCV(cv=5,\n",
       "             estimator=Pipeline(steps=[(&#x27;columntransformer&#x27;,\n",
       "                                        ColumnTransformer(transformers=[(&#x27;num&#x27;,\n",
       "                                                                         Pipeline(steps=[(&#x27;imputer&#x27;,\n",
       "                                                                                          SimpleImputer(strategy=&#x27;median&#x27;)),\n",
       "                                                                                         (&#x27;scaler&#x27;,\n",
       "                                                                                          StandardScaler())]),\n",
       "                                                                         [&#x27;NumberofBuildings&#x27;,\n",
       "                                                                          &#x27;NumberofFloors&#x27;,\n",
       "                                                                          &#x27;PropertyGFATotal&#x27;,\n",
       "                                                                          &#x27;PropertyGFAParking&#x27;,\n",
       "                                                                          &#x27;PropertyGFABuilding(s)&#x27;,\n",
       "                                                                          &#x27;LargestPropertyUseTypeGFA&#x27;,\n",
       "                                                                          &#x27;SourceEUIWN(kBtu/sf)&#x27;,\n",
       "                                                                          &#x27;GHGEmissionsIntensity&#x27;,\n",
       "                                                                          &#x27;BuildingAge&#x27;,\n",
       "                                                                          &#x27;ENERGYSTARScore&#x27;]),\n",
       "                                                                        (&#x27;cat&#x27;,\n",
       "                                                                         OneHotEncoder(handle_unknown=&#x27;ignore&#x27;),\n",
       "                                                                         [&#x27;PrimaryPropertyType&#x27;,\n",
       "                                                                          &#x27;Neighborhood&#x27;,\n",
       "                                                                          &#x27;LargestPropertyUseType&#x27;,\n",
       "                                                                          &#x27;ComplianceStatus&#x27;])])),\n",
       "                                       (&#x27;elasticnet&#x27;, ElasticNet(tol=0.1))]),\n",
       "             param_grid={&#x27;elasticnet__alpha&#x27;: [0.01, 0.1, 1],\n",
       "                         &#x27;elasticnet__l1_ratio&#x27;: [1e-05, 0.0001, 0.001]})</pre></div></div></div><div class=\"sk-parallel\"><div class=\"sk-parallel-item\"><div class=\"sk-item\"><div class=\"sk-serial\"><div class=\"sk-item\"><div class=\"sk-serial\"><div class=\"sk-item sk-dashed-wrapped\"><div class=\"sk-label-container\"><div class=\"sk-label sk-toggleable\"><input class=\"sk-toggleable__control sk-hidden--visually\" id=\"1d9a9c09-58b5-47c0-a951-dbd670a4d7e7\" type=\"checkbox\" ><label for=\"1d9a9c09-58b5-47c0-a951-dbd670a4d7e7\" class=\"sk-toggleable__label sk-toggleable__label-arrow\">columntransformer: ColumnTransformer</label><div class=\"sk-toggleable__content\"><pre>ColumnTransformer(transformers=[(&#x27;num&#x27;,\n",
       "                                 Pipeline(steps=[(&#x27;imputer&#x27;,\n",
       "                                                  SimpleImputer(strategy=&#x27;median&#x27;)),\n",
       "                                                 (&#x27;scaler&#x27;, StandardScaler())]),\n",
       "                                 [&#x27;NumberofBuildings&#x27;, &#x27;NumberofFloors&#x27;,\n",
       "                                  &#x27;PropertyGFATotal&#x27;, &#x27;PropertyGFAParking&#x27;,\n",
       "                                  &#x27;PropertyGFABuilding(s)&#x27;,\n",
       "                                  &#x27;LargestPropertyUseTypeGFA&#x27;,\n",
       "                                  &#x27;SourceEUIWN(kBtu/sf)&#x27;,\n",
       "                                  &#x27;GHGEmissionsIntensity&#x27;, &#x27;BuildingAge&#x27;,\n",
       "                                  &#x27;ENERGYSTARScore&#x27;]),\n",
       "                                (&#x27;cat&#x27;, OneHotEncoder(handle_unknown=&#x27;ignore&#x27;),\n",
       "                                 [&#x27;PrimaryPropertyType&#x27;, &#x27;Neighborhood&#x27;,\n",
       "                                  &#x27;LargestPropertyUseType&#x27;,\n",
       "                                  &#x27;ComplianceStatus&#x27;])])</pre></div></div></div><div class=\"sk-parallel\"><div class=\"sk-parallel-item\"><div class=\"sk-item\"><div class=\"sk-label-container\"><div class=\"sk-label sk-toggleable\"><input class=\"sk-toggleable__control sk-hidden--visually\" id=\"c3d2b4c1-868d-4856-9393-b1373bd5fb6e\" type=\"checkbox\" ><label for=\"c3d2b4c1-868d-4856-9393-b1373bd5fb6e\" class=\"sk-toggleable__label sk-toggleable__label-arrow\">num</label><div class=\"sk-toggleable__content\"><pre>[&#x27;NumberofBuildings&#x27;, &#x27;NumberofFloors&#x27;, &#x27;PropertyGFATotal&#x27;, &#x27;PropertyGFAParking&#x27;, &#x27;PropertyGFABuilding(s)&#x27;, &#x27;LargestPropertyUseTypeGFA&#x27;, &#x27;SourceEUIWN(kBtu/sf)&#x27;, &#x27;GHGEmissionsIntensity&#x27;, &#x27;BuildingAge&#x27;, &#x27;ENERGYSTARScore&#x27;]</pre></div></div></div><div class=\"sk-serial\"><div class=\"sk-item\"><div class=\"sk-serial\"><div class=\"sk-item\"><div class=\"sk-estimator sk-toggleable\"><input class=\"sk-toggleable__control sk-hidden--visually\" id=\"30784557-aef9-4363-b656-6308e89d34cc\" type=\"checkbox\" ><label for=\"30784557-aef9-4363-b656-6308e89d34cc\" class=\"sk-toggleable__label sk-toggleable__label-arrow\">SimpleImputer</label><div class=\"sk-toggleable__content\"><pre>SimpleImputer(strategy=&#x27;median&#x27;)</pre></div></div></div><div class=\"sk-item\"><div class=\"sk-estimator sk-toggleable\"><input class=\"sk-toggleable__control sk-hidden--visually\" id=\"b3f1566d-5301-48d7-9e4d-b442b21ee492\" type=\"checkbox\" ><label for=\"b3f1566d-5301-48d7-9e4d-b442b21ee492\" class=\"sk-toggleable__label sk-toggleable__label-arrow\">StandardScaler</label><div class=\"sk-toggleable__content\"><pre>StandardScaler()</pre></div></div></div></div></div></div></div></div><div class=\"sk-parallel-item\"><div class=\"sk-item\"><div class=\"sk-label-container\"><div class=\"sk-label sk-toggleable\"><input class=\"sk-toggleable__control sk-hidden--visually\" id=\"48aa8e41-8596-41f1-8d19-276b27ac9099\" type=\"checkbox\" ><label for=\"48aa8e41-8596-41f1-8d19-276b27ac9099\" class=\"sk-toggleable__label sk-toggleable__label-arrow\">cat</label><div class=\"sk-toggleable__content\"><pre>[&#x27;PrimaryPropertyType&#x27;, &#x27;Neighborhood&#x27;, &#x27;LargestPropertyUseType&#x27;, &#x27;ComplianceStatus&#x27;]</pre></div></div></div><div class=\"sk-serial\"><div class=\"sk-item\"><div class=\"sk-estimator sk-toggleable\"><input class=\"sk-toggleable__control sk-hidden--visually\" id=\"4bcf79a5-d714-4d1e-aa29-1266d7920cb0\" type=\"checkbox\" ><label for=\"4bcf79a5-d714-4d1e-aa29-1266d7920cb0\" class=\"sk-toggleable__label sk-toggleable__label-arrow\">OneHotEncoder</label><div class=\"sk-toggleable__content\"><pre>OneHotEncoder(handle_unknown=&#x27;ignore&#x27;)</pre></div></div></div></div></div></div></div></div><div class=\"sk-item\"><div class=\"sk-estimator sk-toggleable\"><input class=\"sk-toggleable__control sk-hidden--visually\" id=\"8d795fb1-2c55-4d5a-8efe-06aac3b4cc97\" type=\"checkbox\" ><label for=\"8d795fb1-2c55-4d5a-8efe-06aac3b4cc97\" class=\"sk-toggleable__label sk-toggleable__label-arrow\">ElasticNet</label><div class=\"sk-toggleable__content\"><pre>ElasticNet(tol=0.1)</pre></div></div></div></div></div></div></div></div></div></div></div></div>"
      ],
      "text/plain": [
       "GridSearchCV(cv=5,\n",
       "             estimator=Pipeline(steps=[('columntransformer',\n",
       "                                        ColumnTransformer(transformers=[('num',\n",
       "                                                                         Pipeline(steps=[('imputer',\n",
       "                                                                                          SimpleImputer(strategy='median')),\n",
       "                                                                                         ('scaler',\n",
       "                                                                                          StandardScaler())]),\n",
       "                                                                         ['NumberofBuildings',\n",
       "                                                                          'NumberofFloors',\n",
       "                                                                          'PropertyGFATotal',\n",
       "                                                                          'PropertyGFAParking',\n",
       "                                                                          'PropertyGFABuilding(s)',\n",
       "                                                                          'LargestPropertyUseTypeGFA',\n",
       "                                                                          'SourceEUIWN(kBtu/sf)',\n",
       "                                                                          'GHGEmissionsIntensity',\n",
       "                                                                          'BuildingAge',\n",
       "                                                                          'ENERGYSTARScore']),\n",
       "                                                                        ('cat',\n",
       "                                                                         OneHotEncoder(handle_unknown='ignore'),\n",
       "                                                                         ['PrimaryPropertyType',\n",
       "                                                                          'Neighborhood',\n",
       "                                                                          'LargestPropertyUseType',\n",
       "                                                                          'ComplianceStatus'])])),\n",
       "                                       ('elasticnet', ElasticNet(tol=0.1))]),\n",
       "             param_grid={'elasticnet__alpha': [0.01, 0.1, 1],\n",
       "                         'elasticnet__l1_ratio': [1e-05, 0.0001, 0.001]})"
      ]
     },
     "execution_count": 137,
     "metadata": {},
     "output_type": "execute_result"
    }
   ],
   "source": [
    "# Optimisation des hyperparamètres avec: GridSearchCV()\n",
    "parameters = {'elasticnet__l1_ratio':[1e-5,1e-4,1e-3],'elasticnet__alpha':[1e-2,0.1,1]}\n",
    "#Grille de recherche:\n",
    "grid_elastic= GridSearchCV(pipe_elastic,parameters, cv=5)\n",
    "grid_elastic.fit(X_train,y_train)"
   ]
  },
  {
   "cell_type": "code",
   "execution_count": 138,
   "metadata": {},
   "outputs": [
    {
     "data": {
      "text/plain": [
       "0.5810186953479773"
      ]
     },
     "execution_count": 138,
     "metadata": {},
     "output_type": "execute_result"
    }
   ],
   "source": [
    "model_elastic= grid_elastic.best_estimator_\n",
    "model_elastic.score(X_test,y_test)"
   ]
  },
  {
   "cell_type": "code",
   "execution_count": 139,
   "metadata": {},
   "outputs": [
    {
     "data": {
      "text/plain": [
       "[1603394.9604342207,\n",
       " 2570875399145.856,\n",
       " 1164921.77971735,\n",
       " 953430.4764878096,\n",
       " 0.5810186953479773]"
      ]
     },
     "execution_count": 139,
     "metadata": {},
     "output_type": "execute_result"
    }
   ],
   "source": [
    "pred_elastic= model_elastic.predict(X_test)\n",
    "# Evaluation des métriques:\n",
    "compute_scores(y_test, pred_elastic)"
   ]
  },
  {
   "cell_type": "markdown",
   "metadata": {},
   "source": [
    "#### Application du modèle Forests of randomized trees"
   ]
  },
  {
   "cell_type": "code",
   "execution_count": 140,
   "metadata": {},
   "outputs": [],
   "source": [
    "randomforest= RandomForestRegressor()\n",
    "# On crée le modèle à l'aide de pipeline\n",
    "pipe_randomforest= make_pipeline(column_trans, randomforest)"
   ]
  },
  {
   "cell_type": "code",
   "execution_count": 141,
   "metadata": {},
   "outputs": [
    {
     "data": {
      "text/html": [
       "<style>#sk-a46c3bd0-b5dc-45e0-8f22-6bfab4d00438 {color: black;background-color: white;}#sk-a46c3bd0-b5dc-45e0-8f22-6bfab4d00438 pre{padding: 0;}#sk-a46c3bd0-b5dc-45e0-8f22-6bfab4d00438 div.sk-toggleable {background-color: white;}#sk-a46c3bd0-b5dc-45e0-8f22-6bfab4d00438 label.sk-toggleable__label {cursor: pointer;display: block;width: 100%;margin-bottom: 0;padding: 0.3em;box-sizing: border-box;text-align: center;}#sk-a46c3bd0-b5dc-45e0-8f22-6bfab4d00438 label.sk-toggleable__label-arrow:before {content: \"▸\";float: left;margin-right: 0.25em;color: #696969;}#sk-a46c3bd0-b5dc-45e0-8f22-6bfab4d00438 label.sk-toggleable__label-arrow:hover:before {color: black;}#sk-a46c3bd0-b5dc-45e0-8f22-6bfab4d00438 div.sk-estimator:hover label.sk-toggleable__label-arrow:before {color: black;}#sk-a46c3bd0-b5dc-45e0-8f22-6bfab4d00438 div.sk-toggleable__content {max-height: 0;max-width: 0;overflow: hidden;text-align: left;background-color: #f0f8ff;}#sk-a46c3bd0-b5dc-45e0-8f22-6bfab4d00438 div.sk-toggleable__content pre {margin: 0.2em;color: black;border-radius: 0.25em;background-color: #f0f8ff;}#sk-a46c3bd0-b5dc-45e0-8f22-6bfab4d00438 input.sk-toggleable__control:checked~div.sk-toggleable__content {max-height: 200px;max-width: 100%;overflow: auto;}#sk-a46c3bd0-b5dc-45e0-8f22-6bfab4d00438 input.sk-toggleable__control:checked~label.sk-toggleable__label-arrow:before {content: \"▾\";}#sk-a46c3bd0-b5dc-45e0-8f22-6bfab4d00438 div.sk-estimator input.sk-toggleable__control:checked~label.sk-toggleable__label {background-color: #d4ebff;}#sk-a46c3bd0-b5dc-45e0-8f22-6bfab4d00438 div.sk-label input.sk-toggleable__control:checked~label.sk-toggleable__label {background-color: #d4ebff;}#sk-a46c3bd0-b5dc-45e0-8f22-6bfab4d00438 input.sk-hidden--visually {border: 0;clip: rect(1px 1px 1px 1px);clip: rect(1px, 1px, 1px, 1px);height: 1px;margin: -1px;overflow: hidden;padding: 0;position: absolute;width: 1px;}#sk-a46c3bd0-b5dc-45e0-8f22-6bfab4d00438 div.sk-estimator {font-family: monospace;background-color: #f0f8ff;border: 1px dotted black;border-radius: 0.25em;box-sizing: border-box;margin-bottom: 0.5em;}#sk-a46c3bd0-b5dc-45e0-8f22-6bfab4d00438 div.sk-estimator:hover {background-color: #d4ebff;}#sk-a46c3bd0-b5dc-45e0-8f22-6bfab4d00438 div.sk-parallel-item::after {content: \"\";width: 100%;border-bottom: 1px solid gray;flex-grow: 1;}#sk-a46c3bd0-b5dc-45e0-8f22-6bfab4d00438 div.sk-label:hover label.sk-toggleable__label {background-color: #d4ebff;}#sk-a46c3bd0-b5dc-45e0-8f22-6bfab4d00438 div.sk-serial::before {content: \"\";position: absolute;border-left: 1px solid gray;box-sizing: border-box;top: 2em;bottom: 0;left: 50%;}#sk-a46c3bd0-b5dc-45e0-8f22-6bfab4d00438 div.sk-serial {display: flex;flex-direction: column;align-items: center;background-color: white;padding-right: 0.2em;padding-left: 0.2em;}#sk-a46c3bd0-b5dc-45e0-8f22-6bfab4d00438 div.sk-item {z-index: 1;}#sk-a46c3bd0-b5dc-45e0-8f22-6bfab4d00438 div.sk-parallel {display: flex;align-items: stretch;justify-content: center;background-color: white;}#sk-a46c3bd0-b5dc-45e0-8f22-6bfab4d00438 div.sk-parallel::before {content: \"\";position: absolute;border-left: 1px solid gray;box-sizing: border-box;top: 2em;bottom: 0;left: 50%;}#sk-a46c3bd0-b5dc-45e0-8f22-6bfab4d00438 div.sk-parallel-item {display: flex;flex-direction: column;position: relative;background-color: white;}#sk-a46c3bd0-b5dc-45e0-8f22-6bfab4d00438 div.sk-parallel-item:first-child::after {align-self: flex-end;width: 50%;}#sk-a46c3bd0-b5dc-45e0-8f22-6bfab4d00438 div.sk-parallel-item:last-child::after {align-self: flex-start;width: 50%;}#sk-a46c3bd0-b5dc-45e0-8f22-6bfab4d00438 div.sk-parallel-item:only-child::after {width: 0;}#sk-a46c3bd0-b5dc-45e0-8f22-6bfab4d00438 div.sk-dashed-wrapped {border: 1px dashed gray;margin: 0 0.4em 0.5em 0.4em;box-sizing: border-box;padding-bottom: 0.4em;background-color: white;position: relative;}#sk-a46c3bd0-b5dc-45e0-8f22-6bfab4d00438 div.sk-label label {font-family: monospace;font-weight: bold;background-color: white;display: inline-block;line-height: 1.2em;}#sk-a46c3bd0-b5dc-45e0-8f22-6bfab4d00438 div.sk-label-container {position: relative;z-index: 2;text-align: center;}#sk-a46c3bd0-b5dc-45e0-8f22-6bfab4d00438 div.sk-container {/* jupyter's `normalize.less` sets `[hidden] { display: none; }` but bootstrap.min.css set `[hidden] { display: none !important; }` so we also need the `!important` here to be able to override the default hidden behavior on the sphinx rendered scikit-learn.org. See: https://github.com/scikit-learn/scikit-learn/issues/21755 */display: inline-block !important;position: relative;}#sk-a46c3bd0-b5dc-45e0-8f22-6bfab4d00438 div.sk-text-repr-fallback {display: none;}</style><div id=\"sk-a46c3bd0-b5dc-45e0-8f22-6bfab4d00438\" class=\"sk-top-container\"><div class=\"sk-text-repr-fallback\"><pre>GridSearchCV(cv=5,\n",
       "             estimator=Pipeline(steps=[(&#x27;columntransformer&#x27;,\n",
       "                                        ColumnTransformer(transformers=[(&#x27;num&#x27;,\n",
       "                                                                         Pipeline(steps=[(&#x27;imputer&#x27;,\n",
       "                                                                                          SimpleImputer(strategy=&#x27;median&#x27;)),\n",
       "                                                                                         (&#x27;scaler&#x27;,\n",
       "                                                                                          StandardScaler())]),\n",
       "                                                                         [&#x27;NumberofBuildings&#x27;,\n",
       "                                                                          &#x27;NumberofFloors&#x27;,\n",
       "                                                                          &#x27;PropertyGFATotal&#x27;,\n",
       "                                                                          &#x27;PropertyGFAParking&#x27;,\n",
       "                                                                          &#x27;PropertyGFABuilding(s)&#x27;,\n",
       "                                                                          &#x27;LargestPropertyUseTypeGFA&#x27;,\n",
       "                                                                          &#x27;SourceEUIWN(kBtu/sf)&#x27;,\n",
       "                                                                          &#x27;GHGEmissionsIntensity&#x27;,\n",
       "                                                                          &#x27;BuildingAge&#x27;,\n",
       "                                                                          &#x27;ENERGYSTARScore&#x27;]),\n",
       "                                                                        (&#x27;cat&#x27;,\n",
       "                                                                         OneHotEncoder(handle_unknown=&#x27;ignore&#x27;),\n",
       "                                                                         [&#x27;PrimaryPropertyType&#x27;,\n",
       "                                                                          &#x27;Neighborhood&#x27;,\n",
       "                                                                          &#x27;LargestPropertyUseType&#x27;,\n",
       "                                                                          &#x27;ComplianceStatus&#x27;])])),\n",
       "                                       (&#x27;randomforestregressor&#x27;,\n",
       "                                        RandomForestRegressor())]),\n",
       "             param_grid={&#x27;randomforestregressor__n_estimators&#x27;: [100, 200,\n",
       "                                                                 300]})</pre><b>Please rerun this cell to show the HTML repr or trust the notebook.</b></div><div class=\"sk-container\" hidden><div class=\"sk-item sk-dashed-wrapped\"><div class=\"sk-label-container\"><div class=\"sk-label sk-toggleable\"><input class=\"sk-toggleable__control sk-hidden--visually\" id=\"9f6c4b3a-a7f0-4ce1-962b-a94b925df1c9\" type=\"checkbox\" ><label for=\"9f6c4b3a-a7f0-4ce1-962b-a94b925df1c9\" class=\"sk-toggleable__label sk-toggleable__label-arrow\">GridSearchCV</label><div class=\"sk-toggleable__content\"><pre>GridSearchCV(cv=5,\n",
       "             estimator=Pipeline(steps=[(&#x27;columntransformer&#x27;,\n",
       "                                        ColumnTransformer(transformers=[(&#x27;num&#x27;,\n",
       "                                                                         Pipeline(steps=[(&#x27;imputer&#x27;,\n",
       "                                                                                          SimpleImputer(strategy=&#x27;median&#x27;)),\n",
       "                                                                                         (&#x27;scaler&#x27;,\n",
       "                                                                                          StandardScaler())]),\n",
       "                                                                         [&#x27;NumberofBuildings&#x27;,\n",
       "                                                                          &#x27;NumberofFloors&#x27;,\n",
       "                                                                          &#x27;PropertyGFATotal&#x27;,\n",
       "                                                                          &#x27;PropertyGFAParking&#x27;,\n",
       "                                                                          &#x27;PropertyGFABuilding(s)&#x27;,\n",
       "                                                                          &#x27;LargestPropertyUseTypeGFA&#x27;,\n",
       "                                                                          &#x27;SourceEUIWN(kBtu/sf)&#x27;,\n",
       "                                                                          &#x27;GHGEmissionsIntensity&#x27;,\n",
       "                                                                          &#x27;BuildingAge&#x27;,\n",
       "                                                                          &#x27;ENERGYSTARScore&#x27;]),\n",
       "                                                                        (&#x27;cat&#x27;,\n",
       "                                                                         OneHotEncoder(handle_unknown=&#x27;ignore&#x27;),\n",
       "                                                                         [&#x27;PrimaryPropertyType&#x27;,\n",
       "                                                                          &#x27;Neighborhood&#x27;,\n",
       "                                                                          &#x27;LargestPropertyUseType&#x27;,\n",
       "                                                                          &#x27;ComplianceStatus&#x27;])])),\n",
       "                                       (&#x27;randomforestregressor&#x27;,\n",
       "                                        RandomForestRegressor())]),\n",
       "             param_grid={&#x27;randomforestregressor__n_estimators&#x27;: [100, 200,\n",
       "                                                                 300]})</pre></div></div></div><div class=\"sk-parallel\"><div class=\"sk-parallel-item\"><div class=\"sk-item\"><div class=\"sk-serial\"><div class=\"sk-item\"><div class=\"sk-serial\"><div class=\"sk-item sk-dashed-wrapped\"><div class=\"sk-label-container\"><div class=\"sk-label sk-toggleable\"><input class=\"sk-toggleable__control sk-hidden--visually\" id=\"6588683b-44c2-469b-975c-3f34da7e8396\" type=\"checkbox\" ><label for=\"6588683b-44c2-469b-975c-3f34da7e8396\" class=\"sk-toggleable__label sk-toggleable__label-arrow\">columntransformer: ColumnTransformer</label><div class=\"sk-toggleable__content\"><pre>ColumnTransformer(transformers=[(&#x27;num&#x27;,\n",
       "                                 Pipeline(steps=[(&#x27;imputer&#x27;,\n",
       "                                                  SimpleImputer(strategy=&#x27;median&#x27;)),\n",
       "                                                 (&#x27;scaler&#x27;, StandardScaler())]),\n",
       "                                 [&#x27;NumberofBuildings&#x27;, &#x27;NumberofFloors&#x27;,\n",
       "                                  &#x27;PropertyGFATotal&#x27;, &#x27;PropertyGFAParking&#x27;,\n",
       "                                  &#x27;PropertyGFABuilding(s)&#x27;,\n",
       "                                  &#x27;LargestPropertyUseTypeGFA&#x27;,\n",
       "                                  &#x27;SourceEUIWN(kBtu/sf)&#x27;,\n",
       "                                  &#x27;GHGEmissionsIntensity&#x27;, &#x27;BuildingAge&#x27;,\n",
       "                                  &#x27;ENERGYSTARScore&#x27;]),\n",
       "                                (&#x27;cat&#x27;, OneHotEncoder(handle_unknown=&#x27;ignore&#x27;),\n",
       "                                 [&#x27;PrimaryPropertyType&#x27;, &#x27;Neighborhood&#x27;,\n",
       "                                  &#x27;LargestPropertyUseType&#x27;,\n",
       "                                  &#x27;ComplianceStatus&#x27;])])</pre></div></div></div><div class=\"sk-parallel\"><div class=\"sk-parallel-item\"><div class=\"sk-item\"><div class=\"sk-label-container\"><div class=\"sk-label sk-toggleable\"><input class=\"sk-toggleable__control sk-hidden--visually\" id=\"41142b33-28dc-48d9-bb53-74e4b8c239bf\" type=\"checkbox\" ><label for=\"41142b33-28dc-48d9-bb53-74e4b8c239bf\" class=\"sk-toggleable__label sk-toggleable__label-arrow\">num</label><div class=\"sk-toggleable__content\"><pre>[&#x27;NumberofBuildings&#x27;, &#x27;NumberofFloors&#x27;, &#x27;PropertyGFATotal&#x27;, &#x27;PropertyGFAParking&#x27;, &#x27;PropertyGFABuilding(s)&#x27;, &#x27;LargestPropertyUseTypeGFA&#x27;, &#x27;SourceEUIWN(kBtu/sf)&#x27;, &#x27;GHGEmissionsIntensity&#x27;, &#x27;BuildingAge&#x27;, &#x27;ENERGYSTARScore&#x27;]</pre></div></div></div><div class=\"sk-serial\"><div class=\"sk-item\"><div class=\"sk-serial\"><div class=\"sk-item\"><div class=\"sk-estimator sk-toggleable\"><input class=\"sk-toggleable__control sk-hidden--visually\" id=\"6694e5d0-9612-416f-b257-ad8900d0ecd5\" type=\"checkbox\" ><label for=\"6694e5d0-9612-416f-b257-ad8900d0ecd5\" class=\"sk-toggleable__label sk-toggleable__label-arrow\">SimpleImputer</label><div class=\"sk-toggleable__content\"><pre>SimpleImputer(strategy=&#x27;median&#x27;)</pre></div></div></div><div class=\"sk-item\"><div class=\"sk-estimator sk-toggleable\"><input class=\"sk-toggleable__control sk-hidden--visually\" id=\"7454b940-a2cf-4388-805c-13b489510a54\" type=\"checkbox\" ><label for=\"7454b940-a2cf-4388-805c-13b489510a54\" class=\"sk-toggleable__label sk-toggleable__label-arrow\">StandardScaler</label><div class=\"sk-toggleable__content\"><pre>StandardScaler()</pre></div></div></div></div></div></div></div></div><div class=\"sk-parallel-item\"><div class=\"sk-item\"><div class=\"sk-label-container\"><div class=\"sk-label sk-toggleable\"><input class=\"sk-toggleable__control sk-hidden--visually\" id=\"6c9cada1-be57-4eb8-9143-2d097d2256ec\" type=\"checkbox\" ><label for=\"6c9cada1-be57-4eb8-9143-2d097d2256ec\" class=\"sk-toggleable__label sk-toggleable__label-arrow\">cat</label><div class=\"sk-toggleable__content\"><pre>[&#x27;PrimaryPropertyType&#x27;, &#x27;Neighborhood&#x27;, &#x27;LargestPropertyUseType&#x27;, &#x27;ComplianceStatus&#x27;]</pre></div></div></div><div class=\"sk-serial\"><div class=\"sk-item\"><div class=\"sk-estimator sk-toggleable\"><input class=\"sk-toggleable__control sk-hidden--visually\" id=\"101eff7f-f722-414d-9c75-c12ffa124372\" type=\"checkbox\" ><label for=\"101eff7f-f722-414d-9c75-c12ffa124372\" class=\"sk-toggleable__label sk-toggleable__label-arrow\">OneHotEncoder</label><div class=\"sk-toggleable__content\"><pre>OneHotEncoder(handle_unknown=&#x27;ignore&#x27;)</pre></div></div></div></div></div></div></div></div><div class=\"sk-item\"><div class=\"sk-estimator sk-toggleable\"><input class=\"sk-toggleable__control sk-hidden--visually\" id=\"cbdaf032-eb35-444e-9b1e-20818267c0bf\" type=\"checkbox\" ><label for=\"cbdaf032-eb35-444e-9b1e-20818267c0bf\" class=\"sk-toggleable__label sk-toggleable__label-arrow\">RandomForestRegressor</label><div class=\"sk-toggleable__content\"><pre>RandomForestRegressor()</pre></div></div></div></div></div></div></div></div></div></div></div></div>"
      ],
      "text/plain": [
       "GridSearchCV(cv=5,\n",
       "             estimator=Pipeline(steps=[('columntransformer',\n",
       "                                        ColumnTransformer(transformers=[('num',\n",
       "                                                                         Pipeline(steps=[('imputer',\n",
       "                                                                                          SimpleImputer(strategy='median')),\n",
       "                                                                                         ('scaler',\n",
       "                                                                                          StandardScaler())]),\n",
       "                                                                         ['NumberofBuildings',\n",
       "                                                                          'NumberofFloors',\n",
       "                                                                          'PropertyGFATotal',\n",
       "                                                                          'PropertyGFAParking',\n",
       "                                                                          'PropertyGFABuilding(s)',\n",
       "                                                                          'LargestPropertyUseTypeGFA',\n",
       "                                                                          'SourceEUIWN(kBtu/sf)',\n",
       "                                                                          'GHGEmissionsIntensity',\n",
       "                                                                          'BuildingAge',\n",
       "                                                                          'ENERGYSTARScore']),\n",
       "                                                                        ('cat',\n",
       "                                                                         OneHotEncoder(handle_unknown='ignore'),\n",
       "                                                                         ['PrimaryPropertyType',\n",
       "                                                                          'Neighborhood',\n",
       "                                                                          'LargestPropertyUseType',\n",
       "                                                                          'ComplianceStatus'])])),\n",
       "                                       ('randomforestregressor',\n",
       "                                        RandomForestRegressor())]),\n",
       "             param_grid={'randomforestregressor__n_estimators': [100, 200,\n",
       "                                                                 300]})"
      ]
     },
     "execution_count": 141,
     "metadata": {},
     "output_type": "execute_result"
    }
   ],
   "source": [
    "parameter= {'randomforestregressor__n_estimators': [100,200,300]}\n",
    "#Grille de recherche:\n",
    "grid_randomforest= GridSearchCV(pipe_randomforest, parameter, cv=5)\n",
    "grid_randomforest.fit(X_train,y_train)"
   ]
  },
  {
   "cell_type": "code",
   "execution_count": 142,
   "metadata": {},
   "outputs": [
    {
     "data": {
      "text/plain": [
       "0.9460049061055701"
      ]
     },
     "execution_count": 142,
     "metadata": {},
     "output_type": "execute_result"
    }
   ],
   "source": [
    "model_randomforest= grid_randomforest.best_estimator_\n",
    "model_randomforest.score(X_test,y_test)"
   ]
  },
  {
   "cell_type": "code",
   "execution_count": 143,
   "metadata": {},
   "outputs": [
    {
     "data": {
      "text/plain": [
       "[575599.4128175977,\n",
       " 331314684035.9633,\n",
       " 316590.2712712498,\n",
       " 148189.1813038335,\n",
       " 0.9460049061055701]"
      ]
     },
     "execution_count": 143,
     "metadata": {},
     "output_type": "execute_result"
    }
   ],
   "source": [
    "pred_randomforest= model_randomforest.predict(X_test)\n",
    "# Evaluation des métriques:\n",
    "compute_scores(y_test, pred_randomforest)"
   ]
  },
  {
   "cell_type": "markdown",
   "metadata": {},
   "source": [
    "#### Application du modèle: Decision Tree Regression with AdaBoost"
   ]
  },
  {
   "cell_type": "code",
   "execution_count": 144,
   "metadata": {},
   "outputs": [],
   "source": [
    "adaboost= AdaBoostRegressor(DecisionTreeRegressor(max_depth=4), n_estimators=300)\n",
    "# On crée le modèle à l'aide de pipeline\n",
    "pipe_adaboost= make_pipeline(column_trans, adaboost)"
   ]
  },
  {
   "cell_type": "code",
   "execution_count": 145,
   "metadata": {},
   "outputs": [
    {
     "data": {
      "text/html": [
       "<style>#sk-69b28a10-6fdc-40e0-a70a-1e2c6f8d0603 {color: black;background-color: white;}#sk-69b28a10-6fdc-40e0-a70a-1e2c6f8d0603 pre{padding: 0;}#sk-69b28a10-6fdc-40e0-a70a-1e2c6f8d0603 div.sk-toggleable {background-color: white;}#sk-69b28a10-6fdc-40e0-a70a-1e2c6f8d0603 label.sk-toggleable__label {cursor: pointer;display: block;width: 100%;margin-bottom: 0;padding: 0.3em;box-sizing: border-box;text-align: center;}#sk-69b28a10-6fdc-40e0-a70a-1e2c6f8d0603 label.sk-toggleable__label-arrow:before {content: \"▸\";float: left;margin-right: 0.25em;color: #696969;}#sk-69b28a10-6fdc-40e0-a70a-1e2c6f8d0603 label.sk-toggleable__label-arrow:hover:before {color: black;}#sk-69b28a10-6fdc-40e0-a70a-1e2c6f8d0603 div.sk-estimator:hover label.sk-toggleable__label-arrow:before {color: black;}#sk-69b28a10-6fdc-40e0-a70a-1e2c6f8d0603 div.sk-toggleable__content {max-height: 0;max-width: 0;overflow: hidden;text-align: left;background-color: #f0f8ff;}#sk-69b28a10-6fdc-40e0-a70a-1e2c6f8d0603 div.sk-toggleable__content pre {margin: 0.2em;color: black;border-radius: 0.25em;background-color: #f0f8ff;}#sk-69b28a10-6fdc-40e0-a70a-1e2c6f8d0603 input.sk-toggleable__control:checked~div.sk-toggleable__content {max-height: 200px;max-width: 100%;overflow: auto;}#sk-69b28a10-6fdc-40e0-a70a-1e2c6f8d0603 input.sk-toggleable__control:checked~label.sk-toggleable__label-arrow:before {content: \"▾\";}#sk-69b28a10-6fdc-40e0-a70a-1e2c6f8d0603 div.sk-estimator input.sk-toggleable__control:checked~label.sk-toggleable__label {background-color: #d4ebff;}#sk-69b28a10-6fdc-40e0-a70a-1e2c6f8d0603 div.sk-label input.sk-toggleable__control:checked~label.sk-toggleable__label {background-color: #d4ebff;}#sk-69b28a10-6fdc-40e0-a70a-1e2c6f8d0603 input.sk-hidden--visually {border: 0;clip: rect(1px 1px 1px 1px);clip: rect(1px, 1px, 1px, 1px);height: 1px;margin: -1px;overflow: hidden;padding: 0;position: absolute;width: 1px;}#sk-69b28a10-6fdc-40e0-a70a-1e2c6f8d0603 div.sk-estimator {font-family: monospace;background-color: #f0f8ff;border: 1px dotted black;border-radius: 0.25em;box-sizing: border-box;margin-bottom: 0.5em;}#sk-69b28a10-6fdc-40e0-a70a-1e2c6f8d0603 div.sk-estimator:hover {background-color: #d4ebff;}#sk-69b28a10-6fdc-40e0-a70a-1e2c6f8d0603 div.sk-parallel-item::after {content: \"\";width: 100%;border-bottom: 1px solid gray;flex-grow: 1;}#sk-69b28a10-6fdc-40e0-a70a-1e2c6f8d0603 div.sk-label:hover label.sk-toggleable__label {background-color: #d4ebff;}#sk-69b28a10-6fdc-40e0-a70a-1e2c6f8d0603 div.sk-serial::before {content: \"\";position: absolute;border-left: 1px solid gray;box-sizing: border-box;top: 2em;bottom: 0;left: 50%;}#sk-69b28a10-6fdc-40e0-a70a-1e2c6f8d0603 div.sk-serial {display: flex;flex-direction: column;align-items: center;background-color: white;padding-right: 0.2em;padding-left: 0.2em;}#sk-69b28a10-6fdc-40e0-a70a-1e2c6f8d0603 div.sk-item {z-index: 1;}#sk-69b28a10-6fdc-40e0-a70a-1e2c6f8d0603 div.sk-parallel {display: flex;align-items: stretch;justify-content: center;background-color: white;}#sk-69b28a10-6fdc-40e0-a70a-1e2c6f8d0603 div.sk-parallel::before {content: \"\";position: absolute;border-left: 1px solid gray;box-sizing: border-box;top: 2em;bottom: 0;left: 50%;}#sk-69b28a10-6fdc-40e0-a70a-1e2c6f8d0603 div.sk-parallel-item {display: flex;flex-direction: column;position: relative;background-color: white;}#sk-69b28a10-6fdc-40e0-a70a-1e2c6f8d0603 div.sk-parallel-item:first-child::after {align-self: flex-end;width: 50%;}#sk-69b28a10-6fdc-40e0-a70a-1e2c6f8d0603 div.sk-parallel-item:last-child::after {align-self: flex-start;width: 50%;}#sk-69b28a10-6fdc-40e0-a70a-1e2c6f8d0603 div.sk-parallel-item:only-child::after {width: 0;}#sk-69b28a10-6fdc-40e0-a70a-1e2c6f8d0603 div.sk-dashed-wrapped {border: 1px dashed gray;margin: 0 0.4em 0.5em 0.4em;box-sizing: border-box;padding-bottom: 0.4em;background-color: white;position: relative;}#sk-69b28a10-6fdc-40e0-a70a-1e2c6f8d0603 div.sk-label label {font-family: monospace;font-weight: bold;background-color: white;display: inline-block;line-height: 1.2em;}#sk-69b28a10-6fdc-40e0-a70a-1e2c6f8d0603 div.sk-label-container {position: relative;z-index: 2;text-align: center;}#sk-69b28a10-6fdc-40e0-a70a-1e2c6f8d0603 div.sk-container {/* jupyter's `normalize.less` sets `[hidden] { display: none; }` but bootstrap.min.css set `[hidden] { display: none !important; }` so we also need the `!important` here to be able to override the default hidden behavior on the sphinx rendered scikit-learn.org. See: https://github.com/scikit-learn/scikit-learn/issues/21755 */display: inline-block !important;position: relative;}#sk-69b28a10-6fdc-40e0-a70a-1e2c6f8d0603 div.sk-text-repr-fallback {display: none;}</style><div id=\"sk-69b28a10-6fdc-40e0-a70a-1e2c6f8d0603\" class=\"sk-top-container\"><div class=\"sk-text-repr-fallback\"><pre>GridSearchCV(cv=5,\n",
       "             estimator=Pipeline(steps=[(&#x27;columntransformer&#x27;,\n",
       "                                        ColumnTransformer(transformers=[(&#x27;num&#x27;,\n",
       "                                                                         Pipeline(steps=[(&#x27;imputer&#x27;,\n",
       "                                                                                          SimpleImputer(strategy=&#x27;median&#x27;)),\n",
       "                                                                                         (&#x27;scaler&#x27;,\n",
       "                                                                                          StandardScaler())]),\n",
       "                                                                         [&#x27;NumberofBuildings&#x27;,\n",
       "                                                                          &#x27;NumberofFloors&#x27;,\n",
       "                                                                          &#x27;PropertyGFATotal&#x27;,\n",
       "                                                                          &#x27;PropertyGFAParking&#x27;,\n",
       "                                                                          &#x27;PropertyGFABuilding(s)&#x27;,\n",
       "                                                                          &#x27;LargestPropertyUseTypeGFA&#x27;,\n",
       "                                                                          &#x27;SourceEUIWN(kBtu/sf)&#x27;,\n",
       "                                                                          &#x27;...\n",
       "                                                                          &#x27;Neighborhood&#x27;,\n",
       "                                                                          &#x27;LargestPropertyUseType&#x27;,\n",
       "                                                                          &#x27;ComplianceStatus&#x27;])])),\n",
       "                                       (&#x27;adaboostregressor&#x27;,\n",
       "                                        AdaBoostRegressor(base_estimator=DecisionTreeRegressor(max_depth=4),\n",
       "                                                          n_estimators=300))]),\n",
       "             param_grid={&#x27;adaboostregressor__base_estimator__max_depth&#x27;: [4, 6,\n",
       "                                                                          8],\n",
       "                         &#x27;adaboostregressor__loss&#x27;: [&#x27;linear&#x27;, &#x27;square&#x27;,\n",
       "                                                     &#x27;exponential&#x27;],\n",
       "                         &#x27;adaboostregressor__n_estimators&#x27;: [300, 400, 500]})</pre><b>Please rerun this cell to show the HTML repr or trust the notebook.</b></div><div class=\"sk-container\" hidden><div class=\"sk-item sk-dashed-wrapped\"><div class=\"sk-label-container\"><div class=\"sk-label sk-toggleable\"><input class=\"sk-toggleable__control sk-hidden--visually\" id=\"78eb5593-f95a-401b-849c-d41c935c6658\" type=\"checkbox\" ><label for=\"78eb5593-f95a-401b-849c-d41c935c6658\" class=\"sk-toggleable__label sk-toggleable__label-arrow\">GridSearchCV</label><div class=\"sk-toggleable__content\"><pre>GridSearchCV(cv=5,\n",
       "             estimator=Pipeline(steps=[(&#x27;columntransformer&#x27;,\n",
       "                                        ColumnTransformer(transformers=[(&#x27;num&#x27;,\n",
       "                                                                         Pipeline(steps=[(&#x27;imputer&#x27;,\n",
       "                                                                                          SimpleImputer(strategy=&#x27;median&#x27;)),\n",
       "                                                                                         (&#x27;scaler&#x27;,\n",
       "                                                                                          StandardScaler())]),\n",
       "                                                                         [&#x27;NumberofBuildings&#x27;,\n",
       "                                                                          &#x27;NumberofFloors&#x27;,\n",
       "                                                                          &#x27;PropertyGFATotal&#x27;,\n",
       "                                                                          &#x27;PropertyGFAParking&#x27;,\n",
       "                                                                          &#x27;PropertyGFABuilding(s)&#x27;,\n",
       "                                                                          &#x27;LargestPropertyUseTypeGFA&#x27;,\n",
       "                                                                          &#x27;SourceEUIWN(kBtu/sf)&#x27;,\n",
       "                                                                          &#x27;...\n",
       "                                                                          &#x27;Neighborhood&#x27;,\n",
       "                                                                          &#x27;LargestPropertyUseType&#x27;,\n",
       "                                                                          &#x27;ComplianceStatus&#x27;])])),\n",
       "                                       (&#x27;adaboostregressor&#x27;,\n",
       "                                        AdaBoostRegressor(base_estimator=DecisionTreeRegressor(max_depth=4),\n",
       "                                                          n_estimators=300))]),\n",
       "             param_grid={&#x27;adaboostregressor__base_estimator__max_depth&#x27;: [4, 6,\n",
       "                                                                          8],\n",
       "                         &#x27;adaboostregressor__loss&#x27;: [&#x27;linear&#x27;, &#x27;square&#x27;,\n",
       "                                                     &#x27;exponential&#x27;],\n",
       "                         &#x27;adaboostregressor__n_estimators&#x27;: [300, 400, 500]})</pre></div></div></div><div class=\"sk-parallel\"><div class=\"sk-parallel-item\"><div class=\"sk-item\"><div class=\"sk-serial\"><div class=\"sk-item\"><div class=\"sk-serial\"><div class=\"sk-item sk-dashed-wrapped\"><div class=\"sk-label-container\"><div class=\"sk-label sk-toggleable\"><input class=\"sk-toggleable__control sk-hidden--visually\" id=\"448c8c02-510e-4651-a831-372612b9f3f5\" type=\"checkbox\" ><label for=\"448c8c02-510e-4651-a831-372612b9f3f5\" class=\"sk-toggleable__label sk-toggleable__label-arrow\">columntransformer: ColumnTransformer</label><div class=\"sk-toggleable__content\"><pre>ColumnTransformer(transformers=[(&#x27;num&#x27;,\n",
       "                                 Pipeline(steps=[(&#x27;imputer&#x27;,\n",
       "                                                  SimpleImputer(strategy=&#x27;median&#x27;)),\n",
       "                                                 (&#x27;scaler&#x27;, StandardScaler())]),\n",
       "                                 [&#x27;NumberofBuildings&#x27;, &#x27;NumberofFloors&#x27;,\n",
       "                                  &#x27;PropertyGFATotal&#x27;, &#x27;PropertyGFAParking&#x27;,\n",
       "                                  &#x27;PropertyGFABuilding(s)&#x27;,\n",
       "                                  &#x27;LargestPropertyUseTypeGFA&#x27;,\n",
       "                                  &#x27;SourceEUIWN(kBtu/sf)&#x27;,\n",
       "                                  &#x27;GHGEmissionsIntensity&#x27;, &#x27;BuildingAge&#x27;,\n",
       "                                  &#x27;ENERGYSTARScore&#x27;]),\n",
       "                                (&#x27;cat&#x27;, OneHotEncoder(handle_unknown=&#x27;ignore&#x27;),\n",
       "                                 [&#x27;PrimaryPropertyType&#x27;, &#x27;Neighborhood&#x27;,\n",
       "                                  &#x27;LargestPropertyUseType&#x27;,\n",
       "                                  &#x27;ComplianceStatus&#x27;])])</pre></div></div></div><div class=\"sk-parallel\"><div class=\"sk-parallel-item\"><div class=\"sk-item\"><div class=\"sk-label-container\"><div class=\"sk-label sk-toggleable\"><input class=\"sk-toggleable__control sk-hidden--visually\" id=\"0e522774-ce48-406c-bb42-0d97477fe79d\" type=\"checkbox\" ><label for=\"0e522774-ce48-406c-bb42-0d97477fe79d\" class=\"sk-toggleable__label sk-toggleable__label-arrow\">num</label><div class=\"sk-toggleable__content\"><pre>[&#x27;NumberofBuildings&#x27;, &#x27;NumberofFloors&#x27;, &#x27;PropertyGFATotal&#x27;, &#x27;PropertyGFAParking&#x27;, &#x27;PropertyGFABuilding(s)&#x27;, &#x27;LargestPropertyUseTypeGFA&#x27;, &#x27;SourceEUIWN(kBtu/sf)&#x27;, &#x27;GHGEmissionsIntensity&#x27;, &#x27;BuildingAge&#x27;, &#x27;ENERGYSTARScore&#x27;]</pre></div></div></div><div class=\"sk-serial\"><div class=\"sk-item\"><div class=\"sk-serial\"><div class=\"sk-item\"><div class=\"sk-estimator sk-toggleable\"><input class=\"sk-toggleable__control sk-hidden--visually\" id=\"a2ed4cd8-36b2-4cf7-8dc1-4cd918a64d3c\" type=\"checkbox\" ><label for=\"a2ed4cd8-36b2-4cf7-8dc1-4cd918a64d3c\" class=\"sk-toggleable__label sk-toggleable__label-arrow\">SimpleImputer</label><div class=\"sk-toggleable__content\"><pre>SimpleImputer(strategy=&#x27;median&#x27;)</pre></div></div></div><div class=\"sk-item\"><div class=\"sk-estimator sk-toggleable\"><input class=\"sk-toggleable__control sk-hidden--visually\" id=\"b548c4cc-4aed-4299-8149-2fb4530877b7\" type=\"checkbox\" ><label for=\"b548c4cc-4aed-4299-8149-2fb4530877b7\" class=\"sk-toggleable__label sk-toggleable__label-arrow\">StandardScaler</label><div class=\"sk-toggleable__content\"><pre>StandardScaler()</pre></div></div></div></div></div></div></div></div><div class=\"sk-parallel-item\"><div class=\"sk-item\"><div class=\"sk-label-container\"><div class=\"sk-label sk-toggleable\"><input class=\"sk-toggleable__control sk-hidden--visually\" id=\"f2117dc5-c9fb-4dce-b3a5-77fa71d8933a\" type=\"checkbox\" ><label for=\"f2117dc5-c9fb-4dce-b3a5-77fa71d8933a\" class=\"sk-toggleable__label sk-toggleable__label-arrow\">cat</label><div class=\"sk-toggleable__content\"><pre>[&#x27;PrimaryPropertyType&#x27;, &#x27;Neighborhood&#x27;, &#x27;LargestPropertyUseType&#x27;, &#x27;ComplianceStatus&#x27;]</pre></div></div></div><div class=\"sk-serial\"><div class=\"sk-item\"><div class=\"sk-estimator sk-toggleable\"><input class=\"sk-toggleable__control sk-hidden--visually\" id=\"b25aac83-60c4-4faa-af8a-4c1913e50592\" type=\"checkbox\" ><label for=\"b25aac83-60c4-4faa-af8a-4c1913e50592\" class=\"sk-toggleable__label sk-toggleable__label-arrow\">OneHotEncoder</label><div class=\"sk-toggleable__content\"><pre>OneHotEncoder(handle_unknown=&#x27;ignore&#x27;)</pre></div></div></div></div></div></div></div></div><div class=\"sk-item sk-dashed-wrapped\"><div class=\"sk-label-container\"><div class=\"sk-label sk-toggleable\"><input class=\"sk-toggleable__control sk-hidden--visually\" id=\"5c6b49e7-0819-4c52-8e9f-a7739178291b\" type=\"checkbox\" ><label for=\"5c6b49e7-0819-4c52-8e9f-a7739178291b\" class=\"sk-toggleable__label sk-toggleable__label-arrow\">adaboostregressor: AdaBoostRegressor</label><div class=\"sk-toggleable__content\"><pre>AdaBoostRegressor(base_estimator=DecisionTreeRegressor(max_depth=4),\n",
       "                  n_estimators=300)</pre></div></div></div><div class=\"sk-parallel\"><div class=\"sk-parallel-item\"><div class=\"sk-item\"><div class=\"sk-serial\"><div class=\"sk-item\"><div class=\"sk-estimator sk-toggleable\"><input class=\"sk-toggleable__control sk-hidden--visually\" id=\"aae60a08-753a-4032-928a-9fde59b3a7a3\" type=\"checkbox\" ><label for=\"aae60a08-753a-4032-928a-9fde59b3a7a3\" class=\"sk-toggleable__label sk-toggleable__label-arrow\">DecisionTreeRegressor</label><div class=\"sk-toggleable__content\"><pre>DecisionTreeRegressor(max_depth=4)</pre></div></div></div></div></div></div></div></div></div></div></div></div></div></div></div></div></div>"
      ],
      "text/plain": [
       "GridSearchCV(cv=5,\n",
       "             estimator=Pipeline(steps=[('columntransformer',\n",
       "                                        ColumnTransformer(transformers=[('num',\n",
       "                                                                         Pipeline(steps=[('imputer',\n",
       "                                                                                          SimpleImputer(strategy='median')),\n",
       "                                                                                         ('scaler',\n",
       "                                                                                          StandardScaler())]),\n",
       "                                                                         ['NumberofBuildings',\n",
       "                                                                          'NumberofFloors',\n",
       "                                                                          'PropertyGFATotal',\n",
       "                                                                          'PropertyGFAParking',\n",
       "                                                                          'PropertyGFABuilding(s)',\n",
       "                                                                          'LargestPropertyUseTypeGFA',\n",
       "                                                                          'SourceEUIWN(kBtu/sf)',\n",
       "                                                                          '...\n",
       "                                                                          'Neighborhood',\n",
       "                                                                          'LargestPropertyUseType',\n",
       "                                                                          'ComplianceStatus'])])),\n",
       "                                       ('adaboostregressor',\n",
       "                                        AdaBoostRegressor(base_estimator=DecisionTreeRegressor(max_depth=4),\n",
       "                                                          n_estimators=300))]),\n",
       "             param_grid={'adaboostregressor__base_estimator__max_depth': [4, 6,\n",
       "                                                                          8],\n",
       "                         'adaboostregressor__loss': ['linear', 'square',\n",
       "                                                     'exponential'],\n",
       "                         'adaboostregressor__n_estimators': [300, 400, 500]})"
      ]
     },
     "execution_count": 145,
     "metadata": {},
     "output_type": "execute_result"
    }
   ],
   "source": [
    "parameter= {'adaboostregressor__loss': ['linear', 'square', 'exponential'], \n",
    "           'adaboostregressor__base_estimator__max_depth':[4,6,8]\n",
    "           , 'adaboostregressor__n_estimators':[300,400,500]}\n",
    "#Grille de recherche:\n",
    "grid_adaboost= GridSearchCV(pipe_adaboost, parameter, cv=5)\n",
    "grid_adaboost.fit(X_train,y_train)"
   ]
  },
  {
   "cell_type": "code",
   "execution_count": 146,
   "metadata": {},
   "outputs": [
    {
     "data": {
      "text/plain": [
       "0.9326872659879705"
      ]
     },
     "execution_count": 146,
     "metadata": {},
     "output_type": "execute_result"
    }
   ],
   "source": [
    "model_adaboost= grid_adaboost.best_estimator_\n",
    "model_adaboost.score(X_test,y_test)"
   ]
  },
  {
   "cell_type": "code",
   "execution_count": 147,
   "metadata": {},
   "outputs": [
    {
     "data": {
      "text/plain": [
       "[642675.5932267696,\n",
       " 413031918129.3802,\n",
       " 391629.35131684825,\n",
       " 268520.02604166674,\n",
       " 0.9326872659879705]"
      ]
     },
     "execution_count": 147,
     "metadata": {},
     "output_type": "execute_result"
    }
   ],
   "source": [
    "pred_adaboost= model_adaboost.predict(X_test)\n",
    "# Evaluation des métriques:\n",
    "compute_scores(y_test, pred_adaboost)"
   ]
  },
  {
   "cell_type": "markdown",
   "metadata": {},
   "source": [
    "##### Synthèse métriques:"
   ]
  },
  {
   "cell_type": "code",
   "execution_count": 148,
   "metadata": {},
   "outputs": [],
   "source": [
    "lst=[compute_scores(y_test, pred_lr),compute_scores(y_test, pred_ridge),compute_scores(y_test, pred_svr),\n",
    "     compute_scores(y_test, pred_lasso),compute_scores(y_test, pred_elastic),compute_scores(y_test, pred_randomforest),\n",
    "    compute_scores(y_test, pred_adaboost)]\n",
    "                   \n",
    "df_metrics_2= pd.DataFrame(lst, index =['Linear regression','Ridge regression','SVR','Lasso','ElasticNet',\n",
    "                                                       'RandomForest', 'Adaboost']\n",
    "                            , columns =['RMSE', 'MSE', 'MAE', 'MEDIAN AE', 'R²'])"
   ]
  },
  {
   "cell_type": "code",
   "execution_count": 149,
   "metadata": {},
   "outputs": [
    {
     "data": {
      "text/html": [
       "<div>\n",
       "<style scoped>\n",
       "    .dataframe tbody tr th:only-of-type {\n",
       "        vertical-align: middle;\n",
       "    }\n",
       "\n",
       "    .dataframe tbody tr th {\n",
       "        vertical-align: top;\n",
       "    }\n",
       "\n",
       "    .dataframe thead th {\n",
       "        text-align: right;\n",
       "    }\n",
       "</style>\n",
       "<table border=\"1\" class=\"dataframe\">\n",
       "  <thead>\n",
       "    <tr style=\"text-align: right;\">\n",
       "      <th></th>\n",
       "      <th>RMSE</th>\n",
       "      <th>MSE</th>\n",
       "      <th>MAE</th>\n",
       "      <th>MEDIAN AE</th>\n",
       "      <th>R²</th>\n",
       "    </tr>\n",
       "  </thead>\n",
       "  <tbody>\n",
       "    <tr>\n",
       "      <th>Linear regression</th>\n",
       "      <td>9.160670e+05</td>\n",
       "      <td>8.391788e+11</td>\n",
       "      <td>6.332348e+05</td>\n",
       "      <td>4.293964e+05</td>\n",
       "      <td>0.863237</td>\n",
       "    </tr>\n",
       "    <tr>\n",
       "      <th>Ridge regression</th>\n",
       "      <td>1.292769e+06</td>\n",
       "      <td>1.671252e+12</td>\n",
       "      <td>8.389312e+05</td>\n",
       "      <td>5.537642e+05</td>\n",
       "      <td>0.727632</td>\n",
       "    </tr>\n",
       "    <tr>\n",
       "      <th>SVR</th>\n",
       "      <td>2.610932e+06</td>\n",
       "      <td>6.816968e+12</td>\n",
       "      <td>1.857875e+06</td>\n",
       "      <td>1.302298e+06</td>\n",
       "      <td>-0.110977</td>\n",
       "    </tr>\n",
       "    <tr>\n",
       "      <th>Lasso</th>\n",
       "      <td>9.130691e+05</td>\n",
       "      <td>8.336951e+11</td>\n",
       "      <td>6.261910e+05</td>\n",
       "      <td>4.241536e+05</td>\n",
       "      <td>0.864131</td>\n",
       "    </tr>\n",
       "    <tr>\n",
       "      <th>ElasticNet</th>\n",
       "      <td>1.603395e+06</td>\n",
       "      <td>2.570875e+12</td>\n",
       "      <td>1.164922e+06</td>\n",
       "      <td>9.534305e+05</td>\n",
       "      <td>0.581019</td>\n",
       "    </tr>\n",
       "    <tr>\n",
       "      <th>RandomForest</th>\n",
       "      <td>5.755994e+05</td>\n",
       "      <td>3.313147e+11</td>\n",
       "      <td>3.165903e+05</td>\n",
       "      <td>1.481892e+05</td>\n",
       "      <td>0.946005</td>\n",
       "    </tr>\n",
       "    <tr>\n",
       "      <th>Adaboost</th>\n",
       "      <td>6.426756e+05</td>\n",
       "      <td>4.130319e+11</td>\n",
       "      <td>3.916294e+05</td>\n",
       "      <td>2.685200e+05</td>\n",
       "      <td>0.932687</td>\n",
       "    </tr>\n",
       "  </tbody>\n",
       "</table>\n",
       "</div>"
      ],
      "text/plain": [
       "                           RMSE           MSE           MAE     MEDIAN AE  \\\n",
       "Linear regression  9.160670e+05  8.391788e+11  6.332348e+05  4.293964e+05   \n",
       "Ridge regression   1.292769e+06  1.671252e+12  8.389312e+05  5.537642e+05   \n",
       "SVR                2.610932e+06  6.816968e+12  1.857875e+06  1.302298e+06   \n",
       "Lasso              9.130691e+05  8.336951e+11  6.261910e+05  4.241536e+05   \n",
       "ElasticNet         1.603395e+06  2.570875e+12  1.164922e+06  9.534305e+05   \n",
       "RandomForest       5.755994e+05  3.313147e+11  3.165903e+05  1.481892e+05   \n",
       "Adaboost           6.426756e+05  4.130319e+11  3.916294e+05  2.685200e+05   \n",
       "\n",
       "                         R²  \n",
       "Linear regression  0.863237  \n",
       "Ridge regression   0.727632  \n",
       "SVR               -0.110977  \n",
       "Lasso              0.864131  \n",
       "ElasticNet         0.581019  \n",
       "RandomForest       0.946005  \n",
       "Adaboost           0.932687  "
      ]
     },
     "execution_count": 149,
     "metadata": {},
     "output_type": "execute_result"
    }
   ],
   "source": [
    "df_metrics_2"
   ]
  },
  {
   "cell_type": "code",
   "execution_count": 150,
   "metadata": {},
   "outputs": [],
   "source": [
    "r2_lr= grid_lr.best_score_\n",
    "r2_ridge= grid_ridge.best_score_\n",
    "r2_svr= grid_svr.best_score_\n",
    "r2_lasso= grid_lasso.best_score_\n",
    "r2_elastic= grid_elastic.best_score_\n",
    "r2_randomforest= grid_randomforest.best_score_\n",
    "r2_adaboost= grid_adaboost.best_score_\n",
    "\n",
    "lst= [r2_lr, r2_ridge, r2_svr, r2_lasso, r2_elastic,r2_randomforest,r2_adaboost]\n",
    "\n",
    "df_Xtrain_r2= pd.DataFrame(lst, index =['Linear regression','Ridge regression','SVR','Lasso','ElasticNet',\n",
    "                                                       'RandomForest', 'Adaboost'], columns =['R²'])"
   ]
  },
  {
   "cell_type": "code",
   "execution_count": 151,
   "metadata": {},
   "outputs": [
    {
     "data": {
      "text/html": [
       "<div>\n",
       "<style scoped>\n",
       "    .dataframe tbody tr th:only-of-type {\n",
       "        vertical-align: middle;\n",
       "    }\n",
       "\n",
       "    .dataframe tbody tr th {\n",
       "        vertical-align: top;\n",
       "    }\n",
       "\n",
       "    .dataframe thead th {\n",
       "        text-align: right;\n",
       "    }\n",
       "</style>\n",
       "<table border=\"1\" class=\"dataframe\">\n",
       "  <thead>\n",
       "    <tr style=\"text-align: right;\">\n",
       "      <th></th>\n",
       "      <th>R²</th>\n",
       "    </tr>\n",
       "  </thead>\n",
       "  <tbody>\n",
       "    <tr>\n",
       "      <th>Linear regression</th>\n",
       "      <td>0.417366</td>\n",
       "    </tr>\n",
       "    <tr>\n",
       "      <th>Ridge regression</th>\n",
       "      <td>0.384150</td>\n",
       "    </tr>\n",
       "    <tr>\n",
       "      <th>SVR</th>\n",
       "      <td>-0.117372</td>\n",
       "    </tr>\n",
       "    <tr>\n",
       "      <th>Lasso</th>\n",
       "      <td>0.404241</td>\n",
       "    </tr>\n",
       "    <tr>\n",
       "      <th>ElasticNet</th>\n",
       "      <td>0.433537</td>\n",
       "    </tr>\n",
       "    <tr>\n",
       "      <th>RandomForest</th>\n",
       "      <td>0.927288</td>\n",
       "    </tr>\n",
       "    <tr>\n",
       "      <th>Adaboost</th>\n",
       "      <td>0.923000</td>\n",
       "    </tr>\n",
       "  </tbody>\n",
       "</table>\n",
       "</div>"
      ],
      "text/plain": [
       "                         R²\n",
       "Linear regression  0.417366\n",
       "Ridge regression   0.384150\n",
       "SVR               -0.117372\n",
       "Lasso              0.404241\n",
       "ElasticNet         0.433537\n",
       "RandomForest       0.927288\n",
       "Adaboost           0.923000"
      ]
     },
     "execution_count": 151,
     "metadata": {},
     "output_type": "execute_result"
    }
   ],
   "source": [
    "df_Xtrain_r2"
   ]
  },
  {
   "cell_type": "code",
   "execution_count": 152,
   "metadata": {},
   "outputs": [
    {
     "ename": "NameError",
     "evalue": "name 'stop' is not defined",
     "output_type": "error",
     "traceback": [
      "\u001b[1;31m---------------------------------------------------------------------------\u001b[0m",
      "\u001b[1;31mNameError\u001b[0m                                 Traceback (most recent call last)",
      "\u001b[1;32m<ipython-input-152-e2c9c290de89>\u001b[0m in \u001b[0;36m<module>\u001b[1;34m\u001b[0m\n\u001b[1;32m----> 1\u001b[1;33m \u001b[0mprint\u001b[0m\u001b[1;33m(\u001b[0m\u001b[0mstop\u001b[0m\u001b[1;33m)\u001b[0m\u001b[1;33m\u001b[0m\u001b[1;33m\u001b[0m\u001b[0m\n\u001b[0m",
      "\u001b[1;31mNameError\u001b[0m: name 'stop' is not defined"
     ]
    }
   ],
   "source": [
    "print(stop)"
   ]
  },
  {
   "cell_type": "markdown",
   "metadata": {},
   "source": [
    "#### Explain Predictions using SHAP Values "
   ]
  },
  {
   "cell_type": "code",
   "execution_count": null,
   "metadata": {},
   "outputs": [],
   "source": [
    "import shap\n",
    "\n",
    "shap.initjs()"
   ]
  },
  {
   "cell_type": "code",
   "execution_count": null,
   "metadata": {},
   "outputs": [],
   "source": [
    "#set the tree explainer as the model of the pipeline\n",
    "explainer = shap.Explainer(model_lr.predict, X_train,feature_names= X_train.columns.tolist())"
   ]
  },
  {
   "cell_type": "code",
   "execution_count": null,
   "metadata": {},
   "outputs": [],
   "source": [
    "X_test_trans= column_trans.transform(X_test)"
   ]
  },
  {
   "cell_type": "code",
   "execution_count": null,
   "metadata": {},
   "outputs": [],
   "source": [
    "X_test_trans"
   ]
  },
  {
   "cell_type": "code",
   "execution_count": null,
   "metadata": {},
   "outputs": [],
   "source": [
    "X_test_trans= column_trans.transform(X_test)"
   ]
  },
  {
   "cell_type": "code",
   "execution_count": null,
   "metadata": {},
   "outputs": [],
   "source": [
    "X_test_trans"
   ]
  },
  {
   "cell_type": "code",
   "execution_count": null,
   "metadata": {},
   "outputs": [],
   "source": [
    "import scipy.sparse\n",
    "X_test_trans_df= pd.DataFrame.sparse.from_spmatrix(X_test_trans)"
   ]
  },
  {
   "cell_type": "code",
   "execution_count": null,
   "metadata": {},
   "outputs": [],
   "source": [
    "X_test_trans_df.iloc[:,0:14]"
   ]
  },
  {
   "cell_type": "code",
   "execution_count": null,
   "metadata": {},
   "outputs": [],
   "source": [
    "shap_values = explainer(X_test_trans_df.iloc[:,0:14])"
   ]
  }
 ],
 "metadata": {
  "kernelspec": {
   "display_name": "Python 3",
   "language": "python",
   "name": "python3"
  },
  "language_info": {
   "codemirror_mode": {
    "name": "ipython",
    "version": 3
   },
   "file_extension": ".py",
   "mimetype": "text/x-python",
   "name": "python",
   "nbconvert_exporter": "python",
   "pygments_lexer": "ipython3",
   "version": "3.7.6"
  }
 },
 "nbformat": 4,
 "nbformat_minor": 4
}
