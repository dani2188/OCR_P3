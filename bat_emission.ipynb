{
 "cells": [
  {
   "cell_type": "code",
   "execution_count": 1,
   "metadata": {},
   "outputs": [],
   "source": [
    "# Importation des bibliothèques nécessaires\n",
    "import pandas as pd\n",
    "import numpy as np\n",
    "import matplotlib.pyplot as plt\n",
    "import seaborn as sns"
   ]
  },
  {
   "cell_type": "code",
   "execution_count": 2,
   "metadata": {},
   "outputs": [
    {
     "name": "stdout",
     "output_type": "stream",
     "text": [
      "The scikit-learn version is 1.0.2.\n"
     ]
    }
   ],
   "source": [
    "import sklearn\n",
    "print('The scikit-learn version is {}.'.format(sklearn.__version__))"
   ]
  },
  {
   "cell_type": "code",
   "execution_count": 3,
   "metadata": {},
   "outputs": [],
   "source": [
    "## On charge notre dataframe nettoyé:\n",
    "df= pd.read_csv('consoBat_df9.csv')"
   ]
  },
  {
   "cell_type": "code",
   "execution_count": 4,
   "metadata": {},
   "outputs": [
    {
     "data": {
      "text/html": [
       "<div>\n",
       "<style scoped>\n",
       "    .dataframe tbody tr th:only-of-type {\n",
       "        vertical-align: middle;\n",
       "    }\n",
       "\n",
       "    .dataframe tbody tr th {\n",
       "        vertical-align: top;\n",
       "    }\n",
       "\n",
       "    .dataframe thead th {\n",
       "        text-align: right;\n",
       "    }\n",
       "</style>\n",
       "<table border=\"1\" class=\"dataframe\">\n",
       "  <thead>\n",
       "    <tr style=\"text-align: right;\">\n",
       "      <th></th>\n",
       "      <th>OSEBuildingID</th>\n",
       "      <th>BuildingType</th>\n",
       "      <th>PrimaryPropertyType</th>\n",
       "      <th>PropertyName</th>\n",
       "      <th>Address</th>\n",
       "      <th>City</th>\n",
       "      <th>State</th>\n",
       "      <th>ZipCode</th>\n",
       "      <th>TaxParcelIdentificationNumber</th>\n",
       "      <th>CouncilDistrictCode</th>\n",
       "      <th>...</th>\n",
       "      <th>SourceEUIWN(kBtu/sf)</th>\n",
       "      <th>SiteEnergyUseWN(kBtu)</th>\n",
       "      <th>SteamUse(kBtu)</th>\n",
       "      <th>Electricity(kBtu)</th>\n",
       "      <th>NaturalGas(kBtu)</th>\n",
       "      <th>DefaultData</th>\n",
       "      <th>ComplianceStatus</th>\n",
       "      <th>TotalGHGEmissions</th>\n",
       "      <th>GHGEmissionsIntensity</th>\n",
       "      <th>BuildingAge</th>\n",
       "    </tr>\n",
       "  </thead>\n",
       "  <tbody>\n",
       "    <tr>\n",
       "      <th>0</th>\n",
       "      <td>1</td>\n",
       "      <td>NonResidential</td>\n",
       "      <td>Hotel</td>\n",
       "      <td>Mayflower park hotel</td>\n",
       "      <td>405 Olive way</td>\n",
       "      <td>Seattle</td>\n",
       "      <td>WA</td>\n",
       "      <td>98101.0</td>\n",
       "      <td>0659000030</td>\n",
       "      <td>7</td>\n",
       "      <td>...</td>\n",
       "      <td>189.000000</td>\n",
       "      <td>7456910.0</td>\n",
       "      <td>2003882.00</td>\n",
       "      <td>3946027.0</td>\n",
       "      <td>1276453.0</td>\n",
       "      <td>False</td>\n",
       "      <td>Compliant</td>\n",
       "      <td>249.98</td>\n",
       "      <td>2.83</td>\n",
       "      <td>89</td>\n",
       "    </tr>\n",
       "    <tr>\n",
       "      <th>1</th>\n",
       "      <td>2</td>\n",
       "      <td>NonResidential</td>\n",
       "      <td>Hotel</td>\n",
       "      <td>Paramount Hotel</td>\n",
       "      <td>724 Pine street</td>\n",
       "      <td>Seattle</td>\n",
       "      <td>WA</td>\n",
       "      <td>98101.0</td>\n",
       "      <td>0659000220</td>\n",
       "      <td>7</td>\n",
       "      <td>...</td>\n",
       "      <td>179.399994</td>\n",
       "      <td>8664479.0</td>\n",
       "      <td>0.00</td>\n",
       "      <td>3242851.0</td>\n",
       "      <td>5145082.0</td>\n",
       "      <td>False</td>\n",
       "      <td>Compliant</td>\n",
       "      <td>295.86</td>\n",
       "      <td>2.86</td>\n",
       "      <td>20</td>\n",
       "    </tr>\n",
       "    <tr>\n",
       "      <th>2</th>\n",
       "      <td>5</td>\n",
       "      <td>NonResidential</td>\n",
       "      <td>Hotel</td>\n",
       "      <td>HOTEL MAX</td>\n",
       "      <td>620 STEWART ST</td>\n",
       "      <td>Seattle</td>\n",
       "      <td>WA</td>\n",
       "      <td>98101.0</td>\n",
       "      <td>0659000640</td>\n",
       "      <td>7</td>\n",
       "      <td>...</td>\n",
       "      <td>224.000000</td>\n",
       "      <td>6946800.5</td>\n",
       "      <td>2214446.25</td>\n",
       "      <td>2768924.0</td>\n",
       "      <td>1811213.0</td>\n",
       "      <td>False</td>\n",
       "      <td>Compliant</td>\n",
       "      <td>286.43</td>\n",
       "      <td>4.67</td>\n",
       "      <td>90</td>\n",
       "    </tr>\n",
       "    <tr>\n",
       "      <th>3</th>\n",
       "      <td>10</td>\n",
       "      <td>NonResidential</td>\n",
       "      <td>Hotel</td>\n",
       "      <td>Camlin</td>\n",
       "      <td>1619 9th Avenue</td>\n",
       "      <td>Seattle</td>\n",
       "      <td>WA</td>\n",
       "      <td>98101.0</td>\n",
       "      <td>0660000825</td>\n",
       "      <td>7</td>\n",
       "      <td>...</td>\n",
       "      <td>154.699997</td>\n",
       "      <td>6062767.5</td>\n",
       "      <td>0.00</td>\n",
       "      <td>2811215.0</td>\n",
       "      <td>2947580.0</td>\n",
       "      <td>False</td>\n",
       "      <td>Compliant</td>\n",
       "      <td>176.14</td>\n",
       "      <td>2.12</td>\n",
       "      <td>90</td>\n",
       "    </tr>\n",
       "    <tr>\n",
       "      <th>4</th>\n",
       "      <td>11</td>\n",
       "      <td>NonResidential</td>\n",
       "      <td>Other</td>\n",
       "      <td>Paramount Theatre</td>\n",
       "      <td>911 Pine St</td>\n",
       "      <td>Seattle</td>\n",
       "      <td>WA</td>\n",
       "      <td>98101.0</td>\n",
       "      <td>0660000955</td>\n",
       "      <td>7</td>\n",
       "      <td>...</td>\n",
       "      <td>152.300003</td>\n",
       "      <td>7067881.5</td>\n",
       "      <td>2276286.50</td>\n",
       "      <td>3636655.0</td>\n",
       "      <td>385189.0</td>\n",
       "      <td>False</td>\n",
       "      <td>Compliant</td>\n",
       "      <td>221.51</td>\n",
       "      <td>2.16</td>\n",
       "      <td>90</td>\n",
       "    </tr>\n",
       "  </tbody>\n",
       "</table>\n",
       "<p>5 rows × 33 columns</p>\n",
       "</div>"
      ],
      "text/plain": [
       "   OSEBuildingID    BuildingType PrimaryPropertyType          PropertyName  \\\n",
       "0              1  NonResidential               Hotel  Mayflower park hotel   \n",
       "1              2  NonResidential               Hotel       Paramount Hotel   \n",
       "2              5  NonResidential               Hotel             HOTEL MAX   \n",
       "3             10  NonResidential               Hotel                Camlin   \n",
       "4             11  NonResidential               Other     Paramount Theatre   \n",
       "\n",
       "           Address     City State  ZipCode TaxParcelIdentificationNumber  \\\n",
       "0    405 Olive way  Seattle    WA  98101.0                    0659000030   \n",
       "1  724 Pine street  Seattle    WA  98101.0                    0659000220   \n",
       "2   620 STEWART ST  Seattle    WA  98101.0                    0659000640   \n",
       "3  1619 9th Avenue  Seattle    WA  98101.0                    0660000825   \n",
       "4      911 Pine St  Seattle    WA  98101.0                    0660000955   \n",
       "\n",
       "   CouncilDistrictCode  ... SourceEUIWN(kBtu/sf)  SiteEnergyUseWN(kBtu)  \\\n",
       "0                    7  ...           189.000000              7456910.0   \n",
       "1                    7  ...           179.399994              8664479.0   \n",
       "2                    7  ...           224.000000              6946800.5   \n",
       "3                    7  ...           154.699997              6062767.5   \n",
       "4                    7  ...           152.300003              7067881.5   \n",
       "\n",
       "   SteamUse(kBtu)  Electricity(kBtu)  NaturalGas(kBtu)  DefaultData  \\\n",
       "0      2003882.00          3946027.0         1276453.0        False   \n",
       "1            0.00          3242851.0         5145082.0        False   \n",
       "2      2214446.25          2768924.0         1811213.0        False   \n",
       "3            0.00          2811215.0         2947580.0        False   \n",
       "4      2276286.50          3636655.0          385189.0        False   \n",
       "\n",
       "   ComplianceStatus  TotalGHGEmissions GHGEmissionsIntensity BuildingAge  \n",
       "0         Compliant             249.98                  2.83          89  \n",
       "1         Compliant             295.86                  2.86          20  \n",
       "2         Compliant             286.43                  4.67          90  \n",
       "3         Compliant             176.14                  2.12          90  \n",
       "4         Compliant             221.51                  2.16          90  \n",
       "\n",
       "[5 rows x 33 columns]"
      ]
     },
     "execution_count": 4,
     "metadata": {},
     "output_type": "execute_result"
    }
   ],
   "source": [
    "df.head()"
   ]
  },
  {
   "cell_type": "code",
   "execution_count": 5,
   "metadata": {},
   "outputs": [
    {
     "name": "stdout",
     "output_type": "stream",
     "text": [
      "<class 'pandas.core.frame.DataFrame'>\n",
      "RangeIndex: 1358 entries, 0 to 1357\n",
      "Data columns (total 33 columns):\n",
      " #   Column                         Non-Null Count  Dtype  \n",
      "---  ------                         --------------  -----  \n",
      " 0   OSEBuildingID                  1358 non-null   int64  \n",
      " 1   BuildingType                   1358 non-null   object \n",
      " 2   PrimaryPropertyType            1358 non-null   object \n",
      " 3   PropertyName                   1358 non-null   object \n",
      " 4   Address                        1358 non-null   object \n",
      " 5   City                           1358 non-null   object \n",
      " 6   State                          1358 non-null   object \n",
      " 7   ZipCode                        1358 non-null   float64\n",
      " 8   TaxParcelIdentificationNumber  1358 non-null   object \n",
      " 9   CouncilDistrictCode            1358 non-null   int64  \n",
      " 10  Neighborhood                   1358 non-null   object \n",
      " 11  Latitude                       1358 non-null   float64\n",
      " 12  Longitude                      1358 non-null   float64\n",
      " 13  NumberofBuildings              1358 non-null   float64\n",
      " 14  NumberofFloors                 1358 non-null   int64  \n",
      " 15  PropertyGFATotal               1358 non-null   int64  \n",
      " 16  PropertyGFAParking             1358 non-null   int64  \n",
      " 17  PropertyGFABuilding(s)         1358 non-null   int64  \n",
      " 18  ListOfAllPropertyUseTypes      1358 non-null   object \n",
      " 19  LargestPropertyUseType         1358 non-null   object \n",
      " 20  LargestPropertyUseTypeGFA      1358 non-null   float64\n",
      " 21  ENERGYSTARScore                896 non-null    float64\n",
      " 22  SiteEUIWN(kBtu/sf)             1358 non-null   float64\n",
      " 23  SourceEUIWN(kBtu/sf)           1358 non-null   float64\n",
      " 24  SiteEnergyUseWN(kBtu)          1358 non-null   float64\n",
      " 25  SteamUse(kBtu)                 1358 non-null   float64\n",
      " 26  Electricity(kBtu)              1358 non-null   float64\n",
      " 27  NaturalGas(kBtu)               1358 non-null   float64\n",
      " 28  DefaultData                    1358 non-null   bool   \n",
      " 29  ComplianceStatus               1358 non-null   object \n",
      " 30  TotalGHGEmissions              1358 non-null   float64\n",
      " 31  GHGEmissionsIntensity          1358 non-null   float64\n",
      " 32  BuildingAge                    1358 non-null   int64  \n",
      "dtypes: bool(1), float64(14), int64(7), object(11)\n",
      "memory usage: 341.0+ KB\n"
     ]
    }
   ],
   "source": [
    "df.info()"
   ]
  },
  {
   "cell_type": "code",
   "execution_count": 6,
   "metadata": {},
   "outputs": [],
   "source": [
    "# On sépare les variables numériques des variables catégorielles:\n",
    "var_num= df.select_dtypes(include=['int64','float64'])\n",
    "var_categ= df.select_dtypes(exclude=['int64','float64','bool']) "
   ]
  },
  {
   "cell_type": "code",
   "execution_count": 7,
   "metadata": {},
   "outputs": [
    {
     "data": {
      "text/html": [
       "<div>\n",
       "<style scoped>\n",
       "    .dataframe tbody tr th:only-of-type {\n",
       "        vertical-align: middle;\n",
       "    }\n",
       "\n",
       "    .dataframe tbody tr th {\n",
       "        vertical-align: top;\n",
       "    }\n",
       "\n",
       "    .dataframe thead th {\n",
       "        text-align: right;\n",
       "    }\n",
       "</style>\n",
       "<table border=\"1\" class=\"dataframe\">\n",
       "  <thead>\n",
       "    <tr style=\"text-align: right;\">\n",
       "      <th></th>\n",
       "      <th>BuildingType</th>\n",
       "      <th>PrimaryPropertyType</th>\n",
       "      <th>PropertyName</th>\n",
       "      <th>Address</th>\n",
       "      <th>City</th>\n",
       "      <th>State</th>\n",
       "      <th>TaxParcelIdentificationNumber</th>\n",
       "      <th>Neighborhood</th>\n",
       "      <th>ListOfAllPropertyUseTypes</th>\n",
       "      <th>LargestPropertyUseType</th>\n",
       "      <th>ComplianceStatus</th>\n",
       "    </tr>\n",
       "  </thead>\n",
       "  <tbody>\n",
       "    <tr>\n",
       "      <th>0</th>\n",
       "      <td>NonResidential</td>\n",
       "      <td>Hotel</td>\n",
       "      <td>Mayflower park hotel</td>\n",
       "      <td>405 Olive way</td>\n",
       "      <td>Seattle</td>\n",
       "      <td>WA</td>\n",
       "      <td>0659000030</td>\n",
       "      <td>DOWNTOWN</td>\n",
       "      <td>Hotel</td>\n",
       "      <td>Hotel</td>\n",
       "      <td>Compliant</td>\n",
       "    </tr>\n",
       "    <tr>\n",
       "      <th>1</th>\n",
       "      <td>NonResidential</td>\n",
       "      <td>Hotel</td>\n",
       "      <td>Paramount Hotel</td>\n",
       "      <td>724 Pine street</td>\n",
       "      <td>Seattle</td>\n",
       "      <td>WA</td>\n",
       "      <td>0659000220</td>\n",
       "      <td>DOWNTOWN</td>\n",
       "      <td>Hotel, Parking, Restaurant</td>\n",
       "      <td>Hotel</td>\n",
       "      <td>Compliant</td>\n",
       "    </tr>\n",
       "    <tr>\n",
       "      <th>2</th>\n",
       "      <td>NonResidential</td>\n",
       "      <td>Hotel</td>\n",
       "      <td>HOTEL MAX</td>\n",
       "      <td>620 STEWART ST</td>\n",
       "      <td>Seattle</td>\n",
       "      <td>WA</td>\n",
       "      <td>0659000640</td>\n",
       "      <td>DOWNTOWN</td>\n",
       "      <td>Hotel</td>\n",
       "      <td>Hotel</td>\n",
       "      <td>Compliant</td>\n",
       "    </tr>\n",
       "    <tr>\n",
       "      <th>3</th>\n",
       "      <td>NonResidential</td>\n",
       "      <td>Hotel</td>\n",
       "      <td>Camlin</td>\n",
       "      <td>1619 9th Avenue</td>\n",
       "      <td>Seattle</td>\n",
       "      <td>WA</td>\n",
       "      <td>0660000825</td>\n",
       "      <td>DOWNTOWN</td>\n",
       "      <td>Hotel</td>\n",
       "      <td>Hotel</td>\n",
       "      <td>Compliant</td>\n",
       "    </tr>\n",
       "    <tr>\n",
       "      <th>4</th>\n",
       "      <td>NonResidential</td>\n",
       "      <td>Other</td>\n",
       "      <td>Paramount Theatre</td>\n",
       "      <td>911 Pine St</td>\n",
       "      <td>Seattle</td>\n",
       "      <td>WA</td>\n",
       "      <td>0660000955</td>\n",
       "      <td>DOWNTOWN</td>\n",
       "      <td>Other - Entertainment/Public Assembly</td>\n",
       "      <td>Other - Entertainment/Public Assembly</td>\n",
       "      <td>Compliant</td>\n",
       "    </tr>\n",
       "  </tbody>\n",
       "</table>\n",
       "</div>"
      ],
      "text/plain": [
       "     BuildingType PrimaryPropertyType          PropertyName          Address  \\\n",
       "0  NonResidential               Hotel  Mayflower park hotel    405 Olive way   \n",
       "1  NonResidential               Hotel       Paramount Hotel  724 Pine street   \n",
       "2  NonResidential               Hotel             HOTEL MAX   620 STEWART ST   \n",
       "3  NonResidential               Hotel                Camlin  1619 9th Avenue   \n",
       "4  NonResidential               Other     Paramount Theatre      911 Pine St   \n",
       "\n",
       "      City State TaxParcelIdentificationNumber Neighborhood  \\\n",
       "0  Seattle    WA                    0659000030     DOWNTOWN   \n",
       "1  Seattle    WA                    0659000220     DOWNTOWN   \n",
       "2  Seattle    WA                    0659000640     DOWNTOWN   \n",
       "3  Seattle    WA                    0660000825     DOWNTOWN   \n",
       "4  Seattle    WA                    0660000955     DOWNTOWN   \n",
       "\n",
       "               ListOfAllPropertyUseTypes  \\\n",
       "0                                  Hotel   \n",
       "1             Hotel, Parking, Restaurant   \n",
       "2                                  Hotel   \n",
       "3                                  Hotel   \n",
       "4  Other - Entertainment/Public Assembly   \n",
       "\n",
       "                  LargestPropertyUseType ComplianceStatus  \n",
       "0                                  Hotel        Compliant  \n",
       "1                                  Hotel        Compliant  \n",
       "2                                  Hotel        Compliant  \n",
       "3                                  Hotel        Compliant  \n",
       "4  Other - Entertainment/Public Assembly        Compliant  "
      ]
     },
     "execution_count": 7,
     "metadata": {},
     "output_type": "execute_result"
    }
   ],
   "source": [
    "var_categ.head()"
   ]
  },
  {
   "cell_type": "code",
   "execution_count": 8,
   "metadata": {},
   "outputs": [
    {
     "data": {
      "text/plain": [
       "BuildingType                        5\n",
       "PrimaryPropertyType                21\n",
       "PropertyName                     1355\n",
       "Address                          1342\n",
       "City                                1\n",
       "State                               1\n",
       "TaxParcelIdentificationNumber    1303\n",
       "Neighborhood                       18\n",
       "ListOfAllPropertyUseTypes         288\n",
       "LargestPropertyUseType             50\n",
       "ComplianceStatus                    4\n",
       "dtype: int64"
      ]
     },
     "execution_count": 8,
     "metadata": {},
     "output_type": "execute_result"
    }
   ],
   "source": [
    "var_categ.nunique()"
   ]
  },
  {
   "cell_type": "markdown",
   "metadata": {},
   "source": [
    "On écarte les variables catégorielles qui représentent des constantes:"
   ]
  },
  {
   "cell_type": "code",
   "execution_count": 9,
   "metadata": {},
   "outputs": [],
   "source": [
    "var_categ= var_categ.drop(['BuildingType','City','State'],axis=1)"
   ]
  },
  {
   "cell_type": "code",
   "execution_count": 10,
   "metadata": {},
   "outputs": [
    {
     "data": {
      "text/html": [
       "<div>\n",
       "<style scoped>\n",
       "    .dataframe tbody tr th:only-of-type {\n",
       "        vertical-align: middle;\n",
       "    }\n",
       "\n",
       "    .dataframe tbody tr th {\n",
       "        vertical-align: top;\n",
       "    }\n",
       "\n",
       "    .dataframe thead th {\n",
       "        text-align: right;\n",
       "    }\n",
       "</style>\n",
       "<table border=\"1\" class=\"dataframe\">\n",
       "  <thead>\n",
       "    <tr style=\"text-align: right;\">\n",
       "      <th></th>\n",
       "      <th>PrimaryPropertyType</th>\n",
       "      <th>PropertyName</th>\n",
       "      <th>Address</th>\n",
       "      <th>TaxParcelIdentificationNumber</th>\n",
       "      <th>Neighborhood</th>\n",
       "      <th>ListOfAllPropertyUseTypes</th>\n",
       "      <th>LargestPropertyUseType</th>\n",
       "      <th>ComplianceStatus</th>\n",
       "    </tr>\n",
       "  </thead>\n",
       "  <tbody>\n",
       "    <tr>\n",
       "      <th>0</th>\n",
       "      <td>Hotel</td>\n",
       "      <td>Mayflower park hotel</td>\n",
       "      <td>405 Olive way</td>\n",
       "      <td>0659000030</td>\n",
       "      <td>DOWNTOWN</td>\n",
       "      <td>Hotel</td>\n",
       "      <td>Hotel</td>\n",
       "      <td>Compliant</td>\n",
       "    </tr>\n",
       "    <tr>\n",
       "      <th>1</th>\n",
       "      <td>Hotel</td>\n",
       "      <td>Paramount Hotel</td>\n",
       "      <td>724 Pine street</td>\n",
       "      <td>0659000220</td>\n",
       "      <td>DOWNTOWN</td>\n",
       "      <td>Hotel, Parking, Restaurant</td>\n",
       "      <td>Hotel</td>\n",
       "      <td>Compliant</td>\n",
       "    </tr>\n",
       "    <tr>\n",
       "      <th>2</th>\n",
       "      <td>Hotel</td>\n",
       "      <td>HOTEL MAX</td>\n",
       "      <td>620 STEWART ST</td>\n",
       "      <td>0659000640</td>\n",
       "      <td>DOWNTOWN</td>\n",
       "      <td>Hotel</td>\n",
       "      <td>Hotel</td>\n",
       "      <td>Compliant</td>\n",
       "    </tr>\n",
       "    <tr>\n",
       "      <th>3</th>\n",
       "      <td>Hotel</td>\n",
       "      <td>Camlin</td>\n",
       "      <td>1619 9th Avenue</td>\n",
       "      <td>0660000825</td>\n",
       "      <td>DOWNTOWN</td>\n",
       "      <td>Hotel</td>\n",
       "      <td>Hotel</td>\n",
       "      <td>Compliant</td>\n",
       "    </tr>\n",
       "    <tr>\n",
       "      <th>4</th>\n",
       "      <td>Other</td>\n",
       "      <td>Paramount Theatre</td>\n",
       "      <td>911 Pine St</td>\n",
       "      <td>0660000955</td>\n",
       "      <td>DOWNTOWN</td>\n",
       "      <td>Other - Entertainment/Public Assembly</td>\n",
       "      <td>Other - Entertainment/Public Assembly</td>\n",
       "      <td>Compliant</td>\n",
       "    </tr>\n",
       "  </tbody>\n",
       "</table>\n",
       "</div>"
      ],
      "text/plain": [
       "  PrimaryPropertyType          PropertyName          Address  \\\n",
       "0               Hotel  Mayflower park hotel    405 Olive way   \n",
       "1               Hotel       Paramount Hotel  724 Pine street   \n",
       "2               Hotel             HOTEL MAX   620 STEWART ST   \n",
       "3               Hotel                Camlin  1619 9th Avenue   \n",
       "4               Other     Paramount Theatre      911 Pine St   \n",
       "\n",
       "  TaxParcelIdentificationNumber Neighborhood  \\\n",
       "0                    0659000030     DOWNTOWN   \n",
       "1                    0659000220     DOWNTOWN   \n",
       "2                    0659000640     DOWNTOWN   \n",
       "3                    0660000825     DOWNTOWN   \n",
       "4                    0660000955     DOWNTOWN   \n",
       "\n",
       "               ListOfAllPropertyUseTypes  \\\n",
       "0                                  Hotel   \n",
       "1             Hotel, Parking, Restaurant   \n",
       "2                                  Hotel   \n",
       "3                                  Hotel   \n",
       "4  Other - Entertainment/Public Assembly   \n",
       "\n",
       "                  LargestPropertyUseType ComplianceStatus  \n",
       "0                                  Hotel        Compliant  \n",
       "1                                  Hotel        Compliant  \n",
       "2                                  Hotel        Compliant  \n",
       "3                                  Hotel        Compliant  \n",
       "4  Other - Entertainment/Public Assembly        Compliant  "
      ]
     },
     "execution_count": 10,
     "metadata": {},
     "output_type": "execute_result"
    }
   ],
   "source": [
    "var_categ.head()"
   ]
  },
  {
   "cell_type": "code",
   "execution_count": 11,
   "metadata": {},
   "outputs": [],
   "source": [
    "#Sélection des variables catégorielles pertinentes pour notre modèle:\n",
    "var_categ= var_categ.drop(['PropertyName','Address','TaxParcelIdentificationNumber','ListOfAllPropertyUseTypes'],axis=1)"
   ]
  },
  {
   "cell_type": "code",
   "execution_count": 12,
   "metadata": {},
   "outputs": [
    {
     "data": {
      "text/plain": [
       "['PrimaryPropertyType',\n",
       " 'Neighborhood',\n",
       " 'LargestPropertyUseType',\n",
       " 'ComplianceStatus']"
      ]
     },
     "execution_count": 12,
     "metadata": {},
     "output_type": "execute_result"
    }
   ],
   "source": [
    "var_categ.columns.tolist()"
   ]
  },
  {
   "cell_type": "markdown",
   "metadata": {},
   "source": [
    "On s'intéresse maintenant aux variables numériques:"
   ]
  },
  {
   "cell_type": "code",
   "execution_count": 13,
   "metadata": {},
   "outputs": [
    {
     "data": {
      "text/plain": [
       "Index(['OSEBuildingID', 'ZipCode', 'CouncilDistrictCode', 'Latitude',\n",
       "       'Longitude', 'NumberofBuildings', 'NumberofFloors', 'PropertyGFATotal',\n",
       "       'PropertyGFAParking', 'PropertyGFABuilding(s)',\n",
       "       'LargestPropertyUseTypeGFA', 'ENERGYSTARScore', 'SiteEUIWN(kBtu/sf)',\n",
       "       'SourceEUIWN(kBtu/sf)', 'SiteEnergyUseWN(kBtu)', 'SteamUse(kBtu)',\n",
       "       'Electricity(kBtu)', 'NaturalGas(kBtu)', 'TotalGHGEmissions',\n",
       "       'GHGEmissionsIntensity', 'BuildingAge'],\n",
       "      dtype='object')"
      ]
     },
     "execution_count": 13,
     "metadata": {},
     "output_type": "execute_result"
    }
   ],
   "source": [
    "var_num.columns"
   ]
  },
  {
   "cell_type": "markdown",
   "metadata": {},
   "source": [
    "Dans cette partie de modélisation, on séléctionne la variables target: (SiteEnergyUseWN(kBtu) au lieu de (SiteEUIWN(kBtu/sf)) qui prend pas en compte la surface du site.  "
   ]
  },
  {
   "cell_type": "code",
   "execution_count": 14,
   "metadata": {},
   "outputs": [],
   "source": [
    "var_num= var_num.drop(['SiteEUIWN(kBtu/sf)'],axis=1)"
   ]
  },
  {
   "cell_type": "markdown",
   "metadata": {},
   "source": [
    "On écarte les variables non pertinentes pour notre modèle:"
   ]
  },
  {
   "cell_type": "code",
   "execution_count": 15,
   "metadata": {},
   "outputs": [],
   "source": [
    "var_num= var_num.drop(['OSEBuildingID','ZipCode','CouncilDistrictCode','Latitude','Longitude'],axis=1)"
   ]
  },
  {
   "cell_type": "markdown",
   "metadata": {},
   "source": [
    "On écarte les variables (SteamUse(kBtu)), (Electricity(kBtu)),(NaturalGas(kBtu)) qui représentent des relevés et ne doivent pas être pris en compte par souci de data leakage.\n",
    "\n",
    "On écarte également les 2 variables, (SourceEUIWN(kBtu/sf)),(GHGEmissionsIntensity), qui sont équivalentes aux variables target divisé par une unité de surface."
   ]
  },
  {
   "cell_type": "code",
   "execution_count": 16,
   "metadata": {},
   "outputs": [],
   "source": [
    "var_num= var_num.drop(['SteamUse(kBtu)','Electricity(kBtu)','NaturalGas(kBtu)','SourceEUIWN(kBtu/sf)','GHGEmissionsIntensity'],axis=1)"
   ]
  },
  {
   "cell_type": "code",
   "execution_count": 17,
   "metadata": {},
   "outputs": [
    {
     "data": {
      "text/plain": [
       "['NumberofBuildings',\n",
       " 'NumberofFloors',\n",
       " 'PropertyGFATotal',\n",
       " 'PropertyGFAParking',\n",
       " 'PropertyGFABuilding(s)',\n",
       " 'LargestPropertyUseTypeGFA',\n",
       " 'ENERGYSTARScore',\n",
       " 'SiteEnergyUseWN(kBtu)',\n",
       " 'TotalGHGEmissions',\n",
       " 'BuildingAge']"
      ]
     },
     "execution_count": 17,
     "metadata": {},
     "output_type": "execute_result"
    }
   ],
   "source": [
    "var_num.columns.tolist()"
   ]
  },
  {
   "cell_type": "code",
   "execution_count": 18,
   "metadata": {},
   "outputs": [],
   "source": [
    "df_filter= pd.concat([var_categ, var_num], axis=1)"
   ]
  },
  {
   "cell_type": "code",
   "execution_count": 19,
   "metadata": {},
   "outputs": [
    {
     "data": {
      "text/html": [
       "<div>\n",
       "<style scoped>\n",
       "    .dataframe tbody tr th:only-of-type {\n",
       "        vertical-align: middle;\n",
       "    }\n",
       "\n",
       "    .dataframe tbody tr th {\n",
       "        vertical-align: top;\n",
       "    }\n",
       "\n",
       "    .dataframe thead th {\n",
       "        text-align: right;\n",
       "    }\n",
       "</style>\n",
       "<table border=\"1\" class=\"dataframe\">\n",
       "  <thead>\n",
       "    <tr style=\"text-align: right;\">\n",
       "      <th></th>\n",
       "      <th>PrimaryPropertyType</th>\n",
       "      <th>Neighborhood</th>\n",
       "      <th>LargestPropertyUseType</th>\n",
       "      <th>ComplianceStatus</th>\n",
       "      <th>NumberofBuildings</th>\n",
       "      <th>NumberofFloors</th>\n",
       "      <th>PropertyGFATotal</th>\n",
       "      <th>PropertyGFAParking</th>\n",
       "      <th>PropertyGFABuilding(s)</th>\n",
       "      <th>LargestPropertyUseTypeGFA</th>\n",
       "      <th>ENERGYSTARScore</th>\n",
       "      <th>SiteEnergyUseWN(kBtu)</th>\n",
       "      <th>TotalGHGEmissions</th>\n",
       "      <th>BuildingAge</th>\n",
       "    </tr>\n",
       "  </thead>\n",
       "  <tbody>\n",
       "    <tr>\n",
       "      <th>0</th>\n",
       "      <td>Hotel</td>\n",
       "      <td>DOWNTOWN</td>\n",
       "      <td>Hotel</td>\n",
       "      <td>Compliant</td>\n",
       "      <td>1.0</td>\n",
       "      <td>12</td>\n",
       "      <td>88434</td>\n",
       "      <td>0</td>\n",
       "      <td>88434</td>\n",
       "      <td>88434.0</td>\n",
       "      <td>60.0</td>\n",
       "      <td>7456910.0</td>\n",
       "      <td>249.98</td>\n",
       "      <td>89</td>\n",
       "    </tr>\n",
       "    <tr>\n",
       "      <th>1</th>\n",
       "      <td>Hotel</td>\n",
       "      <td>DOWNTOWN</td>\n",
       "      <td>Hotel</td>\n",
       "      <td>Compliant</td>\n",
       "      <td>1.0</td>\n",
       "      <td>11</td>\n",
       "      <td>103566</td>\n",
       "      <td>15064</td>\n",
       "      <td>88502</td>\n",
       "      <td>83880.0</td>\n",
       "      <td>61.0</td>\n",
       "      <td>8664479.0</td>\n",
       "      <td>295.86</td>\n",
       "      <td>20</td>\n",
       "    </tr>\n",
       "    <tr>\n",
       "      <th>2</th>\n",
       "      <td>Hotel</td>\n",
       "      <td>DOWNTOWN</td>\n",
       "      <td>Hotel</td>\n",
       "      <td>Compliant</td>\n",
       "      <td>1.0</td>\n",
       "      <td>10</td>\n",
       "      <td>61320</td>\n",
       "      <td>0</td>\n",
       "      <td>61320</td>\n",
       "      <td>61320.0</td>\n",
       "      <td>56.0</td>\n",
       "      <td>6946800.5</td>\n",
       "      <td>286.43</td>\n",
       "      <td>90</td>\n",
       "    </tr>\n",
       "    <tr>\n",
       "      <th>3</th>\n",
       "      <td>Hotel</td>\n",
       "      <td>DOWNTOWN</td>\n",
       "      <td>Hotel</td>\n",
       "      <td>Compliant</td>\n",
       "      <td>1.0</td>\n",
       "      <td>11</td>\n",
       "      <td>83008</td>\n",
       "      <td>0</td>\n",
       "      <td>83008</td>\n",
       "      <td>81352.0</td>\n",
       "      <td>27.0</td>\n",
       "      <td>6062767.5</td>\n",
       "      <td>176.14</td>\n",
       "      <td>90</td>\n",
       "    </tr>\n",
       "    <tr>\n",
       "      <th>4</th>\n",
       "      <td>Other</td>\n",
       "      <td>DOWNTOWN</td>\n",
       "      <td>Other - Entertainment/Public Assembly</td>\n",
       "      <td>Compliant</td>\n",
       "      <td>1.0</td>\n",
       "      <td>8</td>\n",
       "      <td>102761</td>\n",
       "      <td>0</td>\n",
       "      <td>102761</td>\n",
       "      <td>102761.0</td>\n",
       "      <td>NaN</td>\n",
       "      <td>7067881.5</td>\n",
       "      <td>221.51</td>\n",
       "      <td>90</td>\n",
       "    </tr>\n",
       "  </tbody>\n",
       "</table>\n",
       "</div>"
      ],
      "text/plain": [
       "  PrimaryPropertyType Neighborhood                 LargestPropertyUseType  \\\n",
       "0               Hotel     DOWNTOWN                                  Hotel   \n",
       "1               Hotel     DOWNTOWN                                  Hotel   \n",
       "2               Hotel     DOWNTOWN                                  Hotel   \n",
       "3               Hotel     DOWNTOWN                                  Hotel   \n",
       "4               Other     DOWNTOWN  Other - Entertainment/Public Assembly   \n",
       "\n",
       "  ComplianceStatus  NumberofBuildings  NumberofFloors  PropertyGFATotal  \\\n",
       "0        Compliant                1.0              12             88434   \n",
       "1        Compliant                1.0              11            103566   \n",
       "2        Compliant                1.0              10             61320   \n",
       "3        Compliant                1.0              11             83008   \n",
       "4        Compliant                1.0               8            102761   \n",
       "\n",
       "   PropertyGFAParking  PropertyGFABuilding(s)  LargestPropertyUseTypeGFA  \\\n",
       "0                   0                   88434                    88434.0   \n",
       "1               15064                   88502                    83880.0   \n",
       "2                   0                   61320                    61320.0   \n",
       "3                   0                   83008                    81352.0   \n",
       "4                   0                  102761                   102761.0   \n",
       "\n",
       "   ENERGYSTARScore  SiteEnergyUseWN(kBtu)  TotalGHGEmissions  BuildingAge  \n",
       "0             60.0              7456910.0             249.98           89  \n",
       "1             61.0              8664479.0             295.86           20  \n",
       "2             56.0              6946800.5             286.43           90  \n",
       "3             27.0              6062767.5             176.14           90  \n",
       "4              NaN              7067881.5             221.51           90  "
      ]
     },
     "execution_count": 19,
     "metadata": {},
     "output_type": "execute_result"
    }
   ],
   "source": [
    "df_filter.head()"
   ]
  },
  {
   "cell_type": "code",
   "execution_count": 20,
   "metadata": {},
   "outputs": [
    {
     "data": {
      "text/plain": [
       "(1358, 14)"
      ]
     },
     "execution_count": 20,
     "metadata": {},
     "output_type": "execute_result"
    }
   ],
   "source": [
    "df_filter.shape"
   ]
  },
  {
   "cell_type": "code",
   "execution_count": 21,
   "metadata": {},
   "outputs": [
    {
     "data": {
      "text/plain": [
       "array(['Hotel', 'Other', 'Mixed Use Property', 'K-12 School',\n",
       "       'Small- and Mid-Sized Office', 'Self-Storage Facility',\n",
       "       'Large Office', 'Retail Store', 'University', 'Residence Hall',\n",
       "       'Warehouse', 'Distribution Center', 'Senior Care Community',\n",
       "       'Worship Facility', 'Medical Office',\n",
       "       'Supermarket / Grocery Store', 'Refrigerated Warehouse',\n",
       "       'Low-Rise Multifamily', 'Restaurant', 'Laboratory', 'Hospital'],\n",
       "      dtype=object)"
      ]
     },
     "execution_count": 21,
     "metadata": {},
     "output_type": "execute_result"
    }
   ],
   "source": [
    "df_filter.PrimaryPropertyType.unique()"
   ]
  },
  {
   "cell_type": "markdown",
   "metadata": {},
   "source": [
    "On prépare le feature (PrimaryPropertyType) pour l'encodage OneHotEncoder:"
   ]
  },
  {
   "cell_type": "code",
   "execution_count": 22,
   "metadata": {},
   "outputs": [],
   "source": [
    "def PropertyType_preprocessing(text):\n",
    "    \"\"\"\n",
    "    Function to Preprocess the features PrimaryPropertyType .\n",
    "    \"\"\"\n",
    "    text= text.lower()  # converts all uppercase characters to lowercase\n",
    "    text = text.replace(\"/\", \"\")    # Remove slash\n",
    "    text = text.replace(\"-\", \"\")    # Remove dash\n",
    "    text = text.replace(\" \", \"\")    # Remove whitespaces\n",
    "    text = text.replace(\"12\", \"twelve\")\n",
    "    return text\n",
    "\n",
    "df_filter['PrimaryPropertyType'] = df_filter['PrimaryPropertyType'].apply(lambda x: PropertyType_preprocessing(x))"
   ]
  },
  {
   "cell_type": "code",
   "execution_count": 23,
   "metadata": {},
   "outputs": [
    {
     "data": {
      "text/plain": [
       "array(['hotel', 'other', 'mixeduseproperty', 'ktwelveschool',\n",
       "       'smallandmidsizedoffice', 'selfstoragefacility', 'largeoffice',\n",
       "       'retailstore', 'university', 'residencehall', 'warehouse',\n",
       "       'distributioncenter', 'seniorcarecommunity', 'worshipfacility',\n",
       "       'medicaloffice', 'supermarketgrocerystore',\n",
       "       'refrigeratedwarehouse', 'lowrisemultifamily', 'restaurant',\n",
       "       'laboratory', 'hospital'], dtype=object)"
      ]
     },
     "execution_count": 23,
     "metadata": {},
     "output_type": "execute_result"
    }
   ],
   "source": [
    "df_filter.PrimaryPropertyType.unique()"
   ]
  },
  {
   "cell_type": "code",
   "execution_count": 24,
   "metadata": {},
   "outputs": [
    {
     "name": "stdout",
     "output_type": "stream",
     "text": [
      "<class 'pandas.core.frame.DataFrame'>\n",
      "RangeIndex: 1358 entries, 0 to 1357\n",
      "Data columns (total 14 columns):\n",
      " #   Column                     Non-Null Count  Dtype  \n",
      "---  ------                     --------------  -----  \n",
      " 0   PrimaryPropertyType        1358 non-null   object \n",
      " 1   Neighborhood               1358 non-null   object \n",
      " 2   LargestPropertyUseType     1358 non-null   object \n",
      " 3   ComplianceStatus           1358 non-null   object \n",
      " 4   NumberofBuildings          1358 non-null   float64\n",
      " 5   NumberofFloors             1358 non-null   int64  \n",
      " 6   PropertyGFATotal           1358 non-null   int64  \n",
      " 7   PropertyGFAParking         1358 non-null   int64  \n",
      " 8   PropertyGFABuilding(s)     1358 non-null   int64  \n",
      " 9   LargestPropertyUseTypeGFA  1358 non-null   float64\n",
      " 10  ENERGYSTARScore            896 non-null    float64\n",
      " 11  SiteEnergyUseWN(kBtu)      1358 non-null   float64\n",
      " 12  TotalGHGEmissions          1358 non-null   float64\n",
      " 13  BuildingAge                1358 non-null   int64  \n",
      "dtypes: float64(5), int64(5), object(4)\n",
      "memory usage: 148.7+ KB\n"
     ]
    }
   ],
   "source": [
    "df_filter.info()"
   ]
  },
  {
   "cell_type": "code",
   "execution_count": 25,
   "metadata": {},
   "outputs": [],
   "source": [
    "# on charge le df_filter dans un fichier csv:\n",
    "df_filter.to_csv('consoBat_df_filter.csv',index=False)"
   ]
  },
  {
   "cell_type": "markdown",
   "metadata": {},
   "source": [
    "### Prédiction de la variable d'émission: (TotalGHGEmissions), sans le feature (ENERGYSTARScore)"
   ]
  },
  {
   "cell_type": "markdown",
   "metadata": {},
   "source": [
    "#### Préparation du preprocessor:"
   ]
  },
  {
   "cell_type": "code",
   "execution_count": 26,
   "metadata": {},
   "outputs": [],
   "source": [
    "# Importation des bibliothèques nécessaires:\n",
    "from sklearn.preprocessing import StandardScaler, OneHotEncoder\n",
    "from sklearn.model_selection import GridSearchCV, cross_val_score\n",
    "from sklearn.pipeline import make_pipeline\n",
    "from sklearn.model_selection import train_test_split\n",
    "from sklearn.compose import make_column_transformer\n",
    "from sklearn.model_selection import GridSearchCV\n",
    "from sklearn.metrics import *\n",
    "from sklearn.impute import SimpleImputer\n",
    "from sklearn.linear_model import LinearRegression, Ridge, Lasso,  ElasticNet\n",
    "from sklearn.svm import SVR\n",
    "from sklearn.ensemble import RandomForestRegressor, AdaBoostRegressor\n",
    "from sklearn.tree import DecisionTreeRegressor\n",
    "import warnings\n",
    "warnings.filterwarnings(\"ignore\")"
   ]
  },
  {
   "cell_type": "code",
   "execution_count": 27,
   "metadata": {},
   "outputs": [
    {
     "data": {
      "text/plain": [
       "14"
      ]
     },
     "execution_count": 27,
     "metadata": {},
     "output_type": "execute_result"
    }
   ],
   "source": [
    "len(df_filter.columns)"
   ]
  },
  {
   "cell_type": "markdown",
   "metadata": {},
   "source": [
    "##### On définit les variables X et y:"
   ]
  },
  {
   "cell_type": "code",
   "execution_count": 28,
   "metadata": {},
   "outputs": [],
   "source": [
    "# On écarte les 2 variables de prédictions et la variable (ENERGYSTARScore) avec les données manquantes:\n",
    "X=df_filter.drop(['TotalGHGEmissions','SiteEnergyUseWN(kBtu)','ENERGYSTARScore'],axis=1)"
   ]
  },
  {
   "cell_type": "code",
   "execution_count": 29,
   "metadata": {},
   "outputs": [
    {
     "data": {
      "text/plain": [
       "11"
      ]
     },
     "execution_count": 29,
     "metadata": {},
     "output_type": "execute_result"
    }
   ],
   "source": [
    "len(X.columns)"
   ]
  },
  {
   "cell_type": "code",
   "execution_count": 30,
   "metadata": {},
   "outputs": [],
   "source": [
    "y= df_filter['TotalGHGEmissions']"
   ]
  },
  {
   "cell_type": "markdown",
   "metadata": {},
   "source": [
    "##### On split les données entre Training set et Test set:"
   ]
  },
  {
   "cell_type": "code",
   "execution_count": 31,
   "metadata": {},
   "outputs": [],
   "source": [
    "#spliting data to training/test data:\n",
    "X_train, X_test, y_train, y_test = train_test_split(X, y, test_size=0.3, random_state=42)"
   ]
  },
  {
   "cell_type": "code",
   "execution_count": 32,
   "metadata": {},
   "outputs": [
    {
     "name": "stdout",
     "output_type": "stream",
     "text": [
      "(950, 11)\n",
      "(408, 11)\n"
     ]
    }
   ],
   "source": [
    "# dimensions X_train et X_test\n",
    "print(X_train.shape)\n",
    "print(X_test.shape)"
   ]
  },
  {
   "cell_type": "markdown",
   "metadata": {},
   "source": [
    "On a un dataframe avec des variables catégorielles et numériques, donc on fait appel à (make_column_transformer)"
   ]
  },
  {
   "cell_type": "code",
   "execution_count": 33,
   "metadata": {},
   "outputs": [],
   "source": [
    "col_categ= var_categ.columns.tolist()"
   ]
  },
  {
   "cell_type": "code",
   "execution_count": 34,
   "metadata": {},
   "outputs": [
    {
     "data": {
      "text/plain": [
       "4"
      ]
     },
     "execution_count": 34,
     "metadata": {},
     "output_type": "execute_result"
    }
   ],
   "source": [
    "len(col_categ)"
   ]
  },
  {
   "cell_type": "code",
   "execution_count": 35,
   "metadata": {},
   "outputs": [],
   "source": [
    "col_num= var_num.columns.tolist()"
   ]
  },
  {
   "cell_type": "code",
   "execution_count": 36,
   "metadata": {},
   "outputs": [
    {
     "data": {
      "text/plain": [
       "['NumberofBuildings',\n",
       " 'NumberofFloors',\n",
       " 'PropertyGFATotal',\n",
       " 'PropertyGFAParking',\n",
       " 'PropertyGFABuilding(s)',\n",
       " 'LargestPropertyUseTypeGFA',\n",
       " 'ENERGYSTARScore',\n",
       " 'SiteEnergyUseWN(kBtu)',\n",
       " 'TotalGHGEmissions',\n",
       " 'BuildingAge']"
      ]
     },
     "execution_count": 36,
     "metadata": {},
     "output_type": "execute_result"
    }
   ],
   "source": [
    "col_num"
   ]
  },
  {
   "cell_type": "code",
   "execution_count": 37,
   "metadata": {},
   "outputs": [
    {
     "name": "stdout",
     "output_type": "stream",
     "text": [
      "SiteEnergyUseWN(kBtu)\n",
      "TotalGHGEmissions\n",
      "ENERGYSTARScore\n"
     ]
    }
   ],
   "source": [
    "#On écarte les 2 variables de prédictions et la variable (ENERGYSTARScore) avec données manquantes.\n",
    "remove_lst= ['SiteEnergyUseWN(kBtu)', 'TotalGHGEmissions','ENERGYSTARScore']\n",
    "for x in remove_lst:\n",
    "    print (x), col_num.remove(x)       "
   ]
  },
  {
   "cell_type": "code",
   "execution_count": 38,
   "metadata": {},
   "outputs": [
    {
     "data": {
      "text/plain": [
       "['NumberofBuildings',\n",
       " 'NumberofFloors',\n",
       " 'PropertyGFATotal',\n",
       " 'PropertyGFAParking',\n",
       " 'PropertyGFABuilding(s)',\n",
       " 'LargestPropertyUseTypeGFA',\n",
       " 'BuildingAge']"
      ]
     },
     "execution_count": 38,
     "metadata": {},
     "output_type": "execute_result"
    }
   ],
   "source": [
    "# Vérification:\n",
    "col_num"
   ]
  },
  {
   "cell_type": "code",
   "execution_count": 39,
   "metadata": {},
   "outputs": [],
   "source": [
    "# Application de make_column_transformer car différent type de preprocessing requis pour les features.\n",
    "column_trans= make_column_transformer((OneHotEncoder(handle_unknown='ignore') ,col_categ), (StandardScaler(), col_num))"
   ]
  },
  {
   "cell_type": "markdown",
   "metadata": {},
   "source": [
    "#### Application du modèle basique de regression: LinearRegression"
   ]
  },
  {
   "cell_type": "code",
   "execution_count": 40,
   "metadata": {},
   "outputs": [
    {
     "data": {
      "text/plain": [
       "GridSearchCV(cv=5,\n",
       "             estimator=Pipeline(steps=[('columntransformer',\n",
       "                                        ColumnTransformer(transformers=[('onehotencoder',\n",
       "                                                                         OneHotEncoder(handle_unknown='ignore'),\n",
       "                                                                         ['PrimaryPropertyType',\n",
       "                                                                          'Neighborhood',\n",
       "                                                                          'LargestPropertyUseType',\n",
       "                                                                          'ComplianceStatus']),\n",
       "                                                                        ('standardscaler',\n",
       "                                                                         StandardScaler(),\n",
       "                                                                         ['NumberofBuildings',\n",
       "                                                                          'NumberofFloors',\n",
       "                                                                          'PropertyGFATotal',\n",
       "                                                                          'PropertyGFAParking',\n",
       "                                                                          'PropertyGFABuilding(s)',\n",
       "                                                                          'LargestPropertyUseTypeGFA',\n",
       "                                                                          'BuildingAge'])])),\n",
       "                                       ('linearregression',\n",
       "                                        LinearRegression())]),\n",
       "             param_grid={'linearregression__fit_intercept': [True, False]},\n",
       "             scoring='r2')"
      ]
     },
     "execution_count": 40,
     "metadata": {},
     "output_type": "execute_result"
    }
   ],
   "source": [
    "lr = LinearRegression()\n",
    "# On crée le modèle à l'aide de pipeline\n",
    "pipe_lr= make_pipeline(column_trans,lr)\n",
    "#Grille de recherche:\n",
    "parameter= {'linearregression__fit_intercept':[True,False]}\n",
    "grid_lr= GridSearchCV(pipe_lr, parameter, cv=5,scoring='r2')\n",
    "grid_lr.fit(X_train,y_train)"
   ]
  },
  {
   "cell_type": "code",
   "execution_count": 41,
   "metadata": {},
   "outputs": [
    {
     "data": {
      "text/html": [
       "<style>#sk-6f36d524-8249-4d56-88e8-8c180bf72ed8 {color: black;background-color: white;}#sk-6f36d524-8249-4d56-88e8-8c180bf72ed8 pre{padding: 0;}#sk-6f36d524-8249-4d56-88e8-8c180bf72ed8 div.sk-toggleable {background-color: white;}#sk-6f36d524-8249-4d56-88e8-8c180bf72ed8 label.sk-toggleable__label {cursor: pointer;display: block;width: 100%;margin-bottom: 0;padding: 0.3em;box-sizing: border-box;text-align: center;}#sk-6f36d524-8249-4d56-88e8-8c180bf72ed8 label.sk-toggleable__label-arrow:before {content: \"▸\";float: left;margin-right: 0.25em;color: #696969;}#sk-6f36d524-8249-4d56-88e8-8c180bf72ed8 label.sk-toggleable__label-arrow:hover:before {color: black;}#sk-6f36d524-8249-4d56-88e8-8c180bf72ed8 div.sk-estimator:hover label.sk-toggleable__label-arrow:before {color: black;}#sk-6f36d524-8249-4d56-88e8-8c180bf72ed8 div.sk-toggleable__content {max-height: 0;max-width: 0;overflow: hidden;text-align: left;background-color: #f0f8ff;}#sk-6f36d524-8249-4d56-88e8-8c180bf72ed8 div.sk-toggleable__content pre {margin: 0.2em;color: black;border-radius: 0.25em;background-color: #f0f8ff;}#sk-6f36d524-8249-4d56-88e8-8c180bf72ed8 input.sk-toggleable__control:checked~div.sk-toggleable__content {max-height: 200px;max-width: 100%;overflow: auto;}#sk-6f36d524-8249-4d56-88e8-8c180bf72ed8 input.sk-toggleable__control:checked~label.sk-toggleable__label-arrow:before {content: \"▾\";}#sk-6f36d524-8249-4d56-88e8-8c180bf72ed8 div.sk-estimator input.sk-toggleable__control:checked~label.sk-toggleable__label {background-color: #d4ebff;}#sk-6f36d524-8249-4d56-88e8-8c180bf72ed8 div.sk-label input.sk-toggleable__control:checked~label.sk-toggleable__label {background-color: #d4ebff;}#sk-6f36d524-8249-4d56-88e8-8c180bf72ed8 input.sk-hidden--visually {border: 0;clip: rect(1px 1px 1px 1px);clip: rect(1px, 1px, 1px, 1px);height: 1px;margin: -1px;overflow: hidden;padding: 0;position: absolute;width: 1px;}#sk-6f36d524-8249-4d56-88e8-8c180bf72ed8 div.sk-estimator {font-family: monospace;background-color: #f0f8ff;border: 1px dotted black;border-radius: 0.25em;box-sizing: border-box;margin-bottom: 0.5em;}#sk-6f36d524-8249-4d56-88e8-8c180bf72ed8 div.sk-estimator:hover {background-color: #d4ebff;}#sk-6f36d524-8249-4d56-88e8-8c180bf72ed8 div.sk-parallel-item::after {content: \"\";width: 100%;border-bottom: 1px solid gray;flex-grow: 1;}#sk-6f36d524-8249-4d56-88e8-8c180bf72ed8 div.sk-label:hover label.sk-toggleable__label {background-color: #d4ebff;}#sk-6f36d524-8249-4d56-88e8-8c180bf72ed8 div.sk-serial::before {content: \"\";position: absolute;border-left: 1px solid gray;box-sizing: border-box;top: 2em;bottom: 0;left: 50%;}#sk-6f36d524-8249-4d56-88e8-8c180bf72ed8 div.sk-serial {display: flex;flex-direction: column;align-items: center;background-color: white;padding-right: 0.2em;padding-left: 0.2em;}#sk-6f36d524-8249-4d56-88e8-8c180bf72ed8 div.sk-item {z-index: 1;}#sk-6f36d524-8249-4d56-88e8-8c180bf72ed8 div.sk-parallel {display: flex;align-items: stretch;justify-content: center;background-color: white;}#sk-6f36d524-8249-4d56-88e8-8c180bf72ed8 div.sk-parallel::before {content: \"\";position: absolute;border-left: 1px solid gray;box-sizing: border-box;top: 2em;bottom: 0;left: 50%;}#sk-6f36d524-8249-4d56-88e8-8c180bf72ed8 div.sk-parallel-item {display: flex;flex-direction: column;position: relative;background-color: white;}#sk-6f36d524-8249-4d56-88e8-8c180bf72ed8 div.sk-parallel-item:first-child::after {align-self: flex-end;width: 50%;}#sk-6f36d524-8249-4d56-88e8-8c180bf72ed8 div.sk-parallel-item:last-child::after {align-self: flex-start;width: 50%;}#sk-6f36d524-8249-4d56-88e8-8c180bf72ed8 div.sk-parallel-item:only-child::after {width: 0;}#sk-6f36d524-8249-4d56-88e8-8c180bf72ed8 div.sk-dashed-wrapped {border: 1px dashed gray;margin: 0 0.4em 0.5em 0.4em;box-sizing: border-box;padding-bottom: 0.4em;background-color: white;position: relative;}#sk-6f36d524-8249-4d56-88e8-8c180bf72ed8 div.sk-label label {font-family: monospace;font-weight: bold;background-color: white;display: inline-block;line-height: 1.2em;}#sk-6f36d524-8249-4d56-88e8-8c180bf72ed8 div.sk-label-container {position: relative;z-index: 2;text-align: center;}#sk-6f36d524-8249-4d56-88e8-8c180bf72ed8 div.sk-container {/* jupyter's `normalize.less` sets `[hidden] { display: none; }` but bootstrap.min.css set `[hidden] { display: none !important; }` so we also need the `!important` here to be able to override the default hidden behavior on the sphinx rendered scikit-learn.org. See: https://github.com/scikit-learn/scikit-learn/issues/21755 */display: inline-block !important;position: relative;}#sk-6f36d524-8249-4d56-88e8-8c180bf72ed8 div.sk-text-repr-fallback {display: none;}</style><div id=\"sk-6f36d524-8249-4d56-88e8-8c180bf72ed8\" class=\"sk-top-container\"><div class=\"sk-text-repr-fallback\"><pre>Pipeline(steps=[(&#x27;columntransformer&#x27;,\n",
       "                 ColumnTransformer(transformers=[(&#x27;onehotencoder&#x27;,\n",
       "                                                  OneHotEncoder(handle_unknown=&#x27;ignore&#x27;),\n",
       "                                                  [&#x27;PrimaryPropertyType&#x27;,\n",
       "                                                   &#x27;Neighborhood&#x27;,\n",
       "                                                   &#x27;LargestPropertyUseType&#x27;,\n",
       "                                                   &#x27;ComplianceStatus&#x27;]),\n",
       "                                                 (&#x27;standardscaler&#x27;,\n",
       "                                                  StandardScaler(),\n",
       "                                                  [&#x27;NumberofBuildings&#x27;,\n",
       "                                                   &#x27;NumberofFloors&#x27;,\n",
       "                                                   &#x27;PropertyGFATotal&#x27;,\n",
       "                                                   &#x27;PropertyGFAParking&#x27;,\n",
       "                                                   &#x27;PropertyGFABuilding(s)&#x27;,\n",
       "                                                   &#x27;LargestPropertyUseTypeGFA&#x27;,\n",
       "                                                   &#x27;BuildingAge&#x27;])])),\n",
       "                (&#x27;linearregression&#x27;, LinearRegression())])</pre><b>Please rerun this cell to show the HTML repr or trust the notebook.</b></div><div class=\"sk-container\" hidden><div class=\"sk-item sk-dashed-wrapped\"><div class=\"sk-label-container\"><div class=\"sk-label sk-toggleable\"><input class=\"sk-toggleable__control sk-hidden--visually\" id=\"adb0556c-57ac-4c21-b469-f8a0d37ca625\" type=\"checkbox\" ><label for=\"adb0556c-57ac-4c21-b469-f8a0d37ca625\" class=\"sk-toggleable__label sk-toggleable__label-arrow\">Pipeline</label><div class=\"sk-toggleable__content\"><pre>Pipeline(steps=[(&#x27;columntransformer&#x27;,\n",
       "                 ColumnTransformer(transformers=[(&#x27;onehotencoder&#x27;,\n",
       "                                                  OneHotEncoder(handle_unknown=&#x27;ignore&#x27;),\n",
       "                                                  [&#x27;PrimaryPropertyType&#x27;,\n",
       "                                                   &#x27;Neighborhood&#x27;,\n",
       "                                                   &#x27;LargestPropertyUseType&#x27;,\n",
       "                                                   &#x27;ComplianceStatus&#x27;]),\n",
       "                                                 (&#x27;standardscaler&#x27;,\n",
       "                                                  StandardScaler(),\n",
       "                                                  [&#x27;NumberofBuildings&#x27;,\n",
       "                                                   &#x27;NumberofFloors&#x27;,\n",
       "                                                   &#x27;PropertyGFATotal&#x27;,\n",
       "                                                   &#x27;PropertyGFAParking&#x27;,\n",
       "                                                   &#x27;PropertyGFABuilding(s)&#x27;,\n",
       "                                                   &#x27;LargestPropertyUseTypeGFA&#x27;,\n",
       "                                                   &#x27;BuildingAge&#x27;])])),\n",
       "                (&#x27;linearregression&#x27;, LinearRegression())])</pre></div></div></div><div class=\"sk-serial\"><div class=\"sk-item sk-dashed-wrapped\"><div class=\"sk-label-container\"><div class=\"sk-label sk-toggleable\"><input class=\"sk-toggleable__control sk-hidden--visually\" id=\"d33c8649-ee14-4f67-91ad-0664438b3409\" type=\"checkbox\" ><label for=\"d33c8649-ee14-4f67-91ad-0664438b3409\" class=\"sk-toggleable__label sk-toggleable__label-arrow\">columntransformer: ColumnTransformer</label><div class=\"sk-toggleable__content\"><pre>ColumnTransformer(transformers=[(&#x27;onehotencoder&#x27;,\n",
       "                                 OneHotEncoder(handle_unknown=&#x27;ignore&#x27;),\n",
       "                                 [&#x27;PrimaryPropertyType&#x27;, &#x27;Neighborhood&#x27;,\n",
       "                                  &#x27;LargestPropertyUseType&#x27;,\n",
       "                                  &#x27;ComplianceStatus&#x27;]),\n",
       "                                (&#x27;standardscaler&#x27;, StandardScaler(),\n",
       "                                 [&#x27;NumberofBuildings&#x27;, &#x27;NumberofFloors&#x27;,\n",
       "                                  &#x27;PropertyGFATotal&#x27;, &#x27;PropertyGFAParking&#x27;,\n",
       "                                  &#x27;PropertyGFABuilding(s)&#x27;,\n",
       "                                  &#x27;LargestPropertyUseTypeGFA&#x27;,\n",
       "                                  &#x27;BuildingAge&#x27;])])</pre></div></div></div><div class=\"sk-parallel\"><div class=\"sk-parallel-item\"><div class=\"sk-item\"><div class=\"sk-label-container\"><div class=\"sk-label sk-toggleable\"><input class=\"sk-toggleable__control sk-hidden--visually\" id=\"9f400eb0-d289-4591-bc6c-190c69ce2050\" type=\"checkbox\" ><label for=\"9f400eb0-d289-4591-bc6c-190c69ce2050\" class=\"sk-toggleable__label sk-toggleable__label-arrow\">onehotencoder</label><div class=\"sk-toggleable__content\"><pre>[&#x27;PrimaryPropertyType&#x27;, &#x27;Neighborhood&#x27;, &#x27;LargestPropertyUseType&#x27;, &#x27;ComplianceStatus&#x27;]</pre></div></div></div><div class=\"sk-serial\"><div class=\"sk-item\"><div class=\"sk-estimator sk-toggleable\"><input class=\"sk-toggleable__control sk-hidden--visually\" id=\"fb09c82f-2329-4d3a-a84b-9987ae053eb3\" type=\"checkbox\" ><label for=\"fb09c82f-2329-4d3a-a84b-9987ae053eb3\" class=\"sk-toggleable__label sk-toggleable__label-arrow\">OneHotEncoder</label><div class=\"sk-toggleable__content\"><pre>OneHotEncoder(handle_unknown=&#x27;ignore&#x27;)</pre></div></div></div></div></div></div><div class=\"sk-parallel-item\"><div class=\"sk-item\"><div class=\"sk-label-container\"><div class=\"sk-label sk-toggleable\"><input class=\"sk-toggleable__control sk-hidden--visually\" id=\"8571115b-e870-49c0-8a02-11cdd7eed222\" type=\"checkbox\" ><label for=\"8571115b-e870-49c0-8a02-11cdd7eed222\" class=\"sk-toggleable__label sk-toggleable__label-arrow\">standardscaler</label><div class=\"sk-toggleable__content\"><pre>[&#x27;NumberofBuildings&#x27;, &#x27;NumberofFloors&#x27;, &#x27;PropertyGFATotal&#x27;, &#x27;PropertyGFAParking&#x27;, &#x27;PropertyGFABuilding(s)&#x27;, &#x27;LargestPropertyUseTypeGFA&#x27;, &#x27;BuildingAge&#x27;]</pre></div></div></div><div class=\"sk-serial\"><div class=\"sk-item\"><div class=\"sk-estimator sk-toggleable\"><input class=\"sk-toggleable__control sk-hidden--visually\" id=\"ac36125b-de99-4889-ac79-0af179228747\" type=\"checkbox\" ><label for=\"ac36125b-de99-4889-ac79-0af179228747\" class=\"sk-toggleable__label sk-toggleable__label-arrow\">StandardScaler</label><div class=\"sk-toggleable__content\"><pre>StandardScaler()</pre></div></div></div></div></div></div></div></div><div class=\"sk-item\"><div class=\"sk-estimator sk-toggleable\"><input class=\"sk-toggleable__control sk-hidden--visually\" id=\"48eccdce-9b4b-49e2-8570-c818a302da57\" type=\"checkbox\" ><label for=\"48eccdce-9b4b-49e2-8570-c818a302da57\" class=\"sk-toggleable__label sk-toggleable__label-arrow\">LinearRegression</label><div class=\"sk-toggleable__content\"><pre>LinearRegression()</pre></div></div></div></div></div></div></div>"
      ],
      "text/plain": [
       "Pipeline(steps=[('columntransformer',\n",
       "                 ColumnTransformer(transformers=[('onehotencoder',\n",
       "                                                  OneHotEncoder(handle_unknown='ignore'),\n",
       "                                                  ['PrimaryPropertyType',\n",
       "                                                   'Neighborhood',\n",
       "                                                   'LargestPropertyUseType',\n",
       "                                                   'ComplianceStatus']),\n",
       "                                                 ('standardscaler',\n",
       "                                                  StandardScaler(),\n",
       "                                                  ['NumberofBuildings',\n",
       "                                                   'NumberofFloors',\n",
       "                                                   'PropertyGFATotal',\n",
       "                                                   'PropertyGFAParking',\n",
       "                                                   'PropertyGFABuilding(s)',\n",
       "                                                   'LargestPropertyUseTypeGFA',\n",
       "                                                   'BuildingAge'])])),\n",
       "                ('linearregression', LinearRegression())])"
      ]
     },
     "execution_count": 41,
     "metadata": {},
     "output_type": "execute_result"
    }
   ],
   "source": [
    "from sklearn import set_config\n",
    "set_config(display=\"diagram\")\n",
    "pipe_lr"
   ]
  },
  {
   "cell_type": "code",
   "execution_count": 42,
   "metadata": {},
   "outputs": [
    {
     "name": "stdout",
     "output_type": "stream",
     "text": [
      "0.07745025343712997\n",
      "{'linearregression__fit_intercept': False}\n"
     ]
    }
   ],
   "source": [
    "print(grid_lr.best_score_)\n",
    "print(grid_lr.best_params_)"
   ]
  },
  {
   "cell_type": "code",
   "execution_count": 43,
   "metadata": {},
   "outputs": [
    {
     "data": {
      "text/plain": [
       "0.29311033825059063"
      ]
     },
     "execution_count": 43,
     "metadata": {},
     "output_type": "execute_result"
    }
   ],
   "source": [
    "model_lr= grid_lr.best_estimator_\n",
    "pred_lr= model_lr.predict(X_test)\n",
    "r2_score(y_test, pred_lr)"
   ]
  },
  {
   "cell_type": "markdown",
   "metadata": {},
   "source": [
    "##### Implémentation d'une fonction pour calcul des métriques:"
   ]
  },
  {
   "cell_type": "code",
   "execution_count": 44,
   "metadata": {},
   "outputs": [],
   "source": [
    "def compute_scores(y_test, prediction):\n",
    "    \"\"\"Function which computes RMSE, MSE, MAE, Median AE and R^2 of a prediction compared to true values.\"\"\"\n",
    "      \n",
    "    rmse = mean_squared_error(y_test, prediction, squared=False)\n",
    "    mse = mean_squared_error(y_test, prediction, squared=True)\n",
    "    mae = mean_absolute_error(y_test, prediction)\n",
    "    median_ae = median_absolute_error(y_test, prediction)\n",
    "    r2 = r2_score(y_test, prediction)\n",
    "    \n",
    "    scores = [rmse, mse, mae, median_ae, r2]\n",
    "    \n",
    "    return scores"
   ]
  },
  {
   "cell_type": "code",
   "execution_count": 45,
   "metadata": {},
   "outputs": [
    {
     "data": {
      "text/plain": [
       "[51.383437273086045,\n",
       " 2640.257625997168,\n",
       " 36.51441708385231,\n",
       " 24.777131644409856,\n",
       " 0.29311033825059063]"
      ]
     },
     "execution_count": 45,
     "metadata": {},
     "output_type": "execute_result"
    }
   ],
   "source": [
    "# calcul des métriques:\n",
    "compute_scores(y_test, pred_lr)"
   ]
  },
  {
   "cell_type": "markdown",
   "metadata": {},
   "source": [
    "##### Plot de comparaison entre y_test, pred_lr:"
   ]
  },
  {
   "cell_type": "code",
   "execution_count": 46,
   "metadata": {},
   "outputs": [
    {
     "data": {
      "image/png": "[encoded data removed]",
      "text/plain": [
       "<Figure size 432x288 with 1 Axes>"
      ]
     },
     "metadata": {
      "needs_background": "light"
     },
     "output_type": "display_data"
    }
   ],
   "source": [
    "import matplotlib.pyplot as plt\n",
    "fig, ax = plt.subplots()\n",
    "ax.scatter(y_test, pred_lr)\n",
    "ax.plot([y_test.min(), y_test.max()], [y_test.min(), y_test.max()], 'k--', lw=4)\n",
    "ax.set_xlabel('Measured')\n",
    "ax.set_ylabel('Predicted')\n",
    "plt.show()"
   ]
  },
  {
   "cell_type": "code",
   "execution_count": 47,
   "metadata": {},
   "outputs": [
    {
     "data": {
      "text/plain": [
       "<matplotlib.axes._subplots.AxesSubplot at 0x1f7eb101d08>"
      ]
     },
     "execution_count": 47,
     "metadata": {},
     "output_type": "execute_result"
    },
    {
     "data": {
      "image/png": "[encoded data removed]",
      "text/plain": [
       "<Figure size 360x216 with 1 Axes>"
      ]
     },
     "metadata": {
      "needs_background": "light"
     },
     "output_type": "display_data"
    }
   ],
   "source": [
    "#Vérification:\n",
    "plt.figure(figsize=(5,3))\n",
    "df_filter['SiteEnergyUseWN(kBtu)'].plot.box(showmeans=True)"
   ]
  },
  {
   "cell_type": "markdown",
   "metadata": {},
   "source": [
    "#### Application du modèle: Ridge Regression"
   ]
  },
  {
   "cell_type": "code",
   "execution_count": 48,
   "metadata": {},
   "outputs": [],
   "source": [
    "# instaciation de l'objet:\n",
    "ridge= Ridge()\n",
    "# On crée le modèle à l'aide de pipeline\n",
    "pipe_ridge= make_pipeline(column_trans,ridge)"
   ]
  },
  {
   "cell_type": "markdown",
   "metadata": {},
   "source": [
    "##### Cross validation avec: cross_val_score()"
   ]
  },
  {
   "cell_type": "code",
   "execution_count": 49,
   "metadata": {},
   "outputs": [
    {
     "data": {
      "text/plain": [
       "array([ 0.22601953,  0.30729295, -0.55646816,  0.24162345,  0.25932549])"
      ]
     },
     "execution_count": 49,
     "metadata": {},
     "output_type": "execute_result"
    }
   ],
   "source": [
    "cross_val_score(pipe_ridge,X_train,y_train,cv=5,scoring='r2')"
   ]
  },
  {
   "cell_type": "markdown",
   "metadata": {},
   "source": [
    "##### Optimisation des hyperparamètres avec: GridSearchCV()"
   ]
  },
  {
   "cell_type": "code",
   "execution_count": 50,
   "metadata": {},
   "outputs": [],
   "source": [
    "# Définition des paramètres:\n",
    "#le paramètre alpha permet de corriger l'overfitting\n",
    "parameter= {'ridge__alpha': [5,10,15]}\n",
    "#Grille de recherche:\n",
    "grid_ridge= GridSearchCV(pipe_ridge ,parameter, cv=5,scoring='r2')"
   ]
  },
  {
   "cell_type": "code",
   "execution_count": 51,
   "metadata": {},
   "outputs": [
    {
     "data": {
      "text/html": [
       "<style>#sk-6782911a-5073-4bfa-a695-33a994fddfbc {color: black;background-color: white;}#sk-6782911a-5073-4bfa-a695-33a994fddfbc pre{padding: 0;}#sk-6782911a-5073-4bfa-a695-33a994fddfbc div.sk-toggleable {background-color: white;}#sk-6782911a-5073-4bfa-a695-33a994fddfbc label.sk-toggleable__label {cursor: pointer;display: block;width: 100%;margin-bottom: 0;padding: 0.3em;box-sizing: border-box;text-align: center;}#sk-6782911a-5073-4bfa-a695-33a994fddfbc label.sk-toggleable__label-arrow:before {content: \"▸\";float: left;margin-right: 0.25em;color: #696969;}#sk-6782911a-5073-4bfa-a695-33a994fddfbc label.sk-toggleable__label-arrow:hover:before {color: black;}#sk-6782911a-5073-4bfa-a695-33a994fddfbc div.sk-estimator:hover label.sk-toggleable__label-arrow:before {color: black;}#sk-6782911a-5073-4bfa-a695-33a994fddfbc div.sk-toggleable__content {max-height: 0;max-width: 0;overflow: hidden;text-align: left;background-color: #f0f8ff;}#sk-6782911a-5073-4bfa-a695-33a994fddfbc div.sk-toggleable__content pre {margin: 0.2em;color: black;border-radius: 0.25em;background-color: #f0f8ff;}#sk-6782911a-5073-4bfa-a695-33a994fddfbc input.sk-toggleable__control:checked~div.sk-toggleable__content {max-height: 200px;max-width: 100%;overflow: auto;}#sk-6782911a-5073-4bfa-a695-33a994fddfbc input.sk-toggleable__control:checked~label.sk-toggleable__label-arrow:before {content: \"▾\";}#sk-6782911a-5073-4bfa-a695-33a994fddfbc div.sk-estimator input.sk-toggleable__control:checked~label.sk-toggleable__label {background-color: #d4ebff;}#sk-6782911a-5073-4bfa-a695-33a994fddfbc div.sk-label input.sk-toggleable__control:checked~label.sk-toggleable__label {background-color: #d4ebff;}#sk-6782911a-5073-4bfa-a695-33a994fddfbc input.sk-hidden--visually {border: 0;clip: rect(1px 1px 1px 1px);clip: rect(1px, 1px, 1px, 1px);height: 1px;margin: -1px;overflow: hidden;padding: 0;position: absolute;width: 1px;}#sk-6782911a-5073-4bfa-a695-33a994fddfbc div.sk-estimator {font-family: monospace;background-color: #f0f8ff;border: 1px dotted black;border-radius: 0.25em;box-sizing: border-box;margin-bottom: 0.5em;}#sk-6782911a-5073-4bfa-a695-33a994fddfbc div.sk-estimator:hover {background-color: #d4ebff;}#sk-6782911a-5073-4bfa-a695-33a994fddfbc div.sk-parallel-item::after {content: \"\";width: 100%;border-bottom: 1px solid gray;flex-grow: 1;}#sk-6782911a-5073-4bfa-a695-33a994fddfbc div.sk-label:hover label.sk-toggleable__label {background-color: #d4ebff;}#sk-6782911a-5073-4bfa-a695-33a994fddfbc div.sk-serial::before {content: \"\";position: absolute;border-left: 1px solid gray;box-sizing: border-box;top: 2em;bottom: 0;left: 50%;}#sk-6782911a-5073-4bfa-a695-33a994fddfbc div.sk-serial {display: flex;flex-direction: column;align-items: center;background-color: white;padding-right: 0.2em;padding-left: 0.2em;}#sk-6782911a-5073-4bfa-a695-33a994fddfbc div.sk-item {z-index: 1;}#sk-6782911a-5073-4bfa-a695-33a994fddfbc div.sk-parallel {display: flex;align-items: stretch;justify-content: center;background-color: white;}#sk-6782911a-5073-4bfa-a695-33a994fddfbc div.sk-parallel::before {content: \"\";position: absolute;border-left: 1px solid gray;box-sizing: border-box;top: 2em;bottom: 0;left: 50%;}#sk-6782911a-5073-4bfa-a695-33a994fddfbc div.sk-parallel-item {display: flex;flex-direction: column;position: relative;background-color: white;}#sk-6782911a-5073-4bfa-a695-33a994fddfbc div.sk-parallel-item:first-child::after {align-self: flex-end;width: 50%;}#sk-6782911a-5073-4bfa-a695-33a994fddfbc div.sk-parallel-item:last-child::after {align-self: flex-start;width: 50%;}#sk-6782911a-5073-4bfa-a695-33a994fddfbc div.sk-parallel-item:only-child::after {width: 0;}#sk-6782911a-5073-4bfa-a695-33a994fddfbc div.sk-dashed-wrapped {border: 1px dashed gray;margin: 0 0.4em 0.5em 0.4em;box-sizing: border-box;padding-bottom: 0.4em;background-color: white;position: relative;}#sk-6782911a-5073-4bfa-a695-33a994fddfbc div.sk-label label {font-family: monospace;font-weight: bold;background-color: white;display: inline-block;line-height: 1.2em;}#sk-6782911a-5073-4bfa-a695-33a994fddfbc div.sk-label-container {position: relative;z-index: 2;text-align: center;}#sk-6782911a-5073-4bfa-a695-33a994fddfbc div.sk-container {/* jupyter's `normalize.less` sets `[hidden] { display: none; }` but bootstrap.min.css set `[hidden] { display: none !important; }` so we also need the `!important` here to be able to override the default hidden behavior on the sphinx rendered scikit-learn.org. See: https://github.com/scikit-learn/scikit-learn/issues/21755 */display: inline-block !important;position: relative;}#sk-6782911a-5073-4bfa-a695-33a994fddfbc div.sk-text-repr-fallback {display: none;}</style><div id=\"sk-6782911a-5073-4bfa-a695-33a994fddfbc\" class=\"sk-top-container\"><div class=\"sk-text-repr-fallback\"><pre>GridSearchCV(cv=5,\n",
       "             estimator=Pipeline(steps=[(&#x27;columntransformer&#x27;,\n",
       "                                        ColumnTransformer(transformers=[(&#x27;onehotencoder&#x27;,\n",
       "                                                                         OneHotEncoder(handle_unknown=&#x27;ignore&#x27;),\n",
       "                                                                         [&#x27;PrimaryPropertyType&#x27;,\n",
       "                                                                          &#x27;Neighborhood&#x27;,\n",
       "                                                                          &#x27;LargestPropertyUseType&#x27;,\n",
       "                                                                          &#x27;ComplianceStatus&#x27;]),\n",
       "                                                                        (&#x27;standardscaler&#x27;,\n",
       "                                                                         StandardScaler(),\n",
       "                                                                         [&#x27;NumberofBuildings&#x27;,\n",
       "                                                                          &#x27;NumberofFloors&#x27;,\n",
       "                                                                          &#x27;PropertyGFATotal&#x27;,\n",
       "                                                                          &#x27;PropertyGFAParking&#x27;,\n",
       "                                                                          &#x27;PropertyGFABuilding(s)&#x27;,\n",
       "                                                                          &#x27;LargestPropertyUseTypeGFA&#x27;,\n",
       "                                                                          &#x27;BuildingAge&#x27;])])),\n",
       "                                       (&#x27;ridge&#x27;, Ridge())]),\n",
       "             param_grid={&#x27;ridge__alpha&#x27;: [5, 10, 15]}, scoring=&#x27;r2&#x27;)</pre><b>Please rerun this cell to show the HTML repr or trust the notebook.</b></div><div class=\"sk-container\" hidden><div class=\"sk-item sk-dashed-wrapped\"><div class=\"sk-label-container\"><div class=\"sk-label sk-toggleable\"><input class=\"sk-toggleable__control sk-hidden--visually\" id=\"b9ba0a4e-32e2-402b-9a1e-cbaea5e79360\" type=\"checkbox\" ><label for=\"b9ba0a4e-32e2-402b-9a1e-cbaea5e79360\" class=\"sk-toggleable__label sk-toggleable__label-arrow\">GridSearchCV</label><div class=\"sk-toggleable__content\"><pre>GridSearchCV(cv=5,\n",
       "             estimator=Pipeline(steps=[(&#x27;columntransformer&#x27;,\n",
       "                                        ColumnTransformer(transformers=[(&#x27;onehotencoder&#x27;,\n",
       "                                                                         OneHotEncoder(handle_unknown=&#x27;ignore&#x27;),\n",
       "                                                                         [&#x27;PrimaryPropertyType&#x27;,\n",
       "                                                                          &#x27;Neighborhood&#x27;,\n",
       "                                                                          &#x27;LargestPropertyUseType&#x27;,\n",
       "                                                                          &#x27;ComplianceStatus&#x27;]),\n",
       "                                                                        (&#x27;standardscaler&#x27;,\n",
       "                                                                         StandardScaler(),\n",
       "                                                                         [&#x27;NumberofBuildings&#x27;,\n",
       "                                                                          &#x27;NumberofFloors&#x27;,\n",
       "                                                                          &#x27;PropertyGFATotal&#x27;,\n",
       "                                                                          &#x27;PropertyGFAParking&#x27;,\n",
       "                                                                          &#x27;PropertyGFABuilding(s)&#x27;,\n",
       "                                                                          &#x27;LargestPropertyUseTypeGFA&#x27;,\n",
       "                                                                          &#x27;BuildingAge&#x27;])])),\n",
       "                                       (&#x27;ridge&#x27;, Ridge())]),\n",
       "             param_grid={&#x27;ridge__alpha&#x27;: [5, 10, 15]}, scoring=&#x27;r2&#x27;)</pre></div></div></div><div class=\"sk-parallel\"><div class=\"sk-parallel-item\"><div class=\"sk-item\"><div class=\"sk-serial\"><div class=\"sk-item\"><div class=\"sk-serial\"><div class=\"sk-item sk-dashed-wrapped\"><div class=\"sk-label-container\"><div class=\"sk-label sk-toggleable\"><input class=\"sk-toggleable__control sk-hidden--visually\" id=\"91deb9ba-e2d0-48a0-8248-2c6da0cbb08e\" type=\"checkbox\" ><label for=\"91deb9ba-e2d0-48a0-8248-2c6da0cbb08e\" class=\"sk-toggleable__label sk-toggleable__label-arrow\">columntransformer: ColumnTransformer</label><div class=\"sk-toggleable__content\"><pre>ColumnTransformer(transformers=[(&#x27;onehotencoder&#x27;,\n",
       "                                 OneHotEncoder(handle_unknown=&#x27;ignore&#x27;),\n",
       "                                 [&#x27;PrimaryPropertyType&#x27;, &#x27;Neighborhood&#x27;,\n",
       "                                  &#x27;LargestPropertyUseType&#x27;,\n",
       "                                  &#x27;ComplianceStatus&#x27;]),\n",
       "                                (&#x27;standardscaler&#x27;, StandardScaler(),\n",
       "                                 [&#x27;NumberofBuildings&#x27;, &#x27;NumberofFloors&#x27;,\n",
       "                                  &#x27;PropertyGFATotal&#x27;, &#x27;PropertyGFAParking&#x27;,\n",
       "                                  &#x27;PropertyGFABuilding(s)&#x27;,\n",
       "                                  &#x27;LargestPropertyUseTypeGFA&#x27;,\n",
       "                                  &#x27;BuildingAge&#x27;])])</pre></div></div></div><div class=\"sk-parallel\"><div class=\"sk-parallel-item\"><div class=\"sk-item\"><div class=\"sk-label-container\"><div class=\"sk-label sk-toggleable\"><input class=\"sk-toggleable__control sk-hidden--visually\" id=\"8d3191dc-8f12-4e09-a1d9-98fd6751d2d9\" type=\"checkbox\" ><label for=\"8d3191dc-8f12-4e09-a1d9-98fd6751d2d9\" class=\"sk-toggleable__label sk-toggleable__label-arrow\">onehotencoder</label><div class=\"sk-toggleable__content\"><pre>[&#x27;PrimaryPropertyType&#x27;, &#x27;Neighborhood&#x27;, &#x27;LargestPropertyUseType&#x27;, &#x27;ComplianceStatus&#x27;]</pre></div></div></div><div class=\"sk-serial\"><div class=\"sk-item\"><div class=\"sk-estimator sk-toggleable\"><input class=\"sk-toggleable__control sk-hidden--visually\" id=\"44960e28-cd49-437a-8f60-085cb96edfa7\" type=\"checkbox\" ><label for=\"44960e28-cd49-437a-8f60-085cb96edfa7\" class=\"sk-toggleable__label sk-toggleable__label-arrow\">OneHotEncoder</label><div class=\"sk-toggleable__content\"><pre>OneHotEncoder(handle_unknown=&#x27;ignore&#x27;)</pre></div></div></div></div></div></div><div class=\"sk-parallel-item\"><div class=\"sk-item\"><div class=\"sk-label-container\"><div class=\"sk-label sk-toggleable\"><input class=\"sk-toggleable__control sk-hidden--visually\" id=\"9d7946f2-2ad8-456a-8b83-2cd6aeb1bd1b\" type=\"checkbox\" ><label for=\"9d7946f2-2ad8-456a-8b83-2cd6aeb1bd1b\" class=\"sk-toggleable__label sk-toggleable__label-arrow\">standardscaler</label><div class=\"sk-toggleable__content\"><pre>[&#x27;NumberofBuildings&#x27;, &#x27;NumberofFloors&#x27;, &#x27;PropertyGFATotal&#x27;, &#x27;PropertyGFAParking&#x27;, &#x27;PropertyGFABuilding(s)&#x27;, &#x27;LargestPropertyUseTypeGFA&#x27;, &#x27;BuildingAge&#x27;]</pre></div></div></div><div class=\"sk-serial\"><div class=\"sk-item\"><div class=\"sk-estimator sk-toggleable\"><input class=\"sk-toggleable__control sk-hidden--visually\" id=\"b4926b0a-ff30-452e-a677-3f60079b3cef\" type=\"checkbox\" ><label for=\"b4926b0a-ff30-452e-a677-3f60079b3cef\" class=\"sk-toggleable__label sk-toggleable__label-arrow\">StandardScaler</label><div class=\"sk-toggleable__content\"><pre>StandardScaler()</pre></div></div></div></div></div></div></div></div><div class=\"sk-item\"><div class=\"sk-estimator sk-toggleable\"><input class=\"sk-toggleable__control sk-hidden--visually\" id=\"2c0b438c-55df-4175-887d-134794461442\" type=\"checkbox\" ><label for=\"2c0b438c-55df-4175-887d-134794461442\" class=\"sk-toggleable__label sk-toggleable__label-arrow\">Ridge</label><div class=\"sk-toggleable__content\"><pre>Ridge()</pre></div></div></div></div></div></div></div></div></div></div></div></div>"
      ],
      "text/plain": [
       "GridSearchCV(cv=5,\n",
       "             estimator=Pipeline(steps=[('columntransformer',\n",
       "                                        ColumnTransformer(transformers=[('onehotencoder',\n",
       "                                                                         OneHotEncoder(handle_unknown='ignore'),\n",
       "                                                                         ['PrimaryPropertyType',\n",
       "                                                                          'Neighborhood',\n",
       "                                                                          'LargestPropertyUseType',\n",
       "                                                                          'ComplianceStatus']),\n",
       "                                                                        ('standardscaler',\n",
       "                                                                         StandardScaler(),\n",
       "                                                                         ['NumberofBuildings',\n",
       "                                                                          'NumberofFloors',\n",
       "                                                                          'PropertyGFATotal',\n",
       "                                                                          'PropertyGFAParking',\n",
       "                                                                          'PropertyGFABuilding(s)',\n",
       "                                                                          'LargestPropertyUseTypeGFA',\n",
       "                                                                          'BuildingAge'])])),\n",
       "                                       ('ridge', Ridge())]),\n",
       "             param_grid={'ridge__alpha': [5, 10, 15]}, scoring='r2')"
      ]
     },
     "execution_count": 51,
     "metadata": {},
     "output_type": "execute_result"
    }
   ],
   "source": [
    "grid_ridge.fit(X_train,y_train)"
   ]
  },
  {
   "cell_type": "code",
   "execution_count": 52,
   "metadata": {},
   "outputs": [
    {
     "name": "stdout",
     "output_type": "stream",
     "text": [
      "0.10145448565042899\n",
      "{'ridge__alpha': 5}\n"
     ]
    }
   ],
   "source": [
    "print(grid_ridge.best_score_)\n",
    "print(grid_ridge.best_params_)"
   ]
  },
  {
   "cell_type": "code",
   "execution_count": 53,
   "metadata": {},
   "outputs": [
    {
     "data": {
      "text/plain": [
       "0.23990460192032714"
      ]
     },
     "execution_count": 53,
     "metadata": {},
     "output_type": "execute_result"
    }
   ],
   "source": [
    "model_ridge= grid_ridge.best_estimator_\n",
    "pred_ridge= model_ridge.predict(X_test)\n",
    "r2_score(y_test, pred_ridge)"
   ]
  },
  {
   "cell_type": "code",
   "execution_count": 54,
   "metadata": {},
   "outputs": [
    {
     "data": {
      "text/plain": [
       "[53.28210687705462,\n",
       " 2838.9829132578716,\n",
       " 37.847038914806966,\n",
       " 26.739984416057748,\n",
       " 0.23990460192032714]"
      ]
     },
     "execution_count": 54,
     "metadata": {},
     "output_type": "execute_result"
    }
   ],
   "source": [
    "# calcul des métriques:\n",
    "compute_scores(y_test, pred_ridge)"
   ]
  },
  {
   "cell_type": "markdown",
   "metadata": {},
   "source": [
    "##### Plot de comparaison entre y_test, pred_ridge:"
   ]
  },
  {
   "cell_type": "code",
   "execution_count": 55,
   "metadata": {},
   "outputs": [
    {
     "data": {
      "image/png": "[encoded data removed]",
      "text/plain": [
       "<Figure size 432x288 with 1 Axes>"
      ]
     },
     "metadata": {
      "needs_background": "light"
     },
     "output_type": "display_data"
    }
   ],
   "source": [
    "fig, ax = plt.subplots()\n",
    "ax.scatter(y_test, pred_ridge)\n",
    "ax.plot([y_test.min(), y_test.max()], [y_test.min(), y_test.max()], 'k--', lw=4)\n",
    "ax.set_xlabel('Measured')\n",
    "ax.set_ylabel('Predicted')\n",
    "plt.show()"
   ]
  },
  {
   "cell_type": "markdown",
   "metadata": {},
   "source": [
    "#### Application du modèle: Support Vector Regression"
   ]
  },
  {
   "cell_type": "code",
   "execution_count": 56,
   "metadata": {},
   "outputs": [],
   "source": [
    "# Instanciation de l'objet:\n",
    "svr= SVR()\n",
    "# On crée le modèle à l'aide de pipeline\n",
    "from sklearn.pipeline import make_pipeline\n",
    "pipe_svr= make_pipeline(column_trans,svr)"
   ]
  },
  {
   "cell_type": "code",
   "execution_count": 57,
   "metadata": {},
   "outputs": [
    {
     "data": {
      "text/plain": [
       "dict_keys(['memory', 'steps', 'verbose', 'columntransformer', 'svr', 'columntransformer__n_jobs', 'columntransformer__remainder', 'columntransformer__sparse_threshold', 'columntransformer__transformer_weights', 'columntransformer__transformers', 'columntransformer__verbose', 'columntransformer__verbose_feature_names_out', 'columntransformer__onehotencoder', 'columntransformer__standardscaler', 'columntransformer__onehotencoder__categories', 'columntransformer__onehotencoder__drop', 'columntransformer__onehotencoder__dtype', 'columntransformer__onehotencoder__handle_unknown', 'columntransformer__onehotencoder__sparse', 'columntransformer__standardscaler__copy', 'columntransformer__standardscaler__with_mean', 'columntransformer__standardscaler__with_std', 'svr__C', 'svr__cache_size', 'svr__coef0', 'svr__degree', 'svr__epsilon', 'svr__gamma', 'svr__kernel', 'svr__max_iter', 'svr__shrinking', 'svr__tol', 'svr__verbose'])"
      ]
     },
     "execution_count": 57,
     "metadata": {},
     "output_type": "execute_result"
    }
   ],
   "source": [
    "# liste des paramètres de l'estimateur:\n",
    "pipe_svr.get_params().keys()"
   ]
  },
  {
   "cell_type": "code",
   "execution_count": 58,
   "metadata": {},
   "outputs": [
    {
     "data": {
      "text/plain": [
       "array([-0.03915875, -0.07359772,  0.01365795,  0.03277998,  0.00187996])"
      ]
     },
     "execution_count": 58,
     "metadata": {},
     "output_type": "execute_result"
    }
   ],
   "source": [
    "# Cross validation avec: cross_val_score()\n",
    "cross_val_score(pipe_svr,X_train,y_train,cv=5)"
   ]
  },
  {
   "cell_type": "markdown",
   "metadata": {},
   "source": [
    "COMMENTAIRE:"
   ]
  },
  {
   "cell_type": "code",
   "execution_count": 59,
   "metadata": {},
   "outputs": [
    {
     "data": {
      "text/html": [
       "<style>#sk-a78c4f3e-f0ef-42d4-926e-e737fe8e361a {color: black;background-color: white;}#sk-a78c4f3e-f0ef-42d4-926e-e737fe8e361a pre{padding: 0;}#sk-a78c4f3e-f0ef-42d4-926e-e737fe8e361a div.sk-toggleable {background-color: white;}#sk-a78c4f3e-f0ef-42d4-926e-e737fe8e361a label.sk-toggleable__label {cursor: pointer;display: block;width: 100%;margin-bottom: 0;padding: 0.3em;box-sizing: border-box;text-align: center;}#sk-a78c4f3e-f0ef-42d4-926e-e737fe8e361a label.sk-toggleable__label-arrow:before {content: \"▸\";float: left;margin-right: 0.25em;color: #696969;}#sk-a78c4f3e-f0ef-42d4-926e-e737fe8e361a label.sk-toggleable__label-arrow:hover:before {color: black;}#sk-a78c4f3e-f0ef-42d4-926e-e737fe8e361a div.sk-estimator:hover label.sk-toggleable__label-arrow:before {color: black;}#sk-a78c4f3e-f0ef-42d4-926e-e737fe8e361a div.sk-toggleable__content {max-height: 0;max-width: 0;overflow: hidden;text-align: left;background-color: #f0f8ff;}#sk-a78c4f3e-f0ef-42d4-926e-e737fe8e361a div.sk-toggleable__content pre {margin: 0.2em;color: black;border-radius: 0.25em;background-color: #f0f8ff;}#sk-a78c4f3e-f0ef-42d4-926e-e737fe8e361a input.sk-toggleable__control:checked~div.sk-toggleable__content {max-height: 200px;max-width: 100%;overflow: auto;}#sk-a78c4f3e-f0ef-42d4-926e-e737fe8e361a input.sk-toggleable__control:checked~label.sk-toggleable__label-arrow:before {content: \"▾\";}#sk-a78c4f3e-f0ef-42d4-926e-e737fe8e361a div.sk-estimator input.sk-toggleable__control:checked~label.sk-toggleable__label {background-color: #d4ebff;}#sk-a78c4f3e-f0ef-42d4-926e-e737fe8e361a div.sk-label input.sk-toggleable__control:checked~label.sk-toggleable__label {background-color: #d4ebff;}#sk-a78c4f3e-f0ef-42d4-926e-e737fe8e361a input.sk-hidden--visually {border: 0;clip: rect(1px 1px 1px 1px);clip: rect(1px, 1px, 1px, 1px);height: 1px;margin: -1px;overflow: hidden;padding: 0;position: absolute;width: 1px;}#sk-a78c4f3e-f0ef-42d4-926e-e737fe8e361a div.sk-estimator {font-family: monospace;background-color: #f0f8ff;border: 1px dotted black;border-radius: 0.25em;box-sizing: border-box;margin-bottom: 0.5em;}#sk-a78c4f3e-f0ef-42d4-926e-e737fe8e361a div.sk-estimator:hover {background-color: #d4ebff;}#sk-a78c4f3e-f0ef-42d4-926e-e737fe8e361a div.sk-parallel-item::after {content: \"\";width: 100%;border-bottom: 1px solid gray;flex-grow: 1;}#sk-a78c4f3e-f0ef-42d4-926e-e737fe8e361a div.sk-label:hover label.sk-toggleable__label {background-color: #d4ebff;}#sk-a78c4f3e-f0ef-42d4-926e-e737fe8e361a div.sk-serial::before {content: \"\";position: absolute;border-left: 1px solid gray;box-sizing: border-box;top: 2em;bottom: 0;left: 50%;}#sk-a78c4f3e-f0ef-42d4-926e-e737fe8e361a div.sk-serial {display: flex;flex-direction: column;align-items: center;background-color: white;padding-right: 0.2em;padding-left: 0.2em;}#sk-a78c4f3e-f0ef-42d4-926e-e737fe8e361a div.sk-item {z-index: 1;}#sk-a78c4f3e-f0ef-42d4-926e-e737fe8e361a div.sk-parallel {display: flex;align-items: stretch;justify-content: center;background-color: white;}#sk-a78c4f3e-f0ef-42d4-926e-e737fe8e361a div.sk-parallel::before {content: \"\";position: absolute;border-left: 1px solid gray;box-sizing: border-box;top: 2em;bottom: 0;left: 50%;}#sk-a78c4f3e-f0ef-42d4-926e-e737fe8e361a div.sk-parallel-item {display: flex;flex-direction: column;position: relative;background-color: white;}#sk-a78c4f3e-f0ef-42d4-926e-e737fe8e361a div.sk-parallel-item:first-child::after {align-self: flex-end;width: 50%;}#sk-a78c4f3e-f0ef-42d4-926e-e737fe8e361a div.sk-parallel-item:last-child::after {align-self: flex-start;width: 50%;}#sk-a78c4f3e-f0ef-42d4-926e-e737fe8e361a div.sk-parallel-item:only-child::after {width: 0;}#sk-a78c4f3e-f0ef-42d4-926e-e737fe8e361a div.sk-dashed-wrapped {border: 1px dashed gray;margin: 0 0.4em 0.5em 0.4em;box-sizing: border-box;padding-bottom: 0.4em;background-color: white;position: relative;}#sk-a78c4f3e-f0ef-42d4-926e-e737fe8e361a div.sk-label label {font-family: monospace;font-weight: bold;background-color: white;display: inline-block;line-height: 1.2em;}#sk-a78c4f3e-f0ef-42d4-926e-e737fe8e361a div.sk-label-container {position: relative;z-index: 2;text-align: center;}#sk-a78c4f3e-f0ef-42d4-926e-e737fe8e361a div.sk-container {/* jupyter's `normalize.less` sets `[hidden] { display: none; }` but bootstrap.min.css set `[hidden] { display: none !important; }` so we also need the `!important` here to be able to override the default hidden behavior on the sphinx rendered scikit-learn.org. See: https://github.com/scikit-learn/scikit-learn/issues/21755 */display: inline-block !important;position: relative;}#sk-a78c4f3e-f0ef-42d4-926e-e737fe8e361a div.sk-text-repr-fallback {display: none;}</style><div id=\"sk-a78c4f3e-f0ef-42d4-926e-e737fe8e361a\" class=\"sk-top-container\"><div class=\"sk-text-repr-fallback\"><pre>GridSearchCV(cv=5,\n",
       "             estimator=Pipeline(steps=[(&#x27;columntransformer&#x27;,\n",
       "                                        ColumnTransformer(transformers=[(&#x27;onehotencoder&#x27;,\n",
       "                                                                         OneHotEncoder(handle_unknown=&#x27;ignore&#x27;),\n",
       "                                                                         [&#x27;PrimaryPropertyType&#x27;,\n",
       "                                                                          &#x27;Neighborhood&#x27;,\n",
       "                                                                          &#x27;LargestPropertyUseType&#x27;,\n",
       "                                                                          &#x27;ComplianceStatus&#x27;]),\n",
       "                                                                        (&#x27;standardscaler&#x27;,\n",
       "                                                                         StandardScaler(),\n",
       "                                                                         [&#x27;NumberofBuildings&#x27;,\n",
       "                                                                          &#x27;NumberofFloors&#x27;,\n",
       "                                                                          &#x27;PropertyGFATotal&#x27;,\n",
       "                                                                          &#x27;PropertyGFAParking&#x27;,\n",
       "                                                                          &#x27;PropertyGFABuilding(s)&#x27;,\n",
       "                                                                          &#x27;LargestPropertyUseTypeGFA&#x27;,\n",
       "                                                                          &#x27;BuildingAge&#x27;])])),\n",
       "                                       (&#x27;svr&#x27;, SVR())]),\n",
       "             param_grid={&#x27;svr__kernel&#x27;: (&#x27;poly&#x27;, &#x27;linear&#x27;, &#x27;rbf&#x27;)},\n",
       "             scoring=&#x27;r2&#x27;)</pre><b>Please rerun this cell to show the HTML repr or trust the notebook.</b></div><div class=\"sk-container\" hidden><div class=\"sk-item sk-dashed-wrapped\"><div class=\"sk-label-container\"><div class=\"sk-label sk-toggleable\"><input class=\"sk-toggleable__control sk-hidden--visually\" id=\"2c279b31-1b54-4e31-b3d9-f46e4f655a43\" type=\"checkbox\" ><label for=\"2c279b31-1b54-4e31-b3d9-f46e4f655a43\" class=\"sk-toggleable__label sk-toggleable__label-arrow\">GridSearchCV</label><div class=\"sk-toggleable__content\"><pre>GridSearchCV(cv=5,\n",
       "             estimator=Pipeline(steps=[(&#x27;columntransformer&#x27;,\n",
       "                                        ColumnTransformer(transformers=[(&#x27;onehotencoder&#x27;,\n",
       "                                                                         OneHotEncoder(handle_unknown=&#x27;ignore&#x27;),\n",
       "                                                                         [&#x27;PrimaryPropertyType&#x27;,\n",
       "                                                                          &#x27;Neighborhood&#x27;,\n",
       "                                                                          &#x27;LargestPropertyUseType&#x27;,\n",
       "                                                                          &#x27;ComplianceStatus&#x27;]),\n",
       "                                                                        (&#x27;standardscaler&#x27;,\n",
       "                                                                         StandardScaler(),\n",
       "                                                                         [&#x27;NumberofBuildings&#x27;,\n",
       "                                                                          &#x27;NumberofFloors&#x27;,\n",
       "                                                                          &#x27;PropertyGFATotal&#x27;,\n",
       "                                                                          &#x27;PropertyGFAParking&#x27;,\n",
       "                                                                          &#x27;PropertyGFABuilding(s)&#x27;,\n",
       "                                                                          &#x27;LargestPropertyUseTypeGFA&#x27;,\n",
       "                                                                          &#x27;BuildingAge&#x27;])])),\n",
       "                                       (&#x27;svr&#x27;, SVR())]),\n",
       "             param_grid={&#x27;svr__kernel&#x27;: (&#x27;poly&#x27;, &#x27;linear&#x27;, &#x27;rbf&#x27;)},\n",
       "             scoring=&#x27;r2&#x27;)</pre></div></div></div><div class=\"sk-parallel\"><div class=\"sk-parallel-item\"><div class=\"sk-item\"><div class=\"sk-serial\"><div class=\"sk-item\"><div class=\"sk-serial\"><div class=\"sk-item sk-dashed-wrapped\"><div class=\"sk-label-container\"><div class=\"sk-label sk-toggleable\"><input class=\"sk-toggleable__control sk-hidden--visually\" id=\"37cf3c33-6d3c-47f5-ba59-5c1ae5c1d8f8\" type=\"checkbox\" ><label for=\"37cf3c33-6d3c-47f5-ba59-5c1ae5c1d8f8\" class=\"sk-toggleable__label sk-toggleable__label-arrow\">columntransformer: ColumnTransformer</label><div class=\"sk-toggleable__content\"><pre>ColumnTransformer(transformers=[(&#x27;onehotencoder&#x27;,\n",
       "                                 OneHotEncoder(handle_unknown=&#x27;ignore&#x27;),\n",
       "                                 [&#x27;PrimaryPropertyType&#x27;, &#x27;Neighborhood&#x27;,\n",
       "                                  &#x27;LargestPropertyUseType&#x27;,\n",
       "                                  &#x27;ComplianceStatus&#x27;]),\n",
       "                                (&#x27;standardscaler&#x27;, StandardScaler(),\n",
       "                                 [&#x27;NumberofBuildings&#x27;, &#x27;NumberofFloors&#x27;,\n",
       "                                  &#x27;PropertyGFATotal&#x27;, &#x27;PropertyGFAParking&#x27;,\n",
       "                                  &#x27;PropertyGFABuilding(s)&#x27;,\n",
       "                                  &#x27;LargestPropertyUseTypeGFA&#x27;,\n",
       "                                  &#x27;BuildingAge&#x27;])])</pre></div></div></div><div class=\"sk-parallel\"><div class=\"sk-parallel-item\"><div class=\"sk-item\"><div class=\"sk-label-container\"><div class=\"sk-label sk-toggleable\"><input class=\"sk-toggleable__control sk-hidden--visually\" id=\"c389dd12-ac5d-42ba-b768-01ed6e003133\" type=\"checkbox\" ><label for=\"c389dd12-ac5d-42ba-b768-01ed6e003133\" class=\"sk-toggleable__label sk-toggleable__label-arrow\">onehotencoder</label><div class=\"sk-toggleable__content\"><pre>[&#x27;PrimaryPropertyType&#x27;, &#x27;Neighborhood&#x27;, &#x27;LargestPropertyUseType&#x27;, &#x27;ComplianceStatus&#x27;]</pre></div></div></div><div class=\"sk-serial\"><div class=\"sk-item\"><div class=\"sk-estimator sk-toggleable\"><input class=\"sk-toggleable__control sk-hidden--visually\" id=\"fe35f2b4-20dc-4ff9-b81d-a4f9607f4240\" type=\"checkbox\" ><label for=\"fe35f2b4-20dc-4ff9-b81d-a4f9607f4240\" class=\"sk-toggleable__label sk-toggleable__label-arrow\">OneHotEncoder</label><div class=\"sk-toggleable__content\"><pre>OneHotEncoder(handle_unknown=&#x27;ignore&#x27;)</pre></div></div></div></div></div></div><div class=\"sk-parallel-item\"><div class=\"sk-item\"><div class=\"sk-label-container\"><div class=\"sk-label sk-toggleable\"><input class=\"sk-toggleable__control sk-hidden--visually\" id=\"12d63b9b-2f30-46a9-aa36-5a4b2635fb11\" type=\"checkbox\" ><label for=\"12d63b9b-2f30-46a9-aa36-5a4b2635fb11\" class=\"sk-toggleable__label sk-toggleable__label-arrow\">standardscaler</label><div class=\"sk-toggleable__content\"><pre>[&#x27;NumberofBuildings&#x27;, &#x27;NumberofFloors&#x27;, &#x27;PropertyGFATotal&#x27;, &#x27;PropertyGFAParking&#x27;, &#x27;PropertyGFABuilding(s)&#x27;, &#x27;LargestPropertyUseTypeGFA&#x27;, &#x27;BuildingAge&#x27;]</pre></div></div></div><div class=\"sk-serial\"><div class=\"sk-item\"><div class=\"sk-estimator sk-toggleable\"><input class=\"sk-toggleable__control sk-hidden--visually\" id=\"f913fa25-a1a6-4623-9b77-5c13b0860f71\" type=\"checkbox\" ><label for=\"f913fa25-a1a6-4623-9b77-5c13b0860f71\" class=\"sk-toggleable__label sk-toggleable__label-arrow\">StandardScaler</label><div class=\"sk-toggleable__content\"><pre>StandardScaler()</pre></div></div></div></div></div></div></div></div><div class=\"sk-item\"><div class=\"sk-estimator sk-toggleable\"><input class=\"sk-toggleable__control sk-hidden--visually\" id=\"30766e3c-3a98-4d73-88db-cf7c6e660f4a\" type=\"checkbox\" ><label for=\"30766e3c-3a98-4d73-88db-cf7c6e660f4a\" class=\"sk-toggleable__label sk-toggleable__label-arrow\">SVR</label><div class=\"sk-toggleable__content\"><pre>SVR()</pre></div></div></div></div></div></div></div></div></div></div></div></div>"
      ],
      "text/plain": [
       "GridSearchCV(cv=5,\n",
       "             estimator=Pipeline(steps=[('columntransformer',\n",
       "                                        ColumnTransformer(transformers=[('onehotencoder',\n",
       "                                                                         OneHotEncoder(handle_unknown='ignore'),\n",
       "                                                                         ['PrimaryPropertyType',\n",
       "                                                                          'Neighborhood',\n",
       "                                                                          'LargestPropertyUseType',\n",
       "                                                                          'ComplianceStatus']),\n",
       "                                                                        ('standardscaler',\n",
       "                                                                         StandardScaler(),\n",
       "                                                                         ['NumberofBuildings',\n",
       "                                                                          'NumberofFloors',\n",
       "                                                                          'PropertyGFATotal',\n",
       "                                                                          'PropertyGFAParking',\n",
       "                                                                          'PropertyGFABuilding(s)',\n",
       "                                                                          'LargestPropertyUseTypeGFA',\n",
       "                                                                          'BuildingAge'])])),\n",
       "                                       ('svr', SVR())]),\n",
       "             param_grid={'svr__kernel': ('poly', 'linear', 'rbf')},\n",
       "             scoring='r2')"
      ]
     },
     "execution_count": 59,
     "metadata": {},
     "output_type": "execute_result"
    }
   ],
   "source": [
    "# Optimisation des hyperparamètres avec: GridSearchCV()\n",
    "parameters = {'svr__kernel': ('poly','linear','rbf')}\n",
    "#Grille de recherche:\n",
    "grid_svr= GridSearchCV(pipe_svr,parameters, cv=5,scoring='r2')\n",
    "grid_svr.fit(X_train,y_train)"
   ]
  },
  {
   "cell_type": "code",
   "execution_count": 60,
   "metadata": {},
   "outputs": [
    {
     "name": "stdout",
     "output_type": "stream",
     "text": [
      "0.01595813309431702\n",
      "{'svr__kernel': 'linear'}\n"
     ]
    }
   ],
   "source": [
    "print(grid_svr.best_score_)\n",
    "print(grid_svr.best_params_)"
   ]
  },
  {
   "cell_type": "code",
   "execution_count": 61,
   "metadata": {},
   "outputs": [
    {
     "data": {
      "text/plain": [
       "0.1873930316908604"
      ]
     },
     "execution_count": 61,
     "metadata": {},
     "output_type": "execute_result"
    }
   ],
   "source": [
    "model_svr= grid_svr.best_estimator_\n",
    "pred_svr= model_svr.predict(X_test)\n",
    "r2_score(y_test, pred_svr)"
   ]
  },
  {
   "cell_type": "code",
   "execution_count": 62,
   "metadata": {},
   "outputs": [
    {
     "data": {
      "text/plain": [
       "[55.09188203209279,\n",
       " 3035.1154658380283,\n",
       " 35.30797769893651,\n",
       " 19.7930655629304,\n",
       " 0.1873930316908604]"
      ]
     },
     "execution_count": 62,
     "metadata": {},
     "output_type": "execute_result"
    }
   ],
   "source": [
    "# calcul des métriques:\n",
    "compute_scores(y_test, pred_svr)"
   ]
  },
  {
   "cell_type": "code",
   "execution_count": 63,
   "metadata": {},
   "outputs": [
    {
     "data": {
      "image/png": "[encoded data removed]",
      "text/plain": [
       "<Figure size 432x288 with 1 Axes>"
      ]
     },
     "metadata": {
      "needs_background": "light"
     },
     "output_type": "display_data"
    }
   ],
   "source": [
    "fig, ax = plt.subplots()\n",
    "ax.scatter(y_test, pred_svr)\n",
    "ax.plot([y_test.min(), y_test.max()], [y_test.min(), y_test.max()], 'k--', lw=4)\n",
    "ax.set_xlabel('Measured')\n",
    "ax.set_ylabel('Predicted')\n",
    "plt.show()"
   ]
  },
  {
   "cell_type": "markdown",
   "metadata": {},
   "source": [
    "COMMENTAIRE:"
   ]
  },
  {
   "cell_type": "markdown",
   "metadata": {},
   "source": [
    "#### Application du modèle: Lasso"
   ]
  },
  {
   "cell_type": "markdown",
   "metadata": {},
   "source": [
    "Ce modèle est pratique pour écarter les features non pertinents."
   ]
  },
  {
   "cell_type": "code",
   "execution_count": 64,
   "metadata": {},
   "outputs": [],
   "source": [
    "lasso= Lasso(tol=0.1)\n",
    "# On crée le modèle à l'aide de pipeline\n",
    "pipe_lasso= make_pipeline(column_trans,lasso)"
   ]
  },
  {
   "cell_type": "code",
   "execution_count": 65,
   "metadata": {},
   "outputs": [
    {
     "data": {
      "text/plain": [
       "dict_keys(['memory', 'steps', 'verbose', 'columntransformer', 'lasso', 'columntransformer__n_jobs', 'columntransformer__remainder', 'columntransformer__sparse_threshold', 'columntransformer__transformer_weights', 'columntransformer__transformers', 'columntransformer__verbose', 'columntransformer__verbose_feature_names_out', 'columntransformer__onehotencoder', 'columntransformer__standardscaler', 'columntransformer__onehotencoder__categories', 'columntransformer__onehotencoder__drop', 'columntransformer__onehotencoder__dtype', 'columntransformer__onehotencoder__handle_unknown', 'columntransformer__onehotencoder__sparse', 'columntransformer__standardscaler__copy', 'columntransformer__standardscaler__with_mean', 'columntransformer__standardscaler__with_std', 'lasso__alpha', 'lasso__copy_X', 'lasso__fit_intercept', 'lasso__max_iter', 'lasso__normalize', 'lasso__positive', 'lasso__precompute', 'lasso__random_state', 'lasso__selection', 'lasso__tol', 'lasso__warm_start'])"
      ]
     },
     "execution_count": 65,
     "metadata": {},
     "output_type": "execute_result"
    }
   ],
   "source": [
    "# liste des paramètres de l'estimateur:\n",
    "pipe_lasso.get_params().keys()"
   ]
  },
  {
   "cell_type": "code",
   "execution_count": 66,
   "metadata": {},
   "outputs": [
    {
     "data": {
      "text/plain": [
       "0.058531506665302935"
      ]
     },
     "execution_count": 66,
     "metadata": {},
     "output_type": "execute_result"
    }
   ],
   "source": [
    "# Cross validation avec: cross_val_score()\n",
    "cross_val_score(pipe_lasso,X_train,y_train,cv=5).mean()"
   ]
  },
  {
   "cell_type": "code",
   "execution_count": 67,
   "metadata": {},
   "outputs": [
    {
     "data": {
      "text/html": [
       "<style>#sk-87a32c44-d8bb-4ae9-bd08-28649998fa4a {color: black;background-color: white;}#sk-87a32c44-d8bb-4ae9-bd08-28649998fa4a pre{padding: 0;}#sk-87a32c44-d8bb-4ae9-bd08-28649998fa4a div.sk-toggleable {background-color: white;}#sk-87a32c44-d8bb-4ae9-bd08-28649998fa4a label.sk-toggleable__label {cursor: pointer;display: block;width: 100%;margin-bottom: 0;padding: 0.3em;box-sizing: border-box;text-align: center;}#sk-87a32c44-d8bb-4ae9-bd08-28649998fa4a label.sk-toggleable__label-arrow:before {content: \"▸\";float: left;margin-right: 0.25em;color: #696969;}#sk-87a32c44-d8bb-4ae9-bd08-28649998fa4a label.sk-toggleable__label-arrow:hover:before {color: black;}#sk-87a32c44-d8bb-4ae9-bd08-28649998fa4a div.sk-estimator:hover label.sk-toggleable__label-arrow:before {color: black;}#sk-87a32c44-d8bb-4ae9-bd08-28649998fa4a div.sk-toggleable__content {max-height: 0;max-width: 0;overflow: hidden;text-align: left;background-color: #f0f8ff;}#sk-87a32c44-d8bb-4ae9-bd08-28649998fa4a div.sk-toggleable__content pre {margin: 0.2em;color: black;border-radius: 0.25em;background-color: #f0f8ff;}#sk-87a32c44-d8bb-4ae9-bd08-28649998fa4a input.sk-toggleable__control:checked~div.sk-toggleable__content {max-height: 200px;max-width: 100%;overflow: auto;}#sk-87a32c44-d8bb-4ae9-bd08-28649998fa4a input.sk-toggleable__control:checked~label.sk-toggleable__label-arrow:before {content: \"▾\";}#sk-87a32c44-d8bb-4ae9-bd08-28649998fa4a div.sk-estimator input.sk-toggleable__control:checked~label.sk-toggleable__label {background-color: #d4ebff;}#sk-87a32c44-d8bb-4ae9-bd08-28649998fa4a div.sk-label input.sk-toggleable__control:checked~label.sk-toggleable__label {background-color: #d4ebff;}#sk-87a32c44-d8bb-4ae9-bd08-28649998fa4a input.sk-hidden--visually {border: 0;clip: rect(1px 1px 1px 1px);clip: rect(1px, 1px, 1px, 1px);height: 1px;margin: -1px;overflow: hidden;padding: 0;position: absolute;width: 1px;}#sk-87a32c44-d8bb-4ae9-bd08-28649998fa4a div.sk-estimator {font-family: monospace;background-color: #f0f8ff;border: 1px dotted black;border-radius: 0.25em;box-sizing: border-box;margin-bottom: 0.5em;}#sk-87a32c44-d8bb-4ae9-bd08-28649998fa4a div.sk-estimator:hover {background-color: #d4ebff;}#sk-87a32c44-d8bb-4ae9-bd08-28649998fa4a div.sk-parallel-item::after {content: \"\";width: 100%;border-bottom: 1px solid gray;flex-grow: 1;}#sk-87a32c44-d8bb-4ae9-bd08-28649998fa4a div.sk-label:hover label.sk-toggleable__label {background-color: #d4ebff;}#sk-87a32c44-d8bb-4ae9-bd08-28649998fa4a div.sk-serial::before {content: \"\";position: absolute;border-left: 1px solid gray;box-sizing: border-box;top: 2em;bottom: 0;left: 50%;}#sk-87a32c44-d8bb-4ae9-bd08-28649998fa4a div.sk-serial {display: flex;flex-direction: column;align-items: center;background-color: white;padding-right: 0.2em;padding-left: 0.2em;}#sk-87a32c44-d8bb-4ae9-bd08-28649998fa4a div.sk-item {z-index: 1;}#sk-87a32c44-d8bb-4ae9-bd08-28649998fa4a div.sk-parallel {display: flex;align-items: stretch;justify-content: center;background-color: white;}#sk-87a32c44-d8bb-4ae9-bd08-28649998fa4a div.sk-parallel::before {content: \"\";position: absolute;border-left: 1px solid gray;box-sizing: border-box;top: 2em;bottom: 0;left: 50%;}#sk-87a32c44-d8bb-4ae9-bd08-28649998fa4a div.sk-parallel-item {display: flex;flex-direction: column;position: relative;background-color: white;}#sk-87a32c44-d8bb-4ae9-bd08-28649998fa4a div.sk-parallel-item:first-child::after {align-self: flex-end;width: 50%;}#sk-87a32c44-d8bb-4ae9-bd08-28649998fa4a div.sk-parallel-item:last-child::after {align-self: flex-start;width: 50%;}#sk-87a32c44-d8bb-4ae9-bd08-28649998fa4a div.sk-parallel-item:only-child::after {width: 0;}#sk-87a32c44-d8bb-4ae9-bd08-28649998fa4a div.sk-dashed-wrapped {border: 1px dashed gray;margin: 0 0.4em 0.5em 0.4em;box-sizing: border-box;padding-bottom: 0.4em;background-color: white;position: relative;}#sk-87a32c44-d8bb-4ae9-bd08-28649998fa4a div.sk-label label {font-family: monospace;font-weight: bold;background-color: white;display: inline-block;line-height: 1.2em;}#sk-87a32c44-d8bb-4ae9-bd08-28649998fa4a div.sk-label-container {position: relative;z-index: 2;text-align: center;}#sk-87a32c44-d8bb-4ae9-bd08-28649998fa4a div.sk-container {/* jupyter's `normalize.less` sets `[hidden] { display: none; }` but bootstrap.min.css set `[hidden] { display: none !important; }` so we also need the `!important` here to be able to override the default hidden behavior on the sphinx rendered scikit-learn.org. See: https://github.com/scikit-learn/scikit-learn/issues/21755 */display: inline-block !important;position: relative;}#sk-87a32c44-d8bb-4ae9-bd08-28649998fa4a div.sk-text-repr-fallback {display: none;}</style><div id=\"sk-87a32c44-d8bb-4ae9-bd08-28649998fa4a\" class=\"sk-top-container\"><div class=\"sk-text-repr-fallback\"><pre>GridSearchCV(cv=5,\n",
       "             estimator=Pipeline(steps=[(&#x27;columntransformer&#x27;,\n",
       "                                        ColumnTransformer(transformers=[(&#x27;onehotencoder&#x27;,\n",
       "                                                                         OneHotEncoder(handle_unknown=&#x27;ignore&#x27;),\n",
       "                                                                         [&#x27;PrimaryPropertyType&#x27;,\n",
       "                                                                          &#x27;Neighborhood&#x27;,\n",
       "                                                                          &#x27;LargestPropertyUseType&#x27;,\n",
       "                                                                          &#x27;ComplianceStatus&#x27;]),\n",
       "                                                                        (&#x27;standardscaler&#x27;,\n",
       "                                                                         StandardScaler(),\n",
       "                                                                         [&#x27;NumberofBuildings&#x27;,\n",
       "                                                                          &#x27;NumberofFloors&#x27;,\n",
       "                                                                          &#x27;PropertyGFATotal&#x27;,\n",
       "                                                                          &#x27;PropertyGFAParking&#x27;,\n",
       "                                                                          &#x27;PropertyGFABuilding(s)&#x27;,\n",
       "                                                                          &#x27;LargestPropertyUseTypeGFA&#x27;,\n",
       "                                                                          &#x27;BuildingAge&#x27;])])),\n",
       "                                       (&#x27;lasso&#x27;, Lasso(tol=0.1))]),\n",
       "             param_grid={&#x27;lasso__alpha&#x27;: [60, 70, 80]}, scoring=&#x27;r2&#x27;)</pre><b>Please rerun this cell to show the HTML repr or trust the notebook.</b></div><div class=\"sk-container\" hidden><div class=\"sk-item sk-dashed-wrapped\"><div class=\"sk-label-container\"><div class=\"sk-label sk-toggleable\"><input class=\"sk-toggleable__control sk-hidden--visually\" id=\"cad72527-64ca-4e85-84d1-bd5640c31cd5\" type=\"checkbox\" ><label for=\"cad72527-64ca-4e85-84d1-bd5640c31cd5\" class=\"sk-toggleable__label sk-toggleable__label-arrow\">GridSearchCV</label><div class=\"sk-toggleable__content\"><pre>GridSearchCV(cv=5,\n",
       "             estimator=Pipeline(steps=[(&#x27;columntransformer&#x27;,\n",
       "                                        ColumnTransformer(transformers=[(&#x27;onehotencoder&#x27;,\n",
       "                                                                         OneHotEncoder(handle_unknown=&#x27;ignore&#x27;),\n",
       "                                                                         [&#x27;PrimaryPropertyType&#x27;,\n",
       "                                                                          &#x27;Neighborhood&#x27;,\n",
       "                                                                          &#x27;LargestPropertyUseType&#x27;,\n",
       "                                                                          &#x27;ComplianceStatus&#x27;]),\n",
       "                                                                        (&#x27;standardscaler&#x27;,\n",
       "                                                                         StandardScaler(),\n",
       "                                                                         [&#x27;NumberofBuildings&#x27;,\n",
       "                                                                          &#x27;NumberofFloors&#x27;,\n",
       "                                                                          &#x27;PropertyGFATotal&#x27;,\n",
       "                                                                          &#x27;PropertyGFAParking&#x27;,\n",
       "                                                                          &#x27;PropertyGFABuilding(s)&#x27;,\n",
       "                                                                          &#x27;LargestPropertyUseTypeGFA&#x27;,\n",
       "                                                                          &#x27;BuildingAge&#x27;])])),\n",
       "                                       (&#x27;lasso&#x27;, Lasso(tol=0.1))]),\n",
       "             param_grid={&#x27;lasso__alpha&#x27;: [60, 70, 80]}, scoring=&#x27;r2&#x27;)</pre></div></div></div><div class=\"sk-parallel\"><div class=\"sk-parallel-item\"><div class=\"sk-item\"><div class=\"sk-serial\"><div class=\"sk-item\"><div class=\"sk-serial\"><div class=\"sk-item sk-dashed-wrapped\"><div class=\"sk-label-container\"><div class=\"sk-label sk-toggleable\"><input class=\"sk-toggleable__control sk-hidden--visually\" id=\"b0c2b627-2650-4aa5-88a6-1a295a7c38f8\" type=\"checkbox\" ><label for=\"b0c2b627-2650-4aa5-88a6-1a295a7c38f8\" class=\"sk-toggleable__label sk-toggleable__label-arrow\">columntransformer: ColumnTransformer</label><div class=\"sk-toggleable__content\"><pre>ColumnTransformer(transformers=[(&#x27;onehotencoder&#x27;,\n",
       "                                 OneHotEncoder(handle_unknown=&#x27;ignore&#x27;),\n",
       "                                 [&#x27;PrimaryPropertyType&#x27;, &#x27;Neighborhood&#x27;,\n",
       "                                  &#x27;LargestPropertyUseType&#x27;,\n",
       "                                  &#x27;ComplianceStatus&#x27;]),\n",
       "                                (&#x27;standardscaler&#x27;, StandardScaler(),\n",
       "                                 [&#x27;NumberofBuildings&#x27;, &#x27;NumberofFloors&#x27;,\n",
       "                                  &#x27;PropertyGFATotal&#x27;, &#x27;PropertyGFAParking&#x27;,\n",
       "                                  &#x27;PropertyGFABuilding(s)&#x27;,\n",
       "                                  &#x27;LargestPropertyUseTypeGFA&#x27;,\n",
       "                                  &#x27;BuildingAge&#x27;])])</pre></div></div></div><div class=\"sk-parallel\"><div class=\"sk-parallel-item\"><div class=\"sk-item\"><div class=\"sk-label-container\"><div class=\"sk-label sk-toggleable\"><input class=\"sk-toggleable__control sk-hidden--visually\" id=\"617644ec-7987-4cc4-b794-7c66b36de866\" type=\"checkbox\" ><label for=\"617644ec-7987-4cc4-b794-7c66b36de866\" class=\"sk-toggleable__label sk-toggleable__label-arrow\">onehotencoder</label><div class=\"sk-toggleable__content\"><pre>[&#x27;PrimaryPropertyType&#x27;, &#x27;Neighborhood&#x27;, &#x27;LargestPropertyUseType&#x27;, &#x27;ComplianceStatus&#x27;]</pre></div></div></div><div class=\"sk-serial\"><div class=\"sk-item\"><div class=\"sk-estimator sk-toggleable\"><input class=\"sk-toggleable__control sk-hidden--visually\" id=\"3c99df2f-547c-41e2-8e8f-c5a669577462\" type=\"checkbox\" ><label for=\"3c99df2f-547c-41e2-8e8f-c5a669577462\" class=\"sk-toggleable__label sk-toggleable__label-arrow\">OneHotEncoder</label><div class=\"sk-toggleable__content\"><pre>OneHotEncoder(handle_unknown=&#x27;ignore&#x27;)</pre></div></div></div></div></div></div><div class=\"sk-parallel-item\"><div class=\"sk-item\"><div class=\"sk-label-container\"><div class=\"sk-label sk-toggleable\"><input class=\"sk-toggleable__control sk-hidden--visually\" id=\"e5f93d26-3bb8-4361-878f-b20b368ffda6\" type=\"checkbox\" ><label for=\"e5f93d26-3bb8-4361-878f-b20b368ffda6\" class=\"sk-toggleable__label sk-toggleable__label-arrow\">standardscaler</label><div class=\"sk-toggleable__content\"><pre>[&#x27;NumberofBuildings&#x27;, &#x27;NumberofFloors&#x27;, &#x27;PropertyGFATotal&#x27;, &#x27;PropertyGFAParking&#x27;, &#x27;PropertyGFABuilding(s)&#x27;, &#x27;LargestPropertyUseTypeGFA&#x27;, &#x27;BuildingAge&#x27;]</pre></div></div></div><div class=\"sk-serial\"><div class=\"sk-item\"><div class=\"sk-estimator sk-toggleable\"><input class=\"sk-toggleable__control sk-hidden--visually\" id=\"3ad2feeb-b70e-4c61-a9d6-1bbaa61476f8\" type=\"checkbox\" ><label for=\"3ad2feeb-b70e-4c61-a9d6-1bbaa61476f8\" class=\"sk-toggleable__label sk-toggleable__label-arrow\">StandardScaler</label><div class=\"sk-toggleable__content\"><pre>StandardScaler()</pre></div></div></div></div></div></div></div></div><div class=\"sk-item\"><div class=\"sk-estimator sk-toggleable\"><input class=\"sk-toggleable__control sk-hidden--visually\" id=\"4b7be7b5-916a-42e8-9b99-d5b4a87c8b1a\" type=\"checkbox\" ><label for=\"4b7be7b5-916a-42e8-9b99-d5b4a87c8b1a\" class=\"sk-toggleable__label sk-toggleable__label-arrow\">Lasso</label><div class=\"sk-toggleable__content\"><pre>Lasso(tol=0.1)</pre></div></div></div></div></div></div></div></div></div></div></div></div>"
      ],
      "text/plain": [
       "GridSearchCV(cv=5,\n",
       "             estimator=Pipeline(steps=[('columntransformer',\n",
       "                                        ColumnTransformer(transformers=[('onehotencoder',\n",
       "                                                                         OneHotEncoder(handle_unknown='ignore'),\n",
       "                                                                         ['PrimaryPropertyType',\n",
       "                                                                          'Neighborhood',\n",
       "                                                                          'LargestPropertyUseType',\n",
       "                                                                          'ComplianceStatus']),\n",
       "                                                                        ('standardscaler',\n",
       "                                                                         StandardScaler(),\n",
       "                                                                         ['NumberofBuildings',\n",
       "                                                                          'NumberofFloors',\n",
       "                                                                          'PropertyGFATotal',\n",
       "                                                                          'PropertyGFAParking',\n",
       "                                                                          'PropertyGFABuilding(s)',\n",
       "                                                                          'LargestPropertyUseTypeGFA',\n",
       "                                                                          'BuildingAge'])])),\n",
       "                                       ('lasso', Lasso(tol=0.1))]),\n",
       "             param_grid={'lasso__alpha': [60, 70, 80]}, scoring='r2')"
      ]
     },
     "execution_count": 67,
     "metadata": {},
     "output_type": "execute_result"
    }
   ],
   "source": [
    "# Optimisation des hyperparamètres avec: GridSearchCV()\n",
    "parameters = {'lasso__alpha':[60,70,80]}\n",
    "#Grille de recherche:\n",
    "grid_lasso= GridSearchCV(pipe_lasso,parameters, cv=5,scoring='r2')\n",
    "grid_lasso.fit(X_train,y_train)"
   ]
  },
  {
   "cell_type": "code",
   "execution_count": 68,
   "metadata": {},
   "outputs": [
    {
     "name": "stdout",
     "output_type": "stream",
     "text": [
      "-0.005011729347886407\n",
      "{'lasso__alpha': 60}\n"
     ]
    }
   ],
   "source": [
    "print(grid_lasso.best_score_)\n",
    "print(grid_lasso.best_params_)"
   ]
  },
  {
   "cell_type": "code",
   "execution_count": 69,
   "metadata": {},
   "outputs": [
    {
     "data": {
      "text/plain": [
       "-0.0039546428929231325"
      ]
     },
     "execution_count": 69,
     "metadata": {},
     "output_type": "execute_result"
    }
   ],
   "source": [
    "model_lasso= grid_lasso.best_estimator_\n",
    "model_lasso.score(X_test,y_test)"
   ]
  },
  {
   "cell_type": "code",
   "execution_count": 70,
   "metadata": {},
   "outputs": [
    {
     "data": {
      "text/plain": [
       "[61.23565731742075,\n",
       " 3749.805727096586,\n",
       " 45.95119989680082,\n",
       " 38.43351578947368,\n",
       " -0.0039546428929231325]"
      ]
     },
     "execution_count": 70,
     "metadata": {},
     "output_type": "execute_result"
    }
   ],
   "source": [
    "pred_lasso= model_lasso.predict(X_test)\n",
    "# Evaluation des métriques:\n",
    "compute_scores(y_test, pred_lasso)"
   ]
  },
  {
   "cell_type": "code",
   "execution_count": 71,
   "metadata": {},
   "outputs": [
    {
     "data": {
      "image/png": "[encoded data removed]",
      "text/plain": [
       "<Figure size 432x288 with 1 Axes>"
      ]
     },
     "metadata": {
      "needs_background": "light"
     },
     "output_type": "display_data"
    }
   ],
   "source": [
    "fig, ax = plt.subplots()\n",
    "ax.scatter(y_test, pred_lasso)\n",
    "ax.plot([y_test.min(), y_test.max()], [y_test.min(), y_test.max()], 'k--', lw=4)\n",
    "ax.set_xlabel('Measured')\n",
    "ax.set_ylabel('Predicted')\n",
    "plt.show()"
   ]
  },
  {
   "cell_type": "markdown",
   "metadata": {},
   "source": [
    "#### Application du modèle: Elastic-Net"
   ]
  },
  {
   "cell_type": "code",
   "execution_count": 72,
   "metadata": {},
   "outputs": [],
   "source": [
    "elastic= ElasticNet(tol=0.1)\n",
    "# On crée le modèle à l'aide de pipeline\n",
    "pipe_elastic= make_pipeline(column_trans,elastic)"
   ]
  },
  {
   "cell_type": "code",
   "execution_count": 73,
   "metadata": {},
   "outputs": [
    {
     "data": {
      "text/plain": [
       "dict_keys(['memory', 'steps', 'verbose', 'columntransformer', 'elasticnet', 'columntransformer__n_jobs', 'columntransformer__remainder', 'columntransformer__sparse_threshold', 'columntransformer__transformer_weights', 'columntransformer__transformers', 'columntransformer__verbose', 'columntransformer__verbose_feature_names_out', 'columntransformer__onehotencoder', 'columntransformer__standardscaler', 'columntransformer__onehotencoder__categories', 'columntransformer__onehotencoder__drop', 'columntransformer__onehotencoder__dtype', 'columntransformer__onehotencoder__handle_unknown', 'columntransformer__onehotencoder__sparse', 'columntransformer__standardscaler__copy', 'columntransformer__standardscaler__with_mean', 'columntransformer__standardscaler__with_std', 'elasticnet__alpha', 'elasticnet__copy_X', 'elasticnet__fit_intercept', 'elasticnet__l1_ratio', 'elasticnet__max_iter', 'elasticnet__normalize', 'elasticnet__positive', 'elasticnet__precompute', 'elasticnet__random_state', 'elasticnet__selection', 'elasticnet__tol', 'elasticnet__warm_start'])"
      ]
     },
     "execution_count": 73,
     "metadata": {},
     "output_type": "execute_result"
    }
   ],
   "source": [
    "# liste des paramètres de l'estimateur:\n",
    "pipe_elastic.get_params().keys()"
   ]
  },
  {
   "cell_type": "code",
   "execution_count": 74,
   "metadata": {},
   "outputs": [
    {
     "data": {
      "text/plain": [
       "array([ 0.11999896,  0.13542442, -0.25656838,  0.14495393,  0.10615233])"
      ]
     },
     "execution_count": 74,
     "metadata": {},
     "output_type": "execute_result"
    }
   ],
   "source": [
    "# Cross validation avec: cross_val_score()\n",
    "cross_val_score(pipe_elastic,X_train,y_train,cv=5,scoring='r2')"
   ]
  },
  {
   "cell_type": "code",
   "execution_count": 75,
   "metadata": {},
   "outputs": [
    {
     "data": {
      "text/html": [
       "<style>#sk-45d113ed-0cf6-4faf-96f6-b1fb76b4a4a4 {color: black;background-color: white;}#sk-45d113ed-0cf6-4faf-96f6-b1fb76b4a4a4 pre{padding: 0;}#sk-45d113ed-0cf6-4faf-96f6-b1fb76b4a4a4 div.sk-toggleable {background-color: white;}#sk-45d113ed-0cf6-4faf-96f6-b1fb76b4a4a4 label.sk-toggleable__label {cursor: pointer;display: block;width: 100%;margin-bottom: 0;padding: 0.3em;box-sizing: border-box;text-align: center;}#sk-45d113ed-0cf6-4faf-96f6-b1fb76b4a4a4 label.sk-toggleable__label-arrow:before {content: \"▸\";float: left;margin-right: 0.25em;color: #696969;}#sk-45d113ed-0cf6-4faf-96f6-b1fb76b4a4a4 label.sk-toggleable__label-arrow:hover:before {color: black;}#sk-45d113ed-0cf6-4faf-96f6-b1fb76b4a4a4 div.sk-estimator:hover label.sk-toggleable__label-arrow:before {color: black;}#sk-45d113ed-0cf6-4faf-96f6-b1fb76b4a4a4 div.sk-toggleable__content {max-height: 0;max-width: 0;overflow: hidden;text-align: left;background-color: #f0f8ff;}#sk-45d113ed-0cf6-4faf-96f6-b1fb76b4a4a4 div.sk-toggleable__content pre {margin: 0.2em;color: black;border-radius: 0.25em;background-color: #f0f8ff;}#sk-45d113ed-0cf6-4faf-96f6-b1fb76b4a4a4 input.sk-toggleable__control:checked~div.sk-toggleable__content {max-height: 200px;max-width: 100%;overflow: auto;}#sk-45d113ed-0cf6-4faf-96f6-b1fb76b4a4a4 input.sk-toggleable__control:checked~label.sk-toggleable__label-arrow:before {content: \"▾\";}#sk-45d113ed-0cf6-4faf-96f6-b1fb76b4a4a4 div.sk-estimator input.sk-toggleable__control:checked~label.sk-toggleable__label {background-color: #d4ebff;}#sk-45d113ed-0cf6-4faf-96f6-b1fb76b4a4a4 div.sk-label input.sk-toggleable__control:checked~label.sk-toggleable__label {background-color: #d4ebff;}#sk-45d113ed-0cf6-4faf-96f6-b1fb76b4a4a4 input.sk-hidden--visually {border: 0;clip: rect(1px 1px 1px 1px);clip: rect(1px, 1px, 1px, 1px);height: 1px;margin: -1px;overflow: hidden;padding: 0;position: absolute;width: 1px;}#sk-45d113ed-0cf6-4faf-96f6-b1fb76b4a4a4 div.sk-estimator {font-family: monospace;background-color: #f0f8ff;border: 1px dotted black;border-radius: 0.25em;box-sizing: border-box;margin-bottom: 0.5em;}#sk-45d113ed-0cf6-4faf-96f6-b1fb76b4a4a4 div.sk-estimator:hover {background-color: #d4ebff;}#sk-45d113ed-0cf6-4faf-96f6-b1fb76b4a4a4 div.sk-parallel-item::after {content: \"\";width: 100%;border-bottom: 1px solid gray;flex-grow: 1;}#sk-45d113ed-0cf6-4faf-96f6-b1fb76b4a4a4 div.sk-label:hover label.sk-toggleable__label {background-color: #d4ebff;}#sk-45d113ed-0cf6-4faf-96f6-b1fb76b4a4a4 div.sk-serial::before {content: \"\";position: absolute;border-left: 1px solid gray;box-sizing: border-box;top: 2em;bottom: 0;left: 50%;}#sk-45d113ed-0cf6-4faf-96f6-b1fb76b4a4a4 div.sk-serial {display: flex;flex-direction: column;align-items: center;background-color: white;padding-right: 0.2em;padding-left: 0.2em;}#sk-45d113ed-0cf6-4faf-96f6-b1fb76b4a4a4 div.sk-item {z-index: 1;}#sk-45d113ed-0cf6-4faf-96f6-b1fb76b4a4a4 div.sk-parallel {display: flex;align-items: stretch;justify-content: center;background-color: white;}#sk-45d113ed-0cf6-4faf-96f6-b1fb76b4a4a4 div.sk-parallel::before {content: \"\";position: absolute;border-left: 1px solid gray;box-sizing: border-box;top: 2em;bottom: 0;left: 50%;}#sk-45d113ed-0cf6-4faf-96f6-b1fb76b4a4a4 div.sk-parallel-item {display: flex;flex-direction: column;position: relative;background-color: white;}#sk-45d113ed-0cf6-4faf-96f6-b1fb76b4a4a4 div.sk-parallel-item:first-child::after {align-self: flex-end;width: 50%;}#sk-45d113ed-0cf6-4faf-96f6-b1fb76b4a4a4 div.sk-parallel-item:last-child::after {align-self: flex-start;width: 50%;}#sk-45d113ed-0cf6-4faf-96f6-b1fb76b4a4a4 div.sk-parallel-item:only-child::after {width: 0;}#sk-45d113ed-0cf6-4faf-96f6-b1fb76b4a4a4 div.sk-dashed-wrapped {border: 1px dashed gray;margin: 0 0.4em 0.5em 0.4em;box-sizing: border-box;padding-bottom: 0.4em;background-color: white;position: relative;}#sk-45d113ed-0cf6-4faf-96f6-b1fb76b4a4a4 div.sk-label label {font-family: monospace;font-weight: bold;background-color: white;display: inline-block;line-height: 1.2em;}#sk-45d113ed-0cf6-4faf-96f6-b1fb76b4a4a4 div.sk-label-container {position: relative;z-index: 2;text-align: center;}#sk-45d113ed-0cf6-4faf-96f6-b1fb76b4a4a4 div.sk-container {/* jupyter's `normalize.less` sets `[hidden] { display: none; }` but bootstrap.min.css set `[hidden] { display: none !important; }` so we also need the `!important` here to be able to override the default hidden behavior on the sphinx rendered scikit-learn.org. See: https://github.com/scikit-learn/scikit-learn/issues/21755 */display: inline-block !important;position: relative;}#sk-45d113ed-0cf6-4faf-96f6-b1fb76b4a4a4 div.sk-text-repr-fallback {display: none;}</style><div id=\"sk-45d113ed-0cf6-4faf-96f6-b1fb76b4a4a4\" class=\"sk-top-container\"><div class=\"sk-text-repr-fallback\"><pre>GridSearchCV(cv=5,\n",
       "             estimator=Pipeline(steps=[(&#x27;columntransformer&#x27;,\n",
       "                                        ColumnTransformer(transformers=[(&#x27;onehotencoder&#x27;,\n",
       "                                                                         OneHotEncoder(handle_unknown=&#x27;ignore&#x27;),\n",
       "                                                                         [&#x27;PrimaryPropertyType&#x27;,\n",
       "                                                                          &#x27;Neighborhood&#x27;,\n",
       "                                                                          &#x27;LargestPropertyUseType&#x27;,\n",
       "                                                                          &#x27;ComplianceStatus&#x27;]),\n",
       "                                                                        (&#x27;standardscaler&#x27;,\n",
       "                                                                         StandardScaler(),\n",
       "                                                                         [&#x27;NumberofBuildings&#x27;,\n",
       "                                                                          &#x27;NumberofFloors&#x27;,\n",
       "                                                                          &#x27;PropertyGFATotal&#x27;,\n",
       "                                                                          &#x27;PropertyGFAParking&#x27;,\n",
       "                                                                          &#x27;PropertyGFABuilding(s)&#x27;,\n",
       "                                                                          &#x27;LargestPropertyUseTypeGFA&#x27;,\n",
       "                                                                          &#x27;BuildingAge&#x27;])])),\n",
       "                                       (&#x27;elasticnet&#x27;, ElasticNet(tol=0.1))]),\n",
       "             param_grid={&#x27;elasticnet__alpha&#x27;: [0.01, 0.1, 1],\n",
       "                         &#x27;elasticnet__l1_ratio&#x27;: [1e-05, 0.0001, 0.001]})</pre><b>Please rerun this cell to show the HTML repr or trust the notebook.</b></div><div class=\"sk-container\" hidden><div class=\"sk-item sk-dashed-wrapped\"><div class=\"sk-label-container\"><div class=\"sk-label sk-toggleable\"><input class=\"sk-toggleable__control sk-hidden--visually\" id=\"b2acb3c4-d6fe-400a-b946-b2d764300fc0\" type=\"checkbox\" ><label for=\"b2acb3c4-d6fe-400a-b946-b2d764300fc0\" class=\"sk-toggleable__label sk-toggleable__label-arrow\">GridSearchCV</label><div class=\"sk-toggleable__content\"><pre>GridSearchCV(cv=5,\n",
       "             estimator=Pipeline(steps=[(&#x27;columntransformer&#x27;,\n",
       "                                        ColumnTransformer(transformers=[(&#x27;onehotencoder&#x27;,\n",
       "                                                                         OneHotEncoder(handle_unknown=&#x27;ignore&#x27;),\n",
       "                                                                         [&#x27;PrimaryPropertyType&#x27;,\n",
       "                                                                          &#x27;Neighborhood&#x27;,\n",
       "                                                                          &#x27;LargestPropertyUseType&#x27;,\n",
       "                                                                          &#x27;ComplianceStatus&#x27;]),\n",
       "                                                                        (&#x27;standardscaler&#x27;,\n",
       "                                                                         StandardScaler(),\n",
       "                                                                         [&#x27;NumberofBuildings&#x27;,\n",
       "                                                                          &#x27;NumberofFloors&#x27;,\n",
       "                                                                          &#x27;PropertyGFATotal&#x27;,\n",
       "                                                                          &#x27;PropertyGFAParking&#x27;,\n",
       "                                                                          &#x27;PropertyGFABuilding(s)&#x27;,\n",
       "                                                                          &#x27;LargestPropertyUseTypeGFA&#x27;,\n",
       "                                                                          &#x27;BuildingAge&#x27;])])),\n",
       "                                       (&#x27;elasticnet&#x27;, ElasticNet(tol=0.1))]),\n",
       "             param_grid={&#x27;elasticnet__alpha&#x27;: [0.01, 0.1, 1],\n",
       "                         &#x27;elasticnet__l1_ratio&#x27;: [1e-05, 0.0001, 0.001]})</pre></div></div></div><div class=\"sk-parallel\"><div class=\"sk-parallel-item\"><div class=\"sk-item\"><div class=\"sk-serial\"><div class=\"sk-item\"><div class=\"sk-serial\"><div class=\"sk-item sk-dashed-wrapped\"><div class=\"sk-label-container\"><div class=\"sk-label sk-toggleable\"><input class=\"sk-toggleable__control sk-hidden--visually\" id=\"7772d3b2-4d7d-4f1a-ab9b-b02cc853b261\" type=\"checkbox\" ><label for=\"7772d3b2-4d7d-4f1a-ab9b-b02cc853b261\" class=\"sk-toggleable__label sk-toggleable__label-arrow\">columntransformer: ColumnTransformer</label><div class=\"sk-toggleable__content\"><pre>ColumnTransformer(transformers=[(&#x27;onehotencoder&#x27;,\n",
       "                                 OneHotEncoder(handle_unknown=&#x27;ignore&#x27;),\n",
       "                                 [&#x27;PrimaryPropertyType&#x27;, &#x27;Neighborhood&#x27;,\n",
       "                                  &#x27;LargestPropertyUseType&#x27;,\n",
       "                                  &#x27;ComplianceStatus&#x27;]),\n",
       "                                (&#x27;standardscaler&#x27;, StandardScaler(),\n",
       "                                 [&#x27;NumberofBuildings&#x27;, &#x27;NumberofFloors&#x27;,\n",
       "                                  &#x27;PropertyGFATotal&#x27;, &#x27;PropertyGFAParking&#x27;,\n",
       "                                  &#x27;PropertyGFABuilding(s)&#x27;,\n",
       "                                  &#x27;LargestPropertyUseTypeGFA&#x27;,\n",
       "                                  &#x27;BuildingAge&#x27;])])</pre></div></div></div><div class=\"sk-parallel\"><div class=\"sk-parallel-item\"><div class=\"sk-item\"><div class=\"sk-label-container\"><div class=\"sk-label sk-toggleable\"><input class=\"sk-toggleable__control sk-hidden--visually\" id=\"3be4d953-3c29-4c14-b6b5-5b69a821f308\" type=\"checkbox\" ><label for=\"3be4d953-3c29-4c14-b6b5-5b69a821f308\" class=\"sk-toggleable__label sk-toggleable__label-arrow\">onehotencoder</label><div class=\"sk-toggleable__content\"><pre>[&#x27;PrimaryPropertyType&#x27;, &#x27;Neighborhood&#x27;, &#x27;LargestPropertyUseType&#x27;, &#x27;ComplianceStatus&#x27;]</pre></div></div></div><div class=\"sk-serial\"><div class=\"sk-item\"><div class=\"sk-estimator sk-toggleable\"><input class=\"sk-toggleable__control sk-hidden--visually\" id=\"bd0be724-846d-4b11-a12e-5748f9f76d11\" type=\"checkbox\" ><label for=\"bd0be724-846d-4b11-a12e-5748f9f76d11\" class=\"sk-toggleable__label sk-toggleable__label-arrow\">OneHotEncoder</label><div class=\"sk-toggleable__content\"><pre>OneHotEncoder(handle_unknown=&#x27;ignore&#x27;)</pre></div></div></div></div></div></div><div class=\"sk-parallel-item\"><div class=\"sk-item\"><div class=\"sk-label-container\"><div class=\"sk-label sk-toggleable\"><input class=\"sk-toggleable__control sk-hidden--visually\" id=\"99d1f380-9ae5-41f6-9f6c-aff515cbeafb\" type=\"checkbox\" ><label for=\"99d1f380-9ae5-41f6-9f6c-aff515cbeafb\" class=\"sk-toggleable__label sk-toggleable__label-arrow\">standardscaler</label><div class=\"sk-toggleable__content\"><pre>[&#x27;NumberofBuildings&#x27;, &#x27;NumberofFloors&#x27;, &#x27;PropertyGFATotal&#x27;, &#x27;PropertyGFAParking&#x27;, &#x27;PropertyGFABuilding(s)&#x27;, &#x27;LargestPropertyUseTypeGFA&#x27;, &#x27;BuildingAge&#x27;]</pre></div></div></div><div class=\"sk-serial\"><div class=\"sk-item\"><div class=\"sk-estimator sk-toggleable\"><input class=\"sk-toggleable__control sk-hidden--visually\" id=\"5245377e-695a-49ed-83a6-a90ec32e7b83\" type=\"checkbox\" ><label for=\"5245377e-695a-49ed-83a6-a90ec32e7b83\" class=\"sk-toggleable__label sk-toggleable__label-arrow\">StandardScaler</label><div class=\"sk-toggleable__content\"><pre>StandardScaler()</pre></div></div></div></div></div></div></div></div><div class=\"sk-item\"><div class=\"sk-estimator sk-toggleable\"><input class=\"sk-toggleable__control sk-hidden--visually\" id=\"baea3e92-a5a2-4567-b4d6-26ba74b20caf\" type=\"checkbox\" ><label for=\"baea3e92-a5a2-4567-b4d6-26ba74b20caf\" class=\"sk-toggleable__label sk-toggleable__label-arrow\">ElasticNet</label><div class=\"sk-toggleable__content\"><pre>ElasticNet(tol=0.1)</pre></div></div></div></div></div></div></div></div></div></div></div></div>"
      ],
      "text/plain": [
       "GridSearchCV(cv=5,\n",
       "             estimator=Pipeline(steps=[('columntransformer',\n",
       "                                        ColumnTransformer(transformers=[('onehotencoder',\n",
       "                                                                         OneHotEncoder(handle_unknown='ignore'),\n",
       "                                                                         ['PrimaryPropertyType',\n",
       "                                                                          'Neighborhood',\n",
       "                                                                          'LargestPropertyUseType',\n",
       "                                                                          'ComplianceStatus']),\n",
       "                                                                        ('standardscaler',\n",
       "                                                                         StandardScaler(),\n",
       "                                                                         ['NumberofBuildings',\n",
       "                                                                          'NumberofFloors',\n",
       "                                                                          'PropertyGFATotal',\n",
       "                                                                          'PropertyGFAParking',\n",
       "                                                                          'PropertyGFABuilding(s)',\n",
       "                                                                          'LargestPropertyUseTypeGFA',\n",
       "                                                                          'BuildingAge'])])),\n",
       "                                       ('elasticnet', ElasticNet(tol=0.1))]),\n",
       "             param_grid={'elasticnet__alpha': [0.01, 0.1, 1],\n",
       "                         'elasticnet__l1_ratio': [1e-05, 0.0001, 0.001]})"
      ]
     },
     "execution_count": 75,
     "metadata": {},
     "output_type": "execute_result"
    }
   ],
   "source": [
    "# Optimisation des hyperparamètres avec: GridSearchCV()\n",
    "parameters = {'elasticnet__l1_ratio':[1e-5,1e-4,1e-3],'elasticnet__alpha':[1e-2,0.1,1]}\n",
    "#Grille de recherche:\n",
    "grid_elastic= GridSearchCV(pipe_elastic,parameters, cv=5)\n",
    "grid_elastic.fit(X_train,y_train)"
   ]
  },
  {
   "cell_type": "code",
   "execution_count": 76,
   "metadata": {},
   "outputs": [
    {
     "name": "stdout",
     "output_type": "stream",
     "text": [
      "0.10064277853228135\n",
      "{'elasticnet__alpha': 0.01, 'elasticnet__l1_ratio': 0.001}\n"
     ]
    }
   ],
   "source": [
    "print(grid_elastic.best_score_)\n",
    "print(grid_elastic.best_params_)"
   ]
  },
  {
   "cell_type": "code",
   "execution_count": 77,
   "metadata": {},
   "outputs": [
    {
     "data": {
      "text/plain": [
       "0.23722164938411627"
      ]
     },
     "execution_count": 77,
     "metadata": {},
     "output_type": "execute_result"
    }
   ],
   "source": [
    "model_elastic= grid_elastic.best_estimator_\n",
    "model_elastic.score(X_test,y_test)"
   ]
  },
  {
   "cell_type": "code",
   "execution_count": 78,
   "metadata": {},
   "outputs": [
    {
     "data": {
      "text/plain": [
       "[53.3760605035368,\n",
       " 2849.003834877221,\n",
       " 37.84233044362799,\n",
       " 27.07823640549502,\n",
       " 0.23722164938411627]"
      ]
     },
     "execution_count": 78,
     "metadata": {},
     "output_type": "execute_result"
    }
   ],
   "source": [
    "pred_elastic= model_elastic.predict(X_test)\n",
    "# Evaluation des métriques:\n",
    "compute_scores(y_test, pred_elastic)"
   ]
  },
  {
   "cell_type": "code",
   "execution_count": 79,
   "metadata": {},
   "outputs": [
    {
     "data": {
      "image/png": "[encoded data removed]",
      "text/plain": [
       "<Figure size 432x288 with 1 Axes>"
      ]
     },
     "metadata": {
      "needs_background": "light"
     },
     "output_type": "display_data"
    }
   ],
   "source": [
    "fig, ax = plt.subplots()\n",
    "ax.scatter(y_test, pred_elastic)\n",
    "ax.plot([y_test.min(), y_test.max()], [y_test.min(), y_test.max()], 'k--', lw=4)\n",
    "ax.set_xlabel('Measured')\n",
    "ax.set_ylabel('Predicted')\n",
    "plt.show()"
   ]
  },
  {
   "cell_type": "markdown",
   "metadata": {},
   "source": [
    "#### Application du modèle: Forests of randomized trees"
   ]
  },
  {
   "cell_type": "code",
   "execution_count": 80,
   "metadata": {},
   "outputs": [],
   "source": [
    "randomforest= RandomForestRegressor()\n",
    "# On crée le modèle à l'aide de pipeline\n",
    "pipe_randomforest= make_pipeline(column_trans, randomforest)"
   ]
  },
  {
   "cell_type": "code",
   "execution_count": 81,
   "metadata": {},
   "outputs": [
    {
     "data": {
      "text/plain": [
       "dict_keys(['memory', 'steps', 'verbose', 'columntransformer', 'randomforestregressor', 'columntransformer__n_jobs', 'columntransformer__remainder', 'columntransformer__sparse_threshold', 'columntransformer__transformer_weights', 'columntransformer__transformers', 'columntransformer__verbose', 'columntransformer__verbose_feature_names_out', 'columntransformer__onehotencoder', 'columntransformer__standardscaler', 'columntransformer__onehotencoder__categories', 'columntransformer__onehotencoder__drop', 'columntransformer__onehotencoder__dtype', 'columntransformer__onehotencoder__handle_unknown', 'columntransformer__onehotencoder__sparse', 'columntransformer__standardscaler__copy', 'columntransformer__standardscaler__with_mean', 'columntransformer__standardscaler__with_std', 'randomforestregressor__bootstrap', 'randomforestregressor__ccp_alpha', 'randomforestregressor__criterion', 'randomforestregressor__max_depth', 'randomforestregressor__max_features', 'randomforestregressor__max_leaf_nodes', 'randomforestregressor__max_samples', 'randomforestregressor__min_impurity_decrease', 'randomforestregressor__min_samples_leaf', 'randomforestregressor__min_samples_split', 'randomforestregressor__min_weight_fraction_leaf', 'randomforestregressor__n_estimators', 'randomforestregressor__n_jobs', 'randomforestregressor__oob_score', 'randomforestregressor__random_state', 'randomforestregressor__verbose', 'randomforestregressor__warm_start'])"
      ]
     },
     "execution_count": 81,
     "metadata": {},
     "output_type": "execute_result"
    }
   ],
   "source": [
    "# liste des paramètres de l'estimateur:\n",
    "pipe_randomforest.get_params().keys()"
   ]
  },
  {
   "cell_type": "code",
   "execution_count": 82,
   "metadata": {},
   "outputs": [
    {
     "data": {
      "text/plain": [
       "array([0.25736932, 0.3601591 , 0.21942997, 0.30133798, 0.34769583])"
      ]
     },
     "execution_count": 82,
     "metadata": {},
     "output_type": "execute_result"
    }
   ],
   "source": [
    "# Cross validation avec: cross_val_score()\n",
    "cross_val_score(pipe_randomforest,X_train,y_train,cv=5,scoring='r2')"
   ]
  },
  {
   "cell_type": "code",
   "execution_count": 83,
   "metadata": {},
   "outputs": [
    {
     "data": {
      "text/html": [
       "<style>#sk-6fad6849-1c89-4993-a6a6-1519c5494fb7 {color: black;background-color: white;}#sk-6fad6849-1c89-4993-a6a6-1519c5494fb7 pre{padding: 0;}#sk-6fad6849-1c89-4993-a6a6-1519c5494fb7 div.sk-toggleable {background-color: white;}#sk-6fad6849-1c89-4993-a6a6-1519c5494fb7 label.sk-toggleable__label {cursor: pointer;display: block;width: 100%;margin-bottom: 0;padding: 0.3em;box-sizing: border-box;text-align: center;}#sk-6fad6849-1c89-4993-a6a6-1519c5494fb7 label.sk-toggleable__label-arrow:before {content: \"▸\";float: left;margin-right: 0.25em;color: #696969;}#sk-6fad6849-1c89-4993-a6a6-1519c5494fb7 label.sk-toggleable__label-arrow:hover:before {color: black;}#sk-6fad6849-1c89-4993-a6a6-1519c5494fb7 div.sk-estimator:hover label.sk-toggleable__label-arrow:before {color: black;}#sk-6fad6849-1c89-4993-a6a6-1519c5494fb7 div.sk-toggleable__content {max-height: 0;max-width: 0;overflow: hidden;text-align: left;background-color: #f0f8ff;}#sk-6fad6849-1c89-4993-a6a6-1519c5494fb7 div.sk-toggleable__content pre {margin: 0.2em;color: black;border-radius: 0.25em;background-color: #f0f8ff;}#sk-6fad6849-1c89-4993-a6a6-1519c5494fb7 input.sk-toggleable__control:checked~div.sk-toggleable__content {max-height: 200px;max-width: 100%;overflow: auto;}#sk-6fad6849-1c89-4993-a6a6-1519c5494fb7 input.sk-toggleable__control:checked~label.sk-toggleable__label-arrow:before {content: \"▾\";}#sk-6fad6849-1c89-4993-a6a6-1519c5494fb7 div.sk-estimator input.sk-toggleable__control:checked~label.sk-toggleable__label {background-color: #d4ebff;}#sk-6fad6849-1c89-4993-a6a6-1519c5494fb7 div.sk-label input.sk-toggleable__control:checked~label.sk-toggleable__label {background-color: #d4ebff;}#sk-6fad6849-1c89-4993-a6a6-1519c5494fb7 input.sk-hidden--visually {border: 0;clip: rect(1px 1px 1px 1px);clip: rect(1px, 1px, 1px, 1px);height: 1px;margin: -1px;overflow: hidden;padding: 0;position: absolute;width: 1px;}#sk-6fad6849-1c89-4993-a6a6-1519c5494fb7 div.sk-estimator {font-family: monospace;background-color: #f0f8ff;border: 1px dotted black;border-radius: 0.25em;box-sizing: border-box;margin-bottom: 0.5em;}#sk-6fad6849-1c89-4993-a6a6-1519c5494fb7 div.sk-estimator:hover {background-color: #d4ebff;}#sk-6fad6849-1c89-4993-a6a6-1519c5494fb7 div.sk-parallel-item::after {content: \"\";width: 100%;border-bottom: 1px solid gray;flex-grow: 1;}#sk-6fad6849-1c89-4993-a6a6-1519c5494fb7 div.sk-label:hover label.sk-toggleable__label {background-color: #d4ebff;}#sk-6fad6849-1c89-4993-a6a6-1519c5494fb7 div.sk-serial::before {content: \"\";position: absolute;border-left: 1px solid gray;box-sizing: border-box;top: 2em;bottom: 0;left: 50%;}#sk-6fad6849-1c89-4993-a6a6-1519c5494fb7 div.sk-serial {display: flex;flex-direction: column;align-items: center;background-color: white;padding-right: 0.2em;padding-left: 0.2em;}#sk-6fad6849-1c89-4993-a6a6-1519c5494fb7 div.sk-item {z-index: 1;}#sk-6fad6849-1c89-4993-a6a6-1519c5494fb7 div.sk-parallel {display: flex;align-items: stretch;justify-content: center;background-color: white;}#sk-6fad6849-1c89-4993-a6a6-1519c5494fb7 div.sk-parallel::before {content: \"\";position: absolute;border-left: 1px solid gray;box-sizing: border-box;top: 2em;bottom: 0;left: 50%;}#sk-6fad6849-1c89-4993-a6a6-1519c5494fb7 div.sk-parallel-item {display: flex;flex-direction: column;position: relative;background-color: white;}#sk-6fad6849-1c89-4993-a6a6-1519c5494fb7 div.sk-parallel-item:first-child::after {align-self: flex-end;width: 50%;}#sk-6fad6849-1c89-4993-a6a6-1519c5494fb7 div.sk-parallel-item:last-child::after {align-self: flex-start;width: 50%;}#sk-6fad6849-1c89-4993-a6a6-1519c5494fb7 div.sk-parallel-item:only-child::after {width: 0;}#sk-6fad6849-1c89-4993-a6a6-1519c5494fb7 div.sk-dashed-wrapped {border: 1px dashed gray;margin: 0 0.4em 0.5em 0.4em;box-sizing: border-box;padding-bottom: 0.4em;background-color: white;position: relative;}#sk-6fad6849-1c89-4993-a6a6-1519c5494fb7 div.sk-label label {font-family: monospace;font-weight: bold;background-color: white;display: inline-block;line-height: 1.2em;}#sk-6fad6849-1c89-4993-a6a6-1519c5494fb7 div.sk-label-container {position: relative;z-index: 2;text-align: center;}#sk-6fad6849-1c89-4993-a6a6-1519c5494fb7 div.sk-container {/* jupyter's `normalize.less` sets `[hidden] { display: none; }` but bootstrap.min.css set `[hidden] { display: none !important; }` so we also need the `!important` here to be able to override the default hidden behavior on the sphinx rendered scikit-learn.org. See: https://github.com/scikit-learn/scikit-learn/issues/21755 */display: inline-block !important;position: relative;}#sk-6fad6849-1c89-4993-a6a6-1519c5494fb7 div.sk-text-repr-fallback {display: none;}</style><div id=\"sk-6fad6849-1c89-4993-a6a6-1519c5494fb7\" class=\"sk-top-container\"><div class=\"sk-text-repr-fallback\"><pre>GridSearchCV(cv=5,\n",
       "             estimator=Pipeline(steps=[(&#x27;columntransformer&#x27;,\n",
       "                                        ColumnTransformer(transformers=[(&#x27;onehotencoder&#x27;,\n",
       "                                                                         OneHotEncoder(handle_unknown=&#x27;ignore&#x27;),\n",
       "                                                                         [&#x27;PrimaryPropertyType&#x27;,\n",
       "                                                                          &#x27;Neighborhood&#x27;,\n",
       "                                                                          &#x27;LargestPropertyUseType&#x27;,\n",
       "                                                                          &#x27;ComplianceStatus&#x27;]),\n",
       "                                                                        (&#x27;standardscaler&#x27;,\n",
       "                                                                         StandardScaler(),\n",
       "                                                                         [&#x27;NumberofBuildings&#x27;,\n",
       "                                                                          &#x27;NumberofFloors&#x27;,\n",
       "                                                                          &#x27;PropertyGFATotal&#x27;,\n",
       "                                                                          &#x27;PropertyGFAParking&#x27;,\n",
       "                                                                          &#x27;PropertyGFABuilding(s)&#x27;,\n",
       "                                                                          &#x27;LargestPropertyUseTypeGFA&#x27;,\n",
       "                                                                          &#x27;BuildingAge&#x27;])])),\n",
       "                                       (&#x27;randomforestregressor&#x27;,\n",
       "                                        RandomForestRegressor())]),\n",
       "             param_grid={&#x27;randomforestregressor__n_estimators&#x27;: [100, 200,\n",
       "                                                                 300]})</pre><b>Please rerun this cell to show the HTML repr or trust the notebook.</b></div><div class=\"sk-container\" hidden><div class=\"sk-item sk-dashed-wrapped\"><div class=\"sk-label-container\"><div class=\"sk-label sk-toggleable\"><input class=\"sk-toggleable__control sk-hidden--visually\" id=\"269bfaec-84f4-4909-88a0-46f477c7528c\" type=\"checkbox\" ><label for=\"269bfaec-84f4-4909-88a0-46f477c7528c\" class=\"sk-toggleable__label sk-toggleable__label-arrow\">GridSearchCV</label><div class=\"sk-toggleable__content\"><pre>GridSearchCV(cv=5,\n",
       "             estimator=Pipeline(steps=[(&#x27;columntransformer&#x27;,\n",
       "                                        ColumnTransformer(transformers=[(&#x27;onehotencoder&#x27;,\n",
       "                                                                         OneHotEncoder(handle_unknown=&#x27;ignore&#x27;),\n",
       "                                                                         [&#x27;PrimaryPropertyType&#x27;,\n",
       "                                                                          &#x27;Neighborhood&#x27;,\n",
       "                                                                          &#x27;LargestPropertyUseType&#x27;,\n",
       "                                                                          &#x27;ComplianceStatus&#x27;]),\n",
       "                                                                        (&#x27;standardscaler&#x27;,\n",
       "                                                                         StandardScaler(),\n",
       "                                                                         [&#x27;NumberofBuildings&#x27;,\n",
       "                                                                          &#x27;NumberofFloors&#x27;,\n",
       "                                                                          &#x27;PropertyGFATotal&#x27;,\n",
       "                                                                          &#x27;PropertyGFAParking&#x27;,\n",
       "                                                                          &#x27;PropertyGFABuilding(s)&#x27;,\n",
       "                                                                          &#x27;LargestPropertyUseTypeGFA&#x27;,\n",
       "                                                                          &#x27;BuildingAge&#x27;])])),\n",
       "                                       (&#x27;randomforestregressor&#x27;,\n",
       "                                        RandomForestRegressor())]),\n",
       "             param_grid={&#x27;randomforestregressor__n_estimators&#x27;: [100, 200,\n",
       "                                                                 300]})</pre></div></div></div><div class=\"sk-parallel\"><div class=\"sk-parallel-item\"><div class=\"sk-item\"><div class=\"sk-serial\"><div class=\"sk-item\"><div class=\"sk-serial\"><div class=\"sk-item sk-dashed-wrapped\"><div class=\"sk-label-container\"><div class=\"sk-label sk-toggleable\"><input class=\"sk-toggleable__control sk-hidden--visually\" id=\"bc8fdc4a-1e0e-4c17-925a-015539858321\" type=\"checkbox\" ><label for=\"bc8fdc4a-1e0e-4c17-925a-015539858321\" class=\"sk-toggleable__label sk-toggleable__label-arrow\">columntransformer: ColumnTransformer</label><div class=\"sk-toggleable__content\"><pre>ColumnTransformer(transformers=[(&#x27;onehotencoder&#x27;,\n",
       "                                 OneHotEncoder(handle_unknown=&#x27;ignore&#x27;),\n",
       "                                 [&#x27;PrimaryPropertyType&#x27;, &#x27;Neighborhood&#x27;,\n",
       "                                  &#x27;LargestPropertyUseType&#x27;,\n",
       "                                  &#x27;ComplianceStatus&#x27;]),\n",
       "                                (&#x27;standardscaler&#x27;, StandardScaler(),\n",
       "                                 [&#x27;NumberofBuildings&#x27;, &#x27;NumberofFloors&#x27;,\n",
       "                                  &#x27;PropertyGFATotal&#x27;, &#x27;PropertyGFAParking&#x27;,\n",
       "                                  &#x27;PropertyGFABuilding(s)&#x27;,\n",
       "                                  &#x27;LargestPropertyUseTypeGFA&#x27;,\n",
       "                                  &#x27;BuildingAge&#x27;])])</pre></div></div></div><div class=\"sk-parallel\"><div class=\"sk-parallel-item\"><div class=\"sk-item\"><div class=\"sk-label-container\"><div class=\"sk-label sk-toggleable\"><input class=\"sk-toggleable__control sk-hidden--visually\" id=\"23afb110-98e5-4989-a3a6-7abfe3cea6fa\" type=\"checkbox\" ><label for=\"23afb110-98e5-4989-a3a6-7abfe3cea6fa\" class=\"sk-toggleable__label sk-toggleable__label-arrow\">onehotencoder</label><div class=\"sk-toggleable__content\"><pre>[&#x27;PrimaryPropertyType&#x27;, &#x27;Neighborhood&#x27;, &#x27;LargestPropertyUseType&#x27;, &#x27;ComplianceStatus&#x27;]</pre></div></div></div><div class=\"sk-serial\"><div class=\"sk-item\"><div class=\"sk-estimator sk-toggleable\"><input class=\"sk-toggleable__control sk-hidden--visually\" id=\"fe743b8f-31f8-4226-97a5-fc06c1c0eb31\" type=\"checkbox\" ><label for=\"fe743b8f-31f8-4226-97a5-fc06c1c0eb31\" class=\"sk-toggleable__label sk-toggleable__label-arrow\">OneHotEncoder</label><div class=\"sk-toggleable__content\"><pre>OneHotEncoder(handle_unknown=&#x27;ignore&#x27;)</pre></div></div></div></div></div></div><div class=\"sk-parallel-item\"><div class=\"sk-item\"><div class=\"sk-label-container\"><div class=\"sk-label sk-toggleable\"><input class=\"sk-toggleable__control sk-hidden--visually\" id=\"d6ab35a6-f516-4f6b-9033-eaaceb0d898a\" type=\"checkbox\" ><label for=\"d6ab35a6-f516-4f6b-9033-eaaceb0d898a\" class=\"sk-toggleable__label sk-toggleable__label-arrow\">standardscaler</label><div class=\"sk-toggleable__content\"><pre>[&#x27;NumberofBuildings&#x27;, &#x27;NumberofFloors&#x27;, &#x27;PropertyGFATotal&#x27;, &#x27;PropertyGFAParking&#x27;, &#x27;PropertyGFABuilding(s)&#x27;, &#x27;LargestPropertyUseTypeGFA&#x27;, &#x27;BuildingAge&#x27;]</pre></div></div></div><div class=\"sk-serial\"><div class=\"sk-item\"><div class=\"sk-estimator sk-toggleable\"><input class=\"sk-toggleable__control sk-hidden--visually\" id=\"9ade93d4-d9f3-4c13-916c-19f9a4285c71\" type=\"checkbox\" ><label for=\"9ade93d4-d9f3-4c13-916c-19f9a4285c71\" class=\"sk-toggleable__label sk-toggleable__label-arrow\">StandardScaler</label><div class=\"sk-toggleable__content\"><pre>StandardScaler()</pre></div></div></div></div></div></div></div></div><div class=\"sk-item\"><div class=\"sk-estimator sk-toggleable\"><input class=\"sk-toggleable__control sk-hidden--visually\" id=\"5c27aaa5-f161-4218-b693-66561391dca3\" type=\"checkbox\" ><label for=\"5c27aaa5-f161-4218-b693-66561391dca3\" class=\"sk-toggleable__label sk-toggleable__label-arrow\">RandomForestRegressor</label><div class=\"sk-toggleable__content\"><pre>RandomForestRegressor()</pre></div></div></div></div></div></div></div></div></div></div></div></div>"
      ],
      "text/plain": [
       "GridSearchCV(cv=5,\n",
       "             estimator=Pipeline(steps=[('columntransformer',\n",
       "                                        ColumnTransformer(transformers=[('onehotencoder',\n",
       "                                                                         OneHotEncoder(handle_unknown='ignore'),\n",
       "                                                                         ['PrimaryPropertyType',\n",
       "                                                                          'Neighborhood',\n",
       "                                                                          'LargestPropertyUseType',\n",
       "                                                                          'ComplianceStatus']),\n",
       "                                                                        ('standardscaler',\n",
       "                                                                         StandardScaler(),\n",
       "                                                                         ['NumberofBuildings',\n",
       "                                                                          'NumberofFloors',\n",
       "                                                                          'PropertyGFATotal',\n",
       "                                                                          'PropertyGFAParking',\n",
       "                                                                          'PropertyGFABuilding(s)',\n",
       "                                                                          'LargestPropertyUseTypeGFA',\n",
       "                                                                          'BuildingAge'])])),\n",
       "                                       ('randomforestregressor',\n",
       "                                        RandomForestRegressor())]),\n",
       "             param_grid={'randomforestregressor__n_estimators': [100, 200,\n",
       "                                                                 300]})"
      ]
     },
     "execution_count": 83,
     "metadata": {},
     "output_type": "execute_result"
    }
   ],
   "source": [
    "parameter= {'randomforestregressor__n_estimators': [100,200,300]}\n",
    "#Grille de recherche:\n",
    "grid_randomforest= GridSearchCV(pipe_randomforest, parameter, cv=5)\n",
    "grid_randomforest.fit(X_train,y_train)"
   ]
  },
  {
   "cell_type": "code",
   "execution_count": 84,
   "metadata": {},
   "outputs": [
    {
     "name": "stdout",
     "output_type": "stream",
     "text": [
      "0.2959552978696019\n",
      "{'randomforestregressor__n_estimators': 300}\n"
     ]
    }
   ],
   "source": [
    "print(grid_randomforest.best_score_)\n",
    "print(grid_randomforest.best_params_)"
   ]
  },
  {
   "cell_type": "code",
   "execution_count": 85,
   "metadata": {},
   "outputs": [
    {
     "data": {
      "text/plain": [
       "0.2932873904919977"
      ]
     },
     "execution_count": 85,
     "metadata": {},
     "output_type": "execute_result"
    }
   ],
   "source": [
    "model_randomforest= grid_randomforest.best_estimator_\n",
    "model_randomforest.score(X_test,y_test)"
   ]
  },
  {
   "cell_type": "code",
   "execution_count": 86,
   "metadata": {},
   "outputs": [
    {
     "data": {
      "text/plain": [
       "[51.377001953005475,\n",
       " 2639.5963296791288,\n",
       " 35.8654236111111,\n",
       " 24.2099999999998,\n",
       " 0.2932873904919977]"
      ]
     },
     "execution_count": 86,
     "metadata": {},
     "output_type": "execute_result"
    }
   ],
   "source": [
    "pred_randomforest= model_randomforest.predict(X_test)\n",
    "# Evaluation des métriques:\n",
    "compute_scores(y_test, pred_randomforest)"
   ]
  },
  {
   "cell_type": "code",
   "execution_count": 87,
   "metadata": {},
   "outputs": [
    {
     "data": {
      "image/png": "[encoded data removed]",
      "text/plain": [
       "<Figure size 432x288 with 1 Axes>"
      ]
     },
     "metadata": {
      "needs_background": "light"
     },
     "output_type": "display_data"
    }
   ],
   "source": [
    "fig, ax = plt.subplots()\n",
    "ax.scatter(y_test, pred_randomforest)\n",
    "ax.plot([y_test.min(), y_test.max()], [y_test.min(), y_test.max()], 'k--', lw=4)\n",
    "ax.set_xlabel('Measured')\n",
    "ax.set_ylabel('Predicted')\n",
    "plt.show()"
   ]
  },
  {
   "cell_type": "markdown",
   "metadata": {},
   "source": [
    "##### Application du modèle: Decision Tree Regression with AdaBoost"
   ]
  },
  {
   "cell_type": "code",
   "execution_count": 88,
   "metadata": {},
   "outputs": [],
   "source": [
    "adaboost= AdaBoostRegressor(DecisionTreeRegressor(max_depth=4), n_estimators=300)\n",
    "# On crée le modèle à l'aide de pipeline\n",
    "pipe_adaboost= make_pipeline(column_trans, adaboost)"
   ]
  },
  {
   "cell_type": "code",
   "execution_count": 89,
   "metadata": {},
   "outputs": [
    {
     "data": {
      "text/plain": [
       "dict_keys(['memory', 'steps', 'verbose', 'columntransformer', 'adaboostregressor', 'columntransformer__n_jobs', 'columntransformer__remainder', 'columntransformer__sparse_threshold', 'columntransformer__transformer_weights', 'columntransformer__transformers', 'columntransformer__verbose', 'columntransformer__verbose_feature_names_out', 'columntransformer__onehotencoder', 'columntransformer__standardscaler', 'columntransformer__onehotencoder__categories', 'columntransformer__onehotencoder__drop', 'columntransformer__onehotencoder__dtype', 'columntransformer__onehotencoder__handle_unknown', 'columntransformer__onehotencoder__sparse', 'columntransformer__standardscaler__copy', 'columntransformer__standardscaler__with_mean', 'columntransformer__standardscaler__with_std', 'adaboostregressor__base_estimator__ccp_alpha', 'adaboostregressor__base_estimator__criterion', 'adaboostregressor__base_estimator__max_depth', 'adaboostregressor__base_estimator__max_features', 'adaboostregressor__base_estimator__max_leaf_nodes', 'adaboostregressor__base_estimator__min_impurity_decrease', 'adaboostregressor__base_estimator__min_samples_leaf', 'adaboostregressor__base_estimator__min_samples_split', 'adaboostregressor__base_estimator__min_weight_fraction_leaf', 'adaboostregressor__base_estimator__random_state', 'adaboostregressor__base_estimator__splitter', 'adaboostregressor__base_estimator', 'adaboostregressor__learning_rate', 'adaboostregressor__loss', 'adaboostregressor__n_estimators', 'adaboostregressor__random_state'])"
      ]
     },
     "execution_count": 89,
     "metadata": {},
     "output_type": "execute_result"
    }
   ],
   "source": [
    "# liste des paramètres de l'estimateur:\n",
    "pipe_adaboost.get_params().keys()"
   ]
  },
  {
   "cell_type": "code",
   "execution_count": 90,
   "metadata": {},
   "outputs": [
    {
     "data": {
      "text/plain": [
       "array([-0.21101346,  0.10868563, -0.46944648, -0.4491116 ,  0.15847059])"
      ]
     },
     "execution_count": 90,
     "metadata": {},
     "output_type": "execute_result"
    }
   ],
   "source": [
    "# Cross validation avec: cross_val_score()\n",
    "cross_val_score(pipe_adaboost,X_train,y_train,cv=5,scoring='r2')"
   ]
  },
  {
   "cell_type": "code",
   "execution_count": 91,
   "metadata": {},
   "outputs": [
    {
     "data": {
      "text/html": [
       "<style>#sk-899d64cb-2e11-4d39-bcc9-31cfaccba33c {color: black;background-color: white;}#sk-899d64cb-2e11-4d39-bcc9-31cfaccba33c pre{padding: 0;}#sk-899d64cb-2e11-4d39-bcc9-31cfaccba33c div.sk-toggleable {background-color: white;}#sk-899d64cb-2e11-4d39-bcc9-31cfaccba33c label.sk-toggleable__label {cursor: pointer;display: block;width: 100%;margin-bottom: 0;padding: 0.3em;box-sizing: border-box;text-align: center;}#sk-899d64cb-2e11-4d39-bcc9-31cfaccba33c label.sk-toggleable__label-arrow:before {content: \"▸\";float: left;margin-right: 0.25em;color: #696969;}#sk-899d64cb-2e11-4d39-bcc9-31cfaccba33c label.sk-toggleable__label-arrow:hover:before {color: black;}#sk-899d64cb-2e11-4d39-bcc9-31cfaccba33c div.sk-estimator:hover label.sk-toggleable__label-arrow:before {color: black;}#sk-899d64cb-2e11-4d39-bcc9-31cfaccba33c div.sk-toggleable__content {max-height: 0;max-width: 0;overflow: hidden;text-align: left;background-color: #f0f8ff;}#sk-899d64cb-2e11-4d39-bcc9-31cfaccba33c div.sk-toggleable__content pre {margin: 0.2em;color: black;border-radius: 0.25em;background-color: #f0f8ff;}#sk-899d64cb-2e11-4d39-bcc9-31cfaccba33c input.sk-toggleable__control:checked~div.sk-toggleable__content {max-height: 200px;max-width: 100%;overflow: auto;}#sk-899d64cb-2e11-4d39-bcc9-31cfaccba33c input.sk-toggleable__control:checked~label.sk-toggleable__label-arrow:before {content: \"▾\";}#sk-899d64cb-2e11-4d39-bcc9-31cfaccba33c div.sk-estimator input.sk-toggleable__control:checked~label.sk-toggleable__label {background-color: #d4ebff;}#sk-899d64cb-2e11-4d39-bcc9-31cfaccba33c div.sk-label input.sk-toggleable__control:checked~label.sk-toggleable__label {background-color: #d4ebff;}#sk-899d64cb-2e11-4d39-bcc9-31cfaccba33c input.sk-hidden--visually {border: 0;clip: rect(1px 1px 1px 1px);clip: rect(1px, 1px, 1px, 1px);height: 1px;margin: -1px;overflow: hidden;padding: 0;position: absolute;width: 1px;}#sk-899d64cb-2e11-4d39-bcc9-31cfaccba33c div.sk-estimator {font-family: monospace;background-color: #f0f8ff;border: 1px dotted black;border-radius: 0.25em;box-sizing: border-box;margin-bottom: 0.5em;}#sk-899d64cb-2e11-4d39-bcc9-31cfaccba33c div.sk-estimator:hover {background-color: #d4ebff;}#sk-899d64cb-2e11-4d39-bcc9-31cfaccba33c div.sk-parallel-item::after {content: \"\";width: 100%;border-bottom: 1px solid gray;flex-grow: 1;}#sk-899d64cb-2e11-4d39-bcc9-31cfaccba33c div.sk-label:hover label.sk-toggleable__label {background-color: #d4ebff;}#sk-899d64cb-2e11-4d39-bcc9-31cfaccba33c div.sk-serial::before {content: \"\";position: absolute;border-left: 1px solid gray;box-sizing: border-box;top: 2em;bottom: 0;left: 50%;}#sk-899d64cb-2e11-4d39-bcc9-31cfaccba33c div.sk-serial {display: flex;flex-direction: column;align-items: center;background-color: white;padding-right: 0.2em;padding-left: 0.2em;}#sk-899d64cb-2e11-4d39-bcc9-31cfaccba33c div.sk-item {z-index: 1;}#sk-899d64cb-2e11-4d39-bcc9-31cfaccba33c div.sk-parallel {display: flex;align-items: stretch;justify-content: center;background-color: white;}#sk-899d64cb-2e11-4d39-bcc9-31cfaccba33c div.sk-parallel::before {content: \"\";position: absolute;border-left: 1px solid gray;box-sizing: border-box;top: 2em;bottom: 0;left: 50%;}#sk-899d64cb-2e11-4d39-bcc9-31cfaccba33c div.sk-parallel-item {display: flex;flex-direction: column;position: relative;background-color: white;}#sk-899d64cb-2e11-4d39-bcc9-31cfaccba33c div.sk-parallel-item:first-child::after {align-self: flex-end;width: 50%;}#sk-899d64cb-2e11-4d39-bcc9-31cfaccba33c div.sk-parallel-item:last-child::after {align-self: flex-start;width: 50%;}#sk-899d64cb-2e11-4d39-bcc9-31cfaccba33c div.sk-parallel-item:only-child::after {width: 0;}#sk-899d64cb-2e11-4d39-bcc9-31cfaccba33c div.sk-dashed-wrapped {border: 1px dashed gray;margin: 0 0.4em 0.5em 0.4em;box-sizing: border-box;padding-bottom: 0.4em;background-color: white;position: relative;}#sk-899d64cb-2e11-4d39-bcc9-31cfaccba33c div.sk-label label {font-family: monospace;font-weight: bold;background-color: white;display: inline-block;line-height: 1.2em;}#sk-899d64cb-2e11-4d39-bcc9-31cfaccba33c div.sk-label-container {position: relative;z-index: 2;text-align: center;}#sk-899d64cb-2e11-4d39-bcc9-31cfaccba33c div.sk-container {/* jupyter's `normalize.less` sets `[hidden] { display: none; }` but bootstrap.min.css set `[hidden] { display: none !important; }` so we also need the `!important` here to be able to override the default hidden behavior on the sphinx rendered scikit-learn.org. See: https://github.com/scikit-learn/scikit-learn/issues/21755 */display: inline-block !important;position: relative;}#sk-899d64cb-2e11-4d39-bcc9-31cfaccba33c div.sk-text-repr-fallback {display: none;}</style><div id=\"sk-899d64cb-2e11-4d39-bcc9-31cfaccba33c\" class=\"sk-top-container\"><div class=\"sk-text-repr-fallback\"><pre>GridSearchCV(cv=5,\n",
       "             estimator=Pipeline(steps=[(&#x27;columntransformer&#x27;,\n",
       "                                        ColumnTransformer(transformers=[(&#x27;onehotencoder&#x27;,\n",
       "                                                                         OneHotEncoder(handle_unknown=&#x27;ignore&#x27;),\n",
       "                                                                         [&#x27;PrimaryPropertyType&#x27;,\n",
       "                                                                          &#x27;Neighborhood&#x27;,\n",
       "                                                                          &#x27;LargestPropertyUseType&#x27;,\n",
       "                                                                          &#x27;ComplianceStatus&#x27;]),\n",
       "                                                                        (&#x27;standardscaler&#x27;,\n",
       "                                                                         StandardScaler(),\n",
       "                                                                         [&#x27;NumberofBuildings&#x27;,\n",
       "                                                                          &#x27;NumberofFloors&#x27;,\n",
       "                                                                          &#x27;PropertyGFATotal&#x27;,\n",
       "                                                                          &#x27;PropertyGFAParking&#x27;,\n",
       "                                                                          &#x27;PropertyGFABuilding(s)&#x27;,\n",
       "                                                                          &#x27;LargestPropertyUseTypeGFA&#x27;,\n",
       "                                                                          &#x27;BuildingAge&#x27;])])),\n",
       "                                       (&#x27;adaboostregressor&#x27;,\n",
       "                                        AdaBoostRegressor(base_estimator=DecisionTreeRegressor(max_depth=4),\n",
       "                                                          n_estimators=300))]),\n",
       "             param_grid={&#x27;adaboostregressor__base_estimator__max_depth&#x27;: [4, 6,\n",
       "                                                                          8],\n",
       "                         &#x27;adaboostregressor__loss&#x27;: [&#x27;linear&#x27;, &#x27;square&#x27;,\n",
       "                                                     &#x27;exponential&#x27;],\n",
       "                         &#x27;adaboostregressor__n_estimators&#x27;: [300, 400, 500]})</pre><b>Please rerun this cell to show the HTML repr or trust the notebook.</b></div><div class=\"sk-container\" hidden><div class=\"sk-item sk-dashed-wrapped\"><div class=\"sk-label-container\"><div class=\"sk-label sk-toggleable\"><input class=\"sk-toggleable__control sk-hidden--visually\" id=\"38b1c216-3d99-48f6-a1f5-3bb11dd43389\" type=\"checkbox\" ><label for=\"38b1c216-3d99-48f6-a1f5-3bb11dd43389\" class=\"sk-toggleable__label sk-toggleable__label-arrow\">GridSearchCV</label><div class=\"sk-toggleable__content\"><pre>GridSearchCV(cv=5,\n",
       "             estimator=Pipeline(steps=[(&#x27;columntransformer&#x27;,\n",
       "                                        ColumnTransformer(transformers=[(&#x27;onehotencoder&#x27;,\n",
       "                                                                         OneHotEncoder(handle_unknown=&#x27;ignore&#x27;),\n",
       "                                                                         [&#x27;PrimaryPropertyType&#x27;,\n",
       "                                                                          &#x27;Neighborhood&#x27;,\n",
       "                                                                          &#x27;LargestPropertyUseType&#x27;,\n",
       "                                                                          &#x27;ComplianceStatus&#x27;]),\n",
       "                                                                        (&#x27;standardscaler&#x27;,\n",
       "                                                                         StandardScaler(),\n",
       "                                                                         [&#x27;NumberofBuildings&#x27;,\n",
       "                                                                          &#x27;NumberofFloors&#x27;,\n",
       "                                                                          &#x27;PropertyGFATotal&#x27;,\n",
       "                                                                          &#x27;PropertyGFAParking&#x27;,\n",
       "                                                                          &#x27;PropertyGFABuilding(s)&#x27;,\n",
       "                                                                          &#x27;LargestPropertyUseTypeGFA&#x27;,\n",
       "                                                                          &#x27;BuildingAge&#x27;])])),\n",
       "                                       (&#x27;adaboostregressor&#x27;,\n",
       "                                        AdaBoostRegressor(base_estimator=DecisionTreeRegressor(max_depth=4),\n",
       "                                                          n_estimators=300))]),\n",
       "             param_grid={&#x27;adaboostregressor__base_estimator__max_depth&#x27;: [4, 6,\n",
       "                                                                          8],\n",
       "                         &#x27;adaboostregressor__loss&#x27;: [&#x27;linear&#x27;, &#x27;square&#x27;,\n",
       "                                                     &#x27;exponential&#x27;],\n",
       "                         &#x27;adaboostregressor__n_estimators&#x27;: [300, 400, 500]})</pre></div></div></div><div class=\"sk-parallel\"><div class=\"sk-parallel-item\"><div class=\"sk-item\"><div class=\"sk-serial\"><div class=\"sk-item\"><div class=\"sk-serial\"><div class=\"sk-item sk-dashed-wrapped\"><div class=\"sk-label-container\"><div class=\"sk-label sk-toggleable\"><input class=\"sk-toggleable__control sk-hidden--visually\" id=\"251d83f1-c516-4d5f-895b-5e917f6c77d7\" type=\"checkbox\" ><label for=\"251d83f1-c516-4d5f-895b-5e917f6c77d7\" class=\"sk-toggleable__label sk-toggleable__label-arrow\">columntransformer: ColumnTransformer</label><div class=\"sk-toggleable__content\"><pre>ColumnTransformer(transformers=[(&#x27;onehotencoder&#x27;,\n",
       "                                 OneHotEncoder(handle_unknown=&#x27;ignore&#x27;),\n",
       "                                 [&#x27;PrimaryPropertyType&#x27;, &#x27;Neighborhood&#x27;,\n",
       "                                  &#x27;LargestPropertyUseType&#x27;,\n",
       "                                  &#x27;ComplianceStatus&#x27;]),\n",
       "                                (&#x27;standardscaler&#x27;, StandardScaler(),\n",
       "                                 [&#x27;NumberofBuildings&#x27;, &#x27;NumberofFloors&#x27;,\n",
       "                                  &#x27;PropertyGFATotal&#x27;, &#x27;PropertyGFAParking&#x27;,\n",
       "                                  &#x27;PropertyGFABuilding(s)&#x27;,\n",
       "                                  &#x27;LargestPropertyUseTypeGFA&#x27;,\n",
       "                                  &#x27;BuildingAge&#x27;])])</pre></div></div></div><div class=\"sk-parallel\"><div class=\"sk-parallel-item\"><div class=\"sk-item\"><div class=\"sk-label-container\"><div class=\"sk-label sk-toggleable\"><input class=\"sk-toggleable__control sk-hidden--visually\" id=\"584da588-db3a-42fa-9406-723b10d32aff\" type=\"checkbox\" ><label for=\"584da588-db3a-42fa-9406-723b10d32aff\" class=\"sk-toggleable__label sk-toggleable__label-arrow\">onehotencoder</label><div class=\"sk-toggleable__content\"><pre>[&#x27;PrimaryPropertyType&#x27;, &#x27;Neighborhood&#x27;, &#x27;LargestPropertyUseType&#x27;, &#x27;ComplianceStatus&#x27;]</pre></div></div></div><div class=\"sk-serial\"><div class=\"sk-item\"><div class=\"sk-estimator sk-toggleable\"><input class=\"sk-toggleable__control sk-hidden--visually\" id=\"0d9fe02f-7613-4333-ac84-140b4bed8faa\" type=\"checkbox\" ><label for=\"0d9fe02f-7613-4333-ac84-140b4bed8faa\" class=\"sk-toggleable__label sk-toggleable__label-arrow\">OneHotEncoder</label><div class=\"sk-toggleable__content\"><pre>OneHotEncoder(handle_unknown=&#x27;ignore&#x27;)</pre></div></div></div></div></div></div><div class=\"sk-parallel-item\"><div class=\"sk-item\"><div class=\"sk-label-container\"><div class=\"sk-label sk-toggleable\"><input class=\"sk-toggleable__control sk-hidden--visually\" id=\"1c44aee2-c9ae-4d9d-a53f-91ede04b5e52\" type=\"checkbox\" ><label for=\"1c44aee2-c9ae-4d9d-a53f-91ede04b5e52\" class=\"sk-toggleable__label sk-toggleable__label-arrow\">standardscaler</label><div class=\"sk-toggleable__content\"><pre>[&#x27;NumberofBuildings&#x27;, &#x27;NumberofFloors&#x27;, &#x27;PropertyGFATotal&#x27;, &#x27;PropertyGFAParking&#x27;, &#x27;PropertyGFABuilding(s)&#x27;, &#x27;LargestPropertyUseTypeGFA&#x27;, &#x27;BuildingAge&#x27;]</pre></div></div></div><div class=\"sk-serial\"><div class=\"sk-item\"><div class=\"sk-estimator sk-toggleable\"><input class=\"sk-toggleable__control sk-hidden--visually\" id=\"7ff84892-63d4-4dbe-9faa-e2436071495d\" type=\"checkbox\" ><label for=\"7ff84892-63d4-4dbe-9faa-e2436071495d\" class=\"sk-toggleable__label sk-toggleable__label-arrow\">StandardScaler</label><div class=\"sk-toggleable__content\"><pre>StandardScaler()</pre></div></div></div></div></div></div></div></div><div class=\"sk-item sk-dashed-wrapped\"><div class=\"sk-label-container\"><div class=\"sk-label sk-toggleable\"><input class=\"sk-toggleable__control sk-hidden--visually\" id=\"8a8aafee-e087-493b-a3e3-85f90ca287ef\" type=\"checkbox\" ><label for=\"8a8aafee-e087-493b-a3e3-85f90ca287ef\" class=\"sk-toggleable__label sk-toggleable__label-arrow\">adaboostregressor: AdaBoostRegressor</label><div class=\"sk-toggleable__content\"><pre>AdaBoostRegressor(base_estimator=DecisionTreeRegressor(max_depth=4),\n",
       "                  n_estimators=300)</pre></div></div></div><div class=\"sk-parallel\"><div class=\"sk-parallel-item\"><div class=\"sk-item\"><div class=\"sk-serial\"><div class=\"sk-item\"><div class=\"sk-estimator sk-toggleable\"><input class=\"sk-toggleable__control sk-hidden--visually\" id=\"397d171f-3559-41cf-b4cc-607991e9a272\" type=\"checkbox\" ><label for=\"397d171f-3559-41cf-b4cc-607991e9a272\" class=\"sk-toggleable__label sk-toggleable__label-arrow\">DecisionTreeRegressor</label><div class=\"sk-toggleable__content\"><pre>DecisionTreeRegressor(max_depth=4)</pre></div></div></div></div></div></div></div></div></div></div></div></div></div></div></div></div></div>"
      ],
      "text/plain": [
       "GridSearchCV(cv=5,\n",
       "             estimator=Pipeline(steps=[('columntransformer',\n",
       "                                        ColumnTransformer(transformers=[('onehotencoder',\n",
       "                                                                         OneHotEncoder(handle_unknown='ignore'),\n",
       "                                                                         ['PrimaryPropertyType',\n",
       "                                                                          'Neighborhood',\n",
       "                                                                          'LargestPropertyUseType',\n",
       "                                                                          'ComplianceStatus']),\n",
       "                                                                        ('standardscaler',\n",
       "                                                                         StandardScaler(),\n",
       "                                                                         ['NumberofBuildings',\n",
       "                                                                          'NumberofFloors',\n",
       "                                                                          'PropertyGFATotal',\n",
       "                                                                          'PropertyGFAParking',\n",
       "                                                                          'PropertyGFABuilding(s)',\n",
       "                                                                          'LargestPropertyUseTypeGFA',\n",
       "                                                                          'BuildingAge'])])),\n",
       "                                       ('adaboostregressor',\n",
       "                                        AdaBoostRegressor(base_estimator=DecisionTreeRegressor(max_depth=4),\n",
       "                                                          n_estimators=300))]),\n",
       "             param_grid={'adaboostregressor__base_estimator__max_depth': [4, 6,\n",
       "                                                                          8],\n",
       "                         'adaboostregressor__loss': ['linear', 'square',\n",
       "                                                     'exponential'],\n",
       "                         'adaboostregressor__n_estimators': [300, 400, 500]})"
      ]
     },
     "execution_count": 91,
     "metadata": {},
     "output_type": "execute_result"
    }
   ],
   "source": [
    "parameter= {'adaboostregressor__loss': ['linear', 'square', 'exponential'], \n",
    "           'adaboostregressor__base_estimator__max_depth':[4,6,8]\n",
    "           , 'adaboostregressor__n_estimators':[300,400,500]}\n",
    "#Grille de recherche:\n",
    "grid_adaboost= GridSearchCV(pipe_adaboost, parameter, cv=5)\n",
    "grid_adaboost.fit(X_train,y_train)"
   ]
  },
  {
   "cell_type": "code",
   "execution_count": 92,
   "metadata": {},
   "outputs": [
    {
     "name": "stdout",
     "output_type": "stream",
     "text": [
      "0.2325731673414583\n",
      "{'adaboostregressor__base_estimator__max_depth': 8, 'adaboostregressor__loss': 'square', 'adaboostregressor__n_estimators': 500}\n"
     ]
    }
   ],
   "source": [
    "print(grid_adaboost.best_score_)\n",
    "print(grid_adaboost.best_params_)"
   ]
  },
  {
   "cell_type": "code",
   "execution_count": 93,
   "metadata": {},
   "outputs": [
    {
     "data": {
      "text/plain": [
       "0.16350544304858994"
      ]
     },
     "execution_count": 93,
     "metadata": {},
     "output_type": "execute_result"
    }
   ],
   "source": [
    "model_adaboost= grid_adaboost.best_estimator_\n",
    "model_adaboost.score(X_test,y_test)"
   ]
  },
  {
   "cell_type": "code",
   "execution_count": 94,
   "metadata": {},
   "outputs": [
    {
     "data": {
      "text/plain": [
       "[55.895764109836875,\n",
       " 3124.336445422528,\n",
       " 46.13117159197037,\n",
       " 43.74557917888562,\n",
       " 0.16350544304858994]"
      ]
     },
     "execution_count": 94,
     "metadata": {},
     "output_type": "execute_result"
    }
   ],
   "source": [
    "pred_adaboost= model_adaboost.predict(X_test)\n",
    "# Evaluation des métriques:\n",
    "compute_scores(y_test, pred_adaboost)"
   ]
  },
  {
   "cell_type": "code",
   "execution_count": 95,
   "metadata": {},
   "outputs": [
    {
     "data": {
      "image/png": "[encoded data removed]",
      "text/plain": [
       "<Figure size 432x288 with 1 Axes>"
      ]
     },
     "metadata": {
      "needs_background": "light"
     },
     "output_type": "display_data"
    }
   ],
   "source": [
    "fig, ax = plt.subplots()\n",
    "ax.scatter(y_test, pred_adaboost)\n",
    "ax.plot([y_test.min(), y_test.max()], [y_test.min(), y_test.max()], 'k--', lw=4)\n",
    "ax.set_xlabel('Measured')\n",
    "ax.set_ylabel('Predicted')\n",
    "plt.show()"
   ]
  },
  {
   "cell_type": "markdown",
   "metadata": {},
   "source": [
    "#### Synthèse des métriques des différents modèle:"
   ]
  },
  {
   "cell_type": "code",
   "execution_count": 96,
   "metadata": {},
   "outputs": [],
   "source": [
    "lst=[compute_scores(y_test, pred_lr),compute_scores(y_test, pred_ridge),compute_scores(y_test, pred_svr),\n",
    "     compute_scores(y_test, pred_lasso),compute_scores(y_test, pred_elastic),compute_scores(y_test, pred_randomforest),\n",
    "    compute_scores(y_test, pred_adaboost)]"
   ]
  },
  {
   "cell_type": "code",
   "execution_count": 97,
   "metadata": {},
   "outputs": [
    {
     "data": {
      "text/plain": [
       "[[51.383437273086045,\n",
       "  2640.257625997168,\n",
       "  36.51441708385231,\n",
       "  24.777131644409856,\n",
       "  0.29311033825059063],\n",
       " [53.28210687705462,\n",
       "  2838.9829132578716,\n",
       "  37.847038914806966,\n",
       "  26.739984416057748,\n",
       "  0.23990460192032714],\n",
       " [55.09188203209279,\n",
       "  3035.1154658380283,\n",
       "  35.30797769893651,\n",
       "  19.7930655629304,\n",
       "  0.1873930316908604],\n",
       " [61.23565731742075,\n",
       "  3749.805727096586,\n",
       "  45.95119989680082,\n",
       "  38.43351578947368,\n",
       "  -0.0039546428929231325],\n",
       " [53.3760605035368,\n",
       "  2849.003834877221,\n",
       "  37.84233044362799,\n",
       "  27.07823640549502,\n",
       "  0.23722164938411627],\n",
       " [51.377001953005475,\n",
       "  2639.5963296791288,\n",
       "  35.8654236111111,\n",
       "  24.2099999999998,\n",
       "  0.2932873904919977],\n",
       " [55.895764109836875,\n",
       "  3124.336445422528,\n",
       "  46.13117159197037,\n",
       "  43.74557917888562,\n",
       "  0.16350544304858994]]"
      ]
     },
     "execution_count": 97,
     "metadata": {},
     "output_type": "execute_result"
    }
   ],
   "source": [
    "lst"
   ]
  },
  {
   "cell_type": "code",
   "execution_count": 98,
   "metadata": {},
   "outputs": [],
   "source": [
    "lst=[compute_scores(y_test, pred_lr),compute_scores(y_test, pred_ridge),compute_scores(y_test, pred_svr),\n",
    "     compute_scores(y_test, pred_lasso),compute_scores(y_test, pred_elastic),compute_scores(y_test, pred_randomforest),\n",
    "    compute_scores(y_test, pred_adaboost)]\n",
    "                   \n",
    "df_metrics_1 = pd.DataFrame(lst, index =['Linear regression','Ridge regression','SVR','Lasso','ElasticNet',\n",
    "                                                       'RandomForest', 'Adaboost']\n",
    "                            , columns =['RMSE', 'MSE', 'MAE', 'MEDIAN AE', 'R²'])"
   ]
  },
  {
   "cell_type": "code",
   "execution_count": 99,
   "metadata": {},
   "outputs": [
    {
     "data": {
      "text/html": [
       "<div>\n",
       "<style scoped>\n",
       "    .dataframe tbody tr th:only-of-type {\n",
       "        vertical-align: middle;\n",
       "    }\n",
       "\n",
       "    .dataframe tbody tr th {\n",
       "        vertical-align: top;\n",
       "    }\n",
       "\n",
       "    .dataframe thead th {\n",
       "        text-align: right;\n",
       "    }\n",
       "</style>\n",
       "<table border=\"1\" class=\"dataframe\">\n",
       "  <thead>\n",
       "    <tr style=\"text-align: right;\">\n",
       "      <th></th>\n",
       "      <th>RMSE</th>\n",
       "      <th>MSE</th>\n",
       "      <th>MAE</th>\n",
       "      <th>MEDIAN AE</th>\n",
       "      <th>R²</th>\n",
       "    </tr>\n",
       "  </thead>\n",
       "  <tbody>\n",
       "    <tr>\n",
       "      <th>Linear regression</th>\n",
       "      <td>51.383437</td>\n",
       "      <td>2640.257626</td>\n",
       "      <td>36.514417</td>\n",
       "      <td>24.777132</td>\n",
       "      <td>0.293110</td>\n",
       "    </tr>\n",
       "    <tr>\n",
       "      <th>Ridge regression</th>\n",
       "      <td>53.282107</td>\n",
       "      <td>2838.982913</td>\n",
       "      <td>37.847039</td>\n",
       "      <td>26.739984</td>\n",
       "      <td>0.239905</td>\n",
       "    </tr>\n",
       "    <tr>\n",
       "      <th>SVR</th>\n",
       "      <td>55.091882</td>\n",
       "      <td>3035.115466</td>\n",
       "      <td>35.307978</td>\n",
       "      <td>19.793066</td>\n",
       "      <td>0.187393</td>\n",
       "    </tr>\n",
       "    <tr>\n",
       "      <th>Lasso</th>\n",
       "      <td>61.235657</td>\n",
       "      <td>3749.805727</td>\n",
       "      <td>45.951200</td>\n",
       "      <td>38.433516</td>\n",
       "      <td>-0.003955</td>\n",
       "    </tr>\n",
       "    <tr>\n",
       "      <th>ElasticNet</th>\n",
       "      <td>53.376061</td>\n",
       "      <td>2849.003835</td>\n",
       "      <td>37.842330</td>\n",
       "      <td>27.078236</td>\n",
       "      <td>0.237222</td>\n",
       "    </tr>\n",
       "    <tr>\n",
       "      <th>RandomForest</th>\n",
       "      <td>51.377002</td>\n",
       "      <td>2639.596330</td>\n",
       "      <td>35.865424</td>\n",
       "      <td>24.210000</td>\n",
       "      <td>0.293287</td>\n",
       "    </tr>\n",
       "    <tr>\n",
       "      <th>Adaboost</th>\n",
       "      <td>55.895764</td>\n",
       "      <td>3124.336445</td>\n",
       "      <td>46.131172</td>\n",
       "      <td>43.745579</td>\n",
       "      <td>0.163505</td>\n",
       "    </tr>\n",
       "  </tbody>\n",
       "</table>\n",
       "</div>"
      ],
      "text/plain": [
       "                        RMSE          MSE        MAE  MEDIAN AE        R²\n",
       "Linear regression  51.383437  2640.257626  36.514417  24.777132  0.293110\n",
       "Ridge regression   53.282107  2838.982913  37.847039  26.739984  0.239905\n",
       "SVR                55.091882  3035.115466  35.307978  19.793066  0.187393\n",
       "Lasso              61.235657  3749.805727  45.951200  38.433516 -0.003955\n",
       "ElasticNet         53.376061  2849.003835  37.842330  27.078236  0.237222\n",
       "RandomForest       51.377002  2639.596330  35.865424  24.210000  0.293287\n",
       "Adaboost           55.895764  3124.336445  46.131172  43.745579  0.163505"
      ]
     },
     "execution_count": 99,
     "metadata": {},
     "output_type": "execute_result"
    }
   ],
   "source": [
    "df_metrics_1"
   ]
  },
  {
   "cell_type": "markdown",
   "metadata": {},
   "source": [
    "Dataframe synthèse des score R² pour le Xtrain"
   ]
  },
  {
   "cell_type": "code",
   "execution_count": 100,
   "metadata": {},
   "outputs": [],
   "source": [
    "r2_lr= grid_lr.best_score_\n",
    "r2_ridge= grid_ridge.best_score_\n",
    "r2_svr= grid_svr.best_score_\n",
    "r2_lasso= grid_lasso.best_score_\n",
    "r2_elastic= grid_elastic.best_score_\n",
    "r2_randomforest= grid_randomforest.best_score_\n",
    "r2_adaboost= grid_adaboost.best_score_\n",
    "\n",
    "lst= [r2_lr, r2_ridge, r2_svr, r2_lasso, r2_elastic,r2_randomforest,r2_adaboost]\n",
    "\n",
    "df_Xtrain_r2= pd.DataFrame(lst, index =['Linear regression','Ridge regression','SVR','Lasso','ElasticNet',\n",
    "                                                       'RandomForest', 'Adaboost'], columns =['R²'])"
   ]
  },
  {
   "cell_type": "code",
   "execution_count": 101,
   "metadata": {},
   "outputs": [
    {
     "data": {
      "text/html": [
       "<div>\n",
       "<style scoped>\n",
       "    .dataframe tbody tr th:only-of-type {\n",
       "        vertical-align: middle;\n",
       "    }\n",
       "\n",
       "    .dataframe tbody tr th {\n",
       "        vertical-align: top;\n",
       "    }\n",
       "\n",
       "    .dataframe thead th {\n",
       "        text-align: right;\n",
       "    }\n",
       "</style>\n",
       "<table border=\"1\" class=\"dataframe\">\n",
       "  <thead>\n",
       "    <tr style=\"text-align: right;\">\n",
       "      <th></th>\n",
       "      <th>R²</th>\n",
       "    </tr>\n",
       "  </thead>\n",
       "  <tbody>\n",
       "    <tr>\n",
       "      <th>Linear regression</th>\n",
       "      <td>0.077450</td>\n",
       "    </tr>\n",
       "    <tr>\n",
       "      <th>Ridge regression</th>\n",
       "      <td>0.101454</td>\n",
       "    </tr>\n",
       "    <tr>\n",
       "      <th>SVR</th>\n",
       "      <td>0.015958</td>\n",
       "    </tr>\n",
       "    <tr>\n",
       "      <th>Lasso</th>\n",
       "      <td>-0.005012</td>\n",
       "    </tr>\n",
       "    <tr>\n",
       "      <th>ElasticNet</th>\n",
       "      <td>0.100643</td>\n",
       "    </tr>\n",
       "    <tr>\n",
       "      <th>RandomForest</th>\n",
       "      <td>0.295955</td>\n",
       "    </tr>\n",
       "    <tr>\n",
       "      <th>Adaboost</th>\n",
       "      <td>0.232573</td>\n",
       "    </tr>\n",
       "  </tbody>\n",
       "</table>\n",
       "</div>"
      ],
      "text/plain": [
       "                         R²\n",
       "Linear regression  0.077450\n",
       "Ridge regression   0.101454\n",
       "SVR                0.015958\n",
       "Lasso             -0.005012\n",
       "ElasticNet         0.100643\n",
       "RandomForest       0.295955\n",
       "Adaboost           0.232573"
      ]
     },
     "execution_count": 101,
     "metadata": {},
     "output_type": "execute_result"
    }
   ],
   "source": [
    "df_Xtrain_r2"
   ]
  },
  {
   "cell_type": "markdown",
   "metadata": {},
   "source": [
    "### Prédiction de la variable d'émission: (TotalGHGEmissions), en incluant le feature (ENERGYSTARScore)"
   ]
  },
  {
   "cell_type": "code",
   "execution_count": 102,
   "metadata": {},
   "outputs": [],
   "source": [
    "# On écarte les 2 variables de prédictions\n",
    "X=df_filter.drop(['TotalGHGEmissions','SiteEnergyUseWN(kBtu)'],axis=1)\n",
    "y= df_filter['TotalGHGEmissions']"
   ]
  },
  {
   "cell_type": "code",
   "execution_count": 103,
   "metadata": {},
   "outputs": [],
   "source": [
    "#spliting data to training/test data:\n",
    "X_train, X_test, y_train, y_test = train_test_split(X, y, test_size=0.3, random_state=42,shuffle= True)"
   ]
  },
  {
   "cell_type": "code",
   "execution_count": 104,
   "metadata": {},
   "outputs": [
    {
     "name": "stdout",
     "output_type": "stream",
     "text": [
      "(950, 12)\n",
      "(408, 12)\n"
     ]
    }
   ],
   "source": [
    "print(X_train.shape)\n",
    "print(X_test.shape)"
   ]
  },
  {
   "cell_type": "code",
   "execution_count": 105,
   "metadata": {},
   "outputs": [
    {
     "data": {
      "text/plain": [
       "['NumberofBuildings',\n",
       " 'NumberofFloors',\n",
       " 'PropertyGFATotal',\n",
       " 'PropertyGFAParking',\n",
       " 'PropertyGFABuilding(s)',\n",
       " 'LargestPropertyUseTypeGFA',\n",
       " 'BuildingAge']"
      ]
     },
     "execution_count": 105,
     "metadata": {},
     "output_type": "execute_result"
    }
   ],
   "source": [
    "col_num"
   ]
  },
  {
   "cell_type": "code",
   "execution_count": 106,
   "metadata": {},
   "outputs": [],
   "source": [
    "# On ajoute la variable (ENERGYSTARScore):\n",
    "col_num.append('ENERGYSTARScore') "
   ]
  },
  {
   "cell_type": "code",
   "execution_count": 107,
   "metadata": {},
   "outputs": [
    {
     "data": {
      "text/plain": [
       "['NumberofBuildings',\n",
       " 'NumberofFloors',\n",
       " 'PropertyGFATotal',\n",
       " 'PropertyGFAParking',\n",
       " 'PropertyGFABuilding(s)',\n",
       " 'LargestPropertyUseTypeGFA',\n",
       " 'BuildingAge',\n",
       " 'ENERGYSTARScore']"
      ]
     },
     "execution_count": 107,
     "metadata": {},
     "output_type": "execute_result"
    }
   ],
   "source": [
    "# Vérification:\n",
    "col_num"
   ]
  },
  {
   "cell_type": "markdown",
   "metadata": {},
   "source": [
    "Nouveau pipeline avec cette fois ci l'appliction de SimpleImputer(strategy=\"median\") pour les valeurs manquantes de (ENERGYSTARScore):"
   ]
  },
  {
   "cell_type": "code",
   "execution_count": 108,
   "metadata": {},
   "outputs": [],
   "source": [
    "from sklearn.pipeline import Pipeline\n",
    "from sklearn.compose import ColumnTransformer\n",
    "\n",
    "numeric_transformer = Pipeline( steps=[(\"imputer\", SimpleImputer(strategy=\"median\")), (\"scaler\", StandardScaler())])\n",
    "categorical_transformer= OneHotEncoder(handle_unknown='ignore')\n",
    "                                       \n",
    "                                       \n",
    "column_trans = ColumnTransformer([(\"num\", numeric_transformer, col_num),(\"cat\", categorical_transformer, col_categ)])\n",
    "    "
   ]
  },
  {
   "cell_type": "markdown",
   "metadata": {},
   "source": [
    "#### Application du modèle Linear Regression:"
   ]
  },
  {
   "cell_type": "code",
   "execution_count": 109,
   "metadata": {},
   "outputs": [
    {
     "data": {
      "text/html": [
       "<style>#sk-faaa692e-ae7d-4f41-bdfd-86d0d7a83a7f {color: black;background-color: white;}#sk-faaa692e-ae7d-4f41-bdfd-86d0d7a83a7f pre{padding: 0;}#sk-faaa692e-ae7d-4f41-bdfd-86d0d7a83a7f div.sk-toggleable {background-color: white;}#sk-faaa692e-ae7d-4f41-bdfd-86d0d7a83a7f label.sk-toggleable__label {cursor: pointer;display: block;width: 100%;margin-bottom: 0;padding: 0.3em;box-sizing: border-box;text-align: center;}#sk-faaa692e-ae7d-4f41-bdfd-86d0d7a83a7f label.sk-toggleable__label-arrow:before {content: \"▸\";float: left;margin-right: 0.25em;color: #696969;}#sk-faaa692e-ae7d-4f41-bdfd-86d0d7a83a7f label.sk-toggleable__label-arrow:hover:before {color: black;}#sk-faaa692e-ae7d-4f41-bdfd-86d0d7a83a7f div.sk-estimator:hover label.sk-toggleable__label-arrow:before {color: black;}#sk-faaa692e-ae7d-4f41-bdfd-86d0d7a83a7f div.sk-toggleable__content {max-height: 0;max-width: 0;overflow: hidden;text-align: left;background-color: #f0f8ff;}#sk-faaa692e-ae7d-4f41-bdfd-86d0d7a83a7f div.sk-toggleable__content pre {margin: 0.2em;color: black;border-radius: 0.25em;background-color: #f0f8ff;}#sk-faaa692e-ae7d-4f41-bdfd-86d0d7a83a7f input.sk-toggleable__control:checked~div.sk-toggleable__content {max-height: 200px;max-width: 100%;overflow: auto;}#sk-faaa692e-ae7d-4f41-bdfd-86d0d7a83a7f input.sk-toggleable__control:checked~label.sk-toggleable__label-arrow:before {content: \"▾\";}#sk-faaa692e-ae7d-4f41-bdfd-86d0d7a83a7f div.sk-estimator input.sk-toggleable__control:checked~label.sk-toggleable__label {background-color: #d4ebff;}#sk-faaa692e-ae7d-4f41-bdfd-86d0d7a83a7f div.sk-label input.sk-toggleable__control:checked~label.sk-toggleable__label {background-color: #d4ebff;}#sk-faaa692e-ae7d-4f41-bdfd-86d0d7a83a7f input.sk-hidden--visually {border: 0;clip: rect(1px 1px 1px 1px);clip: rect(1px, 1px, 1px, 1px);height: 1px;margin: -1px;overflow: hidden;padding: 0;position: absolute;width: 1px;}#sk-faaa692e-ae7d-4f41-bdfd-86d0d7a83a7f div.sk-estimator {font-family: monospace;background-color: #f0f8ff;border: 1px dotted black;border-radius: 0.25em;box-sizing: border-box;margin-bottom: 0.5em;}#sk-faaa692e-ae7d-4f41-bdfd-86d0d7a83a7f div.sk-estimator:hover {background-color: #d4ebff;}#sk-faaa692e-ae7d-4f41-bdfd-86d0d7a83a7f div.sk-parallel-item::after {content: \"\";width: 100%;border-bottom: 1px solid gray;flex-grow: 1;}#sk-faaa692e-ae7d-4f41-bdfd-86d0d7a83a7f div.sk-label:hover label.sk-toggleable__label {background-color: #d4ebff;}#sk-faaa692e-ae7d-4f41-bdfd-86d0d7a83a7f div.sk-serial::before {content: \"\";position: absolute;border-left: 1px solid gray;box-sizing: border-box;top: 2em;bottom: 0;left: 50%;}#sk-faaa692e-ae7d-4f41-bdfd-86d0d7a83a7f div.sk-serial {display: flex;flex-direction: column;align-items: center;background-color: white;padding-right: 0.2em;padding-left: 0.2em;}#sk-faaa692e-ae7d-4f41-bdfd-86d0d7a83a7f div.sk-item {z-index: 1;}#sk-faaa692e-ae7d-4f41-bdfd-86d0d7a83a7f div.sk-parallel {display: flex;align-items: stretch;justify-content: center;background-color: white;}#sk-faaa692e-ae7d-4f41-bdfd-86d0d7a83a7f div.sk-parallel::before {content: \"\";position: absolute;border-left: 1px solid gray;box-sizing: border-box;top: 2em;bottom: 0;left: 50%;}#sk-faaa692e-ae7d-4f41-bdfd-86d0d7a83a7f div.sk-parallel-item {display: flex;flex-direction: column;position: relative;background-color: white;}#sk-faaa692e-ae7d-4f41-bdfd-86d0d7a83a7f div.sk-parallel-item:first-child::after {align-self: flex-end;width: 50%;}#sk-faaa692e-ae7d-4f41-bdfd-86d0d7a83a7f div.sk-parallel-item:last-child::after {align-self: flex-start;width: 50%;}#sk-faaa692e-ae7d-4f41-bdfd-86d0d7a83a7f div.sk-parallel-item:only-child::after {width: 0;}#sk-faaa692e-ae7d-4f41-bdfd-86d0d7a83a7f div.sk-dashed-wrapped {border: 1px dashed gray;margin: 0 0.4em 0.5em 0.4em;box-sizing: border-box;padding-bottom: 0.4em;background-color: white;position: relative;}#sk-faaa692e-ae7d-4f41-bdfd-86d0d7a83a7f div.sk-label label {font-family: monospace;font-weight: bold;background-color: white;display: inline-block;line-height: 1.2em;}#sk-faaa692e-ae7d-4f41-bdfd-86d0d7a83a7f div.sk-label-container {position: relative;z-index: 2;text-align: center;}#sk-faaa692e-ae7d-4f41-bdfd-86d0d7a83a7f div.sk-container {/* jupyter's `normalize.less` sets `[hidden] { display: none; }` but bootstrap.min.css set `[hidden] { display: none !important; }` so we also need the `!important` here to be able to override the default hidden behavior on the sphinx rendered scikit-learn.org. See: https://github.com/scikit-learn/scikit-learn/issues/21755 */display: inline-block !important;position: relative;}#sk-faaa692e-ae7d-4f41-bdfd-86d0d7a83a7f div.sk-text-repr-fallback {display: none;}</style><div id=\"sk-faaa692e-ae7d-4f41-bdfd-86d0d7a83a7f\" class=\"sk-top-container\"><div class=\"sk-text-repr-fallback\"><pre>GridSearchCV(cv=5,\n",
       "             estimator=Pipeline(steps=[(&#x27;columntransformer&#x27;,\n",
       "                                        ColumnTransformer(transformers=[(&#x27;num&#x27;,\n",
       "                                                                         Pipeline(steps=[(&#x27;imputer&#x27;,\n",
       "                                                                                          SimpleImputer(strategy=&#x27;median&#x27;)),\n",
       "                                                                                         (&#x27;scaler&#x27;,\n",
       "                                                                                          StandardScaler())]),\n",
       "                                                                         [&#x27;NumberofBuildings&#x27;,\n",
       "                                                                          &#x27;NumberofFloors&#x27;,\n",
       "                                                                          &#x27;PropertyGFATotal&#x27;,\n",
       "                                                                          &#x27;PropertyGFAParking&#x27;,\n",
       "                                                                          &#x27;PropertyGFABuilding(s)&#x27;,\n",
       "                                                                          &#x27;LargestPropertyUseTypeGFA&#x27;,\n",
       "                                                                          &#x27;BuildingAge&#x27;,\n",
       "                                                                          &#x27;ENERGYSTARScore&#x27;]),\n",
       "                                                                        (&#x27;cat&#x27;,\n",
       "                                                                         OneHotEncoder(handle_unknown=&#x27;ignore&#x27;),\n",
       "                                                                         [&#x27;PrimaryPropertyType&#x27;,\n",
       "                                                                          &#x27;Neighborhood&#x27;,\n",
       "                                                                          &#x27;LargestPropertyUseType&#x27;,\n",
       "                                                                          &#x27;ComplianceStatus&#x27;])])),\n",
       "                                       (&#x27;linearregression&#x27;,\n",
       "                                        LinearRegression())]),\n",
       "             param_grid={&#x27;linearregression__fit_intercept&#x27;: [True, False]},\n",
       "             scoring=&#x27;r2&#x27;)</pre><b>Please rerun this cell to show the HTML repr or trust the notebook.</b></div><div class=\"sk-container\" hidden><div class=\"sk-item sk-dashed-wrapped\"><div class=\"sk-label-container\"><div class=\"sk-label sk-toggleable\"><input class=\"sk-toggleable__control sk-hidden--visually\" id=\"d337bfa2-1bc4-46ef-95ed-fe935275ad7f\" type=\"checkbox\" ><label for=\"d337bfa2-1bc4-46ef-95ed-fe935275ad7f\" class=\"sk-toggleable__label sk-toggleable__label-arrow\">GridSearchCV</label><div class=\"sk-toggleable__content\"><pre>GridSearchCV(cv=5,\n",
       "             estimator=Pipeline(steps=[(&#x27;columntransformer&#x27;,\n",
       "                                        ColumnTransformer(transformers=[(&#x27;num&#x27;,\n",
       "                                                                         Pipeline(steps=[(&#x27;imputer&#x27;,\n",
       "                                                                                          SimpleImputer(strategy=&#x27;median&#x27;)),\n",
       "                                                                                         (&#x27;scaler&#x27;,\n",
       "                                                                                          StandardScaler())]),\n",
       "                                                                         [&#x27;NumberofBuildings&#x27;,\n",
       "                                                                          &#x27;NumberofFloors&#x27;,\n",
       "                                                                          &#x27;PropertyGFATotal&#x27;,\n",
       "                                                                          &#x27;PropertyGFAParking&#x27;,\n",
       "                                                                          &#x27;PropertyGFABuilding(s)&#x27;,\n",
       "                                                                          &#x27;LargestPropertyUseTypeGFA&#x27;,\n",
       "                                                                          &#x27;BuildingAge&#x27;,\n",
       "                                                                          &#x27;ENERGYSTARScore&#x27;]),\n",
       "                                                                        (&#x27;cat&#x27;,\n",
       "                                                                         OneHotEncoder(handle_unknown=&#x27;ignore&#x27;),\n",
       "                                                                         [&#x27;PrimaryPropertyType&#x27;,\n",
       "                                                                          &#x27;Neighborhood&#x27;,\n",
       "                                                                          &#x27;LargestPropertyUseType&#x27;,\n",
       "                                                                          &#x27;ComplianceStatus&#x27;])])),\n",
       "                                       (&#x27;linearregression&#x27;,\n",
       "                                        LinearRegression())]),\n",
       "             param_grid={&#x27;linearregression__fit_intercept&#x27;: [True, False]},\n",
       "             scoring=&#x27;r2&#x27;)</pre></div></div></div><div class=\"sk-parallel\"><div class=\"sk-parallel-item\"><div class=\"sk-item\"><div class=\"sk-serial\"><div class=\"sk-item\"><div class=\"sk-serial\"><div class=\"sk-item sk-dashed-wrapped\"><div class=\"sk-label-container\"><div class=\"sk-label sk-toggleable\"><input class=\"sk-toggleable__control sk-hidden--visually\" id=\"bac7a827-fcb7-4237-9547-f1731e6f5b93\" type=\"checkbox\" ><label for=\"bac7a827-fcb7-4237-9547-f1731e6f5b93\" class=\"sk-toggleable__label sk-toggleable__label-arrow\">columntransformer: ColumnTransformer</label><div class=\"sk-toggleable__content\"><pre>ColumnTransformer(transformers=[(&#x27;num&#x27;,\n",
       "                                 Pipeline(steps=[(&#x27;imputer&#x27;,\n",
       "                                                  SimpleImputer(strategy=&#x27;median&#x27;)),\n",
       "                                                 (&#x27;scaler&#x27;, StandardScaler())]),\n",
       "                                 [&#x27;NumberofBuildings&#x27;, &#x27;NumberofFloors&#x27;,\n",
       "                                  &#x27;PropertyGFATotal&#x27;, &#x27;PropertyGFAParking&#x27;,\n",
       "                                  &#x27;PropertyGFABuilding(s)&#x27;,\n",
       "                                  &#x27;LargestPropertyUseTypeGFA&#x27;, &#x27;BuildingAge&#x27;,\n",
       "                                  &#x27;ENERGYSTARScore&#x27;]),\n",
       "                                (&#x27;cat&#x27;, OneHotEncoder(handle_unknown=&#x27;ignore&#x27;),\n",
       "                                 [&#x27;PrimaryPropertyType&#x27;, &#x27;Neighborhood&#x27;,\n",
       "                                  &#x27;LargestPropertyUseType&#x27;,\n",
       "                                  &#x27;ComplianceStatus&#x27;])])</pre></div></div></div><div class=\"sk-parallel\"><div class=\"sk-parallel-item\"><div class=\"sk-item\"><div class=\"sk-label-container\"><div class=\"sk-label sk-toggleable\"><input class=\"sk-toggleable__control sk-hidden--visually\" id=\"e277c1b4-fff4-416b-8410-e9636b2e1876\" type=\"checkbox\" ><label for=\"e277c1b4-fff4-416b-8410-e9636b2e1876\" class=\"sk-toggleable__label sk-toggleable__label-arrow\">num</label><div class=\"sk-toggleable__content\"><pre>[&#x27;NumberofBuildings&#x27;, &#x27;NumberofFloors&#x27;, &#x27;PropertyGFATotal&#x27;, &#x27;PropertyGFAParking&#x27;, &#x27;PropertyGFABuilding(s)&#x27;, &#x27;LargestPropertyUseTypeGFA&#x27;, &#x27;BuildingAge&#x27;, &#x27;ENERGYSTARScore&#x27;]</pre></div></div></div><div class=\"sk-serial\"><div class=\"sk-item\"><div class=\"sk-serial\"><div class=\"sk-item\"><div class=\"sk-estimator sk-toggleable\"><input class=\"sk-toggleable__control sk-hidden--visually\" id=\"a2ac37ea-7d22-4ab0-b488-5363595d1ac9\" type=\"checkbox\" ><label for=\"a2ac37ea-7d22-4ab0-b488-5363595d1ac9\" class=\"sk-toggleable__label sk-toggleable__label-arrow\">SimpleImputer</label><div class=\"sk-toggleable__content\"><pre>SimpleImputer(strategy=&#x27;median&#x27;)</pre></div></div></div><div class=\"sk-item\"><div class=\"sk-estimator sk-toggleable\"><input class=\"sk-toggleable__control sk-hidden--visually\" id=\"7ebdc3a3-8929-48e1-98f9-4668426b9247\" type=\"checkbox\" ><label for=\"7ebdc3a3-8929-48e1-98f9-4668426b9247\" class=\"sk-toggleable__label sk-toggleable__label-arrow\">StandardScaler</label><div class=\"sk-toggleable__content\"><pre>StandardScaler()</pre></div></div></div></div></div></div></div></div><div class=\"sk-parallel-item\"><div class=\"sk-item\"><div class=\"sk-label-container\"><div class=\"sk-label sk-toggleable\"><input class=\"sk-toggleable__control sk-hidden--visually\" id=\"2afd2bd6-b22f-4263-b8d6-681abf739613\" type=\"checkbox\" ><label for=\"2afd2bd6-b22f-4263-b8d6-681abf739613\" class=\"sk-toggleable__label sk-toggleable__label-arrow\">cat</label><div class=\"sk-toggleable__content\"><pre>[&#x27;PrimaryPropertyType&#x27;, &#x27;Neighborhood&#x27;, &#x27;LargestPropertyUseType&#x27;, &#x27;ComplianceStatus&#x27;]</pre></div></div></div><div class=\"sk-serial\"><div class=\"sk-item\"><div class=\"sk-estimator sk-toggleable\"><input class=\"sk-toggleable__control sk-hidden--visually\" id=\"6f5d293d-86e1-403b-9da2-80f322e2d901\" type=\"checkbox\" ><label for=\"6f5d293d-86e1-403b-9da2-80f322e2d901\" class=\"sk-toggleable__label sk-toggleable__label-arrow\">OneHotEncoder</label><div class=\"sk-toggleable__content\"><pre>OneHotEncoder(handle_unknown=&#x27;ignore&#x27;)</pre></div></div></div></div></div></div></div></div><div class=\"sk-item\"><div class=\"sk-estimator sk-toggleable\"><input class=\"sk-toggleable__control sk-hidden--visually\" id=\"4ccf0a0f-8ceb-40b9-8767-8de9b1e4bead\" type=\"checkbox\" ><label for=\"4ccf0a0f-8ceb-40b9-8767-8de9b1e4bead\" class=\"sk-toggleable__label sk-toggleable__label-arrow\">LinearRegression</label><div class=\"sk-toggleable__content\"><pre>LinearRegression()</pre></div></div></div></div></div></div></div></div></div></div></div></div>"
      ],
      "text/plain": [
       "GridSearchCV(cv=5,\n",
       "             estimator=Pipeline(steps=[('columntransformer',\n",
       "                                        ColumnTransformer(transformers=[('num',\n",
       "                                                                         Pipeline(steps=[('imputer',\n",
       "                                                                                          SimpleImputer(strategy='median')),\n",
       "                                                                                         ('scaler',\n",
       "                                                                                          StandardScaler())]),\n",
       "                                                                         ['NumberofBuildings',\n",
       "                                                                          'NumberofFloors',\n",
       "                                                                          'PropertyGFATotal',\n",
       "                                                                          'PropertyGFAParking',\n",
       "                                                                          'PropertyGFABuilding(s)',\n",
       "                                                                          'LargestPropertyUseTypeGFA',\n",
       "                                                                          'BuildingAge',\n",
       "                                                                          'ENERGYSTARScore']),\n",
       "                                                                        ('cat',\n",
       "                                                                         OneHotEncoder(handle_unknown='ignore'),\n",
       "                                                                         ['PrimaryPropertyType',\n",
       "                                                                          'Neighborhood',\n",
       "                                                                          'LargestPropertyUseType',\n",
       "                                                                          'ComplianceStatus'])])),\n",
       "                                       ('linearregression',\n",
       "                                        LinearRegression())]),\n",
       "             param_grid={'linearregression__fit_intercept': [True, False]},\n",
       "             scoring='r2')"
      ]
     },
     "execution_count": 109,
     "metadata": {},
     "output_type": "execute_result"
    }
   ],
   "source": [
    "lr = LinearRegression()\n",
    "# On crée le modèle à l'aide de pipeline\n",
    "pipe_lr= make_pipeline(column_trans,lr)\n",
    "#Grille de recherche:\n",
    "parameter= {'linearregression__fit_intercept':[True,False]}\n",
    "grid_lr= GridSearchCV(pipe_lr, parameter, cv=5,scoring='r2')\n",
    "grid_lr.fit(X_train,y_train)"
   ]
  },
  {
   "cell_type": "code",
   "execution_count": 110,
   "metadata": {},
   "outputs": [
    {
     "data": {
      "text/html": [
       "<style>#sk-611ff6ce-e0f5-4af2-be27-d2ef72dc2455 {color: black;background-color: white;}#sk-611ff6ce-e0f5-4af2-be27-d2ef72dc2455 pre{padding: 0;}#sk-611ff6ce-e0f5-4af2-be27-d2ef72dc2455 div.sk-toggleable {background-color: white;}#sk-611ff6ce-e0f5-4af2-be27-d2ef72dc2455 label.sk-toggleable__label {cursor: pointer;display: block;width: 100%;margin-bottom: 0;padding: 0.3em;box-sizing: border-box;text-align: center;}#sk-611ff6ce-e0f5-4af2-be27-d2ef72dc2455 label.sk-toggleable__label-arrow:before {content: \"▸\";float: left;margin-right: 0.25em;color: #696969;}#sk-611ff6ce-e0f5-4af2-be27-d2ef72dc2455 label.sk-toggleable__label-arrow:hover:before {color: black;}#sk-611ff6ce-e0f5-4af2-be27-d2ef72dc2455 div.sk-estimator:hover label.sk-toggleable__label-arrow:before {color: black;}#sk-611ff6ce-e0f5-4af2-be27-d2ef72dc2455 div.sk-toggleable__content {max-height: 0;max-width: 0;overflow: hidden;text-align: left;background-color: #f0f8ff;}#sk-611ff6ce-e0f5-4af2-be27-d2ef72dc2455 div.sk-toggleable__content pre {margin: 0.2em;color: black;border-radius: 0.25em;background-color: #f0f8ff;}#sk-611ff6ce-e0f5-4af2-be27-d2ef72dc2455 input.sk-toggleable__control:checked~div.sk-toggleable__content {max-height: 200px;max-width: 100%;overflow: auto;}#sk-611ff6ce-e0f5-4af2-be27-d2ef72dc2455 input.sk-toggleable__control:checked~label.sk-toggleable__label-arrow:before {content: \"▾\";}#sk-611ff6ce-e0f5-4af2-be27-d2ef72dc2455 div.sk-estimator input.sk-toggleable__control:checked~label.sk-toggleable__label {background-color: #d4ebff;}#sk-611ff6ce-e0f5-4af2-be27-d2ef72dc2455 div.sk-label input.sk-toggleable__control:checked~label.sk-toggleable__label {background-color: #d4ebff;}#sk-611ff6ce-e0f5-4af2-be27-d2ef72dc2455 input.sk-hidden--visually {border: 0;clip: rect(1px 1px 1px 1px);clip: rect(1px, 1px, 1px, 1px);height: 1px;margin: -1px;overflow: hidden;padding: 0;position: absolute;width: 1px;}#sk-611ff6ce-e0f5-4af2-be27-d2ef72dc2455 div.sk-estimator {font-family: monospace;background-color: #f0f8ff;border: 1px dotted black;border-radius: 0.25em;box-sizing: border-box;margin-bottom: 0.5em;}#sk-611ff6ce-e0f5-4af2-be27-d2ef72dc2455 div.sk-estimator:hover {background-color: #d4ebff;}#sk-611ff6ce-e0f5-4af2-be27-d2ef72dc2455 div.sk-parallel-item::after {content: \"\";width: 100%;border-bottom: 1px solid gray;flex-grow: 1;}#sk-611ff6ce-e0f5-4af2-be27-d2ef72dc2455 div.sk-label:hover label.sk-toggleable__label {background-color: #d4ebff;}#sk-611ff6ce-e0f5-4af2-be27-d2ef72dc2455 div.sk-serial::before {content: \"\";position: absolute;border-left: 1px solid gray;box-sizing: border-box;top: 2em;bottom: 0;left: 50%;}#sk-611ff6ce-e0f5-4af2-be27-d2ef72dc2455 div.sk-serial {display: flex;flex-direction: column;align-items: center;background-color: white;padding-right: 0.2em;padding-left: 0.2em;}#sk-611ff6ce-e0f5-4af2-be27-d2ef72dc2455 div.sk-item {z-index: 1;}#sk-611ff6ce-e0f5-4af2-be27-d2ef72dc2455 div.sk-parallel {display: flex;align-items: stretch;justify-content: center;background-color: white;}#sk-611ff6ce-e0f5-4af2-be27-d2ef72dc2455 div.sk-parallel::before {content: \"\";position: absolute;border-left: 1px solid gray;box-sizing: border-box;top: 2em;bottom: 0;left: 50%;}#sk-611ff6ce-e0f5-4af2-be27-d2ef72dc2455 div.sk-parallel-item {display: flex;flex-direction: column;position: relative;background-color: white;}#sk-611ff6ce-e0f5-4af2-be27-d2ef72dc2455 div.sk-parallel-item:first-child::after {align-self: flex-end;width: 50%;}#sk-611ff6ce-e0f5-4af2-be27-d2ef72dc2455 div.sk-parallel-item:last-child::after {align-self: flex-start;width: 50%;}#sk-611ff6ce-e0f5-4af2-be27-d2ef72dc2455 div.sk-parallel-item:only-child::after {width: 0;}#sk-611ff6ce-e0f5-4af2-be27-d2ef72dc2455 div.sk-dashed-wrapped {border: 1px dashed gray;margin: 0 0.4em 0.5em 0.4em;box-sizing: border-box;padding-bottom: 0.4em;background-color: white;position: relative;}#sk-611ff6ce-e0f5-4af2-be27-d2ef72dc2455 div.sk-label label {font-family: monospace;font-weight: bold;background-color: white;display: inline-block;line-height: 1.2em;}#sk-611ff6ce-e0f5-4af2-be27-d2ef72dc2455 div.sk-label-container {position: relative;z-index: 2;text-align: center;}#sk-611ff6ce-e0f5-4af2-be27-d2ef72dc2455 div.sk-container {/* jupyter's `normalize.less` sets `[hidden] { display: none; }` but bootstrap.min.css set `[hidden] { display: none !important; }` so we also need the `!important` here to be able to override the default hidden behavior on the sphinx rendered scikit-learn.org. See: https://github.com/scikit-learn/scikit-learn/issues/21755 */display: inline-block !important;position: relative;}#sk-611ff6ce-e0f5-4af2-be27-d2ef72dc2455 div.sk-text-repr-fallback {display: none;}</style><div id=\"sk-611ff6ce-e0f5-4af2-be27-d2ef72dc2455\" class=\"sk-top-container\"><div class=\"sk-text-repr-fallback\"><pre>Pipeline(steps=[(&#x27;columntransformer&#x27;,\n",
       "                 ColumnTransformer(transformers=[(&#x27;num&#x27;,\n",
       "                                                  Pipeline(steps=[(&#x27;imputer&#x27;,\n",
       "                                                                   SimpleImputer(strategy=&#x27;median&#x27;)),\n",
       "                                                                  (&#x27;scaler&#x27;,\n",
       "                                                                   StandardScaler())]),\n",
       "                                                  [&#x27;NumberofBuildings&#x27;,\n",
       "                                                   &#x27;NumberofFloors&#x27;,\n",
       "                                                   &#x27;PropertyGFATotal&#x27;,\n",
       "                                                   &#x27;PropertyGFAParking&#x27;,\n",
       "                                                   &#x27;PropertyGFABuilding(s)&#x27;,\n",
       "                                                   &#x27;LargestPropertyUseTypeGFA&#x27;,\n",
       "                                                   &#x27;BuildingAge&#x27;,\n",
       "                                                   &#x27;ENERGYSTARScore&#x27;]),\n",
       "                                                 (&#x27;cat&#x27;,\n",
       "                                                  OneHotEncoder(handle_unknown=&#x27;ignore&#x27;),\n",
       "                                                  [&#x27;PrimaryPropertyType&#x27;,\n",
       "                                                   &#x27;Neighborhood&#x27;,\n",
       "                                                   &#x27;LargestPropertyUseType&#x27;,\n",
       "                                                   &#x27;ComplianceStatus&#x27;])])),\n",
       "                (&#x27;linearregression&#x27;, LinearRegression())])</pre><b>Please rerun this cell to show the HTML repr or trust the notebook.</b></div><div class=\"sk-container\" hidden><div class=\"sk-item sk-dashed-wrapped\"><div class=\"sk-label-container\"><div class=\"sk-label sk-toggleable\"><input class=\"sk-toggleable__control sk-hidden--visually\" id=\"6e85c5ec-bdc4-4253-8a85-9225dd5f71e8\" type=\"checkbox\" ><label for=\"6e85c5ec-bdc4-4253-8a85-9225dd5f71e8\" class=\"sk-toggleable__label sk-toggleable__label-arrow\">Pipeline</label><div class=\"sk-toggleable__content\"><pre>Pipeline(steps=[(&#x27;columntransformer&#x27;,\n",
       "                 ColumnTransformer(transformers=[(&#x27;num&#x27;,\n",
       "                                                  Pipeline(steps=[(&#x27;imputer&#x27;,\n",
       "                                                                   SimpleImputer(strategy=&#x27;median&#x27;)),\n",
       "                                                                  (&#x27;scaler&#x27;,\n",
       "                                                                   StandardScaler())]),\n",
       "                                                  [&#x27;NumberofBuildings&#x27;,\n",
       "                                                   &#x27;NumberofFloors&#x27;,\n",
       "                                                   &#x27;PropertyGFATotal&#x27;,\n",
       "                                                   &#x27;PropertyGFAParking&#x27;,\n",
       "                                                   &#x27;PropertyGFABuilding(s)&#x27;,\n",
       "                                                   &#x27;LargestPropertyUseTypeGFA&#x27;,\n",
       "                                                   &#x27;BuildingAge&#x27;,\n",
       "                                                   &#x27;ENERGYSTARScore&#x27;]),\n",
       "                                                 (&#x27;cat&#x27;,\n",
       "                                                  OneHotEncoder(handle_unknown=&#x27;ignore&#x27;),\n",
       "                                                  [&#x27;PrimaryPropertyType&#x27;,\n",
       "                                                   &#x27;Neighborhood&#x27;,\n",
       "                                                   &#x27;LargestPropertyUseType&#x27;,\n",
       "                                                   &#x27;ComplianceStatus&#x27;])])),\n",
       "                (&#x27;linearregression&#x27;, LinearRegression())])</pre></div></div></div><div class=\"sk-serial\"><div class=\"sk-item sk-dashed-wrapped\"><div class=\"sk-label-container\"><div class=\"sk-label sk-toggleable\"><input class=\"sk-toggleable__control sk-hidden--visually\" id=\"4825f57c-8239-4097-9e20-097f5ce5249e\" type=\"checkbox\" ><label for=\"4825f57c-8239-4097-9e20-097f5ce5249e\" class=\"sk-toggleable__label sk-toggleable__label-arrow\">columntransformer: ColumnTransformer</label><div class=\"sk-toggleable__content\"><pre>ColumnTransformer(transformers=[(&#x27;num&#x27;,\n",
       "                                 Pipeline(steps=[(&#x27;imputer&#x27;,\n",
       "                                                  SimpleImputer(strategy=&#x27;median&#x27;)),\n",
       "                                                 (&#x27;scaler&#x27;, StandardScaler())]),\n",
       "                                 [&#x27;NumberofBuildings&#x27;, &#x27;NumberofFloors&#x27;,\n",
       "                                  &#x27;PropertyGFATotal&#x27;, &#x27;PropertyGFAParking&#x27;,\n",
       "                                  &#x27;PropertyGFABuilding(s)&#x27;,\n",
       "                                  &#x27;LargestPropertyUseTypeGFA&#x27;, &#x27;BuildingAge&#x27;,\n",
       "                                  &#x27;ENERGYSTARScore&#x27;]),\n",
       "                                (&#x27;cat&#x27;, OneHotEncoder(handle_unknown=&#x27;ignore&#x27;),\n",
       "                                 [&#x27;PrimaryPropertyType&#x27;, &#x27;Neighborhood&#x27;,\n",
       "                                  &#x27;LargestPropertyUseType&#x27;,\n",
       "                                  &#x27;ComplianceStatus&#x27;])])</pre></div></div></div><div class=\"sk-parallel\"><div class=\"sk-parallel-item\"><div class=\"sk-item\"><div class=\"sk-label-container\"><div class=\"sk-label sk-toggleable\"><input class=\"sk-toggleable__control sk-hidden--visually\" id=\"c7328887-a29d-4a23-8c12-8539c7ca3800\" type=\"checkbox\" ><label for=\"c7328887-a29d-4a23-8c12-8539c7ca3800\" class=\"sk-toggleable__label sk-toggleable__label-arrow\">num</label><div class=\"sk-toggleable__content\"><pre>[&#x27;NumberofBuildings&#x27;, &#x27;NumberofFloors&#x27;, &#x27;PropertyGFATotal&#x27;, &#x27;PropertyGFAParking&#x27;, &#x27;PropertyGFABuilding(s)&#x27;, &#x27;LargestPropertyUseTypeGFA&#x27;, &#x27;BuildingAge&#x27;, &#x27;ENERGYSTARScore&#x27;]</pre></div></div></div><div class=\"sk-serial\"><div class=\"sk-item\"><div class=\"sk-serial\"><div class=\"sk-item\"><div class=\"sk-estimator sk-toggleable\"><input class=\"sk-toggleable__control sk-hidden--visually\" id=\"de3b6229-747e-4d46-997b-c187e73c3d4e\" type=\"checkbox\" ><label for=\"de3b6229-747e-4d46-997b-c187e73c3d4e\" class=\"sk-toggleable__label sk-toggleable__label-arrow\">SimpleImputer</label><div class=\"sk-toggleable__content\"><pre>SimpleImputer(strategy=&#x27;median&#x27;)</pre></div></div></div><div class=\"sk-item\"><div class=\"sk-estimator sk-toggleable\"><input class=\"sk-toggleable__control sk-hidden--visually\" id=\"1f7a1898-70bc-4373-9812-75025715251e\" type=\"checkbox\" ><label for=\"1f7a1898-70bc-4373-9812-75025715251e\" class=\"sk-toggleable__label sk-toggleable__label-arrow\">StandardScaler</label><div class=\"sk-toggleable__content\"><pre>StandardScaler()</pre></div></div></div></div></div></div></div></div><div class=\"sk-parallel-item\"><div class=\"sk-item\"><div class=\"sk-label-container\"><div class=\"sk-label sk-toggleable\"><input class=\"sk-toggleable__control sk-hidden--visually\" id=\"fef022b2-791d-4f14-9c85-99e705994aa3\" type=\"checkbox\" ><label for=\"fef022b2-791d-4f14-9c85-99e705994aa3\" class=\"sk-toggleable__label sk-toggleable__label-arrow\">cat</label><div class=\"sk-toggleable__content\"><pre>[&#x27;PrimaryPropertyType&#x27;, &#x27;Neighborhood&#x27;, &#x27;LargestPropertyUseType&#x27;, &#x27;ComplianceStatus&#x27;]</pre></div></div></div><div class=\"sk-serial\"><div class=\"sk-item\"><div class=\"sk-estimator sk-toggleable\"><input class=\"sk-toggleable__control sk-hidden--visually\" id=\"a3d5aee0-36f1-452c-933a-b9868da2b1e8\" type=\"checkbox\" ><label for=\"a3d5aee0-36f1-452c-933a-b9868da2b1e8\" class=\"sk-toggleable__label sk-toggleable__label-arrow\">OneHotEncoder</label><div class=\"sk-toggleable__content\"><pre>OneHotEncoder(handle_unknown=&#x27;ignore&#x27;)</pre></div></div></div></div></div></div></div></div><div class=\"sk-item\"><div class=\"sk-estimator sk-toggleable\"><input class=\"sk-toggleable__control sk-hidden--visually\" id=\"f1276f39-81e5-4c9a-83a0-6560084b5e36\" type=\"checkbox\" ><label for=\"f1276f39-81e5-4c9a-83a0-6560084b5e36\" class=\"sk-toggleable__label sk-toggleable__label-arrow\">LinearRegression</label><div class=\"sk-toggleable__content\"><pre>LinearRegression()</pre></div></div></div></div></div></div></div>"
      ],
      "text/plain": [
       "Pipeline(steps=[('columntransformer',\n",
       "                 ColumnTransformer(transformers=[('num',\n",
       "                                                  Pipeline(steps=[('imputer',\n",
       "                                                                   SimpleImputer(strategy='median')),\n",
       "                                                                  ('scaler',\n",
       "                                                                   StandardScaler())]),\n",
       "                                                  ['NumberofBuildings',\n",
       "                                                   'NumberofFloors',\n",
       "                                                   'PropertyGFATotal',\n",
       "                                                   'PropertyGFAParking',\n",
       "                                                   'PropertyGFABuilding(s)',\n",
       "                                                   'LargestPropertyUseTypeGFA',\n",
       "                                                   'BuildingAge',\n",
       "                                                   'ENERGYSTARScore']),\n",
       "                                                 ('cat',\n",
       "                                                  OneHotEncoder(handle_unknown='ignore'),\n",
       "                                                  ['PrimaryPropertyType',\n",
       "                                                   'Neighborhood',\n",
       "                                                   'LargestPropertyUseType',\n",
       "                                                   'ComplianceStatus'])])),\n",
       "                ('linearregression', LinearRegression())])"
      ]
     },
     "execution_count": 110,
     "metadata": {},
     "output_type": "execute_result"
    }
   ],
   "source": [
    "pipe_lr"
   ]
  },
  {
   "cell_type": "code",
   "execution_count": 111,
   "metadata": {},
   "outputs": [
    {
     "data": {
      "text/plain": [
       "0.30235735068190905"
      ]
     },
     "execution_count": 111,
     "metadata": {},
     "output_type": "execute_result"
    }
   ],
   "source": [
    "model_lr= grid_lr.best_estimator_\n",
    "pred_lr= model_lr.predict(X_test)\n",
    "r2_score(y_test, pred_lr)"
   ]
  },
  {
   "cell_type": "code",
   "execution_count": 112,
   "metadata": {},
   "outputs": [
    {
     "data": {
      "text/plain": [
       "[51.046250704081864,\n",
       " 2605.7197109439785,\n",
       " 36.72434684526503,\n",
       " 25.52694037495377,\n",
       " 0.30235735068190905]"
      ]
     },
     "execution_count": 112,
     "metadata": {},
     "output_type": "execute_result"
    }
   ],
   "source": [
    "# calcul des métriques:\n",
    "compute_scores(y_test, pred_lr)"
   ]
  },
  {
   "cell_type": "markdown",
   "metadata": {},
   "source": [
    "#### Application du modèle Ridge Regression:"
   ]
  },
  {
   "cell_type": "code",
   "execution_count": 113,
   "metadata": {},
   "outputs": [],
   "source": [
    "# instaciation de l'objet:\n",
    "ridge= Ridge()\n",
    "pipe_ridge= make_pipeline(column_trans,ridge)"
   ]
  },
  {
   "cell_type": "code",
   "execution_count": 114,
   "metadata": {},
   "outputs": [
    {
     "data": {
      "text/plain": [
       "array([ 0.27660019,  0.29542403, -0.65402779,  0.27990649,  0.28282756])"
      ]
     },
     "execution_count": 114,
     "metadata": {},
     "output_type": "execute_result"
    }
   ],
   "source": [
    "cross_val_score(pipe_ridge,X_train,y_train,cv=5,scoring='r2')"
   ]
  },
  {
   "cell_type": "code",
   "execution_count": 115,
   "metadata": {},
   "outputs": [
    {
     "data": {
      "text/plain": [
       "dict_keys(['memory', 'steps', 'verbose', 'columntransformer', 'ridge', 'columntransformer__n_jobs', 'columntransformer__remainder', 'columntransformer__sparse_threshold', 'columntransformer__transformer_weights', 'columntransformer__transformers', 'columntransformer__verbose', 'columntransformer__verbose_feature_names_out', 'columntransformer__num', 'columntransformer__cat', 'columntransformer__num__memory', 'columntransformer__num__steps', 'columntransformer__num__verbose', 'columntransformer__num__imputer', 'columntransformer__num__scaler', 'columntransformer__num__imputer__add_indicator', 'columntransformer__num__imputer__copy', 'columntransformer__num__imputer__fill_value', 'columntransformer__num__imputer__missing_values', 'columntransformer__num__imputer__strategy', 'columntransformer__num__imputer__verbose', 'columntransformer__num__scaler__copy', 'columntransformer__num__scaler__with_mean', 'columntransformer__num__scaler__with_std', 'columntransformer__cat__categories', 'columntransformer__cat__drop', 'columntransformer__cat__dtype', 'columntransformer__cat__handle_unknown', 'columntransformer__cat__sparse', 'ridge__alpha', 'ridge__copy_X', 'ridge__fit_intercept', 'ridge__max_iter', 'ridge__normalize', 'ridge__positive', 'ridge__random_state', 'ridge__solver', 'ridge__tol'])"
      ]
     },
     "execution_count": 115,
     "metadata": {},
     "output_type": "execute_result"
    }
   ],
   "source": [
    "# liste des paramètres de l'estimateur:\n",
    "pipe_ridge.get_params().keys()"
   ]
  },
  {
   "cell_type": "code",
   "execution_count": 116,
   "metadata": {},
   "outputs": [],
   "source": [
    "# Définition des paramètres:\n",
    "#le paramètre alpha permet de corriger l'overfitting\n",
    "parameter= {'ridge__alpha': [5,10,15]}\n",
    "#Grille de recherche:\n",
    "grid_ridge= GridSearchCV(pipe_ridge,parameter, cv=5,scoring='r2')"
   ]
  },
  {
   "cell_type": "code",
   "execution_count": 117,
   "metadata": {},
   "outputs": [
    {
     "data": {
      "text/html": [
       "<style>#sk-202c85d6-039b-4bb4-aaa0-191f5c72acf8 {color: black;background-color: white;}#sk-202c85d6-039b-4bb4-aaa0-191f5c72acf8 pre{padding: 0;}#sk-202c85d6-039b-4bb4-aaa0-191f5c72acf8 div.sk-toggleable {background-color: white;}#sk-202c85d6-039b-4bb4-aaa0-191f5c72acf8 label.sk-toggleable__label {cursor: pointer;display: block;width: 100%;margin-bottom: 0;padding: 0.3em;box-sizing: border-box;text-align: center;}#sk-202c85d6-039b-4bb4-aaa0-191f5c72acf8 label.sk-toggleable__label-arrow:before {content: \"▸\";float: left;margin-right: 0.25em;color: #696969;}#sk-202c85d6-039b-4bb4-aaa0-191f5c72acf8 label.sk-toggleable__label-arrow:hover:before {color: black;}#sk-202c85d6-039b-4bb4-aaa0-191f5c72acf8 div.sk-estimator:hover label.sk-toggleable__label-arrow:before {color: black;}#sk-202c85d6-039b-4bb4-aaa0-191f5c72acf8 div.sk-toggleable__content {max-height: 0;max-width: 0;overflow: hidden;text-align: left;background-color: #f0f8ff;}#sk-202c85d6-039b-4bb4-aaa0-191f5c72acf8 div.sk-toggleable__content pre {margin: 0.2em;color: black;border-radius: 0.25em;background-color: #f0f8ff;}#sk-202c85d6-039b-4bb4-aaa0-191f5c72acf8 input.sk-toggleable__control:checked~div.sk-toggleable__content {max-height: 200px;max-width: 100%;overflow: auto;}#sk-202c85d6-039b-4bb4-aaa0-191f5c72acf8 input.sk-toggleable__control:checked~label.sk-toggleable__label-arrow:before {content: \"▾\";}#sk-202c85d6-039b-4bb4-aaa0-191f5c72acf8 div.sk-estimator input.sk-toggleable__control:checked~label.sk-toggleable__label {background-color: #d4ebff;}#sk-202c85d6-039b-4bb4-aaa0-191f5c72acf8 div.sk-label input.sk-toggleable__control:checked~label.sk-toggleable__label {background-color: #d4ebff;}#sk-202c85d6-039b-4bb4-aaa0-191f5c72acf8 input.sk-hidden--visually {border: 0;clip: rect(1px 1px 1px 1px);clip: rect(1px, 1px, 1px, 1px);height: 1px;margin: -1px;overflow: hidden;padding: 0;position: absolute;width: 1px;}#sk-202c85d6-039b-4bb4-aaa0-191f5c72acf8 div.sk-estimator {font-family: monospace;background-color: #f0f8ff;border: 1px dotted black;border-radius: 0.25em;box-sizing: border-box;margin-bottom: 0.5em;}#sk-202c85d6-039b-4bb4-aaa0-191f5c72acf8 div.sk-estimator:hover {background-color: #d4ebff;}#sk-202c85d6-039b-4bb4-aaa0-191f5c72acf8 div.sk-parallel-item::after {content: \"\";width: 100%;border-bottom: 1px solid gray;flex-grow: 1;}#sk-202c85d6-039b-4bb4-aaa0-191f5c72acf8 div.sk-label:hover label.sk-toggleable__label {background-color: #d4ebff;}#sk-202c85d6-039b-4bb4-aaa0-191f5c72acf8 div.sk-serial::before {content: \"\";position: absolute;border-left: 1px solid gray;box-sizing: border-box;top: 2em;bottom: 0;left: 50%;}#sk-202c85d6-039b-4bb4-aaa0-191f5c72acf8 div.sk-serial {display: flex;flex-direction: column;align-items: center;background-color: white;padding-right: 0.2em;padding-left: 0.2em;}#sk-202c85d6-039b-4bb4-aaa0-191f5c72acf8 div.sk-item {z-index: 1;}#sk-202c85d6-039b-4bb4-aaa0-191f5c72acf8 div.sk-parallel {display: flex;align-items: stretch;justify-content: center;background-color: white;}#sk-202c85d6-039b-4bb4-aaa0-191f5c72acf8 div.sk-parallel::before {content: \"\";position: absolute;border-left: 1px solid gray;box-sizing: border-box;top: 2em;bottom: 0;left: 50%;}#sk-202c85d6-039b-4bb4-aaa0-191f5c72acf8 div.sk-parallel-item {display: flex;flex-direction: column;position: relative;background-color: white;}#sk-202c85d6-039b-4bb4-aaa0-191f5c72acf8 div.sk-parallel-item:first-child::after {align-self: flex-end;width: 50%;}#sk-202c85d6-039b-4bb4-aaa0-191f5c72acf8 div.sk-parallel-item:last-child::after {align-self: flex-start;width: 50%;}#sk-202c85d6-039b-4bb4-aaa0-191f5c72acf8 div.sk-parallel-item:only-child::after {width: 0;}#sk-202c85d6-039b-4bb4-aaa0-191f5c72acf8 div.sk-dashed-wrapped {border: 1px dashed gray;margin: 0 0.4em 0.5em 0.4em;box-sizing: border-box;padding-bottom: 0.4em;background-color: white;position: relative;}#sk-202c85d6-039b-4bb4-aaa0-191f5c72acf8 div.sk-label label {font-family: monospace;font-weight: bold;background-color: white;display: inline-block;line-height: 1.2em;}#sk-202c85d6-039b-4bb4-aaa0-191f5c72acf8 div.sk-label-container {position: relative;z-index: 2;text-align: center;}#sk-202c85d6-039b-4bb4-aaa0-191f5c72acf8 div.sk-container {/* jupyter's `normalize.less` sets `[hidden] { display: none; }` but bootstrap.min.css set `[hidden] { display: none !important; }` so we also need the `!important` here to be able to override the default hidden behavior on the sphinx rendered scikit-learn.org. See: https://github.com/scikit-learn/scikit-learn/issues/21755 */display: inline-block !important;position: relative;}#sk-202c85d6-039b-4bb4-aaa0-191f5c72acf8 div.sk-text-repr-fallback {display: none;}</style><div id=\"sk-202c85d6-039b-4bb4-aaa0-191f5c72acf8\" class=\"sk-top-container\"><div class=\"sk-text-repr-fallback\"><pre>GridSearchCV(cv=5,\n",
       "             estimator=Pipeline(steps=[(&#x27;columntransformer&#x27;,\n",
       "                                        ColumnTransformer(transformers=[(&#x27;num&#x27;,\n",
       "                                                                         Pipeline(steps=[(&#x27;imputer&#x27;,\n",
       "                                                                                          SimpleImputer(strategy=&#x27;median&#x27;)),\n",
       "                                                                                         (&#x27;scaler&#x27;,\n",
       "                                                                                          StandardScaler())]),\n",
       "                                                                         [&#x27;NumberofBuildings&#x27;,\n",
       "                                                                          &#x27;NumberofFloors&#x27;,\n",
       "                                                                          &#x27;PropertyGFATotal&#x27;,\n",
       "                                                                          &#x27;PropertyGFAParking&#x27;,\n",
       "                                                                          &#x27;PropertyGFABuilding(s)&#x27;,\n",
       "                                                                          &#x27;LargestPropertyUseTypeGFA&#x27;,\n",
       "                                                                          &#x27;BuildingAge&#x27;,\n",
       "                                                                          &#x27;ENERGYSTARScore&#x27;]),\n",
       "                                                                        (&#x27;cat&#x27;,\n",
       "                                                                         OneHotEncoder(handle_unknown=&#x27;ignore&#x27;),\n",
       "                                                                         [&#x27;PrimaryPropertyType&#x27;,\n",
       "                                                                          &#x27;Neighborhood&#x27;,\n",
       "                                                                          &#x27;LargestPropertyUseType&#x27;,\n",
       "                                                                          &#x27;ComplianceStatus&#x27;])])),\n",
       "                                       (&#x27;ridge&#x27;, Ridge())]),\n",
       "             param_grid={&#x27;ridge__alpha&#x27;: [5, 10, 15]}, scoring=&#x27;r2&#x27;)</pre><b>Please rerun this cell to show the HTML repr or trust the notebook.</b></div><div class=\"sk-container\" hidden><div class=\"sk-item sk-dashed-wrapped\"><div class=\"sk-label-container\"><div class=\"sk-label sk-toggleable\"><input class=\"sk-toggleable__control sk-hidden--visually\" id=\"83c0265e-afc3-472b-8809-9e17c1f47dc9\" type=\"checkbox\" ><label for=\"83c0265e-afc3-472b-8809-9e17c1f47dc9\" class=\"sk-toggleable__label sk-toggleable__label-arrow\">GridSearchCV</label><div class=\"sk-toggleable__content\"><pre>GridSearchCV(cv=5,\n",
       "             estimator=Pipeline(steps=[(&#x27;columntransformer&#x27;,\n",
       "                                        ColumnTransformer(transformers=[(&#x27;num&#x27;,\n",
       "                                                                         Pipeline(steps=[(&#x27;imputer&#x27;,\n",
       "                                                                                          SimpleImputer(strategy=&#x27;median&#x27;)),\n",
       "                                                                                         (&#x27;scaler&#x27;,\n",
       "                                                                                          StandardScaler())]),\n",
       "                                                                         [&#x27;NumberofBuildings&#x27;,\n",
       "                                                                          &#x27;NumberofFloors&#x27;,\n",
       "                                                                          &#x27;PropertyGFATotal&#x27;,\n",
       "                                                                          &#x27;PropertyGFAParking&#x27;,\n",
       "                                                                          &#x27;PropertyGFABuilding(s)&#x27;,\n",
       "                                                                          &#x27;LargestPropertyUseTypeGFA&#x27;,\n",
       "                                                                          &#x27;BuildingAge&#x27;,\n",
       "                                                                          &#x27;ENERGYSTARScore&#x27;]),\n",
       "                                                                        (&#x27;cat&#x27;,\n",
       "                                                                         OneHotEncoder(handle_unknown=&#x27;ignore&#x27;),\n",
       "                                                                         [&#x27;PrimaryPropertyType&#x27;,\n",
       "                                                                          &#x27;Neighborhood&#x27;,\n",
       "                                                                          &#x27;LargestPropertyUseType&#x27;,\n",
       "                                                                          &#x27;ComplianceStatus&#x27;])])),\n",
       "                                       (&#x27;ridge&#x27;, Ridge())]),\n",
       "             param_grid={&#x27;ridge__alpha&#x27;: [5, 10, 15]}, scoring=&#x27;r2&#x27;)</pre></div></div></div><div class=\"sk-parallel\"><div class=\"sk-parallel-item\"><div class=\"sk-item\"><div class=\"sk-serial\"><div class=\"sk-item\"><div class=\"sk-serial\"><div class=\"sk-item sk-dashed-wrapped\"><div class=\"sk-label-container\"><div class=\"sk-label sk-toggleable\"><input class=\"sk-toggleable__control sk-hidden--visually\" id=\"4b246d4c-c564-49c1-a64a-e65a0a24d67c\" type=\"checkbox\" ><label for=\"4b246d4c-c564-49c1-a64a-e65a0a24d67c\" class=\"sk-toggleable__label sk-toggleable__label-arrow\">columntransformer: ColumnTransformer</label><div class=\"sk-toggleable__content\"><pre>ColumnTransformer(transformers=[(&#x27;num&#x27;,\n",
       "                                 Pipeline(steps=[(&#x27;imputer&#x27;,\n",
       "                                                  SimpleImputer(strategy=&#x27;median&#x27;)),\n",
       "                                                 (&#x27;scaler&#x27;, StandardScaler())]),\n",
       "                                 [&#x27;NumberofBuildings&#x27;, &#x27;NumberofFloors&#x27;,\n",
       "                                  &#x27;PropertyGFATotal&#x27;, &#x27;PropertyGFAParking&#x27;,\n",
       "                                  &#x27;PropertyGFABuilding(s)&#x27;,\n",
       "                                  &#x27;LargestPropertyUseTypeGFA&#x27;, &#x27;BuildingAge&#x27;,\n",
       "                                  &#x27;ENERGYSTARScore&#x27;]),\n",
       "                                (&#x27;cat&#x27;, OneHotEncoder(handle_unknown=&#x27;ignore&#x27;),\n",
       "                                 [&#x27;PrimaryPropertyType&#x27;, &#x27;Neighborhood&#x27;,\n",
       "                                  &#x27;LargestPropertyUseType&#x27;,\n",
       "                                  &#x27;ComplianceStatus&#x27;])])</pre></div></div></div><div class=\"sk-parallel\"><div class=\"sk-parallel-item\"><div class=\"sk-item\"><div class=\"sk-label-container\"><div class=\"sk-label sk-toggleable\"><input class=\"sk-toggleable__control sk-hidden--visually\" id=\"d1443774-8078-4256-9099-490ccbfa5048\" type=\"checkbox\" ><label for=\"d1443774-8078-4256-9099-490ccbfa5048\" class=\"sk-toggleable__label sk-toggleable__label-arrow\">num</label><div class=\"sk-toggleable__content\"><pre>[&#x27;NumberofBuildings&#x27;, &#x27;NumberofFloors&#x27;, &#x27;PropertyGFATotal&#x27;, &#x27;PropertyGFAParking&#x27;, &#x27;PropertyGFABuilding(s)&#x27;, &#x27;LargestPropertyUseTypeGFA&#x27;, &#x27;BuildingAge&#x27;, &#x27;ENERGYSTARScore&#x27;]</pre></div></div></div><div class=\"sk-serial\"><div class=\"sk-item\"><div class=\"sk-serial\"><div class=\"sk-item\"><div class=\"sk-estimator sk-toggleable\"><input class=\"sk-toggleable__control sk-hidden--visually\" id=\"d6ff97e8-2512-4cc5-9f82-f3548fa0d45a\" type=\"checkbox\" ><label for=\"d6ff97e8-2512-4cc5-9f82-f3548fa0d45a\" class=\"sk-toggleable__label sk-toggleable__label-arrow\">SimpleImputer</label><div class=\"sk-toggleable__content\"><pre>SimpleImputer(strategy=&#x27;median&#x27;)</pre></div></div></div><div class=\"sk-item\"><div class=\"sk-estimator sk-toggleable\"><input class=\"sk-toggleable__control sk-hidden--visually\" id=\"bb486663-4441-4829-8978-0df14f5d4feb\" type=\"checkbox\" ><label for=\"bb486663-4441-4829-8978-0df14f5d4feb\" class=\"sk-toggleable__label sk-toggleable__label-arrow\">StandardScaler</label><div class=\"sk-toggleable__content\"><pre>StandardScaler()</pre></div></div></div></div></div></div></div></div><div class=\"sk-parallel-item\"><div class=\"sk-item\"><div class=\"sk-label-container\"><div class=\"sk-label sk-toggleable\"><input class=\"sk-toggleable__control sk-hidden--visually\" id=\"61f613f6-4936-414f-80d9-444cbe690f5a\" type=\"checkbox\" ><label for=\"61f613f6-4936-414f-80d9-444cbe690f5a\" class=\"sk-toggleable__label sk-toggleable__label-arrow\">cat</label><div class=\"sk-toggleable__content\"><pre>[&#x27;PrimaryPropertyType&#x27;, &#x27;Neighborhood&#x27;, &#x27;LargestPropertyUseType&#x27;, &#x27;ComplianceStatus&#x27;]</pre></div></div></div><div class=\"sk-serial\"><div class=\"sk-item\"><div class=\"sk-estimator sk-toggleable\"><input class=\"sk-toggleable__control sk-hidden--visually\" id=\"2a37319d-7f5f-4843-a026-f1023322b38d\" type=\"checkbox\" ><label for=\"2a37319d-7f5f-4843-a026-f1023322b38d\" class=\"sk-toggleable__label sk-toggleable__label-arrow\">OneHotEncoder</label><div class=\"sk-toggleable__content\"><pre>OneHotEncoder(handle_unknown=&#x27;ignore&#x27;)</pre></div></div></div></div></div></div></div></div><div class=\"sk-item\"><div class=\"sk-estimator sk-toggleable\"><input class=\"sk-toggleable__control sk-hidden--visually\" id=\"af8902de-331b-4461-9ed6-34a1b83a3727\" type=\"checkbox\" ><label for=\"af8902de-331b-4461-9ed6-34a1b83a3727\" class=\"sk-toggleable__label sk-toggleable__label-arrow\">Ridge</label><div class=\"sk-toggleable__content\"><pre>Ridge()</pre></div></div></div></div></div></div></div></div></div></div></div></div>"
      ],
      "text/plain": [
       "GridSearchCV(cv=5,\n",
       "             estimator=Pipeline(steps=[('columntransformer',\n",
       "                                        ColumnTransformer(transformers=[('num',\n",
       "                                                                         Pipeline(steps=[('imputer',\n",
       "                                                                                          SimpleImputer(strategy='median')),\n",
       "                                                                                         ('scaler',\n",
       "                                                                                          StandardScaler())]),\n",
       "                                                                         ['NumberofBuildings',\n",
       "                                                                          'NumberofFloors',\n",
       "                                                                          'PropertyGFATotal',\n",
       "                                                                          'PropertyGFAParking',\n",
       "                                                                          'PropertyGFABuilding(s)',\n",
       "                                                                          'LargestPropertyUseTypeGFA',\n",
       "                                                                          'BuildingAge',\n",
       "                                                                          'ENERGYSTARScore']),\n",
       "                                                                        ('cat',\n",
       "                                                                         OneHotEncoder(handle_unknown='ignore'),\n",
       "                                                                         ['PrimaryPropertyType',\n",
       "                                                                          'Neighborhood',\n",
       "                                                                          'LargestPropertyUseType',\n",
       "                                                                          'ComplianceStatus'])])),\n",
       "                                       ('ridge', Ridge())]),\n",
       "             param_grid={'ridge__alpha': [5, 10, 15]}, scoring='r2')"
      ]
     },
     "execution_count": 117,
     "metadata": {},
     "output_type": "execute_result"
    }
   ],
   "source": [
    "grid_ridge.fit(X_train,y_train)"
   ]
  },
  {
   "cell_type": "code",
   "execution_count": 118,
   "metadata": {},
   "outputs": [
    {
     "name": "stdout",
     "output_type": "stream",
     "text": [
      "0.09993254784155332\n",
      "{'ridge__alpha': 5}\n"
     ]
    }
   ],
   "source": [
    "print(grid_ridge.best_score_)\n",
    "print(grid_ridge.best_params_)"
   ]
  },
  {
   "cell_type": "code",
   "execution_count": 119,
   "metadata": {},
   "outputs": [],
   "source": [
    "model_ridge= grid_ridge.best_estimator_"
   ]
  },
  {
   "cell_type": "code",
   "execution_count": 120,
   "metadata": {},
   "outputs": [],
   "source": [
    "pred_ridge= model_ridge.predict(X_test)"
   ]
  },
  {
   "cell_type": "code",
   "execution_count": 121,
   "metadata": {},
   "outputs": [
    {
     "data": {
      "text/plain": [
       "[52.75045639642948,\n",
       " 2782.6106500316073,\n",
       " 37.534649517219535,\n",
       " 27.02409376791411,\n",
       " 0.2549974359270133]"
      ]
     },
     "execution_count": 121,
     "metadata": {},
     "output_type": "execute_result"
    }
   ],
   "source": [
    "# Evaluation des métriques:\n",
    "compute_scores(y_test, pred_ridge)"
   ]
  },
  {
   "cell_type": "markdown",
   "metadata": {},
   "source": [
    "#### Application du modèle SVR:"
   ]
  },
  {
   "cell_type": "code",
   "execution_count": 122,
   "metadata": {},
   "outputs": [],
   "source": [
    "# Instanciation de l'objet:\n",
    "svr= SVR()\n",
    "# On crée le modèle à l'aide de pipeline\n",
    "from sklearn.pipeline import make_pipeline\n",
    "pipe_svr= make_pipeline(column_trans,svr)"
   ]
  },
  {
   "cell_type": "code",
   "execution_count": 123,
   "metadata": {},
   "outputs": [],
   "source": [
    "# Optimisation des hyperparamètres avec: GridSearchCV()\n",
    "parameters = {'svr__kernel': ('poly','linear','rbf')}\n",
    "#Grille de recherche:\n",
    "grid_svr= GridSearchCV(pipe_svr,parameters, cv=5,scoring='r2')"
   ]
  },
  {
   "cell_type": "code",
   "execution_count": 124,
   "metadata": {},
   "outputs": [
    {
     "data": {
      "text/html": [
       "<style>#sk-43f63962-661d-4fac-a084-18444b6ec38e {color: black;background-color: white;}#sk-43f63962-661d-4fac-a084-18444b6ec38e pre{padding: 0;}#sk-43f63962-661d-4fac-a084-18444b6ec38e div.sk-toggleable {background-color: white;}#sk-43f63962-661d-4fac-a084-18444b6ec38e label.sk-toggleable__label {cursor: pointer;display: block;width: 100%;margin-bottom: 0;padding: 0.3em;box-sizing: border-box;text-align: center;}#sk-43f63962-661d-4fac-a084-18444b6ec38e label.sk-toggleable__label-arrow:before {content: \"▸\";float: left;margin-right: 0.25em;color: #696969;}#sk-43f63962-661d-4fac-a084-18444b6ec38e label.sk-toggleable__label-arrow:hover:before {color: black;}#sk-43f63962-661d-4fac-a084-18444b6ec38e div.sk-estimator:hover label.sk-toggleable__label-arrow:before {color: black;}#sk-43f63962-661d-4fac-a084-18444b6ec38e div.sk-toggleable__content {max-height: 0;max-width: 0;overflow: hidden;text-align: left;background-color: #f0f8ff;}#sk-43f63962-661d-4fac-a084-18444b6ec38e div.sk-toggleable__content pre {margin: 0.2em;color: black;border-radius: 0.25em;background-color: #f0f8ff;}#sk-43f63962-661d-4fac-a084-18444b6ec38e input.sk-toggleable__control:checked~div.sk-toggleable__content {max-height: 200px;max-width: 100%;overflow: auto;}#sk-43f63962-661d-4fac-a084-18444b6ec38e input.sk-toggleable__control:checked~label.sk-toggleable__label-arrow:before {content: \"▾\";}#sk-43f63962-661d-4fac-a084-18444b6ec38e div.sk-estimator input.sk-toggleable__control:checked~label.sk-toggleable__label {background-color: #d4ebff;}#sk-43f63962-661d-4fac-a084-18444b6ec38e div.sk-label input.sk-toggleable__control:checked~label.sk-toggleable__label {background-color: #d4ebff;}#sk-43f63962-661d-4fac-a084-18444b6ec38e input.sk-hidden--visually {border: 0;clip: rect(1px 1px 1px 1px);clip: rect(1px, 1px, 1px, 1px);height: 1px;margin: -1px;overflow: hidden;padding: 0;position: absolute;width: 1px;}#sk-43f63962-661d-4fac-a084-18444b6ec38e div.sk-estimator {font-family: monospace;background-color: #f0f8ff;border: 1px dotted black;border-radius: 0.25em;box-sizing: border-box;margin-bottom: 0.5em;}#sk-43f63962-661d-4fac-a084-18444b6ec38e div.sk-estimator:hover {background-color: #d4ebff;}#sk-43f63962-661d-4fac-a084-18444b6ec38e div.sk-parallel-item::after {content: \"\";width: 100%;border-bottom: 1px solid gray;flex-grow: 1;}#sk-43f63962-661d-4fac-a084-18444b6ec38e div.sk-label:hover label.sk-toggleable__label {background-color: #d4ebff;}#sk-43f63962-661d-4fac-a084-18444b6ec38e div.sk-serial::before {content: \"\";position: absolute;border-left: 1px solid gray;box-sizing: border-box;top: 2em;bottom: 0;left: 50%;}#sk-43f63962-661d-4fac-a084-18444b6ec38e div.sk-serial {display: flex;flex-direction: column;align-items: center;background-color: white;padding-right: 0.2em;padding-left: 0.2em;}#sk-43f63962-661d-4fac-a084-18444b6ec38e div.sk-item {z-index: 1;}#sk-43f63962-661d-4fac-a084-18444b6ec38e div.sk-parallel {display: flex;align-items: stretch;justify-content: center;background-color: white;}#sk-43f63962-661d-4fac-a084-18444b6ec38e div.sk-parallel::before {content: \"\";position: absolute;border-left: 1px solid gray;box-sizing: border-box;top: 2em;bottom: 0;left: 50%;}#sk-43f63962-661d-4fac-a084-18444b6ec38e div.sk-parallel-item {display: flex;flex-direction: column;position: relative;background-color: white;}#sk-43f63962-661d-4fac-a084-18444b6ec38e div.sk-parallel-item:first-child::after {align-self: flex-end;width: 50%;}#sk-43f63962-661d-4fac-a084-18444b6ec38e div.sk-parallel-item:last-child::after {align-self: flex-start;width: 50%;}#sk-43f63962-661d-4fac-a084-18444b6ec38e div.sk-parallel-item:only-child::after {width: 0;}#sk-43f63962-661d-4fac-a084-18444b6ec38e div.sk-dashed-wrapped {border: 1px dashed gray;margin: 0 0.4em 0.5em 0.4em;box-sizing: border-box;padding-bottom: 0.4em;background-color: white;position: relative;}#sk-43f63962-661d-4fac-a084-18444b6ec38e div.sk-label label {font-family: monospace;font-weight: bold;background-color: white;display: inline-block;line-height: 1.2em;}#sk-43f63962-661d-4fac-a084-18444b6ec38e div.sk-label-container {position: relative;z-index: 2;text-align: center;}#sk-43f63962-661d-4fac-a084-18444b6ec38e div.sk-container {/* jupyter's `normalize.less` sets `[hidden] { display: none; }` but bootstrap.min.css set `[hidden] { display: none !important; }` so we also need the `!important` here to be able to override the default hidden behavior on the sphinx rendered scikit-learn.org. See: https://github.com/scikit-learn/scikit-learn/issues/21755 */display: inline-block !important;position: relative;}#sk-43f63962-661d-4fac-a084-18444b6ec38e div.sk-text-repr-fallback {display: none;}</style><div id=\"sk-43f63962-661d-4fac-a084-18444b6ec38e\" class=\"sk-top-container\"><div class=\"sk-text-repr-fallback\"><pre>GridSearchCV(cv=5,\n",
       "             estimator=Pipeline(steps=[(&#x27;columntransformer&#x27;,\n",
       "                                        ColumnTransformer(transformers=[(&#x27;num&#x27;,\n",
       "                                                                         Pipeline(steps=[(&#x27;imputer&#x27;,\n",
       "                                                                                          SimpleImputer(strategy=&#x27;median&#x27;)),\n",
       "                                                                                         (&#x27;scaler&#x27;,\n",
       "                                                                                          StandardScaler())]),\n",
       "                                                                         [&#x27;NumberofBuildings&#x27;,\n",
       "                                                                          &#x27;NumberofFloors&#x27;,\n",
       "                                                                          &#x27;PropertyGFATotal&#x27;,\n",
       "                                                                          &#x27;PropertyGFAParking&#x27;,\n",
       "                                                                          &#x27;PropertyGFABuilding(s)&#x27;,\n",
       "                                                                          &#x27;LargestPropertyUseTypeGFA&#x27;,\n",
       "                                                                          &#x27;BuildingAge&#x27;,\n",
       "                                                                          &#x27;ENERGYSTARScore&#x27;]),\n",
       "                                                                        (&#x27;cat&#x27;,\n",
       "                                                                         OneHotEncoder(handle_unknown=&#x27;ignore&#x27;),\n",
       "                                                                         [&#x27;PrimaryPropertyType&#x27;,\n",
       "                                                                          &#x27;Neighborhood&#x27;,\n",
       "                                                                          &#x27;LargestPropertyUseType&#x27;,\n",
       "                                                                          &#x27;ComplianceStatus&#x27;])])),\n",
       "                                       (&#x27;svr&#x27;, SVR())]),\n",
       "             param_grid={&#x27;svr__kernel&#x27;: (&#x27;poly&#x27;, &#x27;linear&#x27;, &#x27;rbf&#x27;)},\n",
       "             scoring=&#x27;r2&#x27;)</pre><b>Please rerun this cell to show the HTML repr or trust the notebook.</b></div><div class=\"sk-container\" hidden><div class=\"sk-item sk-dashed-wrapped\"><div class=\"sk-label-container\"><div class=\"sk-label sk-toggleable\"><input class=\"sk-toggleable__control sk-hidden--visually\" id=\"c69bd9b0-28ba-44df-b074-470db82cbc94\" type=\"checkbox\" ><label for=\"c69bd9b0-28ba-44df-b074-470db82cbc94\" class=\"sk-toggleable__label sk-toggleable__label-arrow\">GridSearchCV</label><div class=\"sk-toggleable__content\"><pre>GridSearchCV(cv=5,\n",
       "             estimator=Pipeline(steps=[(&#x27;columntransformer&#x27;,\n",
       "                                        ColumnTransformer(transformers=[(&#x27;num&#x27;,\n",
       "                                                                         Pipeline(steps=[(&#x27;imputer&#x27;,\n",
       "                                                                                          SimpleImputer(strategy=&#x27;median&#x27;)),\n",
       "                                                                                         (&#x27;scaler&#x27;,\n",
       "                                                                                          StandardScaler())]),\n",
       "                                                                         [&#x27;NumberofBuildings&#x27;,\n",
       "                                                                          &#x27;NumberofFloors&#x27;,\n",
       "                                                                          &#x27;PropertyGFATotal&#x27;,\n",
       "                                                                          &#x27;PropertyGFAParking&#x27;,\n",
       "                                                                          &#x27;PropertyGFABuilding(s)&#x27;,\n",
       "                                                                          &#x27;LargestPropertyUseTypeGFA&#x27;,\n",
       "                                                                          &#x27;BuildingAge&#x27;,\n",
       "                                                                          &#x27;ENERGYSTARScore&#x27;]),\n",
       "                                                                        (&#x27;cat&#x27;,\n",
       "                                                                         OneHotEncoder(handle_unknown=&#x27;ignore&#x27;),\n",
       "                                                                         [&#x27;PrimaryPropertyType&#x27;,\n",
       "                                                                          &#x27;Neighborhood&#x27;,\n",
       "                                                                          &#x27;LargestPropertyUseType&#x27;,\n",
       "                                                                          &#x27;ComplianceStatus&#x27;])])),\n",
       "                                       (&#x27;svr&#x27;, SVR())]),\n",
       "             param_grid={&#x27;svr__kernel&#x27;: (&#x27;poly&#x27;, &#x27;linear&#x27;, &#x27;rbf&#x27;)},\n",
       "             scoring=&#x27;r2&#x27;)</pre></div></div></div><div class=\"sk-parallel\"><div class=\"sk-parallel-item\"><div class=\"sk-item\"><div class=\"sk-serial\"><div class=\"sk-item\"><div class=\"sk-serial\"><div class=\"sk-item sk-dashed-wrapped\"><div class=\"sk-label-container\"><div class=\"sk-label sk-toggleable\"><input class=\"sk-toggleable__control sk-hidden--visually\" id=\"428c4873-d9a0-4c49-b03e-bb4d54afd955\" type=\"checkbox\" ><label for=\"428c4873-d9a0-4c49-b03e-bb4d54afd955\" class=\"sk-toggleable__label sk-toggleable__label-arrow\">columntransformer: ColumnTransformer</label><div class=\"sk-toggleable__content\"><pre>ColumnTransformer(transformers=[(&#x27;num&#x27;,\n",
       "                                 Pipeline(steps=[(&#x27;imputer&#x27;,\n",
       "                                                  SimpleImputer(strategy=&#x27;median&#x27;)),\n",
       "                                                 (&#x27;scaler&#x27;, StandardScaler())]),\n",
       "                                 [&#x27;NumberofBuildings&#x27;, &#x27;NumberofFloors&#x27;,\n",
       "                                  &#x27;PropertyGFATotal&#x27;, &#x27;PropertyGFAParking&#x27;,\n",
       "                                  &#x27;PropertyGFABuilding(s)&#x27;,\n",
       "                                  &#x27;LargestPropertyUseTypeGFA&#x27;, &#x27;BuildingAge&#x27;,\n",
       "                                  &#x27;ENERGYSTARScore&#x27;]),\n",
       "                                (&#x27;cat&#x27;, OneHotEncoder(handle_unknown=&#x27;ignore&#x27;),\n",
       "                                 [&#x27;PrimaryPropertyType&#x27;, &#x27;Neighborhood&#x27;,\n",
       "                                  &#x27;LargestPropertyUseType&#x27;,\n",
       "                                  &#x27;ComplianceStatus&#x27;])])</pre></div></div></div><div class=\"sk-parallel\"><div class=\"sk-parallel-item\"><div class=\"sk-item\"><div class=\"sk-label-container\"><div class=\"sk-label sk-toggleable\"><input class=\"sk-toggleable__control sk-hidden--visually\" id=\"1d053e83-ab26-4027-ac6a-9e1bdbb13c5a\" type=\"checkbox\" ><label for=\"1d053e83-ab26-4027-ac6a-9e1bdbb13c5a\" class=\"sk-toggleable__label sk-toggleable__label-arrow\">num</label><div class=\"sk-toggleable__content\"><pre>[&#x27;NumberofBuildings&#x27;, &#x27;NumberofFloors&#x27;, &#x27;PropertyGFATotal&#x27;, &#x27;PropertyGFAParking&#x27;, &#x27;PropertyGFABuilding(s)&#x27;, &#x27;LargestPropertyUseTypeGFA&#x27;, &#x27;BuildingAge&#x27;, &#x27;ENERGYSTARScore&#x27;]</pre></div></div></div><div class=\"sk-serial\"><div class=\"sk-item\"><div class=\"sk-serial\"><div class=\"sk-item\"><div class=\"sk-estimator sk-toggleable\"><input class=\"sk-toggleable__control sk-hidden--visually\" id=\"c6b32630-dbe8-4f67-9913-b0f71eadb2c4\" type=\"checkbox\" ><label for=\"c6b32630-dbe8-4f67-9913-b0f71eadb2c4\" class=\"sk-toggleable__label sk-toggleable__label-arrow\">SimpleImputer</label><div class=\"sk-toggleable__content\"><pre>SimpleImputer(strategy=&#x27;median&#x27;)</pre></div></div></div><div class=\"sk-item\"><div class=\"sk-estimator sk-toggleable\"><input class=\"sk-toggleable__control sk-hidden--visually\" id=\"c6f159c6-49c1-4b98-88c0-591084481531\" type=\"checkbox\" ><label for=\"c6f159c6-49c1-4b98-88c0-591084481531\" class=\"sk-toggleable__label sk-toggleable__label-arrow\">StandardScaler</label><div class=\"sk-toggleable__content\"><pre>StandardScaler()</pre></div></div></div></div></div></div></div></div><div class=\"sk-parallel-item\"><div class=\"sk-item\"><div class=\"sk-label-container\"><div class=\"sk-label sk-toggleable\"><input class=\"sk-toggleable__control sk-hidden--visually\" id=\"5f24bb32-12a8-44e7-a4c7-a7802ff0ec3c\" type=\"checkbox\" ><label for=\"5f24bb32-12a8-44e7-a4c7-a7802ff0ec3c\" class=\"sk-toggleable__label sk-toggleable__label-arrow\">cat</label><div class=\"sk-toggleable__content\"><pre>[&#x27;PrimaryPropertyType&#x27;, &#x27;Neighborhood&#x27;, &#x27;LargestPropertyUseType&#x27;, &#x27;ComplianceStatus&#x27;]</pre></div></div></div><div class=\"sk-serial\"><div class=\"sk-item\"><div class=\"sk-estimator sk-toggleable\"><input class=\"sk-toggleable__control sk-hidden--visually\" id=\"759dd3e7-347e-40a5-9243-7af15a2dc74d\" type=\"checkbox\" ><label for=\"759dd3e7-347e-40a5-9243-7af15a2dc74d\" class=\"sk-toggleable__label sk-toggleable__label-arrow\">OneHotEncoder</label><div class=\"sk-toggleable__content\"><pre>OneHotEncoder(handle_unknown=&#x27;ignore&#x27;)</pre></div></div></div></div></div></div></div></div><div class=\"sk-item\"><div class=\"sk-estimator sk-toggleable\"><input class=\"sk-toggleable__control sk-hidden--visually\" id=\"f2d0e748-0a0b-4faa-b6e0-ad6f59deadcb\" type=\"checkbox\" ><label for=\"f2d0e748-0a0b-4faa-b6e0-ad6f59deadcb\" class=\"sk-toggleable__label sk-toggleable__label-arrow\">SVR</label><div class=\"sk-toggleable__content\"><pre>SVR()</pre></div></div></div></div></div></div></div></div></div></div></div></div>"
      ],
      "text/plain": [
       "GridSearchCV(cv=5,\n",
       "             estimator=Pipeline(steps=[('columntransformer',\n",
       "                                        ColumnTransformer(transformers=[('num',\n",
       "                                                                         Pipeline(steps=[('imputer',\n",
       "                                                                                          SimpleImputer(strategy='median')),\n",
       "                                                                                         ('scaler',\n",
       "                                                                                          StandardScaler())]),\n",
       "                                                                         ['NumberofBuildings',\n",
       "                                                                          'NumberofFloors',\n",
       "                                                                          'PropertyGFATotal',\n",
       "                                                                          'PropertyGFAParking',\n",
       "                                                                          'PropertyGFABuilding(s)',\n",
       "                                                                          'LargestPropertyUseTypeGFA',\n",
       "                                                                          'BuildingAge',\n",
       "                                                                          'ENERGYSTARScore']),\n",
       "                                                                        ('cat',\n",
       "                                                                         OneHotEncoder(handle_unknown='ignore'),\n",
       "                                                                         ['PrimaryPropertyType',\n",
       "                                                                          'Neighborhood',\n",
       "                                                                          'LargestPropertyUseType',\n",
       "                                                                          'ComplianceStatus'])])),\n",
       "                                       ('svr', SVR())]),\n",
       "             param_grid={'svr__kernel': ('poly', 'linear', 'rbf')},\n",
       "             scoring='r2')"
      ]
     },
     "execution_count": 124,
     "metadata": {},
     "output_type": "execute_result"
    }
   ],
   "source": [
    "grid_svr.fit(X_train,y_train)"
   ]
  },
  {
   "cell_type": "code",
   "execution_count": 125,
   "metadata": {},
   "outputs": [
    {
     "data": {
      "text/plain": [
       "0.20049969998659412"
      ]
     },
     "execution_count": 125,
     "metadata": {},
     "output_type": "execute_result"
    }
   ],
   "source": [
    "model_svr= grid_svr.best_estimator_\n",
    "pred_svr= model_svr.predict(X_test)\n",
    "r2_score(y_test, pred_svr)"
   ]
  },
  {
   "cell_type": "code",
   "execution_count": 126,
   "metadata": {},
   "outputs": [
    {
     "data": {
      "text/plain": [
       "[54.64578301253432,\n",
       " 2986.161601052984,\n",
       " 34.85026667274836,\n",
       " 19.97040777335708,\n",
       " 0.20049969998659412]"
      ]
     },
     "execution_count": 126,
     "metadata": {},
     "output_type": "execute_result"
    }
   ],
   "source": [
    "# calcul des métriques:\n",
    "compute_scores(y_test, pred_svr)"
   ]
  },
  {
   "cell_type": "markdown",
   "metadata": {},
   "source": [
    "#### Application du modèle Lasso"
   ]
  },
  {
   "cell_type": "code",
   "execution_count": 127,
   "metadata": {},
   "outputs": [],
   "source": [
    "lasso= Lasso(tol=0.1)\n",
    "# On crée le modèle à l'aide de pipeline\n",
    "pipe_lasso= make_pipeline(column_trans,lasso)"
   ]
  },
  {
   "cell_type": "code",
   "execution_count": 128,
   "metadata": {},
   "outputs": [
    {
     "data": {
      "text/html": [
       "<style>#sk-c4f18e80-fc58-4d66-88bc-3f90df8639d0 {color: black;background-color: white;}#sk-c4f18e80-fc58-4d66-88bc-3f90df8639d0 pre{padding: 0;}#sk-c4f18e80-fc58-4d66-88bc-3f90df8639d0 div.sk-toggleable {background-color: white;}#sk-c4f18e80-fc58-4d66-88bc-3f90df8639d0 label.sk-toggleable__label {cursor: pointer;display: block;width: 100%;margin-bottom: 0;padding: 0.3em;box-sizing: border-box;text-align: center;}#sk-c4f18e80-fc58-4d66-88bc-3f90df8639d0 label.sk-toggleable__label-arrow:before {content: \"▸\";float: left;margin-right: 0.25em;color: #696969;}#sk-c4f18e80-fc58-4d66-88bc-3f90df8639d0 label.sk-toggleable__label-arrow:hover:before {color: black;}#sk-c4f18e80-fc58-4d66-88bc-3f90df8639d0 div.sk-estimator:hover label.sk-toggleable__label-arrow:before {color: black;}#sk-c4f18e80-fc58-4d66-88bc-3f90df8639d0 div.sk-toggleable__content {max-height: 0;max-width: 0;overflow: hidden;text-align: left;background-color: #f0f8ff;}#sk-c4f18e80-fc58-4d66-88bc-3f90df8639d0 div.sk-toggleable__content pre {margin: 0.2em;color: black;border-radius: 0.25em;background-color: #f0f8ff;}#sk-c4f18e80-fc58-4d66-88bc-3f90df8639d0 input.sk-toggleable__control:checked~div.sk-toggleable__content {max-height: 200px;max-width: 100%;overflow: auto;}#sk-c4f18e80-fc58-4d66-88bc-3f90df8639d0 input.sk-toggleable__control:checked~label.sk-toggleable__label-arrow:before {content: \"▾\";}#sk-c4f18e80-fc58-4d66-88bc-3f90df8639d0 div.sk-estimator input.sk-toggleable__control:checked~label.sk-toggleable__label {background-color: #d4ebff;}#sk-c4f18e80-fc58-4d66-88bc-3f90df8639d0 div.sk-label input.sk-toggleable__control:checked~label.sk-toggleable__label {background-color: #d4ebff;}#sk-c4f18e80-fc58-4d66-88bc-3f90df8639d0 input.sk-hidden--visually {border: 0;clip: rect(1px 1px 1px 1px);clip: rect(1px, 1px, 1px, 1px);height: 1px;margin: -1px;overflow: hidden;padding: 0;position: absolute;width: 1px;}#sk-c4f18e80-fc58-4d66-88bc-3f90df8639d0 div.sk-estimator {font-family: monospace;background-color: #f0f8ff;border: 1px dotted black;border-radius: 0.25em;box-sizing: border-box;margin-bottom: 0.5em;}#sk-c4f18e80-fc58-4d66-88bc-3f90df8639d0 div.sk-estimator:hover {background-color: #d4ebff;}#sk-c4f18e80-fc58-4d66-88bc-3f90df8639d0 div.sk-parallel-item::after {content: \"\";width: 100%;border-bottom: 1px solid gray;flex-grow: 1;}#sk-c4f18e80-fc58-4d66-88bc-3f90df8639d0 div.sk-label:hover label.sk-toggleable__label {background-color: #d4ebff;}#sk-c4f18e80-fc58-4d66-88bc-3f90df8639d0 div.sk-serial::before {content: \"\";position: absolute;border-left: 1px solid gray;box-sizing: border-box;top: 2em;bottom: 0;left: 50%;}#sk-c4f18e80-fc58-4d66-88bc-3f90df8639d0 div.sk-serial {display: flex;flex-direction: column;align-items: center;background-color: white;padding-right: 0.2em;padding-left: 0.2em;}#sk-c4f18e80-fc58-4d66-88bc-3f90df8639d0 div.sk-item {z-index: 1;}#sk-c4f18e80-fc58-4d66-88bc-3f90df8639d0 div.sk-parallel {display: flex;align-items: stretch;justify-content: center;background-color: white;}#sk-c4f18e80-fc58-4d66-88bc-3f90df8639d0 div.sk-parallel::before {content: \"\";position: absolute;border-left: 1px solid gray;box-sizing: border-box;top: 2em;bottom: 0;left: 50%;}#sk-c4f18e80-fc58-4d66-88bc-3f90df8639d0 div.sk-parallel-item {display: flex;flex-direction: column;position: relative;background-color: white;}#sk-c4f18e80-fc58-4d66-88bc-3f90df8639d0 div.sk-parallel-item:first-child::after {align-self: flex-end;width: 50%;}#sk-c4f18e80-fc58-4d66-88bc-3f90df8639d0 div.sk-parallel-item:last-child::after {align-self: flex-start;width: 50%;}#sk-c4f18e80-fc58-4d66-88bc-3f90df8639d0 div.sk-parallel-item:only-child::after {width: 0;}#sk-c4f18e80-fc58-4d66-88bc-3f90df8639d0 div.sk-dashed-wrapped {border: 1px dashed gray;margin: 0 0.4em 0.5em 0.4em;box-sizing: border-box;padding-bottom: 0.4em;background-color: white;position: relative;}#sk-c4f18e80-fc58-4d66-88bc-3f90df8639d0 div.sk-label label {font-family: monospace;font-weight: bold;background-color: white;display: inline-block;line-height: 1.2em;}#sk-c4f18e80-fc58-4d66-88bc-3f90df8639d0 div.sk-label-container {position: relative;z-index: 2;text-align: center;}#sk-c4f18e80-fc58-4d66-88bc-3f90df8639d0 div.sk-container {/* jupyter's `normalize.less` sets `[hidden] { display: none; }` but bootstrap.min.css set `[hidden] { display: none !important; }` so we also need the `!important` here to be able to override the default hidden behavior on the sphinx rendered scikit-learn.org. See: https://github.com/scikit-learn/scikit-learn/issues/21755 */display: inline-block !important;position: relative;}#sk-c4f18e80-fc58-4d66-88bc-3f90df8639d0 div.sk-text-repr-fallback {display: none;}</style><div id=\"sk-c4f18e80-fc58-4d66-88bc-3f90df8639d0\" class=\"sk-top-container\"><div class=\"sk-text-repr-fallback\"><pre>GridSearchCV(cv=5,\n",
       "             estimator=Pipeline(steps=[(&#x27;columntransformer&#x27;,\n",
       "                                        ColumnTransformer(transformers=[(&#x27;num&#x27;,\n",
       "                                                                         Pipeline(steps=[(&#x27;imputer&#x27;,\n",
       "                                                                                          SimpleImputer(strategy=&#x27;median&#x27;)),\n",
       "                                                                                         (&#x27;scaler&#x27;,\n",
       "                                                                                          StandardScaler())]),\n",
       "                                                                         [&#x27;NumberofBuildings&#x27;,\n",
       "                                                                          &#x27;NumberofFloors&#x27;,\n",
       "                                                                          &#x27;PropertyGFATotal&#x27;,\n",
       "                                                                          &#x27;PropertyGFAParking&#x27;,\n",
       "                                                                          &#x27;PropertyGFABuilding(s)&#x27;,\n",
       "                                                                          &#x27;LargestPropertyUseTypeGFA&#x27;,\n",
       "                                                                          &#x27;BuildingAge&#x27;,\n",
       "                                                                          &#x27;ENERGYSTARScore&#x27;]),\n",
       "                                                                        (&#x27;cat&#x27;,\n",
       "                                                                         OneHotEncoder(handle_unknown=&#x27;ignore&#x27;),\n",
       "                                                                         [&#x27;PrimaryPropertyType&#x27;,\n",
       "                                                                          &#x27;Neighborhood&#x27;,\n",
       "                                                                          &#x27;LargestPropertyUseType&#x27;,\n",
       "                                                                          &#x27;ComplianceStatus&#x27;])])),\n",
       "                                       (&#x27;lasso&#x27;, Lasso(tol=0.1))]),\n",
       "             param_grid={&#x27;lasso__alpha&#x27;: [60, 70, 80]}, scoring=&#x27;r2&#x27;)</pre><b>Please rerun this cell to show the HTML repr or trust the notebook.</b></div><div class=\"sk-container\" hidden><div class=\"sk-item sk-dashed-wrapped\"><div class=\"sk-label-container\"><div class=\"sk-label sk-toggleable\"><input class=\"sk-toggleable__control sk-hidden--visually\" id=\"7fbcd4f7-a4cc-404d-8fc5-2b927ff79253\" type=\"checkbox\" ><label for=\"7fbcd4f7-a4cc-404d-8fc5-2b927ff79253\" class=\"sk-toggleable__label sk-toggleable__label-arrow\">GridSearchCV</label><div class=\"sk-toggleable__content\"><pre>GridSearchCV(cv=5,\n",
       "             estimator=Pipeline(steps=[(&#x27;columntransformer&#x27;,\n",
       "                                        ColumnTransformer(transformers=[(&#x27;num&#x27;,\n",
       "                                                                         Pipeline(steps=[(&#x27;imputer&#x27;,\n",
       "                                                                                          SimpleImputer(strategy=&#x27;median&#x27;)),\n",
       "                                                                                         (&#x27;scaler&#x27;,\n",
       "                                                                                          StandardScaler())]),\n",
       "                                                                         [&#x27;NumberofBuildings&#x27;,\n",
       "                                                                          &#x27;NumberofFloors&#x27;,\n",
       "                                                                          &#x27;PropertyGFATotal&#x27;,\n",
       "                                                                          &#x27;PropertyGFAParking&#x27;,\n",
       "                                                                          &#x27;PropertyGFABuilding(s)&#x27;,\n",
       "                                                                          &#x27;LargestPropertyUseTypeGFA&#x27;,\n",
       "                                                                          &#x27;BuildingAge&#x27;,\n",
       "                                                                          &#x27;ENERGYSTARScore&#x27;]),\n",
       "                                                                        (&#x27;cat&#x27;,\n",
       "                                                                         OneHotEncoder(handle_unknown=&#x27;ignore&#x27;),\n",
       "                                                                         [&#x27;PrimaryPropertyType&#x27;,\n",
       "                                                                          &#x27;Neighborhood&#x27;,\n",
       "                                                                          &#x27;LargestPropertyUseType&#x27;,\n",
       "                                                                          &#x27;ComplianceStatus&#x27;])])),\n",
       "                                       (&#x27;lasso&#x27;, Lasso(tol=0.1))]),\n",
       "             param_grid={&#x27;lasso__alpha&#x27;: [60, 70, 80]}, scoring=&#x27;r2&#x27;)</pre></div></div></div><div class=\"sk-parallel\"><div class=\"sk-parallel-item\"><div class=\"sk-item\"><div class=\"sk-serial\"><div class=\"sk-item\"><div class=\"sk-serial\"><div class=\"sk-item sk-dashed-wrapped\"><div class=\"sk-label-container\"><div class=\"sk-label sk-toggleable\"><input class=\"sk-toggleable__control sk-hidden--visually\" id=\"9bb69296-7af6-4b10-a8b2-fd4c930cb902\" type=\"checkbox\" ><label for=\"9bb69296-7af6-4b10-a8b2-fd4c930cb902\" class=\"sk-toggleable__label sk-toggleable__label-arrow\">columntransformer: ColumnTransformer</label><div class=\"sk-toggleable__content\"><pre>ColumnTransformer(transformers=[(&#x27;num&#x27;,\n",
       "                                 Pipeline(steps=[(&#x27;imputer&#x27;,\n",
       "                                                  SimpleImputer(strategy=&#x27;median&#x27;)),\n",
       "                                                 (&#x27;scaler&#x27;, StandardScaler())]),\n",
       "                                 [&#x27;NumberofBuildings&#x27;, &#x27;NumberofFloors&#x27;,\n",
       "                                  &#x27;PropertyGFATotal&#x27;, &#x27;PropertyGFAParking&#x27;,\n",
       "                                  &#x27;PropertyGFABuilding(s)&#x27;,\n",
       "                                  &#x27;LargestPropertyUseTypeGFA&#x27;, &#x27;BuildingAge&#x27;,\n",
       "                                  &#x27;ENERGYSTARScore&#x27;]),\n",
       "                                (&#x27;cat&#x27;, OneHotEncoder(handle_unknown=&#x27;ignore&#x27;),\n",
       "                                 [&#x27;PrimaryPropertyType&#x27;, &#x27;Neighborhood&#x27;,\n",
       "                                  &#x27;LargestPropertyUseType&#x27;,\n",
       "                                  &#x27;ComplianceStatus&#x27;])])</pre></div></div></div><div class=\"sk-parallel\"><div class=\"sk-parallel-item\"><div class=\"sk-item\"><div class=\"sk-label-container\"><div class=\"sk-label sk-toggleable\"><input class=\"sk-toggleable__control sk-hidden--visually\" id=\"0aaeadd2-4fd2-4b45-a508-a633388c9047\" type=\"checkbox\" ><label for=\"0aaeadd2-4fd2-4b45-a508-a633388c9047\" class=\"sk-toggleable__label sk-toggleable__label-arrow\">num</label><div class=\"sk-toggleable__content\"><pre>[&#x27;NumberofBuildings&#x27;, &#x27;NumberofFloors&#x27;, &#x27;PropertyGFATotal&#x27;, &#x27;PropertyGFAParking&#x27;, &#x27;PropertyGFABuilding(s)&#x27;, &#x27;LargestPropertyUseTypeGFA&#x27;, &#x27;BuildingAge&#x27;, &#x27;ENERGYSTARScore&#x27;]</pre></div></div></div><div class=\"sk-serial\"><div class=\"sk-item\"><div class=\"sk-serial\"><div class=\"sk-item\"><div class=\"sk-estimator sk-toggleable\"><input class=\"sk-toggleable__control sk-hidden--visually\" id=\"33fe1de4-8129-4615-be1b-41f9f48a13f7\" type=\"checkbox\" ><label for=\"33fe1de4-8129-4615-be1b-41f9f48a13f7\" class=\"sk-toggleable__label sk-toggleable__label-arrow\">SimpleImputer</label><div class=\"sk-toggleable__content\"><pre>SimpleImputer(strategy=&#x27;median&#x27;)</pre></div></div></div><div class=\"sk-item\"><div class=\"sk-estimator sk-toggleable\"><input class=\"sk-toggleable__control sk-hidden--visually\" id=\"839c40f1-1ad5-49d3-9725-d6dcaa03a5c1\" type=\"checkbox\" ><label for=\"839c40f1-1ad5-49d3-9725-d6dcaa03a5c1\" class=\"sk-toggleable__label sk-toggleable__label-arrow\">StandardScaler</label><div class=\"sk-toggleable__content\"><pre>StandardScaler()</pre></div></div></div></div></div></div></div></div><div class=\"sk-parallel-item\"><div class=\"sk-item\"><div class=\"sk-label-container\"><div class=\"sk-label sk-toggleable\"><input class=\"sk-toggleable__control sk-hidden--visually\" id=\"a81d5521-5d23-4961-bcda-d4b17bbd0b5f\" type=\"checkbox\" ><label for=\"a81d5521-5d23-4961-bcda-d4b17bbd0b5f\" class=\"sk-toggleable__label sk-toggleable__label-arrow\">cat</label><div class=\"sk-toggleable__content\"><pre>[&#x27;PrimaryPropertyType&#x27;, &#x27;Neighborhood&#x27;, &#x27;LargestPropertyUseType&#x27;, &#x27;ComplianceStatus&#x27;]</pre></div></div></div><div class=\"sk-serial\"><div class=\"sk-item\"><div class=\"sk-estimator sk-toggleable\"><input class=\"sk-toggleable__control sk-hidden--visually\" id=\"804ed15a-28b3-4f4c-bcd8-72dcf6f0ecfb\" type=\"checkbox\" ><label for=\"804ed15a-28b3-4f4c-bcd8-72dcf6f0ecfb\" class=\"sk-toggleable__label sk-toggleable__label-arrow\">OneHotEncoder</label><div class=\"sk-toggleable__content\"><pre>OneHotEncoder(handle_unknown=&#x27;ignore&#x27;)</pre></div></div></div></div></div></div></div></div><div class=\"sk-item\"><div class=\"sk-estimator sk-toggleable\"><input class=\"sk-toggleable__control sk-hidden--visually\" id=\"c675ffa7-70af-4942-8799-d9f54bef5cd3\" type=\"checkbox\" ><label for=\"c675ffa7-70af-4942-8799-d9f54bef5cd3\" class=\"sk-toggleable__label sk-toggleable__label-arrow\">Lasso</label><div class=\"sk-toggleable__content\"><pre>Lasso(tol=0.1)</pre></div></div></div></div></div></div></div></div></div></div></div></div>"
      ],
      "text/plain": [
       "GridSearchCV(cv=5,\n",
       "             estimator=Pipeline(steps=[('columntransformer',\n",
       "                                        ColumnTransformer(transformers=[('num',\n",
       "                                                                         Pipeline(steps=[('imputer',\n",
       "                                                                                          SimpleImputer(strategy='median')),\n",
       "                                                                                         ('scaler',\n",
       "                                                                                          StandardScaler())]),\n",
       "                                                                         ['NumberofBuildings',\n",
       "                                                                          'NumberofFloors',\n",
       "                                                                          'PropertyGFATotal',\n",
       "                                                                          'PropertyGFAParking',\n",
       "                                                                          'PropertyGFABuilding(s)',\n",
       "                                                                          'LargestPropertyUseTypeGFA',\n",
       "                                                                          'BuildingAge',\n",
       "                                                                          'ENERGYSTARScore']),\n",
       "                                                                        ('cat',\n",
       "                                                                         OneHotEncoder(handle_unknown='ignore'),\n",
       "                                                                         ['PrimaryPropertyType',\n",
       "                                                                          'Neighborhood',\n",
       "                                                                          'LargestPropertyUseType',\n",
       "                                                                          'ComplianceStatus'])])),\n",
       "                                       ('lasso', Lasso(tol=0.1))]),\n",
       "             param_grid={'lasso__alpha': [60, 70, 80]}, scoring='r2')"
      ]
     },
     "execution_count": 128,
     "metadata": {},
     "output_type": "execute_result"
    }
   ],
   "source": [
    "# Optimisation des hyperparamètres avec: GridSearchCV()\n",
    "parameters = {'lasso__alpha':[60,70,80]}\n",
    "#Grille de recherche:\n",
    "grid_lasso= GridSearchCV(pipe_lasso,parameters, cv=5,scoring='r2')\n",
    "grid_lasso.fit(X_train,y_train)"
   ]
  },
  {
   "cell_type": "code",
   "execution_count": 129,
   "metadata": {},
   "outputs": [
    {
     "data": {
      "text/plain": [
       "-0.0039546428929231325"
      ]
     },
     "execution_count": 129,
     "metadata": {},
     "output_type": "execute_result"
    }
   ],
   "source": [
    "model_lasso= grid_lasso.best_estimator_\n",
    "model_lasso.score(X_test,y_test)"
   ]
  },
  {
   "cell_type": "code",
   "execution_count": 130,
   "metadata": {},
   "outputs": [
    {
     "data": {
      "text/plain": [
       "[61.23565731742075,\n",
       " 3749.805727096586,\n",
       " 45.95119989680082,\n",
       " 38.43351578947368,\n",
       " -0.0039546428929231325]"
      ]
     },
     "execution_count": 130,
     "metadata": {},
     "output_type": "execute_result"
    }
   ],
   "source": [
    "pred_lasso= model_lasso.predict(X_test)\n",
    "# Evaluation des métriques:\n",
    "compute_scores(y_test, pred_lasso)"
   ]
  },
  {
   "cell_type": "markdown",
   "metadata": {},
   "source": [
    "#### Application du modèle Elastic Net"
   ]
  },
  {
   "cell_type": "code",
   "execution_count": 131,
   "metadata": {},
   "outputs": [],
   "source": [
    "elastic= ElasticNet(tol=0.1)\n",
    "# On crée le modèle à l'aide de pipeline\n",
    "pipe_elastic= make_pipeline(column_trans,elastic)"
   ]
  },
  {
   "cell_type": "code",
   "execution_count": 132,
   "metadata": {},
   "outputs": [
    {
     "data": {
      "text/html": [
       "<style>#sk-85245f67-e3ec-48ac-8c50-b4e892ffe644 {color: black;background-color: white;}#sk-85245f67-e3ec-48ac-8c50-b4e892ffe644 pre{padding: 0;}#sk-85245f67-e3ec-48ac-8c50-b4e892ffe644 div.sk-toggleable {background-color: white;}#sk-85245f67-e3ec-48ac-8c50-b4e892ffe644 label.sk-toggleable__label {cursor: pointer;display: block;width: 100%;margin-bottom: 0;padding: 0.3em;box-sizing: border-box;text-align: center;}#sk-85245f67-e3ec-48ac-8c50-b4e892ffe644 label.sk-toggleable__label-arrow:before {content: \"▸\";float: left;margin-right: 0.25em;color: #696969;}#sk-85245f67-e3ec-48ac-8c50-b4e892ffe644 label.sk-toggleable__label-arrow:hover:before {color: black;}#sk-85245f67-e3ec-48ac-8c50-b4e892ffe644 div.sk-estimator:hover label.sk-toggleable__label-arrow:before {color: black;}#sk-85245f67-e3ec-48ac-8c50-b4e892ffe644 div.sk-toggleable__content {max-height: 0;max-width: 0;overflow: hidden;text-align: left;background-color: #f0f8ff;}#sk-85245f67-e3ec-48ac-8c50-b4e892ffe644 div.sk-toggleable__content pre {margin: 0.2em;color: black;border-radius: 0.25em;background-color: #f0f8ff;}#sk-85245f67-e3ec-48ac-8c50-b4e892ffe644 input.sk-toggleable__control:checked~div.sk-toggleable__content {max-height: 200px;max-width: 100%;overflow: auto;}#sk-85245f67-e3ec-48ac-8c50-b4e892ffe644 input.sk-toggleable__control:checked~label.sk-toggleable__label-arrow:before {content: \"▾\";}#sk-85245f67-e3ec-48ac-8c50-b4e892ffe644 div.sk-estimator input.sk-toggleable__control:checked~label.sk-toggleable__label {background-color: #d4ebff;}#sk-85245f67-e3ec-48ac-8c50-b4e892ffe644 div.sk-label input.sk-toggleable__control:checked~label.sk-toggleable__label {background-color: #d4ebff;}#sk-85245f67-e3ec-48ac-8c50-b4e892ffe644 input.sk-hidden--visually {border: 0;clip: rect(1px 1px 1px 1px);clip: rect(1px, 1px, 1px, 1px);height: 1px;margin: -1px;overflow: hidden;padding: 0;position: absolute;width: 1px;}#sk-85245f67-e3ec-48ac-8c50-b4e892ffe644 div.sk-estimator {font-family: monospace;background-color: #f0f8ff;border: 1px dotted black;border-radius: 0.25em;box-sizing: border-box;margin-bottom: 0.5em;}#sk-85245f67-e3ec-48ac-8c50-b4e892ffe644 div.sk-estimator:hover {background-color: #d4ebff;}#sk-85245f67-e3ec-48ac-8c50-b4e892ffe644 div.sk-parallel-item::after {content: \"\";width: 100%;border-bottom: 1px solid gray;flex-grow: 1;}#sk-85245f67-e3ec-48ac-8c50-b4e892ffe644 div.sk-label:hover label.sk-toggleable__label {background-color: #d4ebff;}#sk-85245f67-e3ec-48ac-8c50-b4e892ffe644 div.sk-serial::before {content: \"\";position: absolute;border-left: 1px solid gray;box-sizing: border-box;top: 2em;bottom: 0;left: 50%;}#sk-85245f67-e3ec-48ac-8c50-b4e892ffe644 div.sk-serial {display: flex;flex-direction: column;align-items: center;background-color: white;padding-right: 0.2em;padding-left: 0.2em;}#sk-85245f67-e3ec-48ac-8c50-b4e892ffe644 div.sk-item {z-index: 1;}#sk-85245f67-e3ec-48ac-8c50-b4e892ffe644 div.sk-parallel {display: flex;align-items: stretch;justify-content: center;background-color: white;}#sk-85245f67-e3ec-48ac-8c50-b4e892ffe644 div.sk-parallel::before {content: \"\";position: absolute;border-left: 1px solid gray;box-sizing: border-box;top: 2em;bottom: 0;left: 50%;}#sk-85245f67-e3ec-48ac-8c50-b4e892ffe644 div.sk-parallel-item {display: flex;flex-direction: column;position: relative;background-color: white;}#sk-85245f67-e3ec-48ac-8c50-b4e892ffe644 div.sk-parallel-item:first-child::after {align-self: flex-end;width: 50%;}#sk-85245f67-e3ec-48ac-8c50-b4e892ffe644 div.sk-parallel-item:last-child::after {align-self: flex-start;width: 50%;}#sk-85245f67-e3ec-48ac-8c50-b4e892ffe644 div.sk-parallel-item:only-child::after {width: 0;}#sk-85245f67-e3ec-48ac-8c50-b4e892ffe644 div.sk-dashed-wrapped {border: 1px dashed gray;margin: 0 0.4em 0.5em 0.4em;box-sizing: border-box;padding-bottom: 0.4em;background-color: white;position: relative;}#sk-85245f67-e3ec-48ac-8c50-b4e892ffe644 div.sk-label label {font-family: monospace;font-weight: bold;background-color: white;display: inline-block;line-height: 1.2em;}#sk-85245f67-e3ec-48ac-8c50-b4e892ffe644 div.sk-label-container {position: relative;z-index: 2;text-align: center;}#sk-85245f67-e3ec-48ac-8c50-b4e892ffe644 div.sk-container {/* jupyter's `normalize.less` sets `[hidden] { display: none; }` but bootstrap.min.css set `[hidden] { display: none !important; }` so we also need the `!important` here to be able to override the default hidden behavior on the sphinx rendered scikit-learn.org. See: https://github.com/scikit-learn/scikit-learn/issues/21755 */display: inline-block !important;position: relative;}#sk-85245f67-e3ec-48ac-8c50-b4e892ffe644 div.sk-text-repr-fallback {display: none;}</style><div id=\"sk-85245f67-e3ec-48ac-8c50-b4e892ffe644\" class=\"sk-top-container\"><div class=\"sk-text-repr-fallback\"><pre>GridSearchCV(cv=5,\n",
       "             estimator=Pipeline(steps=[(&#x27;columntransformer&#x27;,\n",
       "                                        ColumnTransformer(transformers=[(&#x27;num&#x27;,\n",
       "                                                                         Pipeline(steps=[(&#x27;imputer&#x27;,\n",
       "                                                                                          SimpleImputer(strategy=&#x27;median&#x27;)),\n",
       "                                                                                         (&#x27;scaler&#x27;,\n",
       "                                                                                          StandardScaler())]),\n",
       "                                                                         [&#x27;NumberofBuildings&#x27;,\n",
       "                                                                          &#x27;NumberofFloors&#x27;,\n",
       "                                                                          &#x27;PropertyGFATotal&#x27;,\n",
       "                                                                          &#x27;PropertyGFAParking&#x27;,\n",
       "                                                                          &#x27;PropertyGFABuilding(s)&#x27;,\n",
       "                                                                          &#x27;LargestPropertyUseTypeGFA&#x27;,\n",
       "                                                                          &#x27;BuildingAge&#x27;,\n",
       "                                                                          &#x27;ENERGYSTARScore&#x27;]),\n",
       "                                                                        (&#x27;cat&#x27;,\n",
       "                                                                         OneHotEncoder(handle_unknown=&#x27;ignore&#x27;),\n",
       "                                                                         [&#x27;PrimaryPropertyType&#x27;,\n",
       "                                                                          &#x27;Neighborhood&#x27;,\n",
       "                                                                          &#x27;LargestPropertyUseType&#x27;,\n",
       "                                                                          &#x27;ComplianceStatus&#x27;])])),\n",
       "                                       (&#x27;elasticnet&#x27;, ElasticNet(tol=0.1))]),\n",
       "             param_grid={&#x27;elasticnet__alpha&#x27;: [0.01, 0.1, 1],\n",
       "                         &#x27;elasticnet__l1_ratio&#x27;: [1e-05, 0.0001, 0.001]})</pre><b>Please rerun this cell to show the HTML repr or trust the notebook.</b></div><div class=\"sk-container\" hidden><div class=\"sk-item sk-dashed-wrapped\"><div class=\"sk-label-container\"><div class=\"sk-label sk-toggleable\"><input class=\"sk-toggleable__control sk-hidden--visually\" id=\"eb750042-ee0b-402d-a3cb-112626f063ef\" type=\"checkbox\" ><label for=\"eb750042-ee0b-402d-a3cb-112626f063ef\" class=\"sk-toggleable__label sk-toggleable__label-arrow\">GridSearchCV</label><div class=\"sk-toggleable__content\"><pre>GridSearchCV(cv=5,\n",
       "             estimator=Pipeline(steps=[(&#x27;columntransformer&#x27;,\n",
       "                                        ColumnTransformer(transformers=[(&#x27;num&#x27;,\n",
       "                                                                         Pipeline(steps=[(&#x27;imputer&#x27;,\n",
       "                                                                                          SimpleImputer(strategy=&#x27;median&#x27;)),\n",
       "                                                                                         (&#x27;scaler&#x27;,\n",
       "                                                                                          StandardScaler())]),\n",
       "                                                                         [&#x27;NumberofBuildings&#x27;,\n",
       "                                                                          &#x27;NumberofFloors&#x27;,\n",
       "                                                                          &#x27;PropertyGFATotal&#x27;,\n",
       "                                                                          &#x27;PropertyGFAParking&#x27;,\n",
       "                                                                          &#x27;PropertyGFABuilding(s)&#x27;,\n",
       "                                                                          &#x27;LargestPropertyUseTypeGFA&#x27;,\n",
       "                                                                          &#x27;BuildingAge&#x27;,\n",
       "                                                                          &#x27;ENERGYSTARScore&#x27;]),\n",
       "                                                                        (&#x27;cat&#x27;,\n",
       "                                                                         OneHotEncoder(handle_unknown=&#x27;ignore&#x27;),\n",
       "                                                                         [&#x27;PrimaryPropertyType&#x27;,\n",
       "                                                                          &#x27;Neighborhood&#x27;,\n",
       "                                                                          &#x27;LargestPropertyUseType&#x27;,\n",
       "                                                                          &#x27;ComplianceStatus&#x27;])])),\n",
       "                                       (&#x27;elasticnet&#x27;, ElasticNet(tol=0.1))]),\n",
       "             param_grid={&#x27;elasticnet__alpha&#x27;: [0.01, 0.1, 1],\n",
       "                         &#x27;elasticnet__l1_ratio&#x27;: [1e-05, 0.0001, 0.001]})</pre></div></div></div><div class=\"sk-parallel\"><div class=\"sk-parallel-item\"><div class=\"sk-item\"><div class=\"sk-serial\"><div class=\"sk-item\"><div class=\"sk-serial\"><div class=\"sk-item sk-dashed-wrapped\"><div class=\"sk-label-container\"><div class=\"sk-label sk-toggleable\"><input class=\"sk-toggleable__control sk-hidden--visually\" id=\"0ae62532-3ae7-4b27-a639-c8e738b48d21\" type=\"checkbox\" ><label for=\"0ae62532-3ae7-4b27-a639-c8e738b48d21\" class=\"sk-toggleable__label sk-toggleable__label-arrow\">columntransformer: ColumnTransformer</label><div class=\"sk-toggleable__content\"><pre>ColumnTransformer(transformers=[(&#x27;num&#x27;,\n",
       "                                 Pipeline(steps=[(&#x27;imputer&#x27;,\n",
       "                                                  SimpleImputer(strategy=&#x27;median&#x27;)),\n",
       "                                                 (&#x27;scaler&#x27;, StandardScaler())]),\n",
       "                                 [&#x27;NumberofBuildings&#x27;, &#x27;NumberofFloors&#x27;,\n",
       "                                  &#x27;PropertyGFATotal&#x27;, &#x27;PropertyGFAParking&#x27;,\n",
       "                                  &#x27;PropertyGFABuilding(s)&#x27;,\n",
       "                                  &#x27;LargestPropertyUseTypeGFA&#x27;, &#x27;BuildingAge&#x27;,\n",
       "                                  &#x27;ENERGYSTARScore&#x27;]),\n",
       "                                (&#x27;cat&#x27;, OneHotEncoder(handle_unknown=&#x27;ignore&#x27;),\n",
       "                                 [&#x27;PrimaryPropertyType&#x27;, &#x27;Neighborhood&#x27;,\n",
       "                                  &#x27;LargestPropertyUseType&#x27;,\n",
       "                                  &#x27;ComplianceStatus&#x27;])])</pre></div></div></div><div class=\"sk-parallel\"><div class=\"sk-parallel-item\"><div class=\"sk-item\"><div class=\"sk-label-container\"><div class=\"sk-label sk-toggleable\"><input class=\"sk-toggleable__control sk-hidden--visually\" id=\"30b11b90-36b6-4f26-ac7c-bafb716f8597\" type=\"checkbox\" ><label for=\"30b11b90-36b6-4f26-ac7c-bafb716f8597\" class=\"sk-toggleable__label sk-toggleable__label-arrow\">num</label><div class=\"sk-toggleable__content\"><pre>[&#x27;NumberofBuildings&#x27;, &#x27;NumberofFloors&#x27;, &#x27;PropertyGFATotal&#x27;, &#x27;PropertyGFAParking&#x27;, &#x27;PropertyGFABuilding(s)&#x27;, &#x27;LargestPropertyUseTypeGFA&#x27;, &#x27;BuildingAge&#x27;, &#x27;ENERGYSTARScore&#x27;]</pre></div></div></div><div class=\"sk-serial\"><div class=\"sk-item\"><div class=\"sk-serial\"><div class=\"sk-item\"><div class=\"sk-estimator sk-toggleable\"><input class=\"sk-toggleable__control sk-hidden--visually\" id=\"8d3048e2-f119-43dc-8afe-38336671e934\" type=\"checkbox\" ><label for=\"8d3048e2-f119-43dc-8afe-38336671e934\" class=\"sk-toggleable__label sk-toggleable__label-arrow\">SimpleImputer</label><div class=\"sk-toggleable__content\"><pre>SimpleImputer(strategy=&#x27;median&#x27;)</pre></div></div></div><div class=\"sk-item\"><div class=\"sk-estimator sk-toggleable\"><input class=\"sk-toggleable__control sk-hidden--visually\" id=\"7f52c3dd-dc3f-4e3e-b5d5-1f252d45f0eb\" type=\"checkbox\" ><label for=\"7f52c3dd-dc3f-4e3e-b5d5-1f252d45f0eb\" class=\"sk-toggleable__label sk-toggleable__label-arrow\">StandardScaler</label><div class=\"sk-toggleable__content\"><pre>StandardScaler()</pre></div></div></div></div></div></div></div></div><div class=\"sk-parallel-item\"><div class=\"sk-item\"><div class=\"sk-label-container\"><div class=\"sk-label sk-toggleable\"><input class=\"sk-toggleable__control sk-hidden--visually\" id=\"12893395-3992-4a04-b914-10ff6b74c8b4\" type=\"checkbox\" ><label for=\"12893395-3992-4a04-b914-10ff6b74c8b4\" class=\"sk-toggleable__label sk-toggleable__label-arrow\">cat</label><div class=\"sk-toggleable__content\"><pre>[&#x27;PrimaryPropertyType&#x27;, &#x27;Neighborhood&#x27;, &#x27;LargestPropertyUseType&#x27;, &#x27;ComplianceStatus&#x27;]</pre></div></div></div><div class=\"sk-serial\"><div class=\"sk-item\"><div class=\"sk-estimator sk-toggleable\"><input class=\"sk-toggleable__control sk-hidden--visually\" id=\"ab70844a-3ffe-4570-b4d7-b9676bef08f7\" type=\"checkbox\" ><label for=\"ab70844a-3ffe-4570-b4d7-b9676bef08f7\" class=\"sk-toggleable__label sk-toggleable__label-arrow\">OneHotEncoder</label><div class=\"sk-toggleable__content\"><pre>OneHotEncoder(handle_unknown=&#x27;ignore&#x27;)</pre></div></div></div></div></div></div></div></div><div class=\"sk-item\"><div class=\"sk-estimator sk-toggleable\"><input class=\"sk-toggleable__control sk-hidden--visually\" id=\"eed012d6-dee9-4c71-ac53-bf7d86ccbd09\" type=\"checkbox\" ><label for=\"eed012d6-dee9-4c71-ac53-bf7d86ccbd09\" class=\"sk-toggleable__label sk-toggleable__label-arrow\">ElasticNet</label><div class=\"sk-toggleable__content\"><pre>ElasticNet(tol=0.1)</pre></div></div></div></div></div></div></div></div></div></div></div></div>"
      ],
      "text/plain": [
       "GridSearchCV(cv=5,\n",
       "             estimator=Pipeline(steps=[('columntransformer',\n",
       "                                        ColumnTransformer(transformers=[('num',\n",
       "                                                                         Pipeline(steps=[('imputer',\n",
       "                                                                                          SimpleImputer(strategy='median')),\n",
       "                                                                                         ('scaler',\n",
       "                                                                                          StandardScaler())]),\n",
       "                                                                         ['NumberofBuildings',\n",
       "                                                                          'NumberofFloors',\n",
       "                                                                          'PropertyGFATotal',\n",
       "                                                                          'PropertyGFAParking',\n",
       "                                                                          'PropertyGFABuilding(s)',\n",
       "                                                                          'LargestPropertyUseTypeGFA',\n",
       "                                                                          'BuildingAge',\n",
       "                                                                          'ENERGYSTARScore']),\n",
       "                                                                        ('cat',\n",
       "                                                                         OneHotEncoder(handle_unknown='ignore'),\n",
       "                                                                         ['PrimaryPropertyType',\n",
       "                                                                          'Neighborhood',\n",
       "                                                                          'LargestPropertyUseType',\n",
       "                                                                          'ComplianceStatus'])])),\n",
       "                                       ('elasticnet', ElasticNet(tol=0.1))]),\n",
       "             param_grid={'elasticnet__alpha': [0.01, 0.1, 1],\n",
       "                         'elasticnet__l1_ratio': [1e-05, 0.0001, 0.001]})"
      ]
     },
     "execution_count": 132,
     "metadata": {},
     "output_type": "execute_result"
    }
   ],
   "source": [
    "# Optimisation des hyperparamètres avec: GridSearchCV()\n",
    "parameters = {'elasticnet__l1_ratio':[1e-5,1e-4,1e-3],'elasticnet__alpha':[1e-2,0.1,1]}\n",
    "#Grille de recherche:\n",
    "grid_elastic= GridSearchCV(pipe_elastic,parameters, cv=5)\n",
    "grid_elastic.fit(X_train,y_train)"
   ]
  },
  {
   "cell_type": "code",
   "execution_count": 133,
   "metadata": {},
   "outputs": [
    {
     "data": {
      "text/plain": [
       "0.2514987200732304"
      ]
     },
     "execution_count": 133,
     "metadata": {},
     "output_type": "execute_result"
    }
   ],
   "source": [
    "model_elastic= grid_elastic.best_estimator_\n",
    "model_elastic.score(X_test,y_test)"
   ]
  },
  {
   "cell_type": "code",
   "execution_count": 134,
   "metadata": {},
   "outputs": [
    {
     "data": {
      "text/plain": [
       "[52.87417589137211,\n",
       " 2795.6784761917556,\n",
       " 37.54609099770716,\n",
       " 26.907670075007868,\n",
       " 0.2514987200732304]"
      ]
     },
     "execution_count": 134,
     "metadata": {},
     "output_type": "execute_result"
    }
   ],
   "source": [
    "pred_elastic= model_elastic.predict(X_test)\n",
    "# Evaluation des métriques:\n",
    "compute_scores(y_test, pred_elastic)"
   ]
  },
  {
   "cell_type": "markdown",
   "metadata": {},
   "source": [
    "#### Application du modèle Forests of randomized trees"
   ]
  },
  {
   "cell_type": "code",
   "execution_count": 135,
   "metadata": {},
   "outputs": [],
   "source": [
    "randomforest= RandomForestRegressor()\n",
    "# On crée le modèle à l'aide de pipeline\n",
    "pipe_randomforest= make_pipeline(column_trans, randomforest)"
   ]
  },
  {
   "cell_type": "code",
   "execution_count": 136,
   "metadata": {},
   "outputs": [
    {
     "data": {
      "text/html": [
       "<style>#sk-0b907add-bfc5-49e3-9e55-12c11487c5e5 {color: black;background-color: white;}#sk-0b907add-bfc5-49e3-9e55-12c11487c5e5 pre{padding: 0;}#sk-0b907add-bfc5-49e3-9e55-12c11487c5e5 div.sk-toggleable {background-color: white;}#sk-0b907add-bfc5-49e3-9e55-12c11487c5e5 label.sk-toggleable__label {cursor: pointer;display: block;width: 100%;margin-bottom: 0;padding: 0.3em;box-sizing: border-box;text-align: center;}#sk-0b907add-bfc5-49e3-9e55-12c11487c5e5 label.sk-toggleable__label-arrow:before {content: \"▸\";float: left;margin-right: 0.25em;color: #696969;}#sk-0b907add-bfc5-49e3-9e55-12c11487c5e5 label.sk-toggleable__label-arrow:hover:before {color: black;}#sk-0b907add-bfc5-49e3-9e55-12c11487c5e5 div.sk-estimator:hover label.sk-toggleable__label-arrow:before {color: black;}#sk-0b907add-bfc5-49e3-9e55-12c11487c5e5 div.sk-toggleable__content {max-height: 0;max-width: 0;overflow: hidden;text-align: left;background-color: #f0f8ff;}#sk-0b907add-bfc5-49e3-9e55-12c11487c5e5 div.sk-toggleable__content pre {margin: 0.2em;color: black;border-radius: 0.25em;background-color: #f0f8ff;}#sk-0b907add-bfc5-49e3-9e55-12c11487c5e5 input.sk-toggleable__control:checked~div.sk-toggleable__content {max-height: 200px;max-width: 100%;overflow: auto;}#sk-0b907add-bfc5-49e3-9e55-12c11487c5e5 input.sk-toggleable__control:checked~label.sk-toggleable__label-arrow:before {content: \"▾\";}#sk-0b907add-bfc5-49e3-9e55-12c11487c5e5 div.sk-estimator input.sk-toggleable__control:checked~label.sk-toggleable__label {background-color: #d4ebff;}#sk-0b907add-bfc5-49e3-9e55-12c11487c5e5 div.sk-label input.sk-toggleable__control:checked~label.sk-toggleable__label {background-color: #d4ebff;}#sk-0b907add-bfc5-49e3-9e55-12c11487c5e5 input.sk-hidden--visually {border: 0;clip: rect(1px 1px 1px 1px);clip: rect(1px, 1px, 1px, 1px);height: 1px;margin: -1px;overflow: hidden;padding: 0;position: absolute;width: 1px;}#sk-0b907add-bfc5-49e3-9e55-12c11487c5e5 div.sk-estimator {font-family: monospace;background-color: #f0f8ff;border: 1px dotted black;border-radius: 0.25em;box-sizing: border-box;margin-bottom: 0.5em;}#sk-0b907add-bfc5-49e3-9e55-12c11487c5e5 div.sk-estimator:hover {background-color: #d4ebff;}#sk-0b907add-bfc5-49e3-9e55-12c11487c5e5 div.sk-parallel-item::after {content: \"\";width: 100%;border-bottom: 1px solid gray;flex-grow: 1;}#sk-0b907add-bfc5-49e3-9e55-12c11487c5e5 div.sk-label:hover label.sk-toggleable__label {background-color: #d4ebff;}#sk-0b907add-bfc5-49e3-9e55-12c11487c5e5 div.sk-serial::before {content: \"\";position: absolute;border-left: 1px solid gray;box-sizing: border-box;top: 2em;bottom: 0;left: 50%;}#sk-0b907add-bfc5-49e3-9e55-12c11487c5e5 div.sk-serial {display: flex;flex-direction: column;align-items: center;background-color: white;padding-right: 0.2em;padding-left: 0.2em;}#sk-0b907add-bfc5-49e3-9e55-12c11487c5e5 div.sk-item {z-index: 1;}#sk-0b907add-bfc5-49e3-9e55-12c11487c5e5 div.sk-parallel {display: flex;align-items: stretch;justify-content: center;background-color: white;}#sk-0b907add-bfc5-49e3-9e55-12c11487c5e5 div.sk-parallel::before {content: \"\";position: absolute;border-left: 1px solid gray;box-sizing: border-box;top: 2em;bottom: 0;left: 50%;}#sk-0b907add-bfc5-49e3-9e55-12c11487c5e5 div.sk-parallel-item {display: flex;flex-direction: column;position: relative;background-color: white;}#sk-0b907add-bfc5-49e3-9e55-12c11487c5e5 div.sk-parallel-item:first-child::after {align-self: flex-end;width: 50%;}#sk-0b907add-bfc5-49e3-9e55-12c11487c5e5 div.sk-parallel-item:last-child::after {align-self: flex-start;width: 50%;}#sk-0b907add-bfc5-49e3-9e55-12c11487c5e5 div.sk-parallel-item:only-child::after {width: 0;}#sk-0b907add-bfc5-49e3-9e55-12c11487c5e5 div.sk-dashed-wrapped {border: 1px dashed gray;margin: 0 0.4em 0.5em 0.4em;box-sizing: border-box;padding-bottom: 0.4em;background-color: white;position: relative;}#sk-0b907add-bfc5-49e3-9e55-12c11487c5e5 div.sk-label label {font-family: monospace;font-weight: bold;background-color: white;display: inline-block;line-height: 1.2em;}#sk-0b907add-bfc5-49e3-9e55-12c11487c5e5 div.sk-label-container {position: relative;z-index: 2;text-align: center;}#sk-0b907add-bfc5-49e3-9e55-12c11487c5e5 div.sk-container {/* jupyter's `normalize.less` sets `[hidden] { display: none; }` but bootstrap.min.css set `[hidden] { display: none !important; }` so we also need the `!important` here to be able to override the default hidden behavior on the sphinx rendered scikit-learn.org. See: https://github.com/scikit-learn/scikit-learn/issues/21755 */display: inline-block !important;position: relative;}#sk-0b907add-bfc5-49e3-9e55-12c11487c5e5 div.sk-text-repr-fallback {display: none;}</style><div id=\"sk-0b907add-bfc5-49e3-9e55-12c11487c5e5\" class=\"sk-top-container\"><div class=\"sk-text-repr-fallback\"><pre>GridSearchCV(cv=5,\n",
       "             estimator=Pipeline(steps=[(&#x27;columntransformer&#x27;,\n",
       "                                        ColumnTransformer(transformers=[(&#x27;num&#x27;,\n",
       "                                                                         Pipeline(steps=[(&#x27;imputer&#x27;,\n",
       "                                                                                          SimpleImputer(strategy=&#x27;median&#x27;)),\n",
       "                                                                                         (&#x27;scaler&#x27;,\n",
       "                                                                                          StandardScaler())]),\n",
       "                                                                         [&#x27;NumberofBuildings&#x27;,\n",
       "                                                                          &#x27;NumberofFloors&#x27;,\n",
       "                                                                          &#x27;PropertyGFATotal&#x27;,\n",
       "                                                                          &#x27;PropertyGFAParking&#x27;,\n",
       "                                                                          &#x27;PropertyGFABuilding(s)&#x27;,\n",
       "                                                                          &#x27;LargestPropertyUseTypeGFA&#x27;,\n",
       "                                                                          &#x27;BuildingAge&#x27;,\n",
       "                                                                          &#x27;ENERGYSTARScore&#x27;]),\n",
       "                                                                        (&#x27;cat&#x27;,\n",
       "                                                                         OneHotEncoder(handle_unknown=&#x27;ignore&#x27;),\n",
       "                                                                         [&#x27;PrimaryPropertyType&#x27;,\n",
       "                                                                          &#x27;Neighborhood&#x27;,\n",
       "                                                                          &#x27;LargestPropertyUseType&#x27;,\n",
       "                                                                          &#x27;ComplianceStatus&#x27;])])),\n",
       "                                       (&#x27;randomforestregressor&#x27;,\n",
       "                                        RandomForestRegressor())]),\n",
       "             param_grid={&#x27;randomforestregressor__n_estimators&#x27;: [100, 200,\n",
       "                                                                 300]})</pre><b>Please rerun this cell to show the HTML repr or trust the notebook.</b></div><div class=\"sk-container\" hidden><div class=\"sk-item sk-dashed-wrapped\"><div class=\"sk-label-container\"><div class=\"sk-label sk-toggleable\"><input class=\"sk-toggleable__control sk-hidden--visually\" id=\"f65ab4be-2687-4c71-90ba-77a7f022b19c\" type=\"checkbox\" ><label for=\"f65ab4be-2687-4c71-90ba-77a7f022b19c\" class=\"sk-toggleable__label sk-toggleable__label-arrow\">GridSearchCV</label><div class=\"sk-toggleable__content\"><pre>GridSearchCV(cv=5,\n",
       "             estimator=Pipeline(steps=[(&#x27;columntransformer&#x27;,\n",
       "                                        ColumnTransformer(transformers=[(&#x27;num&#x27;,\n",
       "                                                                         Pipeline(steps=[(&#x27;imputer&#x27;,\n",
       "                                                                                          SimpleImputer(strategy=&#x27;median&#x27;)),\n",
       "                                                                                         (&#x27;scaler&#x27;,\n",
       "                                                                                          StandardScaler())]),\n",
       "                                                                         [&#x27;NumberofBuildings&#x27;,\n",
       "                                                                          &#x27;NumberofFloors&#x27;,\n",
       "                                                                          &#x27;PropertyGFATotal&#x27;,\n",
       "                                                                          &#x27;PropertyGFAParking&#x27;,\n",
       "                                                                          &#x27;PropertyGFABuilding(s)&#x27;,\n",
       "                                                                          &#x27;LargestPropertyUseTypeGFA&#x27;,\n",
       "                                                                          &#x27;BuildingAge&#x27;,\n",
       "                                                                          &#x27;ENERGYSTARScore&#x27;]),\n",
       "                                                                        (&#x27;cat&#x27;,\n",
       "                                                                         OneHotEncoder(handle_unknown=&#x27;ignore&#x27;),\n",
       "                                                                         [&#x27;PrimaryPropertyType&#x27;,\n",
       "                                                                          &#x27;Neighborhood&#x27;,\n",
       "                                                                          &#x27;LargestPropertyUseType&#x27;,\n",
       "                                                                          &#x27;ComplianceStatus&#x27;])])),\n",
       "                                       (&#x27;randomforestregressor&#x27;,\n",
       "                                        RandomForestRegressor())]),\n",
       "             param_grid={&#x27;randomforestregressor__n_estimators&#x27;: [100, 200,\n",
       "                                                                 300]})</pre></div></div></div><div class=\"sk-parallel\"><div class=\"sk-parallel-item\"><div class=\"sk-item\"><div class=\"sk-serial\"><div class=\"sk-item\"><div class=\"sk-serial\"><div class=\"sk-item sk-dashed-wrapped\"><div class=\"sk-label-container\"><div class=\"sk-label sk-toggleable\"><input class=\"sk-toggleable__control sk-hidden--visually\" id=\"5e86e3e2-dd83-4a8e-8205-a7db64567206\" type=\"checkbox\" ><label for=\"5e86e3e2-dd83-4a8e-8205-a7db64567206\" class=\"sk-toggleable__label sk-toggleable__label-arrow\">columntransformer: ColumnTransformer</label><div class=\"sk-toggleable__content\"><pre>ColumnTransformer(transformers=[(&#x27;num&#x27;,\n",
       "                                 Pipeline(steps=[(&#x27;imputer&#x27;,\n",
       "                                                  SimpleImputer(strategy=&#x27;median&#x27;)),\n",
       "                                                 (&#x27;scaler&#x27;, StandardScaler())]),\n",
       "                                 [&#x27;NumberofBuildings&#x27;, &#x27;NumberofFloors&#x27;,\n",
       "                                  &#x27;PropertyGFATotal&#x27;, &#x27;PropertyGFAParking&#x27;,\n",
       "                                  &#x27;PropertyGFABuilding(s)&#x27;,\n",
       "                                  &#x27;LargestPropertyUseTypeGFA&#x27;, &#x27;BuildingAge&#x27;,\n",
       "                                  &#x27;ENERGYSTARScore&#x27;]),\n",
       "                                (&#x27;cat&#x27;, OneHotEncoder(handle_unknown=&#x27;ignore&#x27;),\n",
       "                                 [&#x27;PrimaryPropertyType&#x27;, &#x27;Neighborhood&#x27;,\n",
       "                                  &#x27;LargestPropertyUseType&#x27;,\n",
       "                                  &#x27;ComplianceStatus&#x27;])])</pre></div></div></div><div class=\"sk-parallel\"><div class=\"sk-parallel-item\"><div class=\"sk-item\"><div class=\"sk-label-container\"><div class=\"sk-label sk-toggleable\"><input class=\"sk-toggleable__control sk-hidden--visually\" id=\"504b3029-2021-463a-a3e3-47a5b505f844\" type=\"checkbox\" ><label for=\"504b3029-2021-463a-a3e3-47a5b505f844\" class=\"sk-toggleable__label sk-toggleable__label-arrow\">num</label><div class=\"sk-toggleable__content\"><pre>[&#x27;NumberofBuildings&#x27;, &#x27;NumberofFloors&#x27;, &#x27;PropertyGFATotal&#x27;, &#x27;PropertyGFAParking&#x27;, &#x27;PropertyGFABuilding(s)&#x27;, &#x27;LargestPropertyUseTypeGFA&#x27;, &#x27;BuildingAge&#x27;, &#x27;ENERGYSTARScore&#x27;]</pre></div></div></div><div class=\"sk-serial\"><div class=\"sk-item\"><div class=\"sk-serial\"><div class=\"sk-item\"><div class=\"sk-estimator sk-toggleable\"><input class=\"sk-toggleable__control sk-hidden--visually\" id=\"ef0b154b-33de-4ddc-b39e-d36f9ef7bfff\" type=\"checkbox\" ><label for=\"ef0b154b-33de-4ddc-b39e-d36f9ef7bfff\" class=\"sk-toggleable__label sk-toggleable__label-arrow\">SimpleImputer</label><div class=\"sk-toggleable__content\"><pre>SimpleImputer(strategy=&#x27;median&#x27;)</pre></div></div></div><div class=\"sk-item\"><div class=\"sk-estimator sk-toggleable\"><input class=\"sk-toggleable__control sk-hidden--visually\" id=\"2577de85-6415-4e0f-b7fb-089dd302c3c2\" type=\"checkbox\" ><label for=\"2577de85-6415-4e0f-b7fb-089dd302c3c2\" class=\"sk-toggleable__label sk-toggleable__label-arrow\">StandardScaler</label><div class=\"sk-toggleable__content\"><pre>StandardScaler()</pre></div></div></div></div></div></div></div></div><div class=\"sk-parallel-item\"><div class=\"sk-item\"><div class=\"sk-label-container\"><div class=\"sk-label sk-toggleable\"><input class=\"sk-toggleable__control sk-hidden--visually\" id=\"33c8e5fe-ccce-4f39-8ded-67cbf5436705\" type=\"checkbox\" ><label for=\"33c8e5fe-ccce-4f39-8ded-67cbf5436705\" class=\"sk-toggleable__label sk-toggleable__label-arrow\">cat</label><div class=\"sk-toggleable__content\"><pre>[&#x27;PrimaryPropertyType&#x27;, &#x27;Neighborhood&#x27;, &#x27;LargestPropertyUseType&#x27;, &#x27;ComplianceStatus&#x27;]</pre></div></div></div><div class=\"sk-serial\"><div class=\"sk-item\"><div class=\"sk-estimator sk-toggleable\"><input class=\"sk-toggleable__control sk-hidden--visually\" id=\"b70a4fb6-5ee7-4de5-b6ca-94d12372ce6d\" type=\"checkbox\" ><label for=\"b70a4fb6-5ee7-4de5-b6ca-94d12372ce6d\" class=\"sk-toggleable__label sk-toggleable__label-arrow\">OneHotEncoder</label><div class=\"sk-toggleable__content\"><pre>OneHotEncoder(handle_unknown=&#x27;ignore&#x27;)</pre></div></div></div></div></div></div></div></div><div class=\"sk-item\"><div class=\"sk-estimator sk-toggleable\"><input class=\"sk-toggleable__control sk-hidden--visually\" id=\"d5896bfa-ae69-4e26-b5ad-40a435f20d17\" type=\"checkbox\" ><label for=\"d5896bfa-ae69-4e26-b5ad-40a435f20d17\" class=\"sk-toggleable__label sk-toggleable__label-arrow\">RandomForestRegressor</label><div class=\"sk-toggleable__content\"><pre>RandomForestRegressor()</pre></div></div></div></div></div></div></div></div></div></div></div></div>"
      ],
      "text/plain": [
       "GridSearchCV(cv=5,\n",
       "             estimator=Pipeline(steps=[('columntransformer',\n",
       "                                        ColumnTransformer(transformers=[('num',\n",
       "                                                                         Pipeline(steps=[('imputer',\n",
       "                                                                                          SimpleImputer(strategy='median')),\n",
       "                                                                                         ('scaler',\n",
       "                                                                                          StandardScaler())]),\n",
       "                                                                         ['NumberofBuildings',\n",
       "                                                                          'NumberofFloors',\n",
       "                                                                          'PropertyGFATotal',\n",
       "                                                                          'PropertyGFAParking',\n",
       "                                                                          'PropertyGFABuilding(s)',\n",
       "                                                                          'LargestPropertyUseTypeGFA',\n",
       "                                                                          'BuildingAge',\n",
       "                                                                          'ENERGYSTARScore']),\n",
       "                                                                        ('cat',\n",
       "                                                                         OneHotEncoder(handle_unknown='ignore'),\n",
       "                                                                         ['PrimaryPropertyType',\n",
       "                                                                          'Neighborhood',\n",
       "                                                                          'LargestPropertyUseType',\n",
       "                                                                          'ComplianceStatus'])])),\n",
       "                                       ('randomforestregressor',\n",
       "                                        RandomForestRegressor())]),\n",
       "             param_grid={'randomforestregressor__n_estimators': [100, 200,\n",
       "                                                                 300]})"
      ]
     },
     "execution_count": 136,
     "metadata": {},
     "output_type": "execute_result"
    }
   ],
   "source": [
    "parameter= {'randomforestregressor__n_estimators': [100,200,300]}\n",
    "#Grille de recherche:\n",
    "grid_randomforest= GridSearchCV(pipe_randomforest, parameter, cv=5)\n",
    "grid_randomforest.fit(X_train,y_train)"
   ]
  },
  {
   "cell_type": "code",
   "execution_count": 137,
   "metadata": {},
   "outputs": [
    {
     "data": {
      "text/plain": [
       "0.335272160062003"
      ]
     },
     "execution_count": 137,
     "metadata": {},
     "output_type": "execute_result"
    }
   ],
   "source": [
    "model_randomforest= grid_randomforest.best_estimator_\n",
    "model_randomforest.score(X_test,y_test)"
   ]
  },
  {
   "cell_type": "code",
   "execution_count": 138,
   "metadata": {},
   "outputs": [
    {
     "data": {
      "text/plain": [
       "[49.82751996611562,\n",
       " 2482.7817459736502,\n",
       " 35.24315727124182,\n",
       " 24.081249999999965,\n",
       " 0.335272160062003]"
      ]
     },
     "execution_count": 138,
     "metadata": {},
     "output_type": "execute_result"
    }
   ],
   "source": [
    "pred_randomforest= model_randomforest.predict(X_test)\n",
    "# Evaluation des métriques:\n",
    "compute_scores(y_test, pred_randomforest)"
   ]
  },
  {
   "cell_type": "markdown",
   "metadata": {},
   "source": [
    "#### Application du modèle: Decision Tree Regression with AdaBoost"
   ]
  },
  {
   "cell_type": "code",
   "execution_count": 139,
   "metadata": {},
   "outputs": [],
   "source": [
    "adaboost= AdaBoostRegressor(DecisionTreeRegressor(max_depth=4), n_estimators=300)\n",
    "# On crée le modèle à l'aide de pipeline\n",
    "pipe_adaboost= make_pipeline(column_trans, adaboost)"
   ]
  },
  {
   "cell_type": "code",
   "execution_count": 140,
   "metadata": {},
   "outputs": [
    {
     "data": {
      "text/html": [
       "<style>#sk-9312b13c-26fe-4696-847d-b42a1c3721c0 {color: black;background-color: white;}#sk-9312b13c-26fe-4696-847d-b42a1c3721c0 pre{padding: 0;}#sk-9312b13c-26fe-4696-847d-b42a1c3721c0 div.sk-toggleable {background-color: white;}#sk-9312b13c-26fe-4696-847d-b42a1c3721c0 label.sk-toggleable__label {cursor: pointer;display: block;width: 100%;margin-bottom: 0;padding: 0.3em;box-sizing: border-box;text-align: center;}#sk-9312b13c-26fe-4696-847d-b42a1c3721c0 label.sk-toggleable__label-arrow:before {content: \"▸\";float: left;margin-right: 0.25em;color: #696969;}#sk-9312b13c-26fe-4696-847d-b42a1c3721c0 label.sk-toggleable__label-arrow:hover:before {color: black;}#sk-9312b13c-26fe-4696-847d-b42a1c3721c0 div.sk-estimator:hover label.sk-toggleable__label-arrow:before {color: black;}#sk-9312b13c-26fe-4696-847d-b42a1c3721c0 div.sk-toggleable__content {max-height: 0;max-width: 0;overflow: hidden;text-align: left;background-color: #f0f8ff;}#sk-9312b13c-26fe-4696-847d-b42a1c3721c0 div.sk-toggleable__content pre {margin: 0.2em;color: black;border-radius: 0.25em;background-color: #f0f8ff;}#sk-9312b13c-26fe-4696-847d-b42a1c3721c0 input.sk-toggleable__control:checked~div.sk-toggleable__content {max-height: 200px;max-width: 100%;overflow: auto;}#sk-9312b13c-26fe-4696-847d-b42a1c3721c0 input.sk-toggleable__control:checked~label.sk-toggleable__label-arrow:before {content: \"▾\";}#sk-9312b13c-26fe-4696-847d-b42a1c3721c0 div.sk-estimator input.sk-toggleable__control:checked~label.sk-toggleable__label {background-color: #d4ebff;}#sk-9312b13c-26fe-4696-847d-b42a1c3721c0 div.sk-label input.sk-toggleable__control:checked~label.sk-toggleable__label {background-color: #d4ebff;}#sk-9312b13c-26fe-4696-847d-b42a1c3721c0 input.sk-hidden--visually {border: 0;clip: rect(1px 1px 1px 1px);clip: rect(1px, 1px, 1px, 1px);height: 1px;margin: -1px;overflow: hidden;padding: 0;position: absolute;width: 1px;}#sk-9312b13c-26fe-4696-847d-b42a1c3721c0 div.sk-estimator {font-family: monospace;background-color: #f0f8ff;border: 1px dotted black;border-radius: 0.25em;box-sizing: border-box;margin-bottom: 0.5em;}#sk-9312b13c-26fe-4696-847d-b42a1c3721c0 div.sk-estimator:hover {background-color: #d4ebff;}#sk-9312b13c-26fe-4696-847d-b42a1c3721c0 div.sk-parallel-item::after {content: \"\";width: 100%;border-bottom: 1px solid gray;flex-grow: 1;}#sk-9312b13c-26fe-4696-847d-b42a1c3721c0 div.sk-label:hover label.sk-toggleable__label {background-color: #d4ebff;}#sk-9312b13c-26fe-4696-847d-b42a1c3721c0 div.sk-serial::before {content: \"\";position: absolute;border-left: 1px solid gray;box-sizing: border-box;top: 2em;bottom: 0;left: 50%;}#sk-9312b13c-26fe-4696-847d-b42a1c3721c0 div.sk-serial {display: flex;flex-direction: column;align-items: center;background-color: white;padding-right: 0.2em;padding-left: 0.2em;}#sk-9312b13c-26fe-4696-847d-b42a1c3721c0 div.sk-item {z-index: 1;}#sk-9312b13c-26fe-4696-847d-b42a1c3721c0 div.sk-parallel {display: flex;align-items: stretch;justify-content: center;background-color: white;}#sk-9312b13c-26fe-4696-847d-b42a1c3721c0 div.sk-parallel::before {content: \"\";position: absolute;border-left: 1px solid gray;box-sizing: border-box;top: 2em;bottom: 0;left: 50%;}#sk-9312b13c-26fe-4696-847d-b42a1c3721c0 div.sk-parallel-item {display: flex;flex-direction: column;position: relative;background-color: white;}#sk-9312b13c-26fe-4696-847d-b42a1c3721c0 div.sk-parallel-item:first-child::after {align-self: flex-end;width: 50%;}#sk-9312b13c-26fe-4696-847d-b42a1c3721c0 div.sk-parallel-item:last-child::after {align-self: flex-start;width: 50%;}#sk-9312b13c-26fe-4696-847d-b42a1c3721c0 div.sk-parallel-item:only-child::after {width: 0;}#sk-9312b13c-26fe-4696-847d-b42a1c3721c0 div.sk-dashed-wrapped {border: 1px dashed gray;margin: 0 0.4em 0.5em 0.4em;box-sizing: border-box;padding-bottom: 0.4em;background-color: white;position: relative;}#sk-9312b13c-26fe-4696-847d-b42a1c3721c0 div.sk-label label {font-family: monospace;font-weight: bold;background-color: white;display: inline-block;line-height: 1.2em;}#sk-9312b13c-26fe-4696-847d-b42a1c3721c0 div.sk-label-container {position: relative;z-index: 2;text-align: center;}#sk-9312b13c-26fe-4696-847d-b42a1c3721c0 div.sk-container {/* jupyter's `normalize.less` sets `[hidden] { display: none; }` but bootstrap.min.css set `[hidden] { display: none !important; }` so we also need the `!important` here to be able to override the default hidden behavior on the sphinx rendered scikit-learn.org. See: https://github.com/scikit-learn/scikit-learn/issues/21755 */display: inline-block !important;position: relative;}#sk-9312b13c-26fe-4696-847d-b42a1c3721c0 div.sk-text-repr-fallback {display: none;}</style><div id=\"sk-9312b13c-26fe-4696-847d-b42a1c3721c0\" class=\"sk-top-container\"><div class=\"sk-text-repr-fallback\"><pre>GridSearchCV(cv=5,\n",
       "             estimator=Pipeline(steps=[(&#x27;columntransformer&#x27;,\n",
       "                                        ColumnTransformer(transformers=[(&#x27;num&#x27;,\n",
       "                                                                         Pipeline(steps=[(&#x27;imputer&#x27;,\n",
       "                                                                                          SimpleImputer(strategy=&#x27;median&#x27;)),\n",
       "                                                                                         (&#x27;scaler&#x27;,\n",
       "                                                                                          StandardScaler())]),\n",
       "                                                                         [&#x27;NumberofBuildings&#x27;,\n",
       "                                                                          &#x27;NumberofFloors&#x27;,\n",
       "                                                                          &#x27;PropertyGFATotal&#x27;,\n",
       "                                                                          &#x27;PropertyGFAParking&#x27;,\n",
       "                                                                          &#x27;PropertyGFABuilding(s)&#x27;,\n",
       "                                                                          &#x27;LargestPropertyUseTypeGFA&#x27;,\n",
       "                                                                          &#x27;BuildingAge&#x27;,\n",
       "                                                                          &#x27;ENERGYSTA...\n",
       "                                                                          &#x27;Neighborhood&#x27;,\n",
       "                                                                          &#x27;LargestPropertyUseType&#x27;,\n",
       "                                                                          &#x27;ComplianceStatus&#x27;])])),\n",
       "                                       (&#x27;adaboostregressor&#x27;,\n",
       "                                        AdaBoostRegressor(base_estimator=DecisionTreeRegressor(max_depth=4),\n",
       "                                                          n_estimators=300))]),\n",
       "             param_grid={&#x27;adaboostregressor__base_estimator__max_depth&#x27;: [4, 6,\n",
       "                                                                          8],\n",
       "                         &#x27;adaboostregressor__loss&#x27;: [&#x27;linear&#x27;, &#x27;square&#x27;,\n",
       "                                                     &#x27;exponential&#x27;],\n",
       "                         &#x27;adaboostregressor__n_estimators&#x27;: [300, 400, 500]})</pre><b>Please rerun this cell to show the HTML repr or trust the notebook.</b></div><div class=\"sk-container\" hidden><div class=\"sk-item sk-dashed-wrapped\"><div class=\"sk-label-container\"><div class=\"sk-label sk-toggleable\"><input class=\"sk-toggleable__control sk-hidden--visually\" id=\"c81a73db-3b02-40c3-a0a5-493ec8b2c69a\" type=\"checkbox\" ><label for=\"c81a73db-3b02-40c3-a0a5-493ec8b2c69a\" class=\"sk-toggleable__label sk-toggleable__label-arrow\">GridSearchCV</label><div class=\"sk-toggleable__content\"><pre>GridSearchCV(cv=5,\n",
       "             estimator=Pipeline(steps=[(&#x27;columntransformer&#x27;,\n",
       "                                        ColumnTransformer(transformers=[(&#x27;num&#x27;,\n",
       "                                                                         Pipeline(steps=[(&#x27;imputer&#x27;,\n",
       "                                                                                          SimpleImputer(strategy=&#x27;median&#x27;)),\n",
       "                                                                                         (&#x27;scaler&#x27;,\n",
       "                                                                                          StandardScaler())]),\n",
       "                                                                         [&#x27;NumberofBuildings&#x27;,\n",
       "                                                                          &#x27;NumberofFloors&#x27;,\n",
       "                                                                          &#x27;PropertyGFATotal&#x27;,\n",
       "                                                                          &#x27;PropertyGFAParking&#x27;,\n",
       "                                                                          &#x27;PropertyGFABuilding(s)&#x27;,\n",
       "                                                                          &#x27;LargestPropertyUseTypeGFA&#x27;,\n",
       "                                                                          &#x27;BuildingAge&#x27;,\n",
       "                                                                          &#x27;ENERGYSTA...\n",
       "                                                                          &#x27;Neighborhood&#x27;,\n",
       "                                                                          &#x27;LargestPropertyUseType&#x27;,\n",
       "                                                                          &#x27;ComplianceStatus&#x27;])])),\n",
       "                                       (&#x27;adaboostregressor&#x27;,\n",
       "                                        AdaBoostRegressor(base_estimator=DecisionTreeRegressor(max_depth=4),\n",
       "                                                          n_estimators=300))]),\n",
       "             param_grid={&#x27;adaboostregressor__base_estimator__max_depth&#x27;: [4, 6,\n",
       "                                                                          8],\n",
       "                         &#x27;adaboostregressor__loss&#x27;: [&#x27;linear&#x27;, &#x27;square&#x27;,\n",
       "                                                     &#x27;exponential&#x27;],\n",
       "                         &#x27;adaboostregressor__n_estimators&#x27;: [300, 400, 500]})</pre></div></div></div><div class=\"sk-parallel\"><div class=\"sk-parallel-item\"><div class=\"sk-item\"><div class=\"sk-serial\"><div class=\"sk-item\"><div class=\"sk-serial\"><div class=\"sk-item sk-dashed-wrapped\"><div class=\"sk-label-container\"><div class=\"sk-label sk-toggleable\"><input class=\"sk-toggleable__control sk-hidden--visually\" id=\"59cd7fbf-6bdc-4733-8cbe-7b656974fae4\" type=\"checkbox\" ><label for=\"59cd7fbf-6bdc-4733-8cbe-7b656974fae4\" class=\"sk-toggleable__label sk-toggleable__label-arrow\">columntransformer: ColumnTransformer</label><div class=\"sk-toggleable__content\"><pre>ColumnTransformer(transformers=[(&#x27;num&#x27;,\n",
       "                                 Pipeline(steps=[(&#x27;imputer&#x27;,\n",
       "                                                  SimpleImputer(strategy=&#x27;median&#x27;)),\n",
       "                                                 (&#x27;scaler&#x27;, StandardScaler())]),\n",
       "                                 [&#x27;NumberofBuildings&#x27;, &#x27;NumberofFloors&#x27;,\n",
       "                                  &#x27;PropertyGFATotal&#x27;, &#x27;PropertyGFAParking&#x27;,\n",
       "                                  &#x27;PropertyGFABuilding(s)&#x27;,\n",
       "                                  &#x27;LargestPropertyUseTypeGFA&#x27;, &#x27;BuildingAge&#x27;,\n",
       "                                  &#x27;ENERGYSTARScore&#x27;]),\n",
       "                                (&#x27;cat&#x27;, OneHotEncoder(handle_unknown=&#x27;ignore&#x27;),\n",
       "                                 [&#x27;PrimaryPropertyType&#x27;, &#x27;Neighborhood&#x27;,\n",
       "                                  &#x27;LargestPropertyUseType&#x27;,\n",
       "                                  &#x27;ComplianceStatus&#x27;])])</pre></div></div></div><div class=\"sk-parallel\"><div class=\"sk-parallel-item\"><div class=\"sk-item\"><div class=\"sk-label-container\"><div class=\"sk-label sk-toggleable\"><input class=\"sk-toggleable__control sk-hidden--visually\" id=\"afe990a0-967b-49a0-af7d-63c3699aa42d\" type=\"checkbox\" ><label for=\"afe990a0-967b-49a0-af7d-63c3699aa42d\" class=\"sk-toggleable__label sk-toggleable__label-arrow\">num</label><div class=\"sk-toggleable__content\"><pre>[&#x27;NumberofBuildings&#x27;, &#x27;NumberofFloors&#x27;, &#x27;PropertyGFATotal&#x27;, &#x27;PropertyGFAParking&#x27;, &#x27;PropertyGFABuilding(s)&#x27;, &#x27;LargestPropertyUseTypeGFA&#x27;, &#x27;BuildingAge&#x27;, &#x27;ENERGYSTARScore&#x27;]</pre></div></div></div><div class=\"sk-serial\"><div class=\"sk-item\"><div class=\"sk-serial\"><div class=\"sk-item\"><div class=\"sk-estimator sk-toggleable\"><input class=\"sk-toggleable__control sk-hidden--visually\" id=\"9a5b059d-ba27-4ac9-9978-baa1d4ad1479\" type=\"checkbox\" ><label for=\"9a5b059d-ba27-4ac9-9978-baa1d4ad1479\" class=\"sk-toggleable__label sk-toggleable__label-arrow\">SimpleImputer</label><div class=\"sk-toggleable__content\"><pre>SimpleImputer(strategy=&#x27;median&#x27;)</pre></div></div></div><div class=\"sk-item\"><div class=\"sk-estimator sk-toggleable\"><input class=\"sk-toggleable__control sk-hidden--visually\" id=\"16d2f5b4-ea05-4c95-a91a-9b7660c2d523\" type=\"checkbox\" ><label for=\"16d2f5b4-ea05-4c95-a91a-9b7660c2d523\" class=\"sk-toggleable__label sk-toggleable__label-arrow\">StandardScaler</label><div class=\"sk-toggleable__content\"><pre>StandardScaler()</pre></div></div></div></div></div></div></div></div><div class=\"sk-parallel-item\"><div class=\"sk-item\"><div class=\"sk-label-container\"><div class=\"sk-label sk-toggleable\"><input class=\"sk-toggleable__control sk-hidden--visually\" id=\"22c4271b-02a8-44c9-8788-4a696e78a3fb\" type=\"checkbox\" ><label for=\"22c4271b-02a8-44c9-8788-4a696e78a3fb\" class=\"sk-toggleable__label sk-toggleable__label-arrow\">cat</label><div class=\"sk-toggleable__content\"><pre>[&#x27;PrimaryPropertyType&#x27;, &#x27;Neighborhood&#x27;, &#x27;LargestPropertyUseType&#x27;, &#x27;ComplianceStatus&#x27;]</pre></div></div></div><div class=\"sk-serial\"><div class=\"sk-item\"><div class=\"sk-estimator sk-toggleable\"><input class=\"sk-toggleable__control sk-hidden--visually\" id=\"a8f7bf87-a363-4d9d-be56-0b611b53422f\" type=\"checkbox\" ><label for=\"a8f7bf87-a363-4d9d-be56-0b611b53422f\" class=\"sk-toggleable__label sk-toggleable__label-arrow\">OneHotEncoder</label><div class=\"sk-toggleable__content\"><pre>OneHotEncoder(handle_unknown=&#x27;ignore&#x27;)</pre></div></div></div></div></div></div></div></div><div class=\"sk-item sk-dashed-wrapped\"><div class=\"sk-label-container\"><div class=\"sk-label sk-toggleable\"><input class=\"sk-toggleable__control sk-hidden--visually\" id=\"c9ae5d4d-ff0e-43b9-af40-7e639ee2a007\" type=\"checkbox\" ><label for=\"c9ae5d4d-ff0e-43b9-af40-7e639ee2a007\" class=\"sk-toggleable__label sk-toggleable__label-arrow\">adaboostregressor: AdaBoostRegressor</label><div class=\"sk-toggleable__content\"><pre>AdaBoostRegressor(base_estimator=DecisionTreeRegressor(max_depth=4),\n",
       "                  n_estimators=300)</pre></div></div></div><div class=\"sk-parallel\"><div class=\"sk-parallel-item\"><div class=\"sk-item\"><div class=\"sk-serial\"><div class=\"sk-item\"><div class=\"sk-estimator sk-toggleable\"><input class=\"sk-toggleable__control sk-hidden--visually\" id=\"1e440d88-fd32-4b13-b488-026e6f9667df\" type=\"checkbox\" ><label for=\"1e440d88-fd32-4b13-b488-026e6f9667df\" class=\"sk-toggleable__label sk-toggleable__label-arrow\">DecisionTreeRegressor</label><div class=\"sk-toggleable__content\"><pre>DecisionTreeRegressor(max_depth=4)</pre></div></div></div></div></div></div></div></div></div></div></div></div></div></div></div></div></div>"
      ],
      "text/plain": [
       "GridSearchCV(cv=5,\n",
       "             estimator=Pipeline(steps=[('columntransformer',\n",
       "                                        ColumnTransformer(transformers=[('num',\n",
       "                                                                         Pipeline(steps=[('imputer',\n",
       "                                                                                          SimpleImputer(strategy='median')),\n",
       "                                                                                         ('scaler',\n",
       "                                                                                          StandardScaler())]),\n",
       "                                                                         ['NumberofBuildings',\n",
       "                                                                          'NumberofFloors',\n",
       "                                                                          'PropertyGFATotal',\n",
       "                                                                          'PropertyGFAParking',\n",
       "                                                                          'PropertyGFABuilding(s)',\n",
       "                                                                          'LargestPropertyUseTypeGFA',\n",
       "                                                                          'BuildingAge',\n",
       "                                                                          'ENERGYSTA...\n",
       "                                                                          'Neighborhood',\n",
       "                                                                          'LargestPropertyUseType',\n",
       "                                                                          'ComplianceStatus'])])),\n",
       "                                       ('adaboostregressor',\n",
       "                                        AdaBoostRegressor(base_estimator=DecisionTreeRegressor(max_depth=4),\n",
       "                                                          n_estimators=300))]),\n",
       "             param_grid={'adaboostregressor__base_estimator__max_depth': [4, 6,\n",
       "                                                                          8],\n",
       "                         'adaboostregressor__loss': ['linear', 'square',\n",
       "                                                     'exponential'],\n",
       "                         'adaboostregressor__n_estimators': [300, 400, 500]})"
      ]
     },
     "execution_count": 140,
     "metadata": {},
     "output_type": "execute_result"
    }
   ],
   "source": [
    "parameter= {'adaboostregressor__loss': ['linear', 'square', 'exponential'], \n",
    "           'adaboostregressor__base_estimator__max_depth':[4,6,8]\n",
    "           , 'adaboostregressor__n_estimators':[300,400,500]}\n",
    "#Grille de recherche:\n",
    "grid_adaboost= GridSearchCV(pipe_adaboost, parameter, cv=5)\n",
    "grid_adaboost.fit(X_train,y_train)"
   ]
  },
  {
   "cell_type": "code",
   "execution_count": 141,
   "metadata": {},
   "outputs": [
    {
     "data": {
      "text/plain": [
       "0.2647868670924759"
      ]
     },
     "execution_count": 141,
     "metadata": {},
     "output_type": "execute_result"
    }
   ],
   "source": [
    "model_adaboost= grid_adaboost.best_estimator_\n",
    "model_adaboost.score(X_test,y_test)"
   ]
  },
  {
   "cell_type": "code",
   "execution_count": 142,
   "metadata": {},
   "outputs": [
    {
     "data": {
      "text/plain": [
       "[52.40273639823683,\n",
       " 2746.046782023095,\n",
       " 41.915491222700346,\n",
       " 38.64461070978092,\n",
       " 0.2647868670924759]"
      ]
     },
     "execution_count": 142,
     "metadata": {},
     "output_type": "execute_result"
    }
   ],
   "source": [
    "pred_adaboost= model_adaboost.predict(X_test)\n",
    "# Evaluation des métriques:\n",
    "compute_scores(y_test, pred_adaboost)"
   ]
  },
  {
   "cell_type": "markdown",
   "metadata": {},
   "source": [
    "##### Synthèse métriques:"
   ]
  },
  {
   "cell_type": "code",
   "execution_count": 143,
   "metadata": {},
   "outputs": [],
   "source": [
    "lst=[compute_scores(y_test, pred_lr),compute_scores(y_test, pred_ridge),compute_scores(y_test, pred_svr),\n",
    "     compute_scores(y_test, pred_lasso),compute_scores(y_test, pred_elastic),compute_scores(y_test, pred_randomforest),\n",
    "    compute_scores(y_test, pred_adaboost)]\n",
    "                   \n",
    "df_metrics_2= pd.DataFrame(lst, index =['Linear regression','Ridge regression','SVR','Lasso','ElasticNet',\n",
    "                                                       'RandomForest', 'Adaboost']\n",
    "                            , columns =['RMSE', 'MSE', 'MAE', 'MEDIAN AE', 'R²'])"
   ]
  },
  {
   "cell_type": "code",
   "execution_count": 144,
   "metadata": {},
   "outputs": [
    {
     "data": {
      "text/html": [
       "<div>\n",
       "<style scoped>\n",
       "    .dataframe tbody tr th:only-of-type {\n",
       "        vertical-align: middle;\n",
       "    }\n",
       "\n",
       "    .dataframe tbody tr th {\n",
       "        vertical-align: top;\n",
       "    }\n",
       "\n",
       "    .dataframe thead th {\n",
       "        text-align: right;\n",
       "    }\n",
       "</style>\n",
       "<table border=\"1\" class=\"dataframe\">\n",
       "  <thead>\n",
       "    <tr style=\"text-align: right;\">\n",
       "      <th></th>\n",
       "      <th>RMSE</th>\n",
       "      <th>MSE</th>\n",
       "      <th>MAE</th>\n",
       "      <th>MEDIAN AE</th>\n",
       "      <th>R²</th>\n",
       "    </tr>\n",
       "  </thead>\n",
       "  <tbody>\n",
       "    <tr>\n",
       "      <th>Linear regression</th>\n",
       "      <td>51.046251</td>\n",
       "      <td>2605.719711</td>\n",
       "      <td>36.724347</td>\n",
       "      <td>25.526940</td>\n",
       "      <td>0.302357</td>\n",
       "    </tr>\n",
       "    <tr>\n",
       "      <th>Ridge regression</th>\n",
       "      <td>52.750456</td>\n",
       "      <td>2782.610650</td>\n",
       "      <td>37.534650</td>\n",
       "      <td>27.024094</td>\n",
       "      <td>0.254997</td>\n",
       "    </tr>\n",
       "    <tr>\n",
       "      <th>SVR</th>\n",
       "      <td>54.645783</td>\n",
       "      <td>2986.161601</td>\n",
       "      <td>34.850267</td>\n",
       "      <td>19.970408</td>\n",
       "      <td>0.200500</td>\n",
       "    </tr>\n",
       "    <tr>\n",
       "      <th>Lasso</th>\n",
       "      <td>61.235657</td>\n",
       "      <td>3749.805727</td>\n",
       "      <td>45.951200</td>\n",
       "      <td>38.433516</td>\n",
       "      <td>-0.003955</td>\n",
       "    </tr>\n",
       "    <tr>\n",
       "      <th>ElasticNet</th>\n",
       "      <td>52.874176</td>\n",
       "      <td>2795.678476</td>\n",
       "      <td>37.546091</td>\n",
       "      <td>26.907670</td>\n",
       "      <td>0.251499</td>\n",
       "    </tr>\n",
       "    <tr>\n",
       "      <th>RandomForest</th>\n",
       "      <td>49.827520</td>\n",
       "      <td>2482.781746</td>\n",
       "      <td>35.243157</td>\n",
       "      <td>24.081250</td>\n",
       "      <td>0.335272</td>\n",
       "    </tr>\n",
       "    <tr>\n",
       "      <th>Adaboost</th>\n",
       "      <td>52.402736</td>\n",
       "      <td>2746.046782</td>\n",
       "      <td>41.915491</td>\n",
       "      <td>38.644611</td>\n",
       "      <td>0.264787</td>\n",
       "    </tr>\n",
       "  </tbody>\n",
       "</table>\n",
       "</div>"
      ],
      "text/plain": [
       "                        RMSE          MSE        MAE  MEDIAN AE        R²\n",
       "Linear regression  51.046251  2605.719711  36.724347  25.526940  0.302357\n",
       "Ridge regression   52.750456  2782.610650  37.534650  27.024094  0.254997\n",
       "SVR                54.645783  2986.161601  34.850267  19.970408  0.200500\n",
       "Lasso              61.235657  3749.805727  45.951200  38.433516 -0.003955\n",
       "ElasticNet         52.874176  2795.678476  37.546091  26.907670  0.251499\n",
       "RandomForest       49.827520  2482.781746  35.243157  24.081250  0.335272\n",
       "Adaboost           52.402736  2746.046782  41.915491  38.644611  0.264787"
      ]
     },
     "execution_count": 144,
     "metadata": {},
     "output_type": "execute_result"
    }
   ],
   "source": [
    "df_metrics_2"
   ]
  },
  {
   "cell_type": "markdown",
   "metadata": {},
   "source": [
    "On fait une synthèse du score R² des différents modèles sur le Train Set."
   ]
  },
  {
   "cell_type": "code",
   "execution_count": 145,
   "metadata": {},
   "outputs": [],
   "source": [
    "r2_lr= grid_lr.best_score_\n",
    "r2_ridge= grid_ridge.best_score_\n",
    "r2_svr= grid_svr.best_score_\n",
    "r2_lasso= grid_lasso.best_score_\n",
    "r2_elastic= grid_elastic.best_score_\n",
    "r2_randomforest= grid_randomforest.best_score_\n",
    "r2_adaboost= grid_adaboost.best_score_\n",
    "\n",
    "lst= [r2_lr, r2_ridge, r2_svr, r2_lasso, r2_elastic,r2_randomforest,r2_adaboost]\n",
    "\n",
    "df_Xtrain_r2= pd.DataFrame(lst, index =['Linear regression','Ridge regression','SVR','Lasso','ElasticNet',\n",
    "                                                       'RandomForest', 'Adaboost'], columns =['R²'])"
   ]
  },
  {
   "cell_type": "code",
   "execution_count": 146,
   "metadata": {},
   "outputs": [
    {
     "data": {
      "text/html": [
       "<div>\n",
       "<style scoped>\n",
       "    .dataframe tbody tr th:only-of-type {\n",
       "        vertical-align: middle;\n",
       "    }\n",
       "\n",
       "    .dataframe tbody tr th {\n",
       "        vertical-align: top;\n",
       "    }\n",
       "\n",
       "    .dataframe thead th {\n",
       "        text-align: right;\n",
       "    }\n",
       "</style>\n",
       "<table border=\"1\" class=\"dataframe\">\n",
       "  <thead>\n",
       "    <tr style=\"text-align: right;\">\n",
       "      <th></th>\n",
       "      <th>R²</th>\n",
       "    </tr>\n",
       "  </thead>\n",
       "  <tbody>\n",
       "    <tr>\n",
       "      <th>Linear regression</th>\n",
       "      <td>0.080241</td>\n",
       "    </tr>\n",
       "    <tr>\n",
       "      <th>Ridge regression</th>\n",
       "      <td>0.099933</td>\n",
       "    </tr>\n",
       "    <tr>\n",
       "      <th>SVR</th>\n",
       "      <td>0.033880</td>\n",
       "    </tr>\n",
       "    <tr>\n",
       "      <th>Lasso</th>\n",
       "      <td>-0.005012</td>\n",
       "    </tr>\n",
       "    <tr>\n",
       "      <th>ElasticNet</th>\n",
       "      <td>0.099140</td>\n",
       "    </tr>\n",
       "    <tr>\n",
       "      <th>RandomForest</th>\n",
       "      <td>0.317429</td>\n",
       "    </tr>\n",
       "    <tr>\n",
       "      <th>Adaboost</th>\n",
       "      <td>0.276759</td>\n",
       "    </tr>\n",
       "  </tbody>\n",
       "</table>\n",
       "</div>"
      ],
      "text/plain": [
       "                         R²\n",
       "Linear regression  0.080241\n",
       "Ridge regression   0.099933\n",
       "SVR                0.033880\n",
       "Lasso             -0.005012\n",
       "ElasticNet         0.099140\n",
       "RandomForest       0.317429\n",
       "Adaboost           0.276759"
      ]
     },
     "execution_count": 146,
     "metadata": {},
     "output_type": "execute_result"
    }
   ],
   "source": [
    "df_Xtrain_r2"
   ]
  },
  {
   "cell_type": "markdown",
   "metadata": {},
   "source": [
    "Les 2 modèles: Decision Tree Regression with AdaBoost & Forests of randomized trees donnent les meilleurs scores de prédiction."
   ]
  }
 ],
 "metadata": {
  "kernelspec": {
   "display_name": "Python 3",
   "language": "python",
   "name": "python3"
  },
  "language_info": {
   "codemirror_mode": {
    "name": "ipython",
    "version": 3
   },
   "file_extension": ".py",
   "mimetype": "text/x-python",
   "name": "python",
   "nbconvert_exporter": "python",
   "pygments_lexer": "ipython3",
   "version": "3.7.6"
  }
 },
 "nbformat": 4,
 "nbformat_minor": 4
}
