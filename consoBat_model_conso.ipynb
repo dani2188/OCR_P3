{
 "cells": [
  {
   "cell_type": "code",
   "execution_count": 1,
   "metadata": {},
   "outputs": [],
   "source": [
    "# Importation des bibliothèques nécessaires\n",
    "import pandas as pd\n",
    "import numpy as np\n",
    "import matplotlib.pyplot as plt\n",
    "import seaborn as sns"
   ]
  },
  {
   "cell_type": "code",
   "execution_count": 2,
   "metadata": {},
   "outputs": [],
   "source": [
    "## On charge notre dataframe nettoyé:\n",
    "df= pd.read_csv('consoBat_df9.csv')"
   ]
  },
  {
   "cell_type": "code",
   "execution_count": 3,
   "metadata": {},
   "outputs": [
    {
     "data": {
      "text/html": [
       "<div>\n",
       "<style scoped>\n",
       "    .dataframe tbody tr th:only-of-type {\n",
       "        vertical-align: middle;\n",
       "    }\n",
       "\n",
       "    .dataframe tbody tr th {\n",
       "        vertical-align: top;\n",
       "    }\n",
       "\n",
       "    .dataframe thead th {\n",
       "        text-align: right;\n",
       "    }\n",
       "</style>\n",
       "<table border=\"1\" class=\"dataframe\">\n",
       "  <thead>\n",
       "    <tr style=\"text-align: right;\">\n",
       "      <th></th>\n",
       "      <th>OSEBuildingID</th>\n",
       "      <th>BuildingType</th>\n",
       "      <th>PrimaryPropertyType</th>\n",
       "      <th>PropertyName</th>\n",
       "      <th>Address</th>\n",
       "      <th>City</th>\n",
       "      <th>State</th>\n",
       "      <th>ZipCode</th>\n",
       "      <th>TaxParcelIdentificationNumber</th>\n",
       "      <th>CouncilDistrictCode</th>\n",
       "      <th>...</th>\n",
       "      <th>SourceEUIWN(kBtu/sf)</th>\n",
       "      <th>SiteEnergyUseWN(kBtu)</th>\n",
       "      <th>SteamUse(kBtu)</th>\n",
       "      <th>Electricity(kBtu)</th>\n",
       "      <th>NaturalGas(kBtu)</th>\n",
       "      <th>DefaultData</th>\n",
       "      <th>ComplianceStatus</th>\n",
       "      <th>TotalGHGEmissions</th>\n",
       "      <th>GHGEmissionsIntensity</th>\n",
       "      <th>BuildingAge</th>\n",
       "    </tr>\n",
       "  </thead>\n",
       "  <tbody>\n",
       "    <tr>\n",
       "      <th>0</th>\n",
       "      <td>1</td>\n",
       "      <td>NonResidential</td>\n",
       "      <td>Hotel</td>\n",
       "      <td>Mayflower park hotel</td>\n",
       "      <td>405 Olive way</td>\n",
       "      <td>Seattle</td>\n",
       "      <td>WA</td>\n",
       "      <td>98101.0</td>\n",
       "      <td>0659000030</td>\n",
       "      <td>7</td>\n",
       "      <td>...</td>\n",
       "      <td>189.000000</td>\n",
       "      <td>7456910.0</td>\n",
       "      <td>2003882.00</td>\n",
       "      <td>3946027.0</td>\n",
       "      <td>1276453.0</td>\n",
       "      <td>False</td>\n",
       "      <td>Compliant</td>\n",
       "      <td>249.98</td>\n",
       "      <td>2.83</td>\n",
       "      <td>89</td>\n",
       "    </tr>\n",
       "    <tr>\n",
       "      <th>1</th>\n",
       "      <td>2</td>\n",
       "      <td>NonResidential</td>\n",
       "      <td>Hotel</td>\n",
       "      <td>Paramount Hotel</td>\n",
       "      <td>724 Pine street</td>\n",
       "      <td>Seattle</td>\n",
       "      <td>WA</td>\n",
       "      <td>98101.0</td>\n",
       "      <td>0659000220</td>\n",
       "      <td>7</td>\n",
       "      <td>...</td>\n",
       "      <td>179.399994</td>\n",
       "      <td>8664479.0</td>\n",
       "      <td>0.00</td>\n",
       "      <td>3242851.0</td>\n",
       "      <td>5145082.0</td>\n",
       "      <td>False</td>\n",
       "      <td>Compliant</td>\n",
       "      <td>295.86</td>\n",
       "      <td>2.86</td>\n",
       "      <td>20</td>\n",
       "    </tr>\n",
       "    <tr>\n",
       "      <th>2</th>\n",
       "      <td>5</td>\n",
       "      <td>NonResidential</td>\n",
       "      <td>Hotel</td>\n",
       "      <td>HOTEL MAX</td>\n",
       "      <td>620 STEWART ST</td>\n",
       "      <td>Seattle</td>\n",
       "      <td>WA</td>\n",
       "      <td>98101.0</td>\n",
       "      <td>0659000640</td>\n",
       "      <td>7</td>\n",
       "      <td>...</td>\n",
       "      <td>224.000000</td>\n",
       "      <td>6946800.5</td>\n",
       "      <td>2214446.25</td>\n",
       "      <td>2768924.0</td>\n",
       "      <td>1811213.0</td>\n",
       "      <td>False</td>\n",
       "      <td>Compliant</td>\n",
       "      <td>286.43</td>\n",
       "      <td>4.67</td>\n",
       "      <td>90</td>\n",
       "    </tr>\n",
       "    <tr>\n",
       "      <th>3</th>\n",
       "      <td>10</td>\n",
       "      <td>NonResidential</td>\n",
       "      <td>Hotel</td>\n",
       "      <td>Camlin</td>\n",
       "      <td>1619 9th Avenue</td>\n",
       "      <td>Seattle</td>\n",
       "      <td>WA</td>\n",
       "      <td>98101.0</td>\n",
       "      <td>0660000825</td>\n",
       "      <td>7</td>\n",
       "      <td>...</td>\n",
       "      <td>154.699997</td>\n",
       "      <td>6062767.5</td>\n",
       "      <td>0.00</td>\n",
       "      <td>2811215.0</td>\n",
       "      <td>2947580.0</td>\n",
       "      <td>False</td>\n",
       "      <td>Compliant</td>\n",
       "      <td>176.14</td>\n",
       "      <td>2.12</td>\n",
       "      <td>90</td>\n",
       "    </tr>\n",
       "    <tr>\n",
       "      <th>4</th>\n",
       "      <td>11</td>\n",
       "      <td>NonResidential</td>\n",
       "      <td>Other</td>\n",
       "      <td>Paramount Theatre</td>\n",
       "      <td>911 Pine St</td>\n",
       "      <td>Seattle</td>\n",
       "      <td>WA</td>\n",
       "      <td>98101.0</td>\n",
       "      <td>0660000955</td>\n",
       "      <td>7</td>\n",
       "      <td>...</td>\n",
       "      <td>152.300003</td>\n",
       "      <td>7067881.5</td>\n",
       "      <td>2276286.50</td>\n",
       "      <td>3636655.0</td>\n",
       "      <td>385189.0</td>\n",
       "      <td>False</td>\n",
       "      <td>Compliant</td>\n",
       "      <td>221.51</td>\n",
       "      <td>2.16</td>\n",
       "      <td>90</td>\n",
       "    </tr>\n",
       "  </tbody>\n",
       "</table>\n",
       "<p>5 rows × 33 columns</p>\n",
       "</div>"
      ],
      "text/plain": [
       "   OSEBuildingID    BuildingType PrimaryPropertyType          PropertyName  \\\n",
       "0              1  NonResidential               Hotel  Mayflower park hotel   \n",
       "1              2  NonResidential               Hotel       Paramount Hotel   \n",
       "2              5  NonResidential               Hotel             HOTEL MAX   \n",
       "3             10  NonResidential               Hotel                Camlin   \n",
       "4             11  NonResidential               Other     Paramount Theatre   \n",
       "\n",
       "           Address     City State  ZipCode TaxParcelIdentificationNumber  \\\n",
       "0    405 Olive way  Seattle    WA  98101.0                    0659000030   \n",
       "1  724 Pine street  Seattle    WA  98101.0                    0659000220   \n",
       "2   620 STEWART ST  Seattle    WA  98101.0                    0659000640   \n",
       "3  1619 9th Avenue  Seattle    WA  98101.0                    0660000825   \n",
       "4      911 Pine St  Seattle    WA  98101.0                    0660000955   \n",
       "\n",
       "   CouncilDistrictCode  ... SourceEUIWN(kBtu/sf)  SiteEnergyUseWN(kBtu)  \\\n",
       "0                    7  ...           189.000000              7456910.0   \n",
       "1                    7  ...           179.399994              8664479.0   \n",
       "2                    7  ...           224.000000              6946800.5   \n",
       "3                    7  ...           154.699997              6062767.5   \n",
       "4                    7  ...           152.300003              7067881.5   \n",
       "\n",
       "   SteamUse(kBtu)  Electricity(kBtu)  NaturalGas(kBtu)  DefaultData  \\\n",
       "0      2003882.00          3946027.0         1276453.0        False   \n",
       "1            0.00          3242851.0         5145082.0        False   \n",
       "2      2214446.25          2768924.0         1811213.0        False   \n",
       "3            0.00          2811215.0         2947580.0        False   \n",
       "4      2276286.50          3636655.0          385189.0        False   \n",
       "\n",
       "   ComplianceStatus  TotalGHGEmissions GHGEmissionsIntensity BuildingAge  \n",
       "0         Compliant             249.98                  2.83          89  \n",
       "1         Compliant             295.86                  2.86          20  \n",
       "2         Compliant             286.43                  4.67          90  \n",
       "3         Compliant             176.14                  2.12          90  \n",
       "4         Compliant             221.51                  2.16          90  \n",
       "\n",
       "[5 rows x 33 columns]"
      ]
     },
     "execution_count": 3,
     "metadata": {},
     "output_type": "execute_result"
    }
   ],
   "source": [
    "df.head()"
   ]
  },
  {
   "cell_type": "code",
   "execution_count": 4,
   "metadata": {},
   "outputs": [
    {
     "name": "stdout",
     "output_type": "stream",
     "text": [
      "<class 'pandas.core.frame.DataFrame'>\n",
      "RangeIndex: 1367 entries, 0 to 1366\n",
      "Data columns (total 33 columns):\n",
      " #   Column                         Non-Null Count  Dtype  \n",
      "---  ------                         --------------  -----  \n",
      " 0   OSEBuildingID                  1367 non-null   int64  \n",
      " 1   BuildingType                   1367 non-null   object \n",
      " 2   PrimaryPropertyType            1367 non-null   object \n",
      " 3   PropertyName                   1367 non-null   object \n",
      " 4   Address                        1367 non-null   object \n",
      " 5   City                           1367 non-null   object \n",
      " 6   State                          1367 non-null   object \n",
      " 7   ZipCode                        1367 non-null   float64\n",
      " 8   TaxParcelIdentificationNumber  1367 non-null   object \n",
      " 9   CouncilDistrictCode            1367 non-null   int64  \n",
      " 10  Neighborhood                   1367 non-null   object \n",
      " 11  Latitude                       1367 non-null   float64\n",
      " 12  Longitude                      1367 non-null   float64\n",
      " 13  NumberofBuildings              1367 non-null   float64\n",
      " 14  NumberofFloors                 1367 non-null   int64  \n",
      " 15  PropertyGFATotal               1367 non-null   int64  \n",
      " 16  PropertyGFAParking             1367 non-null   int64  \n",
      " 17  PropertyGFABuilding(s)         1367 non-null   int64  \n",
      " 18  ListOfAllPropertyUseTypes      1367 non-null   object \n",
      " 19  LargestPropertyUseType         1367 non-null   object \n",
      " 20  LargestPropertyUseTypeGFA      1367 non-null   float64\n",
      " 21  ENERGYSTARScore                934 non-null    float64\n",
      " 22  SiteEUIWN(kBtu/sf)             1367 non-null   float64\n",
      " 23  SourceEUIWN(kBtu/sf)           1367 non-null   float64\n",
      " 24  SiteEnergyUseWN(kBtu)          1367 non-null   float64\n",
      " 25  SteamUse(kBtu)                 1367 non-null   float64\n",
      " 26  Electricity(kBtu)              1367 non-null   float64\n",
      " 27  NaturalGas(kBtu)               1367 non-null   float64\n",
      " 28  DefaultData                    1367 non-null   bool   \n",
      " 29  ComplianceStatus               1367 non-null   object \n",
      " 30  TotalGHGEmissions              1367 non-null   float64\n",
      " 31  GHGEmissionsIntensity          1367 non-null   float64\n",
      " 32  BuildingAge                    1367 non-null   int64  \n",
      "dtypes: bool(1), float64(14), int64(7), object(11)\n",
      "memory usage: 343.2+ KB\n"
     ]
    }
   ],
   "source": [
    "df.info()"
   ]
  },
  {
   "cell_type": "code",
   "execution_count": 5,
   "metadata": {},
   "outputs": [],
   "source": [
    "# On sépare les variables numériques des variables catégorielles:\n",
    "var_num= df.select_dtypes(include=['int64','float64'])\n",
    "var_categ= df.select_dtypes(exclude=['int64','float64','bool']) "
   ]
  },
  {
   "cell_type": "code",
   "execution_count": 6,
   "metadata": {},
   "outputs": [
    {
     "data": {
      "text/html": [
       "<div>\n",
       "<style scoped>\n",
       "    .dataframe tbody tr th:only-of-type {\n",
       "        vertical-align: middle;\n",
       "    }\n",
       "\n",
       "    .dataframe tbody tr th {\n",
       "        vertical-align: top;\n",
       "    }\n",
       "\n",
       "    .dataframe thead th {\n",
       "        text-align: right;\n",
       "    }\n",
       "</style>\n",
       "<table border=\"1\" class=\"dataframe\">\n",
       "  <thead>\n",
       "    <tr style=\"text-align: right;\">\n",
       "      <th></th>\n",
       "      <th>BuildingType</th>\n",
       "      <th>PrimaryPropertyType</th>\n",
       "      <th>PropertyName</th>\n",
       "      <th>Address</th>\n",
       "      <th>City</th>\n",
       "      <th>State</th>\n",
       "      <th>TaxParcelIdentificationNumber</th>\n",
       "      <th>Neighborhood</th>\n",
       "      <th>ListOfAllPropertyUseTypes</th>\n",
       "      <th>LargestPropertyUseType</th>\n",
       "      <th>ComplianceStatus</th>\n",
       "    </tr>\n",
       "  </thead>\n",
       "  <tbody>\n",
       "    <tr>\n",
       "      <th>0</th>\n",
       "      <td>NonResidential</td>\n",
       "      <td>Hotel</td>\n",
       "      <td>Mayflower park hotel</td>\n",
       "      <td>405 Olive way</td>\n",
       "      <td>Seattle</td>\n",
       "      <td>WA</td>\n",
       "      <td>0659000030</td>\n",
       "      <td>DOWNTOWN</td>\n",
       "      <td>Hotel</td>\n",
       "      <td>Hotel</td>\n",
       "      <td>Compliant</td>\n",
       "    </tr>\n",
       "    <tr>\n",
       "      <th>1</th>\n",
       "      <td>NonResidential</td>\n",
       "      <td>Hotel</td>\n",
       "      <td>Paramount Hotel</td>\n",
       "      <td>724 Pine street</td>\n",
       "      <td>Seattle</td>\n",
       "      <td>WA</td>\n",
       "      <td>0659000220</td>\n",
       "      <td>DOWNTOWN</td>\n",
       "      <td>Hotel, Parking, Restaurant</td>\n",
       "      <td>Hotel</td>\n",
       "      <td>Compliant</td>\n",
       "    </tr>\n",
       "    <tr>\n",
       "      <th>2</th>\n",
       "      <td>NonResidential</td>\n",
       "      <td>Hotel</td>\n",
       "      <td>HOTEL MAX</td>\n",
       "      <td>620 STEWART ST</td>\n",
       "      <td>Seattle</td>\n",
       "      <td>WA</td>\n",
       "      <td>0659000640</td>\n",
       "      <td>DOWNTOWN</td>\n",
       "      <td>Hotel</td>\n",
       "      <td>Hotel</td>\n",
       "      <td>Compliant</td>\n",
       "    </tr>\n",
       "    <tr>\n",
       "      <th>3</th>\n",
       "      <td>NonResidential</td>\n",
       "      <td>Hotel</td>\n",
       "      <td>Camlin</td>\n",
       "      <td>1619 9th Avenue</td>\n",
       "      <td>Seattle</td>\n",
       "      <td>WA</td>\n",
       "      <td>0660000825</td>\n",
       "      <td>DOWNTOWN</td>\n",
       "      <td>Hotel</td>\n",
       "      <td>Hotel</td>\n",
       "      <td>Compliant</td>\n",
       "    </tr>\n",
       "    <tr>\n",
       "      <th>4</th>\n",
       "      <td>NonResidential</td>\n",
       "      <td>Other</td>\n",
       "      <td>Paramount Theatre</td>\n",
       "      <td>911 Pine St</td>\n",
       "      <td>Seattle</td>\n",
       "      <td>WA</td>\n",
       "      <td>0660000955</td>\n",
       "      <td>DOWNTOWN</td>\n",
       "      <td>Other - Entertainment/Public Assembly</td>\n",
       "      <td>Other - Entertainment/Public Assembly</td>\n",
       "      <td>Compliant</td>\n",
       "    </tr>\n",
       "  </tbody>\n",
       "</table>\n",
       "</div>"
      ],
      "text/plain": [
       "     BuildingType PrimaryPropertyType          PropertyName          Address  \\\n",
       "0  NonResidential               Hotel  Mayflower park hotel    405 Olive way   \n",
       "1  NonResidential               Hotel       Paramount Hotel  724 Pine street   \n",
       "2  NonResidential               Hotel             HOTEL MAX   620 STEWART ST   \n",
       "3  NonResidential               Hotel                Camlin  1619 9th Avenue   \n",
       "4  NonResidential               Other     Paramount Theatre      911 Pine St   \n",
       "\n",
       "      City State TaxParcelIdentificationNumber Neighborhood  \\\n",
       "0  Seattle    WA                    0659000030     DOWNTOWN   \n",
       "1  Seattle    WA                    0659000220     DOWNTOWN   \n",
       "2  Seattle    WA                    0659000640     DOWNTOWN   \n",
       "3  Seattle    WA                    0660000825     DOWNTOWN   \n",
       "4  Seattle    WA                    0660000955     DOWNTOWN   \n",
       "\n",
       "               ListOfAllPropertyUseTypes  \\\n",
       "0                                  Hotel   \n",
       "1             Hotel, Parking, Restaurant   \n",
       "2                                  Hotel   \n",
       "3                                  Hotel   \n",
       "4  Other - Entertainment/Public Assembly   \n",
       "\n",
       "                  LargestPropertyUseType ComplianceStatus  \n",
       "0                                  Hotel        Compliant  \n",
       "1                                  Hotel        Compliant  \n",
       "2                                  Hotel        Compliant  \n",
       "3                                  Hotel        Compliant  \n",
       "4  Other - Entertainment/Public Assembly        Compliant  "
      ]
     },
     "execution_count": 6,
     "metadata": {},
     "output_type": "execute_result"
    }
   ],
   "source": [
    "var_categ.head()"
   ]
  },
  {
   "cell_type": "code",
   "execution_count": 7,
   "metadata": {},
   "outputs": [
    {
     "data": {
      "text/plain": [
       "BuildingType                        5\n",
       "PrimaryPropertyType                21\n",
       "PropertyName                     1365\n",
       "Address                          1353\n",
       "City                                1\n",
       "State                               1\n",
       "TaxParcelIdentificationNumber    1315\n",
       "Neighborhood                       18\n",
       "ListOfAllPropertyUseTypes         284\n",
       "LargestPropertyUseType             50\n",
       "ComplianceStatus                    4\n",
       "dtype: int64"
      ]
     },
     "execution_count": 7,
     "metadata": {},
     "output_type": "execute_result"
    }
   ],
   "source": [
    "var_categ.nunique()"
   ]
  },
  {
   "cell_type": "markdown",
   "metadata": {},
   "source": [
    "On écarte les variables catégorielles qui représentent des constantes:"
   ]
  },
  {
   "cell_type": "code",
   "execution_count": 8,
   "metadata": {},
   "outputs": [],
   "source": [
    "var_categ= var_categ.drop(['BuildingType','City','State'],axis=1)"
   ]
  },
  {
   "cell_type": "code",
   "execution_count": 9,
   "metadata": {},
   "outputs": [
    {
     "data": {
      "text/html": [
       "<div>\n",
       "<style scoped>\n",
       "    .dataframe tbody tr th:only-of-type {\n",
       "        vertical-align: middle;\n",
       "    }\n",
       "\n",
       "    .dataframe tbody tr th {\n",
       "        vertical-align: top;\n",
       "    }\n",
       "\n",
       "    .dataframe thead th {\n",
       "        text-align: right;\n",
       "    }\n",
       "</style>\n",
       "<table border=\"1\" class=\"dataframe\">\n",
       "  <thead>\n",
       "    <tr style=\"text-align: right;\">\n",
       "      <th></th>\n",
       "      <th>PrimaryPropertyType</th>\n",
       "      <th>PropertyName</th>\n",
       "      <th>Address</th>\n",
       "      <th>TaxParcelIdentificationNumber</th>\n",
       "      <th>Neighborhood</th>\n",
       "      <th>ListOfAllPropertyUseTypes</th>\n",
       "      <th>LargestPropertyUseType</th>\n",
       "      <th>ComplianceStatus</th>\n",
       "    </tr>\n",
       "  </thead>\n",
       "  <tbody>\n",
       "    <tr>\n",
       "      <th>0</th>\n",
       "      <td>Hotel</td>\n",
       "      <td>Mayflower park hotel</td>\n",
       "      <td>405 Olive way</td>\n",
       "      <td>0659000030</td>\n",
       "      <td>DOWNTOWN</td>\n",
       "      <td>Hotel</td>\n",
       "      <td>Hotel</td>\n",
       "      <td>Compliant</td>\n",
       "    </tr>\n",
       "    <tr>\n",
       "      <th>1</th>\n",
       "      <td>Hotel</td>\n",
       "      <td>Paramount Hotel</td>\n",
       "      <td>724 Pine street</td>\n",
       "      <td>0659000220</td>\n",
       "      <td>DOWNTOWN</td>\n",
       "      <td>Hotel, Parking, Restaurant</td>\n",
       "      <td>Hotel</td>\n",
       "      <td>Compliant</td>\n",
       "    </tr>\n",
       "    <tr>\n",
       "      <th>2</th>\n",
       "      <td>Hotel</td>\n",
       "      <td>HOTEL MAX</td>\n",
       "      <td>620 STEWART ST</td>\n",
       "      <td>0659000640</td>\n",
       "      <td>DOWNTOWN</td>\n",
       "      <td>Hotel</td>\n",
       "      <td>Hotel</td>\n",
       "      <td>Compliant</td>\n",
       "    </tr>\n",
       "    <tr>\n",
       "      <th>3</th>\n",
       "      <td>Hotel</td>\n",
       "      <td>Camlin</td>\n",
       "      <td>1619 9th Avenue</td>\n",
       "      <td>0660000825</td>\n",
       "      <td>DOWNTOWN</td>\n",
       "      <td>Hotel</td>\n",
       "      <td>Hotel</td>\n",
       "      <td>Compliant</td>\n",
       "    </tr>\n",
       "    <tr>\n",
       "      <th>4</th>\n",
       "      <td>Other</td>\n",
       "      <td>Paramount Theatre</td>\n",
       "      <td>911 Pine St</td>\n",
       "      <td>0660000955</td>\n",
       "      <td>DOWNTOWN</td>\n",
       "      <td>Other - Entertainment/Public Assembly</td>\n",
       "      <td>Other - Entertainment/Public Assembly</td>\n",
       "      <td>Compliant</td>\n",
       "    </tr>\n",
       "  </tbody>\n",
       "</table>\n",
       "</div>"
      ],
      "text/plain": [
       "  PrimaryPropertyType          PropertyName          Address  \\\n",
       "0               Hotel  Mayflower park hotel    405 Olive way   \n",
       "1               Hotel       Paramount Hotel  724 Pine street   \n",
       "2               Hotel             HOTEL MAX   620 STEWART ST   \n",
       "3               Hotel                Camlin  1619 9th Avenue   \n",
       "4               Other     Paramount Theatre      911 Pine St   \n",
       "\n",
       "  TaxParcelIdentificationNumber Neighborhood  \\\n",
       "0                    0659000030     DOWNTOWN   \n",
       "1                    0659000220     DOWNTOWN   \n",
       "2                    0659000640     DOWNTOWN   \n",
       "3                    0660000825     DOWNTOWN   \n",
       "4                    0660000955     DOWNTOWN   \n",
       "\n",
       "               ListOfAllPropertyUseTypes  \\\n",
       "0                                  Hotel   \n",
       "1             Hotel, Parking, Restaurant   \n",
       "2                                  Hotel   \n",
       "3                                  Hotel   \n",
       "4  Other - Entertainment/Public Assembly   \n",
       "\n",
       "                  LargestPropertyUseType ComplianceStatus  \n",
       "0                                  Hotel        Compliant  \n",
       "1                                  Hotel        Compliant  \n",
       "2                                  Hotel        Compliant  \n",
       "3                                  Hotel        Compliant  \n",
       "4  Other - Entertainment/Public Assembly        Compliant  "
      ]
     },
     "execution_count": 9,
     "metadata": {},
     "output_type": "execute_result"
    }
   ],
   "source": [
    "var_categ.head()"
   ]
  },
  {
   "cell_type": "code",
   "execution_count": 10,
   "metadata": {},
   "outputs": [],
   "source": [
    "#Sélection des variables catégorielles pertinentes pour notre modèle:\n",
    "var_categ= var_categ.drop(['PropertyName','Address','TaxParcelIdentificationNumber','ListOfAllPropertyUseTypes'],axis=1)"
   ]
  },
  {
   "cell_type": "code",
   "execution_count": 11,
   "metadata": {},
   "outputs": [
    {
     "data": {
      "text/plain": [
       "['PrimaryPropertyType',\n",
       " 'Neighborhood',\n",
       " 'LargestPropertyUseType',\n",
       " 'ComplianceStatus']"
      ]
     },
     "execution_count": 11,
     "metadata": {},
     "output_type": "execute_result"
    }
   ],
   "source": [
    "var_categ.columns.tolist()"
   ]
  },
  {
   "cell_type": "markdown",
   "metadata": {},
   "source": [
    "On s'intéresse maintenant aux variables numériques:"
   ]
  },
  {
   "cell_type": "code",
   "execution_count": 12,
   "metadata": {},
   "outputs": [
    {
     "data": {
      "text/plain": [
       "Index(['OSEBuildingID', 'ZipCode', 'CouncilDistrictCode', 'Latitude',\n",
       "       'Longitude', 'NumberofBuildings', 'NumberofFloors', 'PropertyGFATotal',\n",
       "       'PropertyGFAParking', 'PropertyGFABuilding(s)',\n",
       "       'LargestPropertyUseTypeGFA', 'ENERGYSTARScore', 'SiteEUIWN(kBtu/sf)',\n",
       "       'SourceEUIWN(kBtu/sf)', 'SiteEnergyUseWN(kBtu)', 'SteamUse(kBtu)',\n",
       "       'Electricity(kBtu)', 'NaturalGas(kBtu)', 'TotalGHGEmissions',\n",
       "       'GHGEmissionsIntensity', 'BuildingAge'],\n",
       "      dtype='object')"
      ]
     },
     "execution_count": 12,
     "metadata": {},
     "output_type": "execute_result"
    }
   ],
   "source": [
    "var_num.columns"
   ]
  },
  {
   "cell_type": "markdown",
   "metadata": {},
   "source": [
    "Identification des variables avec forte corrélation (> seuil de 0.7):"
   ]
  },
  {
   "cell_type": "markdown",
   "metadata": {},
   "source": [
    "Les variables contenant le mot clé GFA sont fortement corrélées (> seuil de 0.7) avec d'autres variables (voir partie EDA): \n",
    "\n",
    "(PropertyGFATotal), (PropertyGFABuilding(s)), (LargestPropertyUseTypeGFA)"
   ]
  },
  {
   "cell_type": "code",
   "execution_count": 13,
   "metadata": {},
   "outputs": [],
   "source": [
    "list_cor= ['PropertyGFATotal','PropertyGFABuilding(s)','LargestPropertyUseTypeGFA']"
   ]
  },
  {
   "cell_type": "code",
   "execution_count": 14,
   "metadata": {},
   "outputs": [],
   "source": [
    "var_num= var_num.drop(list_cor,axis=1)"
   ]
  },
  {
   "cell_type": "markdown",
   "metadata": {},
   "source": [
    "Dans cette partie de modélisation, on séléctionne les varaibles targets: (TotalGHGEmissions) et (SiteEnergyUseWN(kBtu) au lieu de (GHGEmissionsIntensity) et (SiteEUIWN(kBtu/sf)) qui prennent pas en compte la surface du site.  "
   ]
  },
  {
   "cell_type": "code",
   "execution_count": 15,
   "metadata": {},
   "outputs": [],
   "source": [
    "var_num= var_num.drop(['GHGEmissionsIntensity','SiteEUIWN(kBtu/sf)'],axis=1)"
   ]
  },
  {
   "cell_type": "markdown",
   "metadata": {},
   "source": [
    "On écarte les variables non pertinentes pour notre modèle:"
   ]
  },
  {
   "cell_type": "code",
   "execution_count": 16,
   "metadata": {},
   "outputs": [],
   "source": [
    "var_num= var_num.drop(['OSEBuildingID','ZipCode','CouncilDistrictCode','Latitude','Longitude'],axis=1)"
   ]
  },
  {
   "cell_type": "markdown",
   "metadata": {},
   "source": [
    "On écarte la variable (ENERGYSTARScore) avec taux de remplissage 66%. "
   ]
  },
  {
   "cell_type": "code",
   "execution_count": 17,
   "metadata": {},
   "outputs": [],
   "source": [
    "var_num= var_num.drop(['ENERGYSTARScore'],axis=1)"
   ]
  },
  {
   "cell_type": "code",
   "execution_count": 18,
   "metadata": {},
   "outputs": [
    {
     "data": {
      "text/plain": [
       "['NumberofBuildings',\n",
       " 'NumberofFloors',\n",
       " 'PropertyGFAParking',\n",
       " 'SourceEUIWN(kBtu/sf)',\n",
       " 'SiteEnergyUseWN(kBtu)',\n",
       " 'SteamUse(kBtu)',\n",
       " 'Electricity(kBtu)',\n",
       " 'NaturalGas(kBtu)',\n",
       " 'TotalGHGEmissions',\n",
       " 'BuildingAge']"
      ]
     },
     "execution_count": 18,
     "metadata": {},
     "output_type": "execute_result"
    }
   ],
   "source": [
    "var_num.columns.tolist()"
   ]
  },
  {
   "cell_type": "code",
   "execution_count": 19,
   "metadata": {},
   "outputs": [],
   "source": [
    "df_filter= pd.concat([var_categ, var_num], axis=1)"
   ]
  },
  {
   "cell_type": "code",
   "execution_count": 20,
   "metadata": {},
   "outputs": [
    {
     "data": {
      "text/html": [
       "<div>\n",
       "<style scoped>\n",
       "    .dataframe tbody tr th:only-of-type {\n",
       "        vertical-align: middle;\n",
       "    }\n",
       "\n",
       "    .dataframe tbody tr th {\n",
       "        vertical-align: top;\n",
       "    }\n",
       "\n",
       "    .dataframe thead th {\n",
       "        text-align: right;\n",
       "    }\n",
       "</style>\n",
       "<table border=\"1\" class=\"dataframe\">\n",
       "  <thead>\n",
       "    <tr style=\"text-align: right;\">\n",
       "      <th></th>\n",
       "      <th>PrimaryPropertyType</th>\n",
       "      <th>Neighborhood</th>\n",
       "      <th>LargestPropertyUseType</th>\n",
       "      <th>ComplianceStatus</th>\n",
       "      <th>NumberofBuildings</th>\n",
       "      <th>NumberofFloors</th>\n",
       "      <th>PropertyGFAParking</th>\n",
       "      <th>SourceEUIWN(kBtu/sf)</th>\n",
       "      <th>SiteEnergyUseWN(kBtu)</th>\n",
       "      <th>SteamUse(kBtu)</th>\n",
       "      <th>Electricity(kBtu)</th>\n",
       "      <th>NaturalGas(kBtu)</th>\n",
       "      <th>TotalGHGEmissions</th>\n",
       "      <th>BuildingAge</th>\n",
       "    </tr>\n",
       "  </thead>\n",
       "  <tbody>\n",
       "    <tr>\n",
       "      <th>0</th>\n",
       "      <td>Hotel</td>\n",
       "      <td>DOWNTOWN</td>\n",
       "      <td>Hotel</td>\n",
       "      <td>Compliant</td>\n",
       "      <td>1.0</td>\n",
       "      <td>12</td>\n",
       "      <td>0</td>\n",
       "      <td>189.000000</td>\n",
       "      <td>7456910.0</td>\n",
       "      <td>2003882.00</td>\n",
       "      <td>3946027.0</td>\n",
       "      <td>1276453.0</td>\n",
       "      <td>249.98</td>\n",
       "      <td>89</td>\n",
       "    </tr>\n",
       "    <tr>\n",
       "      <th>1</th>\n",
       "      <td>Hotel</td>\n",
       "      <td>DOWNTOWN</td>\n",
       "      <td>Hotel</td>\n",
       "      <td>Compliant</td>\n",
       "      <td>1.0</td>\n",
       "      <td>11</td>\n",
       "      <td>15064</td>\n",
       "      <td>179.399994</td>\n",
       "      <td>8664479.0</td>\n",
       "      <td>0.00</td>\n",
       "      <td>3242851.0</td>\n",
       "      <td>5145082.0</td>\n",
       "      <td>295.86</td>\n",
       "      <td>20</td>\n",
       "    </tr>\n",
       "    <tr>\n",
       "      <th>2</th>\n",
       "      <td>Hotel</td>\n",
       "      <td>DOWNTOWN</td>\n",
       "      <td>Hotel</td>\n",
       "      <td>Compliant</td>\n",
       "      <td>1.0</td>\n",
       "      <td>10</td>\n",
       "      <td>0</td>\n",
       "      <td>224.000000</td>\n",
       "      <td>6946800.5</td>\n",
       "      <td>2214446.25</td>\n",
       "      <td>2768924.0</td>\n",
       "      <td>1811213.0</td>\n",
       "      <td>286.43</td>\n",
       "      <td>90</td>\n",
       "    </tr>\n",
       "    <tr>\n",
       "      <th>3</th>\n",
       "      <td>Hotel</td>\n",
       "      <td>DOWNTOWN</td>\n",
       "      <td>Hotel</td>\n",
       "      <td>Compliant</td>\n",
       "      <td>1.0</td>\n",
       "      <td>11</td>\n",
       "      <td>0</td>\n",
       "      <td>154.699997</td>\n",
       "      <td>6062767.5</td>\n",
       "      <td>0.00</td>\n",
       "      <td>2811215.0</td>\n",
       "      <td>2947580.0</td>\n",
       "      <td>176.14</td>\n",
       "      <td>90</td>\n",
       "    </tr>\n",
       "    <tr>\n",
       "      <th>4</th>\n",
       "      <td>Other</td>\n",
       "      <td>DOWNTOWN</td>\n",
       "      <td>Other - Entertainment/Public Assembly</td>\n",
       "      <td>Compliant</td>\n",
       "      <td>1.0</td>\n",
       "      <td>8</td>\n",
       "      <td>0</td>\n",
       "      <td>152.300003</td>\n",
       "      <td>7067881.5</td>\n",
       "      <td>2276286.50</td>\n",
       "      <td>3636655.0</td>\n",
       "      <td>385189.0</td>\n",
       "      <td>221.51</td>\n",
       "      <td>90</td>\n",
       "    </tr>\n",
       "  </tbody>\n",
       "</table>\n",
       "</div>"
      ],
      "text/plain": [
       "  PrimaryPropertyType Neighborhood                 LargestPropertyUseType  \\\n",
       "0               Hotel     DOWNTOWN                                  Hotel   \n",
       "1               Hotel     DOWNTOWN                                  Hotel   \n",
       "2               Hotel     DOWNTOWN                                  Hotel   \n",
       "3               Hotel     DOWNTOWN                                  Hotel   \n",
       "4               Other     DOWNTOWN  Other - Entertainment/Public Assembly   \n",
       "\n",
       "  ComplianceStatus  NumberofBuildings  NumberofFloors  PropertyGFAParking  \\\n",
       "0        Compliant                1.0              12                   0   \n",
       "1        Compliant                1.0              11               15064   \n",
       "2        Compliant                1.0              10                   0   \n",
       "3        Compliant                1.0              11                   0   \n",
       "4        Compliant                1.0               8                   0   \n",
       "\n",
       "   SourceEUIWN(kBtu/sf)  SiteEnergyUseWN(kBtu)  SteamUse(kBtu)  \\\n",
       "0            189.000000              7456910.0      2003882.00   \n",
       "1            179.399994              8664479.0            0.00   \n",
       "2            224.000000              6946800.5      2214446.25   \n",
       "3            154.699997              6062767.5            0.00   \n",
       "4            152.300003              7067881.5      2276286.50   \n",
       "\n",
       "   Electricity(kBtu)  NaturalGas(kBtu)  TotalGHGEmissions  BuildingAge  \n",
       "0          3946027.0         1276453.0             249.98           89  \n",
       "1          3242851.0         5145082.0             295.86           20  \n",
       "2          2768924.0         1811213.0             286.43           90  \n",
       "3          2811215.0         2947580.0             176.14           90  \n",
       "4          3636655.0          385189.0             221.51           90  "
      ]
     },
     "execution_count": 20,
     "metadata": {},
     "output_type": "execute_result"
    }
   ],
   "source": [
    "df_filter.head()"
   ]
  },
  {
   "cell_type": "code",
   "execution_count": 21,
   "metadata": {},
   "outputs": [
    {
     "data": {
      "text/plain": [
       "array(['Hotel', 'Other', 'Mixed Use Property', 'K-12 School',\n",
       "       'Small- and Mid-Sized Office', 'Self-Storage Facility',\n",
       "       'Warehouse', 'Large Office', 'Retail Store', 'University',\n",
       "       'Residence Hall', 'Distribution Center', 'Senior Care Community',\n",
       "       'Worship Facility', 'Medical Office',\n",
       "       'Supermarket / Grocery Store', 'Refrigerated Warehouse',\n",
       "       'Low-Rise Multifamily', 'Restaurant', 'Laboratory', 'Hospital'],\n",
       "      dtype=object)"
      ]
     },
     "execution_count": 21,
     "metadata": {},
     "output_type": "execute_result"
    }
   ],
   "source": [
    "df_filter.PrimaryPropertyType.unique()"
   ]
  },
  {
   "cell_type": "markdown",
   "metadata": {},
   "source": [
    "On prépare le feature (PrimaryPropertyType) pour l'encodage OneHotEncoder:"
   ]
  },
  {
   "cell_type": "code",
   "execution_count": 22,
   "metadata": {},
   "outputs": [],
   "source": [
    "def PropertyType_preprocessing(text):\n",
    "    \"\"\"\n",
    "    Function to Preprocess the features PrimaryPropertyType .\n",
    "    \"\"\"\n",
    "    text = text.replace(\"/\", \"\")    # Remove slash\n",
    "    text = text.replace(\"-\", \"\")    # Remove dash\n",
    "    text = text.replace(\" \", \"\")    # Remove whitespaces\n",
    "    text = text.replace(\"12\", \"Twelve\")\n",
    "    return text\n",
    "\n",
    "df_filter['PrimaryPropertyType'] = df_filter['PrimaryPropertyType'].apply(lambda x: PropertyType_preprocessing(x))"
   ]
  },
  {
   "cell_type": "code",
   "execution_count": 23,
   "metadata": {},
   "outputs": [
    {
     "data": {
      "text/plain": [
       "array(['Hotel', 'Other', 'MixedUseProperty', 'KTwelveSchool',\n",
       "       'SmallandMidSizedOffice', 'SelfStorageFacility', 'Warehouse',\n",
       "       'LargeOffice', 'RetailStore', 'University', 'ResidenceHall',\n",
       "       'DistributionCenter', 'SeniorCareCommunity', 'WorshipFacility',\n",
       "       'MedicalOffice', 'SupermarketGroceryStore',\n",
       "       'RefrigeratedWarehouse', 'LowRiseMultifamily', 'Restaurant',\n",
       "       'Laboratory', 'Hospital'], dtype=object)"
      ]
     },
     "execution_count": 23,
     "metadata": {},
     "output_type": "execute_result"
    }
   ],
   "source": [
    "df_filter.PrimaryPropertyType.unique()"
   ]
  },
  {
   "cell_type": "code",
   "execution_count": 24,
   "metadata": {},
   "outputs": [
    {
     "name": "stdout",
     "output_type": "stream",
     "text": [
      "<class 'pandas.core.frame.DataFrame'>\n",
      "RangeIndex: 1367 entries, 0 to 1366\n",
      "Data columns (total 14 columns):\n",
      " #   Column                  Non-Null Count  Dtype  \n",
      "---  ------                  --------------  -----  \n",
      " 0   PrimaryPropertyType     1367 non-null   object \n",
      " 1   Neighborhood            1367 non-null   object \n",
      " 2   LargestPropertyUseType  1367 non-null   object \n",
      " 3   ComplianceStatus        1367 non-null   object \n",
      " 4   NumberofBuildings       1367 non-null   float64\n",
      " 5   NumberofFloors          1367 non-null   int64  \n",
      " 6   PropertyGFAParking      1367 non-null   int64  \n",
      " 7   SourceEUIWN(kBtu/sf)    1367 non-null   float64\n",
      " 8   SiteEnergyUseWN(kBtu)   1367 non-null   float64\n",
      " 9   SteamUse(kBtu)          1367 non-null   float64\n",
      " 10  Electricity(kBtu)       1367 non-null   float64\n",
      " 11  NaturalGas(kBtu)        1367 non-null   float64\n",
      " 12  TotalGHGEmissions       1367 non-null   float64\n",
      " 13  BuildingAge             1367 non-null   int64  \n",
      "dtypes: float64(7), int64(3), object(4)\n",
      "memory usage: 149.6+ KB\n"
     ]
    }
   ],
   "source": [
    "df_filter.info()"
   ]
  },
  {
   "cell_type": "markdown",
   "metadata": {},
   "source": [
    "##### Préparation du preprocessor:"
   ]
  },
  {
   "cell_type": "code",
   "execution_count": 25,
   "metadata": {},
   "outputs": [],
   "source": [
    "# Importation des bibliothèques nécessaires:\n",
    "from sklearn.preprocessing import StandardScaler, OneHotEncoder\n",
    "from sklearn.model_selection import GridSearchCV\n",
    "from sklearn.model_selection import cross_val_score\n",
    "from sklearn.pipeline import make_pipeline\n",
    "from sklearn.model_selection import train_test_split\n",
    "from sklearn.compose import make_column_transformer\n",
    "from sklearn.model_selection import GridSearchCV"
   ]
  },
  {
   "cell_type": "markdown",
   "metadata": {},
   "source": [
    "On définit les variables X et y:"
   ]
  },
  {
   "cell_type": "code",
   "execution_count": 26,
   "metadata": {},
   "outputs": [],
   "source": [
    "# On écarte les 2 variables de prédictions\n",
    "X=df_filter.drop(['TotalGHGEmissions','SiteEnergyUseWN(kBtu)'],axis=1)"
   ]
  },
  {
   "cell_type": "markdown",
   "metadata": {},
   "source": [
    "Prédiction de la variable de consommation d'énergie: (SiteEnergyUseWN(kBtu))"
   ]
  },
  {
   "cell_type": "code",
   "execution_count": 27,
   "metadata": {},
   "outputs": [],
   "source": [
    "y= df_filter['SiteEnergyUseWN(kBtu)']"
   ]
  },
  {
   "cell_type": "code",
   "execution_count": 28,
   "metadata": {},
   "outputs": [],
   "source": [
    "#spliting data to training/test data:\n",
    "X_train, X_test, y_train, y_test = train_test_split(X, y, test_size=0.3, random_state=42,shuffle= True)"
   ]
  },
  {
   "cell_type": "code",
   "execution_count": 29,
   "metadata": {},
   "outputs": [
    {
     "name": "stdout",
     "output_type": "stream",
     "text": [
      "(956, 12)\n",
      "(411, 12)\n"
     ]
    }
   ],
   "source": [
    "# dimensions X_train et X_test\n",
    "print(X_train.shape)\n",
    "print(X_test.shape)"
   ]
  },
  {
   "cell_type": "markdown",
   "metadata": {},
   "source": [
    "On a un dataframe avec des variables catégorielles et numériques, donc on fait appel à (make_column_transformer)"
   ]
  },
  {
   "cell_type": "code",
   "execution_count": 38,
   "metadata": {},
   "outputs": [],
   "source": [
    "col_categ= var_categ.columns.tolist()\n",
    "col_num= ['NumberofBuildings',\n",
    " 'NumberofFloors',\n",
    " 'PropertyGFAParking',\n",
    " 'SourceEUIWN(kBtu/sf)',\n",
    " 'SteamUse(kBtu)',\n",
    " 'Electricity(kBtu)',\n",
    " 'NaturalGas(kBtu)',\n",
    " 'BuildingAge']"
   ]
  },
  {
   "cell_type": "code",
   "execution_count": 39,
   "metadata": {},
   "outputs": [],
   "source": [
    "column_trans= make_column_transformer((OneHotEncoder(handle_unknown='ignore'),col_categ), (StandardScaler(), col_num))"
   ]
  },
  {
   "cell_type": "code",
   "execution_count": 41,
   "metadata": {},
   "outputs": [
    {
     "data": {
      "text/plain": [
       "ColumnTransformer(n_jobs=None, remainder='drop', sparse_threshold=0.3,\n",
       "                  transformer_weights=None,\n",
       "                  transformers=[('onehotencoder',\n",
       "                                 OneHotEncoder(categories='auto', drop=None,\n",
       "                                               dtype=<class 'numpy.float64'>,\n",
       "                                               handle_unknown='ignore',\n",
       "                                               sparse=True),\n",
       "                                 ['PrimaryPropertyType', 'Neighborhood',\n",
       "                                  'LargestPropertyUseType',\n",
       "                                  'ComplianceStatus']),\n",
       "                                ('standardscaler',\n",
       "                                 StandardScaler(copy=True, with_mean=True,\n",
       "                                                with_std=True),\n",
       "                                 ['NumberofBuildings', 'NumberofFloors',\n",
       "                                  'PropertyGFAParking', 'SourceEUIWN(kBtu/sf)',\n",
       "                                  'SteamUse(kBtu)', 'Electricity(kBtu)',\n",
       "                                  'NaturalGas(kBtu)', 'BuildingAge'])],\n",
       "                  verbose=False)"
      ]
     },
     "execution_count": 41,
     "metadata": {},
     "output_type": "execute_result"
    }
   ],
   "source": [
    "column_trans.fit(X_train)"
   ]
  },
  {
   "cell_type": "markdown",
   "metadata": {},
   "source": [
    "#### Application du modèle: Ridge Regression"
   ]
  },
  {
   "cell_type": "code",
   "execution_count": 42,
   "metadata": {},
   "outputs": [],
   "source": [
    "# Importation du modèle et instaciation de l'objet:\n",
    "from sklearn.linear_model import Ridge\n",
    "ridge= Ridge()"
   ]
  },
  {
   "cell_type": "code",
   "execution_count": 43,
   "metadata": {},
   "outputs": [],
   "source": [
    "# On crée le modèle à l'aide de pipeline\n",
    "pipe= make_pipeline(column_trans,ridge)"
   ]
  },
  {
   "cell_type": "code",
   "execution_count": 44,
   "metadata": {},
   "outputs": [
    {
     "data": {
      "text/plain": [
       "dict_keys(['memory', 'steps', 'verbose', 'columntransformer', 'ridge', 'columntransformer__n_jobs', 'columntransformer__remainder', 'columntransformer__sparse_threshold', 'columntransformer__transformer_weights', 'columntransformer__transformers', 'columntransformer__verbose', 'columntransformer__onehotencoder', 'columntransformer__standardscaler', 'columntransformer__onehotencoder__categories', 'columntransformer__onehotencoder__drop', 'columntransformer__onehotencoder__dtype', 'columntransformer__onehotencoder__handle_unknown', 'columntransformer__onehotencoder__sparse', 'columntransformer__standardscaler__copy', 'columntransformer__standardscaler__with_mean', 'columntransformer__standardscaler__with_std', 'ridge__alpha', 'ridge__copy_X', 'ridge__fit_intercept', 'ridge__max_iter', 'ridge__normalize', 'ridge__random_state', 'ridge__solver', 'ridge__tol'])"
      ]
     },
     "execution_count": 44,
     "metadata": {},
     "output_type": "execute_result"
    }
   ],
   "source": [
    "# liste des paramètres de l'estimateur:\n",
    "pipe.get_params().keys()"
   ]
  },
  {
   "cell_type": "markdown",
   "metadata": {},
   "source": [
    "##### Cross validation avec: cross_val_score()"
   ]
  },
  {
   "cell_type": "code",
   "execution_count": 45,
   "metadata": {},
   "outputs": [
    {
     "data": {
      "text/plain": [
       "0.9277723688140288"
      ]
     },
     "execution_count": 45,
     "metadata": {},
     "output_type": "execute_result"
    }
   ],
   "source": [
    "cross_val_score(pipe,X_train,y_train,cv=5).mean()"
   ]
  },
  {
   "cell_type": "markdown",
   "metadata": {},
   "source": [
    "##### Optimisation des hyperparamètres avec: GridSearchCV()"
   ]
  },
  {
   "cell_type": "code",
   "execution_count": 46,
   "metadata": {},
   "outputs": [],
   "source": [
    "# Définition des paramètres:\n",
    "parameter= {'ridge__alpha': [0.001, 0.01, 0.1, 1]}\n",
    "#Grille de recherche:\n",
    "grille= GridSearchCV(pipe ,parameter, cv=5)"
   ]
  },
  {
   "cell_type": "code",
   "execution_count": 47,
   "metadata": {},
   "outputs": [
    {
     "data": {
      "text/plain": [
       "GridSearchCV(cv=5, error_score=nan,\n",
       "             estimator=Pipeline(memory=None,\n",
       "                                steps=[('columntransformer',\n",
       "                                        ColumnTransformer(n_jobs=None,\n",
       "                                                          remainder='drop',\n",
       "                                                          sparse_threshold=0.3,\n",
       "                                                          transformer_weights=None,\n",
       "                                                          transformers=[('onehotencoder',\n",
       "                                                                         OneHotEncoder(categories='auto',\n",
       "                                                                                       drop=None,\n",
       "                                                                                       dtype=<class 'numpy.float64'>,\n",
       "                                                                                       handle_unknown='ignore',\n",
       "                                                                                       sparse=True),\n",
       "                                                                         ['PrimaryPropertyType',\n",
       "                                                                          'N...\n",
       "                                                                          'NaturalGas(kBtu)',\n",
       "                                                                          'BuildingAge'])],\n",
       "                                                          verbose=False)),\n",
       "                                       ('ridge',\n",
       "                                        Ridge(alpha=1.0, copy_X=True,\n",
       "                                              fit_intercept=True, max_iter=None,\n",
       "                                              normalize=False,\n",
       "                                              random_state=None, solver='auto',\n",
       "                                              tol=0.001))],\n",
       "                                verbose=False),\n",
       "             iid='deprecated', n_jobs=None,\n",
       "             param_grid={'ridge__alpha': [0.001, 0.01, 0.1, 1]},\n",
       "             pre_dispatch='2*n_jobs', refit=True, return_train_score=False,\n",
       "             scoring=None, verbose=0)"
      ]
     },
     "execution_count": 47,
     "metadata": {},
     "output_type": "execute_result"
    }
   ],
   "source": [
    "grille.fit(X_train,y_train)"
   ]
  },
  {
   "cell_type": "code",
   "execution_count": 48,
   "metadata": {},
   "outputs": [
    {
     "data": {
      "text/plain": [
       "0.9277723688140288"
      ]
     },
     "execution_count": 48,
     "metadata": {},
     "output_type": "execute_result"
    }
   ],
   "source": [
    "grille.best_score_"
   ]
  },
  {
   "cell_type": "code",
   "execution_count": 49,
   "metadata": {},
   "outputs": [
    {
     "data": {
      "text/plain": [
       "{'ridge__alpha': 1}"
      ]
     },
     "execution_count": 49,
     "metadata": {},
     "output_type": "execute_result"
    }
   ],
   "source": [
    "grille.best_params_"
   ]
  },
  {
   "cell_type": "code",
   "execution_count": 50,
   "metadata": {},
   "outputs": [],
   "source": [
    "model= grille.best_estimator_"
   ]
  },
  {
   "cell_type": "code",
   "execution_count": 51,
   "metadata": {},
   "outputs": [
    {
     "data": {
      "text/plain": [
       "0.9763632338537155"
      ]
     },
     "execution_count": 51,
     "metadata": {},
     "output_type": "execute_result"
    }
   ],
   "source": [
    "model.score(X_test,y_test)"
   ]
  },
  {
   "cell_type": "code",
   "execution_count": 52,
   "metadata": {},
   "outputs": [],
   "source": [
    "pred= model.predict(X_test)"
   ]
  },
  {
   "cell_type": "markdown",
   "metadata": {},
   "source": [
    "Implémentation d'une fonction pour les métriques:"
   ]
  },
  {
   "cell_type": "code",
   "execution_count": 53,
   "metadata": {},
   "outputs": [],
   "source": [
    "from sklearn.metrics import *\n",
    "\n",
    "def compute_scores(y_test, prediction):\n",
    "    \"\"\"Function which computes RMSE, MSE, MAE, Median AE and R^2 of a prediction compared to true values.\"\"\"\n",
    "      \n",
    "    rmse = mean_squared_error(y_test, prediction, squared=False)\n",
    "    mse = mean_squared_error(y_test, prediction, squared=True)\n",
    "    mae = mean_absolute_error(y_test, prediction)\n",
    "    median_ae = median_absolute_error(y_test, prediction)\n",
    "    r2 = r2_score(y_test, prediction)\n",
    "    \n",
    "    scores = [rmse, mse, mae, median_ae, r2]\n",
    "\n",
    "    print(\"RMSE : {:,.0f}\".format(rmse).replace(',', ' '))\n",
    "    print(\"MSE : {:,.0f}\".format(mse).replace(',', ' '))\n",
    "    print(\"MAE : {:,.0f}\".format(mae).replace(',', ' '))\n",
    "    print(\"Median AE : {:,.0f}\".format(median_ae).replace(',', ' '))\n",
    "    print(\"R² : {:.3f}\".format(r2).replace(',', ' '))\n",
    "    \n",
    "    return scores"
   ]
  },
  {
   "cell_type": "markdown",
   "metadata": {},
   "source": [
    "Evaluation des métriques:"
   ]
  },
  {
   "cell_type": "code",
   "execution_count": 54,
   "metadata": {},
   "outputs": [
    {
     "name": "stdout",
     "output_type": "stream",
     "text": [
      "RMSE : 778 789\n",
      "MSE : 606 512 751 792\n",
      "MAE : 335 502\n",
      "Median AE : 164 551\n",
      "R² : 0.976\n"
     ]
    },
    {
     "data": {
      "text/plain": [
       "[778789.2858739044,\n",
       " 606512751791.9858,\n",
       " 335501.8486497953,\n",
       " 164551.40182146616,\n",
       " 0.9763632338537155]"
      ]
     },
     "execution_count": 54,
     "metadata": {},
     "output_type": "execute_result"
    }
   ],
   "source": [
    "compute_scores(y_test, pred)"
   ]
  },
  {
   "cell_type": "markdown",
   "metadata": {},
   "source": [
    "#### Application du modèle: Support Vector Regression"
   ]
  },
  {
   "cell_type": "code",
   "execution_count": 55,
   "metadata": {},
   "outputs": [],
   "source": [
    "from sklearn.svm import SVR\n",
    "svr= SVR()"
   ]
  },
  {
   "cell_type": "code",
   "execution_count": 56,
   "metadata": {},
   "outputs": [],
   "source": [
    "# On crée le modèle à l'aide de pipeline\n",
    "from sklearn.pipeline import make_pipeline\n",
    "pipe= make_pipeline(column_trans,svr)"
   ]
  },
  {
   "cell_type": "code",
   "execution_count": 57,
   "metadata": {},
   "outputs": [
    {
     "data": {
      "text/plain": [
       "dict_keys(['memory', 'steps', 'verbose', 'columntransformer', 'svr', 'columntransformer__n_jobs', 'columntransformer__remainder', 'columntransformer__sparse_threshold', 'columntransformer__transformer_weights', 'columntransformer__transformers', 'columntransformer__verbose', 'columntransformer__onehotencoder', 'columntransformer__standardscaler', 'columntransformer__onehotencoder__categories', 'columntransformer__onehotencoder__drop', 'columntransformer__onehotencoder__dtype', 'columntransformer__onehotencoder__handle_unknown', 'columntransformer__onehotencoder__sparse', 'columntransformer__standardscaler__copy', 'columntransformer__standardscaler__with_mean', 'columntransformer__standardscaler__with_std', 'svr__C', 'svr__cache_size', 'svr__coef0', 'svr__degree', 'svr__epsilon', 'svr__gamma', 'svr__kernel', 'svr__max_iter', 'svr__shrinking', 'svr__tol', 'svr__verbose'])"
      ]
     },
     "execution_count": 57,
     "metadata": {},
     "output_type": "execute_result"
    }
   ],
   "source": [
    "# liste des paramètres de l'estimateur:\n",
    "pipe.get_params().keys()"
   ]
  },
  {
   "cell_type": "markdown",
   "metadata": {},
   "source": [
    "##### Cross validation avec: cross_val_score()"
   ]
  },
  {
   "cell_type": "code",
   "execution_count": 58,
   "metadata": {},
   "outputs": [
    {
     "data": {
      "text/plain": [
       "array([-0.11258277, -0.10570256, -0.12376963, -0.13928717, -0.07746552])"
      ]
     },
     "execution_count": 58,
     "metadata": {},
     "output_type": "execute_result"
    }
   ],
   "source": [
    "cross_val_score(pipe,X_train,y_train,cv=5)"
   ]
  },
  {
   "cell_type": "markdown",
   "metadata": {},
   "source": [
    "##### Optimisation des hyperparamètres avec: GridSearchCV()"
   ]
  },
  {
   "cell_type": "code",
   "execution_count": 59,
   "metadata": {},
   "outputs": [],
   "source": [
    "parameters = {'svr__kernel': ('linear', 'rbf','poly'), 'svr__C':[1,3,5,7,10],'svr__gamma': [1e-5,1e-4,1e-3,1e-2],'svr__epsilon':[0.1,0.2,0.3,0.4,0.5]}\n",
    "#Grille de recherche:\n",
    "grille= GridSearchCV(pipe ,parameters, cv=5)"
   ]
  },
  {
   "cell_type": "code",
   "execution_count": 60,
   "metadata": {},
   "outputs": [
    {
     "data": {
      "text/plain": [
       "GridSearchCV(cv=5, error_score=nan,\n",
       "             estimator=Pipeline(memory=None,\n",
       "                                steps=[('columntransformer',\n",
       "                                        ColumnTransformer(n_jobs=None,\n",
       "                                                          remainder='drop',\n",
       "                                                          sparse_threshold=0.3,\n",
       "                                                          transformer_weights=None,\n",
       "                                                          transformers=[('onehotencoder',\n",
       "                                                                         OneHotEncoder(categories='auto',\n",
       "                                                                                       drop=None,\n",
       "                                                                                       dtype=<class 'numpy.float64'>,\n",
       "                                                                                       handle_unknown='ignore',\n",
       "                                                                                       sparse=True),\n",
       "                                                                         ['PrimaryPropertyType',\n",
       "                                                                          'N...\n",
       "                                            gamma='scale', kernel='rbf',\n",
       "                                            max_iter=-1, shrinking=True,\n",
       "                                            tol=0.001, verbose=False))],\n",
       "                                verbose=False),\n",
       "             iid='deprecated', n_jobs=None,\n",
       "             param_grid={'svr__C': [1, 3, 5, 7, 10],\n",
       "                         'svr__epsilon': [0.1, 0.2, 0.3, 0.4, 0.5],\n",
       "                         'svr__gamma': [1e-05, 0.0001, 0.001, 0.01],\n",
       "                         'svr__kernel': ('linear', 'rbf', 'poly')},\n",
       "             pre_dispatch='2*n_jobs', refit=True, return_train_score=False,\n",
       "             scoring=None, verbose=0)"
      ]
     },
     "execution_count": 60,
     "metadata": {},
     "output_type": "execute_result"
    }
   ],
   "source": [
    "grille.fit(X_train,y_train)"
   ]
  },
  {
   "cell_type": "code",
   "execution_count": 61,
   "metadata": {},
   "outputs": [
    {
     "data": {
      "text/plain": [
       "-0.10784500790731175"
      ]
     },
     "execution_count": 61,
     "metadata": {},
     "output_type": "execute_result"
    }
   ],
   "source": [
    "grille.best_score_"
   ]
  },
  {
   "cell_type": "code",
   "execution_count": 62,
   "metadata": {},
   "outputs": [
    {
     "data": {
      "text/plain": [
       "{'svr__C': 10,\n",
       " 'svr__epsilon': 0.1,\n",
       " 'svr__gamma': 1e-05,\n",
       " 'svr__kernel': 'linear'}"
      ]
     },
     "execution_count": 62,
     "metadata": {},
     "output_type": "execute_result"
    }
   ],
   "source": [
    "grille.best_params_"
   ]
  }
 ],
 "metadata": {
  "kernelspec": {
   "display_name": "Python 3",
   "language": "python",
   "name": "python3"
  },
  "language_info": {
   "codemirror_mode": {
    "name": "ipython",
    "version": 3
   },
   "file_extension": ".py",
   "mimetype": "text/x-python",
   "name": "python",
   "nbconvert_exporter": "python",
   "pygments_lexer": "ipython3",
   "version": "3.7.6"
  }
 },
 "nbformat": 4,
 "nbformat_minor": 4
}
