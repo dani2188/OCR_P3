{
 "cells": [
  {
   "cell_type": "code",
   "execution_count": 1,
   "metadata": {},
   "outputs": [],
   "source": [
    "# Importation des bibliothèques nécessaires\n",
    "import pandas as pd\n",
    "import numpy as np\n",
    "import matplotlib.pyplot as plt\n",
    "import seaborn as sns"
   ]
  },
  {
   "cell_type": "code",
   "execution_count": 2,
   "metadata": {},
   "outputs": [],
   "source": [
    "## On charge notre dataframe nettoyé:\n",
    "df= pd.read_csv('consoBat_df9.csv')"
   ]
  },
  {
   "cell_type": "code",
   "execution_count": 3,
   "metadata": {},
   "outputs": [
    {
     "data": {
      "text/html": [
       "<div>\n",
       "<style scoped>\n",
       "    .dataframe tbody tr th:only-of-type {\n",
       "        vertical-align: middle;\n",
       "    }\n",
       "\n",
       "    .dataframe tbody tr th {\n",
       "        vertical-align: top;\n",
       "    }\n",
       "\n",
       "    .dataframe thead th {\n",
       "        text-align: right;\n",
       "    }\n",
       "</style>\n",
       "<table border=\"1\" class=\"dataframe\">\n",
       "  <thead>\n",
       "    <tr style=\"text-align: right;\">\n",
       "      <th></th>\n",
       "      <th>OSEBuildingID</th>\n",
       "      <th>BuildingType</th>\n",
       "      <th>PrimaryPropertyType</th>\n",
       "      <th>PropertyName</th>\n",
       "      <th>Address</th>\n",
       "      <th>City</th>\n",
       "      <th>State</th>\n",
       "      <th>ZipCode</th>\n",
       "      <th>TaxParcelIdentificationNumber</th>\n",
       "      <th>CouncilDistrictCode</th>\n",
       "      <th>...</th>\n",
       "      <th>SourceEUIWN(kBtu/sf)</th>\n",
       "      <th>SiteEnergyUseWN(kBtu)</th>\n",
       "      <th>SteamUse(kBtu)</th>\n",
       "      <th>Electricity(kBtu)</th>\n",
       "      <th>NaturalGas(kBtu)</th>\n",
       "      <th>DefaultData</th>\n",
       "      <th>ComplianceStatus</th>\n",
       "      <th>TotalGHGEmissions</th>\n",
       "      <th>GHGEmissionsIntensity</th>\n",
       "      <th>BuildingAge</th>\n",
       "    </tr>\n",
       "  </thead>\n",
       "  <tbody>\n",
       "    <tr>\n",
       "      <th>0</th>\n",
       "      <td>1</td>\n",
       "      <td>NonResidential</td>\n",
       "      <td>Hotel</td>\n",
       "      <td>Mayflower park hotel</td>\n",
       "      <td>405 Olive way</td>\n",
       "      <td>Seattle</td>\n",
       "      <td>WA</td>\n",
       "      <td>98101.0</td>\n",
       "      <td>0659000030</td>\n",
       "      <td>7</td>\n",
       "      <td>...</td>\n",
       "      <td>189.000000</td>\n",
       "      <td>7456910.0</td>\n",
       "      <td>2003882.00</td>\n",
       "      <td>3946027.0</td>\n",
       "      <td>1276453.0</td>\n",
       "      <td>False</td>\n",
       "      <td>Compliant</td>\n",
       "      <td>249.98</td>\n",
       "      <td>2.83</td>\n",
       "      <td>89</td>\n",
       "    </tr>\n",
       "    <tr>\n",
       "      <th>1</th>\n",
       "      <td>2</td>\n",
       "      <td>NonResidential</td>\n",
       "      <td>Hotel</td>\n",
       "      <td>Paramount Hotel</td>\n",
       "      <td>724 Pine street</td>\n",
       "      <td>Seattle</td>\n",
       "      <td>WA</td>\n",
       "      <td>98101.0</td>\n",
       "      <td>0659000220</td>\n",
       "      <td>7</td>\n",
       "      <td>...</td>\n",
       "      <td>179.399994</td>\n",
       "      <td>8664479.0</td>\n",
       "      <td>0.00</td>\n",
       "      <td>3242851.0</td>\n",
       "      <td>5145082.0</td>\n",
       "      <td>False</td>\n",
       "      <td>Compliant</td>\n",
       "      <td>295.86</td>\n",
       "      <td>2.86</td>\n",
       "      <td>20</td>\n",
       "    </tr>\n",
       "    <tr>\n",
       "      <th>2</th>\n",
       "      <td>5</td>\n",
       "      <td>NonResidential</td>\n",
       "      <td>Hotel</td>\n",
       "      <td>HOTEL MAX</td>\n",
       "      <td>620 STEWART ST</td>\n",
       "      <td>Seattle</td>\n",
       "      <td>WA</td>\n",
       "      <td>98101.0</td>\n",
       "      <td>0659000640</td>\n",
       "      <td>7</td>\n",
       "      <td>...</td>\n",
       "      <td>224.000000</td>\n",
       "      <td>6946800.5</td>\n",
       "      <td>2214446.25</td>\n",
       "      <td>2768924.0</td>\n",
       "      <td>1811213.0</td>\n",
       "      <td>False</td>\n",
       "      <td>Compliant</td>\n",
       "      <td>286.43</td>\n",
       "      <td>4.67</td>\n",
       "      <td>90</td>\n",
       "    </tr>\n",
       "    <tr>\n",
       "      <th>3</th>\n",
       "      <td>10</td>\n",
       "      <td>NonResidential</td>\n",
       "      <td>Hotel</td>\n",
       "      <td>Camlin</td>\n",
       "      <td>1619 9th Avenue</td>\n",
       "      <td>Seattle</td>\n",
       "      <td>WA</td>\n",
       "      <td>98101.0</td>\n",
       "      <td>0660000825</td>\n",
       "      <td>7</td>\n",
       "      <td>...</td>\n",
       "      <td>154.699997</td>\n",
       "      <td>6062767.5</td>\n",
       "      <td>0.00</td>\n",
       "      <td>2811215.0</td>\n",
       "      <td>2947580.0</td>\n",
       "      <td>False</td>\n",
       "      <td>Compliant</td>\n",
       "      <td>176.14</td>\n",
       "      <td>2.12</td>\n",
       "      <td>90</td>\n",
       "    </tr>\n",
       "    <tr>\n",
       "      <th>4</th>\n",
       "      <td>11</td>\n",
       "      <td>NonResidential</td>\n",
       "      <td>Other</td>\n",
       "      <td>Paramount Theatre</td>\n",
       "      <td>911 Pine St</td>\n",
       "      <td>Seattle</td>\n",
       "      <td>WA</td>\n",
       "      <td>98101.0</td>\n",
       "      <td>0660000955</td>\n",
       "      <td>7</td>\n",
       "      <td>...</td>\n",
       "      <td>152.300003</td>\n",
       "      <td>7067881.5</td>\n",
       "      <td>2276286.50</td>\n",
       "      <td>3636655.0</td>\n",
       "      <td>385189.0</td>\n",
       "      <td>False</td>\n",
       "      <td>Compliant</td>\n",
       "      <td>221.51</td>\n",
       "      <td>2.16</td>\n",
       "      <td>90</td>\n",
       "    </tr>\n",
       "  </tbody>\n",
       "</table>\n",
       "<p>5 rows × 33 columns</p>\n",
       "</div>"
      ],
      "text/plain": [
       "   OSEBuildingID    BuildingType PrimaryPropertyType          PropertyName  \\\n",
       "0              1  NonResidential               Hotel  Mayflower park hotel   \n",
       "1              2  NonResidential               Hotel       Paramount Hotel   \n",
       "2              5  NonResidential               Hotel             HOTEL MAX   \n",
       "3             10  NonResidential               Hotel                Camlin   \n",
       "4             11  NonResidential               Other     Paramount Theatre   \n",
       "\n",
       "           Address     City State  ZipCode TaxParcelIdentificationNumber  \\\n",
       "0    405 Olive way  Seattle    WA  98101.0                    0659000030   \n",
       "1  724 Pine street  Seattle    WA  98101.0                    0659000220   \n",
       "2   620 STEWART ST  Seattle    WA  98101.0                    0659000640   \n",
       "3  1619 9th Avenue  Seattle    WA  98101.0                    0660000825   \n",
       "4      911 Pine St  Seattle    WA  98101.0                    0660000955   \n",
       "\n",
       "   CouncilDistrictCode  ... SourceEUIWN(kBtu/sf)  SiteEnergyUseWN(kBtu)  \\\n",
       "0                    7  ...           189.000000              7456910.0   \n",
       "1                    7  ...           179.399994              8664479.0   \n",
       "2                    7  ...           224.000000              6946800.5   \n",
       "3                    7  ...           154.699997              6062767.5   \n",
       "4                    7  ...           152.300003              7067881.5   \n",
       "\n",
       "   SteamUse(kBtu)  Electricity(kBtu)  NaturalGas(kBtu)  DefaultData  \\\n",
       "0      2003882.00          3946027.0         1276453.0        False   \n",
       "1            0.00          3242851.0         5145082.0        False   \n",
       "2      2214446.25          2768924.0         1811213.0        False   \n",
       "3            0.00          2811215.0         2947580.0        False   \n",
       "4      2276286.50          3636655.0          385189.0        False   \n",
       "\n",
       "   ComplianceStatus  TotalGHGEmissions GHGEmissionsIntensity BuildingAge  \n",
       "0         Compliant             249.98                  2.83          89  \n",
       "1         Compliant             295.86                  2.86          20  \n",
       "2         Compliant             286.43                  4.67          90  \n",
       "3         Compliant             176.14                  2.12          90  \n",
       "4         Compliant             221.51                  2.16          90  \n",
       "\n",
       "[5 rows x 33 columns]"
      ]
     },
     "execution_count": 3,
     "metadata": {},
     "output_type": "execute_result"
    }
   ],
   "source": [
    "df.head()"
   ]
  },
  {
   "cell_type": "code",
   "execution_count": 4,
   "metadata": {},
   "outputs": [
    {
     "name": "stdout",
     "output_type": "stream",
     "text": [
      "<class 'pandas.core.frame.DataFrame'>\n",
      "RangeIndex: 1367 entries, 0 to 1366\n",
      "Data columns (total 33 columns):\n",
      " #   Column                         Non-Null Count  Dtype  \n",
      "---  ------                         --------------  -----  \n",
      " 0   OSEBuildingID                  1367 non-null   int64  \n",
      " 1   BuildingType                   1367 non-null   object \n",
      " 2   PrimaryPropertyType            1367 non-null   object \n",
      " 3   PropertyName                   1367 non-null   object \n",
      " 4   Address                        1367 non-null   object \n",
      " 5   City                           1367 non-null   object \n",
      " 6   State                          1367 non-null   object \n",
      " 7   ZipCode                        1367 non-null   float64\n",
      " 8   TaxParcelIdentificationNumber  1367 non-null   object \n",
      " 9   CouncilDistrictCode            1367 non-null   int64  \n",
      " 10  Neighborhood                   1367 non-null   object \n",
      " 11  Latitude                       1367 non-null   float64\n",
      " 12  Longitude                      1367 non-null   float64\n",
      " 13  NumberofBuildings              1367 non-null   float64\n",
      " 14  NumberofFloors                 1367 non-null   int64  \n",
      " 15  PropertyGFATotal               1367 non-null   int64  \n",
      " 16  PropertyGFAParking             1367 non-null   int64  \n",
      " 17  PropertyGFABuilding(s)         1367 non-null   int64  \n",
      " 18  ListOfAllPropertyUseTypes      1367 non-null   object \n",
      " 19  LargestPropertyUseType         1367 non-null   object \n",
      " 20  LargestPropertyUseTypeGFA      1367 non-null   float64\n",
      " 21  ENERGYSTARScore                934 non-null    float64\n",
      " 22  SiteEUIWN(kBtu/sf)             1367 non-null   float64\n",
      " 23  SourceEUIWN(kBtu/sf)           1367 non-null   float64\n",
      " 24  SiteEnergyUseWN(kBtu)          1367 non-null   float64\n",
      " 25  SteamUse(kBtu)                 1367 non-null   float64\n",
      " 26  Electricity(kBtu)              1367 non-null   float64\n",
      " 27  NaturalGas(kBtu)               1367 non-null   float64\n",
      " 28  DefaultData                    1367 non-null   bool   \n",
      " 29  ComplianceStatus               1367 non-null   object \n",
      " 30  TotalGHGEmissions              1367 non-null   float64\n",
      " 31  GHGEmissionsIntensity          1367 non-null   float64\n",
      " 32  BuildingAge                    1367 non-null   int64  \n",
      "dtypes: bool(1), float64(14), int64(7), object(11)\n",
      "memory usage: 343.2+ KB\n"
     ]
    }
   ],
   "source": [
    "df.info()"
   ]
  },
  {
   "cell_type": "code",
   "execution_count": 5,
   "metadata": {},
   "outputs": [],
   "source": [
    "# On sépare les variables numériques des variables catégorielles:\n",
    "var_num= df.select_dtypes(include=['int64','float64'])\n",
    "var_categ= df.select_dtypes(exclude=['int64','float64','bool']) "
   ]
  },
  {
   "cell_type": "code",
   "execution_count": 6,
   "metadata": {},
   "outputs": [
    {
     "data": {
      "text/html": [
       "<div>\n",
       "<style scoped>\n",
       "    .dataframe tbody tr th:only-of-type {\n",
       "        vertical-align: middle;\n",
       "    }\n",
       "\n",
       "    .dataframe tbody tr th {\n",
       "        vertical-align: top;\n",
       "    }\n",
       "\n",
       "    .dataframe thead th {\n",
       "        text-align: right;\n",
       "    }\n",
       "</style>\n",
       "<table border=\"1\" class=\"dataframe\">\n",
       "  <thead>\n",
       "    <tr style=\"text-align: right;\">\n",
       "      <th></th>\n",
       "      <th>BuildingType</th>\n",
       "      <th>PrimaryPropertyType</th>\n",
       "      <th>PropertyName</th>\n",
       "      <th>Address</th>\n",
       "      <th>City</th>\n",
       "      <th>State</th>\n",
       "      <th>TaxParcelIdentificationNumber</th>\n",
       "      <th>Neighborhood</th>\n",
       "      <th>ListOfAllPropertyUseTypes</th>\n",
       "      <th>LargestPropertyUseType</th>\n",
       "      <th>ComplianceStatus</th>\n",
       "    </tr>\n",
       "  </thead>\n",
       "  <tbody>\n",
       "    <tr>\n",
       "      <th>0</th>\n",
       "      <td>NonResidential</td>\n",
       "      <td>Hotel</td>\n",
       "      <td>Mayflower park hotel</td>\n",
       "      <td>405 Olive way</td>\n",
       "      <td>Seattle</td>\n",
       "      <td>WA</td>\n",
       "      <td>0659000030</td>\n",
       "      <td>DOWNTOWN</td>\n",
       "      <td>Hotel</td>\n",
       "      <td>Hotel</td>\n",
       "      <td>Compliant</td>\n",
       "    </tr>\n",
       "    <tr>\n",
       "      <th>1</th>\n",
       "      <td>NonResidential</td>\n",
       "      <td>Hotel</td>\n",
       "      <td>Paramount Hotel</td>\n",
       "      <td>724 Pine street</td>\n",
       "      <td>Seattle</td>\n",
       "      <td>WA</td>\n",
       "      <td>0659000220</td>\n",
       "      <td>DOWNTOWN</td>\n",
       "      <td>Hotel, Parking, Restaurant</td>\n",
       "      <td>Hotel</td>\n",
       "      <td>Compliant</td>\n",
       "    </tr>\n",
       "    <tr>\n",
       "      <th>2</th>\n",
       "      <td>NonResidential</td>\n",
       "      <td>Hotel</td>\n",
       "      <td>HOTEL MAX</td>\n",
       "      <td>620 STEWART ST</td>\n",
       "      <td>Seattle</td>\n",
       "      <td>WA</td>\n",
       "      <td>0659000640</td>\n",
       "      <td>DOWNTOWN</td>\n",
       "      <td>Hotel</td>\n",
       "      <td>Hotel</td>\n",
       "      <td>Compliant</td>\n",
       "    </tr>\n",
       "    <tr>\n",
       "      <th>3</th>\n",
       "      <td>NonResidential</td>\n",
       "      <td>Hotel</td>\n",
       "      <td>Camlin</td>\n",
       "      <td>1619 9th Avenue</td>\n",
       "      <td>Seattle</td>\n",
       "      <td>WA</td>\n",
       "      <td>0660000825</td>\n",
       "      <td>DOWNTOWN</td>\n",
       "      <td>Hotel</td>\n",
       "      <td>Hotel</td>\n",
       "      <td>Compliant</td>\n",
       "    </tr>\n",
       "    <tr>\n",
       "      <th>4</th>\n",
       "      <td>NonResidential</td>\n",
       "      <td>Other</td>\n",
       "      <td>Paramount Theatre</td>\n",
       "      <td>911 Pine St</td>\n",
       "      <td>Seattle</td>\n",
       "      <td>WA</td>\n",
       "      <td>0660000955</td>\n",
       "      <td>DOWNTOWN</td>\n",
       "      <td>Other - Entertainment/Public Assembly</td>\n",
       "      <td>Other - Entertainment/Public Assembly</td>\n",
       "      <td>Compliant</td>\n",
       "    </tr>\n",
       "  </tbody>\n",
       "</table>\n",
       "</div>"
      ],
      "text/plain": [
       "     BuildingType PrimaryPropertyType          PropertyName          Address  \\\n",
       "0  NonResidential               Hotel  Mayflower park hotel    405 Olive way   \n",
       "1  NonResidential               Hotel       Paramount Hotel  724 Pine street   \n",
       "2  NonResidential               Hotel             HOTEL MAX   620 STEWART ST   \n",
       "3  NonResidential               Hotel                Camlin  1619 9th Avenue   \n",
       "4  NonResidential               Other     Paramount Theatre      911 Pine St   \n",
       "\n",
       "      City State TaxParcelIdentificationNumber Neighborhood  \\\n",
       "0  Seattle    WA                    0659000030     DOWNTOWN   \n",
       "1  Seattle    WA                    0659000220     DOWNTOWN   \n",
       "2  Seattle    WA                    0659000640     DOWNTOWN   \n",
       "3  Seattle    WA                    0660000825     DOWNTOWN   \n",
       "4  Seattle    WA                    0660000955     DOWNTOWN   \n",
       "\n",
       "               ListOfAllPropertyUseTypes  \\\n",
       "0                                  Hotel   \n",
       "1             Hotel, Parking, Restaurant   \n",
       "2                                  Hotel   \n",
       "3                                  Hotel   \n",
       "4  Other - Entertainment/Public Assembly   \n",
       "\n",
       "                  LargestPropertyUseType ComplianceStatus  \n",
       "0                                  Hotel        Compliant  \n",
       "1                                  Hotel        Compliant  \n",
       "2                                  Hotel        Compliant  \n",
       "3                                  Hotel        Compliant  \n",
       "4  Other - Entertainment/Public Assembly        Compliant  "
      ]
     },
     "execution_count": 6,
     "metadata": {},
     "output_type": "execute_result"
    }
   ],
   "source": [
    "var_categ.head()"
   ]
  },
  {
   "cell_type": "code",
   "execution_count": 7,
   "metadata": {},
   "outputs": [
    {
     "data": {
      "text/plain": [
       "BuildingType                        5\n",
       "PrimaryPropertyType                21\n",
       "PropertyName                     1365\n",
       "Address                          1353\n",
       "City                                1\n",
       "State                               1\n",
       "TaxParcelIdentificationNumber    1315\n",
       "Neighborhood                       18\n",
       "ListOfAllPropertyUseTypes         284\n",
       "LargestPropertyUseType             50\n",
       "ComplianceStatus                    4\n",
       "dtype: int64"
      ]
     },
     "execution_count": 7,
     "metadata": {},
     "output_type": "execute_result"
    }
   ],
   "source": [
    "var_categ.nunique()"
   ]
  },
  {
   "cell_type": "markdown",
   "metadata": {},
   "source": [
    "On écarte les variables catégorielles qui représentent des constantes:"
   ]
  },
  {
   "cell_type": "code",
   "execution_count": 8,
   "metadata": {},
   "outputs": [],
   "source": [
    "var_categ= var_categ.drop(['BuildingType','City','State'],axis=1)"
   ]
  },
  {
   "cell_type": "code",
   "execution_count": 9,
   "metadata": {},
   "outputs": [
    {
     "data": {
      "text/html": [
       "<div>\n",
       "<style scoped>\n",
       "    .dataframe tbody tr th:only-of-type {\n",
       "        vertical-align: middle;\n",
       "    }\n",
       "\n",
       "    .dataframe tbody tr th {\n",
       "        vertical-align: top;\n",
       "    }\n",
       "\n",
       "    .dataframe thead th {\n",
       "        text-align: right;\n",
       "    }\n",
       "</style>\n",
       "<table border=\"1\" class=\"dataframe\">\n",
       "  <thead>\n",
       "    <tr style=\"text-align: right;\">\n",
       "      <th></th>\n",
       "      <th>PrimaryPropertyType</th>\n",
       "      <th>PropertyName</th>\n",
       "      <th>Address</th>\n",
       "      <th>TaxParcelIdentificationNumber</th>\n",
       "      <th>Neighborhood</th>\n",
       "      <th>ListOfAllPropertyUseTypes</th>\n",
       "      <th>LargestPropertyUseType</th>\n",
       "      <th>ComplianceStatus</th>\n",
       "    </tr>\n",
       "  </thead>\n",
       "  <tbody>\n",
       "    <tr>\n",
       "      <th>0</th>\n",
       "      <td>Hotel</td>\n",
       "      <td>Mayflower park hotel</td>\n",
       "      <td>405 Olive way</td>\n",
       "      <td>0659000030</td>\n",
       "      <td>DOWNTOWN</td>\n",
       "      <td>Hotel</td>\n",
       "      <td>Hotel</td>\n",
       "      <td>Compliant</td>\n",
       "    </tr>\n",
       "    <tr>\n",
       "      <th>1</th>\n",
       "      <td>Hotel</td>\n",
       "      <td>Paramount Hotel</td>\n",
       "      <td>724 Pine street</td>\n",
       "      <td>0659000220</td>\n",
       "      <td>DOWNTOWN</td>\n",
       "      <td>Hotel, Parking, Restaurant</td>\n",
       "      <td>Hotel</td>\n",
       "      <td>Compliant</td>\n",
       "    </tr>\n",
       "    <tr>\n",
       "      <th>2</th>\n",
       "      <td>Hotel</td>\n",
       "      <td>HOTEL MAX</td>\n",
       "      <td>620 STEWART ST</td>\n",
       "      <td>0659000640</td>\n",
       "      <td>DOWNTOWN</td>\n",
       "      <td>Hotel</td>\n",
       "      <td>Hotel</td>\n",
       "      <td>Compliant</td>\n",
       "    </tr>\n",
       "    <tr>\n",
       "      <th>3</th>\n",
       "      <td>Hotel</td>\n",
       "      <td>Camlin</td>\n",
       "      <td>1619 9th Avenue</td>\n",
       "      <td>0660000825</td>\n",
       "      <td>DOWNTOWN</td>\n",
       "      <td>Hotel</td>\n",
       "      <td>Hotel</td>\n",
       "      <td>Compliant</td>\n",
       "    </tr>\n",
       "    <tr>\n",
       "      <th>4</th>\n",
       "      <td>Other</td>\n",
       "      <td>Paramount Theatre</td>\n",
       "      <td>911 Pine St</td>\n",
       "      <td>0660000955</td>\n",
       "      <td>DOWNTOWN</td>\n",
       "      <td>Other - Entertainment/Public Assembly</td>\n",
       "      <td>Other - Entertainment/Public Assembly</td>\n",
       "      <td>Compliant</td>\n",
       "    </tr>\n",
       "  </tbody>\n",
       "</table>\n",
       "</div>"
      ],
      "text/plain": [
       "  PrimaryPropertyType          PropertyName          Address  \\\n",
       "0               Hotel  Mayflower park hotel    405 Olive way   \n",
       "1               Hotel       Paramount Hotel  724 Pine street   \n",
       "2               Hotel             HOTEL MAX   620 STEWART ST   \n",
       "3               Hotel                Camlin  1619 9th Avenue   \n",
       "4               Other     Paramount Theatre      911 Pine St   \n",
       "\n",
       "  TaxParcelIdentificationNumber Neighborhood  \\\n",
       "0                    0659000030     DOWNTOWN   \n",
       "1                    0659000220     DOWNTOWN   \n",
       "2                    0659000640     DOWNTOWN   \n",
       "3                    0660000825     DOWNTOWN   \n",
       "4                    0660000955     DOWNTOWN   \n",
       "\n",
       "               ListOfAllPropertyUseTypes  \\\n",
       "0                                  Hotel   \n",
       "1             Hotel, Parking, Restaurant   \n",
       "2                                  Hotel   \n",
       "3                                  Hotel   \n",
       "4  Other - Entertainment/Public Assembly   \n",
       "\n",
       "                  LargestPropertyUseType ComplianceStatus  \n",
       "0                                  Hotel        Compliant  \n",
       "1                                  Hotel        Compliant  \n",
       "2                                  Hotel        Compliant  \n",
       "3                                  Hotel        Compliant  \n",
       "4  Other - Entertainment/Public Assembly        Compliant  "
      ]
     },
     "execution_count": 9,
     "metadata": {},
     "output_type": "execute_result"
    }
   ],
   "source": [
    "var_categ.head()"
   ]
  },
  {
   "cell_type": "code",
   "execution_count": 10,
   "metadata": {},
   "outputs": [],
   "source": [
    "#Sélection des variables catégorielles pertinentes pour notre modèle:\n",
    "var_categ= var_categ.drop(['PropertyName','Address','TaxParcelIdentificationNumber','ListOfAllPropertyUseTypes'],axis=1)"
   ]
  },
  {
   "cell_type": "code",
   "execution_count": 11,
   "metadata": {},
   "outputs": [
    {
     "data": {
      "text/plain": [
       "['PrimaryPropertyType',\n",
       " 'Neighborhood',\n",
       " 'LargestPropertyUseType',\n",
       " 'ComplianceStatus']"
      ]
     },
     "execution_count": 11,
     "metadata": {},
     "output_type": "execute_result"
    }
   ],
   "source": [
    "var_categ.columns.tolist()"
   ]
  },
  {
   "cell_type": "markdown",
   "metadata": {},
   "source": [
    "On s'intéresse maintenant aux variables numériques:"
   ]
  },
  {
   "cell_type": "code",
   "execution_count": 12,
   "metadata": {},
   "outputs": [
    {
     "data": {
      "text/plain": [
       "Index(['OSEBuildingID', 'ZipCode', 'CouncilDistrictCode', 'Latitude',\n",
       "       'Longitude', 'NumberofBuildings', 'NumberofFloors', 'PropertyGFATotal',\n",
       "       'PropertyGFAParking', 'PropertyGFABuilding(s)',\n",
       "       'LargestPropertyUseTypeGFA', 'ENERGYSTARScore', 'SiteEUIWN(kBtu/sf)',\n",
       "       'SourceEUIWN(kBtu/sf)', 'SiteEnergyUseWN(kBtu)', 'SteamUse(kBtu)',\n",
       "       'Electricity(kBtu)', 'NaturalGas(kBtu)', 'TotalGHGEmissions',\n",
       "       'GHGEmissionsIntensity', 'BuildingAge'],\n",
       "      dtype='object')"
      ]
     },
     "execution_count": 12,
     "metadata": {},
     "output_type": "execute_result"
    }
   ],
   "source": [
    "var_num.columns"
   ]
  },
  {
   "cell_type": "markdown",
   "metadata": {},
   "source": [
    "Identification des variables fortement corrélées avec les 2 variables de prédictions (On définit un seuil de 0.7):"
   ]
  },
  {
   "cell_type": "markdown",
   "metadata": {},
   "source": [
    "Dans cette partie de modélisation, on séléctionne la variables target: (SiteEnergyUseWN(kBtu) au lieu de (SiteEUIWN(kBtu/sf)) qui prend pas en compte la surface du site.  "
   ]
  },
  {
   "cell_type": "code",
   "execution_count": 13,
   "metadata": {},
   "outputs": [],
   "source": [
    "var_num= var_num.drop(['SiteEUIWN(kBtu/sf)'],axis=1)"
   ]
  },
  {
   "cell_type": "markdown",
   "metadata": {},
   "source": [
    "On écarte les variables non pertinentes pour notre modèle:"
   ]
  },
  {
   "cell_type": "code",
   "execution_count": 14,
   "metadata": {},
   "outputs": [],
   "source": [
    "var_num= var_num.drop(['OSEBuildingID','ZipCode','CouncilDistrictCode','Latitude','Longitude'],axis=1)"
   ]
  },
  {
   "cell_type": "markdown",
   "metadata": {},
   "source": [
    "On écarte les variables (SteamUse(kBtu)), (Electricity(kBtu)),(NaturalGas(kBtu)) qui représentent des relevés et ne doivent pas être pris en compte par souci de data leakage."
   ]
  },
  {
   "cell_type": "code",
   "execution_count": 15,
   "metadata": {},
   "outputs": [],
   "source": [
    "var_num= var_num.drop(['SteamUse(kBtu)','Electricity(kBtu)','NaturalGas(kBtu)'],axis=1)"
   ]
  },
  {
   "cell_type": "code",
   "execution_count": 16,
   "metadata": {},
   "outputs": [
    {
     "data": {
      "text/plain": [
       "['NumberofBuildings',\n",
       " 'NumberofFloors',\n",
       " 'PropertyGFATotal',\n",
       " 'PropertyGFAParking',\n",
       " 'PropertyGFABuilding(s)',\n",
       " 'LargestPropertyUseTypeGFA',\n",
       " 'ENERGYSTARScore',\n",
       " 'SourceEUIWN(kBtu/sf)',\n",
       " 'SiteEnergyUseWN(kBtu)',\n",
       " 'TotalGHGEmissions',\n",
       " 'GHGEmissionsIntensity',\n",
       " 'BuildingAge']"
      ]
     },
     "execution_count": 16,
     "metadata": {},
     "output_type": "execute_result"
    }
   ],
   "source": [
    "var_num.columns.tolist()"
   ]
  },
  {
   "cell_type": "code",
   "execution_count": 17,
   "metadata": {},
   "outputs": [],
   "source": [
    "df_filter= pd.concat([var_categ, var_num], axis=1)"
   ]
  },
  {
   "cell_type": "code",
   "execution_count": 18,
   "metadata": {},
   "outputs": [
    {
     "data": {
      "text/html": [
       "<div>\n",
       "<style scoped>\n",
       "    .dataframe tbody tr th:only-of-type {\n",
       "        vertical-align: middle;\n",
       "    }\n",
       "\n",
       "    .dataframe tbody tr th {\n",
       "        vertical-align: top;\n",
       "    }\n",
       "\n",
       "    .dataframe thead th {\n",
       "        text-align: right;\n",
       "    }\n",
       "</style>\n",
       "<table border=\"1\" class=\"dataframe\">\n",
       "  <thead>\n",
       "    <tr style=\"text-align: right;\">\n",
       "      <th></th>\n",
       "      <th>PrimaryPropertyType</th>\n",
       "      <th>Neighborhood</th>\n",
       "      <th>LargestPropertyUseType</th>\n",
       "      <th>ComplianceStatus</th>\n",
       "      <th>NumberofBuildings</th>\n",
       "      <th>NumberofFloors</th>\n",
       "      <th>PropertyGFATotal</th>\n",
       "      <th>PropertyGFAParking</th>\n",
       "      <th>PropertyGFABuilding(s)</th>\n",
       "      <th>LargestPropertyUseTypeGFA</th>\n",
       "      <th>ENERGYSTARScore</th>\n",
       "      <th>SourceEUIWN(kBtu/sf)</th>\n",
       "      <th>SiteEnergyUseWN(kBtu)</th>\n",
       "      <th>TotalGHGEmissions</th>\n",
       "      <th>GHGEmissionsIntensity</th>\n",
       "      <th>BuildingAge</th>\n",
       "    </tr>\n",
       "  </thead>\n",
       "  <tbody>\n",
       "    <tr>\n",
       "      <th>0</th>\n",
       "      <td>Hotel</td>\n",
       "      <td>DOWNTOWN</td>\n",
       "      <td>Hotel</td>\n",
       "      <td>Compliant</td>\n",
       "      <td>1.0</td>\n",
       "      <td>12</td>\n",
       "      <td>88434</td>\n",
       "      <td>0</td>\n",
       "      <td>88434</td>\n",
       "      <td>88434.0</td>\n",
       "      <td>60.0</td>\n",
       "      <td>189.000000</td>\n",
       "      <td>7456910.0</td>\n",
       "      <td>249.98</td>\n",
       "      <td>2.83</td>\n",
       "      <td>89</td>\n",
       "    </tr>\n",
       "    <tr>\n",
       "      <th>1</th>\n",
       "      <td>Hotel</td>\n",
       "      <td>DOWNTOWN</td>\n",
       "      <td>Hotel</td>\n",
       "      <td>Compliant</td>\n",
       "      <td>1.0</td>\n",
       "      <td>11</td>\n",
       "      <td>103566</td>\n",
       "      <td>15064</td>\n",
       "      <td>88502</td>\n",
       "      <td>83880.0</td>\n",
       "      <td>61.0</td>\n",
       "      <td>179.399994</td>\n",
       "      <td>8664479.0</td>\n",
       "      <td>295.86</td>\n",
       "      <td>2.86</td>\n",
       "      <td>20</td>\n",
       "    </tr>\n",
       "    <tr>\n",
       "      <th>2</th>\n",
       "      <td>Hotel</td>\n",
       "      <td>DOWNTOWN</td>\n",
       "      <td>Hotel</td>\n",
       "      <td>Compliant</td>\n",
       "      <td>1.0</td>\n",
       "      <td>10</td>\n",
       "      <td>61320</td>\n",
       "      <td>0</td>\n",
       "      <td>61320</td>\n",
       "      <td>61320.0</td>\n",
       "      <td>56.0</td>\n",
       "      <td>224.000000</td>\n",
       "      <td>6946800.5</td>\n",
       "      <td>286.43</td>\n",
       "      <td>4.67</td>\n",
       "      <td>90</td>\n",
       "    </tr>\n",
       "    <tr>\n",
       "      <th>3</th>\n",
       "      <td>Hotel</td>\n",
       "      <td>DOWNTOWN</td>\n",
       "      <td>Hotel</td>\n",
       "      <td>Compliant</td>\n",
       "      <td>1.0</td>\n",
       "      <td>11</td>\n",
       "      <td>83008</td>\n",
       "      <td>0</td>\n",
       "      <td>83008</td>\n",
       "      <td>81352.0</td>\n",
       "      <td>27.0</td>\n",
       "      <td>154.699997</td>\n",
       "      <td>6062767.5</td>\n",
       "      <td>176.14</td>\n",
       "      <td>2.12</td>\n",
       "      <td>90</td>\n",
       "    </tr>\n",
       "    <tr>\n",
       "      <th>4</th>\n",
       "      <td>Other</td>\n",
       "      <td>DOWNTOWN</td>\n",
       "      <td>Other - Entertainment/Public Assembly</td>\n",
       "      <td>Compliant</td>\n",
       "      <td>1.0</td>\n",
       "      <td>8</td>\n",
       "      <td>102761</td>\n",
       "      <td>0</td>\n",
       "      <td>102761</td>\n",
       "      <td>102761.0</td>\n",
       "      <td>NaN</td>\n",
       "      <td>152.300003</td>\n",
       "      <td>7067881.5</td>\n",
       "      <td>221.51</td>\n",
       "      <td>2.16</td>\n",
       "      <td>90</td>\n",
       "    </tr>\n",
       "  </tbody>\n",
       "</table>\n",
       "</div>"
      ],
      "text/plain": [
       "  PrimaryPropertyType Neighborhood                 LargestPropertyUseType  \\\n",
       "0               Hotel     DOWNTOWN                                  Hotel   \n",
       "1               Hotel     DOWNTOWN                                  Hotel   \n",
       "2               Hotel     DOWNTOWN                                  Hotel   \n",
       "3               Hotel     DOWNTOWN                                  Hotel   \n",
       "4               Other     DOWNTOWN  Other - Entertainment/Public Assembly   \n",
       "\n",
       "  ComplianceStatus  NumberofBuildings  NumberofFloors  PropertyGFATotal  \\\n",
       "0        Compliant                1.0              12             88434   \n",
       "1        Compliant                1.0              11            103566   \n",
       "2        Compliant                1.0              10             61320   \n",
       "3        Compliant                1.0              11             83008   \n",
       "4        Compliant                1.0               8            102761   \n",
       "\n",
       "   PropertyGFAParking  PropertyGFABuilding(s)  LargestPropertyUseTypeGFA  \\\n",
       "0                   0                   88434                    88434.0   \n",
       "1               15064                   88502                    83880.0   \n",
       "2                   0                   61320                    61320.0   \n",
       "3                   0                   83008                    81352.0   \n",
       "4                   0                  102761                   102761.0   \n",
       "\n",
       "   ENERGYSTARScore  SourceEUIWN(kBtu/sf)  SiteEnergyUseWN(kBtu)  \\\n",
       "0             60.0            189.000000              7456910.0   \n",
       "1             61.0            179.399994              8664479.0   \n",
       "2             56.0            224.000000              6946800.5   \n",
       "3             27.0            154.699997              6062767.5   \n",
       "4              NaN            152.300003              7067881.5   \n",
       "\n",
       "   TotalGHGEmissions  GHGEmissionsIntensity  BuildingAge  \n",
       "0             249.98                   2.83           89  \n",
       "1             295.86                   2.86           20  \n",
       "2             286.43                   4.67           90  \n",
       "3             176.14                   2.12           90  \n",
       "4             221.51                   2.16           90  "
      ]
     },
     "execution_count": 18,
     "metadata": {},
     "output_type": "execute_result"
    }
   ],
   "source": [
    "df_filter.head()"
   ]
  },
  {
   "cell_type": "code",
   "execution_count": 19,
   "metadata": {},
   "outputs": [
    {
     "data": {
      "text/plain": [
       "(1367, 16)"
      ]
     },
     "execution_count": 19,
     "metadata": {},
     "output_type": "execute_result"
    }
   ],
   "source": [
    "df_filter.shape"
   ]
  },
  {
   "cell_type": "code",
   "execution_count": 20,
   "metadata": {},
   "outputs": [
    {
     "data": {
      "text/plain": [
       "array(['Hotel', 'Other', 'Mixed Use Property', 'K-12 School',\n",
       "       'Small- and Mid-Sized Office', 'Self-Storage Facility',\n",
       "       'Warehouse', 'Large Office', 'Retail Store', 'University',\n",
       "       'Residence Hall', 'Distribution Center', 'Senior Care Community',\n",
       "       'Worship Facility', 'Medical Office',\n",
       "       'Supermarket / Grocery Store', 'Refrigerated Warehouse',\n",
       "       'Low-Rise Multifamily', 'Restaurant', 'Laboratory', 'Hospital'],\n",
       "      dtype=object)"
      ]
     },
     "execution_count": 20,
     "metadata": {},
     "output_type": "execute_result"
    }
   ],
   "source": [
    "df_filter.PrimaryPropertyType.unique()"
   ]
  },
  {
   "cell_type": "markdown",
   "metadata": {},
   "source": [
    "On prépare le feature (PrimaryPropertyType) pour l'encodage OneHotEncoder:"
   ]
  },
  {
   "cell_type": "code",
   "execution_count": 21,
   "metadata": {},
   "outputs": [],
   "source": [
    "def PropertyType_preprocessing(text):\n",
    "    \"\"\"\n",
    "    Function to Preprocess the features PrimaryPropertyType .\n",
    "    \"\"\"\n",
    "    text = text.replace(\"/\", \"\")    # Remove slash\n",
    "    text = text.replace(\"-\", \"\")    # Remove dash\n",
    "    text = text.replace(\" \", \"\")    # Remove whitespaces\n",
    "    text = text.replace(\"12\", \"Twelve\")\n",
    "    return text\n",
    "\n",
    "df_filter['PrimaryPropertyType'] = df_filter['PrimaryPropertyType'].apply(lambda x: PropertyType_preprocessing(x))"
   ]
  },
  {
   "cell_type": "code",
   "execution_count": 22,
   "metadata": {},
   "outputs": [
    {
     "data": {
      "text/plain": [
       "array(['Hotel', 'Other', 'MixedUseProperty', 'KTwelveSchool',\n",
       "       'SmallandMidSizedOffice', 'SelfStorageFacility', 'Warehouse',\n",
       "       'LargeOffice', 'RetailStore', 'University', 'ResidenceHall',\n",
       "       'DistributionCenter', 'SeniorCareCommunity', 'WorshipFacility',\n",
       "       'MedicalOffice', 'SupermarketGroceryStore',\n",
       "       'RefrigeratedWarehouse', 'LowRiseMultifamily', 'Restaurant',\n",
       "       'Laboratory', 'Hospital'], dtype=object)"
      ]
     },
     "execution_count": 22,
     "metadata": {},
     "output_type": "execute_result"
    }
   ],
   "source": [
    "df_filter.PrimaryPropertyType.unique()"
   ]
  },
  {
   "cell_type": "code",
   "execution_count": 23,
   "metadata": {},
   "outputs": [
    {
     "name": "stdout",
     "output_type": "stream",
     "text": [
      "<class 'pandas.core.frame.DataFrame'>\n",
      "RangeIndex: 1367 entries, 0 to 1366\n",
      "Data columns (total 16 columns):\n",
      " #   Column                     Non-Null Count  Dtype  \n",
      "---  ------                     --------------  -----  \n",
      " 0   PrimaryPropertyType        1367 non-null   object \n",
      " 1   Neighborhood               1367 non-null   object \n",
      " 2   LargestPropertyUseType     1367 non-null   object \n",
      " 3   ComplianceStatus           1367 non-null   object \n",
      " 4   NumberofBuildings          1367 non-null   float64\n",
      " 5   NumberofFloors             1367 non-null   int64  \n",
      " 6   PropertyGFATotal           1367 non-null   int64  \n",
      " 7   PropertyGFAParking         1367 non-null   int64  \n",
      " 8   PropertyGFABuilding(s)     1367 non-null   int64  \n",
      " 9   LargestPropertyUseTypeGFA  1367 non-null   float64\n",
      " 10  ENERGYSTARScore            934 non-null    float64\n",
      " 11  SourceEUIWN(kBtu/sf)       1367 non-null   float64\n",
      " 12  SiteEnergyUseWN(kBtu)      1367 non-null   float64\n",
      " 13  TotalGHGEmissions          1367 non-null   float64\n",
      " 14  GHGEmissionsIntensity      1367 non-null   float64\n",
      " 15  BuildingAge                1367 non-null   int64  \n",
      "dtypes: float64(7), int64(5), object(4)\n",
      "memory usage: 171.0+ KB\n"
     ]
    }
   ],
   "source": [
    "df_filter.info()"
   ]
  },
  {
   "cell_type": "code",
   "execution_count": 24,
   "metadata": {},
   "outputs": [],
   "source": [
    "# on charge le df_filter dans un fichier csv:\n",
    "df_filter.to_csv('consoBat_df_filter.csv',index=False)"
   ]
  },
  {
   "cell_type": "markdown",
   "metadata": {},
   "source": [
    "### Prédiction de la variable de consommation d'énergie: (SiteEnergyUseWN(kBtu))"
   ]
  },
  {
   "cell_type": "markdown",
   "metadata": {},
   "source": [
    "#### Préparation du preprocessor:"
   ]
  },
  {
   "cell_type": "code",
   "execution_count": 25,
   "metadata": {},
   "outputs": [],
   "source": [
    "# Importation des bibliothèques nécessaires:\n",
    "from sklearn.preprocessing import StandardScaler, OneHotEncoder\n",
    "from sklearn.model_selection import GridSearchCV\n",
    "from sklearn.model_selection import cross_val_score\n",
    "from sklearn.pipeline import make_pipeline\n",
    "from sklearn.model_selection import train_test_split\n",
    "from sklearn.compose import make_column_transformer\n",
    "from sklearn.model_selection import GridSearchCV\n",
    "from sklearn.metrics import *\n",
    "from sklearn.impute import SimpleImputer\n",
    "from sklearn.ensemble import AdaBoostRegressor\n",
    "from sklearn.tree import DecisionTreeRegressor"
   ]
  },
  {
   "cell_type": "markdown",
   "metadata": {},
   "source": [
    "##### On définit les variables X et y:"
   ]
  },
  {
   "cell_type": "code",
   "execution_count": 26,
   "metadata": {},
   "outputs": [],
   "source": [
    "# On écarte les 2 variables de prédictions\n",
    "X=df_filter.drop(['TotalGHGEmissions','SiteEnergyUseWN(kBtu)'],axis=1)"
   ]
  },
  {
   "cell_type": "code",
   "execution_count": 27,
   "metadata": {},
   "outputs": [],
   "source": [
    "# On écarte la variable (ENERGYSTARScore) avec taux de remplissage 66%.\n",
    "X=df_filter.drop(['ENERGYSTARScore'],axis=1)"
   ]
  },
  {
   "cell_type": "code",
   "execution_count": 28,
   "metadata": {},
   "outputs": [],
   "source": [
    "y= df_filter['SiteEnergyUseWN(kBtu)']"
   ]
  },
  {
   "cell_type": "markdown",
   "metadata": {},
   "source": [
    "##### On split les données entre Training set et Test set:"
   ]
  },
  {
   "cell_type": "code",
   "execution_count": 29,
   "metadata": {},
   "outputs": [],
   "source": [
    "#spliting data to training/test data:\n",
    "X_train, X_test, y_train, y_test = train_test_split(X, y, test_size=0.4, random_state=42,shuffle= True)"
   ]
  },
  {
   "cell_type": "code",
   "execution_count": 30,
   "metadata": {},
   "outputs": [
    {
     "name": "stdout",
     "output_type": "stream",
     "text": [
      "(820, 15)\n",
      "(547, 15)\n"
     ]
    }
   ],
   "source": [
    "# dimensions X_train et X_test\n",
    "print(X_train.shape)\n",
    "print(X_test.shape)"
   ]
  },
  {
   "cell_type": "markdown",
   "metadata": {},
   "source": [
    "On a un dataframe avec des variables catégorielles et numériques, donc on fait appel à (make_column_transformer)"
   ]
  },
  {
   "cell_type": "code",
   "execution_count": 31,
   "metadata": {},
   "outputs": [],
   "source": [
    "col_categ= var_categ.columns.tolist()"
   ]
  },
  {
   "cell_type": "code",
   "execution_count": 32,
   "metadata": {},
   "outputs": [],
   "source": [
    "col_num= var_num.columns.tolist()"
   ]
  },
  {
   "cell_type": "code",
   "execution_count": 33,
   "metadata": {},
   "outputs": [
    {
     "data": {
      "text/plain": [
       "['NumberofBuildings',\n",
       " 'NumberofFloors',\n",
       " 'PropertyGFATotal',\n",
       " 'PropertyGFAParking',\n",
       " 'PropertyGFABuilding(s)',\n",
       " 'LargestPropertyUseTypeGFA',\n",
       " 'ENERGYSTARScore',\n",
       " 'SourceEUIWN(kBtu/sf)',\n",
       " 'SiteEnergyUseWN(kBtu)',\n",
       " 'TotalGHGEmissions',\n",
       " 'GHGEmissionsIntensity',\n",
       " 'BuildingAge']"
      ]
     },
     "execution_count": 33,
     "metadata": {},
     "output_type": "execute_result"
    }
   ],
   "source": [
    "col_num"
   ]
  },
  {
   "cell_type": "code",
   "execution_count": 34,
   "metadata": {},
   "outputs": [
    {
     "name": "stdout",
     "output_type": "stream",
     "text": [
      "SiteEnergyUseWN(kBtu)\n",
      "TotalGHGEmissions\n",
      "ENERGYSTARScore\n"
     ]
    }
   ],
   "source": [
    "#On écarte les 2 variables de prédictions et la variable (ENERGYSTARScore) avec données manquantes.\n",
    "remove_lst= ['SiteEnergyUseWN(kBtu)', 'TotalGHGEmissions','ENERGYSTARScore']\n",
    "for x in remove_lst:\n",
    "    print (x), col_num.remove(x)       "
   ]
  },
  {
   "cell_type": "code",
   "execution_count": 35,
   "metadata": {},
   "outputs": [
    {
     "data": {
      "text/plain": [
       "['NumberofBuildings',\n",
       " 'NumberofFloors',\n",
       " 'PropertyGFATotal',\n",
       " 'PropertyGFAParking',\n",
       " 'PropertyGFABuilding(s)',\n",
       " 'LargestPropertyUseTypeGFA',\n",
       " 'SourceEUIWN(kBtu/sf)',\n",
       " 'GHGEmissionsIntensity',\n",
       " 'BuildingAge']"
      ]
     },
     "execution_count": 35,
     "metadata": {},
     "output_type": "execute_result"
    }
   ],
   "source": [
    "# Vérification:\n",
    "col_num"
   ]
  },
  {
   "cell_type": "code",
   "execution_count": 36,
   "metadata": {},
   "outputs": [],
   "source": [
    "# Application de make_column_transformer car différent type de preprocessing requis pour les features.\n",
    "column_trans= make_column_transformer((OneHotEncoder(handle_unknown='ignore'),col_categ), (StandardScaler(), col_num))"
   ]
  },
  {
   "cell_type": "code",
   "execution_count": 37,
   "metadata": {},
   "outputs": [
    {
     "data": {
      "text/plain": [
       "ColumnTransformer(n_jobs=None, remainder='drop', sparse_threshold=0.3,\n",
       "                  transformer_weights=None,\n",
       "                  transformers=[('onehotencoder',\n",
       "                                 OneHotEncoder(categories='auto', drop=None,\n",
       "                                               dtype=<class 'numpy.float64'>,\n",
       "                                               handle_unknown='ignore',\n",
       "                                               sparse=True),\n",
       "                                 ['PrimaryPropertyType', 'Neighborhood',\n",
       "                                  'LargestPropertyUseType',\n",
       "                                  'ComplianceStatus']),\n",
       "                                ('standardscaler',\n",
       "                                 StandardScaler(copy=True, with_mean=True,\n",
       "                                                with_std=True),\n",
       "                                 ['NumberofBuildings', 'NumberofFloors',\n",
       "                                  'PropertyGFATotal', 'PropertyGFAParking',\n",
       "                                  'PropertyGFABuilding(s)',\n",
       "                                  'LargestPropertyUseTypeGFA',\n",
       "                                  'SourceEUIWN(kBtu/sf)',\n",
       "                                  'GHGEmissionsIntensity', 'BuildingAge'])],\n",
       "                  verbose=False)"
      ]
     },
     "execution_count": 37,
     "metadata": {},
     "output_type": "execute_result"
    }
   ],
   "source": [
    "column_trans.fit(X_train)"
   ]
  },
  {
   "cell_type": "markdown",
   "metadata": {},
   "source": [
    "#### Application du modèle basique de regression: LinearRegression"
   ]
  },
  {
   "cell_type": "code",
   "execution_count": 38,
   "metadata": {},
   "outputs": [],
   "source": [
    "from sklearn.linear_model import LinearRegression\n",
    "lr = LinearRegression()"
   ]
  },
  {
   "cell_type": "code",
   "execution_count": 39,
   "metadata": {},
   "outputs": [],
   "source": [
    "# On crée le modèle à l'aide de pipeline\n",
    "pipe_lr= make_pipeline(column_trans,lr)"
   ]
  },
  {
   "cell_type": "code",
   "execution_count": 40,
   "metadata": {},
   "outputs": [
    {
     "data": {
      "text/plain": [
       "dict_keys(['memory', 'steps', 'verbose', 'columntransformer', 'linearregression', 'columntransformer__n_jobs', 'columntransformer__remainder', 'columntransformer__sparse_threshold', 'columntransformer__transformer_weights', 'columntransformer__transformers', 'columntransformer__verbose', 'columntransformer__onehotencoder', 'columntransformer__standardscaler', 'columntransformer__onehotencoder__categories', 'columntransformer__onehotencoder__drop', 'columntransformer__onehotencoder__dtype', 'columntransformer__onehotencoder__handle_unknown', 'columntransformer__onehotencoder__sparse', 'columntransformer__standardscaler__copy', 'columntransformer__standardscaler__with_mean', 'columntransformer__standardscaler__with_std', 'linearregression__copy_X', 'linearregression__fit_intercept', 'linearregression__n_jobs', 'linearregression__normalize'])"
      ]
     },
     "execution_count": 40,
     "metadata": {},
     "output_type": "execute_result"
    }
   ],
   "source": [
    "# liste des paramètres de l'estimateur:\n",
    "pipe_lr.get_params().keys()"
   ]
  },
  {
   "cell_type": "markdown",
   "metadata": {},
   "source": [
    "cross validation avec GridSearchCV() "
   ]
  },
  {
   "cell_type": "code",
   "execution_count": 41,
   "metadata": {},
   "outputs": [],
   "source": [
    "#Grille de recherche:\n",
    "parameter= {'linearregression__fit_intercept':[True,False]}\n",
    "grid_lr= GridSearchCV(pipe_lr, parameter, cv=5,scoring='r2')"
   ]
  },
  {
   "cell_type": "code",
   "execution_count": 42,
   "metadata": {},
   "outputs": [
    {
     "data": {
      "text/plain": [
       "GridSearchCV(cv=5, error_score=nan,\n",
       "             estimator=Pipeline(memory=None,\n",
       "                                steps=[('columntransformer',\n",
       "                                        ColumnTransformer(n_jobs=None,\n",
       "                                                          remainder='drop',\n",
       "                                                          sparse_threshold=0.3,\n",
       "                                                          transformer_weights=None,\n",
       "                                                          transformers=[('onehotencoder',\n",
       "                                                                         OneHotEncoder(categories='auto',\n",
       "                                                                                       drop=None,\n",
       "                                                                                       dtype=<class 'numpy.float64'>,\n",
       "                                                                                       handle_unknown='ignore',\n",
       "                                                                                       sparse=True),\n",
       "                                                                         ['PrimaryPropertyType',\n",
       "                                                                          'N...\n",
       "                                                                          'SourceEUIWN(kBtu/sf)',\n",
       "                                                                          'GHGEmissionsIntensity',\n",
       "                                                                          'BuildingAge'])],\n",
       "                                                          verbose=False)),\n",
       "                                       ('linearregression',\n",
       "                                        LinearRegression(copy_X=True,\n",
       "                                                         fit_intercept=True,\n",
       "                                                         n_jobs=None,\n",
       "                                                         normalize=False))],\n",
       "                                verbose=False),\n",
       "             iid='deprecated', n_jobs=None,\n",
       "             param_grid={'linearregression__fit_intercept': [True, False]},\n",
       "             pre_dispatch='2*n_jobs', refit=True, return_train_score=False,\n",
       "             scoring='r2', verbose=0)"
      ]
     },
     "execution_count": 42,
     "metadata": {},
     "output_type": "execute_result"
    }
   ],
   "source": [
    "grid_lr.fit(X_train,y_train)"
   ]
  },
  {
   "cell_type": "code",
   "execution_count": 43,
   "metadata": {},
   "outputs": [
    {
     "name": "stdout",
     "output_type": "stream",
     "text": [
      "0.8557903490652488\n",
      "{'linearregression__fit_intercept': True}\n"
     ]
    }
   ],
   "source": [
    "print(grid_lr.best_score_)\n",
    "print(grid_lr.best_params_)"
   ]
  },
  {
   "cell_type": "code",
   "execution_count": 44,
   "metadata": {},
   "outputs": [
    {
     "data": {
      "text/plain": [
       "0.6770801541135869"
      ]
     },
     "execution_count": 44,
     "metadata": {},
     "output_type": "execute_result"
    }
   ],
   "source": [
    "model_lr= grid_lr.best_estimator_\n",
    "pred_lr= model_lr.predict(X_test)\n",
    "r2_score(y_test, pred_lr)"
   ]
  },
  {
   "cell_type": "markdown",
   "metadata": {},
   "source": [
    "##### Implémentation d'une fonction pour calcul des métriques:"
   ]
  },
  {
   "cell_type": "code",
   "execution_count": 45,
   "metadata": {},
   "outputs": [],
   "source": [
    "def compute_scores(y_test, prediction):\n",
    "    \"\"\"Function which computes RMSE, MSE, MAE, Median AE and R^2 of a prediction compared to true values.\"\"\"\n",
    "      \n",
    "    rmse = mean_squared_error(y_test, prediction, squared=False)\n",
    "    mse = mean_squared_error(y_test, prediction, squared=True)\n",
    "    mae = mean_absolute_error(y_test, prediction)\n",
    "    median_ae = median_absolute_error(y_test, prediction)\n",
    "    r2 = r2_score(y_test, prediction)\n",
    "    \n",
    "    scores = [rmse, mse, mae, median_ae, r2]\n",
    "\n",
    "    print(\"RMSE : {:,.0f}\".format(rmse).replace(',', ' '))\n",
    "    print(\"MSE : {:,.0f}\".format(mse).replace(',', ' '))\n",
    "    print(\"MAE : {:,.0f}\".format(mae).replace(',', ' '))\n",
    "    print(\"Median AE : {:,.0f}\".format(median_ae).replace(',', ' '))\n",
    "    print(\"R² : {:.3f}\".format(r2).replace(',', ' '))\n",
    "    \n",
    "    return scores"
   ]
  },
  {
   "cell_type": "code",
   "execution_count": 46,
   "metadata": {},
   "outputs": [
    {
     "name": "stdout",
     "output_type": "stream",
     "text": [
      "RMSE : 3 036 759\n",
      "MSE : 9 221 908 205 074\n",
      "MAE : 1 123 234\n",
      "Median AE : 566 862\n",
      "R² : 0.677\n"
     ]
    },
    {
     "data": {
      "text/plain": [
       "[3036759.4908181466,\n",
       " 9221908205074.09,\n",
       " 1123233.5152424301,\n",
       " 566861.9946883405,\n",
       " 0.6770801541135869]"
      ]
     },
     "execution_count": 46,
     "metadata": {},
     "output_type": "execute_result"
    }
   ],
   "source": [
    "# calcul des métriques:\n",
    "compute_scores(y_test, pred_lr)"
   ]
  },
  {
   "cell_type": "markdown",
   "metadata": {},
   "source": [
    "##### Plot de comparaison entre y_test, pred_lr:"
   ]
  },
  {
   "cell_type": "code",
   "execution_count": 47,
   "metadata": {},
   "outputs": [
    {
     "data": {
      "image/png": "[encoded data removed]",
      "text/plain": [
       "<Figure size 432x288 with 1 Axes>"
      ]
     },
     "metadata": {
      "needs_background": "light"
     },
     "output_type": "display_data"
    }
   ],
   "source": [
    "import matplotlib.pyplot as plt\n",
    "fig, ax = plt.subplots()\n",
    "ax.scatter(y_test, pred_lr)\n",
    "ax.plot([y_test.min(), y_test.max()], [y_test.min(), y_test.max()], 'k--', lw=4)\n",
    "ax.set_xlabel('Measured')\n",
    "ax.set_ylabel('Predicted')\n",
    "plt.show()"
   ]
  },
  {
   "cell_type": "markdown",
   "metadata": {},
   "source": [
    "#### Application du modèle: Ridge Regression"
   ]
  },
  {
   "cell_type": "code",
   "execution_count": 48,
   "metadata": {},
   "outputs": [],
   "source": [
    "# Importation du modèle et instaciation de l'objet:\n",
    "from sklearn.linear_model import Ridge\n",
    "ridge= Ridge()"
   ]
  },
  {
   "cell_type": "code",
   "execution_count": 49,
   "metadata": {},
   "outputs": [],
   "source": [
    "# On crée le modèle à l'aide de pipeline\n",
    "pipe_ridge= make_pipeline(column_trans,ridge)"
   ]
  },
  {
   "cell_type": "markdown",
   "metadata": {},
   "source": [
    "##### Cross validation avec: cross_val_score()"
   ]
  },
  {
   "cell_type": "code",
   "execution_count": 50,
   "metadata": {},
   "outputs": [
    {
     "data": {
      "text/plain": [
       "array([0.87985528, 0.84852621, 0.87434296, 0.86979602, 0.85878543])"
      ]
     },
     "execution_count": 50,
     "metadata": {},
     "output_type": "execute_result"
    }
   ],
   "source": [
    "cross_val_score(pipe_ridge,X_train,y_train,cv=5,scoring='r2')"
   ]
  },
  {
   "cell_type": "markdown",
   "metadata": {},
   "source": [
    "##### Optimisation des hyperparamètres avec: GridSearchCV()"
   ]
  },
  {
   "cell_type": "code",
   "execution_count": 51,
   "metadata": {},
   "outputs": [],
   "source": [
    "# Définition des paramètres:\n",
    "#le paramètre alpha permet de corriger l'overfitting\n",
    "parameter= {'ridge__alpha': [5,10,15]}\n",
    "#Grille de recherche:\n",
    "grid_ridge= GridSearchCV(pipe_ridge ,parameter, cv=5,scoring='r2')"
   ]
  },
  {
   "cell_type": "code",
   "execution_count": 52,
   "metadata": {},
   "outputs": [
    {
     "data": {
      "text/plain": [
       "GridSearchCV(cv=5, error_score=nan,\n",
       "             estimator=Pipeline(memory=None,\n",
       "                                steps=[('columntransformer',\n",
       "                                        ColumnTransformer(n_jobs=None,\n",
       "                                                          remainder='drop',\n",
       "                                                          sparse_threshold=0.3,\n",
       "                                                          transformer_weights=None,\n",
       "                                                          transformers=[('onehotencoder',\n",
       "                                                                         OneHotEncoder(categories='auto',\n",
       "                                                                                       drop=None,\n",
       "                                                                                       dtype=<class 'numpy.float64'>,\n",
       "                                                                                       handle_unknown='ignore',\n",
       "                                                                                       sparse=True),\n",
       "                                                                         ['PrimaryPropertyType',\n",
       "                                                                          'N...\n",
       "                                                                          'GHGEmissionsIntensity',\n",
       "                                                                          'BuildingAge'])],\n",
       "                                                          verbose=False)),\n",
       "                                       ('ridge',\n",
       "                                        Ridge(alpha=1.0, copy_X=True,\n",
       "                                              fit_intercept=True, max_iter=None,\n",
       "                                              normalize=False,\n",
       "                                              random_state=None, solver='auto',\n",
       "                                              tol=0.001))],\n",
       "                                verbose=False),\n",
       "             iid='deprecated', n_jobs=None,\n",
       "             param_grid={'ridge__alpha': [5, 10, 15]}, pre_dispatch='2*n_jobs',\n",
       "             refit=True, return_train_score=False, scoring='r2', verbose=0)"
      ]
     },
     "execution_count": 52,
     "metadata": {},
     "output_type": "execute_result"
    }
   ],
   "source": [
    "grid_ridge.fit(X_train,y_train)"
   ]
  },
  {
   "cell_type": "code",
   "execution_count": 53,
   "metadata": {},
   "outputs": [
    {
     "name": "stdout",
     "output_type": "stream",
     "text": [
      "0.8723458049988325\n",
      "{'ridge__alpha': 15}\n"
     ]
    }
   ],
   "source": [
    "print(grid_ridge.best_score_)\n",
    "print(grid_ridge.best_params_)"
   ]
  },
  {
   "cell_type": "code",
   "execution_count": 54,
   "metadata": {},
   "outputs": [
    {
     "data": {
      "text/plain": [
       "0.6912534268880715"
      ]
     },
     "execution_count": 54,
     "metadata": {},
     "output_type": "execute_result"
    }
   ],
   "source": [
    "model_ridge= grid_ridge.best_estimator_\n",
    "pred_ridge= model_ridge.predict(X_test)\n",
    "r2_score(y_test, pred_ridge)"
   ]
  },
  {
   "cell_type": "code",
   "execution_count": 55,
   "metadata": {},
   "outputs": [
    {
     "name": "stdout",
     "output_type": "stream",
     "text": [
      "RMSE : 2 969 369\n",
      "MSE : 8 817 149 494 339\n",
      "MAE : 1 064 976\n",
      "Median AE : 503 952\n",
      "R² : 0.691\n"
     ]
    },
    {
     "data": {
      "text/plain": [
       "[2969368.5346111814,\n",
       " 8817149494338.955,\n",
       " 1064976.1748318241,\n",
       " 503952.061782795,\n",
       " 0.6912534268880715]"
      ]
     },
     "execution_count": 55,
     "metadata": {},
     "output_type": "execute_result"
    }
   ],
   "source": [
    "# calcul des métriques:\n",
    "compute_scores(y_test, pred_ridge)"
   ]
  },
  {
   "cell_type": "markdown",
   "metadata": {},
   "source": [
    "##### Plot de comparaison entre y_test, pred_ridge:"
   ]
  },
  {
   "cell_type": "code",
   "execution_count": 56,
   "metadata": {},
   "outputs": [
    {
     "data": {
      "image/png": "[encoded data removed]",
      "text/plain": [
       "<Figure size 432x288 with 1 Axes>"
      ]
     },
     "metadata": {
      "needs_background": "light"
     },
     "output_type": "display_data"
    }
   ],
   "source": [
    "fig, ax = plt.subplots()\n",
    "ax.scatter(y_test, pred_ridge)\n",
    "ax.plot([y_test.min(), y_test.max()], [y_test.min(), y_test.max()], 'k--', lw=4)\n",
    "ax.set_xlabel('Measured')\n",
    "ax.set_ylabel('Predicted')\n",
    "plt.show()"
   ]
  },
  {
   "cell_type": "markdown",
   "metadata": {},
   "source": [
    "#### Application du modèle: Support Vector Regression"
   ]
  },
  {
   "cell_type": "code",
   "execution_count": 57,
   "metadata": {},
   "outputs": [],
   "source": [
    "from sklearn.svm import SVR\n",
    "svr= SVR()"
   ]
  },
  {
   "cell_type": "code",
   "execution_count": 58,
   "metadata": {},
   "outputs": [],
   "source": [
    "# On crée le modèle à l'aide de pipeline\n",
    "from sklearn.pipeline import make_pipeline\n",
    "pipe_svr= make_pipeline(column_trans,svr)"
   ]
  },
  {
   "cell_type": "code",
   "execution_count": 59,
   "metadata": {},
   "outputs": [
    {
     "data": {
      "text/plain": [
       "dict_keys(['memory', 'steps', 'verbose', 'columntransformer', 'svr', 'columntransformer__n_jobs', 'columntransformer__remainder', 'columntransformer__sparse_threshold', 'columntransformer__transformer_weights', 'columntransformer__transformers', 'columntransformer__verbose', 'columntransformer__onehotencoder', 'columntransformer__standardscaler', 'columntransformer__onehotencoder__categories', 'columntransformer__onehotencoder__drop', 'columntransformer__onehotencoder__dtype', 'columntransformer__onehotencoder__handle_unknown', 'columntransformer__onehotencoder__sparse', 'columntransformer__standardscaler__copy', 'columntransformer__standardscaler__with_mean', 'columntransformer__standardscaler__with_std', 'svr__C', 'svr__cache_size', 'svr__coef0', 'svr__degree', 'svr__epsilon', 'svr__gamma', 'svr__kernel', 'svr__max_iter', 'svr__shrinking', 'svr__tol', 'svr__verbose'])"
      ]
     },
     "execution_count": 59,
     "metadata": {},
     "output_type": "execute_result"
    }
   ],
   "source": [
    "# liste des paramètres de l'estimateur:\n",
    "pipe_svr.get_params().keys()"
   ]
  },
  {
   "cell_type": "code",
   "execution_count": 60,
   "metadata": {},
   "outputs": [
    {
     "data": {
      "text/plain": [
       "array([-0.11849693, -0.11601447, -0.09484573, -0.17837392, -0.05418943])"
      ]
     },
     "execution_count": 60,
     "metadata": {},
     "output_type": "execute_result"
    }
   ],
   "source": [
    "# Cross validation avec: cross_val_score()\n",
    "cross_val_score(pipe_svr,X_train,y_train,cv=5)"
   ]
  },
  {
   "cell_type": "markdown",
   "metadata": {},
   "source": [
    "COMMENTAIRE:"
   ]
  },
  {
   "cell_type": "code",
   "execution_count": 61,
   "metadata": {},
   "outputs": [],
   "source": [
    "# Optimisation des hyperparamètres avec: GridSearchCV()\n",
    "parameters = {'svr__kernel': ('poly','linear','rbf')}\n",
    "#Grille de recherche:\n",
    "grid_svr= GridSearchCV(pipe_svr,parameters, cv=5,scoring='r2')"
   ]
  },
  {
   "cell_type": "code",
   "execution_count": 62,
   "metadata": {},
   "outputs": [
    {
     "data": {
      "text/plain": [
       "GridSearchCV(cv=5, error_score=nan,\n",
       "             estimator=Pipeline(memory=None,\n",
       "                                steps=[('columntransformer',\n",
       "                                        ColumnTransformer(n_jobs=None,\n",
       "                                                          remainder='drop',\n",
       "                                                          sparse_threshold=0.3,\n",
       "                                                          transformer_weights=None,\n",
       "                                                          transformers=[('onehotencoder',\n",
       "                                                                         OneHotEncoder(categories='auto',\n",
       "                                                                                       drop=None,\n",
       "                                                                                       dtype=<class 'numpy.float64'>,\n",
       "                                                                                       handle_unknown='ignore',\n",
       "                                                                                       sparse=True),\n",
       "                                                                         ['PrimaryPropertyType',\n",
       "                                                                          'N...\n",
       "                                                                          'BuildingAge'])],\n",
       "                                                          verbose=False)),\n",
       "                                       ('svr',\n",
       "                                        SVR(C=1.0, cache_size=200, coef0=0.0,\n",
       "                                            degree=3, epsilon=0.1,\n",
       "                                            gamma='scale', kernel='rbf',\n",
       "                                            max_iter=-1, shrinking=True,\n",
       "                                            tol=0.001, verbose=False))],\n",
       "                                verbose=False),\n",
       "             iid='deprecated', n_jobs=None,\n",
       "             param_grid={'svr__kernel': ('poly', 'linear', 'rbf')},\n",
       "             pre_dispatch='2*n_jobs', refit=True, return_train_score=False,\n",
       "             scoring='r2', verbose=0)"
      ]
     },
     "execution_count": 62,
     "metadata": {},
     "output_type": "execute_result"
    }
   ],
   "source": [
    "grid_svr.fit(X_train,y_train)"
   ]
  },
  {
   "cell_type": "code",
   "execution_count": 63,
   "metadata": {},
   "outputs": [
    {
     "name": "stdout",
     "output_type": "stream",
     "text": [
      "-0.11135333919205781\n",
      "{'svr__kernel': 'poly'}\n"
     ]
    }
   ],
   "source": [
    "print(grid_svr.best_score_)\n",
    "print(grid_svr.best_params_)"
   ]
  },
  {
   "cell_type": "code",
   "execution_count": 64,
   "metadata": {},
   "outputs": [
    {
     "data": {
      "text/plain": [
       "-0.09378825277668357"
      ]
     },
     "execution_count": 64,
     "metadata": {},
     "output_type": "execute_result"
    }
   ],
   "source": [
    "model_svr= grid_svr.best_estimator_\n",
    "pred_svr= model_svr.predict(X_test)\n",
    "r2_score(y_test, pred_svr)"
   ]
  },
  {
   "cell_type": "code",
   "execution_count": 65,
   "metadata": {},
   "outputs": [
    {
     "name": "stdout",
     "output_type": "stream",
     "text": [
      "RMSE : 5 588 943\n",
      "MSE : 31 236 280 431 160\n",
      "MAE : 2 723 980\n",
      "Median AE : 1 262 618\n",
      "R² : -0.094\n"
     ]
    },
    {
     "data": {
      "text/plain": [
       "[5588942.693493998,\n",
       " 31236280431159.94,\n",
       " 2723979.520792219,\n",
       " 1262618.1154026552,\n",
       " -0.09378825277668357]"
      ]
     },
     "execution_count": 65,
     "metadata": {},
     "output_type": "execute_result"
    }
   ],
   "source": [
    "# calcul des métriques:\n",
    "compute_scores(y_test, pred_svr)"
   ]
  },
  {
   "cell_type": "code",
   "execution_count": 66,
   "metadata": {},
   "outputs": [
    {
     "data": {
      "image/png": "[encoded data removed]",
      "text/plain": [
       "<Figure size 432x288 with 1 Axes>"
      ]
     },
     "metadata": {
      "needs_background": "light"
     },
     "output_type": "display_data"
    }
   ],
   "source": [
    "fig, ax = plt.subplots()\n",
    "ax.scatter(y_test, pred_svr)\n",
    "ax.plot([y_test.min(), y_test.max()], [y_test.min(), y_test.max()], 'k--', lw=4)\n",
    "ax.set_xlabel('Measured')\n",
    "ax.set_ylabel('Predicted')\n",
    "plt.show()"
   ]
  },
  {
   "cell_type": "markdown",
   "metadata": {},
   "source": [
    "COMMENTAIRE:"
   ]
  },
  {
   "cell_type": "markdown",
   "metadata": {},
   "source": [
    "#### Application du modèle: Lasso"
   ]
  },
  {
   "cell_type": "markdown",
   "metadata": {},
   "source": [
    "Ce modèle est pratique pour écarter les features non pertinents."
   ]
  },
  {
   "cell_type": "code",
   "execution_count": 67,
   "metadata": {},
   "outputs": [],
   "source": [
    "from sklearn.linear_model import Lasso\n",
    "lasso= Lasso(tol=0.1)"
   ]
  },
  {
   "cell_type": "code",
   "execution_count": 68,
   "metadata": {},
   "outputs": [],
   "source": [
    "# On crée le modèle à l'aide de pipeline\n",
    "pipe_lasso= make_pipeline(column_trans,lasso)"
   ]
  },
  {
   "cell_type": "code",
   "execution_count": 69,
   "metadata": {},
   "outputs": [
    {
     "data": {
      "text/plain": [
       "dict_keys(['memory', 'steps', 'verbose', 'columntransformer', 'lasso', 'columntransformer__n_jobs', 'columntransformer__remainder', 'columntransformer__sparse_threshold', 'columntransformer__transformer_weights', 'columntransformer__transformers', 'columntransformer__verbose', 'columntransformer__onehotencoder', 'columntransformer__standardscaler', 'columntransformer__onehotencoder__categories', 'columntransformer__onehotencoder__drop', 'columntransformer__onehotencoder__dtype', 'columntransformer__onehotencoder__handle_unknown', 'columntransformer__onehotencoder__sparse', 'columntransformer__standardscaler__copy', 'columntransformer__standardscaler__with_mean', 'columntransformer__standardscaler__with_std', 'lasso__alpha', 'lasso__copy_X', 'lasso__fit_intercept', 'lasso__max_iter', 'lasso__normalize', 'lasso__positive', 'lasso__precompute', 'lasso__random_state', 'lasso__selection', 'lasso__tol', 'lasso__warm_start'])"
      ]
     },
     "execution_count": 69,
     "metadata": {},
     "output_type": "execute_result"
    }
   ],
   "source": [
    "# liste des paramètres de l'estimateur:\n",
    "pipe_lasso.get_params().keys()"
   ]
  },
  {
   "cell_type": "code",
   "execution_count": 70,
   "metadata": {},
   "outputs": [
    {
     "data": {
      "text/plain": [
       "0.8526284169598444"
      ]
     },
     "execution_count": 70,
     "metadata": {},
     "output_type": "execute_result"
    }
   ],
   "source": [
    "# Cross validation avec: cross_val_score()\n",
    "cross_val_score(pipe_lasso,X_train,y_train,cv=5).mean()"
   ]
  },
  {
   "cell_type": "code",
   "execution_count": 71,
   "metadata": {},
   "outputs": [],
   "source": [
    "# Optimisation des hyperparamètres avec: GridSearchCV()\n",
    "parameters = {'lasso__alpha':[60,70,80]}\n",
    "#Grille de recherche:\n",
    "grid_lasso= GridSearchCV(pipe_lasso,parameters, cv=5,scoring='r2')"
   ]
  },
  {
   "cell_type": "code",
   "execution_count": 72,
   "metadata": {},
   "outputs": [
    {
     "data": {
      "text/plain": [
       "GridSearchCV(cv=5, error_score=nan,\n",
       "             estimator=Pipeline(memory=None,\n",
       "                                steps=[('columntransformer',\n",
       "                                        ColumnTransformer(n_jobs=None,\n",
       "                                                          remainder='drop',\n",
       "                                                          sparse_threshold=0.3,\n",
       "                                                          transformer_weights=None,\n",
       "                                                          transformers=[('onehotencoder',\n",
       "                                                                         OneHotEncoder(categories='auto',\n",
       "                                                                                       drop=None,\n",
       "                                                                                       dtype=<class 'numpy.float64'>,\n",
       "                                                                                       handle_unknown='ignore',\n",
       "                                                                                       sparse=True),\n",
       "                                                                         ['PrimaryPropertyType',\n",
       "                                                                          'N...\n",
       "                                                          verbose=False)),\n",
       "                                       ('lasso',\n",
       "                                        Lasso(alpha=1.0, copy_X=True,\n",
       "                                              fit_intercept=True, max_iter=1000,\n",
       "                                              normalize=False, positive=False,\n",
       "                                              precompute=False,\n",
       "                                              random_state=None,\n",
       "                                              selection='cyclic', tol=0.1,\n",
       "                                              warm_start=False))],\n",
       "                                verbose=False),\n",
       "             iid='deprecated', n_jobs=None,\n",
       "             param_grid={'lasso__alpha': [60, 70, 80]}, pre_dispatch='2*n_jobs',\n",
       "             refit=True, return_train_score=False, scoring='r2', verbose=0)"
      ]
     },
     "execution_count": 72,
     "metadata": {},
     "output_type": "execute_result"
    }
   ],
   "source": [
    "grid_lasso.fit(X_train,y_train)"
   ]
  },
  {
   "cell_type": "code",
   "execution_count": 73,
   "metadata": {},
   "outputs": [
    {
     "name": "stdout",
     "output_type": "stream",
     "text": [
      "0.853302934578761\n",
      "{'lasso__alpha': 80}\n"
     ]
    }
   ],
   "source": [
    "print(grid_lasso.best_score_)\n",
    "print(grid_lasso.best_params_)"
   ]
  },
  {
   "cell_type": "code",
   "execution_count": 74,
   "metadata": {},
   "outputs": [],
   "source": [
    "model_lasso= grid_lasso.best_estimator_"
   ]
  },
  {
   "cell_type": "code",
   "execution_count": 75,
   "metadata": {},
   "outputs": [
    {
     "data": {
      "text/plain": [
       "0.6684496852983086"
      ]
     },
     "execution_count": 75,
     "metadata": {},
     "output_type": "execute_result"
    }
   ],
   "source": [
    "model_lasso.score(X_test,y_test)"
   ]
  },
  {
   "cell_type": "code",
   "execution_count": 76,
   "metadata": {},
   "outputs": [],
   "source": [
    "pred_lasso= model_lasso.predict(X_test)"
   ]
  },
  {
   "cell_type": "code",
   "execution_count": 77,
   "metadata": {},
   "outputs": [
    {
     "name": "stdout",
     "output_type": "stream",
     "text": [
      "RMSE : 3 077 073\n",
      "MSE : 9 468 376 151 207\n",
      "MAE : 1 139 650\n",
      "Median AE : 515 791\n",
      "R² : 0.668\n"
     ]
    },
    {
     "data": {
      "text/plain": [
       "[3077072.6593967876,\n",
       " 9468376151207.219,\n",
       " 1139649.5064042313,\n",
       " 515791.0639335052,\n",
       " 0.6684496852983086]"
      ]
     },
     "execution_count": 77,
     "metadata": {},
     "output_type": "execute_result"
    }
   ],
   "source": [
    "# Evaluation des métriques:\n",
    "compute_scores(y_test, pred_lasso)"
   ]
  },
  {
   "cell_type": "code",
   "execution_count": 78,
   "metadata": {},
   "outputs": [
    {
     "data": {
      "image/png": "[encoded data removed]",
      "text/plain": [
       "<Figure size 432x288 with 1 Axes>"
      ]
     },
     "metadata": {
      "needs_background": "light"
     },
     "output_type": "display_data"
    }
   ],
   "source": [
    "fig, ax = plt.subplots()\n",
    "ax.scatter(y_test, pred_lasso)\n",
    "ax.plot([y_test.min(), y_test.max()], [y_test.min(), y_test.max()], 'k--', lw=4)\n",
    "ax.set_xlabel('Measured')\n",
    "ax.set_ylabel('Predicted')\n",
    "plt.show()"
   ]
  },
  {
   "cell_type": "markdown",
   "metadata": {},
   "source": [
    "#### Application du modèle: Elastic-Net"
   ]
  },
  {
   "cell_type": "code",
   "execution_count": 79,
   "metadata": {},
   "outputs": [],
   "source": [
    "from sklearn.linear_model import ElasticNet\n",
    "elastic= ElasticNet(tol=0.1)"
   ]
  },
  {
   "cell_type": "code",
   "execution_count": 80,
   "metadata": {},
   "outputs": [],
   "source": [
    "# On crée le modèle à l'aide de pipeline\n",
    "pipe_elastic= make_pipeline(column_trans,elastic)"
   ]
  },
  {
   "cell_type": "code",
   "execution_count": 81,
   "metadata": {},
   "outputs": [
    {
     "data": {
      "text/plain": [
       "dict_keys(['memory', 'steps', 'verbose', 'columntransformer', 'elasticnet', 'columntransformer__n_jobs', 'columntransformer__remainder', 'columntransformer__sparse_threshold', 'columntransformer__transformer_weights', 'columntransformer__transformers', 'columntransformer__verbose', 'columntransformer__onehotencoder', 'columntransformer__standardscaler', 'columntransformer__onehotencoder__categories', 'columntransformer__onehotencoder__drop', 'columntransformer__onehotencoder__dtype', 'columntransformer__onehotencoder__handle_unknown', 'columntransformer__onehotencoder__sparse', 'columntransformer__standardscaler__copy', 'columntransformer__standardscaler__with_mean', 'columntransformer__standardscaler__with_std', 'elasticnet__alpha', 'elasticnet__copy_X', 'elasticnet__fit_intercept', 'elasticnet__l1_ratio', 'elasticnet__max_iter', 'elasticnet__normalize', 'elasticnet__positive', 'elasticnet__precompute', 'elasticnet__random_state', 'elasticnet__selection', 'elasticnet__tol', 'elasticnet__warm_start'])"
      ]
     },
     "execution_count": 81,
     "metadata": {},
     "output_type": "execute_result"
    }
   ],
   "source": [
    "# liste des paramètres de l'estimateur:\n",
    "pipe_elastic.get_params().keys()"
   ]
  },
  {
   "cell_type": "code",
   "execution_count": 82,
   "metadata": {},
   "outputs": [
    {
     "data": {
      "text/plain": [
       "0.8510328008610714"
      ]
     },
     "execution_count": 82,
     "metadata": {},
     "output_type": "execute_result"
    }
   ],
   "source": [
    "# Cross validation avec: cross_val_score()\n",
    "cross_val_score(pipe_elastic,X_train,y_train,cv=5,scoring='r2').mean()"
   ]
  },
  {
   "cell_type": "code",
   "execution_count": 83,
   "metadata": {},
   "outputs": [],
   "source": [
    "# Optimisation des hyperparamètres avec: GridSearchCV()\n",
    "parameters = {'elasticnet__l1_ratio':[1e-5,1e-4,1e-3],'elasticnet__alpha':[1e-2,0.1,1]}\n",
    "#Grille de recherche:\n",
    "grid_elastic= GridSearchCV(pipe_elastic,parameters, cv=5)"
   ]
  },
  {
   "cell_type": "code",
   "execution_count": 84,
   "metadata": {},
   "outputs": [
    {
     "data": {
      "text/plain": [
       "GridSearchCV(cv=5, error_score=nan,\n",
       "             estimator=Pipeline(memory=None,\n",
       "                                steps=[('columntransformer',\n",
       "                                        ColumnTransformer(n_jobs=None,\n",
       "                                                          remainder='drop',\n",
       "                                                          sparse_threshold=0.3,\n",
       "                                                          transformer_weights=None,\n",
       "                                                          transformers=[('onehotencoder',\n",
       "                                                                         OneHotEncoder(categories='auto',\n",
       "                                                                                       drop=None,\n",
       "                                                                                       dtype=<class 'numpy.float64'>,\n",
       "                                                                                       handle_unknown='ignore',\n",
       "                                                                                       sparse=True),\n",
       "                                                                         ['PrimaryPropertyType',\n",
       "                                                                          'N...\n",
       "                                                   l1_ratio=0.5, max_iter=1000,\n",
       "                                                   normalize=False,\n",
       "                                                   positive=False,\n",
       "                                                   precompute=False,\n",
       "                                                   random_state=None,\n",
       "                                                   selection='cyclic', tol=0.1,\n",
       "                                                   warm_start=False))],\n",
       "                                verbose=False),\n",
       "             iid='deprecated', n_jobs=None,\n",
       "             param_grid={'elasticnet__alpha': [0.01, 0.1, 1],\n",
       "                         'elasticnet__l1_ratio': [1e-05, 0.0001, 0.001]},\n",
       "             pre_dispatch='2*n_jobs', refit=True, return_train_score=False,\n",
       "             scoring=None, verbose=0)"
      ]
     },
     "execution_count": 84,
     "metadata": {},
     "output_type": "execute_result"
    }
   ],
   "source": [
    "grid_elastic.fit(X_train,y_train)"
   ]
  },
  {
   "cell_type": "code",
   "execution_count": 85,
   "metadata": {},
   "outputs": [
    {
     "name": "stdout",
     "output_type": "stream",
     "text": [
      "0.8719667893175792\n",
      "{'elasticnet__alpha': 0.1, 'elasticnet__l1_ratio': 1e-05}\n"
     ]
    }
   ],
   "source": [
    "print(grid_elastic.best_score_)\n",
    "print(grid_elastic.best_params_)"
   ]
  },
  {
   "cell_type": "code",
   "execution_count": 86,
   "metadata": {},
   "outputs": [],
   "source": [
    "model_elastic= grid_elastic.best_estimator_"
   ]
  },
  {
   "cell_type": "code",
   "execution_count": 87,
   "metadata": {},
   "outputs": [
    {
     "data": {
      "text/plain": [
       "0.6838566076461292"
      ]
     },
     "execution_count": 87,
     "metadata": {},
     "output_type": "execute_result"
    }
   ],
   "source": [
    "model_elastic.score(X_test,y_test)"
   ]
  },
  {
   "cell_type": "code",
   "execution_count": 88,
   "metadata": {},
   "outputs": [],
   "source": [
    "pred_elastic= model_elastic.predict(X_test)"
   ]
  },
  {
   "cell_type": "code",
   "execution_count": 89,
   "metadata": {},
   "outputs": [
    {
     "name": "stdout",
     "output_type": "stream",
     "text": [
      "RMSE : 3 004 727\n",
      "MSE : 9 028 387 016 367\n",
      "MAE : 1 053 409\n",
      "Median AE : 440 467\n",
      "R² : 0.684\n"
     ]
    },
    {
     "data": {
      "text/plain": [
       "[3004727.444605747,\n",
       " 9028387016366.982,\n",
       " 1053409.4556741496,\n",
       " 440467.26609357167,\n",
       " 0.6838566076461292]"
      ]
     },
     "execution_count": 89,
     "metadata": {},
     "output_type": "execute_result"
    }
   ],
   "source": [
    "# Evaluation des métriques:\n",
    "compute_scores(y_test, pred_elastic)"
   ]
  },
  {
   "cell_type": "code",
   "execution_count": 90,
   "metadata": {},
   "outputs": [
    {
     "data": {
      "image/png": "[encoded data removed]",
      "text/plain": [
       "<Figure size 432x288 with 1 Axes>"
      ]
     },
     "metadata": {
      "needs_background": "light"
     },
     "output_type": "display_data"
    }
   ],
   "source": [
    "fig, ax = plt.subplots()\n",
    "ax.scatter(y_test, pred_elastic)\n",
    "ax.plot([y_test.min(), y_test.max()], [y_test.min(), y_test.max()], 'k--', lw=4)\n",
    "ax.set_xlabel('Measured')\n",
    "ax.set_ylabel('Predicted')\n",
    "plt.show()"
   ]
  },
  {
   "cell_type": "markdown",
   "metadata": {},
   "source": [
    "#### Application du modèle: Forests of randomized trees"
   ]
  },
  {
   "cell_type": "code",
   "execution_count": 91,
   "metadata": {},
   "outputs": [],
   "source": [
    "from sklearn.ensemble import RandomForestRegressor\n",
    "randomforest= RandomForestRegressor()"
   ]
  },
  {
   "cell_type": "code",
   "execution_count": 92,
   "metadata": {},
   "outputs": [],
   "source": [
    "# On crée le modèle à l'aide de pipeline\n",
    "pipe_randomforest= make_pipeline(column_trans, randomforest)"
   ]
  },
  {
   "cell_type": "code",
   "execution_count": 93,
   "metadata": {},
   "outputs": [
    {
     "data": {
      "text/plain": [
       "dict_keys(['memory', 'steps', 'verbose', 'columntransformer', 'randomforestregressor', 'columntransformer__n_jobs', 'columntransformer__remainder', 'columntransformer__sparse_threshold', 'columntransformer__transformer_weights', 'columntransformer__transformers', 'columntransformer__verbose', 'columntransformer__onehotencoder', 'columntransformer__standardscaler', 'columntransformer__onehotencoder__categories', 'columntransformer__onehotencoder__drop', 'columntransformer__onehotencoder__dtype', 'columntransformer__onehotencoder__handle_unknown', 'columntransformer__onehotencoder__sparse', 'columntransformer__standardscaler__copy', 'columntransformer__standardscaler__with_mean', 'columntransformer__standardscaler__with_std', 'randomforestregressor__bootstrap', 'randomforestregressor__ccp_alpha', 'randomforestregressor__criterion', 'randomforestregressor__max_depth', 'randomforestregressor__max_features', 'randomforestregressor__max_leaf_nodes', 'randomforestregressor__max_samples', 'randomforestregressor__min_impurity_decrease', 'randomforestregressor__min_impurity_split', 'randomforestregressor__min_samples_leaf', 'randomforestregressor__min_samples_split', 'randomforestregressor__min_weight_fraction_leaf', 'randomforestregressor__n_estimators', 'randomforestregressor__n_jobs', 'randomforestregressor__oob_score', 'randomforestregressor__random_state', 'randomforestregressor__verbose', 'randomforestregressor__warm_start'])"
      ]
     },
     "execution_count": 93,
     "metadata": {},
     "output_type": "execute_result"
    }
   ],
   "source": [
    "# liste des paramètres de l'estimateur:\n",
    "pipe_randomforest.get_params().keys()"
   ]
  },
  {
   "cell_type": "code",
   "execution_count": 94,
   "metadata": {},
   "outputs": [
    {
     "data": {
      "text/plain": [
       "0.9119403954270331"
      ]
     },
     "execution_count": 94,
     "metadata": {},
     "output_type": "execute_result"
    }
   ],
   "source": [
    "# Cross validation avec: cross_val_score()\n",
    "cross_val_score(pipe_randomforest,X_train,y_train,cv=5,scoring='r2').mean()"
   ]
  },
  {
   "cell_type": "code",
   "execution_count": 95,
   "metadata": {},
   "outputs": [],
   "source": [
    "parameter= {'randomforestregressor__n_estimators': [100,200,300]}\n",
    "#Grille de recherche:\n",
    "grid_randomforest= GridSearchCV(pipe_randomforest, parameter, cv=5)"
   ]
  },
  {
   "cell_type": "code",
   "execution_count": 96,
   "metadata": {},
   "outputs": [
    {
     "data": {
      "text/plain": [
       "GridSearchCV(cv=5, error_score=nan,\n",
       "             estimator=Pipeline(memory=None,\n",
       "                                steps=[('columntransformer',\n",
       "                                        ColumnTransformer(n_jobs=None,\n",
       "                                                          remainder='drop',\n",
       "                                                          sparse_threshold=0.3,\n",
       "                                                          transformer_weights=None,\n",
       "                                                          transformers=[('onehotencoder',\n",
       "                                                                         OneHotEncoder(categories='auto',\n",
       "                                                                                       drop=None,\n",
       "                                                                                       dtype=<class 'numpy.float64'>,\n",
       "                                                                                       handle_unknown='ignore',\n",
       "                                                                                       sparse=True),\n",
       "                                                                         ['PrimaryPropertyType',\n",
       "                                                                          'N...\n",
       "                                                              min_samples_leaf=1,\n",
       "                                                              min_samples_split=2,\n",
       "                                                              min_weight_fraction_leaf=0.0,\n",
       "                                                              n_estimators=100,\n",
       "                                                              n_jobs=None,\n",
       "                                                              oob_score=False,\n",
       "                                                              random_state=None,\n",
       "                                                              verbose=0,\n",
       "                                                              warm_start=False))],\n",
       "                                verbose=False),\n",
       "             iid='deprecated', n_jobs=None,\n",
       "             param_grid={'randomforestregressor__n_estimators': [100, 200,\n",
       "                                                                 300]},\n",
       "             pre_dispatch='2*n_jobs', refit=True, return_train_score=False,\n",
       "             scoring=None, verbose=0)"
      ]
     },
     "execution_count": 96,
     "metadata": {},
     "output_type": "execute_result"
    }
   ],
   "source": [
    "grid_randomforest.fit(X_train,y_train)"
   ]
  },
  {
   "cell_type": "code",
   "execution_count": 97,
   "metadata": {},
   "outputs": [
    {
     "name": "stdout",
     "output_type": "stream",
     "text": [
      "0.91238750151379\n",
      "{'randomforestregressor__n_estimators': 200}\n"
     ]
    }
   ],
   "source": [
    "print(grid_randomforest.best_score_)\n",
    "print(grid_randomforest.best_params_)"
   ]
  },
  {
   "cell_type": "code",
   "execution_count": 98,
   "metadata": {},
   "outputs": [],
   "source": [
    "model_randomforest= grid_randomforest.best_estimator_"
   ]
  },
  {
   "cell_type": "code",
   "execution_count": 99,
   "metadata": {},
   "outputs": [
    {
     "data": {
      "text/plain": [
       "0.8464036058099518"
      ]
     },
     "execution_count": 99,
     "metadata": {},
     "output_type": "execute_result"
    }
   ],
   "source": [
    "model_randomforest.score(X_test,y_test)"
   ]
  },
  {
   "cell_type": "code",
   "execution_count": 100,
   "metadata": {},
   "outputs": [],
   "source": [
    "pred_randomforest= model_randomforest.predict(X_test)"
   ]
  },
  {
   "cell_type": "code",
   "execution_count": 101,
   "metadata": {},
   "outputs": [
    {
     "name": "stdout",
     "output_type": "stream",
     "text": [
      "RMSE : 2 094 371\n",
      "MSE : 4 386 388 343 407\n",
      "MAE : 634 145\n",
      "Median AE : 168 238\n",
      "R² : 0.846\n"
     ]
    },
    {
     "data": {
      "text/plain": [
       "[2094370.6318145231,\n",
       " 4386388343407.1646,\n",
       " 634144.7238203723,\n",
       " 168238.0731250001,\n",
       " 0.8464036058099518]"
      ]
     },
     "execution_count": 101,
     "metadata": {},
     "output_type": "execute_result"
    }
   ],
   "source": [
    "# Evaluation des métriques:\n",
    "compute_scores(y_test, pred_randomforest)"
   ]
  },
  {
   "cell_type": "code",
   "execution_count": 102,
   "metadata": {},
   "outputs": [
    {
     "data": {
      "image/png": "[encoded data removed]",
      "text/plain": [
       "<Figure size 432x288 with 1 Axes>"
      ]
     },
     "metadata": {
      "needs_background": "light"
     },
     "output_type": "display_data"
    }
   ],
   "source": [
    "fig, ax = plt.subplots()\n",
    "ax.scatter(y_test, pred_randomforest)\n",
    "ax.plot([y_test.min(), y_test.max()], [y_test.min(), y_test.max()], 'k--', lw=4)\n",
    "ax.set_xlabel('Measured')\n",
    "ax.set_ylabel('Predicted')\n",
    "plt.show()"
   ]
  },
  {
   "cell_type": "code",
   "execution_count": 103,
   "metadata": {},
   "outputs": [
    {
     "ename": "NameError",
     "evalue": "name 'stop' is not defined",
     "output_type": "error",
     "traceback": [
      "\u001b[1;31m---------------------------------------------------------------------------\u001b[0m",
      "\u001b[1;31mNameError\u001b[0m                                 Traceback (most recent call last)",
      "\u001b[1;32m<ipython-input-103-e2c9c290de89>\u001b[0m in \u001b[0;36m<module>\u001b[1;34m\u001b[0m\n\u001b[1;32m----> 1\u001b[1;33m \u001b[0mprint\u001b[0m\u001b[1;33m(\u001b[0m\u001b[0mstop\u001b[0m\u001b[1;33m)\u001b[0m\u001b[1;33m\u001b[0m\u001b[1;33m\u001b[0m\u001b[0m\n\u001b[0m",
      "\u001b[1;31mNameError\u001b[0m: name 'stop' is not defined"
     ]
    }
   ],
   "source": [
    "print(stop)"
   ]
  },
  {
   "cell_type": "markdown",
   "metadata": {},
   "source": [
    "##### Application du modèle: Decision Tree Regression with AdaBoost"
   ]
  },
  {
   "cell_type": "code",
   "execution_count": null,
   "metadata": {},
   "outputs": [],
   "source": [
    "adaboost= AdaBoostRegressor(DecisionTreeRegressor(max_depth=4), n_estimators=300)"
   ]
  },
  {
   "cell_type": "code",
   "execution_count": null,
   "metadata": {},
   "outputs": [],
   "source": [
    "# On crée le modèle à l'aide de pipeline\n",
    "pipe_adaboost= make_pipeline(column_trans, adaboost)"
   ]
  },
  {
   "cell_type": "code",
   "execution_count": null,
   "metadata": {},
   "outputs": [],
   "source": [
    "# liste des paramètres de l'estimateur:\n",
    "pipe_adaboost.get_params().keys()"
   ]
  },
  {
   "cell_type": "code",
   "execution_count": null,
   "metadata": {},
   "outputs": [],
   "source": [
    "# Cross validation avec: cross_val_score()\n",
    "cross_val_score(pipe_adaboost,X_train,y_train,cv=5,scoring='r2')"
   ]
  },
  {
   "cell_type": "code",
   "execution_count": null,
   "metadata": {},
   "outputs": [],
   "source": [
    "parameter= {'adaboostregressor__loss': ['linear', 'square', 'exponential'], \n",
    "           'adaboostregressor__base_estimator__max_depth':[4,6,8]\n",
    "           , 'adaboostregressor__n_estimators':[300,400,500]}\n",
    "#Grille de recherche:\n",
    "grid_adaboost= GridSearchCV(pipe_adaboost, parameter, cv=5)"
   ]
  },
  {
   "cell_type": "code",
   "execution_count": null,
   "metadata": {},
   "outputs": [],
   "source": [
    "grid_adaboost.fit(X_train,y_train)"
   ]
  },
  {
   "cell_type": "code",
   "execution_count": null,
   "metadata": {},
   "outputs": [],
   "source": [
    "print(grid_adaboost.best_score_)\n",
    "print(grid_adaboost.best_params_)"
   ]
  },
  {
   "cell_type": "code",
   "execution_count": null,
   "metadata": {},
   "outputs": [],
   "source": [
    "model_adaboost= grid_adaboost.best_estimator_"
   ]
  },
  {
   "cell_type": "code",
   "execution_count": null,
   "metadata": {},
   "outputs": [],
   "source": [
    "model_adaboost.score(X_test,y_test)"
   ]
  },
  {
   "cell_type": "code",
   "execution_count": null,
   "metadata": {},
   "outputs": [],
   "source": [
    "pred_adaboost= model_adaboost.predict(X_test)"
   ]
  },
  {
   "cell_type": "code",
   "execution_count": null,
   "metadata": {},
   "outputs": [],
   "source": [
    "r2_score(y_test, pred_adaboost)"
   ]
  },
  {
   "cell_type": "code",
   "execution_count": null,
   "metadata": {},
   "outputs": [],
   "source": [
    "print(stop)"
   ]
  },
  {
   "cell_type": "markdown",
   "metadata": {},
   "source": [
    "##### Intégration du feature (ENERGYSTARScore):"
   ]
  },
  {
   "cell_type": "code",
   "execution_count": null,
   "metadata": {},
   "outputs": [],
   "source": [
    "# Ajout du feature (ENERGYSTARScore):\n",
    "col_num= ['NumberofBuildings','NumberofFloors','PropertyGFAParking','BuildingAge','ENERGYSTARScore']"
   ]
  },
  {
   "cell_type": "code",
   "execution_count": null,
   "metadata": {},
   "outputs": [],
   "source": [
    "from sklearn.pipeline import Pipeline\n",
    "from sklearn.compose import ColumnTransformer\n",
    "\n",
    "numeric_transformer = Pipeline( steps=[(\"imputer\", SimpleImputer(strategy=\"median\")), (\"scaler\", StandardScaler())])\n",
    "categorical_transformer= OneHotEncoder(handle_unknown='ignore')\n",
    "                                       \n",
    "                                       \n",
    "ct = ColumnTransformer([(\"num\", numeric_transformer, col_num),(\"cat\", categorical_transformer, col_categ)])\n",
    "    "
   ]
  },
  {
   "cell_type": "markdown",
   "metadata": {},
   "source": [
    "##### Application du modèle Ridge Regression:"
   ]
  },
  {
   "cell_type": "code",
   "execution_count": null,
   "metadata": {},
   "outputs": [],
   "source": [
    "pipe= make_pipeline(ct,ridge)"
   ]
  },
  {
   "cell_type": "code",
   "execution_count": null,
   "metadata": {},
   "outputs": [],
   "source": [
    "cross_val_score(pipe,X_train,y_train,cv=5,scoring='r2')"
   ]
  },
  {
   "cell_type": "code",
   "execution_count": null,
   "metadata": {},
   "outputs": [],
   "source": [
    "# liste des paramètres de l'estimateur:\n",
    "pipe.get_params().keys()"
   ]
  },
  {
   "cell_type": "code",
   "execution_count": null,
   "metadata": {},
   "outputs": [],
   "source": [
    "# Définition des paramètres:\n",
    "#le paramètre alpha permet de corriger l'overfitting\n",
    "parameter= {'ridge__alpha': [5,10,15]}\n",
    "#Grille de recherche:\n",
    "grid= GridSearchCV(pipe ,parameter, cv=5,scoring='r2')"
   ]
  },
  {
   "cell_type": "code",
   "execution_count": null,
   "metadata": {},
   "outputs": [],
   "source": [
    "grid.fit(X_train,y_train)"
   ]
  },
  {
   "cell_type": "code",
   "execution_count": null,
   "metadata": {},
   "outputs": [],
   "source": [
    "print(grid.best_score_)\n",
    "print(grid.best_params_)"
   ]
  },
  {
   "cell_type": "code",
   "execution_count": null,
   "metadata": {},
   "outputs": [],
   "source": [
    "model_ridge= grid.best_estimator_"
   ]
  },
  {
   "cell_type": "code",
   "execution_count": null,
   "metadata": {},
   "outputs": [],
   "source": [
    "pred_ridge= model_ridge.predict(X_test)"
   ]
  },
  {
   "cell_type": "code",
   "execution_count": null,
   "metadata": {},
   "outputs": [],
   "source": [
    "# Evaluation des métriques:\n",
    "compute_scores(y_test, pred_ridge)"
   ]
  }
 ],
 "metadata": {
  "kernelspec": {
   "display_name": "Python 3",
   "language": "python",
   "name": "python3"
  },
  "language_info": {
   "codemirror_mode": {
    "name": "ipython",
    "version": 3
   },
   "file_extension": ".py",
   "mimetype": "text/x-python",
   "name": "python",
   "nbconvert_exporter": "python",
   "pygments_lexer": "ipython3",
   "version": "3.7.6"
  }
 },
 "nbformat": 4,
 "nbformat_minor": 4
}
