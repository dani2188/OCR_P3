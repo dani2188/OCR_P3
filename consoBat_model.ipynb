{
 "cells": [
  {
   "cell_type": "code",
   "execution_count": 1,
   "metadata": {},
   "outputs": [],
   "source": [
    "# Importation des bibliothèques nécessaires\n",
    "import pandas as pd\n",
    "import numpy as np\n",
    "import matplotlib.pyplot as plt\n",
    "import seaborn as sns"
   ]
  },
  {
   "cell_type": "code",
   "execution_count": 2,
   "metadata": {},
   "outputs": [],
   "source": [
    "## On charge notre dataframe nettoyé:\n",
    "df= pd.read_csv('consoBat_df9.csv')"
   ]
  },
  {
   "cell_type": "code",
   "execution_count": 3,
   "metadata": {},
   "outputs": [
    {
     "data": {
      "text/html": [
       "<div>\n",
       "<style scoped>\n",
       "    .dataframe tbody tr th:only-of-type {\n",
       "        vertical-align: middle;\n",
       "    }\n",
       "\n",
       "    .dataframe tbody tr th {\n",
       "        vertical-align: top;\n",
       "    }\n",
       "\n",
       "    .dataframe thead th {\n",
       "        text-align: right;\n",
       "    }\n",
       "</style>\n",
       "<table border=\"1\" class=\"dataframe\">\n",
       "  <thead>\n",
       "    <tr style=\"text-align: right;\">\n",
       "      <th></th>\n",
       "      <th>OSEBuildingID</th>\n",
       "      <th>BuildingType</th>\n",
       "      <th>PrimaryPropertyType</th>\n",
       "      <th>PropertyName</th>\n",
       "      <th>Address</th>\n",
       "      <th>City</th>\n",
       "      <th>State</th>\n",
       "      <th>ZipCode</th>\n",
       "      <th>TaxParcelIdentificationNumber</th>\n",
       "      <th>CouncilDistrictCode</th>\n",
       "      <th>...</th>\n",
       "      <th>SourceEUIWN(kBtu/sf)</th>\n",
       "      <th>SiteEnergyUseWN(kBtu)</th>\n",
       "      <th>SteamUse(kBtu)</th>\n",
       "      <th>Electricity(kBtu)</th>\n",
       "      <th>NaturalGas(kBtu)</th>\n",
       "      <th>DefaultData</th>\n",
       "      <th>ComplianceStatus</th>\n",
       "      <th>TotalGHGEmissions</th>\n",
       "      <th>GHGEmissionsIntensity</th>\n",
       "      <th>BuildingAge</th>\n",
       "    </tr>\n",
       "  </thead>\n",
       "  <tbody>\n",
       "    <tr>\n",
       "      <th>0</th>\n",
       "      <td>1</td>\n",
       "      <td>NonResidential</td>\n",
       "      <td>Hotel</td>\n",
       "      <td>Mayflower park hotel</td>\n",
       "      <td>405 Olive way</td>\n",
       "      <td>Seattle</td>\n",
       "      <td>WA</td>\n",
       "      <td>98101.0</td>\n",
       "      <td>0659000030</td>\n",
       "      <td>7</td>\n",
       "      <td>...</td>\n",
       "      <td>189.000000</td>\n",
       "      <td>7456910.0</td>\n",
       "      <td>2003882.00</td>\n",
       "      <td>3946027.0</td>\n",
       "      <td>1276453.0</td>\n",
       "      <td>False</td>\n",
       "      <td>Compliant</td>\n",
       "      <td>249.98</td>\n",
       "      <td>2.83</td>\n",
       "      <td>89</td>\n",
       "    </tr>\n",
       "    <tr>\n",
       "      <th>1</th>\n",
       "      <td>2</td>\n",
       "      <td>NonResidential</td>\n",
       "      <td>Hotel</td>\n",
       "      <td>Paramount Hotel</td>\n",
       "      <td>724 Pine street</td>\n",
       "      <td>Seattle</td>\n",
       "      <td>WA</td>\n",
       "      <td>98101.0</td>\n",
       "      <td>0659000220</td>\n",
       "      <td>7</td>\n",
       "      <td>...</td>\n",
       "      <td>179.399994</td>\n",
       "      <td>8664479.0</td>\n",
       "      <td>0.00</td>\n",
       "      <td>3242851.0</td>\n",
       "      <td>5145082.0</td>\n",
       "      <td>False</td>\n",
       "      <td>Compliant</td>\n",
       "      <td>295.86</td>\n",
       "      <td>2.86</td>\n",
       "      <td>20</td>\n",
       "    </tr>\n",
       "    <tr>\n",
       "      <th>2</th>\n",
       "      <td>5</td>\n",
       "      <td>NonResidential</td>\n",
       "      <td>Hotel</td>\n",
       "      <td>HOTEL MAX</td>\n",
       "      <td>620 STEWART ST</td>\n",
       "      <td>Seattle</td>\n",
       "      <td>WA</td>\n",
       "      <td>98101.0</td>\n",
       "      <td>0659000640</td>\n",
       "      <td>7</td>\n",
       "      <td>...</td>\n",
       "      <td>224.000000</td>\n",
       "      <td>6946800.5</td>\n",
       "      <td>2214446.25</td>\n",
       "      <td>2768924.0</td>\n",
       "      <td>1811213.0</td>\n",
       "      <td>False</td>\n",
       "      <td>Compliant</td>\n",
       "      <td>286.43</td>\n",
       "      <td>4.67</td>\n",
       "      <td>90</td>\n",
       "    </tr>\n",
       "    <tr>\n",
       "      <th>3</th>\n",
       "      <td>10</td>\n",
       "      <td>NonResidential</td>\n",
       "      <td>Hotel</td>\n",
       "      <td>Camlin</td>\n",
       "      <td>1619 9th Avenue</td>\n",
       "      <td>Seattle</td>\n",
       "      <td>WA</td>\n",
       "      <td>98101.0</td>\n",
       "      <td>0660000825</td>\n",
       "      <td>7</td>\n",
       "      <td>...</td>\n",
       "      <td>154.699997</td>\n",
       "      <td>6062767.5</td>\n",
       "      <td>0.00</td>\n",
       "      <td>2811215.0</td>\n",
       "      <td>2947580.0</td>\n",
       "      <td>False</td>\n",
       "      <td>Compliant</td>\n",
       "      <td>176.14</td>\n",
       "      <td>2.12</td>\n",
       "      <td>90</td>\n",
       "    </tr>\n",
       "    <tr>\n",
       "      <th>4</th>\n",
       "      <td>11</td>\n",
       "      <td>NonResidential</td>\n",
       "      <td>Other</td>\n",
       "      <td>Paramount Theatre</td>\n",
       "      <td>911 Pine St</td>\n",
       "      <td>Seattle</td>\n",
       "      <td>WA</td>\n",
       "      <td>98101.0</td>\n",
       "      <td>0660000955</td>\n",
       "      <td>7</td>\n",
       "      <td>...</td>\n",
       "      <td>152.300003</td>\n",
       "      <td>7067881.5</td>\n",
       "      <td>2276286.50</td>\n",
       "      <td>3636655.0</td>\n",
       "      <td>385189.0</td>\n",
       "      <td>False</td>\n",
       "      <td>Compliant</td>\n",
       "      <td>221.51</td>\n",
       "      <td>2.16</td>\n",
       "      <td>90</td>\n",
       "    </tr>\n",
       "  </tbody>\n",
       "</table>\n",
       "<p>5 rows × 35 columns</p>\n",
       "</div>"
      ],
      "text/plain": [
       "   OSEBuildingID    BuildingType PrimaryPropertyType          PropertyName  \\\n",
       "0              1  NonResidential               Hotel  Mayflower park hotel   \n",
       "1              2  NonResidential               Hotel       Paramount Hotel   \n",
       "2              5  NonResidential               Hotel             HOTEL MAX   \n",
       "3             10  NonResidential               Hotel                Camlin   \n",
       "4             11  NonResidential               Other     Paramount Theatre   \n",
       "\n",
       "           Address     City State  ZipCode TaxParcelIdentificationNumber  \\\n",
       "0    405 Olive way  Seattle    WA  98101.0                    0659000030   \n",
       "1  724 Pine street  Seattle    WA  98101.0                    0659000220   \n",
       "2   620 STEWART ST  Seattle    WA  98101.0                    0659000640   \n",
       "3  1619 9th Avenue  Seattle    WA  98101.0                    0660000825   \n",
       "4      911 Pine St  Seattle    WA  98101.0                    0660000955   \n",
       "\n",
       "   CouncilDistrictCode  ... SourceEUIWN(kBtu/sf)  SiteEnergyUseWN(kBtu)  \\\n",
       "0                    7  ...           189.000000              7456910.0   \n",
       "1                    7  ...           179.399994              8664479.0   \n",
       "2                    7  ...           224.000000              6946800.5   \n",
       "3                    7  ...           154.699997              6062767.5   \n",
       "4                    7  ...           152.300003              7067881.5   \n",
       "\n",
       "   SteamUse(kBtu)  Electricity(kBtu)  NaturalGas(kBtu)  DefaultData  \\\n",
       "0      2003882.00          3946027.0         1276453.0        False   \n",
       "1            0.00          3242851.0         5145082.0        False   \n",
       "2      2214446.25          2768924.0         1811213.0        False   \n",
       "3            0.00          2811215.0         2947580.0        False   \n",
       "4      2276286.50          3636655.0          385189.0        False   \n",
       "\n",
       "   ComplianceStatus  TotalGHGEmissions GHGEmissionsIntensity BuildingAge  \n",
       "0         Compliant             249.98                  2.83          89  \n",
       "1         Compliant             295.86                  2.86          20  \n",
       "2         Compliant             286.43                  4.67          90  \n",
       "3         Compliant             176.14                  2.12          90  \n",
       "4         Compliant             221.51                  2.16          90  \n",
       "\n",
       "[5 rows x 35 columns]"
      ]
     },
     "execution_count": 3,
     "metadata": {},
     "output_type": "execute_result"
    }
   ],
   "source": [
    "df.head()"
   ]
  },
  {
   "cell_type": "code",
   "execution_count": 4,
   "metadata": {},
   "outputs": [
    {
     "name": "stdout",
     "output_type": "stream",
     "text": [
      "<class 'pandas.core.frame.DataFrame'>\n",
      "RangeIndex: 1292 entries, 0 to 1291\n",
      "Data columns (total 35 columns):\n",
      " #   Column                           Non-Null Count  Dtype  \n",
      "---  ------                           --------------  -----  \n",
      " 0   OSEBuildingID                    1292 non-null   int64  \n",
      " 1   BuildingType                     1292 non-null   object \n",
      " 2   PrimaryPropertyType              1292 non-null   object \n",
      " 3   PropertyName                     1292 non-null   object \n",
      " 4   Address                          1292 non-null   object \n",
      " 5   City                             1292 non-null   object \n",
      " 6   State                            1292 non-null   object \n",
      " 7   ZipCode                          1292 non-null   float64\n",
      " 8   TaxParcelIdentificationNumber    1292 non-null   object \n",
      " 9   CouncilDistrictCode              1292 non-null   int64  \n",
      " 10  Neighborhood                     1292 non-null   object \n",
      " 11  Latitude                         1292 non-null   float64\n",
      " 12  Longitude                        1292 non-null   float64\n",
      " 13  NumberofBuildings                1292 non-null   float64\n",
      " 14  NumberofFloors                   1292 non-null   int64  \n",
      " 15  PropertyGFATotal                 1292 non-null   int64  \n",
      " 16  PropertyGFAParking               1292 non-null   int64  \n",
      " 17  PropertyGFABuilding(s)           1292 non-null   int64  \n",
      " 18  ListOfAllPropertyUseTypes        1292 non-null   object \n",
      " 19  LargestPropertyUseType           1288 non-null   object \n",
      " 20  LargestPropertyUseTypeGFA        1288 non-null   float64\n",
      " 21  SecondLargestPropertyUseType     682 non-null    object \n",
      " 22  SecondLargestPropertyUseTypeGFA  682 non-null    float64\n",
      " 23  ENERGYSTARScore                  887 non-null    float64\n",
      " 24  SiteEUIWN(kBtu/sf)               1292 non-null   float64\n",
      " 25  SourceEUIWN(kBtu/sf)             1292 non-null   float64\n",
      " 26  SiteEnergyUseWN(kBtu)            1292 non-null   float64\n",
      " 27  SteamUse(kBtu)                   1292 non-null   float64\n",
      " 28  Electricity(kBtu)                1292 non-null   float64\n",
      " 29  NaturalGas(kBtu)                 1292 non-null   float64\n",
      " 30  DefaultData                      1292 non-null   bool   \n",
      " 31  ComplianceStatus                 1292 non-null   object \n",
      " 32  TotalGHGEmissions                1292 non-null   float64\n",
      " 33  GHGEmissionsIntensity            1292 non-null   float64\n",
      " 34  BuildingAge                      1292 non-null   int64  \n",
      "dtypes: bool(1), float64(15), int64(7), object(12)\n",
      "memory usage: 344.6+ KB\n"
     ]
    }
   ],
   "source": [
    "df.info()"
   ]
  },
  {
   "cell_type": "code",
   "execution_count": 5,
   "metadata": {},
   "outputs": [],
   "source": [
    "# On sépare les variables numériques des variables catégorielles:\n",
    "var_num= df.select_dtypes(include=['int64','float64'])\n",
    "var_categ= df.select_dtypes(exclude=['int64','float64','bool']) "
   ]
  },
  {
   "cell_type": "code",
   "execution_count": 6,
   "metadata": {},
   "outputs": [
    {
     "data": {
      "text/html": [
       "<div>\n",
       "<style scoped>\n",
       "    .dataframe tbody tr th:only-of-type {\n",
       "        vertical-align: middle;\n",
       "    }\n",
       "\n",
       "    .dataframe tbody tr th {\n",
       "        vertical-align: top;\n",
       "    }\n",
       "\n",
       "    .dataframe thead th {\n",
       "        text-align: right;\n",
       "    }\n",
       "</style>\n",
       "<table border=\"1\" class=\"dataframe\">\n",
       "  <thead>\n",
       "    <tr style=\"text-align: right;\">\n",
       "      <th></th>\n",
       "      <th>BuildingType</th>\n",
       "      <th>PrimaryPropertyType</th>\n",
       "      <th>PropertyName</th>\n",
       "      <th>Address</th>\n",
       "      <th>City</th>\n",
       "      <th>State</th>\n",
       "      <th>TaxParcelIdentificationNumber</th>\n",
       "      <th>Neighborhood</th>\n",
       "      <th>ListOfAllPropertyUseTypes</th>\n",
       "      <th>LargestPropertyUseType</th>\n",
       "      <th>SecondLargestPropertyUseType</th>\n",
       "      <th>ComplianceStatus</th>\n",
       "    </tr>\n",
       "  </thead>\n",
       "  <tbody>\n",
       "    <tr>\n",
       "      <th>0</th>\n",
       "      <td>NonResidential</td>\n",
       "      <td>Hotel</td>\n",
       "      <td>Mayflower park hotel</td>\n",
       "      <td>405 Olive way</td>\n",
       "      <td>Seattle</td>\n",
       "      <td>WA</td>\n",
       "      <td>0659000030</td>\n",
       "      <td>DOWNTOWN</td>\n",
       "      <td>Hotel</td>\n",
       "      <td>Hotel</td>\n",
       "      <td>NaN</td>\n",
       "      <td>Compliant</td>\n",
       "    </tr>\n",
       "    <tr>\n",
       "      <th>1</th>\n",
       "      <td>NonResidential</td>\n",
       "      <td>Hotel</td>\n",
       "      <td>Paramount Hotel</td>\n",
       "      <td>724 Pine street</td>\n",
       "      <td>Seattle</td>\n",
       "      <td>WA</td>\n",
       "      <td>0659000220</td>\n",
       "      <td>DOWNTOWN</td>\n",
       "      <td>Hotel, Parking, Restaurant</td>\n",
       "      <td>Hotel</td>\n",
       "      <td>Parking</td>\n",
       "      <td>Compliant</td>\n",
       "    </tr>\n",
       "    <tr>\n",
       "      <th>2</th>\n",
       "      <td>NonResidential</td>\n",
       "      <td>Hotel</td>\n",
       "      <td>HOTEL MAX</td>\n",
       "      <td>620 STEWART ST</td>\n",
       "      <td>Seattle</td>\n",
       "      <td>WA</td>\n",
       "      <td>0659000640</td>\n",
       "      <td>DOWNTOWN</td>\n",
       "      <td>Hotel</td>\n",
       "      <td>Hotel</td>\n",
       "      <td>NaN</td>\n",
       "      <td>Compliant</td>\n",
       "    </tr>\n",
       "    <tr>\n",
       "      <th>3</th>\n",
       "      <td>NonResidential</td>\n",
       "      <td>Hotel</td>\n",
       "      <td>Camlin</td>\n",
       "      <td>1619 9th Avenue</td>\n",
       "      <td>Seattle</td>\n",
       "      <td>WA</td>\n",
       "      <td>0660000825</td>\n",
       "      <td>DOWNTOWN</td>\n",
       "      <td>Hotel</td>\n",
       "      <td>Hotel</td>\n",
       "      <td>NaN</td>\n",
       "      <td>Compliant</td>\n",
       "    </tr>\n",
       "    <tr>\n",
       "      <th>4</th>\n",
       "      <td>NonResidential</td>\n",
       "      <td>Other</td>\n",
       "      <td>Paramount Theatre</td>\n",
       "      <td>911 Pine St</td>\n",
       "      <td>Seattle</td>\n",
       "      <td>WA</td>\n",
       "      <td>0660000955</td>\n",
       "      <td>DOWNTOWN</td>\n",
       "      <td>Other - Entertainment/Public Assembly</td>\n",
       "      <td>Other - Entertainment/Public Assembly</td>\n",
       "      <td>NaN</td>\n",
       "      <td>Compliant</td>\n",
       "    </tr>\n",
       "  </tbody>\n",
       "</table>\n",
       "</div>"
      ],
      "text/plain": [
       "     BuildingType PrimaryPropertyType          PropertyName          Address  \\\n",
       "0  NonResidential               Hotel  Mayflower park hotel    405 Olive way   \n",
       "1  NonResidential               Hotel       Paramount Hotel  724 Pine street   \n",
       "2  NonResidential               Hotel             HOTEL MAX   620 STEWART ST   \n",
       "3  NonResidential               Hotel                Camlin  1619 9th Avenue   \n",
       "4  NonResidential               Other     Paramount Theatre      911 Pine St   \n",
       "\n",
       "      City State TaxParcelIdentificationNumber Neighborhood  \\\n",
       "0  Seattle    WA                    0659000030     DOWNTOWN   \n",
       "1  Seattle    WA                    0659000220     DOWNTOWN   \n",
       "2  Seattle    WA                    0659000640     DOWNTOWN   \n",
       "3  Seattle    WA                    0660000825     DOWNTOWN   \n",
       "4  Seattle    WA                    0660000955     DOWNTOWN   \n",
       "\n",
       "               ListOfAllPropertyUseTypes  \\\n",
       "0                                  Hotel   \n",
       "1             Hotel, Parking, Restaurant   \n",
       "2                                  Hotel   \n",
       "3                                  Hotel   \n",
       "4  Other - Entertainment/Public Assembly   \n",
       "\n",
       "                  LargestPropertyUseType SecondLargestPropertyUseType  \\\n",
       "0                                  Hotel                          NaN   \n",
       "1                                  Hotel                      Parking   \n",
       "2                                  Hotel                          NaN   \n",
       "3                                  Hotel                          NaN   \n",
       "4  Other - Entertainment/Public Assembly                          NaN   \n",
       "\n",
       "  ComplianceStatus  \n",
       "0        Compliant  \n",
       "1        Compliant  \n",
       "2        Compliant  \n",
       "3        Compliant  \n",
       "4        Compliant  "
      ]
     },
     "execution_count": 6,
     "metadata": {},
     "output_type": "execute_result"
    }
   ],
   "source": [
    "var_categ.head()"
   ]
  },
  {
   "cell_type": "code",
   "execution_count": 7,
   "metadata": {},
   "outputs": [
    {
     "data": {
      "text/plain": [
       "BuildingType                        1\n",
       "PrimaryPropertyType                21\n",
       "PropertyName                     1289\n",
       "Address                          1279\n",
       "City                                1\n",
       "State                               1\n",
       "TaxParcelIdentificationNumber    1241\n",
       "Neighborhood                       18\n",
       "ListOfAllPropertyUseTypes         284\n",
       "LargestPropertyUseType             50\n",
       "SecondLargestPropertyUseType       43\n",
       "ComplianceStatus                    4\n",
       "dtype: int64"
      ]
     },
     "execution_count": 7,
     "metadata": {},
     "output_type": "execute_result"
    }
   ],
   "source": [
    "var_categ.nunique()"
   ]
  },
  {
   "cell_type": "markdown",
   "metadata": {},
   "source": [
    "On écarte les variables catégorielles qui représentent des constantes:"
   ]
  },
  {
   "cell_type": "code",
   "execution_count": 8,
   "metadata": {},
   "outputs": [],
   "source": [
    "var_categ= var_categ.drop(['BuildingType','City','State'],axis=1)"
   ]
  },
  {
   "cell_type": "markdown",
   "metadata": {},
   "source": [
    "On écarte les variables catégorielles ayant des valeurs manquantes:"
   ]
  },
  {
   "cell_type": "code",
   "execution_count": 9,
   "metadata": {},
   "outputs": [],
   "source": [
    "var_categ= var_categ.drop(['SecondLargestPropertyUseType','LargestPropertyUseType'],axis=1)"
   ]
  },
  {
   "cell_type": "code",
   "execution_count": 10,
   "metadata": {},
   "outputs": [
    {
     "data": {
      "text/html": [
       "<div>\n",
       "<style scoped>\n",
       "    .dataframe tbody tr th:only-of-type {\n",
       "        vertical-align: middle;\n",
       "    }\n",
       "\n",
       "    .dataframe tbody tr th {\n",
       "        vertical-align: top;\n",
       "    }\n",
       "\n",
       "    .dataframe thead th {\n",
       "        text-align: right;\n",
       "    }\n",
       "</style>\n",
       "<table border=\"1\" class=\"dataframe\">\n",
       "  <thead>\n",
       "    <tr style=\"text-align: right;\">\n",
       "      <th></th>\n",
       "      <th>PrimaryPropertyType</th>\n",
       "      <th>PropertyName</th>\n",
       "      <th>Address</th>\n",
       "      <th>TaxParcelIdentificationNumber</th>\n",
       "      <th>Neighborhood</th>\n",
       "      <th>ListOfAllPropertyUseTypes</th>\n",
       "      <th>ComplianceStatus</th>\n",
       "    </tr>\n",
       "  </thead>\n",
       "  <tbody>\n",
       "    <tr>\n",
       "      <th>0</th>\n",
       "      <td>Hotel</td>\n",
       "      <td>Mayflower park hotel</td>\n",
       "      <td>405 Olive way</td>\n",
       "      <td>0659000030</td>\n",
       "      <td>DOWNTOWN</td>\n",
       "      <td>Hotel</td>\n",
       "      <td>Compliant</td>\n",
       "    </tr>\n",
       "    <tr>\n",
       "      <th>1</th>\n",
       "      <td>Hotel</td>\n",
       "      <td>Paramount Hotel</td>\n",
       "      <td>724 Pine street</td>\n",
       "      <td>0659000220</td>\n",
       "      <td>DOWNTOWN</td>\n",
       "      <td>Hotel, Parking, Restaurant</td>\n",
       "      <td>Compliant</td>\n",
       "    </tr>\n",
       "    <tr>\n",
       "      <th>2</th>\n",
       "      <td>Hotel</td>\n",
       "      <td>HOTEL MAX</td>\n",
       "      <td>620 STEWART ST</td>\n",
       "      <td>0659000640</td>\n",
       "      <td>DOWNTOWN</td>\n",
       "      <td>Hotel</td>\n",
       "      <td>Compliant</td>\n",
       "    </tr>\n",
       "    <tr>\n",
       "      <th>3</th>\n",
       "      <td>Hotel</td>\n",
       "      <td>Camlin</td>\n",
       "      <td>1619 9th Avenue</td>\n",
       "      <td>0660000825</td>\n",
       "      <td>DOWNTOWN</td>\n",
       "      <td>Hotel</td>\n",
       "      <td>Compliant</td>\n",
       "    </tr>\n",
       "    <tr>\n",
       "      <th>4</th>\n",
       "      <td>Other</td>\n",
       "      <td>Paramount Theatre</td>\n",
       "      <td>911 Pine St</td>\n",
       "      <td>0660000955</td>\n",
       "      <td>DOWNTOWN</td>\n",
       "      <td>Other - Entertainment/Public Assembly</td>\n",
       "      <td>Compliant</td>\n",
       "    </tr>\n",
       "  </tbody>\n",
       "</table>\n",
       "</div>"
      ],
      "text/plain": [
       "  PrimaryPropertyType          PropertyName          Address  \\\n",
       "0               Hotel  Mayflower park hotel    405 Olive way   \n",
       "1               Hotel       Paramount Hotel  724 Pine street   \n",
       "2               Hotel             HOTEL MAX   620 STEWART ST   \n",
       "3               Hotel                Camlin  1619 9th Avenue   \n",
       "4               Other     Paramount Theatre      911 Pine St   \n",
       "\n",
       "  TaxParcelIdentificationNumber Neighborhood  \\\n",
       "0                    0659000030     DOWNTOWN   \n",
       "1                    0659000220     DOWNTOWN   \n",
       "2                    0659000640     DOWNTOWN   \n",
       "3                    0660000825     DOWNTOWN   \n",
       "4                    0660000955     DOWNTOWN   \n",
       "\n",
       "               ListOfAllPropertyUseTypes ComplianceStatus  \n",
       "0                                  Hotel        Compliant  \n",
       "1             Hotel, Parking, Restaurant        Compliant  \n",
       "2                                  Hotel        Compliant  \n",
       "3                                  Hotel        Compliant  \n",
       "4  Other - Entertainment/Public Assembly        Compliant  "
      ]
     },
     "execution_count": 10,
     "metadata": {},
     "output_type": "execute_result"
    }
   ],
   "source": [
    "var_categ.head()"
   ]
  },
  {
   "cell_type": "code",
   "execution_count": 11,
   "metadata": {},
   "outputs": [],
   "source": [
    "#Sélection des variables catégorielles pour le OneHotEncoder:\n",
    "var_categ1= var_categ.drop(['PropertyName','Address','TaxParcelIdentificationNumber','ListOfAllPropertyUseTypes'],axis=1)"
   ]
  },
  {
   "cell_type": "code",
   "execution_count": 12,
   "metadata": {},
   "outputs": [
    {
     "data": {
      "text/plain": [
       "Index(['PrimaryPropertyType', 'Neighborhood', 'ComplianceStatus'], dtype='object')"
      ]
     },
     "execution_count": 12,
     "metadata": {},
     "output_type": "execute_result"
    }
   ],
   "source": [
    "var_categ1.columns"
   ]
  },
  {
   "cell_type": "markdown",
   "metadata": {},
   "source": [
    "On s'intéresse maintenant aux variables numériques:"
   ]
  },
  {
   "cell_type": "code",
   "execution_count": 13,
   "metadata": {},
   "outputs": [
    {
     "data": {
      "text/plain": [
       "Index(['OSEBuildingID', 'ZipCode', 'CouncilDistrictCode', 'Latitude',\n",
       "       'Longitude', 'NumberofBuildings', 'NumberofFloors', 'PropertyGFATotal',\n",
       "       'PropertyGFAParking', 'PropertyGFABuilding(s)',\n",
       "       'LargestPropertyUseTypeGFA', 'SecondLargestPropertyUseTypeGFA',\n",
       "       'ENERGYSTARScore', 'SiteEUIWN(kBtu/sf)', 'SourceEUIWN(kBtu/sf)',\n",
       "       'SiteEnergyUseWN(kBtu)', 'SteamUse(kBtu)', 'Electricity(kBtu)',\n",
       "       'NaturalGas(kBtu)', 'TotalGHGEmissions', 'GHGEmissionsIntensity',\n",
       "       'BuildingAge'],\n",
       "      dtype='object')"
      ]
     },
     "execution_count": 13,
     "metadata": {},
     "output_type": "execute_result"
    }
   ],
   "source": [
    "var_num.columns"
   ]
  },
  {
   "cell_type": "markdown",
   "metadata": {},
   "source": [
    "On écarte les variables numériques ayant des valeurs manquantes:"
   ]
  },
  {
   "cell_type": "code",
   "execution_count": 14,
   "metadata": {},
   "outputs": [],
   "source": [
    "var_num= var_num.drop(['LargestPropertyUseTypeGFA','SecondLargestPropertyUseTypeGFA','ENERGYSTARScore'],axis=1)"
   ]
  },
  {
   "cell_type": "markdown",
   "metadata": {},
   "source": [
    "Dans cette partie de modélisation, on séléctionne les varaibles targets: (TotalGHGEmissions) et (SiteEnergyUseWN(kBtu) au lieu de (GHGEmissionsIntensity) et (SiteEUIWN(kBtu/sf)) qui prennent pas en compte la surface du site.  "
   ]
  },
  {
   "cell_type": "code",
   "execution_count": 15,
   "metadata": {},
   "outputs": [],
   "source": [
    "var_num= var_num.drop(['GHGEmissionsIntensity','SiteEUIWN(kBtu/sf)'],axis=1)"
   ]
  },
  {
   "cell_type": "markdown",
   "metadata": {},
   "source": [
    "On écarte d'autres variables non pertinentes pour notre 1er modèle:"
   ]
  },
  {
   "cell_type": "code",
   "execution_count": 16,
   "metadata": {},
   "outputs": [],
   "source": [
    "var_num= var_num.drop(['OSEBuildingID','ZipCode','CouncilDistrictCode','Latitude','Longitude'],axis=1)"
   ]
  },
  {
   "cell_type": "code",
   "execution_count": 17,
   "metadata": {},
   "outputs": [],
   "source": [
    "df_filter1= pd.concat([var_categ1, var_num], axis=1)"
   ]
  },
  {
   "cell_type": "code",
   "execution_count": 18,
   "metadata": {},
   "outputs": [
    {
     "data": {
      "text/html": [
       "<div>\n",
       "<style scoped>\n",
       "    .dataframe tbody tr th:only-of-type {\n",
       "        vertical-align: middle;\n",
       "    }\n",
       "\n",
       "    .dataframe tbody tr th {\n",
       "        vertical-align: top;\n",
       "    }\n",
       "\n",
       "    .dataframe thead th {\n",
       "        text-align: right;\n",
       "    }\n",
       "</style>\n",
       "<table border=\"1\" class=\"dataframe\">\n",
       "  <thead>\n",
       "    <tr style=\"text-align: right;\">\n",
       "      <th></th>\n",
       "      <th>PrimaryPropertyType</th>\n",
       "      <th>Neighborhood</th>\n",
       "      <th>ComplianceStatus</th>\n",
       "      <th>NumberofBuildings</th>\n",
       "      <th>NumberofFloors</th>\n",
       "      <th>PropertyGFATotal</th>\n",
       "      <th>PropertyGFAParking</th>\n",
       "      <th>PropertyGFABuilding(s)</th>\n",
       "      <th>SourceEUIWN(kBtu/sf)</th>\n",
       "      <th>SiteEnergyUseWN(kBtu)</th>\n",
       "      <th>SteamUse(kBtu)</th>\n",
       "      <th>Electricity(kBtu)</th>\n",
       "      <th>NaturalGas(kBtu)</th>\n",
       "      <th>TotalGHGEmissions</th>\n",
       "      <th>BuildingAge</th>\n",
       "    </tr>\n",
       "  </thead>\n",
       "  <tbody>\n",
       "    <tr>\n",
       "      <th>0</th>\n",
       "      <td>Hotel</td>\n",
       "      <td>DOWNTOWN</td>\n",
       "      <td>Compliant</td>\n",
       "      <td>1.0</td>\n",
       "      <td>12</td>\n",
       "      <td>88434</td>\n",
       "      <td>0</td>\n",
       "      <td>88434</td>\n",
       "      <td>189.000000</td>\n",
       "      <td>7456910.0</td>\n",
       "      <td>2003882.00</td>\n",
       "      <td>3946027.0</td>\n",
       "      <td>1276453.0</td>\n",
       "      <td>249.98</td>\n",
       "      <td>89</td>\n",
       "    </tr>\n",
       "    <tr>\n",
       "      <th>1</th>\n",
       "      <td>Hotel</td>\n",
       "      <td>DOWNTOWN</td>\n",
       "      <td>Compliant</td>\n",
       "      <td>1.0</td>\n",
       "      <td>11</td>\n",
       "      <td>103566</td>\n",
       "      <td>15064</td>\n",
       "      <td>88502</td>\n",
       "      <td>179.399994</td>\n",
       "      <td>8664479.0</td>\n",
       "      <td>0.00</td>\n",
       "      <td>3242851.0</td>\n",
       "      <td>5145082.0</td>\n",
       "      <td>295.86</td>\n",
       "      <td>20</td>\n",
       "    </tr>\n",
       "    <tr>\n",
       "      <th>2</th>\n",
       "      <td>Hotel</td>\n",
       "      <td>DOWNTOWN</td>\n",
       "      <td>Compliant</td>\n",
       "      <td>1.0</td>\n",
       "      <td>10</td>\n",
       "      <td>61320</td>\n",
       "      <td>0</td>\n",
       "      <td>61320</td>\n",
       "      <td>224.000000</td>\n",
       "      <td>6946800.5</td>\n",
       "      <td>2214446.25</td>\n",
       "      <td>2768924.0</td>\n",
       "      <td>1811213.0</td>\n",
       "      <td>286.43</td>\n",
       "      <td>90</td>\n",
       "    </tr>\n",
       "    <tr>\n",
       "      <th>3</th>\n",
       "      <td>Hotel</td>\n",
       "      <td>DOWNTOWN</td>\n",
       "      <td>Compliant</td>\n",
       "      <td>1.0</td>\n",
       "      <td>11</td>\n",
       "      <td>83008</td>\n",
       "      <td>0</td>\n",
       "      <td>83008</td>\n",
       "      <td>154.699997</td>\n",
       "      <td>6062767.5</td>\n",
       "      <td>0.00</td>\n",
       "      <td>2811215.0</td>\n",
       "      <td>2947580.0</td>\n",
       "      <td>176.14</td>\n",
       "      <td>90</td>\n",
       "    </tr>\n",
       "    <tr>\n",
       "      <th>4</th>\n",
       "      <td>Other</td>\n",
       "      <td>DOWNTOWN</td>\n",
       "      <td>Compliant</td>\n",
       "      <td>1.0</td>\n",
       "      <td>8</td>\n",
       "      <td>102761</td>\n",
       "      <td>0</td>\n",
       "      <td>102761</td>\n",
       "      <td>152.300003</td>\n",
       "      <td>7067881.5</td>\n",
       "      <td>2276286.50</td>\n",
       "      <td>3636655.0</td>\n",
       "      <td>385189.0</td>\n",
       "      <td>221.51</td>\n",
       "      <td>90</td>\n",
       "    </tr>\n",
       "  </tbody>\n",
       "</table>\n",
       "</div>"
      ],
      "text/plain": [
       "  PrimaryPropertyType Neighborhood ComplianceStatus  NumberofBuildings  \\\n",
       "0               Hotel     DOWNTOWN        Compliant                1.0   \n",
       "1               Hotel     DOWNTOWN        Compliant                1.0   \n",
       "2               Hotel     DOWNTOWN        Compliant                1.0   \n",
       "3               Hotel     DOWNTOWN        Compliant                1.0   \n",
       "4               Other     DOWNTOWN        Compliant                1.0   \n",
       "\n",
       "   NumberofFloors  PropertyGFATotal  PropertyGFAParking  \\\n",
       "0              12             88434                   0   \n",
       "1              11            103566               15064   \n",
       "2              10             61320                   0   \n",
       "3              11             83008                   0   \n",
       "4               8            102761                   0   \n",
       "\n",
       "   PropertyGFABuilding(s)  SourceEUIWN(kBtu/sf)  SiteEnergyUseWN(kBtu)  \\\n",
       "0                   88434            189.000000              7456910.0   \n",
       "1                   88502            179.399994              8664479.0   \n",
       "2                   61320            224.000000              6946800.5   \n",
       "3                   83008            154.699997              6062767.5   \n",
       "4                  102761            152.300003              7067881.5   \n",
       "\n",
       "   SteamUse(kBtu)  Electricity(kBtu)  NaturalGas(kBtu)  TotalGHGEmissions  \\\n",
       "0      2003882.00          3946027.0         1276453.0             249.98   \n",
       "1            0.00          3242851.0         5145082.0             295.86   \n",
       "2      2214446.25          2768924.0         1811213.0             286.43   \n",
       "3            0.00          2811215.0         2947580.0             176.14   \n",
       "4      2276286.50          3636655.0          385189.0             221.51   \n",
       "\n",
       "   BuildingAge  \n",
       "0           89  \n",
       "1           20  \n",
       "2           90  \n",
       "3           90  \n",
       "4           90  "
      ]
     },
     "execution_count": 18,
     "metadata": {},
     "output_type": "execute_result"
    }
   ],
   "source": [
    "df_filter1.head()"
   ]
  },
  {
   "cell_type": "code",
   "execution_count": 19,
   "metadata": {},
   "outputs": [
    {
     "name": "stdout",
     "output_type": "stream",
     "text": [
      "<class 'pandas.core.frame.DataFrame'>\n",
      "RangeIndex: 1292 entries, 0 to 1291\n",
      "Data columns (total 15 columns):\n",
      " #   Column                  Non-Null Count  Dtype  \n",
      "---  ------                  --------------  -----  \n",
      " 0   PrimaryPropertyType     1292 non-null   object \n",
      " 1   Neighborhood            1292 non-null   object \n",
      " 2   ComplianceStatus        1292 non-null   object \n",
      " 3   NumberofBuildings       1292 non-null   float64\n",
      " 4   NumberofFloors          1292 non-null   int64  \n",
      " 5   PropertyGFATotal        1292 non-null   int64  \n",
      " 6   PropertyGFAParking      1292 non-null   int64  \n",
      " 7   PropertyGFABuilding(s)  1292 non-null   int64  \n",
      " 8   SourceEUIWN(kBtu/sf)    1292 non-null   float64\n",
      " 9   SiteEnergyUseWN(kBtu)   1292 non-null   float64\n",
      " 10  SteamUse(kBtu)          1292 non-null   float64\n",
      " 11  Electricity(kBtu)       1292 non-null   float64\n",
      " 12  NaturalGas(kBtu)        1292 non-null   float64\n",
      " 13  TotalGHGEmissions       1292 non-null   float64\n",
      " 14  BuildingAge             1292 non-null   int64  \n",
      "dtypes: float64(7), int64(5), object(3)\n",
      "memory usage: 151.5+ KB\n"
     ]
    }
   ],
   "source": [
    "df_filter1.info()"
   ]
  },
  {
   "cell_type": "markdown",
   "metadata": {},
   "source": [
    "#### Préparation du preprocessor:"
   ]
  },
  {
   "cell_type": "code",
   "execution_count": 20,
   "metadata": {},
   "outputs": [],
   "source": [
    "# Importation des bibliothèques nécessaires:\n",
    "from sklearn.preprocessing import StandardScaler\n",
    "from sklearn.preprocessing import OneHotEncoder\n",
    "#from sklearn.model_selection import GridSearchCV\n",
    "#from sklearn.model_selection import cross_val_score\n",
    "#from sklearn.model_selection import KFold"
   ]
  },
  {
   "cell_type": "markdown",
   "metadata": {},
   "source": [
    "On définit la variable X et y:"
   ]
  },
  {
   "cell_type": "code",
   "execution_count": 21,
   "metadata": {},
   "outputs": [],
   "source": [
    "X=df_filter1.drop(['TotalGHGEmissions','SiteEnergyUseWN(kBtu)'],axis=1)"
   ]
  },
  {
   "cell_type": "code",
   "execution_count": 22,
   "metadata": {},
   "outputs": [],
   "source": [
    "y= df_filter1['SiteEnergyUseWN(kBtu)']"
   ]
  },
  {
   "cell_type": "markdown",
   "metadata": {},
   "source": [
    "On a un dataframe avec des variables catégorielles et numériques, donc on fait appel à (make_column_transformer)"
   ]
  },
  {
   "cell_type": "code",
   "execution_count": 23,
   "metadata": {},
   "outputs": [],
   "source": [
    "col_categ= ['PrimaryPropertyType', 'Neighborhood', 'ComplianceStatus']\n",
    "col_num= ['NumberofBuildings', 'NumberofFloors', 'PropertyGFATotal',\n",
    "       'PropertyGFAParking', 'PropertyGFABuilding(s)', 'SourceEUIWN(kBtu/sf)', 'SteamUse(kBtu)', 'Electricity(kBtu)',\n",
    "       'NaturalGas(kBtu)','BuildingAge']"
   ]
  },
  {
   "cell_type": "code",
   "execution_count": 24,
   "metadata": {},
   "outputs": [],
   "source": [
    "from sklearn.compose import make_column_transformer\n",
    "column_trans= make_column_transformer((OneHotEncoder(),col_categ), (StandardScaler(), col_num))"
   ]
  },
  {
   "cell_type": "code",
   "execution_count": 25,
   "metadata": {},
   "outputs": [
    {
     "data": {
      "text/plain": [
       "ColumnTransformer(n_jobs=None, remainder='drop', sparse_threshold=0.3,\n",
       "                  transformer_weights=None,\n",
       "                  transformers=[('onehotencoder',\n",
       "                                 OneHotEncoder(categories='auto', drop=None,\n",
       "                                               dtype=<class 'numpy.float64'>,\n",
       "                                               handle_unknown='error',\n",
       "                                               sparse=True),\n",
       "                                 ['PrimaryPropertyType', 'Neighborhood',\n",
       "                                  'ComplianceStatus']),\n",
       "                                ('standardscaler',\n",
       "                                 StandardScaler(copy=True, with_mean=True,\n",
       "                                                with_std=True),\n",
       "                                 ['NumberofBuildings', 'NumberofFloors',\n",
       "                                  'PropertyGFATotal', 'PropertyGFAParking',\n",
       "                                  'PropertyGFABuilding(s)',\n",
       "                                  'SourceEUIWN(kBtu/sf)', 'SteamUse(kBtu)',\n",
       "                                  'Electricity(kBtu)', 'NaturalGas(kBtu)',\n",
       "                                  'BuildingAge'])],\n",
       "                  verbose=False)"
      ]
     },
     "execution_count": 25,
     "metadata": {},
     "output_type": "execute_result"
    }
   ],
   "source": [
    "column_trans"
   ]
  },
  {
   "cell_type": "code",
   "execution_count": 26,
   "metadata": {},
   "outputs": [],
   "source": [
    "#spliting data to training/test data:\n",
    "from sklearn.model_selection import train_test_split\n",
    "X_train, X_test, y_train, y_test = train_test_split(X, y, test_size=0.33, random_state=42,shuffle= True)"
   ]
  },
  {
   "cell_type": "code",
   "execution_count": 27,
   "metadata": {},
   "outputs": [
    {
     "data": {
      "text/plain": [
       "<865x53 sparse matrix of type '<class 'numpy.float64'>'\n",
       "\twith 11245 stored elements in Compressed Sparse Row format>"
      ]
     },
     "execution_count": 27,
     "metadata": {},
     "output_type": "execute_result"
    }
   ],
   "source": [
    "#On entraîne les données de X_train, on triant sur les colonnes spécifiées dans column_trans:\n",
    "column_trans.fit_transform(X_train)"
   ]
  },
  {
   "cell_type": "code",
   "execution_count": 28,
   "metadata": {},
   "outputs": [],
   "source": [
    "from sklearn.pipeline import make_pipeline"
   ]
  },
  {
   "cell_type": "code",
   "execution_count": 29,
   "metadata": {},
   "outputs": [],
   "source": [
    "# Importation du modèle:\n",
    "from sklearn.linear_model import Ridge\n",
    "ridge= Ridge()"
   ]
  },
  {
   "cell_type": "code",
   "execution_count": 30,
   "metadata": {},
   "outputs": [],
   "source": [
    "# On crée le modèle à travers la pipeline\n",
    "model= make_pipeline(column_trans,ridge)"
   ]
  },
  {
   "cell_type": "code",
   "execution_count": 31,
   "metadata": {},
   "outputs": [
    {
     "data": {
      "text/plain": [
       "Pipeline(memory=None,\n",
       "         steps=[('columntransformer',\n",
       "                 ColumnTransformer(n_jobs=None, remainder='drop',\n",
       "                                   sparse_threshold=0.3,\n",
       "                                   transformer_weights=None,\n",
       "                                   transformers=[('onehotencoder',\n",
       "                                                  OneHotEncoder(categories='auto',\n",
       "                                                                drop=None,\n",
       "                                                                dtype=<class 'numpy.float64'>,\n",
       "                                                                handle_unknown='error',\n",
       "                                                                sparse=True),\n",
       "                                                  ['PrimaryPropertyType',\n",
       "                                                   'Neighborhood',\n",
       "                                                   'ComplianceStatus']),\n",
       "                                                 ('standards...\n",
       "                                                  ['NumberofBuildings',\n",
       "                                                   'NumberofFloors',\n",
       "                                                   'PropertyGFATotal',\n",
       "                                                   'PropertyGFAParking',\n",
       "                                                   'PropertyGFABuilding(s)',\n",
       "                                                   'SourceEUIWN(kBtu/sf)',\n",
       "                                                   'SteamUse(kBtu)',\n",
       "                                                   'Electricity(kBtu)',\n",
       "                                                   'NaturalGas(kBtu)',\n",
       "                                                   'BuildingAge'])],\n",
       "                                   verbose=False)),\n",
       "                ('ridge',\n",
       "                 Ridge(alpha=1.0, copy_X=True, fit_intercept=True,\n",
       "                       max_iter=None, normalize=False, random_state=None,\n",
       "                       solver='auto', tol=0.001))],\n",
       "         verbose=False)"
      ]
     },
     "execution_count": 31,
     "metadata": {},
     "output_type": "execute_result"
    }
   ],
   "source": [
    "# On entraîne le modèle:\n",
    "model.fit(X_train,y_train)"
   ]
  },
  {
   "cell_type": "code",
   "execution_count": 32,
   "metadata": {},
   "outputs": [],
   "source": [
    "pred= model.predict(X_test)"
   ]
  },
  {
   "cell_type": "code",
   "execution_count": 34,
   "metadata": {},
   "outputs": [
    {
     "data": {
      "text/plain": [
       "array([ 1.57779590e+07,  5.45092123e+05,  5.57980141e+06,  3.29758835e+06,\n",
       "        5.45115075e+06,  3.56857900e+06,  2.51840136e+07,  1.45644524e+05,\n",
       "        3.02136135e+06,  1.40034167e+07,  4.18990944e+05,  2.78111269e+06,\n",
       "        9.22243385e+04,  2.43545779e+06,  9.57012123e+05,  7.84943246e+05,\n",
       "        1.26004056e+06,  1.89755786e+06,  6.51396714e+06,  1.29019988e+06,\n",
       "        3.93940291e+06,  1.62410123e+06,  1.19080188e+07,  1.71471885e+06,\n",
       "        9.83261962e+05,  5.97555481e+06,  7.38894753e+06,  6.35381727e+06,\n",
       "        4.93659274e+06,  1.04325553e+06,  1.72571547e+06,  1.77287891e+06,\n",
       "        1.67275665e+06,  1.33236615e+06,  4.62847005e+06,  4.71888360e+06,\n",
       "        2.80316873e+06,  9.93152206e+05,  3.07895348e+06,  9.89176695e+06,\n",
       "        2.96493825e+06,  7.33840779e+05,  2.65193754e+06,  3.74038376e+06,\n",
       "        1.87093048e+06,  5.44309297e+05,  7.81041975e+05,  1.30900139e+06,\n",
       "        6.26326801e+06,  7.24670531e+05,  2.23927705e+06,  5.99048370e+06,\n",
       "        1.62617626e+07,  3.20531338e+06,  4.55314490e+06,  3.77610691e+06,\n",
       "        4.60967709e+06,  4.26990441e+06,  2.85618196e+06,  4.82663111e+05,\n",
       "        1.14448662e+06,  6.23748489e+06,  4.96572241e+05,  2.46109738e+06,\n",
       "        8.24483753e+05,  5.35249829e+06,  8.78404331e+05,  3.83988785e+06,\n",
       "        1.10704509e+06,  1.70145497e+07,  6.75057703e+06,  3.03098980e+06,\n",
       "        4.11038236e+06,  7.54096156e+05,  2.06994458e+06,  6.44597639e+05,\n",
       "        2.67481006e+06,  3.30493553e+06,  4.45125573e+06,  2.44950468e+06,\n",
       "        7.66669539e+06,  1.44262918e+07,  1.29891411e+06,  9.89391160e+05,\n",
       "        9.36596195e+06,  1.36195746e+06,  4.57925965e+05,  2.71988701e+06,\n",
       "        1.04043750e+06,  7.44366000e+05,  7.91232309e+05,  5.17089892e+06,\n",
       "        1.14503140e+07,  1.00635770e+07,  5.19293692e+06,  5.29353441e+03,\n",
       "        6.07079748e+05,  1.34027736e+06,  1.37524474e+06,  2.65930521e+06,\n",
       "        1.14167522e+06,  3.86632011e+06,  1.68816433e+07,  1.51435916e+06,\n",
       "        7.40305773e+06,  5.11099121e+06,  5.15594018e+06,  2.46831922e+06,\n",
       "        3.47198052e+06,  7.03232099e+06,  4.77246766e+06,  3.17156250e+05,\n",
       "        3.00554261e+06,  3.16722723e+05,  1.83794610e+06,  1.02592058e+06,\n",
       "        5.79152759e+06, -3.03909555e+05,  3.10654671e+06,  5.45640072e+05,\n",
       "        9.10755568e+06,  8.46730138e+06,  3.24526471e+06,  2.28595398e+06,\n",
       "        2.48222657e+06,  1.26349128e+06,  1.50019468e+06,  1.19417374e+06,\n",
       "        2.84034373e+06,  6.55261142e+06,  6.36346367e+05,  1.15101705e+06,\n",
       "        2.02030287e+06,  6.68224893e+05,  6.13373723e+06,  5.80792027e+06,\n",
       "       -2.72584648e+06,  1.89085741e+06,  6.51262605e+05,  2.98162240e+06,\n",
       "        5.63070994e+06,  3.56755957e+06,  1.39934861e+06,  8.06960706e+05,\n",
       "        1.27423637e+06,  5.54093685e+06,  1.38467578e+06,  7.66679209e+05,\n",
       "        3.49241405e+06,  2.34834722e+06,  3.30993107e+05,  2.06958421e+06,\n",
       "        1.15117409e+07,  3.74429433e+05,  1.97723167e+06,  1.45755032e+07,\n",
       "        2.46780600e+05,  1.09450158e+06,  6.95705174e+06,  5.21909109e+06,\n",
       "        1.34392521e+06,  1.71706374e+06,  2.26322400e+06,  8.26024739e+06,\n",
       "        2.33002788e+07,  9.01405990e+06,  3.36443779e+06,  3.41065538e+05,\n",
       "        1.82016962e+06,  2.80422297e+06, -7.02857942e+05,  5.30039294e+06,\n",
       "        1.82519516e+06,  1.50333690e+06,  2.68635483e+07,  7.25441316e+05,\n",
       "        1.57470402e+06,  3.96749634e+06,  1.38357611e+07,  3.05600717e+06,\n",
       "        8.52146240e+05,  1.33988192e+06,  3.97060773e+06,  3.70209243e+06,\n",
       "        1.55270412e+06,  7.35016497e+06,  2.53043587e+06,  6.44554769e+06,\n",
       "        6.56545097e+06,  4.08003783e+06,  2.09682263e+06,  8.80687563e+05,\n",
       "        1.84326675e+06,  2.64346685e+06,  2.93548785e+06,  5.12881912e+06,\n",
       "        9.37701920e+06,  1.31622091e+06,  4.41808404e+06,  1.59603683e+06,\n",
       "        5.10523069e+06,  6.04121219e+06,  3.83554604e+05,  3.12140707e+06,\n",
       "        7.77588970e+06,  1.41799073e+05,  9.87948144e+05,  4.28432254e+06,\n",
       "        1.01087128e+07,  1.67958715e+07,  5.91652332e+05,  9.71845923e+06,\n",
       "        1.07348719e+06,  1.18744695e+06,  1.67777784e+06,  2.21758559e+06,\n",
       "        5.66850236e+06,  1.16346933e+06,  5.29675980e+06,  2.64944190e+06,\n",
       "        3.12001286e+06,  1.37333912e+06,  1.35191188e+06,  1.65229927e+06,\n",
       "        1.76982199e+06,  8.16190973e+05,  2.64451422e+06,  3.11629582e+05,\n",
       "        1.00947146e+06,  3.82160029e+06,  1.55057164e+04,  1.47305844e+06,\n",
       "        1.25870940e+06,  4.96595728e+06,  5.99766409e+06,  2.72847410e+07,\n",
       "        1.51490401e+06,  4.08750329e+05,  6.51270696e+06,  4.41135955e+05,\n",
       "        1.28568139e+06,  1.85671608e+06,  5.08603316e+06,  5.97489756e+06,\n",
       "        7.46981661e+05,  1.22654345e+06,  3.87730360e+06,  2.75517679e+06,\n",
       "        1.83555198e+06,  7.36241593e+06,  1.29262439e+06,  1.14770728e+07,\n",
       "        3.14110982e+06,  5.87943250e+06,  1.72646809e+07,  3.13461542e+06,\n",
       "        1.77685241e+06,  4.64203587e+06,  1.94177673e+07,  1.48347423e+06,\n",
       "        2.78736210e+05,  1.15483622e+05,  5.23787258e+06,  8.15083848e+05,\n",
       "        1.68704283e+06,  1.59518380e+06,  1.11161752e+06,  2.45267409e+06,\n",
       "        1.93690466e+07,  5.76976060e+06,  3.19465252e+06,  8.82739946e+05,\n",
       "        1.13696966e+06,  1.82847663e+05,  2.14535522e+07,  1.59260038e+07,\n",
       "        8.23409513e+05,  1.88893822e+06,  2.51240809e+06,  1.29386506e+06,\n",
       "        7.04784517e+05,  1.20805610e+06,  2.44959047e+07,  1.54916487e+05,\n",
       "        3.26319819e+06, -2.62240654e+05,  4.12273200e+06,  1.16824953e+06,\n",
       "        8.50095992e+06,  2.76427467e+06,  2.68663889e+05,  1.37333481e+06,\n",
       "        2.33780484e+06,  9.53728012e+06, -3.32114639e+06,  2.38881623e+07,\n",
       "        1.59517766e+06, -2.17448061e+05,  2.05924964e+06,  5.18629869e+06,\n",
       "        2.35811434e+06,  3.82905175e+05,  2.14790432e+06,  1.69584292e+06,\n",
       "        3.63798349e+06,  1.15608002e+06,  1.69751290e+06,  1.14672772e+07,\n",
       "        3.11099129e+06,  2.46580491e+06,  2.34050948e+06,  2.13934026e+06,\n",
       "        7.61701414e+05,  2.72342247e+07,  2.07863373e+06,  2.04967539e+06,\n",
       "        3.10737265e+06,  1.27538151e+06,  8.34052012e+05,  3.52862406e+06,\n",
       "        2.11516215e+06,  4.21821687e+06,  1.20276207e+06,  3.80898653e+06,\n",
       "        1.43078683e+06,  2.75088398e+06,  2.78353626e+06,  1.80342100e+06,\n",
       "        3.29209126e+06,  3.78868185e+05,  2.93362651e+06,  7.58022365e+05,\n",
       "        5.06217397e+05,  1.39680174e+06,  1.00319138e+07,  1.20348487e+06,\n",
       "        1.00765130e+07,  1.15253077e+06,  2.60018402e+06,  7.78538747e+05,\n",
       "        2.17230240e+06,  1.59192773e+07,  4.14653542e+07,  3.97086118e+06,\n",
       "        9.64136499e+05,  1.46316753e+06,  3.14550062e+06,  1.58647882e+06,\n",
       "        1.79337008e+07,  3.95844857e+06,  1.84073030e+06,  3.04768467e+06,\n",
       "        5.83877900e+06,  2.03328352e+06,  1.28259520e+06,  1.45998317e+06,\n",
       "        1.27963008e+06, -3.25407290e+05,  3.55615109e+06,  1.27487925e+07,\n",
       "        5.13519382e+06,  2.88667687e+06,  1.11509671e+06,  2.77744975e+05,\n",
       "        4.49280777e+05,  3.86151636e+06,  4.16031971e+05,  1.38253946e+06,\n",
       "        4.26696447e+06,  6.99160875e+06,  1.96027362e+07,  1.06291159e+05,\n",
       "        1.97195857e+06,  2.06500447e+06,  3.02155784e+06, -5.60432281e+05,\n",
       "        1.49423753e+06,  2.55892112e+06,  3.11406742e+06,  1.79975754e+06,\n",
       "        1.81065927e+06,  1.47205962e+06,  6.67280925e+05,  1.38952839e+05,\n",
       "        6.09644029e+06,  1.86935858e+06,  9.27300215e+06,  2.51521939e+06,\n",
       "        1.32464354e+06,  7.23995722e+06,  4.45972837e+06,  9.63617963e+05,\n",
       "        1.23783718e+06,  9.86789177e+06,  4.35500093e+06,  1.77187653e+07,\n",
       "        2.25937887e+06, -7.28097124e+05,  1.41353691e+06,  2.89693692e+06,\n",
       "        3.65054186e+06,  4.92447800e+06,  1.46264793e+06,  1.02209117e+06,\n",
       "        6.22588873e+06,  5.88411341e+06,  1.46745269e+05,  1.65851477e+06,\n",
       "        2.77780335e+06,  6.94635689e+05,  1.35843845e+07,  1.10768241e+06,\n",
       "        6.03393020e+06,  6.96975880e+06,  7.92257567e+05,  9.89300323e+06,\n",
       "        2.09424162e+06,  4.68665447e+06,  1.14752442e+06,  9.00822068e+06,\n",
       "        2.29712716e+06,  1.98339393e+04,  3.27793522e+06,  2.45440171e+06,\n",
       "        1.71692555e+07,  4.01587317e+06,  4.91941110e+06])"
      ]
     },
     "execution_count": 34,
     "metadata": {},
     "output_type": "execute_result"
    }
   ],
   "source": [
    "pred"
   ]
  },
  {
   "cell_type": "code",
   "execution_count": 37,
   "metadata": {},
   "outputs": [
    {
     "name": "stdout",
     "output_type": "stream",
     "text": [
      "MAE : 455167.747165025\n",
      "RMSE : 1613329.415267112\n"
     ]
    }
   ],
   "source": [
    "# Evaluation du modèle:\n",
    "from sklearn.metrics import *\n",
    "print( 'MAE :', mean_absolute_error(y_test,pred))\n",
    "print( 'RMSE :', np.sqrt(mean_squared_error(y_test,pred)))"
   ]
  }
 ],
 "metadata": {
  "kernelspec": {
   "display_name": "Python 3",
   "language": "python",
   "name": "python3"
  },
  "language_info": {
   "codemirror_mode": {
    "name": "ipython",
    "version": 3
   },
   "file_extension": ".py",
   "mimetype": "text/x-python",
   "name": "python",
   "nbconvert_exporter": "python",
   "pygments_lexer": "ipython3",
   "version": "3.7.6"
  }
 },
 "nbformat": 4,
 "nbformat_minor": 4
}
