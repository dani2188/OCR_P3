{
 "cells": [
  {
   "cell_type": "code",
   "execution_count": 1,
   "metadata": {},
   "outputs": [],
   "source": [
    "# Importation des bibliothèques nécessaires\n",
    "import pandas as pd\n",
    "import numpy as np\n",
    "import matplotlib.pyplot as plt\n",
    "import seaborn as sns"
   ]
  },
  {
   "cell_type": "code",
   "execution_count": 2,
   "metadata": {},
   "outputs": [
    {
     "name": "stdout",
     "output_type": "stream",
     "text": [
      "The scikit-learn version is 1.0.2.\n"
     ]
    }
   ],
   "source": [
    "import sklearn\n",
    "print('The scikit-learn version is {}.'.format(sklearn.__version__))"
   ]
  },
  {
   "cell_type": "code",
   "execution_count": 3,
   "metadata": {},
   "outputs": [],
   "source": [
    "## On charge notre dataframe nettoyé:\n",
    "df= pd.read_csv('consoBat_df9.csv')"
   ]
  },
  {
   "cell_type": "code",
   "execution_count": 4,
   "metadata": {},
   "outputs": [
    {
     "data": {
      "text/html": [
       "<div>\n",
       "<style scoped>\n",
       "    .dataframe tbody tr th:only-of-type {\n",
       "        vertical-align: middle;\n",
       "    }\n",
       "\n",
       "    .dataframe tbody tr th {\n",
       "        vertical-align: top;\n",
       "    }\n",
       "\n",
       "    .dataframe thead th {\n",
       "        text-align: right;\n",
       "    }\n",
       "</style>\n",
       "<table border=\"1\" class=\"dataframe\">\n",
       "  <thead>\n",
       "    <tr style=\"text-align: right;\">\n",
       "      <th></th>\n",
       "      <th>OSEBuildingID</th>\n",
       "      <th>BuildingType</th>\n",
       "      <th>PrimaryPropertyType</th>\n",
       "      <th>PropertyName</th>\n",
       "      <th>Address</th>\n",
       "      <th>City</th>\n",
       "      <th>State</th>\n",
       "      <th>ZipCode</th>\n",
       "      <th>TaxParcelIdentificationNumber</th>\n",
       "      <th>CouncilDistrictCode</th>\n",
       "      <th>...</th>\n",
       "      <th>SourceEUIWN(kBtu/sf)</th>\n",
       "      <th>SiteEnergyUseWN(kBtu)</th>\n",
       "      <th>SteamUse(kBtu)</th>\n",
       "      <th>Electricity(kBtu)</th>\n",
       "      <th>NaturalGas(kBtu)</th>\n",
       "      <th>DefaultData</th>\n",
       "      <th>ComplianceStatus</th>\n",
       "      <th>TotalGHGEmissions</th>\n",
       "      <th>GHGEmissionsIntensity</th>\n",
       "      <th>BuildingAge</th>\n",
       "    </tr>\n",
       "  </thead>\n",
       "  <tbody>\n",
       "    <tr>\n",
       "      <th>0</th>\n",
       "      <td>1</td>\n",
       "      <td>NonResidential</td>\n",
       "      <td>Hotel</td>\n",
       "      <td>Mayflower park hotel</td>\n",
       "      <td>405 Olive way</td>\n",
       "      <td>Seattle</td>\n",
       "      <td>WA</td>\n",
       "      <td>98101.0</td>\n",
       "      <td>0659000030</td>\n",
       "      <td>7</td>\n",
       "      <td>...</td>\n",
       "      <td>189.000000</td>\n",
       "      <td>7456910.0</td>\n",
       "      <td>2003882.00</td>\n",
       "      <td>3946027.0</td>\n",
       "      <td>1276453.0</td>\n",
       "      <td>False</td>\n",
       "      <td>Compliant</td>\n",
       "      <td>249.98</td>\n",
       "      <td>2.83</td>\n",
       "      <td>89</td>\n",
       "    </tr>\n",
       "    <tr>\n",
       "      <th>1</th>\n",
       "      <td>2</td>\n",
       "      <td>NonResidential</td>\n",
       "      <td>Hotel</td>\n",
       "      <td>Paramount Hotel</td>\n",
       "      <td>724 Pine street</td>\n",
       "      <td>Seattle</td>\n",
       "      <td>WA</td>\n",
       "      <td>98101.0</td>\n",
       "      <td>0659000220</td>\n",
       "      <td>7</td>\n",
       "      <td>...</td>\n",
       "      <td>179.399994</td>\n",
       "      <td>8664479.0</td>\n",
       "      <td>0.00</td>\n",
       "      <td>3242851.0</td>\n",
       "      <td>5145082.0</td>\n",
       "      <td>False</td>\n",
       "      <td>Compliant</td>\n",
       "      <td>295.86</td>\n",
       "      <td>2.86</td>\n",
       "      <td>20</td>\n",
       "    </tr>\n",
       "    <tr>\n",
       "      <th>2</th>\n",
       "      <td>5</td>\n",
       "      <td>NonResidential</td>\n",
       "      <td>Hotel</td>\n",
       "      <td>HOTEL MAX</td>\n",
       "      <td>620 STEWART ST</td>\n",
       "      <td>Seattle</td>\n",
       "      <td>WA</td>\n",
       "      <td>98101.0</td>\n",
       "      <td>0659000640</td>\n",
       "      <td>7</td>\n",
       "      <td>...</td>\n",
       "      <td>224.000000</td>\n",
       "      <td>6946800.5</td>\n",
       "      <td>2214446.25</td>\n",
       "      <td>2768924.0</td>\n",
       "      <td>1811213.0</td>\n",
       "      <td>False</td>\n",
       "      <td>Compliant</td>\n",
       "      <td>286.43</td>\n",
       "      <td>4.67</td>\n",
       "      <td>90</td>\n",
       "    </tr>\n",
       "    <tr>\n",
       "      <th>3</th>\n",
       "      <td>10</td>\n",
       "      <td>NonResidential</td>\n",
       "      <td>Hotel</td>\n",
       "      <td>Camlin</td>\n",
       "      <td>1619 9th Avenue</td>\n",
       "      <td>Seattle</td>\n",
       "      <td>WA</td>\n",
       "      <td>98101.0</td>\n",
       "      <td>0660000825</td>\n",
       "      <td>7</td>\n",
       "      <td>...</td>\n",
       "      <td>154.699997</td>\n",
       "      <td>6062767.5</td>\n",
       "      <td>0.00</td>\n",
       "      <td>2811215.0</td>\n",
       "      <td>2947580.0</td>\n",
       "      <td>False</td>\n",
       "      <td>Compliant</td>\n",
       "      <td>176.14</td>\n",
       "      <td>2.12</td>\n",
       "      <td>90</td>\n",
       "    </tr>\n",
       "    <tr>\n",
       "      <th>4</th>\n",
       "      <td>11</td>\n",
       "      <td>NonResidential</td>\n",
       "      <td>Other</td>\n",
       "      <td>Paramount Theatre</td>\n",
       "      <td>911 Pine St</td>\n",
       "      <td>Seattle</td>\n",
       "      <td>WA</td>\n",
       "      <td>98101.0</td>\n",
       "      <td>0660000955</td>\n",
       "      <td>7</td>\n",
       "      <td>...</td>\n",
       "      <td>152.300003</td>\n",
       "      <td>7067881.5</td>\n",
       "      <td>2276286.50</td>\n",
       "      <td>3636655.0</td>\n",
       "      <td>385189.0</td>\n",
       "      <td>False</td>\n",
       "      <td>Compliant</td>\n",
       "      <td>221.51</td>\n",
       "      <td>2.16</td>\n",
       "      <td>90</td>\n",
       "    </tr>\n",
       "  </tbody>\n",
       "</table>\n",
       "<p>5 rows × 33 columns</p>\n",
       "</div>"
      ],
      "text/plain": [
       "   OSEBuildingID    BuildingType PrimaryPropertyType          PropertyName  \\\n",
       "0              1  NonResidential               Hotel  Mayflower park hotel   \n",
       "1              2  NonResidential               Hotel       Paramount Hotel   \n",
       "2              5  NonResidential               Hotel             HOTEL MAX   \n",
       "3             10  NonResidential               Hotel                Camlin   \n",
       "4             11  NonResidential               Other     Paramount Theatre   \n",
       "\n",
       "           Address     City State  ZipCode TaxParcelIdentificationNumber  \\\n",
       "0    405 Olive way  Seattle    WA  98101.0                    0659000030   \n",
       "1  724 Pine street  Seattle    WA  98101.0                    0659000220   \n",
       "2   620 STEWART ST  Seattle    WA  98101.0                    0659000640   \n",
       "3  1619 9th Avenue  Seattle    WA  98101.0                    0660000825   \n",
       "4      911 Pine St  Seattle    WA  98101.0                    0660000955   \n",
       "\n",
       "   CouncilDistrictCode  ... SourceEUIWN(kBtu/sf)  SiteEnergyUseWN(kBtu)  \\\n",
       "0                    7  ...           189.000000              7456910.0   \n",
       "1                    7  ...           179.399994              8664479.0   \n",
       "2                    7  ...           224.000000              6946800.5   \n",
       "3                    7  ...           154.699997              6062767.5   \n",
       "4                    7  ...           152.300003              7067881.5   \n",
       "\n",
       "   SteamUse(kBtu)  Electricity(kBtu)  NaturalGas(kBtu)  DefaultData  \\\n",
       "0      2003882.00          3946027.0         1276453.0        False   \n",
       "1            0.00          3242851.0         5145082.0        False   \n",
       "2      2214446.25          2768924.0         1811213.0        False   \n",
       "3            0.00          2811215.0         2947580.0        False   \n",
       "4      2276286.50          3636655.0          385189.0        False   \n",
       "\n",
       "   ComplianceStatus  TotalGHGEmissions GHGEmissionsIntensity BuildingAge  \n",
       "0         Compliant             249.98                  2.83          89  \n",
       "1         Compliant             295.86                  2.86          20  \n",
       "2         Compliant             286.43                  4.67          90  \n",
       "3         Compliant             176.14                  2.12          90  \n",
       "4         Compliant             221.51                  2.16          90  \n",
       "\n",
       "[5 rows x 33 columns]"
      ]
     },
     "execution_count": 4,
     "metadata": {},
     "output_type": "execute_result"
    }
   ],
   "source": [
    "df.head()"
   ]
  },
  {
   "cell_type": "code",
   "execution_count": 5,
   "metadata": {},
   "outputs": [
    {
     "name": "stdout",
     "output_type": "stream",
     "text": [
      "<class 'pandas.core.frame.DataFrame'>\n",
      "RangeIndex: 1358 entries, 0 to 1357\n",
      "Data columns (total 33 columns):\n",
      " #   Column                         Non-Null Count  Dtype  \n",
      "---  ------                         --------------  -----  \n",
      " 0   OSEBuildingID                  1358 non-null   int64  \n",
      " 1   BuildingType                   1358 non-null   object \n",
      " 2   PrimaryPropertyType            1358 non-null   object \n",
      " 3   PropertyName                   1358 non-null   object \n",
      " 4   Address                        1358 non-null   object \n",
      " 5   City                           1358 non-null   object \n",
      " 6   State                          1358 non-null   object \n",
      " 7   ZipCode                        1358 non-null   float64\n",
      " 8   TaxParcelIdentificationNumber  1358 non-null   object \n",
      " 9   CouncilDistrictCode            1358 non-null   int64  \n",
      " 10  Neighborhood                   1358 non-null   object \n",
      " 11  Latitude                       1358 non-null   float64\n",
      " 12  Longitude                      1358 non-null   float64\n",
      " 13  NumberofBuildings              1358 non-null   float64\n",
      " 14  NumberofFloors                 1358 non-null   int64  \n",
      " 15  PropertyGFATotal               1358 non-null   int64  \n",
      " 16  PropertyGFAParking             1358 non-null   int64  \n",
      " 17  PropertyGFABuilding(s)         1358 non-null   int64  \n",
      " 18  ListOfAllPropertyUseTypes      1358 non-null   object \n",
      " 19  LargestPropertyUseType         1358 non-null   object \n",
      " 20  LargestPropertyUseTypeGFA      1358 non-null   float64\n",
      " 21  ENERGYSTARScore                896 non-null    float64\n",
      " 22  SiteEUIWN(kBtu/sf)             1358 non-null   float64\n",
      " 23  SourceEUIWN(kBtu/sf)           1358 non-null   float64\n",
      " 24  SiteEnergyUseWN(kBtu)          1358 non-null   float64\n",
      " 25  SteamUse(kBtu)                 1358 non-null   float64\n",
      " 26  Electricity(kBtu)              1358 non-null   float64\n",
      " 27  NaturalGas(kBtu)               1358 non-null   float64\n",
      " 28  DefaultData                    1358 non-null   bool   \n",
      " 29  ComplianceStatus               1358 non-null   object \n",
      " 30  TotalGHGEmissions              1358 non-null   float64\n",
      " 31  GHGEmissionsIntensity          1358 non-null   float64\n",
      " 32  BuildingAge                    1358 non-null   int64  \n",
      "dtypes: bool(1), float64(14), int64(7), object(11)\n",
      "memory usage: 341.0+ KB\n"
     ]
    }
   ],
   "source": [
    "df.info()"
   ]
  },
  {
   "cell_type": "code",
   "execution_count": 6,
   "metadata": {},
   "outputs": [],
   "source": [
    "# On sépare les variables numériques des variables catégorielles:\n",
    "var_num= df.select_dtypes(include=['int64','float64'])\n",
    "var_categ= df.select_dtypes(exclude=['int64','float64','bool']) "
   ]
  },
  {
   "cell_type": "code",
   "execution_count": 7,
   "metadata": {},
   "outputs": [
    {
     "data": {
      "text/html": [
       "<div>\n",
       "<style scoped>\n",
       "    .dataframe tbody tr th:only-of-type {\n",
       "        vertical-align: middle;\n",
       "    }\n",
       "\n",
       "    .dataframe tbody tr th {\n",
       "        vertical-align: top;\n",
       "    }\n",
       "\n",
       "    .dataframe thead th {\n",
       "        text-align: right;\n",
       "    }\n",
       "</style>\n",
       "<table border=\"1\" class=\"dataframe\">\n",
       "  <thead>\n",
       "    <tr style=\"text-align: right;\">\n",
       "      <th></th>\n",
       "      <th>BuildingType</th>\n",
       "      <th>PrimaryPropertyType</th>\n",
       "      <th>PropertyName</th>\n",
       "      <th>Address</th>\n",
       "      <th>City</th>\n",
       "      <th>State</th>\n",
       "      <th>TaxParcelIdentificationNumber</th>\n",
       "      <th>Neighborhood</th>\n",
       "      <th>ListOfAllPropertyUseTypes</th>\n",
       "      <th>LargestPropertyUseType</th>\n",
       "      <th>ComplianceStatus</th>\n",
       "    </tr>\n",
       "  </thead>\n",
       "  <tbody>\n",
       "    <tr>\n",
       "      <th>0</th>\n",
       "      <td>NonResidential</td>\n",
       "      <td>Hotel</td>\n",
       "      <td>Mayflower park hotel</td>\n",
       "      <td>405 Olive way</td>\n",
       "      <td>Seattle</td>\n",
       "      <td>WA</td>\n",
       "      <td>0659000030</td>\n",
       "      <td>DOWNTOWN</td>\n",
       "      <td>Hotel</td>\n",
       "      <td>Hotel</td>\n",
       "      <td>Compliant</td>\n",
       "    </tr>\n",
       "    <tr>\n",
       "      <th>1</th>\n",
       "      <td>NonResidential</td>\n",
       "      <td>Hotel</td>\n",
       "      <td>Paramount Hotel</td>\n",
       "      <td>724 Pine street</td>\n",
       "      <td>Seattle</td>\n",
       "      <td>WA</td>\n",
       "      <td>0659000220</td>\n",
       "      <td>DOWNTOWN</td>\n",
       "      <td>Hotel, Parking, Restaurant</td>\n",
       "      <td>Hotel</td>\n",
       "      <td>Compliant</td>\n",
       "    </tr>\n",
       "    <tr>\n",
       "      <th>2</th>\n",
       "      <td>NonResidential</td>\n",
       "      <td>Hotel</td>\n",
       "      <td>HOTEL MAX</td>\n",
       "      <td>620 STEWART ST</td>\n",
       "      <td>Seattle</td>\n",
       "      <td>WA</td>\n",
       "      <td>0659000640</td>\n",
       "      <td>DOWNTOWN</td>\n",
       "      <td>Hotel</td>\n",
       "      <td>Hotel</td>\n",
       "      <td>Compliant</td>\n",
       "    </tr>\n",
       "    <tr>\n",
       "      <th>3</th>\n",
       "      <td>NonResidential</td>\n",
       "      <td>Hotel</td>\n",
       "      <td>Camlin</td>\n",
       "      <td>1619 9th Avenue</td>\n",
       "      <td>Seattle</td>\n",
       "      <td>WA</td>\n",
       "      <td>0660000825</td>\n",
       "      <td>DOWNTOWN</td>\n",
       "      <td>Hotel</td>\n",
       "      <td>Hotel</td>\n",
       "      <td>Compliant</td>\n",
       "    </tr>\n",
       "    <tr>\n",
       "      <th>4</th>\n",
       "      <td>NonResidential</td>\n",
       "      <td>Other</td>\n",
       "      <td>Paramount Theatre</td>\n",
       "      <td>911 Pine St</td>\n",
       "      <td>Seattle</td>\n",
       "      <td>WA</td>\n",
       "      <td>0660000955</td>\n",
       "      <td>DOWNTOWN</td>\n",
       "      <td>Other - Entertainment/Public Assembly</td>\n",
       "      <td>Other - Entertainment/Public Assembly</td>\n",
       "      <td>Compliant</td>\n",
       "    </tr>\n",
       "  </tbody>\n",
       "</table>\n",
       "</div>"
      ],
      "text/plain": [
       "     BuildingType PrimaryPropertyType          PropertyName          Address  \\\n",
       "0  NonResidential               Hotel  Mayflower park hotel    405 Olive way   \n",
       "1  NonResidential               Hotel       Paramount Hotel  724 Pine street   \n",
       "2  NonResidential               Hotel             HOTEL MAX   620 STEWART ST   \n",
       "3  NonResidential               Hotel                Camlin  1619 9th Avenue   \n",
       "4  NonResidential               Other     Paramount Theatre      911 Pine St   \n",
       "\n",
       "      City State TaxParcelIdentificationNumber Neighborhood  \\\n",
       "0  Seattle    WA                    0659000030     DOWNTOWN   \n",
       "1  Seattle    WA                    0659000220     DOWNTOWN   \n",
       "2  Seattle    WA                    0659000640     DOWNTOWN   \n",
       "3  Seattle    WA                    0660000825     DOWNTOWN   \n",
       "4  Seattle    WA                    0660000955     DOWNTOWN   \n",
       "\n",
       "               ListOfAllPropertyUseTypes  \\\n",
       "0                                  Hotel   \n",
       "1             Hotel, Parking, Restaurant   \n",
       "2                                  Hotel   \n",
       "3                                  Hotel   \n",
       "4  Other - Entertainment/Public Assembly   \n",
       "\n",
       "                  LargestPropertyUseType ComplianceStatus  \n",
       "0                                  Hotel        Compliant  \n",
       "1                                  Hotel        Compliant  \n",
       "2                                  Hotel        Compliant  \n",
       "3                                  Hotel        Compliant  \n",
       "4  Other - Entertainment/Public Assembly        Compliant  "
      ]
     },
     "execution_count": 7,
     "metadata": {},
     "output_type": "execute_result"
    }
   ],
   "source": [
    "var_categ.head()"
   ]
  },
  {
   "cell_type": "code",
   "execution_count": 8,
   "metadata": {},
   "outputs": [
    {
     "data": {
      "text/plain": [
       "BuildingType                        5\n",
       "PrimaryPropertyType                21\n",
       "PropertyName                     1355\n",
       "Address                          1342\n",
       "City                                1\n",
       "State                               1\n",
       "TaxParcelIdentificationNumber    1303\n",
       "Neighborhood                       18\n",
       "ListOfAllPropertyUseTypes         288\n",
       "LargestPropertyUseType             50\n",
       "ComplianceStatus                    4\n",
       "dtype: int64"
      ]
     },
     "execution_count": 8,
     "metadata": {},
     "output_type": "execute_result"
    }
   ],
   "source": [
    "var_categ.nunique()"
   ]
  },
  {
   "cell_type": "markdown",
   "metadata": {},
   "source": [
    "On écarte les variables catégorielles qui représentent des constantes:"
   ]
  },
  {
   "cell_type": "code",
   "execution_count": 9,
   "metadata": {},
   "outputs": [],
   "source": [
    "var_categ= var_categ.drop(['BuildingType','City','State'],axis=1)"
   ]
  },
  {
   "cell_type": "code",
   "execution_count": 10,
   "metadata": {},
   "outputs": [
    {
     "data": {
      "text/html": [
       "<div>\n",
       "<style scoped>\n",
       "    .dataframe tbody tr th:only-of-type {\n",
       "        vertical-align: middle;\n",
       "    }\n",
       "\n",
       "    .dataframe tbody tr th {\n",
       "        vertical-align: top;\n",
       "    }\n",
       "\n",
       "    .dataframe thead th {\n",
       "        text-align: right;\n",
       "    }\n",
       "</style>\n",
       "<table border=\"1\" class=\"dataframe\">\n",
       "  <thead>\n",
       "    <tr style=\"text-align: right;\">\n",
       "      <th></th>\n",
       "      <th>PrimaryPropertyType</th>\n",
       "      <th>PropertyName</th>\n",
       "      <th>Address</th>\n",
       "      <th>TaxParcelIdentificationNumber</th>\n",
       "      <th>Neighborhood</th>\n",
       "      <th>ListOfAllPropertyUseTypes</th>\n",
       "      <th>LargestPropertyUseType</th>\n",
       "      <th>ComplianceStatus</th>\n",
       "    </tr>\n",
       "  </thead>\n",
       "  <tbody>\n",
       "    <tr>\n",
       "      <th>0</th>\n",
       "      <td>Hotel</td>\n",
       "      <td>Mayflower park hotel</td>\n",
       "      <td>405 Olive way</td>\n",
       "      <td>0659000030</td>\n",
       "      <td>DOWNTOWN</td>\n",
       "      <td>Hotel</td>\n",
       "      <td>Hotel</td>\n",
       "      <td>Compliant</td>\n",
       "    </tr>\n",
       "    <tr>\n",
       "      <th>1</th>\n",
       "      <td>Hotel</td>\n",
       "      <td>Paramount Hotel</td>\n",
       "      <td>724 Pine street</td>\n",
       "      <td>0659000220</td>\n",
       "      <td>DOWNTOWN</td>\n",
       "      <td>Hotel, Parking, Restaurant</td>\n",
       "      <td>Hotel</td>\n",
       "      <td>Compliant</td>\n",
       "    </tr>\n",
       "    <tr>\n",
       "      <th>2</th>\n",
       "      <td>Hotel</td>\n",
       "      <td>HOTEL MAX</td>\n",
       "      <td>620 STEWART ST</td>\n",
       "      <td>0659000640</td>\n",
       "      <td>DOWNTOWN</td>\n",
       "      <td>Hotel</td>\n",
       "      <td>Hotel</td>\n",
       "      <td>Compliant</td>\n",
       "    </tr>\n",
       "    <tr>\n",
       "      <th>3</th>\n",
       "      <td>Hotel</td>\n",
       "      <td>Camlin</td>\n",
       "      <td>1619 9th Avenue</td>\n",
       "      <td>0660000825</td>\n",
       "      <td>DOWNTOWN</td>\n",
       "      <td>Hotel</td>\n",
       "      <td>Hotel</td>\n",
       "      <td>Compliant</td>\n",
       "    </tr>\n",
       "    <tr>\n",
       "      <th>4</th>\n",
       "      <td>Other</td>\n",
       "      <td>Paramount Theatre</td>\n",
       "      <td>911 Pine St</td>\n",
       "      <td>0660000955</td>\n",
       "      <td>DOWNTOWN</td>\n",
       "      <td>Other - Entertainment/Public Assembly</td>\n",
       "      <td>Other - Entertainment/Public Assembly</td>\n",
       "      <td>Compliant</td>\n",
       "    </tr>\n",
       "  </tbody>\n",
       "</table>\n",
       "</div>"
      ],
      "text/plain": [
       "  PrimaryPropertyType          PropertyName          Address  \\\n",
       "0               Hotel  Mayflower park hotel    405 Olive way   \n",
       "1               Hotel       Paramount Hotel  724 Pine street   \n",
       "2               Hotel             HOTEL MAX   620 STEWART ST   \n",
       "3               Hotel                Camlin  1619 9th Avenue   \n",
       "4               Other     Paramount Theatre      911 Pine St   \n",
       "\n",
       "  TaxParcelIdentificationNumber Neighborhood  \\\n",
       "0                    0659000030     DOWNTOWN   \n",
       "1                    0659000220     DOWNTOWN   \n",
       "2                    0659000640     DOWNTOWN   \n",
       "3                    0660000825     DOWNTOWN   \n",
       "4                    0660000955     DOWNTOWN   \n",
       "\n",
       "               ListOfAllPropertyUseTypes  \\\n",
       "0                                  Hotel   \n",
       "1             Hotel, Parking, Restaurant   \n",
       "2                                  Hotel   \n",
       "3                                  Hotel   \n",
       "4  Other - Entertainment/Public Assembly   \n",
       "\n",
       "                  LargestPropertyUseType ComplianceStatus  \n",
       "0                                  Hotel        Compliant  \n",
       "1                                  Hotel        Compliant  \n",
       "2                                  Hotel        Compliant  \n",
       "3                                  Hotel        Compliant  \n",
       "4  Other - Entertainment/Public Assembly        Compliant  "
      ]
     },
     "execution_count": 10,
     "metadata": {},
     "output_type": "execute_result"
    }
   ],
   "source": [
    "var_categ.head()"
   ]
  },
  {
   "cell_type": "code",
   "execution_count": 11,
   "metadata": {},
   "outputs": [],
   "source": [
    "#Sélection des variables catégorielles pertinentes pour notre modèle:\n",
    "var_categ= var_categ.drop(['PropertyName','Address','TaxParcelIdentificationNumber','ListOfAllPropertyUseTypes'],axis=1)"
   ]
  },
  {
   "cell_type": "code",
   "execution_count": 12,
   "metadata": {},
   "outputs": [
    {
     "data": {
      "text/plain": [
       "['PrimaryPropertyType',\n",
       " 'Neighborhood',\n",
       " 'LargestPropertyUseType',\n",
       " 'ComplianceStatus']"
      ]
     },
     "execution_count": 12,
     "metadata": {},
     "output_type": "execute_result"
    }
   ],
   "source": [
    "var_categ.columns.tolist()"
   ]
  },
  {
   "cell_type": "markdown",
   "metadata": {},
   "source": [
    "On s'intéresse maintenant aux variables numériques:"
   ]
  },
  {
   "cell_type": "code",
   "execution_count": 13,
   "metadata": {},
   "outputs": [
    {
     "data": {
      "text/plain": [
       "Index(['OSEBuildingID', 'ZipCode', 'CouncilDistrictCode', 'Latitude',\n",
       "       'Longitude', 'NumberofBuildings', 'NumberofFloors', 'PropertyGFATotal',\n",
       "       'PropertyGFAParking', 'PropertyGFABuilding(s)',\n",
       "       'LargestPropertyUseTypeGFA', 'ENERGYSTARScore', 'SiteEUIWN(kBtu/sf)',\n",
       "       'SourceEUIWN(kBtu/sf)', 'SiteEnergyUseWN(kBtu)', 'SteamUse(kBtu)',\n",
       "       'Electricity(kBtu)', 'NaturalGas(kBtu)', 'TotalGHGEmissions',\n",
       "       'GHGEmissionsIntensity', 'BuildingAge'],\n",
       "      dtype='object')"
      ]
     },
     "execution_count": 13,
     "metadata": {},
     "output_type": "execute_result"
    }
   ],
   "source": [
    "var_num.columns"
   ]
  },
  {
   "cell_type": "markdown",
   "metadata": {},
   "source": [
    "Dans cette partie de modélisation, on séléctionne la variables target: (SiteEnergyUseWN(kBtu) au lieu de (SiteEUIWN(kBtu/sf)) qui prend pas en compte la surface du site.  "
   ]
  },
  {
   "cell_type": "code",
   "execution_count": 14,
   "metadata": {},
   "outputs": [],
   "source": [
    "var_num= var_num.drop(['SiteEUIWN(kBtu/sf)'],axis=1)"
   ]
  },
  {
   "cell_type": "markdown",
   "metadata": {},
   "source": [
    "On écarte les variables non pertinentes pour notre modèle:"
   ]
  },
  {
   "cell_type": "code",
   "execution_count": 15,
   "metadata": {},
   "outputs": [],
   "source": [
    "var_num= var_num.drop(['OSEBuildingID','ZipCode','CouncilDistrictCode','Latitude','Longitude'],axis=1)"
   ]
  },
  {
   "cell_type": "markdown",
   "metadata": {},
   "source": [
    "On écarte les variables (SteamUse(kBtu)), (Electricity(kBtu)),(NaturalGas(kBtu)) qui représentent des relevés et ne doivent pas être pris en compte par souci de data leakage."
   ]
  },
  {
   "cell_type": "code",
   "execution_count": 16,
   "metadata": {},
   "outputs": [],
   "source": [
    "var_num= var_num.drop(['SteamUse(kBtu)','Electricity(kBtu)','NaturalGas(kBtu)'],axis=1)"
   ]
  },
  {
   "cell_type": "code",
   "execution_count": 17,
   "metadata": {},
   "outputs": [
    {
     "data": {
      "text/plain": [
       "['NumberofBuildings',\n",
       " 'NumberofFloors',\n",
       " 'PropertyGFATotal',\n",
       " 'PropertyGFAParking',\n",
       " 'PropertyGFABuilding(s)',\n",
       " 'LargestPropertyUseTypeGFA',\n",
       " 'ENERGYSTARScore',\n",
       " 'SourceEUIWN(kBtu/sf)',\n",
       " 'SiteEnergyUseWN(kBtu)',\n",
       " 'TotalGHGEmissions',\n",
       " 'GHGEmissionsIntensity',\n",
       " 'BuildingAge']"
      ]
     },
     "execution_count": 17,
     "metadata": {},
     "output_type": "execute_result"
    }
   ],
   "source": [
    "var_num.columns.tolist()"
   ]
  },
  {
   "cell_type": "code",
   "execution_count": 18,
   "metadata": {},
   "outputs": [],
   "source": [
    "df_filter= pd.concat([var_categ, var_num], axis=1)"
   ]
  },
  {
   "cell_type": "code",
   "execution_count": 19,
   "metadata": {},
   "outputs": [
    {
     "data": {
      "text/html": [
       "<div>\n",
       "<style scoped>\n",
       "    .dataframe tbody tr th:only-of-type {\n",
       "        vertical-align: middle;\n",
       "    }\n",
       "\n",
       "    .dataframe tbody tr th {\n",
       "        vertical-align: top;\n",
       "    }\n",
       "\n",
       "    .dataframe thead th {\n",
       "        text-align: right;\n",
       "    }\n",
       "</style>\n",
       "<table border=\"1\" class=\"dataframe\">\n",
       "  <thead>\n",
       "    <tr style=\"text-align: right;\">\n",
       "      <th></th>\n",
       "      <th>PrimaryPropertyType</th>\n",
       "      <th>Neighborhood</th>\n",
       "      <th>LargestPropertyUseType</th>\n",
       "      <th>ComplianceStatus</th>\n",
       "      <th>NumberofBuildings</th>\n",
       "      <th>NumberofFloors</th>\n",
       "      <th>PropertyGFATotal</th>\n",
       "      <th>PropertyGFAParking</th>\n",
       "      <th>PropertyGFABuilding(s)</th>\n",
       "      <th>LargestPropertyUseTypeGFA</th>\n",
       "      <th>ENERGYSTARScore</th>\n",
       "      <th>SourceEUIWN(kBtu/sf)</th>\n",
       "      <th>SiteEnergyUseWN(kBtu)</th>\n",
       "      <th>TotalGHGEmissions</th>\n",
       "      <th>GHGEmissionsIntensity</th>\n",
       "      <th>BuildingAge</th>\n",
       "    </tr>\n",
       "  </thead>\n",
       "  <tbody>\n",
       "    <tr>\n",
       "      <th>0</th>\n",
       "      <td>Hotel</td>\n",
       "      <td>DOWNTOWN</td>\n",
       "      <td>Hotel</td>\n",
       "      <td>Compliant</td>\n",
       "      <td>1.0</td>\n",
       "      <td>12</td>\n",
       "      <td>88434</td>\n",
       "      <td>0</td>\n",
       "      <td>88434</td>\n",
       "      <td>88434.0</td>\n",
       "      <td>60.0</td>\n",
       "      <td>189.000000</td>\n",
       "      <td>7456910.0</td>\n",
       "      <td>249.98</td>\n",
       "      <td>2.83</td>\n",
       "      <td>89</td>\n",
       "    </tr>\n",
       "    <tr>\n",
       "      <th>1</th>\n",
       "      <td>Hotel</td>\n",
       "      <td>DOWNTOWN</td>\n",
       "      <td>Hotel</td>\n",
       "      <td>Compliant</td>\n",
       "      <td>1.0</td>\n",
       "      <td>11</td>\n",
       "      <td>103566</td>\n",
       "      <td>15064</td>\n",
       "      <td>88502</td>\n",
       "      <td>83880.0</td>\n",
       "      <td>61.0</td>\n",
       "      <td>179.399994</td>\n",
       "      <td>8664479.0</td>\n",
       "      <td>295.86</td>\n",
       "      <td>2.86</td>\n",
       "      <td>20</td>\n",
       "    </tr>\n",
       "    <tr>\n",
       "      <th>2</th>\n",
       "      <td>Hotel</td>\n",
       "      <td>DOWNTOWN</td>\n",
       "      <td>Hotel</td>\n",
       "      <td>Compliant</td>\n",
       "      <td>1.0</td>\n",
       "      <td>10</td>\n",
       "      <td>61320</td>\n",
       "      <td>0</td>\n",
       "      <td>61320</td>\n",
       "      <td>61320.0</td>\n",
       "      <td>56.0</td>\n",
       "      <td>224.000000</td>\n",
       "      <td>6946800.5</td>\n",
       "      <td>286.43</td>\n",
       "      <td>4.67</td>\n",
       "      <td>90</td>\n",
       "    </tr>\n",
       "    <tr>\n",
       "      <th>3</th>\n",
       "      <td>Hotel</td>\n",
       "      <td>DOWNTOWN</td>\n",
       "      <td>Hotel</td>\n",
       "      <td>Compliant</td>\n",
       "      <td>1.0</td>\n",
       "      <td>11</td>\n",
       "      <td>83008</td>\n",
       "      <td>0</td>\n",
       "      <td>83008</td>\n",
       "      <td>81352.0</td>\n",
       "      <td>27.0</td>\n",
       "      <td>154.699997</td>\n",
       "      <td>6062767.5</td>\n",
       "      <td>176.14</td>\n",
       "      <td>2.12</td>\n",
       "      <td>90</td>\n",
       "    </tr>\n",
       "    <tr>\n",
       "      <th>4</th>\n",
       "      <td>Other</td>\n",
       "      <td>DOWNTOWN</td>\n",
       "      <td>Other - Entertainment/Public Assembly</td>\n",
       "      <td>Compliant</td>\n",
       "      <td>1.0</td>\n",
       "      <td>8</td>\n",
       "      <td>102761</td>\n",
       "      <td>0</td>\n",
       "      <td>102761</td>\n",
       "      <td>102761.0</td>\n",
       "      <td>NaN</td>\n",
       "      <td>152.300003</td>\n",
       "      <td>7067881.5</td>\n",
       "      <td>221.51</td>\n",
       "      <td>2.16</td>\n",
       "      <td>90</td>\n",
       "    </tr>\n",
       "  </tbody>\n",
       "</table>\n",
       "</div>"
      ],
      "text/plain": [
       "  PrimaryPropertyType Neighborhood                 LargestPropertyUseType  \\\n",
       "0               Hotel     DOWNTOWN                                  Hotel   \n",
       "1               Hotel     DOWNTOWN                                  Hotel   \n",
       "2               Hotel     DOWNTOWN                                  Hotel   \n",
       "3               Hotel     DOWNTOWN                                  Hotel   \n",
       "4               Other     DOWNTOWN  Other - Entertainment/Public Assembly   \n",
       "\n",
       "  ComplianceStatus  NumberofBuildings  NumberofFloors  PropertyGFATotal  \\\n",
       "0        Compliant                1.0              12             88434   \n",
       "1        Compliant                1.0              11            103566   \n",
       "2        Compliant                1.0              10             61320   \n",
       "3        Compliant                1.0              11             83008   \n",
       "4        Compliant                1.0               8            102761   \n",
       "\n",
       "   PropertyGFAParking  PropertyGFABuilding(s)  LargestPropertyUseTypeGFA  \\\n",
       "0                   0                   88434                    88434.0   \n",
       "1               15064                   88502                    83880.0   \n",
       "2                   0                   61320                    61320.0   \n",
       "3                   0                   83008                    81352.0   \n",
       "4                   0                  102761                   102761.0   \n",
       "\n",
       "   ENERGYSTARScore  SourceEUIWN(kBtu/sf)  SiteEnergyUseWN(kBtu)  \\\n",
       "0             60.0            189.000000              7456910.0   \n",
       "1             61.0            179.399994              8664479.0   \n",
       "2             56.0            224.000000              6946800.5   \n",
       "3             27.0            154.699997              6062767.5   \n",
       "4              NaN            152.300003              7067881.5   \n",
       "\n",
       "   TotalGHGEmissions  GHGEmissionsIntensity  BuildingAge  \n",
       "0             249.98                   2.83           89  \n",
       "1             295.86                   2.86           20  \n",
       "2             286.43                   4.67           90  \n",
       "3             176.14                   2.12           90  \n",
       "4             221.51                   2.16           90  "
      ]
     },
     "execution_count": 19,
     "metadata": {},
     "output_type": "execute_result"
    }
   ],
   "source": [
    "df_filter.head()"
   ]
  },
  {
   "cell_type": "code",
   "execution_count": 20,
   "metadata": {},
   "outputs": [
    {
     "data": {
      "text/plain": [
       "(1358, 16)"
      ]
     },
     "execution_count": 20,
     "metadata": {},
     "output_type": "execute_result"
    }
   ],
   "source": [
    "df_filter.shape"
   ]
  },
  {
   "cell_type": "code",
   "execution_count": 21,
   "metadata": {},
   "outputs": [
    {
     "data": {
      "text/plain": [
       "array(['Hotel', 'Other', 'Mixed Use Property', 'K-12 School',\n",
       "       'Small- and Mid-Sized Office', 'Self-Storage Facility',\n",
       "       'Large Office', 'Retail Store', 'University', 'Residence Hall',\n",
       "       'Warehouse', 'Distribution Center', 'Senior Care Community',\n",
       "       'Worship Facility', 'Medical Office',\n",
       "       'Supermarket / Grocery Store', 'Refrigerated Warehouse',\n",
       "       'Low-Rise Multifamily', 'Restaurant', 'Laboratory', 'Hospital'],\n",
       "      dtype=object)"
      ]
     },
     "execution_count": 21,
     "metadata": {},
     "output_type": "execute_result"
    }
   ],
   "source": [
    "df_filter.PrimaryPropertyType.unique()"
   ]
  },
  {
   "cell_type": "markdown",
   "metadata": {},
   "source": [
    "On prépare le feature (PrimaryPropertyType) pour l'encodage OneHotEncoder:"
   ]
  },
  {
   "cell_type": "code",
   "execution_count": 22,
   "metadata": {},
   "outputs": [],
   "source": [
    "def PropertyType_preprocessing(text):\n",
    "    \"\"\"\n",
    "    Function to Preprocess the features PrimaryPropertyType .\n",
    "    \"\"\"\n",
    "    text= text.lower()  # converts all uppercase characters to lowercase\n",
    "    text = text.replace(\"/\", \"\")    # Remove slash\n",
    "    text = text.replace(\"-\", \"\")    # Remove dash\n",
    "    text = text.replace(\" \", \"\")    # Remove whitespaces\n",
    "    text = text.replace(\"12\", \"twelve\")\n",
    "    return text\n",
    "\n",
    "df_filter['PrimaryPropertyType'] = df_filter['PrimaryPropertyType'].apply(lambda x: PropertyType_preprocessing(x))"
   ]
  },
  {
   "cell_type": "code",
   "execution_count": 23,
   "metadata": {},
   "outputs": [
    {
     "data": {
      "text/plain": [
       "array(['hotel', 'other', 'mixeduseproperty', 'ktwelveschool',\n",
       "       'smallandmidsizedoffice', 'selfstoragefacility', 'largeoffice',\n",
       "       'retailstore', 'university', 'residencehall', 'warehouse',\n",
       "       'distributioncenter', 'seniorcarecommunity', 'worshipfacility',\n",
       "       'medicaloffice', 'supermarketgrocerystore',\n",
       "       'refrigeratedwarehouse', 'lowrisemultifamily', 'restaurant',\n",
       "       'laboratory', 'hospital'], dtype=object)"
      ]
     },
     "execution_count": 23,
     "metadata": {},
     "output_type": "execute_result"
    }
   ],
   "source": [
    "df_filter.PrimaryPropertyType.unique()"
   ]
  },
  {
   "cell_type": "code",
   "execution_count": 24,
   "metadata": {},
   "outputs": [
    {
     "name": "stdout",
     "output_type": "stream",
     "text": [
      "<class 'pandas.core.frame.DataFrame'>\n",
      "RangeIndex: 1358 entries, 0 to 1357\n",
      "Data columns (total 16 columns):\n",
      " #   Column                     Non-Null Count  Dtype  \n",
      "---  ------                     --------------  -----  \n",
      " 0   PrimaryPropertyType        1358 non-null   object \n",
      " 1   Neighborhood               1358 non-null   object \n",
      " 2   LargestPropertyUseType     1358 non-null   object \n",
      " 3   ComplianceStatus           1358 non-null   object \n",
      " 4   NumberofBuildings          1358 non-null   float64\n",
      " 5   NumberofFloors             1358 non-null   int64  \n",
      " 6   PropertyGFATotal           1358 non-null   int64  \n",
      " 7   PropertyGFAParking         1358 non-null   int64  \n",
      " 8   PropertyGFABuilding(s)     1358 non-null   int64  \n",
      " 9   LargestPropertyUseTypeGFA  1358 non-null   float64\n",
      " 10  ENERGYSTARScore            896 non-null    float64\n",
      " 11  SourceEUIWN(kBtu/sf)       1358 non-null   float64\n",
      " 12  SiteEnergyUseWN(kBtu)      1358 non-null   float64\n",
      " 13  TotalGHGEmissions          1358 non-null   float64\n",
      " 14  GHGEmissionsIntensity      1358 non-null   float64\n",
      " 15  BuildingAge                1358 non-null   int64  \n",
      "dtypes: float64(7), int64(5), object(4)\n",
      "memory usage: 169.9+ KB\n"
     ]
    }
   ],
   "source": [
    "df_filter.info()"
   ]
  },
  {
   "cell_type": "code",
   "execution_count": 25,
   "metadata": {},
   "outputs": [],
   "source": [
    "# on charge le df_filter dans un fichier csv:\n",
    "df_filter.to_csv('consoBat_df_filter.csv',index=False)"
   ]
  },
  {
   "cell_type": "markdown",
   "metadata": {},
   "source": [
    "### Prédiction de la variable d'émission: (TotalGHGEmissions), sans le feature (ENERGYSTARScore)"
   ]
  },
  {
   "cell_type": "markdown",
   "metadata": {},
   "source": [
    "#### Préparation du preprocessor:"
   ]
  },
  {
   "cell_type": "code",
   "execution_count": 26,
   "metadata": {},
   "outputs": [],
   "source": [
    "# Importation des bibliothèques nécessaires:\n",
    "from sklearn.preprocessing import StandardScaler, OneHotEncoder\n",
    "from sklearn.model_selection import GridSearchCV, cross_val_score\n",
    "from sklearn.pipeline import make_pipeline\n",
    "from sklearn.model_selection import train_test_split\n",
    "from sklearn.compose import make_column_transformer\n",
    "from sklearn.model_selection import GridSearchCV\n",
    "from sklearn.metrics import *\n",
    "from sklearn.impute import SimpleImputer\n",
    "from sklearn.linear_model import LinearRegression, Ridge, Lasso,  ElasticNet\n",
    "from sklearn.svm import SVR\n",
    "from sklearn.ensemble import RandomForestRegressor, AdaBoostRegressor\n",
    "from sklearn.tree import DecisionTreeRegressor\n",
    "import warnings\n",
    "warnings.filterwarnings(\"ignore\")"
   ]
  },
  {
   "cell_type": "code",
   "execution_count": 27,
   "metadata": {},
   "outputs": [
    {
     "data": {
      "text/plain": [
       "16"
      ]
     },
     "execution_count": 27,
     "metadata": {},
     "output_type": "execute_result"
    }
   ],
   "source": [
    "len(df_filter.columns)"
   ]
  },
  {
   "cell_type": "markdown",
   "metadata": {},
   "source": [
    "##### On définit les variables X et y:"
   ]
  },
  {
   "cell_type": "code",
   "execution_count": 28,
   "metadata": {},
   "outputs": [],
   "source": [
    "# On écarte les 2 variables de prédictions et la variable (ENERGYSTARScore) avec les données manquantes:\n",
    "X=df_filter.drop(['TotalGHGEmissions','SiteEnergyUseWN(kBtu)','ENERGYSTARScore'],axis=1)"
   ]
  },
  {
   "cell_type": "code",
   "execution_count": 29,
   "metadata": {},
   "outputs": [
    {
     "data": {
      "text/plain": [
       "13"
      ]
     },
     "execution_count": 29,
     "metadata": {},
     "output_type": "execute_result"
    }
   ],
   "source": [
    "len(X.columns)"
   ]
  },
  {
   "cell_type": "code",
   "execution_count": 30,
   "metadata": {},
   "outputs": [],
   "source": [
    "y= df_filter['TotalGHGEmissions']"
   ]
  },
  {
   "cell_type": "markdown",
   "metadata": {},
   "source": [
    "##### On split les données entre Training set et Test set:"
   ]
  },
  {
   "cell_type": "code",
   "execution_count": 31,
   "metadata": {},
   "outputs": [],
   "source": [
    "#spliting data to training/test data:\n",
    "X_train, X_test, y_train, y_test = train_test_split(X, y, test_size=0.3, random_state=42)"
   ]
  },
  {
   "cell_type": "code",
   "execution_count": 32,
   "metadata": {},
   "outputs": [
    {
     "name": "stdout",
     "output_type": "stream",
     "text": [
      "(950, 13)\n",
      "(408, 13)\n"
     ]
    }
   ],
   "source": [
    "# dimensions X_train et X_test\n",
    "print(X_train.shape)\n",
    "print(X_test.shape)"
   ]
  },
  {
   "cell_type": "markdown",
   "metadata": {},
   "source": [
    "On a un dataframe avec des variables catégorielles et numériques, donc on fait appel à (make_column_transformer)"
   ]
  },
  {
   "cell_type": "code",
   "execution_count": 33,
   "metadata": {},
   "outputs": [],
   "source": [
    "col_categ= var_categ.columns.tolist()"
   ]
  },
  {
   "cell_type": "code",
   "execution_count": 34,
   "metadata": {},
   "outputs": [
    {
     "data": {
      "text/plain": [
       "4"
      ]
     },
     "execution_count": 34,
     "metadata": {},
     "output_type": "execute_result"
    }
   ],
   "source": [
    "len(col_categ)"
   ]
  },
  {
   "cell_type": "code",
   "execution_count": 35,
   "metadata": {},
   "outputs": [],
   "source": [
    "col_num= var_num.columns.tolist()"
   ]
  },
  {
   "cell_type": "code",
   "execution_count": 36,
   "metadata": {},
   "outputs": [
    {
     "data": {
      "text/plain": [
       "['NumberofBuildings',\n",
       " 'NumberofFloors',\n",
       " 'PropertyGFATotal',\n",
       " 'PropertyGFAParking',\n",
       " 'PropertyGFABuilding(s)',\n",
       " 'LargestPropertyUseTypeGFA',\n",
       " 'ENERGYSTARScore',\n",
       " 'SourceEUIWN(kBtu/sf)',\n",
       " 'SiteEnergyUseWN(kBtu)',\n",
       " 'TotalGHGEmissions',\n",
       " 'GHGEmissionsIntensity',\n",
       " 'BuildingAge']"
      ]
     },
     "execution_count": 36,
     "metadata": {},
     "output_type": "execute_result"
    }
   ],
   "source": [
    "col_num"
   ]
  },
  {
   "cell_type": "code",
   "execution_count": 37,
   "metadata": {},
   "outputs": [
    {
     "name": "stdout",
     "output_type": "stream",
     "text": [
      "SiteEnergyUseWN(kBtu)\n",
      "TotalGHGEmissions\n",
      "ENERGYSTARScore\n"
     ]
    }
   ],
   "source": [
    "#On écarte les 2 variables de prédictions et la variable (ENERGYSTARScore) avec données manquantes.\n",
    "remove_lst= ['SiteEnergyUseWN(kBtu)', 'TotalGHGEmissions','ENERGYSTARScore']\n",
    "for x in remove_lst:\n",
    "    print (x), col_num.remove(x)       "
   ]
  },
  {
   "cell_type": "code",
   "execution_count": 38,
   "metadata": {},
   "outputs": [
    {
     "data": {
      "text/plain": [
       "['NumberofBuildings',\n",
       " 'NumberofFloors',\n",
       " 'PropertyGFATotal',\n",
       " 'PropertyGFAParking',\n",
       " 'PropertyGFABuilding(s)',\n",
       " 'LargestPropertyUseTypeGFA',\n",
       " 'SourceEUIWN(kBtu/sf)',\n",
       " 'GHGEmissionsIntensity',\n",
       " 'BuildingAge']"
      ]
     },
     "execution_count": 38,
     "metadata": {},
     "output_type": "execute_result"
    }
   ],
   "source": [
    "# Vérification:\n",
    "col_num"
   ]
  },
  {
   "cell_type": "code",
   "execution_count": 39,
   "metadata": {},
   "outputs": [],
   "source": [
    "# Application de make_column_transformer car différent type de preprocessing requis pour les features.\n",
    "column_trans= make_column_transformer((OneHotEncoder(handle_unknown='ignore') ,col_categ), (StandardScaler(), col_num))"
   ]
  },
  {
   "cell_type": "markdown",
   "metadata": {},
   "source": [
    "#### Application du modèle basique de regression: LinearRegression"
   ]
  },
  {
   "cell_type": "code",
   "execution_count": 40,
   "metadata": {},
   "outputs": [
    {
     "data": {
      "text/plain": [
       "GridSearchCV(cv=5,\n",
       "             estimator=Pipeline(steps=[('columntransformer',\n",
       "                                        ColumnTransformer(transformers=[('onehotencoder',\n",
       "                                                                         OneHotEncoder(handle_unknown='ignore'),\n",
       "                                                                         ['PrimaryPropertyType',\n",
       "                                                                          'Neighborhood',\n",
       "                                                                          'LargestPropertyUseType',\n",
       "                                                                          'ComplianceStatus']),\n",
       "                                                                        ('standardscaler',\n",
       "                                                                         StandardScaler(),\n",
       "                                                                         ['NumberofBuildings',\n",
       "                                                                          'NumberofFloors',\n",
       "                                                                          'PropertyGFATotal',\n",
       "                                                                          'PropertyGFAParking',\n",
       "                                                                          'PropertyGFABuilding(s)',\n",
       "                                                                          'LargestPropertyUseTypeGFA',\n",
       "                                                                          'SourceEUIWN(kBtu/sf)',\n",
       "                                                                          'GHGEmissionsIntensity',\n",
       "                                                                          'BuildingAge'])])),\n",
       "                                       ('linearregression',\n",
       "                                        LinearRegression())]),\n",
       "             param_grid={'linearregression__fit_intercept': [True, False]},\n",
       "             scoring='r2')"
      ]
     },
     "execution_count": 40,
     "metadata": {},
     "output_type": "execute_result"
    }
   ],
   "source": [
    "lr = LinearRegression()\n",
    "# On crée le modèle à l'aide de pipeline\n",
    "pipe_lr= make_pipeline(column_trans,lr)\n",
    "#Grille de recherche:\n",
    "parameter= {'linearregression__fit_intercept':[True,False]}\n",
    "grid_lr= GridSearchCV(pipe_lr, parameter, cv=5,scoring='r2')\n",
    "grid_lr.fit(X_train,y_train)"
   ]
  },
  {
   "cell_type": "code",
   "execution_count": 41,
   "metadata": {},
   "outputs": [
    {
     "data": {
      "text/html": [
       "<style>#sk-902fb3de-1519-4af2-95d7-9afdb88c993e {color: black;background-color: white;}#sk-902fb3de-1519-4af2-95d7-9afdb88c993e pre{padding: 0;}#sk-902fb3de-1519-4af2-95d7-9afdb88c993e div.sk-toggleable {background-color: white;}#sk-902fb3de-1519-4af2-95d7-9afdb88c993e label.sk-toggleable__label {cursor: pointer;display: block;width: 100%;margin-bottom: 0;padding: 0.3em;box-sizing: border-box;text-align: center;}#sk-902fb3de-1519-4af2-95d7-9afdb88c993e label.sk-toggleable__label-arrow:before {content: \"▸\";float: left;margin-right: 0.25em;color: #696969;}#sk-902fb3de-1519-4af2-95d7-9afdb88c993e label.sk-toggleable__label-arrow:hover:before {color: black;}#sk-902fb3de-1519-4af2-95d7-9afdb88c993e div.sk-estimator:hover label.sk-toggleable__label-arrow:before {color: black;}#sk-902fb3de-1519-4af2-95d7-9afdb88c993e div.sk-toggleable__content {max-height: 0;max-width: 0;overflow: hidden;text-align: left;background-color: #f0f8ff;}#sk-902fb3de-1519-4af2-95d7-9afdb88c993e div.sk-toggleable__content pre {margin: 0.2em;color: black;border-radius: 0.25em;background-color: #f0f8ff;}#sk-902fb3de-1519-4af2-95d7-9afdb88c993e input.sk-toggleable__control:checked~div.sk-toggleable__content {max-height: 200px;max-width: 100%;overflow: auto;}#sk-902fb3de-1519-4af2-95d7-9afdb88c993e input.sk-toggleable__control:checked~label.sk-toggleable__label-arrow:before {content: \"▾\";}#sk-902fb3de-1519-4af2-95d7-9afdb88c993e div.sk-estimator input.sk-toggleable__control:checked~label.sk-toggleable__label {background-color: #d4ebff;}#sk-902fb3de-1519-4af2-95d7-9afdb88c993e div.sk-label input.sk-toggleable__control:checked~label.sk-toggleable__label {background-color: #d4ebff;}#sk-902fb3de-1519-4af2-95d7-9afdb88c993e input.sk-hidden--visually {border: 0;clip: rect(1px 1px 1px 1px);clip: rect(1px, 1px, 1px, 1px);height: 1px;margin: -1px;overflow: hidden;padding: 0;position: absolute;width: 1px;}#sk-902fb3de-1519-4af2-95d7-9afdb88c993e div.sk-estimator {font-family: monospace;background-color: #f0f8ff;border: 1px dotted black;border-radius: 0.25em;box-sizing: border-box;margin-bottom: 0.5em;}#sk-902fb3de-1519-4af2-95d7-9afdb88c993e div.sk-estimator:hover {background-color: #d4ebff;}#sk-902fb3de-1519-4af2-95d7-9afdb88c993e div.sk-parallel-item::after {content: \"\";width: 100%;border-bottom: 1px solid gray;flex-grow: 1;}#sk-902fb3de-1519-4af2-95d7-9afdb88c993e div.sk-label:hover label.sk-toggleable__label {background-color: #d4ebff;}#sk-902fb3de-1519-4af2-95d7-9afdb88c993e div.sk-serial::before {content: \"\";position: absolute;border-left: 1px solid gray;box-sizing: border-box;top: 2em;bottom: 0;left: 50%;}#sk-902fb3de-1519-4af2-95d7-9afdb88c993e div.sk-serial {display: flex;flex-direction: column;align-items: center;background-color: white;padding-right: 0.2em;padding-left: 0.2em;}#sk-902fb3de-1519-4af2-95d7-9afdb88c993e div.sk-item {z-index: 1;}#sk-902fb3de-1519-4af2-95d7-9afdb88c993e div.sk-parallel {display: flex;align-items: stretch;justify-content: center;background-color: white;}#sk-902fb3de-1519-4af2-95d7-9afdb88c993e div.sk-parallel::before {content: \"\";position: absolute;border-left: 1px solid gray;box-sizing: border-box;top: 2em;bottom: 0;left: 50%;}#sk-902fb3de-1519-4af2-95d7-9afdb88c993e div.sk-parallel-item {display: flex;flex-direction: column;position: relative;background-color: white;}#sk-902fb3de-1519-4af2-95d7-9afdb88c993e div.sk-parallel-item:first-child::after {align-self: flex-end;width: 50%;}#sk-902fb3de-1519-4af2-95d7-9afdb88c993e div.sk-parallel-item:last-child::after {align-self: flex-start;width: 50%;}#sk-902fb3de-1519-4af2-95d7-9afdb88c993e div.sk-parallel-item:only-child::after {width: 0;}#sk-902fb3de-1519-4af2-95d7-9afdb88c993e div.sk-dashed-wrapped {border: 1px dashed gray;margin: 0 0.4em 0.5em 0.4em;box-sizing: border-box;padding-bottom: 0.4em;background-color: white;position: relative;}#sk-902fb3de-1519-4af2-95d7-9afdb88c993e div.sk-label label {font-family: monospace;font-weight: bold;background-color: white;display: inline-block;line-height: 1.2em;}#sk-902fb3de-1519-4af2-95d7-9afdb88c993e div.sk-label-container {position: relative;z-index: 2;text-align: center;}#sk-902fb3de-1519-4af2-95d7-9afdb88c993e div.sk-container {/* jupyter's `normalize.less` sets `[hidden] { display: none; }` but bootstrap.min.css set `[hidden] { display: none !important; }` so we also need the `!important` here to be able to override the default hidden behavior on the sphinx rendered scikit-learn.org. See: https://github.com/scikit-learn/scikit-learn/issues/21755 */display: inline-block !important;position: relative;}#sk-902fb3de-1519-4af2-95d7-9afdb88c993e div.sk-text-repr-fallback {display: none;}</style><div id=\"sk-902fb3de-1519-4af2-95d7-9afdb88c993e\" class=\"sk-top-container\"><div class=\"sk-text-repr-fallback\"><pre>Pipeline(steps=[(&#x27;columntransformer&#x27;,\n",
       "                 ColumnTransformer(transformers=[(&#x27;onehotencoder&#x27;,\n",
       "                                                  OneHotEncoder(handle_unknown=&#x27;ignore&#x27;),\n",
       "                                                  [&#x27;PrimaryPropertyType&#x27;,\n",
       "                                                   &#x27;Neighborhood&#x27;,\n",
       "                                                   &#x27;LargestPropertyUseType&#x27;,\n",
       "                                                   &#x27;ComplianceStatus&#x27;]),\n",
       "                                                 (&#x27;standardscaler&#x27;,\n",
       "                                                  StandardScaler(),\n",
       "                                                  [&#x27;NumberofBuildings&#x27;,\n",
       "                                                   &#x27;NumberofFloors&#x27;,\n",
       "                                                   &#x27;PropertyGFATotal&#x27;,\n",
       "                                                   &#x27;PropertyGFAParking&#x27;,\n",
       "                                                   &#x27;PropertyGFABuilding(s)&#x27;,\n",
       "                                                   &#x27;LargestPropertyUseTypeGFA&#x27;,\n",
       "                                                   &#x27;SourceEUIWN(kBtu/sf)&#x27;,\n",
       "                                                   &#x27;GHGEmissionsIntensity&#x27;,\n",
       "                                                   &#x27;BuildingAge&#x27;])])),\n",
       "                (&#x27;linearregression&#x27;, LinearRegression())])</pre><b>Please rerun this cell to show the HTML repr or trust the notebook.</b></div><div class=\"sk-container\" hidden><div class=\"sk-item sk-dashed-wrapped\"><div class=\"sk-label-container\"><div class=\"sk-label sk-toggleable\"><input class=\"sk-toggleable__control sk-hidden--visually\" id=\"c62f924b-be29-448f-b7c4-66f634f65d82\" type=\"checkbox\" ><label for=\"c62f924b-be29-448f-b7c4-66f634f65d82\" class=\"sk-toggleable__label sk-toggleable__label-arrow\">Pipeline</label><div class=\"sk-toggleable__content\"><pre>Pipeline(steps=[(&#x27;columntransformer&#x27;,\n",
       "                 ColumnTransformer(transformers=[(&#x27;onehotencoder&#x27;,\n",
       "                                                  OneHotEncoder(handle_unknown=&#x27;ignore&#x27;),\n",
       "                                                  [&#x27;PrimaryPropertyType&#x27;,\n",
       "                                                   &#x27;Neighborhood&#x27;,\n",
       "                                                   &#x27;LargestPropertyUseType&#x27;,\n",
       "                                                   &#x27;ComplianceStatus&#x27;]),\n",
       "                                                 (&#x27;standardscaler&#x27;,\n",
       "                                                  StandardScaler(),\n",
       "                                                  [&#x27;NumberofBuildings&#x27;,\n",
       "                                                   &#x27;NumberofFloors&#x27;,\n",
       "                                                   &#x27;PropertyGFATotal&#x27;,\n",
       "                                                   &#x27;PropertyGFAParking&#x27;,\n",
       "                                                   &#x27;PropertyGFABuilding(s)&#x27;,\n",
       "                                                   &#x27;LargestPropertyUseTypeGFA&#x27;,\n",
       "                                                   &#x27;SourceEUIWN(kBtu/sf)&#x27;,\n",
       "                                                   &#x27;GHGEmissionsIntensity&#x27;,\n",
       "                                                   &#x27;BuildingAge&#x27;])])),\n",
       "                (&#x27;linearregression&#x27;, LinearRegression())])</pre></div></div></div><div class=\"sk-serial\"><div class=\"sk-item sk-dashed-wrapped\"><div class=\"sk-label-container\"><div class=\"sk-label sk-toggleable\"><input class=\"sk-toggleable__control sk-hidden--visually\" id=\"98c8c83f-586a-4f16-afd0-b4f61af3a8fc\" type=\"checkbox\" ><label for=\"98c8c83f-586a-4f16-afd0-b4f61af3a8fc\" class=\"sk-toggleable__label sk-toggleable__label-arrow\">columntransformer: ColumnTransformer</label><div class=\"sk-toggleable__content\"><pre>ColumnTransformer(transformers=[(&#x27;onehotencoder&#x27;,\n",
       "                                 OneHotEncoder(handle_unknown=&#x27;ignore&#x27;),\n",
       "                                 [&#x27;PrimaryPropertyType&#x27;, &#x27;Neighborhood&#x27;,\n",
       "                                  &#x27;LargestPropertyUseType&#x27;,\n",
       "                                  &#x27;ComplianceStatus&#x27;]),\n",
       "                                (&#x27;standardscaler&#x27;, StandardScaler(),\n",
       "                                 [&#x27;NumberofBuildings&#x27;, &#x27;NumberofFloors&#x27;,\n",
       "                                  &#x27;PropertyGFATotal&#x27;, &#x27;PropertyGFAParking&#x27;,\n",
       "                                  &#x27;PropertyGFABuilding(s)&#x27;,\n",
       "                                  &#x27;LargestPropertyUseTypeGFA&#x27;,\n",
       "                                  &#x27;SourceEUIWN(kBtu/sf)&#x27;,\n",
       "                                  &#x27;GHGEmissionsIntensity&#x27;, &#x27;BuildingAge&#x27;])])</pre></div></div></div><div class=\"sk-parallel\"><div class=\"sk-parallel-item\"><div class=\"sk-item\"><div class=\"sk-label-container\"><div class=\"sk-label sk-toggleable\"><input class=\"sk-toggleable__control sk-hidden--visually\" id=\"70cd281a-3489-4b90-a0ce-e9e11d3589cb\" type=\"checkbox\" ><label for=\"70cd281a-3489-4b90-a0ce-e9e11d3589cb\" class=\"sk-toggleable__label sk-toggleable__label-arrow\">onehotencoder</label><div class=\"sk-toggleable__content\"><pre>[&#x27;PrimaryPropertyType&#x27;, &#x27;Neighborhood&#x27;, &#x27;LargestPropertyUseType&#x27;, &#x27;ComplianceStatus&#x27;]</pre></div></div></div><div class=\"sk-serial\"><div class=\"sk-item\"><div class=\"sk-estimator sk-toggleable\"><input class=\"sk-toggleable__control sk-hidden--visually\" id=\"60fce5f2-c07e-4425-9beb-a82db95aeeca\" type=\"checkbox\" ><label for=\"60fce5f2-c07e-4425-9beb-a82db95aeeca\" class=\"sk-toggleable__label sk-toggleable__label-arrow\">OneHotEncoder</label><div class=\"sk-toggleable__content\"><pre>OneHotEncoder(handle_unknown=&#x27;ignore&#x27;)</pre></div></div></div></div></div></div><div class=\"sk-parallel-item\"><div class=\"sk-item\"><div class=\"sk-label-container\"><div class=\"sk-label sk-toggleable\"><input class=\"sk-toggleable__control sk-hidden--visually\" id=\"380ddc60-f037-49f0-bb45-0d42bea13c76\" type=\"checkbox\" ><label for=\"380ddc60-f037-49f0-bb45-0d42bea13c76\" class=\"sk-toggleable__label sk-toggleable__label-arrow\">standardscaler</label><div class=\"sk-toggleable__content\"><pre>[&#x27;NumberofBuildings&#x27;, &#x27;NumberofFloors&#x27;, &#x27;PropertyGFATotal&#x27;, &#x27;PropertyGFAParking&#x27;, &#x27;PropertyGFABuilding(s)&#x27;, &#x27;LargestPropertyUseTypeGFA&#x27;, &#x27;SourceEUIWN(kBtu/sf)&#x27;, &#x27;GHGEmissionsIntensity&#x27;, &#x27;BuildingAge&#x27;]</pre></div></div></div><div class=\"sk-serial\"><div class=\"sk-item\"><div class=\"sk-estimator sk-toggleable\"><input class=\"sk-toggleable__control sk-hidden--visually\" id=\"1532631f-2d55-4780-a8d8-45ad68d3f7eb\" type=\"checkbox\" ><label for=\"1532631f-2d55-4780-a8d8-45ad68d3f7eb\" class=\"sk-toggleable__label sk-toggleable__label-arrow\">StandardScaler</label><div class=\"sk-toggleable__content\"><pre>StandardScaler()</pre></div></div></div></div></div></div></div></div><div class=\"sk-item\"><div class=\"sk-estimator sk-toggleable\"><input class=\"sk-toggleable__control sk-hidden--visually\" id=\"a483b671-98e0-4b9a-93e3-2b6723d9a87c\" type=\"checkbox\" ><label for=\"a483b671-98e0-4b9a-93e3-2b6723d9a87c\" class=\"sk-toggleable__label sk-toggleable__label-arrow\">LinearRegression</label><div class=\"sk-toggleable__content\"><pre>LinearRegression()</pre></div></div></div></div></div></div></div>"
      ],
      "text/plain": [
       "Pipeline(steps=[('columntransformer',\n",
       "                 ColumnTransformer(transformers=[('onehotencoder',\n",
       "                                                  OneHotEncoder(handle_unknown='ignore'),\n",
       "                                                  ['PrimaryPropertyType',\n",
       "                                                   'Neighborhood',\n",
       "                                                   'LargestPropertyUseType',\n",
       "                                                   'ComplianceStatus']),\n",
       "                                                 ('standardscaler',\n",
       "                                                  StandardScaler(),\n",
       "                                                  ['NumberofBuildings',\n",
       "                                                   'NumberofFloors',\n",
       "                                                   'PropertyGFATotal',\n",
       "                                                   'PropertyGFAParking',\n",
       "                                                   'PropertyGFABuilding(s)',\n",
       "                                                   'LargestPropertyUseTypeGFA',\n",
       "                                                   'SourceEUIWN(kBtu/sf)',\n",
       "                                                   'GHGEmissionsIntensity',\n",
       "                                                   'BuildingAge'])])),\n",
       "                ('linearregression', LinearRegression())])"
      ]
     },
     "execution_count": 41,
     "metadata": {},
     "output_type": "execute_result"
    }
   ],
   "source": [
    "from sklearn import set_config\n",
    "set_config(display=\"diagram\")\n",
    "pipe_lr"
   ]
  },
  {
   "cell_type": "code",
   "execution_count": 42,
   "metadata": {},
   "outputs": [
    {
     "name": "stdout",
     "output_type": "stream",
     "text": [
      "0.4655126439609452\n",
      "{'linearregression__fit_intercept': False}\n"
     ]
    }
   ],
   "source": [
    "print(grid_lr.best_score_)\n",
    "print(grid_lr.best_params_)"
   ]
  },
  {
   "cell_type": "code",
   "execution_count": 43,
   "metadata": {},
   "outputs": [
    {
     "data": {
      "text/plain": [
       "0.7715908398908226"
      ]
     },
     "execution_count": 43,
     "metadata": {},
     "output_type": "execute_result"
    }
   ],
   "source": [
    "model_lr= grid_lr.best_estimator_\n",
    "pred_lr= model_lr.predict(X_test)\n",
    "r2_score(y_test, pred_lr)"
   ]
  },
  {
   "cell_type": "markdown",
   "metadata": {},
   "source": [
    "##### Implémentation d'une fonction pour calcul des métriques:"
   ]
  },
  {
   "cell_type": "code",
   "execution_count": 44,
   "metadata": {},
   "outputs": [],
   "source": [
    "def compute_scores(y_test, prediction):\n",
    "    \"\"\"Function which computes RMSE, MSE, MAE, Median AE and R^2 of a prediction compared to true values.\"\"\"\n",
    "      \n",
    "    rmse = mean_squared_error(y_test, prediction, squared=False)\n",
    "    mse = mean_squared_error(y_test, prediction, squared=True)\n",
    "    mae = mean_absolute_error(y_test, prediction)\n",
    "    median_ae = median_absolute_error(y_test, prediction)\n",
    "    r2 = r2_score(y_test, prediction)\n",
    "    \n",
    "    scores = [rmse, mse, mae, median_ae, r2]\n",
    "    \n",
    "    return scores"
   ]
  },
  {
   "cell_type": "code",
   "execution_count": 45,
   "metadata": {},
   "outputs": [
    {
     "data": {
      "text/plain": [
       "[29.208153087020655,\n",
       " 853.1162067548341,\n",
       " 18.136368631883247,\n",
       " 9.77692662260474,\n",
       " 0.7715908398908226]"
      ]
     },
     "execution_count": 45,
     "metadata": {},
     "output_type": "execute_result"
    }
   ],
   "source": [
    "# calcul des métriques:\n",
    "compute_scores(y_test, pred_lr)"
   ]
  },
  {
   "cell_type": "markdown",
   "metadata": {},
   "source": [
    "##### Plot de comparaison entre y_test, pred_lr:"
   ]
  },
  {
   "cell_type": "code",
   "execution_count": 46,
   "metadata": {},
   "outputs": [
    {
     "data": {
      "image/png": "[encoded data removed]",
      "text/plain": [
       "<Figure size 432x288 with 1 Axes>"
      ]
     },
     "metadata": {
      "needs_background": "light"
     },
     "output_type": "display_data"
    }
   ],
   "source": [
    "import matplotlib.pyplot as plt\n",
    "fig, ax = plt.subplots()\n",
    "ax.scatter(y_test, pred_lr)\n",
    "ax.plot([y_test.min(), y_test.max()], [y_test.min(), y_test.max()], 'k--', lw=4)\n",
    "ax.set_xlabel('Measured')\n",
    "ax.set_ylabel('Predicted')\n",
    "plt.show()"
   ]
  },
  {
   "cell_type": "code",
   "execution_count": 47,
   "metadata": {},
   "outputs": [
    {
     "data": {
      "text/plain": [
       "<matplotlib.axes._subplots.AxesSubplot at 0x2746a6cdf48>"
      ]
     },
     "execution_count": 47,
     "metadata": {},
     "output_type": "execute_result"
    },
    {
     "data": {
      "image/png": "[encoded data removed]",
      "text/plain": [
       "<Figure size 360x216 with 1 Axes>"
      ]
     },
     "metadata": {
      "needs_background": "light"
     },
     "output_type": "display_data"
    }
   ],
   "source": [
    "#Vérification:\n",
    "plt.figure(figsize=(5,3))\n",
    "df_filter['SiteEnergyUseWN(kBtu)'].plot.box(showmeans=True)"
   ]
  },
  {
   "cell_type": "markdown",
   "metadata": {},
   "source": [
    "#### Application du modèle: Ridge Regression"
   ]
  },
  {
   "cell_type": "code",
   "execution_count": 48,
   "metadata": {},
   "outputs": [],
   "source": [
    "# instaciation de l'objet:\n",
    "ridge= Ridge()\n",
    "# On crée le modèle à l'aide de pipeline\n",
    "pipe_ridge= make_pipeline(column_trans,ridge)"
   ]
  },
  {
   "cell_type": "markdown",
   "metadata": {},
   "source": [
    "##### Cross validation avec: cross_val_score()"
   ]
  },
  {
   "cell_type": "code",
   "execution_count": 49,
   "metadata": {},
   "outputs": [
    {
     "data": {
      "text/plain": [
       "array([ 0.67394841,  0.70770294, -0.53349937,  0.71675494,  0.66510154])"
      ]
     },
     "execution_count": 49,
     "metadata": {},
     "output_type": "execute_result"
    }
   ],
   "source": [
    "cross_val_score(pipe_ridge,X_train,y_train,cv=5,scoring='r2')"
   ]
  },
  {
   "cell_type": "markdown",
   "metadata": {},
   "source": [
    "##### Optimisation des hyperparamètres avec: GridSearchCV()"
   ]
  },
  {
   "cell_type": "code",
   "execution_count": 50,
   "metadata": {},
   "outputs": [],
   "source": [
    "# Définition des paramètres:\n",
    "#le paramètre alpha permet de corriger l'overfitting\n",
    "parameter= {'ridge__alpha': [5,10,15]}\n",
    "#Grille de recherche:\n",
    "grid_ridge= GridSearchCV(pipe_ridge ,parameter, cv=5,scoring='r2')"
   ]
  },
  {
   "cell_type": "code",
   "execution_count": 51,
   "metadata": {},
   "outputs": [
    {
     "data": {
      "text/html": [
       "<style>#sk-8ead127b-b6c9-43c8-a849-08ce151d714f {color: black;background-color: white;}#sk-8ead127b-b6c9-43c8-a849-08ce151d714f pre{padding: 0;}#sk-8ead127b-b6c9-43c8-a849-08ce151d714f div.sk-toggleable {background-color: white;}#sk-8ead127b-b6c9-43c8-a849-08ce151d714f label.sk-toggleable__label {cursor: pointer;display: block;width: 100%;margin-bottom: 0;padding: 0.3em;box-sizing: border-box;text-align: center;}#sk-8ead127b-b6c9-43c8-a849-08ce151d714f label.sk-toggleable__label-arrow:before {content: \"▸\";float: left;margin-right: 0.25em;color: #696969;}#sk-8ead127b-b6c9-43c8-a849-08ce151d714f label.sk-toggleable__label-arrow:hover:before {color: black;}#sk-8ead127b-b6c9-43c8-a849-08ce151d714f div.sk-estimator:hover label.sk-toggleable__label-arrow:before {color: black;}#sk-8ead127b-b6c9-43c8-a849-08ce151d714f div.sk-toggleable__content {max-height: 0;max-width: 0;overflow: hidden;text-align: left;background-color: #f0f8ff;}#sk-8ead127b-b6c9-43c8-a849-08ce151d714f div.sk-toggleable__content pre {margin: 0.2em;color: black;border-radius: 0.25em;background-color: #f0f8ff;}#sk-8ead127b-b6c9-43c8-a849-08ce151d714f input.sk-toggleable__control:checked~div.sk-toggleable__content {max-height: 200px;max-width: 100%;overflow: auto;}#sk-8ead127b-b6c9-43c8-a849-08ce151d714f input.sk-toggleable__control:checked~label.sk-toggleable__label-arrow:before {content: \"▾\";}#sk-8ead127b-b6c9-43c8-a849-08ce151d714f div.sk-estimator input.sk-toggleable__control:checked~label.sk-toggleable__label {background-color: #d4ebff;}#sk-8ead127b-b6c9-43c8-a849-08ce151d714f div.sk-label input.sk-toggleable__control:checked~label.sk-toggleable__label {background-color: #d4ebff;}#sk-8ead127b-b6c9-43c8-a849-08ce151d714f input.sk-hidden--visually {border: 0;clip: rect(1px 1px 1px 1px);clip: rect(1px, 1px, 1px, 1px);height: 1px;margin: -1px;overflow: hidden;padding: 0;position: absolute;width: 1px;}#sk-8ead127b-b6c9-43c8-a849-08ce151d714f div.sk-estimator {font-family: monospace;background-color: #f0f8ff;border: 1px dotted black;border-radius: 0.25em;box-sizing: border-box;margin-bottom: 0.5em;}#sk-8ead127b-b6c9-43c8-a849-08ce151d714f div.sk-estimator:hover {background-color: #d4ebff;}#sk-8ead127b-b6c9-43c8-a849-08ce151d714f div.sk-parallel-item::after {content: \"\";width: 100%;border-bottom: 1px solid gray;flex-grow: 1;}#sk-8ead127b-b6c9-43c8-a849-08ce151d714f div.sk-label:hover label.sk-toggleable__label {background-color: #d4ebff;}#sk-8ead127b-b6c9-43c8-a849-08ce151d714f div.sk-serial::before {content: \"\";position: absolute;border-left: 1px solid gray;box-sizing: border-box;top: 2em;bottom: 0;left: 50%;}#sk-8ead127b-b6c9-43c8-a849-08ce151d714f div.sk-serial {display: flex;flex-direction: column;align-items: center;background-color: white;padding-right: 0.2em;padding-left: 0.2em;}#sk-8ead127b-b6c9-43c8-a849-08ce151d714f div.sk-item {z-index: 1;}#sk-8ead127b-b6c9-43c8-a849-08ce151d714f div.sk-parallel {display: flex;align-items: stretch;justify-content: center;background-color: white;}#sk-8ead127b-b6c9-43c8-a849-08ce151d714f div.sk-parallel::before {content: \"\";position: absolute;border-left: 1px solid gray;box-sizing: border-box;top: 2em;bottom: 0;left: 50%;}#sk-8ead127b-b6c9-43c8-a849-08ce151d714f div.sk-parallel-item {display: flex;flex-direction: column;position: relative;background-color: white;}#sk-8ead127b-b6c9-43c8-a849-08ce151d714f div.sk-parallel-item:first-child::after {align-self: flex-end;width: 50%;}#sk-8ead127b-b6c9-43c8-a849-08ce151d714f div.sk-parallel-item:last-child::after {align-self: flex-start;width: 50%;}#sk-8ead127b-b6c9-43c8-a849-08ce151d714f div.sk-parallel-item:only-child::after {width: 0;}#sk-8ead127b-b6c9-43c8-a849-08ce151d714f div.sk-dashed-wrapped {border: 1px dashed gray;margin: 0 0.4em 0.5em 0.4em;box-sizing: border-box;padding-bottom: 0.4em;background-color: white;position: relative;}#sk-8ead127b-b6c9-43c8-a849-08ce151d714f div.sk-label label {font-family: monospace;font-weight: bold;background-color: white;display: inline-block;line-height: 1.2em;}#sk-8ead127b-b6c9-43c8-a849-08ce151d714f div.sk-label-container {position: relative;z-index: 2;text-align: center;}#sk-8ead127b-b6c9-43c8-a849-08ce151d714f div.sk-container {/* jupyter's `normalize.less` sets `[hidden] { display: none; }` but bootstrap.min.css set `[hidden] { display: none !important; }` so we also need the `!important` here to be able to override the default hidden behavior on the sphinx rendered scikit-learn.org. See: https://github.com/scikit-learn/scikit-learn/issues/21755 */display: inline-block !important;position: relative;}#sk-8ead127b-b6c9-43c8-a849-08ce151d714f div.sk-text-repr-fallback {display: none;}</style><div id=\"sk-8ead127b-b6c9-43c8-a849-08ce151d714f\" class=\"sk-top-container\"><div class=\"sk-text-repr-fallback\"><pre>GridSearchCV(cv=5,\n",
       "             estimator=Pipeline(steps=[(&#x27;columntransformer&#x27;,\n",
       "                                        ColumnTransformer(transformers=[(&#x27;onehotencoder&#x27;,\n",
       "                                                                         OneHotEncoder(handle_unknown=&#x27;ignore&#x27;),\n",
       "                                                                         [&#x27;PrimaryPropertyType&#x27;,\n",
       "                                                                          &#x27;Neighborhood&#x27;,\n",
       "                                                                          &#x27;LargestPropertyUseType&#x27;,\n",
       "                                                                          &#x27;ComplianceStatus&#x27;]),\n",
       "                                                                        (&#x27;standardscaler&#x27;,\n",
       "                                                                         StandardScaler(),\n",
       "                                                                         [&#x27;NumberofBuildings&#x27;,\n",
       "                                                                          &#x27;NumberofFloors&#x27;,\n",
       "                                                                          &#x27;PropertyGFATotal&#x27;,\n",
       "                                                                          &#x27;PropertyGFAParking&#x27;,\n",
       "                                                                          &#x27;PropertyGFABuilding(s)&#x27;,\n",
       "                                                                          &#x27;LargestPropertyUseTypeGFA&#x27;,\n",
       "                                                                          &#x27;SourceEUIWN(kBtu/sf)&#x27;,\n",
       "                                                                          &#x27;GHGEmissionsIntensity&#x27;,\n",
       "                                                                          &#x27;BuildingAge&#x27;])])),\n",
       "                                       (&#x27;ridge&#x27;, Ridge())]),\n",
       "             param_grid={&#x27;ridge__alpha&#x27;: [5, 10, 15]}, scoring=&#x27;r2&#x27;)</pre><b>Please rerun this cell to show the HTML repr or trust the notebook.</b></div><div class=\"sk-container\" hidden><div class=\"sk-item sk-dashed-wrapped\"><div class=\"sk-label-container\"><div class=\"sk-label sk-toggleable\"><input class=\"sk-toggleable__control sk-hidden--visually\" id=\"5ef99ccd-b776-4781-bd4e-a621d76e0c54\" type=\"checkbox\" ><label for=\"5ef99ccd-b776-4781-bd4e-a621d76e0c54\" class=\"sk-toggleable__label sk-toggleable__label-arrow\">GridSearchCV</label><div class=\"sk-toggleable__content\"><pre>GridSearchCV(cv=5,\n",
       "             estimator=Pipeline(steps=[(&#x27;columntransformer&#x27;,\n",
       "                                        ColumnTransformer(transformers=[(&#x27;onehotencoder&#x27;,\n",
       "                                                                         OneHotEncoder(handle_unknown=&#x27;ignore&#x27;),\n",
       "                                                                         [&#x27;PrimaryPropertyType&#x27;,\n",
       "                                                                          &#x27;Neighborhood&#x27;,\n",
       "                                                                          &#x27;LargestPropertyUseType&#x27;,\n",
       "                                                                          &#x27;ComplianceStatus&#x27;]),\n",
       "                                                                        (&#x27;standardscaler&#x27;,\n",
       "                                                                         StandardScaler(),\n",
       "                                                                         [&#x27;NumberofBuildings&#x27;,\n",
       "                                                                          &#x27;NumberofFloors&#x27;,\n",
       "                                                                          &#x27;PropertyGFATotal&#x27;,\n",
       "                                                                          &#x27;PropertyGFAParking&#x27;,\n",
       "                                                                          &#x27;PropertyGFABuilding(s)&#x27;,\n",
       "                                                                          &#x27;LargestPropertyUseTypeGFA&#x27;,\n",
       "                                                                          &#x27;SourceEUIWN(kBtu/sf)&#x27;,\n",
       "                                                                          &#x27;GHGEmissionsIntensity&#x27;,\n",
       "                                                                          &#x27;BuildingAge&#x27;])])),\n",
       "                                       (&#x27;ridge&#x27;, Ridge())]),\n",
       "             param_grid={&#x27;ridge__alpha&#x27;: [5, 10, 15]}, scoring=&#x27;r2&#x27;)</pre></div></div></div><div class=\"sk-parallel\"><div class=\"sk-parallel-item\"><div class=\"sk-item\"><div class=\"sk-serial\"><div class=\"sk-item\"><div class=\"sk-serial\"><div class=\"sk-item sk-dashed-wrapped\"><div class=\"sk-label-container\"><div class=\"sk-label sk-toggleable\"><input class=\"sk-toggleable__control sk-hidden--visually\" id=\"fdb97cbf-7606-4453-aac2-6ab169826cb5\" type=\"checkbox\" ><label for=\"fdb97cbf-7606-4453-aac2-6ab169826cb5\" class=\"sk-toggleable__label sk-toggleable__label-arrow\">columntransformer: ColumnTransformer</label><div class=\"sk-toggleable__content\"><pre>ColumnTransformer(transformers=[(&#x27;onehotencoder&#x27;,\n",
       "                                 OneHotEncoder(handle_unknown=&#x27;ignore&#x27;),\n",
       "                                 [&#x27;PrimaryPropertyType&#x27;, &#x27;Neighborhood&#x27;,\n",
       "                                  &#x27;LargestPropertyUseType&#x27;,\n",
       "                                  &#x27;ComplianceStatus&#x27;]),\n",
       "                                (&#x27;standardscaler&#x27;, StandardScaler(),\n",
       "                                 [&#x27;NumberofBuildings&#x27;, &#x27;NumberofFloors&#x27;,\n",
       "                                  &#x27;PropertyGFATotal&#x27;, &#x27;PropertyGFAParking&#x27;,\n",
       "                                  &#x27;PropertyGFABuilding(s)&#x27;,\n",
       "                                  &#x27;LargestPropertyUseTypeGFA&#x27;,\n",
       "                                  &#x27;SourceEUIWN(kBtu/sf)&#x27;,\n",
       "                                  &#x27;GHGEmissionsIntensity&#x27;, &#x27;BuildingAge&#x27;])])</pre></div></div></div><div class=\"sk-parallel\"><div class=\"sk-parallel-item\"><div class=\"sk-item\"><div class=\"sk-label-container\"><div class=\"sk-label sk-toggleable\"><input class=\"sk-toggleable__control sk-hidden--visually\" id=\"d6d8569e-ab2a-47e7-b58e-3ce67a41451d\" type=\"checkbox\" ><label for=\"d6d8569e-ab2a-47e7-b58e-3ce67a41451d\" class=\"sk-toggleable__label sk-toggleable__label-arrow\">onehotencoder</label><div class=\"sk-toggleable__content\"><pre>[&#x27;PrimaryPropertyType&#x27;, &#x27;Neighborhood&#x27;, &#x27;LargestPropertyUseType&#x27;, &#x27;ComplianceStatus&#x27;]</pre></div></div></div><div class=\"sk-serial\"><div class=\"sk-item\"><div class=\"sk-estimator sk-toggleable\"><input class=\"sk-toggleable__control sk-hidden--visually\" id=\"a52d6021-0b1d-4caf-a461-5bf146c76d42\" type=\"checkbox\" ><label for=\"a52d6021-0b1d-4caf-a461-5bf146c76d42\" class=\"sk-toggleable__label sk-toggleable__label-arrow\">OneHotEncoder</label><div class=\"sk-toggleable__content\"><pre>OneHotEncoder(handle_unknown=&#x27;ignore&#x27;)</pre></div></div></div></div></div></div><div class=\"sk-parallel-item\"><div class=\"sk-item\"><div class=\"sk-label-container\"><div class=\"sk-label sk-toggleable\"><input class=\"sk-toggleable__control sk-hidden--visually\" id=\"45d9fa45-185e-4d13-b301-e14db8e93a1d\" type=\"checkbox\" ><label for=\"45d9fa45-185e-4d13-b301-e14db8e93a1d\" class=\"sk-toggleable__label sk-toggleable__label-arrow\">standardscaler</label><div class=\"sk-toggleable__content\"><pre>[&#x27;NumberofBuildings&#x27;, &#x27;NumberofFloors&#x27;, &#x27;PropertyGFATotal&#x27;, &#x27;PropertyGFAParking&#x27;, &#x27;PropertyGFABuilding(s)&#x27;, &#x27;LargestPropertyUseTypeGFA&#x27;, &#x27;SourceEUIWN(kBtu/sf)&#x27;, &#x27;GHGEmissionsIntensity&#x27;, &#x27;BuildingAge&#x27;]</pre></div></div></div><div class=\"sk-serial\"><div class=\"sk-item\"><div class=\"sk-estimator sk-toggleable\"><input class=\"sk-toggleable__control sk-hidden--visually\" id=\"9ec75df1-5cfa-47e3-897d-1f331df580a0\" type=\"checkbox\" ><label for=\"9ec75df1-5cfa-47e3-897d-1f331df580a0\" class=\"sk-toggleable__label sk-toggleable__label-arrow\">StandardScaler</label><div class=\"sk-toggleable__content\"><pre>StandardScaler()</pre></div></div></div></div></div></div></div></div><div class=\"sk-item\"><div class=\"sk-estimator sk-toggleable\"><input class=\"sk-toggleable__control sk-hidden--visually\" id=\"3fb62824-007a-4454-a365-4dcf2059a3db\" type=\"checkbox\" ><label for=\"3fb62824-007a-4454-a365-4dcf2059a3db\" class=\"sk-toggleable__label sk-toggleable__label-arrow\">Ridge</label><div class=\"sk-toggleable__content\"><pre>Ridge()</pre></div></div></div></div></div></div></div></div></div></div></div></div>"
      ],
      "text/plain": [
       "GridSearchCV(cv=5,\n",
       "             estimator=Pipeline(steps=[('columntransformer',\n",
       "                                        ColumnTransformer(transformers=[('onehotencoder',\n",
       "                                                                         OneHotEncoder(handle_unknown='ignore'),\n",
       "                                                                         ['PrimaryPropertyType',\n",
       "                                                                          'Neighborhood',\n",
       "                                                                          'LargestPropertyUseType',\n",
       "                                                                          'ComplianceStatus']),\n",
       "                                                                        ('standardscaler',\n",
       "                                                                         StandardScaler(),\n",
       "                                                                         ['NumberofBuildings',\n",
       "                                                                          'NumberofFloors',\n",
       "                                                                          'PropertyGFATotal',\n",
       "                                                                          'PropertyGFAParking',\n",
       "                                                                          'PropertyGFABuilding(s)',\n",
       "                                                                          'LargestPropertyUseTypeGFA',\n",
       "                                                                          'SourceEUIWN(kBtu/sf)',\n",
       "                                                                          'GHGEmissionsIntensity',\n",
       "                                                                          'BuildingAge'])])),\n",
       "                                       ('ridge', Ridge())]),\n",
       "             param_grid={'ridge__alpha': [5, 10, 15]}, scoring='r2')"
      ]
     },
     "execution_count": 51,
     "metadata": {},
     "output_type": "execute_result"
    }
   ],
   "source": [
    "grid_ridge.fit(X_train,y_train)"
   ]
  },
  {
   "cell_type": "code",
   "execution_count": 52,
   "metadata": {},
   "outputs": [
    {
     "name": "stdout",
     "output_type": "stream",
     "text": [
      "0.4594416943948393\n",
      "{'ridge__alpha': 15}\n"
     ]
    }
   ],
   "source": [
    "print(grid_ridge.best_score_)\n",
    "print(grid_ridge.best_params_)"
   ]
  },
  {
   "cell_type": "code",
   "execution_count": 53,
   "metadata": {},
   "outputs": [
    {
     "data": {
      "text/plain": [
       "0.637749754349586"
      ]
     },
     "execution_count": 53,
     "metadata": {},
     "output_type": "execute_result"
    }
   ],
   "source": [
    "model_ridge= grid_ridge.best_estimator_\n",
    "pred_ridge= model_ridge.predict(X_test)\n",
    "r2_score(y_test, pred_ridge)"
   ]
  },
  {
   "cell_type": "code",
   "execution_count": 54,
   "metadata": {},
   "outputs": [
    {
     "data": {
      "text/plain": [
       "[36.783384093273206,\n",
       " 1353.0173453532643,\n",
       " 20.68886518439381,\n",
       " 10.91218091045925,\n",
       " 0.637749754349586]"
      ]
     },
     "execution_count": 54,
     "metadata": {},
     "output_type": "execute_result"
    }
   ],
   "source": [
    "# calcul des métriques:\n",
    "compute_scores(y_test, pred_ridge)"
   ]
  },
  {
   "cell_type": "markdown",
   "metadata": {},
   "source": [
    "##### Plot de comparaison entre y_test, pred_ridge:"
   ]
  },
  {
   "cell_type": "code",
   "execution_count": 55,
   "metadata": {},
   "outputs": [
    {
     "data": {
      "image/png": "[encoded data removed]",
      "text/plain": [
       "<Figure size 432x288 with 1 Axes>"
      ]
     },
     "metadata": {
      "needs_background": "light"
     },
     "output_type": "display_data"
    }
   ],
   "source": [
    "fig, ax = plt.subplots()\n",
    "ax.scatter(y_test, pred_ridge)\n",
    "ax.plot([y_test.min(), y_test.max()], [y_test.min(), y_test.max()], 'k--', lw=4)\n",
    "ax.set_xlabel('Measured')\n",
    "ax.set_ylabel('Predicted')\n",
    "plt.show()"
   ]
  },
  {
   "cell_type": "markdown",
   "metadata": {},
   "source": [
    "#### Application du modèle: Support Vector Regression"
   ]
  },
  {
   "cell_type": "code",
   "execution_count": 56,
   "metadata": {},
   "outputs": [],
   "source": [
    "# Instanciation de l'objet:\n",
    "svr= SVR()\n",
    "# On crée le modèle à l'aide de pipeline\n",
    "from sklearn.pipeline import make_pipeline\n",
    "pipe_svr= make_pipeline(column_trans,svr)"
   ]
  },
  {
   "cell_type": "code",
   "execution_count": 57,
   "metadata": {},
   "outputs": [
    {
     "data": {
      "text/plain": [
       "dict_keys(['memory', 'steps', 'verbose', 'columntransformer', 'svr', 'columntransformer__n_jobs', 'columntransformer__remainder', 'columntransformer__sparse_threshold', 'columntransformer__transformer_weights', 'columntransformer__transformers', 'columntransformer__verbose', 'columntransformer__verbose_feature_names_out', 'columntransformer__onehotencoder', 'columntransformer__standardscaler', 'columntransformer__onehotencoder__categories', 'columntransformer__onehotencoder__drop', 'columntransformer__onehotencoder__dtype', 'columntransformer__onehotencoder__handle_unknown', 'columntransformer__onehotencoder__sparse', 'columntransformer__standardscaler__copy', 'columntransformer__standardscaler__with_mean', 'columntransformer__standardscaler__with_std', 'svr__C', 'svr__cache_size', 'svr__coef0', 'svr__degree', 'svr__epsilon', 'svr__gamma', 'svr__kernel', 'svr__max_iter', 'svr__shrinking', 'svr__tol', 'svr__verbose'])"
      ]
     },
     "execution_count": 57,
     "metadata": {},
     "output_type": "execute_result"
    }
   ],
   "source": [
    "# liste des paramètres de l'estimateur:\n",
    "pipe_svr.get_params().keys()"
   ]
  },
  {
   "cell_type": "code",
   "execution_count": 58,
   "metadata": {},
   "outputs": [
    {
     "data": {
      "text/plain": [
       "array([0.24702718, 0.23163943, 0.32929853, 0.3247665 , 0.28166335])"
      ]
     },
     "execution_count": 58,
     "metadata": {},
     "output_type": "execute_result"
    }
   ],
   "source": [
    "# Cross validation avec: cross_val_score()\n",
    "cross_val_score(pipe_svr,X_train,y_train,cv=5)"
   ]
  },
  {
   "cell_type": "markdown",
   "metadata": {},
   "source": [
    "COMMENTAIRE:"
   ]
  },
  {
   "cell_type": "code",
   "execution_count": 59,
   "metadata": {},
   "outputs": [
    {
     "data": {
      "text/html": [
       "<style>#sk-7c885022-af6a-4d75-bc16-38368667b8e4 {color: black;background-color: white;}#sk-7c885022-af6a-4d75-bc16-38368667b8e4 pre{padding: 0;}#sk-7c885022-af6a-4d75-bc16-38368667b8e4 div.sk-toggleable {background-color: white;}#sk-7c885022-af6a-4d75-bc16-38368667b8e4 label.sk-toggleable__label {cursor: pointer;display: block;width: 100%;margin-bottom: 0;padding: 0.3em;box-sizing: border-box;text-align: center;}#sk-7c885022-af6a-4d75-bc16-38368667b8e4 label.sk-toggleable__label-arrow:before {content: \"▸\";float: left;margin-right: 0.25em;color: #696969;}#sk-7c885022-af6a-4d75-bc16-38368667b8e4 label.sk-toggleable__label-arrow:hover:before {color: black;}#sk-7c885022-af6a-4d75-bc16-38368667b8e4 div.sk-estimator:hover label.sk-toggleable__label-arrow:before {color: black;}#sk-7c885022-af6a-4d75-bc16-38368667b8e4 div.sk-toggleable__content {max-height: 0;max-width: 0;overflow: hidden;text-align: left;background-color: #f0f8ff;}#sk-7c885022-af6a-4d75-bc16-38368667b8e4 div.sk-toggleable__content pre {margin: 0.2em;color: black;border-radius: 0.25em;background-color: #f0f8ff;}#sk-7c885022-af6a-4d75-bc16-38368667b8e4 input.sk-toggleable__control:checked~div.sk-toggleable__content {max-height: 200px;max-width: 100%;overflow: auto;}#sk-7c885022-af6a-4d75-bc16-38368667b8e4 input.sk-toggleable__control:checked~label.sk-toggleable__label-arrow:before {content: \"▾\";}#sk-7c885022-af6a-4d75-bc16-38368667b8e4 div.sk-estimator input.sk-toggleable__control:checked~label.sk-toggleable__label {background-color: #d4ebff;}#sk-7c885022-af6a-4d75-bc16-38368667b8e4 div.sk-label input.sk-toggleable__control:checked~label.sk-toggleable__label {background-color: #d4ebff;}#sk-7c885022-af6a-4d75-bc16-38368667b8e4 input.sk-hidden--visually {border: 0;clip: rect(1px 1px 1px 1px);clip: rect(1px, 1px, 1px, 1px);height: 1px;margin: -1px;overflow: hidden;padding: 0;position: absolute;width: 1px;}#sk-7c885022-af6a-4d75-bc16-38368667b8e4 div.sk-estimator {font-family: monospace;background-color: #f0f8ff;border: 1px dotted black;border-radius: 0.25em;box-sizing: border-box;margin-bottom: 0.5em;}#sk-7c885022-af6a-4d75-bc16-38368667b8e4 div.sk-estimator:hover {background-color: #d4ebff;}#sk-7c885022-af6a-4d75-bc16-38368667b8e4 div.sk-parallel-item::after {content: \"\";width: 100%;border-bottom: 1px solid gray;flex-grow: 1;}#sk-7c885022-af6a-4d75-bc16-38368667b8e4 div.sk-label:hover label.sk-toggleable__label {background-color: #d4ebff;}#sk-7c885022-af6a-4d75-bc16-38368667b8e4 div.sk-serial::before {content: \"\";position: absolute;border-left: 1px solid gray;box-sizing: border-box;top: 2em;bottom: 0;left: 50%;}#sk-7c885022-af6a-4d75-bc16-38368667b8e4 div.sk-serial {display: flex;flex-direction: column;align-items: center;background-color: white;padding-right: 0.2em;padding-left: 0.2em;}#sk-7c885022-af6a-4d75-bc16-38368667b8e4 div.sk-item {z-index: 1;}#sk-7c885022-af6a-4d75-bc16-38368667b8e4 div.sk-parallel {display: flex;align-items: stretch;justify-content: center;background-color: white;}#sk-7c885022-af6a-4d75-bc16-38368667b8e4 div.sk-parallel::before {content: \"\";position: absolute;border-left: 1px solid gray;box-sizing: border-box;top: 2em;bottom: 0;left: 50%;}#sk-7c885022-af6a-4d75-bc16-38368667b8e4 div.sk-parallel-item {display: flex;flex-direction: column;position: relative;background-color: white;}#sk-7c885022-af6a-4d75-bc16-38368667b8e4 div.sk-parallel-item:first-child::after {align-self: flex-end;width: 50%;}#sk-7c885022-af6a-4d75-bc16-38368667b8e4 div.sk-parallel-item:last-child::after {align-self: flex-start;width: 50%;}#sk-7c885022-af6a-4d75-bc16-38368667b8e4 div.sk-parallel-item:only-child::after {width: 0;}#sk-7c885022-af6a-4d75-bc16-38368667b8e4 div.sk-dashed-wrapped {border: 1px dashed gray;margin: 0 0.4em 0.5em 0.4em;box-sizing: border-box;padding-bottom: 0.4em;background-color: white;position: relative;}#sk-7c885022-af6a-4d75-bc16-38368667b8e4 div.sk-label label {font-family: monospace;font-weight: bold;background-color: white;display: inline-block;line-height: 1.2em;}#sk-7c885022-af6a-4d75-bc16-38368667b8e4 div.sk-label-container {position: relative;z-index: 2;text-align: center;}#sk-7c885022-af6a-4d75-bc16-38368667b8e4 div.sk-container {/* jupyter's `normalize.less` sets `[hidden] { display: none; }` but bootstrap.min.css set `[hidden] { display: none !important; }` so we also need the `!important` here to be able to override the default hidden behavior on the sphinx rendered scikit-learn.org. See: https://github.com/scikit-learn/scikit-learn/issues/21755 */display: inline-block !important;position: relative;}#sk-7c885022-af6a-4d75-bc16-38368667b8e4 div.sk-text-repr-fallback {display: none;}</style><div id=\"sk-7c885022-af6a-4d75-bc16-38368667b8e4\" class=\"sk-top-container\"><div class=\"sk-text-repr-fallback\"><pre>GridSearchCV(cv=5,\n",
       "             estimator=Pipeline(steps=[(&#x27;columntransformer&#x27;,\n",
       "                                        ColumnTransformer(transformers=[(&#x27;onehotencoder&#x27;,\n",
       "                                                                         OneHotEncoder(handle_unknown=&#x27;ignore&#x27;),\n",
       "                                                                         [&#x27;PrimaryPropertyType&#x27;,\n",
       "                                                                          &#x27;Neighborhood&#x27;,\n",
       "                                                                          &#x27;LargestPropertyUseType&#x27;,\n",
       "                                                                          &#x27;ComplianceStatus&#x27;]),\n",
       "                                                                        (&#x27;standardscaler&#x27;,\n",
       "                                                                         StandardScaler(),\n",
       "                                                                         [&#x27;NumberofBuildings&#x27;,\n",
       "                                                                          &#x27;NumberofFloors&#x27;,\n",
       "                                                                          &#x27;PropertyGFATotal&#x27;,\n",
       "                                                                          &#x27;PropertyGFAParking&#x27;,\n",
       "                                                                          &#x27;PropertyGFABuilding(s)&#x27;,\n",
       "                                                                          &#x27;LargestPropertyUseTypeGFA&#x27;,\n",
       "                                                                          &#x27;SourceEUIWN(kBtu/sf)&#x27;,\n",
       "                                                                          &#x27;GHGEmissionsIntensity&#x27;,\n",
       "                                                                          &#x27;BuildingAge&#x27;])])),\n",
       "                                       (&#x27;svr&#x27;, SVR())]),\n",
       "             param_grid={&#x27;svr__kernel&#x27;: (&#x27;poly&#x27;, &#x27;linear&#x27;, &#x27;rbf&#x27;)},\n",
       "             scoring=&#x27;r2&#x27;)</pre><b>Please rerun this cell to show the HTML repr or trust the notebook.</b></div><div class=\"sk-container\" hidden><div class=\"sk-item sk-dashed-wrapped\"><div class=\"sk-label-container\"><div class=\"sk-label sk-toggleable\"><input class=\"sk-toggleable__control sk-hidden--visually\" id=\"1b68fd6c-b64d-4dc7-ade0-aa5ebe30a481\" type=\"checkbox\" ><label for=\"1b68fd6c-b64d-4dc7-ade0-aa5ebe30a481\" class=\"sk-toggleable__label sk-toggleable__label-arrow\">GridSearchCV</label><div class=\"sk-toggleable__content\"><pre>GridSearchCV(cv=5,\n",
       "             estimator=Pipeline(steps=[(&#x27;columntransformer&#x27;,\n",
       "                                        ColumnTransformer(transformers=[(&#x27;onehotencoder&#x27;,\n",
       "                                                                         OneHotEncoder(handle_unknown=&#x27;ignore&#x27;),\n",
       "                                                                         [&#x27;PrimaryPropertyType&#x27;,\n",
       "                                                                          &#x27;Neighborhood&#x27;,\n",
       "                                                                          &#x27;LargestPropertyUseType&#x27;,\n",
       "                                                                          &#x27;ComplianceStatus&#x27;]),\n",
       "                                                                        (&#x27;standardscaler&#x27;,\n",
       "                                                                         StandardScaler(),\n",
       "                                                                         [&#x27;NumberofBuildings&#x27;,\n",
       "                                                                          &#x27;NumberofFloors&#x27;,\n",
       "                                                                          &#x27;PropertyGFATotal&#x27;,\n",
       "                                                                          &#x27;PropertyGFAParking&#x27;,\n",
       "                                                                          &#x27;PropertyGFABuilding(s)&#x27;,\n",
       "                                                                          &#x27;LargestPropertyUseTypeGFA&#x27;,\n",
       "                                                                          &#x27;SourceEUIWN(kBtu/sf)&#x27;,\n",
       "                                                                          &#x27;GHGEmissionsIntensity&#x27;,\n",
       "                                                                          &#x27;BuildingAge&#x27;])])),\n",
       "                                       (&#x27;svr&#x27;, SVR())]),\n",
       "             param_grid={&#x27;svr__kernel&#x27;: (&#x27;poly&#x27;, &#x27;linear&#x27;, &#x27;rbf&#x27;)},\n",
       "             scoring=&#x27;r2&#x27;)</pre></div></div></div><div class=\"sk-parallel\"><div class=\"sk-parallel-item\"><div class=\"sk-item\"><div class=\"sk-serial\"><div class=\"sk-item\"><div class=\"sk-serial\"><div class=\"sk-item sk-dashed-wrapped\"><div class=\"sk-label-container\"><div class=\"sk-label sk-toggleable\"><input class=\"sk-toggleable__control sk-hidden--visually\" id=\"ea7c0f6f-f23e-4fd5-94f2-a385656c9c4b\" type=\"checkbox\" ><label for=\"ea7c0f6f-f23e-4fd5-94f2-a385656c9c4b\" class=\"sk-toggleable__label sk-toggleable__label-arrow\">columntransformer: ColumnTransformer</label><div class=\"sk-toggleable__content\"><pre>ColumnTransformer(transformers=[(&#x27;onehotencoder&#x27;,\n",
       "                                 OneHotEncoder(handle_unknown=&#x27;ignore&#x27;),\n",
       "                                 [&#x27;PrimaryPropertyType&#x27;, &#x27;Neighborhood&#x27;,\n",
       "                                  &#x27;LargestPropertyUseType&#x27;,\n",
       "                                  &#x27;ComplianceStatus&#x27;]),\n",
       "                                (&#x27;standardscaler&#x27;, StandardScaler(),\n",
       "                                 [&#x27;NumberofBuildings&#x27;, &#x27;NumberofFloors&#x27;,\n",
       "                                  &#x27;PropertyGFATotal&#x27;, &#x27;PropertyGFAParking&#x27;,\n",
       "                                  &#x27;PropertyGFABuilding(s)&#x27;,\n",
       "                                  &#x27;LargestPropertyUseTypeGFA&#x27;,\n",
       "                                  &#x27;SourceEUIWN(kBtu/sf)&#x27;,\n",
       "                                  &#x27;GHGEmissionsIntensity&#x27;, &#x27;BuildingAge&#x27;])])</pre></div></div></div><div class=\"sk-parallel\"><div class=\"sk-parallel-item\"><div class=\"sk-item\"><div class=\"sk-label-container\"><div class=\"sk-label sk-toggleable\"><input class=\"sk-toggleable__control sk-hidden--visually\" id=\"378dca8e-8fb5-4f6d-972b-d69b83f6bdc0\" type=\"checkbox\" ><label for=\"378dca8e-8fb5-4f6d-972b-d69b83f6bdc0\" class=\"sk-toggleable__label sk-toggleable__label-arrow\">onehotencoder</label><div class=\"sk-toggleable__content\"><pre>[&#x27;PrimaryPropertyType&#x27;, &#x27;Neighborhood&#x27;, &#x27;LargestPropertyUseType&#x27;, &#x27;ComplianceStatus&#x27;]</pre></div></div></div><div class=\"sk-serial\"><div class=\"sk-item\"><div class=\"sk-estimator sk-toggleable\"><input class=\"sk-toggleable__control sk-hidden--visually\" id=\"ba1bc369-bf3a-4940-8454-e16cab1d2a63\" type=\"checkbox\" ><label for=\"ba1bc369-bf3a-4940-8454-e16cab1d2a63\" class=\"sk-toggleable__label sk-toggleable__label-arrow\">OneHotEncoder</label><div class=\"sk-toggleable__content\"><pre>OneHotEncoder(handle_unknown=&#x27;ignore&#x27;)</pre></div></div></div></div></div></div><div class=\"sk-parallel-item\"><div class=\"sk-item\"><div class=\"sk-label-container\"><div class=\"sk-label sk-toggleable\"><input class=\"sk-toggleable__control sk-hidden--visually\" id=\"07427301-37ff-45dd-85e2-63fa28479f1c\" type=\"checkbox\" ><label for=\"07427301-37ff-45dd-85e2-63fa28479f1c\" class=\"sk-toggleable__label sk-toggleable__label-arrow\">standardscaler</label><div class=\"sk-toggleable__content\"><pre>[&#x27;NumberofBuildings&#x27;, &#x27;NumberofFloors&#x27;, &#x27;PropertyGFATotal&#x27;, &#x27;PropertyGFAParking&#x27;, &#x27;PropertyGFABuilding(s)&#x27;, &#x27;LargestPropertyUseTypeGFA&#x27;, &#x27;SourceEUIWN(kBtu/sf)&#x27;, &#x27;GHGEmissionsIntensity&#x27;, &#x27;BuildingAge&#x27;]</pre></div></div></div><div class=\"sk-serial\"><div class=\"sk-item\"><div class=\"sk-estimator sk-toggleable\"><input class=\"sk-toggleable__control sk-hidden--visually\" id=\"32b79288-8891-43c8-af7a-548f1a8555c8\" type=\"checkbox\" ><label for=\"32b79288-8891-43c8-af7a-548f1a8555c8\" class=\"sk-toggleable__label sk-toggleable__label-arrow\">StandardScaler</label><div class=\"sk-toggleable__content\"><pre>StandardScaler()</pre></div></div></div></div></div></div></div></div><div class=\"sk-item\"><div class=\"sk-estimator sk-toggleable\"><input class=\"sk-toggleable__control sk-hidden--visually\" id=\"64d0f878-8d34-4ea8-8184-55ff6b5a75b2\" type=\"checkbox\" ><label for=\"64d0f878-8d34-4ea8-8184-55ff6b5a75b2\" class=\"sk-toggleable__label sk-toggleable__label-arrow\">SVR</label><div class=\"sk-toggleable__content\"><pre>SVR()</pre></div></div></div></div></div></div></div></div></div></div></div></div>"
      ],
      "text/plain": [
       "GridSearchCV(cv=5,\n",
       "             estimator=Pipeline(steps=[('columntransformer',\n",
       "                                        ColumnTransformer(transformers=[('onehotencoder',\n",
       "                                                                         OneHotEncoder(handle_unknown='ignore'),\n",
       "                                                                         ['PrimaryPropertyType',\n",
       "                                                                          'Neighborhood',\n",
       "                                                                          'LargestPropertyUseType',\n",
       "                                                                          'ComplianceStatus']),\n",
       "                                                                        ('standardscaler',\n",
       "                                                                         StandardScaler(),\n",
       "                                                                         ['NumberofBuildings',\n",
       "                                                                          'NumberofFloors',\n",
       "                                                                          'PropertyGFATotal',\n",
       "                                                                          'PropertyGFAParking',\n",
       "                                                                          'PropertyGFABuilding(s)',\n",
       "                                                                          'LargestPropertyUseTypeGFA',\n",
       "                                                                          'SourceEUIWN(kBtu/sf)',\n",
       "                                                                          'GHGEmissionsIntensity',\n",
       "                                                                          'BuildingAge'])])),\n",
       "                                       ('svr', SVR())]),\n",
       "             param_grid={'svr__kernel': ('poly', 'linear', 'rbf')},\n",
       "             scoring='r2')"
      ]
     },
     "execution_count": 59,
     "metadata": {},
     "output_type": "execute_result"
    }
   ],
   "source": [
    "# Optimisation des hyperparamètres avec: GridSearchCV()\n",
    "parameters = {'svr__kernel': ('poly','linear','rbf')}\n",
    "#Grille de recherche:\n",
    "grid_svr= GridSearchCV(pipe_svr,parameters, cv=5,scoring='r2')\n",
    "grid_svr.fit(X_train,y_train)"
   ]
  },
  {
   "cell_type": "code",
   "execution_count": 60,
   "metadata": {},
   "outputs": [
    {
     "name": "stdout",
     "output_type": "stream",
     "text": [
      "0.548731830906461\n",
      "{'svr__kernel': 'linear'}\n"
     ]
    }
   ],
   "source": [
    "print(grid_svr.best_score_)\n",
    "print(grid_svr.best_params_)"
   ]
  },
  {
   "cell_type": "code",
   "execution_count": 61,
   "metadata": {},
   "outputs": [
    {
     "data": {
      "text/plain": [
       "0.7480102249797185"
      ]
     },
     "execution_count": 61,
     "metadata": {},
     "output_type": "execute_result"
    }
   ],
   "source": [
    "model_svr= grid_svr.best_estimator_\n",
    "pred_svr= model_svr.predict(X_test)\n",
    "r2_score(y_test, pred_svr)"
   ]
  },
  {
   "cell_type": "code",
   "execution_count": 62,
   "metadata": {},
   "outputs": [
    {
     "data": {
      "text/plain": [
       "[30.678830302182604,\n",
       " 941.1906287101176,\n",
       " 16.298202268455146,\n",
       " 5.557159808972344,\n",
       " 0.7480102249797185]"
      ]
     },
     "execution_count": 62,
     "metadata": {},
     "output_type": "execute_result"
    }
   ],
   "source": [
    "# calcul des métriques:\n",
    "compute_scores(y_test, pred_svr)"
   ]
  },
  {
   "cell_type": "code",
   "execution_count": 63,
   "metadata": {},
   "outputs": [
    {
     "data": {
      "image/png": "[encoded data removed]",
      "text/plain": [
       "<Figure size 432x288 with 1 Axes>"
      ]
     },
     "metadata": {
      "needs_background": "light"
     },
     "output_type": "display_data"
    }
   ],
   "source": [
    "fig, ax = plt.subplots()\n",
    "ax.scatter(y_test, pred_svr)\n",
    "ax.plot([y_test.min(), y_test.max()], [y_test.min(), y_test.max()], 'k--', lw=4)\n",
    "ax.set_xlabel('Measured')\n",
    "ax.set_ylabel('Predicted')\n",
    "plt.show()"
   ]
  },
  {
   "cell_type": "markdown",
   "metadata": {},
   "source": [
    "COMMENTAIRE:"
   ]
  },
  {
   "cell_type": "markdown",
   "metadata": {},
   "source": [
    "#### Application du modèle: Lasso"
   ]
  },
  {
   "cell_type": "markdown",
   "metadata": {},
   "source": [
    "Ce modèle est pratique pour écarter les features non pertinents."
   ]
  },
  {
   "cell_type": "code",
   "execution_count": 64,
   "metadata": {},
   "outputs": [],
   "source": [
    "lasso= Lasso(tol=0.1)\n",
    "# On crée le modèle à l'aide de pipeline\n",
    "pipe_lasso= make_pipeline(column_trans,lasso)"
   ]
  },
  {
   "cell_type": "code",
   "execution_count": 65,
   "metadata": {},
   "outputs": [
    {
     "data": {
      "text/plain": [
       "dict_keys(['memory', 'steps', 'verbose', 'columntransformer', 'lasso', 'columntransformer__n_jobs', 'columntransformer__remainder', 'columntransformer__sparse_threshold', 'columntransformer__transformer_weights', 'columntransformer__transformers', 'columntransformer__verbose', 'columntransformer__verbose_feature_names_out', 'columntransformer__onehotencoder', 'columntransformer__standardscaler', 'columntransformer__onehotencoder__categories', 'columntransformer__onehotencoder__drop', 'columntransformer__onehotencoder__dtype', 'columntransformer__onehotencoder__handle_unknown', 'columntransformer__onehotencoder__sparse', 'columntransformer__standardscaler__copy', 'columntransformer__standardscaler__with_mean', 'columntransformer__standardscaler__with_std', 'lasso__alpha', 'lasso__copy_X', 'lasso__fit_intercept', 'lasso__max_iter', 'lasso__normalize', 'lasso__positive', 'lasso__precompute', 'lasso__random_state', 'lasso__selection', 'lasso__tol', 'lasso__warm_start'])"
      ]
     },
     "execution_count": 65,
     "metadata": {},
     "output_type": "execute_result"
    }
   ],
   "source": [
    "# liste des paramètres de l'estimateur:\n",
    "pipe_lasso.get_params().keys()"
   ]
  },
  {
   "cell_type": "code",
   "execution_count": 66,
   "metadata": {},
   "outputs": [
    {
     "data": {
      "text/plain": [
       "0.4793464782824583"
      ]
     },
     "execution_count": 66,
     "metadata": {},
     "output_type": "execute_result"
    }
   ],
   "source": [
    "# Cross validation avec: cross_val_score()\n",
    "cross_val_score(pipe_lasso,X_train,y_train,cv=5).mean()"
   ]
  },
  {
   "cell_type": "code",
   "execution_count": 67,
   "metadata": {},
   "outputs": [
    {
     "data": {
      "text/html": [
       "<style>#sk-80f60bde-9eed-44de-94f6-7713f658b8c6 {color: black;background-color: white;}#sk-80f60bde-9eed-44de-94f6-7713f658b8c6 pre{padding: 0;}#sk-80f60bde-9eed-44de-94f6-7713f658b8c6 div.sk-toggleable {background-color: white;}#sk-80f60bde-9eed-44de-94f6-7713f658b8c6 label.sk-toggleable__label {cursor: pointer;display: block;width: 100%;margin-bottom: 0;padding: 0.3em;box-sizing: border-box;text-align: center;}#sk-80f60bde-9eed-44de-94f6-7713f658b8c6 label.sk-toggleable__label-arrow:before {content: \"▸\";float: left;margin-right: 0.25em;color: #696969;}#sk-80f60bde-9eed-44de-94f6-7713f658b8c6 label.sk-toggleable__label-arrow:hover:before {color: black;}#sk-80f60bde-9eed-44de-94f6-7713f658b8c6 div.sk-estimator:hover label.sk-toggleable__label-arrow:before {color: black;}#sk-80f60bde-9eed-44de-94f6-7713f658b8c6 div.sk-toggleable__content {max-height: 0;max-width: 0;overflow: hidden;text-align: left;background-color: #f0f8ff;}#sk-80f60bde-9eed-44de-94f6-7713f658b8c6 div.sk-toggleable__content pre {margin: 0.2em;color: black;border-radius: 0.25em;background-color: #f0f8ff;}#sk-80f60bde-9eed-44de-94f6-7713f658b8c6 input.sk-toggleable__control:checked~div.sk-toggleable__content {max-height: 200px;max-width: 100%;overflow: auto;}#sk-80f60bde-9eed-44de-94f6-7713f658b8c6 input.sk-toggleable__control:checked~label.sk-toggleable__label-arrow:before {content: \"▾\";}#sk-80f60bde-9eed-44de-94f6-7713f658b8c6 div.sk-estimator input.sk-toggleable__control:checked~label.sk-toggleable__label {background-color: #d4ebff;}#sk-80f60bde-9eed-44de-94f6-7713f658b8c6 div.sk-label input.sk-toggleable__control:checked~label.sk-toggleable__label {background-color: #d4ebff;}#sk-80f60bde-9eed-44de-94f6-7713f658b8c6 input.sk-hidden--visually {border: 0;clip: rect(1px 1px 1px 1px);clip: rect(1px, 1px, 1px, 1px);height: 1px;margin: -1px;overflow: hidden;padding: 0;position: absolute;width: 1px;}#sk-80f60bde-9eed-44de-94f6-7713f658b8c6 div.sk-estimator {font-family: monospace;background-color: #f0f8ff;border: 1px dotted black;border-radius: 0.25em;box-sizing: border-box;margin-bottom: 0.5em;}#sk-80f60bde-9eed-44de-94f6-7713f658b8c6 div.sk-estimator:hover {background-color: #d4ebff;}#sk-80f60bde-9eed-44de-94f6-7713f658b8c6 div.sk-parallel-item::after {content: \"\";width: 100%;border-bottom: 1px solid gray;flex-grow: 1;}#sk-80f60bde-9eed-44de-94f6-7713f658b8c6 div.sk-label:hover label.sk-toggleable__label {background-color: #d4ebff;}#sk-80f60bde-9eed-44de-94f6-7713f658b8c6 div.sk-serial::before {content: \"\";position: absolute;border-left: 1px solid gray;box-sizing: border-box;top: 2em;bottom: 0;left: 50%;}#sk-80f60bde-9eed-44de-94f6-7713f658b8c6 div.sk-serial {display: flex;flex-direction: column;align-items: center;background-color: white;padding-right: 0.2em;padding-left: 0.2em;}#sk-80f60bde-9eed-44de-94f6-7713f658b8c6 div.sk-item {z-index: 1;}#sk-80f60bde-9eed-44de-94f6-7713f658b8c6 div.sk-parallel {display: flex;align-items: stretch;justify-content: center;background-color: white;}#sk-80f60bde-9eed-44de-94f6-7713f658b8c6 div.sk-parallel::before {content: \"\";position: absolute;border-left: 1px solid gray;box-sizing: border-box;top: 2em;bottom: 0;left: 50%;}#sk-80f60bde-9eed-44de-94f6-7713f658b8c6 div.sk-parallel-item {display: flex;flex-direction: column;position: relative;background-color: white;}#sk-80f60bde-9eed-44de-94f6-7713f658b8c6 div.sk-parallel-item:first-child::after {align-self: flex-end;width: 50%;}#sk-80f60bde-9eed-44de-94f6-7713f658b8c6 div.sk-parallel-item:last-child::after {align-self: flex-start;width: 50%;}#sk-80f60bde-9eed-44de-94f6-7713f658b8c6 div.sk-parallel-item:only-child::after {width: 0;}#sk-80f60bde-9eed-44de-94f6-7713f658b8c6 div.sk-dashed-wrapped {border: 1px dashed gray;margin: 0 0.4em 0.5em 0.4em;box-sizing: border-box;padding-bottom: 0.4em;background-color: white;position: relative;}#sk-80f60bde-9eed-44de-94f6-7713f658b8c6 div.sk-label label {font-family: monospace;font-weight: bold;background-color: white;display: inline-block;line-height: 1.2em;}#sk-80f60bde-9eed-44de-94f6-7713f658b8c6 div.sk-label-container {position: relative;z-index: 2;text-align: center;}#sk-80f60bde-9eed-44de-94f6-7713f658b8c6 div.sk-container {/* jupyter's `normalize.less` sets `[hidden] { display: none; }` but bootstrap.min.css set `[hidden] { display: none !important; }` so we also need the `!important` here to be able to override the default hidden behavior on the sphinx rendered scikit-learn.org. See: https://github.com/scikit-learn/scikit-learn/issues/21755 */display: inline-block !important;position: relative;}#sk-80f60bde-9eed-44de-94f6-7713f658b8c6 div.sk-text-repr-fallback {display: none;}</style><div id=\"sk-80f60bde-9eed-44de-94f6-7713f658b8c6\" class=\"sk-top-container\"><div class=\"sk-text-repr-fallback\"><pre>GridSearchCV(cv=5,\n",
       "             estimator=Pipeline(steps=[(&#x27;columntransformer&#x27;,\n",
       "                                        ColumnTransformer(transformers=[(&#x27;onehotencoder&#x27;,\n",
       "                                                                         OneHotEncoder(handle_unknown=&#x27;ignore&#x27;),\n",
       "                                                                         [&#x27;PrimaryPropertyType&#x27;,\n",
       "                                                                          &#x27;Neighborhood&#x27;,\n",
       "                                                                          &#x27;LargestPropertyUseType&#x27;,\n",
       "                                                                          &#x27;ComplianceStatus&#x27;]),\n",
       "                                                                        (&#x27;standardscaler&#x27;,\n",
       "                                                                         StandardScaler(),\n",
       "                                                                         [&#x27;NumberofBuildings&#x27;,\n",
       "                                                                          &#x27;NumberofFloors&#x27;,\n",
       "                                                                          &#x27;PropertyGFATotal&#x27;,\n",
       "                                                                          &#x27;PropertyGFAParking&#x27;,\n",
       "                                                                          &#x27;PropertyGFABuilding(s)&#x27;,\n",
       "                                                                          &#x27;LargestPropertyUseTypeGFA&#x27;,\n",
       "                                                                          &#x27;SourceEUIWN(kBtu/sf)&#x27;,\n",
       "                                                                          &#x27;GHGEmissionsIntensity&#x27;,\n",
       "                                                                          &#x27;BuildingAge&#x27;])])),\n",
       "                                       (&#x27;lasso&#x27;, Lasso(tol=0.1))]),\n",
       "             param_grid={&#x27;lasso__alpha&#x27;: [60, 70, 80]}, scoring=&#x27;r2&#x27;)</pre><b>Please rerun this cell to show the HTML repr or trust the notebook.</b></div><div class=\"sk-container\" hidden><div class=\"sk-item sk-dashed-wrapped\"><div class=\"sk-label-container\"><div class=\"sk-label sk-toggleable\"><input class=\"sk-toggleable__control sk-hidden--visually\" id=\"2dd86ec4-2255-4a27-a98d-158c371b88ad\" type=\"checkbox\" ><label for=\"2dd86ec4-2255-4a27-a98d-158c371b88ad\" class=\"sk-toggleable__label sk-toggleable__label-arrow\">GridSearchCV</label><div class=\"sk-toggleable__content\"><pre>GridSearchCV(cv=5,\n",
       "             estimator=Pipeline(steps=[(&#x27;columntransformer&#x27;,\n",
       "                                        ColumnTransformer(transformers=[(&#x27;onehotencoder&#x27;,\n",
       "                                                                         OneHotEncoder(handle_unknown=&#x27;ignore&#x27;),\n",
       "                                                                         [&#x27;PrimaryPropertyType&#x27;,\n",
       "                                                                          &#x27;Neighborhood&#x27;,\n",
       "                                                                          &#x27;LargestPropertyUseType&#x27;,\n",
       "                                                                          &#x27;ComplianceStatus&#x27;]),\n",
       "                                                                        (&#x27;standardscaler&#x27;,\n",
       "                                                                         StandardScaler(),\n",
       "                                                                         [&#x27;NumberofBuildings&#x27;,\n",
       "                                                                          &#x27;NumberofFloors&#x27;,\n",
       "                                                                          &#x27;PropertyGFATotal&#x27;,\n",
       "                                                                          &#x27;PropertyGFAParking&#x27;,\n",
       "                                                                          &#x27;PropertyGFABuilding(s)&#x27;,\n",
       "                                                                          &#x27;LargestPropertyUseTypeGFA&#x27;,\n",
       "                                                                          &#x27;SourceEUIWN(kBtu/sf)&#x27;,\n",
       "                                                                          &#x27;GHGEmissionsIntensity&#x27;,\n",
       "                                                                          &#x27;BuildingAge&#x27;])])),\n",
       "                                       (&#x27;lasso&#x27;, Lasso(tol=0.1))]),\n",
       "             param_grid={&#x27;lasso__alpha&#x27;: [60, 70, 80]}, scoring=&#x27;r2&#x27;)</pre></div></div></div><div class=\"sk-parallel\"><div class=\"sk-parallel-item\"><div class=\"sk-item\"><div class=\"sk-serial\"><div class=\"sk-item\"><div class=\"sk-serial\"><div class=\"sk-item sk-dashed-wrapped\"><div class=\"sk-label-container\"><div class=\"sk-label sk-toggleable\"><input class=\"sk-toggleable__control sk-hidden--visually\" id=\"06693370-588b-4038-85ce-d111ecf1dfb1\" type=\"checkbox\" ><label for=\"06693370-588b-4038-85ce-d111ecf1dfb1\" class=\"sk-toggleable__label sk-toggleable__label-arrow\">columntransformer: ColumnTransformer</label><div class=\"sk-toggleable__content\"><pre>ColumnTransformer(transformers=[(&#x27;onehotencoder&#x27;,\n",
       "                                 OneHotEncoder(handle_unknown=&#x27;ignore&#x27;),\n",
       "                                 [&#x27;PrimaryPropertyType&#x27;, &#x27;Neighborhood&#x27;,\n",
       "                                  &#x27;LargestPropertyUseType&#x27;,\n",
       "                                  &#x27;ComplianceStatus&#x27;]),\n",
       "                                (&#x27;standardscaler&#x27;, StandardScaler(),\n",
       "                                 [&#x27;NumberofBuildings&#x27;, &#x27;NumberofFloors&#x27;,\n",
       "                                  &#x27;PropertyGFATotal&#x27;, &#x27;PropertyGFAParking&#x27;,\n",
       "                                  &#x27;PropertyGFABuilding(s)&#x27;,\n",
       "                                  &#x27;LargestPropertyUseTypeGFA&#x27;,\n",
       "                                  &#x27;SourceEUIWN(kBtu/sf)&#x27;,\n",
       "                                  &#x27;GHGEmissionsIntensity&#x27;, &#x27;BuildingAge&#x27;])])</pre></div></div></div><div class=\"sk-parallel\"><div class=\"sk-parallel-item\"><div class=\"sk-item\"><div class=\"sk-label-container\"><div class=\"sk-label sk-toggleable\"><input class=\"sk-toggleable__control sk-hidden--visually\" id=\"43e27f2d-bd38-46ee-8d81-23ed14bd0f63\" type=\"checkbox\" ><label for=\"43e27f2d-bd38-46ee-8d81-23ed14bd0f63\" class=\"sk-toggleable__label sk-toggleable__label-arrow\">onehotencoder</label><div class=\"sk-toggleable__content\"><pre>[&#x27;PrimaryPropertyType&#x27;, &#x27;Neighborhood&#x27;, &#x27;LargestPropertyUseType&#x27;, &#x27;ComplianceStatus&#x27;]</pre></div></div></div><div class=\"sk-serial\"><div class=\"sk-item\"><div class=\"sk-estimator sk-toggleable\"><input class=\"sk-toggleable__control sk-hidden--visually\" id=\"e4d60c6a-b1e5-4fb2-a1d8-a491b3fcaaf8\" type=\"checkbox\" ><label for=\"e4d60c6a-b1e5-4fb2-a1d8-a491b3fcaaf8\" class=\"sk-toggleable__label sk-toggleable__label-arrow\">OneHotEncoder</label><div class=\"sk-toggleable__content\"><pre>OneHotEncoder(handle_unknown=&#x27;ignore&#x27;)</pre></div></div></div></div></div></div><div class=\"sk-parallel-item\"><div class=\"sk-item\"><div class=\"sk-label-container\"><div class=\"sk-label sk-toggleable\"><input class=\"sk-toggleable__control sk-hidden--visually\" id=\"78625f77-5b76-4547-ada2-28952fdb950a\" type=\"checkbox\" ><label for=\"78625f77-5b76-4547-ada2-28952fdb950a\" class=\"sk-toggleable__label sk-toggleable__label-arrow\">standardscaler</label><div class=\"sk-toggleable__content\"><pre>[&#x27;NumberofBuildings&#x27;, &#x27;NumberofFloors&#x27;, &#x27;PropertyGFATotal&#x27;, &#x27;PropertyGFAParking&#x27;, &#x27;PropertyGFABuilding(s)&#x27;, &#x27;LargestPropertyUseTypeGFA&#x27;, &#x27;SourceEUIWN(kBtu/sf)&#x27;, &#x27;GHGEmissionsIntensity&#x27;, &#x27;BuildingAge&#x27;]</pre></div></div></div><div class=\"sk-serial\"><div class=\"sk-item\"><div class=\"sk-estimator sk-toggleable\"><input class=\"sk-toggleable__control sk-hidden--visually\" id=\"9e0d82a1-b20d-4923-b546-dea10653f1c2\" type=\"checkbox\" ><label for=\"9e0d82a1-b20d-4923-b546-dea10653f1c2\" class=\"sk-toggleable__label sk-toggleable__label-arrow\">StandardScaler</label><div class=\"sk-toggleable__content\"><pre>StandardScaler()</pre></div></div></div></div></div></div></div></div><div class=\"sk-item\"><div class=\"sk-estimator sk-toggleable\"><input class=\"sk-toggleable__control sk-hidden--visually\" id=\"b2573db6-76c5-4eb3-aaf2-9ede1caa357b\" type=\"checkbox\" ><label for=\"b2573db6-76c5-4eb3-aaf2-9ede1caa357b\" class=\"sk-toggleable__label sk-toggleable__label-arrow\">Lasso</label><div class=\"sk-toggleable__content\"><pre>Lasso(tol=0.1)</pre></div></div></div></div></div></div></div></div></div></div></div></div>"
      ],
      "text/plain": [
       "GridSearchCV(cv=5,\n",
       "             estimator=Pipeline(steps=[('columntransformer',\n",
       "                                        ColumnTransformer(transformers=[('onehotencoder',\n",
       "                                                                         OneHotEncoder(handle_unknown='ignore'),\n",
       "                                                                         ['PrimaryPropertyType',\n",
       "                                                                          'Neighborhood',\n",
       "                                                                          'LargestPropertyUseType',\n",
       "                                                                          'ComplianceStatus']),\n",
       "                                                                        ('standardscaler',\n",
       "                                                                         StandardScaler(),\n",
       "                                                                         ['NumberofBuildings',\n",
       "                                                                          'NumberofFloors',\n",
       "                                                                          'PropertyGFATotal',\n",
       "                                                                          'PropertyGFAParking',\n",
       "                                                                          'PropertyGFABuilding(s)',\n",
       "                                                                          'LargestPropertyUseTypeGFA',\n",
       "                                                                          'SourceEUIWN(kBtu/sf)',\n",
       "                                                                          'GHGEmissionsIntensity',\n",
       "                                                                          'BuildingAge'])])),\n",
       "                                       ('lasso', Lasso(tol=0.1))]),\n",
       "             param_grid={'lasso__alpha': [60, 70, 80]}, scoring='r2')"
      ]
     },
     "execution_count": 67,
     "metadata": {},
     "output_type": "execute_result"
    }
   ],
   "source": [
    "# Optimisation des hyperparamètres avec: GridSearchCV()\n",
    "parameters = {'lasso__alpha':[60,70,80]}\n",
    "#Grille de recherche:\n",
    "grid_lasso= GridSearchCV(pipe_lasso,parameters, cv=5,scoring='r2')\n",
    "grid_lasso.fit(X_train,y_train)"
   ]
  },
  {
   "cell_type": "code",
   "execution_count": 68,
   "metadata": {},
   "outputs": [
    {
     "name": "stdout",
     "output_type": "stream",
     "text": [
      "-0.005011729347886407\n",
      "{'lasso__alpha': 60}\n"
     ]
    }
   ],
   "source": [
    "print(grid_lasso.best_score_)\n",
    "print(grid_lasso.best_params_)"
   ]
  },
  {
   "cell_type": "code",
   "execution_count": 69,
   "metadata": {},
   "outputs": [
    {
     "data": {
      "text/plain": [
       "-0.0039546428929231325"
      ]
     },
     "execution_count": 69,
     "metadata": {},
     "output_type": "execute_result"
    }
   ],
   "source": [
    "model_lasso= grid_lasso.best_estimator_\n",
    "model_lasso.score(X_test,y_test)"
   ]
  },
  {
   "cell_type": "code",
   "execution_count": 70,
   "metadata": {},
   "outputs": [
    {
     "data": {
      "text/plain": [
       "[61.23565731742075,\n",
       " 3749.805727096586,\n",
       " 45.95119989680082,\n",
       " 38.43351578947368,\n",
       " -0.0039546428929231325]"
      ]
     },
     "execution_count": 70,
     "metadata": {},
     "output_type": "execute_result"
    }
   ],
   "source": [
    "pred_lasso= model_lasso.predict(X_test)\n",
    "# Evaluation des métriques:\n",
    "compute_scores(y_test, pred_lasso)"
   ]
  },
  {
   "cell_type": "code",
   "execution_count": 71,
   "metadata": {},
   "outputs": [
    {
     "data": {
      "image/png": "[encoded data removed]",
      "text/plain": [
       "<Figure size 432x288 with 1 Axes>"
      ]
     },
     "metadata": {
      "needs_background": "light"
     },
     "output_type": "display_data"
    }
   ],
   "source": [
    "fig, ax = plt.subplots()\n",
    "ax.scatter(y_test, pred_lasso)\n",
    "ax.plot([y_test.min(), y_test.max()], [y_test.min(), y_test.max()], 'k--', lw=4)\n",
    "ax.set_xlabel('Measured')\n",
    "ax.set_ylabel('Predicted')\n",
    "plt.show()"
   ]
  },
  {
   "cell_type": "markdown",
   "metadata": {},
   "source": [
    "#### Application du modèle: Elastic-Net"
   ]
  },
  {
   "cell_type": "code",
   "execution_count": 72,
   "metadata": {},
   "outputs": [],
   "source": [
    "elastic= ElasticNet(tol=0.1)\n",
    "# On crée le modèle à l'aide de pipeline\n",
    "pipe_elastic= make_pipeline(column_trans,elastic)"
   ]
  },
  {
   "cell_type": "code",
   "execution_count": 73,
   "metadata": {},
   "outputs": [
    {
     "data": {
      "text/plain": [
       "dict_keys(['memory', 'steps', 'verbose', 'columntransformer', 'elasticnet', 'columntransformer__n_jobs', 'columntransformer__remainder', 'columntransformer__sparse_threshold', 'columntransformer__transformer_weights', 'columntransformer__transformers', 'columntransformer__verbose', 'columntransformer__verbose_feature_names_out', 'columntransformer__onehotencoder', 'columntransformer__standardscaler', 'columntransformer__onehotencoder__categories', 'columntransformer__onehotencoder__drop', 'columntransformer__onehotencoder__dtype', 'columntransformer__onehotencoder__handle_unknown', 'columntransformer__onehotencoder__sparse', 'columntransformer__standardscaler__copy', 'columntransformer__standardscaler__with_mean', 'columntransformer__standardscaler__with_std', 'elasticnet__alpha', 'elasticnet__copy_X', 'elasticnet__fit_intercept', 'elasticnet__l1_ratio', 'elasticnet__max_iter', 'elasticnet__normalize', 'elasticnet__positive', 'elasticnet__precompute', 'elasticnet__random_state', 'elasticnet__selection', 'elasticnet__tol', 'elasticnet__warm_start'])"
      ]
     },
     "execution_count": 73,
     "metadata": {},
     "output_type": "execute_result"
    }
   ],
   "source": [
    "# liste des paramètres de l'estimateur:\n",
    "pipe_elastic.get_params().keys()"
   ]
  },
  {
   "cell_type": "code",
   "execution_count": 74,
   "metadata": {},
   "outputs": [
    {
     "data": {
      "text/plain": [
       "array([0.57762403, 0.62071109, 0.05959961, 0.60701684, 0.61463728])"
      ]
     },
     "execution_count": 74,
     "metadata": {},
     "output_type": "execute_result"
    }
   ],
   "source": [
    "# Cross validation avec: cross_val_score()\n",
    "cross_val_score(pipe_elastic,X_train,y_train,cv=5,scoring='r2')"
   ]
  },
  {
   "cell_type": "code",
   "execution_count": 75,
   "metadata": {},
   "outputs": [
    {
     "data": {
      "text/html": [
       "<style>#sk-31563d7a-c2a8-479f-adf3-022803d6dcc4 {color: black;background-color: white;}#sk-31563d7a-c2a8-479f-adf3-022803d6dcc4 pre{padding: 0;}#sk-31563d7a-c2a8-479f-adf3-022803d6dcc4 div.sk-toggleable {background-color: white;}#sk-31563d7a-c2a8-479f-adf3-022803d6dcc4 label.sk-toggleable__label {cursor: pointer;display: block;width: 100%;margin-bottom: 0;padding: 0.3em;box-sizing: border-box;text-align: center;}#sk-31563d7a-c2a8-479f-adf3-022803d6dcc4 label.sk-toggleable__label-arrow:before {content: \"▸\";float: left;margin-right: 0.25em;color: #696969;}#sk-31563d7a-c2a8-479f-adf3-022803d6dcc4 label.sk-toggleable__label-arrow:hover:before {color: black;}#sk-31563d7a-c2a8-479f-adf3-022803d6dcc4 div.sk-estimator:hover label.sk-toggleable__label-arrow:before {color: black;}#sk-31563d7a-c2a8-479f-adf3-022803d6dcc4 div.sk-toggleable__content {max-height: 0;max-width: 0;overflow: hidden;text-align: left;background-color: #f0f8ff;}#sk-31563d7a-c2a8-479f-adf3-022803d6dcc4 div.sk-toggleable__content pre {margin: 0.2em;color: black;border-radius: 0.25em;background-color: #f0f8ff;}#sk-31563d7a-c2a8-479f-adf3-022803d6dcc4 input.sk-toggleable__control:checked~div.sk-toggleable__content {max-height: 200px;max-width: 100%;overflow: auto;}#sk-31563d7a-c2a8-479f-adf3-022803d6dcc4 input.sk-toggleable__control:checked~label.sk-toggleable__label-arrow:before {content: \"▾\";}#sk-31563d7a-c2a8-479f-adf3-022803d6dcc4 div.sk-estimator input.sk-toggleable__control:checked~label.sk-toggleable__label {background-color: #d4ebff;}#sk-31563d7a-c2a8-479f-adf3-022803d6dcc4 div.sk-label input.sk-toggleable__control:checked~label.sk-toggleable__label {background-color: #d4ebff;}#sk-31563d7a-c2a8-479f-adf3-022803d6dcc4 input.sk-hidden--visually {border: 0;clip: rect(1px 1px 1px 1px);clip: rect(1px, 1px, 1px, 1px);height: 1px;margin: -1px;overflow: hidden;padding: 0;position: absolute;width: 1px;}#sk-31563d7a-c2a8-479f-adf3-022803d6dcc4 div.sk-estimator {font-family: monospace;background-color: #f0f8ff;border: 1px dotted black;border-radius: 0.25em;box-sizing: border-box;margin-bottom: 0.5em;}#sk-31563d7a-c2a8-479f-adf3-022803d6dcc4 div.sk-estimator:hover {background-color: #d4ebff;}#sk-31563d7a-c2a8-479f-adf3-022803d6dcc4 div.sk-parallel-item::after {content: \"\";width: 100%;border-bottom: 1px solid gray;flex-grow: 1;}#sk-31563d7a-c2a8-479f-adf3-022803d6dcc4 div.sk-label:hover label.sk-toggleable__label {background-color: #d4ebff;}#sk-31563d7a-c2a8-479f-adf3-022803d6dcc4 div.sk-serial::before {content: \"\";position: absolute;border-left: 1px solid gray;box-sizing: border-box;top: 2em;bottom: 0;left: 50%;}#sk-31563d7a-c2a8-479f-adf3-022803d6dcc4 div.sk-serial {display: flex;flex-direction: column;align-items: center;background-color: white;padding-right: 0.2em;padding-left: 0.2em;}#sk-31563d7a-c2a8-479f-adf3-022803d6dcc4 div.sk-item {z-index: 1;}#sk-31563d7a-c2a8-479f-adf3-022803d6dcc4 div.sk-parallel {display: flex;align-items: stretch;justify-content: center;background-color: white;}#sk-31563d7a-c2a8-479f-adf3-022803d6dcc4 div.sk-parallel::before {content: \"\";position: absolute;border-left: 1px solid gray;box-sizing: border-box;top: 2em;bottom: 0;left: 50%;}#sk-31563d7a-c2a8-479f-adf3-022803d6dcc4 div.sk-parallel-item {display: flex;flex-direction: column;position: relative;background-color: white;}#sk-31563d7a-c2a8-479f-adf3-022803d6dcc4 div.sk-parallel-item:first-child::after {align-self: flex-end;width: 50%;}#sk-31563d7a-c2a8-479f-adf3-022803d6dcc4 div.sk-parallel-item:last-child::after {align-self: flex-start;width: 50%;}#sk-31563d7a-c2a8-479f-adf3-022803d6dcc4 div.sk-parallel-item:only-child::after {width: 0;}#sk-31563d7a-c2a8-479f-adf3-022803d6dcc4 div.sk-dashed-wrapped {border: 1px dashed gray;margin: 0 0.4em 0.5em 0.4em;box-sizing: border-box;padding-bottom: 0.4em;background-color: white;position: relative;}#sk-31563d7a-c2a8-479f-adf3-022803d6dcc4 div.sk-label label {font-family: monospace;font-weight: bold;background-color: white;display: inline-block;line-height: 1.2em;}#sk-31563d7a-c2a8-479f-adf3-022803d6dcc4 div.sk-label-container {position: relative;z-index: 2;text-align: center;}#sk-31563d7a-c2a8-479f-adf3-022803d6dcc4 div.sk-container {/* jupyter's `normalize.less` sets `[hidden] { display: none; }` but bootstrap.min.css set `[hidden] { display: none !important; }` so we also need the `!important` here to be able to override the default hidden behavior on the sphinx rendered scikit-learn.org. See: https://github.com/scikit-learn/scikit-learn/issues/21755 */display: inline-block !important;position: relative;}#sk-31563d7a-c2a8-479f-adf3-022803d6dcc4 div.sk-text-repr-fallback {display: none;}</style><div id=\"sk-31563d7a-c2a8-479f-adf3-022803d6dcc4\" class=\"sk-top-container\"><div class=\"sk-text-repr-fallback\"><pre>GridSearchCV(cv=5,\n",
       "             estimator=Pipeline(steps=[(&#x27;columntransformer&#x27;,\n",
       "                                        ColumnTransformer(transformers=[(&#x27;onehotencoder&#x27;,\n",
       "                                                                         OneHotEncoder(handle_unknown=&#x27;ignore&#x27;),\n",
       "                                                                         [&#x27;PrimaryPropertyType&#x27;,\n",
       "                                                                          &#x27;Neighborhood&#x27;,\n",
       "                                                                          &#x27;LargestPropertyUseType&#x27;,\n",
       "                                                                          &#x27;ComplianceStatus&#x27;]),\n",
       "                                                                        (&#x27;standardscaler&#x27;,\n",
       "                                                                         StandardScaler(),\n",
       "                                                                         [&#x27;NumberofBuildings&#x27;,\n",
       "                                                                          &#x27;NumberofFloors&#x27;,\n",
       "                                                                          &#x27;PropertyGFATotal&#x27;,\n",
       "                                                                          &#x27;PropertyGFAParking&#x27;,\n",
       "                                                                          &#x27;PropertyGFABuilding(s)&#x27;,\n",
       "                                                                          &#x27;LargestPropertyUseTypeGFA&#x27;,\n",
       "                                                                          &#x27;SourceEUIWN(kBtu/sf)&#x27;,\n",
       "                                                                          &#x27;GHGEmissionsIntensity&#x27;,\n",
       "                                                                          &#x27;BuildingAge&#x27;])])),\n",
       "                                       (&#x27;elasticnet&#x27;, ElasticNet(tol=0.1))]),\n",
       "             param_grid={&#x27;elasticnet__alpha&#x27;: [0.01, 0.1, 1],\n",
       "                         &#x27;elasticnet__l1_ratio&#x27;: [1e-05, 0.0001, 0.001]})</pre><b>Please rerun this cell to show the HTML repr or trust the notebook.</b></div><div class=\"sk-container\" hidden><div class=\"sk-item sk-dashed-wrapped\"><div class=\"sk-label-container\"><div class=\"sk-label sk-toggleable\"><input class=\"sk-toggleable__control sk-hidden--visually\" id=\"8fd52c31-248d-4fe0-8f9a-d3f0fa456d80\" type=\"checkbox\" ><label for=\"8fd52c31-248d-4fe0-8f9a-d3f0fa456d80\" class=\"sk-toggleable__label sk-toggleable__label-arrow\">GridSearchCV</label><div class=\"sk-toggleable__content\"><pre>GridSearchCV(cv=5,\n",
       "             estimator=Pipeline(steps=[(&#x27;columntransformer&#x27;,\n",
       "                                        ColumnTransformer(transformers=[(&#x27;onehotencoder&#x27;,\n",
       "                                                                         OneHotEncoder(handle_unknown=&#x27;ignore&#x27;),\n",
       "                                                                         [&#x27;PrimaryPropertyType&#x27;,\n",
       "                                                                          &#x27;Neighborhood&#x27;,\n",
       "                                                                          &#x27;LargestPropertyUseType&#x27;,\n",
       "                                                                          &#x27;ComplianceStatus&#x27;]),\n",
       "                                                                        (&#x27;standardscaler&#x27;,\n",
       "                                                                         StandardScaler(),\n",
       "                                                                         [&#x27;NumberofBuildings&#x27;,\n",
       "                                                                          &#x27;NumberofFloors&#x27;,\n",
       "                                                                          &#x27;PropertyGFATotal&#x27;,\n",
       "                                                                          &#x27;PropertyGFAParking&#x27;,\n",
       "                                                                          &#x27;PropertyGFABuilding(s)&#x27;,\n",
       "                                                                          &#x27;LargestPropertyUseTypeGFA&#x27;,\n",
       "                                                                          &#x27;SourceEUIWN(kBtu/sf)&#x27;,\n",
       "                                                                          &#x27;GHGEmissionsIntensity&#x27;,\n",
       "                                                                          &#x27;BuildingAge&#x27;])])),\n",
       "                                       (&#x27;elasticnet&#x27;, ElasticNet(tol=0.1))]),\n",
       "             param_grid={&#x27;elasticnet__alpha&#x27;: [0.01, 0.1, 1],\n",
       "                         &#x27;elasticnet__l1_ratio&#x27;: [1e-05, 0.0001, 0.001]})</pre></div></div></div><div class=\"sk-parallel\"><div class=\"sk-parallel-item\"><div class=\"sk-item\"><div class=\"sk-serial\"><div class=\"sk-item\"><div class=\"sk-serial\"><div class=\"sk-item sk-dashed-wrapped\"><div class=\"sk-label-container\"><div class=\"sk-label sk-toggleable\"><input class=\"sk-toggleable__control sk-hidden--visually\" id=\"500b6d5c-0b1c-4e75-ac4e-8cbde42dc9e4\" type=\"checkbox\" ><label for=\"500b6d5c-0b1c-4e75-ac4e-8cbde42dc9e4\" class=\"sk-toggleable__label sk-toggleable__label-arrow\">columntransformer: ColumnTransformer</label><div class=\"sk-toggleable__content\"><pre>ColumnTransformer(transformers=[(&#x27;onehotencoder&#x27;,\n",
       "                                 OneHotEncoder(handle_unknown=&#x27;ignore&#x27;),\n",
       "                                 [&#x27;PrimaryPropertyType&#x27;, &#x27;Neighborhood&#x27;,\n",
       "                                  &#x27;LargestPropertyUseType&#x27;,\n",
       "                                  &#x27;ComplianceStatus&#x27;]),\n",
       "                                (&#x27;standardscaler&#x27;, StandardScaler(),\n",
       "                                 [&#x27;NumberofBuildings&#x27;, &#x27;NumberofFloors&#x27;,\n",
       "                                  &#x27;PropertyGFATotal&#x27;, &#x27;PropertyGFAParking&#x27;,\n",
       "                                  &#x27;PropertyGFABuilding(s)&#x27;,\n",
       "                                  &#x27;LargestPropertyUseTypeGFA&#x27;,\n",
       "                                  &#x27;SourceEUIWN(kBtu/sf)&#x27;,\n",
       "                                  &#x27;GHGEmissionsIntensity&#x27;, &#x27;BuildingAge&#x27;])])</pre></div></div></div><div class=\"sk-parallel\"><div class=\"sk-parallel-item\"><div class=\"sk-item\"><div class=\"sk-label-container\"><div class=\"sk-label sk-toggleable\"><input class=\"sk-toggleable__control sk-hidden--visually\" id=\"c18e17c9-b6aa-4591-a34f-bed0441bf0d8\" type=\"checkbox\" ><label for=\"c18e17c9-b6aa-4591-a34f-bed0441bf0d8\" class=\"sk-toggleable__label sk-toggleable__label-arrow\">onehotencoder</label><div class=\"sk-toggleable__content\"><pre>[&#x27;PrimaryPropertyType&#x27;, &#x27;Neighborhood&#x27;, &#x27;LargestPropertyUseType&#x27;, &#x27;ComplianceStatus&#x27;]</pre></div></div></div><div class=\"sk-serial\"><div class=\"sk-item\"><div class=\"sk-estimator sk-toggleable\"><input class=\"sk-toggleable__control sk-hidden--visually\" id=\"4babb12a-350a-4c43-8546-f63465fd5692\" type=\"checkbox\" ><label for=\"4babb12a-350a-4c43-8546-f63465fd5692\" class=\"sk-toggleable__label sk-toggleable__label-arrow\">OneHotEncoder</label><div class=\"sk-toggleable__content\"><pre>OneHotEncoder(handle_unknown=&#x27;ignore&#x27;)</pre></div></div></div></div></div></div><div class=\"sk-parallel-item\"><div class=\"sk-item\"><div class=\"sk-label-container\"><div class=\"sk-label sk-toggleable\"><input class=\"sk-toggleable__control sk-hidden--visually\" id=\"fc9edd94-de54-4114-97cd-5c60faa6c6d0\" type=\"checkbox\" ><label for=\"fc9edd94-de54-4114-97cd-5c60faa6c6d0\" class=\"sk-toggleable__label sk-toggleable__label-arrow\">standardscaler</label><div class=\"sk-toggleable__content\"><pre>[&#x27;NumberofBuildings&#x27;, &#x27;NumberofFloors&#x27;, &#x27;PropertyGFATotal&#x27;, &#x27;PropertyGFAParking&#x27;, &#x27;PropertyGFABuilding(s)&#x27;, &#x27;LargestPropertyUseTypeGFA&#x27;, &#x27;SourceEUIWN(kBtu/sf)&#x27;, &#x27;GHGEmissionsIntensity&#x27;, &#x27;BuildingAge&#x27;]</pre></div></div></div><div class=\"sk-serial\"><div class=\"sk-item\"><div class=\"sk-estimator sk-toggleable\"><input class=\"sk-toggleable__control sk-hidden--visually\" id=\"e94c7172-e470-4cda-a3d4-8b4628d2e96a\" type=\"checkbox\" ><label for=\"e94c7172-e470-4cda-a3d4-8b4628d2e96a\" class=\"sk-toggleable__label sk-toggleable__label-arrow\">StandardScaler</label><div class=\"sk-toggleable__content\"><pre>StandardScaler()</pre></div></div></div></div></div></div></div></div><div class=\"sk-item\"><div class=\"sk-estimator sk-toggleable\"><input class=\"sk-toggleable__control sk-hidden--visually\" id=\"d6504e05-8d2a-484d-857d-5d0f4e599d54\" type=\"checkbox\" ><label for=\"d6504e05-8d2a-484d-857d-5d0f4e599d54\" class=\"sk-toggleable__label sk-toggleable__label-arrow\">ElasticNet</label><div class=\"sk-toggleable__content\"><pre>ElasticNet(tol=0.1)</pre></div></div></div></div></div></div></div></div></div></div></div></div>"
      ],
      "text/plain": [
       "GridSearchCV(cv=5,\n",
       "             estimator=Pipeline(steps=[('columntransformer',\n",
       "                                        ColumnTransformer(transformers=[('onehotencoder',\n",
       "                                                                         OneHotEncoder(handle_unknown='ignore'),\n",
       "                                                                         ['PrimaryPropertyType',\n",
       "                                                                          'Neighborhood',\n",
       "                                                                          'LargestPropertyUseType',\n",
       "                                                                          'ComplianceStatus']),\n",
       "                                                                        ('standardscaler',\n",
       "                                                                         StandardScaler(),\n",
       "                                                                         ['NumberofBuildings',\n",
       "                                                                          'NumberofFloors',\n",
       "                                                                          'PropertyGFATotal',\n",
       "                                                                          'PropertyGFAParking',\n",
       "                                                                          'PropertyGFABuilding(s)',\n",
       "                                                                          'LargestPropertyUseTypeGFA',\n",
       "                                                                          'SourceEUIWN(kBtu/sf)',\n",
       "                                                                          'GHGEmissionsIntensity',\n",
       "                                                                          'BuildingAge'])])),\n",
       "                                       ('elasticnet', ElasticNet(tol=0.1))]),\n",
       "             param_grid={'elasticnet__alpha': [0.01, 0.1, 1],\n",
       "                         'elasticnet__l1_ratio': [1e-05, 0.0001, 0.001]})"
      ]
     },
     "execution_count": 75,
     "metadata": {},
     "output_type": "execute_result"
    }
   ],
   "source": [
    "# Optimisation des hyperparamètres avec: GridSearchCV()\n",
    "parameters = {'elasticnet__l1_ratio':[1e-5,1e-4,1e-3],'elasticnet__alpha':[1e-2,0.1,1]}\n",
    "#Grille de recherche:\n",
    "grid_elastic= GridSearchCV(pipe_elastic,parameters, cv=5)\n",
    "grid_elastic.fit(X_train,y_train)"
   ]
  },
  {
   "cell_type": "code",
   "execution_count": 76,
   "metadata": {},
   "outputs": [
    {
     "name": "stdout",
     "output_type": "stream",
     "text": [
      "0.5006423930941931\n",
      "{'elasticnet__alpha': 0.1, 'elasticnet__l1_ratio': 1e-05}\n"
     ]
    }
   ],
   "source": [
    "print(grid_elastic.best_score_)\n",
    "print(grid_elastic.best_params_)"
   ]
  },
  {
   "cell_type": "code",
   "execution_count": 77,
   "metadata": {},
   "outputs": [
    {
     "data": {
      "text/plain": [
       "0.6112069657846071"
      ]
     },
     "execution_count": 77,
     "metadata": {},
     "output_type": "execute_result"
    }
   ],
   "source": [
    "model_elastic= grid_elastic.best_estimator_\n",
    "model_elastic.score(X_test,y_test)"
   ]
  },
  {
   "cell_type": "code",
   "execution_count": 78,
   "metadata": {},
   "outputs": [
    {
     "data": {
      "text/plain": [
       "[38.107159295523594,\n",
       " 1452.1555895744102,\n",
       " 21.863777434267774,\n",
       " 12.65480304867807,\n",
       " 0.6112069657846071]"
      ]
     },
     "execution_count": 78,
     "metadata": {},
     "output_type": "execute_result"
    }
   ],
   "source": [
    "pred_elastic= model_elastic.predict(X_test)\n",
    "# Evaluation des métriques:\n",
    "compute_scores(y_test, pred_elastic)"
   ]
  },
  {
   "cell_type": "code",
   "execution_count": 79,
   "metadata": {},
   "outputs": [
    {
     "data": {
      "image/png": "[encoded data removed]",
      "text/plain": [
       "<Figure size 432x288 with 1 Axes>"
      ]
     },
     "metadata": {
      "needs_background": "light"
     },
     "output_type": "display_data"
    }
   ],
   "source": [
    "fig, ax = plt.subplots()\n",
    "ax.scatter(y_test, pred_elastic)\n",
    "ax.plot([y_test.min(), y_test.max()], [y_test.min(), y_test.max()], 'k--', lw=4)\n",
    "ax.set_xlabel('Measured')\n",
    "ax.set_ylabel('Predicted')\n",
    "plt.show()"
   ]
  },
  {
   "cell_type": "markdown",
   "metadata": {},
   "source": [
    "#### Application du modèle: Forests of randomized trees"
   ]
  },
  {
   "cell_type": "code",
   "execution_count": 80,
   "metadata": {},
   "outputs": [],
   "source": [
    "randomforest= RandomForestRegressor()\n",
    "# On crée le modèle à l'aide de pipeline\n",
    "pipe_randomforest= make_pipeline(column_trans, randomforest)"
   ]
  },
  {
   "cell_type": "code",
   "execution_count": 81,
   "metadata": {},
   "outputs": [
    {
     "data": {
      "text/plain": [
       "dict_keys(['memory', 'steps', 'verbose', 'columntransformer', 'randomforestregressor', 'columntransformer__n_jobs', 'columntransformer__remainder', 'columntransformer__sparse_threshold', 'columntransformer__transformer_weights', 'columntransformer__transformers', 'columntransformer__verbose', 'columntransformer__verbose_feature_names_out', 'columntransformer__onehotencoder', 'columntransformer__standardscaler', 'columntransformer__onehotencoder__categories', 'columntransformer__onehotencoder__drop', 'columntransformer__onehotencoder__dtype', 'columntransformer__onehotencoder__handle_unknown', 'columntransformer__onehotencoder__sparse', 'columntransformer__standardscaler__copy', 'columntransformer__standardscaler__with_mean', 'columntransformer__standardscaler__with_std', 'randomforestregressor__bootstrap', 'randomforestregressor__ccp_alpha', 'randomforestregressor__criterion', 'randomforestregressor__max_depth', 'randomforestregressor__max_features', 'randomforestregressor__max_leaf_nodes', 'randomforestregressor__max_samples', 'randomforestregressor__min_impurity_decrease', 'randomforestregressor__min_samples_leaf', 'randomforestregressor__min_samples_split', 'randomforestregressor__min_weight_fraction_leaf', 'randomforestregressor__n_estimators', 'randomforestregressor__n_jobs', 'randomforestregressor__oob_score', 'randomforestregressor__random_state', 'randomforestregressor__verbose', 'randomforestregressor__warm_start'])"
      ]
     },
     "execution_count": 81,
     "metadata": {},
     "output_type": "execute_result"
    }
   ],
   "source": [
    "# liste des paramètres de l'estimateur:\n",
    "pipe_randomforest.get_params().keys()"
   ]
  },
  {
   "cell_type": "code",
   "execution_count": 82,
   "metadata": {},
   "outputs": [
    {
     "data": {
      "text/plain": [
       "array([0.93328906, 0.95865908, 0.96123739, 0.96205366, 0.96333776])"
      ]
     },
     "execution_count": 82,
     "metadata": {},
     "output_type": "execute_result"
    }
   ],
   "source": [
    "# Cross validation avec: cross_val_score()\n",
    "cross_val_score(pipe_randomforest,X_train,y_train,cv=5,scoring='r2')"
   ]
  },
  {
   "cell_type": "code",
   "execution_count": 83,
   "metadata": {},
   "outputs": [
    {
     "data": {
      "text/html": [
       "<style>#sk-9dabab91-f237-4fc2-99f0-e7c561bd32d6 {color: black;background-color: white;}#sk-9dabab91-f237-4fc2-99f0-e7c561bd32d6 pre{padding: 0;}#sk-9dabab91-f237-4fc2-99f0-e7c561bd32d6 div.sk-toggleable {background-color: white;}#sk-9dabab91-f237-4fc2-99f0-e7c561bd32d6 label.sk-toggleable__label {cursor: pointer;display: block;width: 100%;margin-bottom: 0;padding: 0.3em;box-sizing: border-box;text-align: center;}#sk-9dabab91-f237-4fc2-99f0-e7c561bd32d6 label.sk-toggleable__label-arrow:before {content: \"▸\";float: left;margin-right: 0.25em;color: #696969;}#sk-9dabab91-f237-4fc2-99f0-e7c561bd32d6 label.sk-toggleable__label-arrow:hover:before {color: black;}#sk-9dabab91-f237-4fc2-99f0-e7c561bd32d6 div.sk-estimator:hover label.sk-toggleable__label-arrow:before {color: black;}#sk-9dabab91-f237-4fc2-99f0-e7c561bd32d6 div.sk-toggleable__content {max-height: 0;max-width: 0;overflow: hidden;text-align: left;background-color: #f0f8ff;}#sk-9dabab91-f237-4fc2-99f0-e7c561bd32d6 div.sk-toggleable__content pre {margin: 0.2em;color: black;border-radius: 0.25em;background-color: #f0f8ff;}#sk-9dabab91-f237-4fc2-99f0-e7c561bd32d6 input.sk-toggleable__control:checked~div.sk-toggleable__content {max-height: 200px;max-width: 100%;overflow: auto;}#sk-9dabab91-f237-4fc2-99f0-e7c561bd32d6 input.sk-toggleable__control:checked~label.sk-toggleable__label-arrow:before {content: \"▾\";}#sk-9dabab91-f237-4fc2-99f0-e7c561bd32d6 div.sk-estimator input.sk-toggleable__control:checked~label.sk-toggleable__label {background-color: #d4ebff;}#sk-9dabab91-f237-4fc2-99f0-e7c561bd32d6 div.sk-label input.sk-toggleable__control:checked~label.sk-toggleable__label {background-color: #d4ebff;}#sk-9dabab91-f237-4fc2-99f0-e7c561bd32d6 input.sk-hidden--visually {border: 0;clip: rect(1px 1px 1px 1px);clip: rect(1px, 1px, 1px, 1px);height: 1px;margin: -1px;overflow: hidden;padding: 0;position: absolute;width: 1px;}#sk-9dabab91-f237-4fc2-99f0-e7c561bd32d6 div.sk-estimator {font-family: monospace;background-color: #f0f8ff;border: 1px dotted black;border-radius: 0.25em;box-sizing: border-box;margin-bottom: 0.5em;}#sk-9dabab91-f237-4fc2-99f0-e7c561bd32d6 div.sk-estimator:hover {background-color: #d4ebff;}#sk-9dabab91-f237-4fc2-99f0-e7c561bd32d6 div.sk-parallel-item::after {content: \"\";width: 100%;border-bottom: 1px solid gray;flex-grow: 1;}#sk-9dabab91-f237-4fc2-99f0-e7c561bd32d6 div.sk-label:hover label.sk-toggleable__label {background-color: #d4ebff;}#sk-9dabab91-f237-4fc2-99f0-e7c561bd32d6 div.sk-serial::before {content: \"\";position: absolute;border-left: 1px solid gray;box-sizing: border-box;top: 2em;bottom: 0;left: 50%;}#sk-9dabab91-f237-4fc2-99f0-e7c561bd32d6 div.sk-serial {display: flex;flex-direction: column;align-items: center;background-color: white;padding-right: 0.2em;padding-left: 0.2em;}#sk-9dabab91-f237-4fc2-99f0-e7c561bd32d6 div.sk-item {z-index: 1;}#sk-9dabab91-f237-4fc2-99f0-e7c561bd32d6 div.sk-parallel {display: flex;align-items: stretch;justify-content: center;background-color: white;}#sk-9dabab91-f237-4fc2-99f0-e7c561bd32d6 div.sk-parallel::before {content: \"\";position: absolute;border-left: 1px solid gray;box-sizing: border-box;top: 2em;bottom: 0;left: 50%;}#sk-9dabab91-f237-4fc2-99f0-e7c561bd32d6 div.sk-parallel-item {display: flex;flex-direction: column;position: relative;background-color: white;}#sk-9dabab91-f237-4fc2-99f0-e7c561bd32d6 div.sk-parallel-item:first-child::after {align-self: flex-end;width: 50%;}#sk-9dabab91-f237-4fc2-99f0-e7c561bd32d6 div.sk-parallel-item:last-child::after {align-self: flex-start;width: 50%;}#sk-9dabab91-f237-4fc2-99f0-e7c561bd32d6 div.sk-parallel-item:only-child::after {width: 0;}#sk-9dabab91-f237-4fc2-99f0-e7c561bd32d6 div.sk-dashed-wrapped {border: 1px dashed gray;margin: 0 0.4em 0.5em 0.4em;box-sizing: border-box;padding-bottom: 0.4em;background-color: white;position: relative;}#sk-9dabab91-f237-4fc2-99f0-e7c561bd32d6 div.sk-label label {font-family: monospace;font-weight: bold;background-color: white;display: inline-block;line-height: 1.2em;}#sk-9dabab91-f237-4fc2-99f0-e7c561bd32d6 div.sk-label-container {position: relative;z-index: 2;text-align: center;}#sk-9dabab91-f237-4fc2-99f0-e7c561bd32d6 div.sk-container {/* jupyter's `normalize.less` sets `[hidden] { display: none; }` but bootstrap.min.css set `[hidden] { display: none !important; }` so we also need the `!important` here to be able to override the default hidden behavior on the sphinx rendered scikit-learn.org. See: https://github.com/scikit-learn/scikit-learn/issues/21755 */display: inline-block !important;position: relative;}#sk-9dabab91-f237-4fc2-99f0-e7c561bd32d6 div.sk-text-repr-fallback {display: none;}</style><div id=\"sk-9dabab91-f237-4fc2-99f0-e7c561bd32d6\" class=\"sk-top-container\"><div class=\"sk-text-repr-fallback\"><pre>GridSearchCV(cv=5,\n",
       "             estimator=Pipeline(steps=[(&#x27;columntransformer&#x27;,\n",
       "                                        ColumnTransformer(transformers=[(&#x27;onehotencoder&#x27;,\n",
       "                                                                         OneHotEncoder(handle_unknown=&#x27;ignore&#x27;),\n",
       "                                                                         [&#x27;PrimaryPropertyType&#x27;,\n",
       "                                                                          &#x27;Neighborhood&#x27;,\n",
       "                                                                          &#x27;LargestPropertyUseType&#x27;,\n",
       "                                                                          &#x27;ComplianceStatus&#x27;]),\n",
       "                                                                        (&#x27;standardscaler&#x27;,\n",
       "                                                                         StandardScaler(),\n",
       "                                                                         [&#x27;NumberofBuildings&#x27;,\n",
       "                                                                          &#x27;NumberofFloors&#x27;,\n",
       "                                                                          &#x27;PropertyGFATotal&#x27;,\n",
       "                                                                          &#x27;PropertyGFAParking&#x27;,\n",
       "                                                                          &#x27;PropertyGFABuilding(s)&#x27;,\n",
       "                                                                          &#x27;LargestPropertyUseTypeGFA&#x27;,\n",
       "                                                                          &#x27;SourceEUIWN(kBtu/sf)&#x27;,\n",
       "                                                                          &#x27;GHGEmissionsIntensity&#x27;,\n",
       "                                                                          &#x27;BuildingAge&#x27;])])),\n",
       "                                       (&#x27;randomforestregressor&#x27;,\n",
       "                                        RandomForestRegressor())]),\n",
       "             param_grid={&#x27;randomforestregressor__n_estimators&#x27;: [100, 200,\n",
       "                                                                 300]})</pre><b>Please rerun this cell to show the HTML repr or trust the notebook.</b></div><div class=\"sk-container\" hidden><div class=\"sk-item sk-dashed-wrapped\"><div class=\"sk-label-container\"><div class=\"sk-label sk-toggleable\"><input class=\"sk-toggleable__control sk-hidden--visually\" id=\"25bd26b1-bf3e-462a-9b00-34a6e44f51d1\" type=\"checkbox\" ><label for=\"25bd26b1-bf3e-462a-9b00-34a6e44f51d1\" class=\"sk-toggleable__label sk-toggleable__label-arrow\">GridSearchCV</label><div class=\"sk-toggleable__content\"><pre>GridSearchCV(cv=5,\n",
       "             estimator=Pipeline(steps=[(&#x27;columntransformer&#x27;,\n",
       "                                        ColumnTransformer(transformers=[(&#x27;onehotencoder&#x27;,\n",
       "                                                                         OneHotEncoder(handle_unknown=&#x27;ignore&#x27;),\n",
       "                                                                         [&#x27;PrimaryPropertyType&#x27;,\n",
       "                                                                          &#x27;Neighborhood&#x27;,\n",
       "                                                                          &#x27;LargestPropertyUseType&#x27;,\n",
       "                                                                          &#x27;ComplianceStatus&#x27;]),\n",
       "                                                                        (&#x27;standardscaler&#x27;,\n",
       "                                                                         StandardScaler(),\n",
       "                                                                         [&#x27;NumberofBuildings&#x27;,\n",
       "                                                                          &#x27;NumberofFloors&#x27;,\n",
       "                                                                          &#x27;PropertyGFATotal&#x27;,\n",
       "                                                                          &#x27;PropertyGFAParking&#x27;,\n",
       "                                                                          &#x27;PropertyGFABuilding(s)&#x27;,\n",
       "                                                                          &#x27;LargestPropertyUseTypeGFA&#x27;,\n",
       "                                                                          &#x27;SourceEUIWN(kBtu/sf)&#x27;,\n",
       "                                                                          &#x27;GHGEmissionsIntensity&#x27;,\n",
       "                                                                          &#x27;BuildingAge&#x27;])])),\n",
       "                                       (&#x27;randomforestregressor&#x27;,\n",
       "                                        RandomForestRegressor())]),\n",
       "             param_grid={&#x27;randomforestregressor__n_estimators&#x27;: [100, 200,\n",
       "                                                                 300]})</pre></div></div></div><div class=\"sk-parallel\"><div class=\"sk-parallel-item\"><div class=\"sk-item\"><div class=\"sk-serial\"><div class=\"sk-item\"><div class=\"sk-serial\"><div class=\"sk-item sk-dashed-wrapped\"><div class=\"sk-label-container\"><div class=\"sk-label sk-toggleable\"><input class=\"sk-toggleable__control sk-hidden--visually\" id=\"e551d00e-de7b-45bc-9403-ba89f0ffad14\" type=\"checkbox\" ><label for=\"e551d00e-de7b-45bc-9403-ba89f0ffad14\" class=\"sk-toggleable__label sk-toggleable__label-arrow\">columntransformer: ColumnTransformer</label><div class=\"sk-toggleable__content\"><pre>ColumnTransformer(transformers=[(&#x27;onehotencoder&#x27;,\n",
       "                                 OneHotEncoder(handle_unknown=&#x27;ignore&#x27;),\n",
       "                                 [&#x27;PrimaryPropertyType&#x27;, &#x27;Neighborhood&#x27;,\n",
       "                                  &#x27;LargestPropertyUseType&#x27;,\n",
       "                                  &#x27;ComplianceStatus&#x27;]),\n",
       "                                (&#x27;standardscaler&#x27;, StandardScaler(),\n",
       "                                 [&#x27;NumberofBuildings&#x27;, &#x27;NumberofFloors&#x27;,\n",
       "                                  &#x27;PropertyGFATotal&#x27;, &#x27;PropertyGFAParking&#x27;,\n",
       "                                  &#x27;PropertyGFABuilding(s)&#x27;,\n",
       "                                  &#x27;LargestPropertyUseTypeGFA&#x27;,\n",
       "                                  &#x27;SourceEUIWN(kBtu/sf)&#x27;,\n",
       "                                  &#x27;GHGEmissionsIntensity&#x27;, &#x27;BuildingAge&#x27;])])</pre></div></div></div><div class=\"sk-parallel\"><div class=\"sk-parallel-item\"><div class=\"sk-item\"><div class=\"sk-label-container\"><div class=\"sk-label sk-toggleable\"><input class=\"sk-toggleable__control sk-hidden--visually\" id=\"80e9b501-949b-4ec9-a7e3-8de883bde4a3\" type=\"checkbox\" ><label for=\"80e9b501-949b-4ec9-a7e3-8de883bde4a3\" class=\"sk-toggleable__label sk-toggleable__label-arrow\">onehotencoder</label><div class=\"sk-toggleable__content\"><pre>[&#x27;PrimaryPropertyType&#x27;, &#x27;Neighborhood&#x27;, &#x27;LargestPropertyUseType&#x27;, &#x27;ComplianceStatus&#x27;]</pre></div></div></div><div class=\"sk-serial\"><div class=\"sk-item\"><div class=\"sk-estimator sk-toggleable\"><input class=\"sk-toggleable__control sk-hidden--visually\" id=\"bf75bac8-432a-4fca-8124-6cc29ebea081\" type=\"checkbox\" ><label for=\"bf75bac8-432a-4fca-8124-6cc29ebea081\" class=\"sk-toggleable__label sk-toggleable__label-arrow\">OneHotEncoder</label><div class=\"sk-toggleable__content\"><pre>OneHotEncoder(handle_unknown=&#x27;ignore&#x27;)</pre></div></div></div></div></div></div><div class=\"sk-parallel-item\"><div class=\"sk-item\"><div class=\"sk-label-container\"><div class=\"sk-label sk-toggleable\"><input class=\"sk-toggleable__control sk-hidden--visually\" id=\"8bbb47f8-9894-45c0-86a1-b2e9827ddb8e\" type=\"checkbox\" ><label for=\"8bbb47f8-9894-45c0-86a1-b2e9827ddb8e\" class=\"sk-toggleable__label sk-toggleable__label-arrow\">standardscaler</label><div class=\"sk-toggleable__content\"><pre>[&#x27;NumberofBuildings&#x27;, &#x27;NumberofFloors&#x27;, &#x27;PropertyGFATotal&#x27;, &#x27;PropertyGFAParking&#x27;, &#x27;PropertyGFABuilding(s)&#x27;, &#x27;LargestPropertyUseTypeGFA&#x27;, &#x27;SourceEUIWN(kBtu/sf)&#x27;, &#x27;GHGEmissionsIntensity&#x27;, &#x27;BuildingAge&#x27;]</pre></div></div></div><div class=\"sk-serial\"><div class=\"sk-item\"><div class=\"sk-estimator sk-toggleable\"><input class=\"sk-toggleable__control sk-hidden--visually\" id=\"40de2eb3-afde-4c24-9b00-5ed85966f1c3\" type=\"checkbox\" ><label for=\"40de2eb3-afde-4c24-9b00-5ed85966f1c3\" class=\"sk-toggleable__label sk-toggleable__label-arrow\">StandardScaler</label><div class=\"sk-toggleable__content\"><pre>StandardScaler()</pre></div></div></div></div></div></div></div></div><div class=\"sk-item\"><div class=\"sk-estimator sk-toggleable\"><input class=\"sk-toggleable__control sk-hidden--visually\" id=\"98726bbc-e752-44df-ac85-559b98c3de30\" type=\"checkbox\" ><label for=\"98726bbc-e752-44df-ac85-559b98c3de30\" class=\"sk-toggleable__label sk-toggleable__label-arrow\">RandomForestRegressor</label><div class=\"sk-toggleable__content\"><pre>RandomForestRegressor()</pre></div></div></div></div></div></div></div></div></div></div></div></div>"
      ],
      "text/plain": [
       "GridSearchCV(cv=5,\n",
       "             estimator=Pipeline(steps=[('columntransformer',\n",
       "                                        ColumnTransformer(transformers=[('onehotencoder',\n",
       "                                                                         OneHotEncoder(handle_unknown='ignore'),\n",
       "                                                                         ['PrimaryPropertyType',\n",
       "                                                                          'Neighborhood',\n",
       "                                                                          'LargestPropertyUseType',\n",
       "                                                                          'ComplianceStatus']),\n",
       "                                                                        ('standardscaler',\n",
       "                                                                         StandardScaler(),\n",
       "                                                                         ['NumberofBuildings',\n",
       "                                                                          'NumberofFloors',\n",
       "                                                                          'PropertyGFATotal',\n",
       "                                                                          'PropertyGFAParking',\n",
       "                                                                          'PropertyGFABuilding(s)',\n",
       "                                                                          'LargestPropertyUseTypeGFA',\n",
       "                                                                          'SourceEUIWN(kBtu/sf)',\n",
       "                                                                          'GHGEmissionsIntensity',\n",
       "                                                                          'BuildingAge'])])),\n",
       "                                       ('randomforestregressor',\n",
       "                                        RandomForestRegressor())]),\n",
       "             param_grid={'randomforestregressor__n_estimators': [100, 200,\n",
       "                                                                 300]})"
      ]
     },
     "execution_count": 83,
     "metadata": {},
     "output_type": "execute_result"
    }
   ],
   "source": [
    "parameter= {'randomforestregressor__n_estimators': [100,200,300]}\n",
    "#Grille de recherche:\n",
    "grid_randomforest= GridSearchCV(pipe_randomforest, parameter, cv=5)\n",
    "grid_randomforest.fit(X_train,y_train)"
   ]
  },
  {
   "cell_type": "code",
   "execution_count": 84,
   "metadata": {},
   "outputs": [
    {
     "name": "stdout",
     "output_type": "stream",
     "text": [
      "0.9571555835530694\n",
      "{'randomforestregressor__n_estimators': 200}\n"
     ]
    }
   ],
   "source": [
    "print(grid_randomforest.best_score_)\n",
    "print(grid_randomforest.best_params_)"
   ]
  },
  {
   "cell_type": "code",
   "execution_count": 85,
   "metadata": {},
   "outputs": [
    {
     "data": {
      "text/plain": [
       "0.9756441525161738"
      ]
     },
     "execution_count": 85,
     "metadata": {},
     "output_type": "execute_result"
    }
   ],
   "source": [
    "model_randomforest= grid_randomforest.best_estimator_\n",
    "model_randomforest.score(X_test,y_test)"
   ]
  },
  {
   "cell_type": "code",
   "execution_count": 86,
   "metadata": {},
   "outputs": [
    {
     "data": {
      "text/plain": [
       "[9.537816455855825,\n",
       " 90.96994274559417,\n",
       " 3.867681249999996,\n",
       " 1.028400000000012,\n",
       " 0.9756441525161738]"
      ]
     },
     "execution_count": 86,
     "metadata": {},
     "output_type": "execute_result"
    }
   ],
   "source": [
    "pred_randomforest= model_randomforest.predict(X_test)\n",
    "# Evaluation des métriques:\n",
    "compute_scores(y_test, pred_randomforest)"
   ]
  },
  {
   "cell_type": "code",
   "execution_count": 87,
   "metadata": {},
   "outputs": [
    {
     "data": {
      "image/png": "[encoded data removed]",
      "text/plain": [
       "<Figure size 432x288 with 1 Axes>"
      ]
     },
     "metadata": {
      "needs_background": "light"
     },
     "output_type": "display_data"
    }
   ],
   "source": [
    "fig, ax = plt.subplots()\n",
    "ax.scatter(y_test, pred_randomforest)\n",
    "ax.plot([y_test.min(), y_test.max()], [y_test.min(), y_test.max()], 'k--', lw=4)\n",
    "ax.set_xlabel('Measured')\n",
    "ax.set_ylabel('Predicted')\n",
    "plt.show()"
   ]
  },
  {
   "cell_type": "markdown",
   "metadata": {},
   "source": [
    "##### Application du modèle: Decision Tree Regression with AdaBoost"
   ]
  },
  {
   "cell_type": "code",
   "execution_count": 88,
   "metadata": {},
   "outputs": [],
   "source": [
    "adaboost= AdaBoostRegressor(DecisionTreeRegressor(max_depth=4), n_estimators=300)\n",
    "# On crée le modèle à l'aide de pipeline\n",
    "pipe_adaboost= make_pipeline(column_trans, adaboost)"
   ]
  },
  {
   "cell_type": "code",
   "execution_count": 89,
   "metadata": {},
   "outputs": [
    {
     "data": {
      "text/plain": [
       "dict_keys(['memory', 'steps', 'verbose', 'columntransformer', 'adaboostregressor', 'columntransformer__n_jobs', 'columntransformer__remainder', 'columntransformer__sparse_threshold', 'columntransformer__transformer_weights', 'columntransformer__transformers', 'columntransformer__verbose', 'columntransformer__verbose_feature_names_out', 'columntransformer__onehotencoder', 'columntransformer__standardscaler', 'columntransformer__onehotencoder__categories', 'columntransformer__onehotencoder__drop', 'columntransformer__onehotencoder__dtype', 'columntransformer__onehotencoder__handle_unknown', 'columntransformer__onehotencoder__sparse', 'columntransformer__standardscaler__copy', 'columntransformer__standardscaler__with_mean', 'columntransformer__standardscaler__with_std', 'adaboostregressor__base_estimator__ccp_alpha', 'adaboostregressor__base_estimator__criterion', 'adaboostregressor__base_estimator__max_depth', 'adaboostregressor__base_estimator__max_features', 'adaboostregressor__base_estimator__max_leaf_nodes', 'adaboostregressor__base_estimator__min_impurity_decrease', 'adaboostregressor__base_estimator__min_samples_leaf', 'adaboostregressor__base_estimator__min_samples_split', 'adaboostregressor__base_estimator__min_weight_fraction_leaf', 'adaboostregressor__base_estimator__random_state', 'adaboostregressor__base_estimator__splitter', 'adaboostregressor__base_estimator', 'adaboostregressor__learning_rate', 'adaboostregressor__loss', 'adaboostregressor__n_estimators', 'adaboostregressor__random_state'])"
      ]
     },
     "execution_count": 89,
     "metadata": {},
     "output_type": "execute_result"
    }
   ],
   "source": [
    "# liste des paramètres de l'estimateur:\n",
    "pipe_adaboost.get_params().keys()"
   ]
  },
  {
   "cell_type": "code",
   "execution_count": 90,
   "metadata": {},
   "outputs": [
    {
     "data": {
      "text/plain": [
       "array([0.82644671, 0.87340153, 0.85258384, 0.84186331, 0.89293883])"
      ]
     },
     "execution_count": 90,
     "metadata": {},
     "output_type": "execute_result"
    }
   ],
   "source": [
    "# Cross validation avec: cross_val_score()\n",
    "cross_val_score(pipe_adaboost,X_train,y_train,cv=5,scoring='r2')"
   ]
  },
  {
   "cell_type": "code",
   "execution_count": 91,
   "metadata": {},
   "outputs": [
    {
     "data": {
      "text/html": [
       "<style>#sk-47c54ccc-53ec-4aa0-9a58-4e12d70471f8 {color: black;background-color: white;}#sk-47c54ccc-53ec-4aa0-9a58-4e12d70471f8 pre{padding: 0;}#sk-47c54ccc-53ec-4aa0-9a58-4e12d70471f8 div.sk-toggleable {background-color: white;}#sk-47c54ccc-53ec-4aa0-9a58-4e12d70471f8 label.sk-toggleable__label {cursor: pointer;display: block;width: 100%;margin-bottom: 0;padding: 0.3em;box-sizing: border-box;text-align: center;}#sk-47c54ccc-53ec-4aa0-9a58-4e12d70471f8 label.sk-toggleable__label-arrow:before {content: \"▸\";float: left;margin-right: 0.25em;color: #696969;}#sk-47c54ccc-53ec-4aa0-9a58-4e12d70471f8 label.sk-toggleable__label-arrow:hover:before {color: black;}#sk-47c54ccc-53ec-4aa0-9a58-4e12d70471f8 div.sk-estimator:hover label.sk-toggleable__label-arrow:before {color: black;}#sk-47c54ccc-53ec-4aa0-9a58-4e12d70471f8 div.sk-toggleable__content {max-height: 0;max-width: 0;overflow: hidden;text-align: left;background-color: #f0f8ff;}#sk-47c54ccc-53ec-4aa0-9a58-4e12d70471f8 div.sk-toggleable__content pre {margin: 0.2em;color: black;border-radius: 0.25em;background-color: #f0f8ff;}#sk-47c54ccc-53ec-4aa0-9a58-4e12d70471f8 input.sk-toggleable__control:checked~div.sk-toggleable__content {max-height: 200px;max-width: 100%;overflow: auto;}#sk-47c54ccc-53ec-4aa0-9a58-4e12d70471f8 input.sk-toggleable__control:checked~label.sk-toggleable__label-arrow:before {content: \"▾\";}#sk-47c54ccc-53ec-4aa0-9a58-4e12d70471f8 div.sk-estimator input.sk-toggleable__control:checked~label.sk-toggleable__label {background-color: #d4ebff;}#sk-47c54ccc-53ec-4aa0-9a58-4e12d70471f8 div.sk-label input.sk-toggleable__control:checked~label.sk-toggleable__label {background-color: #d4ebff;}#sk-47c54ccc-53ec-4aa0-9a58-4e12d70471f8 input.sk-hidden--visually {border: 0;clip: rect(1px 1px 1px 1px);clip: rect(1px, 1px, 1px, 1px);height: 1px;margin: -1px;overflow: hidden;padding: 0;position: absolute;width: 1px;}#sk-47c54ccc-53ec-4aa0-9a58-4e12d70471f8 div.sk-estimator {font-family: monospace;background-color: #f0f8ff;border: 1px dotted black;border-radius: 0.25em;box-sizing: border-box;margin-bottom: 0.5em;}#sk-47c54ccc-53ec-4aa0-9a58-4e12d70471f8 div.sk-estimator:hover {background-color: #d4ebff;}#sk-47c54ccc-53ec-4aa0-9a58-4e12d70471f8 div.sk-parallel-item::after {content: \"\";width: 100%;border-bottom: 1px solid gray;flex-grow: 1;}#sk-47c54ccc-53ec-4aa0-9a58-4e12d70471f8 div.sk-label:hover label.sk-toggleable__label {background-color: #d4ebff;}#sk-47c54ccc-53ec-4aa0-9a58-4e12d70471f8 div.sk-serial::before {content: \"\";position: absolute;border-left: 1px solid gray;box-sizing: border-box;top: 2em;bottom: 0;left: 50%;}#sk-47c54ccc-53ec-4aa0-9a58-4e12d70471f8 div.sk-serial {display: flex;flex-direction: column;align-items: center;background-color: white;padding-right: 0.2em;padding-left: 0.2em;}#sk-47c54ccc-53ec-4aa0-9a58-4e12d70471f8 div.sk-item {z-index: 1;}#sk-47c54ccc-53ec-4aa0-9a58-4e12d70471f8 div.sk-parallel {display: flex;align-items: stretch;justify-content: center;background-color: white;}#sk-47c54ccc-53ec-4aa0-9a58-4e12d70471f8 div.sk-parallel::before {content: \"\";position: absolute;border-left: 1px solid gray;box-sizing: border-box;top: 2em;bottom: 0;left: 50%;}#sk-47c54ccc-53ec-4aa0-9a58-4e12d70471f8 div.sk-parallel-item {display: flex;flex-direction: column;position: relative;background-color: white;}#sk-47c54ccc-53ec-4aa0-9a58-4e12d70471f8 div.sk-parallel-item:first-child::after {align-self: flex-end;width: 50%;}#sk-47c54ccc-53ec-4aa0-9a58-4e12d70471f8 div.sk-parallel-item:last-child::after {align-self: flex-start;width: 50%;}#sk-47c54ccc-53ec-4aa0-9a58-4e12d70471f8 div.sk-parallel-item:only-child::after {width: 0;}#sk-47c54ccc-53ec-4aa0-9a58-4e12d70471f8 div.sk-dashed-wrapped {border: 1px dashed gray;margin: 0 0.4em 0.5em 0.4em;box-sizing: border-box;padding-bottom: 0.4em;background-color: white;position: relative;}#sk-47c54ccc-53ec-4aa0-9a58-4e12d70471f8 div.sk-label label {font-family: monospace;font-weight: bold;background-color: white;display: inline-block;line-height: 1.2em;}#sk-47c54ccc-53ec-4aa0-9a58-4e12d70471f8 div.sk-label-container {position: relative;z-index: 2;text-align: center;}#sk-47c54ccc-53ec-4aa0-9a58-4e12d70471f8 div.sk-container {/* jupyter's `normalize.less` sets `[hidden] { display: none; }` but bootstrap.min.css set `[hidden] { display: none !important; }` so we also need the `!important` here to be able to override the default hidden behavior on the sphinx rendered scikit-learn.org. See: https://github.com/scikit-learn/scikit-learn/issues/21755 */display: inline-block !important;position: relative;}#sk-47c54ccc-53ec-4aa0-9a58-4e12d70471f8 div.sk-text-repr-fallback {display: none;}</style><div id=\"sk-47c54ccc-53ec-4aa0-9a58-4e12d70471f8\" class=\"sk-top-container\"><div class=\"sk-text-repr-fallback\"><pre>GridSearchCV(cv=5,\n",
       "             estimator=Pipeline(steps=[(&#x27;columntransformer&#x27;,\n",
       "                                        ColumnTransformer(transformers=[(&#x27;onehotencoder&#x27;,\n",
       "                                                                         OneHotEncoder(handle_unknown=&#x27;ignore&#x27;),\n",
       "                                                                         [&#x27;PrimaryPropertyType&#x27;,\n",
       "                                                                          &#x27;Neighborhood&#x27;,\n",
       "                                                                          &#x27;LargestPropertyUseType&#x27;,\n",
       "                                                                          &#x27;ComplianceStatus&#x27;]),\n",
       "                                                                        (&#x27;standardscaler&#x27;,\n",
       "                                                                         StandardScaler(),\n",
       "                                                                         [&#x27;NumberofBuildings&#x27;,\n",
       "                                                                          &#x27;NumberofFloors&#x27;,\n",
       "                                                                          &#x27;PropertyGFATotal&#x27;,\n",
       "                                                                          &#x27;PropertyGFAParking&#x27;,...\n",
       "                                                                          &#x27;SourceEUIWN(kBtu/sf)&#x27;,\n",
       "                                                                          &#x27;GHGEmissionsIntensity&#x27;,\n",
       "                                                                          &#x27;BuildingAge&#x27;])])),\n",
       "                                       (&#x27;adaboostregressor&#x27;,\n",
       "                                        AdaBoostRegressor(base_estimator=DecisionTreeRegressor(max_depth=4),\n",
       "                                                          n_estimators=300))]),\n",
       "             param_grid={&#x27;adaboostregressor__base_estimator__max_depth&#x27;: [4, 6,\n",
       "                                                                          8],\n",
       "                         &#x27;adaboostregressor__loss&#x27;: [&#x27;linear&#x27;, &#x27;square&#x27;,\n",
       "                                                     &#x27;exponential&#x27;],\n",
       "                         &#x27;adaboostregressor__n_estimators&#x27;: [300, 400, 500]})</pre><b>Please rerun this cell to show the HTML repr or trust the notebook.</b></div><div class=\"sk-container\" hidden><div class=\"sk-item sk-dashed-wrapped\"><div class=\"sk-label-container\"><div class=\"sk-label sk-toggleable\"><input class=\"sk-toggleable__control sk-hidden--visually\" id=\"a26efe9c-b1f5-4e5f-949f-617027e4a571\" type=\"checkbox\" ><label for=\"a26efe9c-b1f5-4e5f-949f-617027e4a571\" class=\"sk-toggleable__label sk-toggleable__label-arrow\">GridSearchCV</label><div class=\"sk-toggleable__content\"><pre>GridSearchCV(cv=5,\n",
       "             estimator=Pipeline(steps=[(&#x27;columntransformer&#x27;,\n",
       "                                        ColumnTransformer(transformers=[(&#x27;onehotencoder&#x27;,\n",
       "                                                                         OneHotEncoder(handle_unknown=&#x27;ignore&#x27;),\n",
       "                                                                         [&#x27;PrimaryPropertyType&#x27;,\n",
       "                                                                          &#x27;Neighborhood&#x27;,\n",
       "                                                                          &#x27;LargestPropertyUseType&#x27;,\n",
       "                                                                          &#x27;ComplianceStatus&#x27;]),\n",
       "                                                                        (&#x27;standardscaler&#x27;,\n",
       "                                                                         StandardScaler(),\n",
       "                                                                         [&#x27;NumberofBuildings&#x27;,\n",
       "                                                                          &#x27;NumberofFloors&#x27;,\n",
       "                                                                          &#x27;PropertyGFATotal&#x27;,\n",
       "                                                                          &#x27;PropertyGFAParking&#x27;,...\n",
       "                                                                          &#x27;SourceEUIWN(kBtu/sf)&#x27;,\n",
       "                                                                          &#x27;GHGEmissionsIntensity&#x27;,\n",
       "                                                                          &#x27;BuildingAge&#x27;])])),\n",
       "                                       (&#x27;adaboostregressor&#x27;,\n",
       "                                        AdaBoostRegressor(base_estimator=DecisionTreeRegressor(max_depth=4),\n",
       "                                                          n_estimators=300))]),\n",
       "             param_grid={&#x27;adaboostregressor__base_estimator__max_depth&#x27;: [4, 6,\n",
       "                                                                          8],\n",
       "                         &#x27;adaboostregressor__loss&#x27;: [&#x27;linear&#x27;, &#x27;square&#x27;,\n",
       "                                                     &#x27;exponential&#x27;],\n",
       "                         &#x27;adaboostregressor__n_estimators&#x27;: [300, 400, 500]})</pre></div></div></div><div class=\"sk-parallel\"><div class=\"sk-parallel-item\"><div class=\"sk-item\"><div class=\"sk-serial\"><div class=\"sk-item\"><div class=\"sk-serial\"><div class=\"sk-item sk-dashed-wrapped\"><div class=\"sk-label-container\"><div class=\"sk-label sk-toggleable\"><input class=\"sk-toggleable__control sk-hidden--visually\" id=\"8885da84-94c7-4da2-8f47-184d27bfd925\" type=\"checkbox\" ><label for=\"8885da84-94c7-4da2-8f47-184d27bfd925\" class=\"sk-toggleable__label sk-toggleable__label-arrow\">columntransformer: ColumnTransformer</label><div class=\"sk-toggleable__content\"><pre>ColumnTransformer(transformers=[(&#x27;onehotencoder&#x27;,\n",
       "                                 OneHotEncoder(handle_unknown=&#x27;ignore&#x27;),\n",
       "                                 [&#x27;PrimaryPropertyType&#x27;, &#x27;Neighborhood&#x27;,\n",
       "                                  &#x27;LargestPropertyUseType&#x27;,\n",
       "                                  &#x27;ComplianceStatus&#x27;]),\n",
       "                                (&#x27;standardscaler&#x27;, StandardScaler(),\n",
       "                                 [&#x27;NumberofBuildings&#x27;, &#x27;NumberofFloors&#x27;,\n",
       "                                  &#x27;PropertyGFATotal&#x27;, &#x27;PropertyGFAParking&#x27;,\n",
       "                                  &#x27;PropertyGFABuilding(s)&#x27;,\n",
       "                                  &#x27;LargestPropertyUseTypeGFA&#x27;,\n",
       "                                  &#x27;SourceEUIWN(kBtu/sf)&#x27;,\n",
       "                                  &#x27;GHGEmissionsIntensity&#x27;, &#x27;BuildingAge&#x27;])])</pre></div></div></div><div class=\"sk-parallel\"><div class=\"sk-parallel-item\"><div class=\"sk-item\"><div class=\"sk-label-container\"><div class=\"sk-label sk-toggleable\"><input class=\"sk-toggleable__control sk-hidden--visually\" id=\"322ebf6a-649a-4ef5-a0ca-2581b17d9753\" type=\"checkbox\" ><label for=\"322ebf6a-649a-4ef5-a0ca-2581b17d9753\" class=\"sk-toggleable__label sk-toggleable__label-arrow\">onehotencoder</label><div class=\"sk-toggleable__content\"><pre>[&#x27;PrimaryPropertyType&#x27;, &#x27;Neighborhood&#x27;, &#x27;LargestPropertyUseType&#x27;, &#x27;ComplianceStatus&#x27;]</pre></div></div></div><div class=\"sk-serial\"><div class=\"sk-item\"><div class=\"sk-estimator sk-toggleable\"><input class=\"sk-toggleable__control sk-hidden--visually\" id=\"66923653-cc46-4c20-9af3-9989de0181ca\" type=\"checkbox\" ><label for=\"66923653-cc46-4c20-9af3-9989de0181ca\" class=\"sk-toggleable__label sk-toggleable__label-arrow\">OneHotEncoder</label><div class=\"sk-toggleable__content\"><pre>OneHotEncoder(handle_unknown=&#x27;ignore&#x27;)</pre></div></div></div></div></div></div><div class=\"sk-parallel-item\"><div class=\"sk-item\"><div class=\"sk-label-container\"><div class=\"sk-label sk-toggleable\"><input class=\"sk-toggleable__control sk-hidden--visually\" id=\"96a5a068-74c2-4179-be73-f3ec2ac546f3\" type=\"checkbox\" ><label for=\"96a5a068-74c2-4179-be73-f3ec2ac546f3\" class=\"sk-toggleable__label sk-toggleable__label-arrow\">standardscaler</label><div class=\"sk-toggleable__content\"><pre>[&#x27;NumberofBuildings&#x27;, &#x27;NumberofFloors&#x27;, &#x27;PropertyGFATotal&#x27;, &#x27;PropertyGFAParking&#x27;, &#x27;PropertyGFABuilding(s)&#x27;, &#x27;LargestPropertyUseTypeGFA&#x27;, &#x27;SourceEUIWN(kBtu/sf)&#x27;, &#x27;GHGEmissionsIntensity&#x27;, &#x27;BuildingAge&#x27;]</pre></div></div></div><div class=\"sk-serial\"><div class=\"sk-item\"><div class=\"sk-estimator sk-toggleable\"><input class=\"sk-toggleable__control sk-hidden--visually\" id=\"244ed566-e285-4cb1-9cb2-d07d3e1d0843\" type=\"checkbox\" ><label for=\"244ed566-e285-4cb1-9cb2-d07d3e1d0843\" class=\"sk-toggleable__label sk-toggleable__label-arrow\">StandardScaler</label><div class=\"sk-toggleable__content\"><pre>StandardScaler()</pre></div></div></div></div></div></div></div></div><div class=\"sk-item sk-dashed-wrapped\"><div class=\"sk-label-container\"><div class=\"sk-label sk-toggleable\"><input class=\"sk-toggleable__control sk-hidden--visually\" id=\"76a9ef03-5995-4454-a121-8c56cfbe9739\" type=\"checkbox\" ><label for=\"76a9ef03-5995-4454-a121-8c56cfbe9739\" class=\"sk-toggleable__label sk-toggleable__label-arrow\">adaboostregressor: AdaBoostRegressor</label><div class=\"sk-toggleable__content\"><pre>AdaBoostRegressor(base_estimator=DecisionTreeRegressor(max_depth=4),\n",
       "                  n_estimators=300)</pre></div></div></div><div class=\"sk-parallel\"><div class=\"sk-parallel-item\"><div class=\"sk-item\"><div class=\"sk-serial\"><div class=\"sk-item\"><div class=\"sk-estimator sk-toggleable\"><input class=\"sk-toggleable__control sk-hidden--visually\" id=\"13815b2c-02e1-4936-9624-4c62ab5ac851\" type=\"checkbox\" ><label for=\"13815b2c-02e1-4936-9624-4c62ab5ac851\" class=\"sk-toggleable__label sk-toggleable__label-arrow\">DecisionTreeRegressor</label><div class=\"sk-toggleable__content\"><pre>DecisionTreeRegressor(max_depth=4)</pre></div></div></div></div></div></div></div></div></div></div></div></div></div></div></div></div></div>"
      ],
      "text/plain": [
       "GridSearchCV(cv=5,\n",
       "             estimator=Pipeline(steps=[('columntransformer',\n",
       "                                        ColumnTransformer(transformers=[('onehotencoder',\n",
       "                                                                         OneHotEncoder(handle_unknown='ignore'),\n",
       "                                                                         ['PrimaryPropertyType',\n",
       "                                                                          'Neighborhood',\n",
       "                                                                          'LargestPropertyUseType',\n",
       "                                                                          'ComplianceStatus']),\n",
       "                                                                        ('standardscaler',\n",
       "                                                                         StandardScaler(),\n",
       "                                                                         ['NumberofBuildings',\n",
       "                                                                          'NumberofFloors',\n",
       "                                                                          'PropertyGFATotal',\n",
       "                                                                          'PropertyGFAParking',...\n",
       "                                                                          'SourceEUIWN(kBtu/sf)',\n",
       "                                                                          'GHGEmissionsIntensity',\n",
       "                                                                          'BuildingAge'])])),\n",
       "                                       ('adaboostregressor',\n",
       "                                        AdaBoostRegressor(base_estimator=DecisionTreeRegressor(max_depth=4),\n",
       "                                                          n_estimators=300))]),\n",
       "             param_grid={'adaboostregressor__base_estimator__max_depth': [4, 6,\n",
       "                                                                          8],\n",
       "                         'adaboostregressor__loss': ['linear', 'square',\n",
       "                                                     'exponential'],\n",
       "                         'adaboostregressor__n_estimators': [300, 400, 500]})"
      ]
     },
     "execution_count": 91,
     "metadata": {},
     "output_type": "execute_result"
    }
   ],
   "source": [
    "parameter= {'adaboostregressor__loss': ['linear', 'square', 'exponential'], \n",
    "           'adaboostregressor__base_estimator__max_depth':[4,6,8]\n",
    "           , 'adaboostregressor__n_estimators':[300,400,500]}\n",
    "#Grille de recherche:\n",
    "grid_adaboost= GridSearchCV(pipe_adaboost, parameter, cv=5)\n",
    "grid_adaboost.fit(X_train,y_train)"
   ]
  },
  {
   "cell_type": "code",
   "execution_count": 92,
   "metadata": {},
   "outputs": [
    {
     "name": "stdout",
     "output_type": "stream",
     "text": [
      "0.9564483974294765\n",
      "{'adaboostregressor__base_estimator__max_depth': 8, 'adaboostregressor__loss': 'exponential', 'adaboostregressor__n_estimators': 300}\n"
     ]
    }
   ],
   "source": [
    "print(grid_adaboost.best_score_)\n",
    "print(grid_adaboost.best_params_)"
   ]
  },
  {
   "cell_type": "code",
   "execution_count": 93,
   "metadata": {},
   "outputs": [
    {
     "data": {
      "text/plain": [
       "0.9762367299575018"
      ]
     },
     "execution_count": 93,
     "metadata": {},
     "output_type": "execute_result"
    }
   ],
   "source": [
    "model_adaboost= grid_adaboost.best_estimator_\n",
    "model_adaboost.score(X_test,y_test)"
   ]
  },
  {
   "cell_type": "code",
   "execution_count": 94,
   "metadata": {},
   "outputs": [
    {
     "data": {
      "text/plain": [
       "[9.421074528073301,\n",
       " 88.75664526351157,\n",
       " 5.10457245302887,\n",
       " 3.222321428571423,\n",
       " 0.9762367299575018]"
      ]
     },
     "execution_count": 94,
     "metadata": {},
     "output_type": "execute_result"
    }
   ],
   "source": [
    "pred_adaboost= model_adaboost.predict(X_test)\n",
    "# Evaluation des métriques:\n",
    "compute_scores(y_test, pred_adaboost)"
   ]
  },
  {
   "cell_type": "code",
   "execution_count": 95,
   "metadata": {},
   "outputs": [
    {
     "data": {
      "image/png": "[encoded data removed]",
      "text/plain": [
       "<Figure size 432x288 with 1 Axes>"
      ]
     },
     "metadata": {
      "needs_background": "light"
     },
     "output_type": "display_data"
    }
   ],
   "source": [
    "fig, ax = plt.subplots()\n",
    "ax.scatter(y_test, pred_adaboost)\n",
    "ax.plot([y_test.min(), y_test.max()], [y_test.min(), y_test.max()], 'k--', lw=4)\n",
    "ax.set_xlabel('Measured')\n",
    "ax.set_ylabel('Predicted')\n",
    "plt.show()"
   ]
  },
  {
   "cell_type": "markdown",
   "metadata": {},
   "source": [
    "#### Synthèse des métriques des différents modèle:"
   ]
  },
  {
   "cell_type": "code",
   "execution_count": 96,
   "metadata": {},
   "outputs": [],
   "source": [
    "lst=[compute_scores(y_test, pred_lr),compute_scores(y_test, pred_ridge),compute_scores(y_test, pred_svr),\n",
    "     compute_scores(y_test, pred_lasso),compute_scores(y_test, pred_elastic),compute_scores(y_test, pred_randomforest),\n",
    "    compute_scores(y_test, pred_adaboost)]"
   ]
  },
  {
   "cell_type": "code",
   "execution_count": 97,
   "metadata": {},
   "outputs": [
    {
     "data": {
      "text/plain": [
       "[[29.208153087020655,\n",
       "  853.1162067548341,\n",
       "  18.136368631883247,\n",
       "  9.77692662260474,\n",
       "  0.7715908398908226],\n",
       " [36.783384093273206,\n",
       "  1353.0173453532643,\n",
       "  20.68886518439381,\n",
       "  10.91218091045925,\n",
       "  0.637749754349586],\n",
       " [30.678830302182604,\n",
       "  941.1906287101176,\n",
       "  16.298202268455146,\n",
       "  5.557159808972344,\n",
       "  0.7480102249797185],\n",
       " [61.23565731742075,\n",
       "  3749.805727096586,\n",
       "  45.95119989680082,\n",
       "  38.43351578947368,\n",
       "  -0.0039546428929231325],\n",
       " [38.107159295523594,\n",
       "  1452.1555895744102,\n",
       "  21.863777434267774,\n",
       "  12.65480304867807,\n",
       "  0.6112069657846071],\n",
       " [9.537816455855825,\n",
       "  90.96994274559417,\n",
       "  3.867681249999996,\n",
       "  1.028400000000012,\n",
       "  0.9756441525161738],\n",
       " [9.421074528073301,\n",
       "  88.75664526351157,\n",
       "  5.10457245302887,\n",
       "  3.222321428571423,\n",
       "  0.9762367299575018]]"
      ]
     },
     "execution_count": 97,
     "metadata": {},
     "output_type": "execute_result"
    }
   ],
   "source": [
    "lst"
   ]
  },
  {
   "cell_type": "code",
   "execution_count": 98,
   "metadata": {},
   "outputs": [],
   "source": [
    "lst=[compute_scores(y_test, pred_lr),compute_scores(y_test, pred_ridge),compute_scores(y_test, pred_svr),\n",
    "     compute_scores(y_test, pred_lasso),compute_scores(y_test, pred_elastic),compute_scores(y_test, pred_randomforest),\n",
    "    compute_scores(y_test, pred_adaboost)]\n",
    "                   \n",
    "df_metrics_1 = pd.DataFrame(lst, index =['Linear regression','Ridge regression','SVR','Lasso','ElasticNet',\n",
    "                                                       'RandomForest', 'Adaboost']\n",
    "                            , columns =['RMSE', 'MSE', 'MAE', 'MEDIAN AE', 'R²'])"
   ]
  },
  {
   "cell_type": "code",
   "execution_count": 99,
   "metadata": {},
   "outputs": [
    {
     "data": {
      "text/html": [
       "<div>\n",
       "<style scoped>\n",
       "    .dataframe tbody tr th:only-of-type {\n",
       "        vertical-align: middle;\n",
       "    }\n",
       "\n",
       "    .dataframe tbody tr th {\n",
       "        vertical-align: top;\n",
       "    }\n",
       "\n",
       "    .dataframe thead th {\n",
       "        text-align: right;\n",
       "    }\n",
       "</style>\n",
       "<table border=\"1\" class=\"dataframe\">\n",
       "  <thead>\n",
       "    <tr style=\"text-align: right;\">\n",
       "      <th></th>\n",
       "      <th>RMSE</th>\n",
       "      <th>MSE</th>\n",
       "      <th>MAE</th>\n",
       "      <th>MEDIAN AE</th>\n",
       "      <th>R²</th>\n",
       "    </tr>\n",
       "  </thead>\n",
       "  <tbody>\n",
       "    <tr>\n",
       "      <th>Linear regression</th>\n",
       "      <td>29.208153</td>\n",
       "      <td>853.116207</td>\n",
       "      <td>18.136369</td>\n",
       "      <td>9.776927</td>\n",
       "      <td>0.771591</td>\n",
       "    </tr>\n",
       "    <tr>\n",
       "      <th>Ridge regression</th>\n",
       "      <td>36.783384</td>\n",
       "      <td>1353.017345</td>\n",
       "      <td>20.688865</td>\n",
       "      <td>10.912181</td>\n",
       "      <td>0.637750</td>\n",
       "    </tr>\n",
       "    <tr>\n",
       "      <th>SVR</th>\n",
       "      <td>30.678830</td>\n",
       "      <td>941.190629</td>\n",
       "      <td>16.298202</td>\n",
       "      <td>5.557160</td>\n",
       "      <td>0.748010</td>\n",
       "    </tr>\n",
       "    <tr>\n",
       "      <th>Lasso</th>\n",
       "      <td>61.235657</td>\n",
       "      <td>3749.805727</td>\n",
       "      <td>45.951200</td>\n",
       "      <td>38.433516</td>\n",
       "      <td>-0.003955</td>\n",
       "    </tr>\n",
       "    <tr>\n",
       "      <th>ElasticNet</th>\n",
       "      <td>38.107159</td>\n",
       "      <td>1452.155590</td>\n",
       "      <td>21.863777</td>\n",
       "      <td>12.654803</td>\n",
       "      <td>0.611207</td>\n",
       "    </tr>\n",
       "    <tr>\n",
       "      <th>RandomForest</th>\n",
       "      <td>9.537816</td>\n",
       "      <td>90.969943</td>\n",
       "      <td>3.867681</td>\n",
       "      <td>1.028400</td>\n",
       "      <td>0.975644</td>\n",
       "    </tr>\n",
       "    <tr>\n",
       "      <th>Adaboost</th>\n",
       "      <td>9.421075</td>\n",
       "      <td>88.756645</td>\n",
       "      <td>5.104572</td>\n",
       "      <td>3.222321</td>\n",
       "      <td>0.976237</td>\n",
       "    </tr>\n",
       "  </tbody>\n",
       "</table>\n",
       "</div>"
      ],
      "text/plain": [
       "                        RMSE          MSE        MAE  MEDIAN AE        R²\n",
       "Linear regression  29.208153   853.116207  18.136369   9.776927  0.771591\n",
       "Ridge regression   36.783384  1353.017345  20.688865  10.912181  0.637750\n",
       "SVR                30.678830   941.190629  16.298202   5.557160  0.748010\n",
       "Lasso              61.235657  3749.805727  45.951200  38.433516 -0.003955\n",
       "ElasticNet         38.107159  1452.155590  21.863777  12.654803  0.611207\n",
       "RandomForest        9.537816    90.969943   3.867681   1.028400  0.975644\n",
       "Adaboost            9.421075    88.756645   5.104572   3.222321  0.976237"
      ]
     },
     "execution_count": 99,
     "metadata": {},
     "output_type": "execute_result"
    }
   ],
   "source": [
    "df_metrics_1"
   ]
  },
  {
   "cell_type": "markdown",
   "metadata": {},
   "source": [
    "Dataframe synthèse des score R² pour le Xtrain"
   ]
  },
  {
   "cell_type": "code",
   "execution_count": 100,
   "metadata": {},
   "outputs": [],
   "source": [
    "r2_lr= grid_lr.best_score_\n",
    "r2_ridge= grid_ridge.best_score_\n",
    "r2_svr= grid_svr.best_score_\n",
    "r2_lasso= grid_lasso.best_score_\n",
    "r2_elastic= grid_elastic.best_score_\n",
    "r2_randomforest= grid_randomforest.best_score_\n",
    "r2_adaboost= grid_adaboost.best_score_\n",
    "\n",
    "lst= [r2_lr, r2_ridge, r2_svr, r2_lasso, r2_elastic,r2_randomforest,r2_adaboost]\n",
    "\n",
    "df_Xtrain_r2= pd.DataFrame(lst, index =['Linear regression','Ridge regression','SVR','Lasso','ElasticNet',\n",
    "                                                       'RandomForest', 'Adaboost'], columns =['R²'])"
   ]
  },
  {
   "cell_type": "code",
   "execution_count": 101,
   "metadata": {},
   "outputs": [
    {
     "data": {
      "text/html": [
       "<div>\n",
       "<style scoped>\n",
       "    .dataframe tbody tr th:only-of-type {\n",
       "        vertical-align: middle;\n",
       "    }\n",
       "\n",
       "    .dataframe tbody tr th {\n",
       "        vertical-align: top;\n",
       "    }\n",
       "\n",
       "    .dataframe thead th {\n",
       "        text-align: right;\n",
       "    }\n",
       "</style>\n",
       "<table border=\"1\" class=\"dataframe\">\n",
       "  <thead>\n",
       "    <tr style=\"text-align: right;\">\n",
       "      <th></th>\n",
       "      <th>R²</th>\n",
       "    </tr>\n",
       "  </thead>\n",
       "  <tbody>\n",
       "    <tr>\n",
       "      <th>Linear regression</th>\n",
       "      <td>0.465513</td>\n",
       "    </tr>\n",
       "    <tr>\n",
       "      <th>Ridge regression</th>\n",
       "      <td>0.459442</td>\n",
       "    </tr>\n",
       "    <tr>\n",
       "      <th>SVR</th>\n",
       "      <td>0.548732</td>\n",
       "    </tr>\n",
       "    <tr>\n",
       "      <th>Lasso</th>\n",
       "      <td>-0.005012</td>\n",
       "    </tr>\n",
       "    <tr>\n",
       "      <th>ElasticNet</th>\n",
       "      <td>0.500642</td>\n",
       "    </tr>\n",
       "    <tr>\n",
       "      <th>RandomForest</th>\n",
       "      <td>0.957156</td>\n",
       "    </tr>\n",
       "    <tr>\n",
       "      <th>Adaboost</th>\n",
       "      <td>0.956448</td>\n",
       "    </tr>\n",
       "  </tbody>\n",
       "</table>\n",
       "</div>"
      ],
      "text/plain": [
       "                         R²\n",
       "Linear regression  0.465513\n",
       "Ridge regression   0.459442\n",
       "SVR                0.548732\n",
       "Lasso             -0.005012\n",
       "ElasticNet         0.500642\n",
       "RandomForest       0.957156\n",
       "Adaboost           0.956448"
      ]
     },
     "execution_count": 101,
     "metadata": {},
     "output_type": "execute_result"
    }
   ],
   "source": [
    "df_Xtrain_r2"
   ]
  },
  {
   "cell_type": "markdown",
   "metadata": {},
   "source": [
    "### Prédiction de la variable d'émission: (TotalGHGEmissions), en incluant le feature (ENERGYSTARScore)"
   ]
  },
  {
   "cell_type": "code",
   "execution_count": 103,
   "metadata": {},
   "outputs": [],
   "source": [
    "# On écarte les 2 variables de prédictions\n",
    "X=df_filter.drop(['TotalGHGEmissions','SiteEnergyUseWN(kBtu)'],axis=1)\n",
    "y= df_filter['TotalGHGEmissions']"
   ]
  },
  {
   "cell_type": "code",
   "execution_count": 104,
   "metadata": {},
   "outputs": [],
   "source": [
    "#spliting data to training/test data:\n",
    "X_train, X_test, y_train, y_test = train_test_split(X, y, test_size=0.3, random_state=42,shuffle= True)"
   ]
  },
  {
   "cell_type": "code",
   "execution_count": 105,
   "metadata": {},
   "outputs": [
    {
     "name": "stdout",
     "output_type": "stream",
     "text": [
      "(950, 14)\n",
      "(408, 14)\n"
     ]
    }
   ],
   "source": [
    "print(X_train.shape)\n",
    "print(X_test.shape)"
   ]
  },
  {
   "cell_type": "code",
   "execution_count": 106,
   "metadata": {},
   "outputs": [
    {
     "data": {
      "text/plain": [
       "['NumberofBuildings',\n",
       " 'NumberofFloors',\n",
       " 'PropertyGFATotal',\n",
       " 'PropertyGFAParking',\n",
       " 'PropertyGFABuilding(s)',\n",
       " 'LargestPropertyUseTypeGFA',\n",
       " 'SourceEUIWN(kBtu/sf)',\n",
       " 'GHGEmissionsIntensity',\n",
       " 'BuildingAge']"
      ]
     },
     "execution_count": 106,
     "metadata": {},
     "output_type": "execute_result"
    }
   ],
   "source": [
    "col_num"
   ]
  },
  {
   "cell_type": "code",
   "execution_count": 107,
   "metadata": {},
   "outputs": [],
   "source": [
    "# On ajoute la variable (ENERGYSTARScore):\n",
    "col_num.append('ENERGYSTARScore') "
   ]
  },
  {
   "cell_type": "code",
   "execution_count": 108,
   "metadata": {},
   "outputs": [
    {
     "data": {
      "text/plain": [
       "['NumberofBuildings',\n",
       " 'NumberofFloors',\n",
       " 'PropertyGFATotal',\n",
       " 'PropertyGFAParking',\n",
       " 'PropertyGFABuilding(s)',\n",
       " 'LargestPropertyUseTypeGFA',\n",
       " 'SourceEUIWN(kBtu/sf)',\n",
       " 'GHGEmissionsIntensity',\n",
       " 'BuildingAge',\n",
       " 'ENERGYSTARScore']"
      ]
     },
     "execution_count": 108,
     "metadata": {},
     "output_type": "execute_result"
    }
   ],
   "source": [
    "# Vérification:\n",
    "col_num"
   ]
  },
  {
   "cell_type": "markdown",
   "metadata": {},
   "source": [
    "Nouveau pipeline avec cette fois ci l'appliction de SimpleImputer(strategy=\"median\") pour les valeurs manquantes de (ENERGYSTARScore):"
   ]
  },
  {
   "cell_type": "code",
   "execution_count": 109,
   "metadata": {},
   "outputs": [],
   "source": [
    "from sklearn.pipeline import Pipeline\n",
    "from sklearn.compose import ColumnTransformer\n",
    "\n",
    "numeric_transformer = Pipeline( steps=[(\"imputer\", SimpleImputer(strategy=\"median\")), (\"scaler\", StandardScaler())])\n",
    "categorical_transformer= OneHotEncoder(handle_unknown='ignore')\n",
    "                                       \n",
    "                                       \n",
    "column_trans = ColumnTransformer([(\"num\", numeric_transformer, col_num),(\"cat\", categorical_transformer, col_categ)])\n",
    "    "
   ]
  },
  {
   "cell_type": "markdown",
   "metadata": {},
   "source": [
    "#### Application du modèle Linear Regression:"
   ]
  },
  {
   "cell_type": "code",
   "execution_count": 110,
   "metadata": {},
   "outputs": [
    {
     "data": {
      "text/html": [
       "<style>#sk-517b11f5-ba47-46ef-8ab7-310132fbcd0a {color: black;background-color: white;}#sk-517b11f5-ba47-46ef-8ab7-310132fbcd0a pre{padding: 0;}#sk-517b11f5-ba47-46ef-8ab7-310132fbcd0a div.sk-toggleable {background-color: white;}#sk-517b11f5-ba47-46ef-8ab7-310132fbcd0a label.sk-toggleable__label {cursor: pointer;display: block;width: 100%;margin-bottom: 0;padding: 0.3em;box-sizing: border-box;text-align: center;}#sk-517b11f5-ba47-46ef-8ab7-310132fbcd0a label.sk-toggleable__label-arrow:before {content: \"▸\";float: left;margin-right: 0.25em;color: #696969;}#sk-517b11f5-ba47-46ef-8ab7-310132fbcd0a label.sk-toggleable__label-arrow:hover:before {color: black;}#sk-517b11f5-ba47-46ef-8ab7-310132fbcd0a div.sk-estimator:hover label.sk-toggleable__label-arrow:before {color: black;}#sk-517b11f5-ba47-46ef-8ab7-310132fbcd0a div.sk-toggleable__content {max-height: 0;max-width: 0;overflow: hidden;text-align: left;background-color: #f0f8ff;}#sk-517b11f5-ba47-46ef-8ab7-310132fbcd0a div.sk-toggleable__content pre {margin: 0.2em;color: black;border-radius: 0.25em;background-color: #f0f8ff;}#sk-517b11f5-ba47-46ef-8ab7-310132fbcd0a input.sk-toggleable__control:checked~div.sk-toggleable__content {max-height: 200px;max-width: 100%;overflow: auto;}#sk-517b11f5-ba47-46ef-8ab7-310132fbcd0a input.sk-toggleable__control:checked~label.sk-toggleable__label-arrow:before {content: \"▾\";}#sk-517b11f5-ba47-46ef-8ab7-310132fbcd0a div.sk-estimator input.sk-toggleable__control:checked~label.sk-toggleable__label {background-color: #d4ebff;}#sk-517b11f5-ba47-46ef-8ab7-310132fbcd0a div.sk-label input.sk-toggleable__control:checked~label.sk-toggleable__label {background-color: #d4ebff;}#sk-517b11f5-ba47-46ef-8ab7-310132fbcd0a input.sk-hidden--visually {border: 0;clip: rect(1px 1px 1px 1px);clip: rect(1px, 1px, 1px, 1px);height: 1px;margin: -1px;overflow: hidden;padding: 0;position: absolute;width: 1px;}#sk-517b11f5-ba47-46ef-8ab7-310132fbcd0a div.sk-estimator {font-family: monospace;background-color: #f0f8ff;border: 1px dotted black;border-radius: 0.25em;box-sizing: border-box;margin-bottom: 0.5em;}#sk-517b11f5-ba47-46ef-8ab7-310132fbcd0a div.sk-estimator:hover {background-color: #d4ebff;}#sk-517b11f5-ba47-46ef-8ab7-310132fbcd0a div.sk-parallel-item::after {content: \"\";width: 100%;border-bottom: 1px solid gray;flex-grow: 1;}#sk-517b11f5-ba47-46ef-8ab7-310132fbcd0a div.sk-label:hover label.sk-toggleable__label {background-color: #d4ebff;}#sk-517b11f5-ba47-46ef-8ab7-310132fbcd0a div.sk-serial::before {content: \"\";position: absolute;border-left: 1px solid gray;box-sizing: border-box;top: 2em;bottom: 0;left: 50%;}#sk-517b11f5-ba47-46ef-8ab7-310132fbcd0a div.sk-serial {display: flex;flex-direction: column;align-items: center;background-color: white;padding-right: 0.2em;padding-left: 0.2em;}#sk-517b11f5-ba47-46ef-8ab7-310132fbcd0a div.sk-item {z-index: 1;}#sk-517b11f5-ba47-46ef-8ab7-310132fbcd0a div.sk-parallel {display: flex;align-items: stretch;justify-content: center;background-color: white;}#sk-517b11f5-ba47-46ef-8ab7-310132fbcd0a div.sk-parallel::before {content: \"\";position: absolute;border-left: 1px solid gray;box-sizing: border-box;top: 2em;bottom: 0;left: 50%;}#sk-517b11f5-ba47-46ef-8ab7-310132fbcd0a div.sk-parallel-item {display: flex;flex-direction: column;position: relative;background-color: white;}#sk-517b11f5-ba47-46ef-8ab7-310132fbcd0a div.sk-parallel-item:first-child::after {align-self: flex-end;width: 50%;}#sk-517b11f5-ba47-46ef-8ab7-310132fbcd0a div.sk-parallel-item:last-child::after {align-self: flex-start;width: 50%;}#sk-517b11f5-ba47-46ef-8ab7-310132fbcd0a div.sk-parallel-item:only-child::after {width: 0;}#sk-517b11f5-ba47-46ef-8ab7-310132fbcd0a div.sk-dashed-wrapped {border: 1px dashed gray;margin: 0 0.4em 0.5em 0.4em;box-sizing: border-box;padding-bottom: 0.4em;background-color: white;position: relative;}#sk-517b11f5-ba47-46ef-8ab7-310132fbcd0a div.sk-label label {font-family: monospace;font-weight: bold;background-color: white;display: inline-block;line-height: 1.2em;}#sk-517b11f5-ba47-46ef-8ab7-310132fbcd0a div.sk-label-container {position: relative;z-index: 2;text-align: center;}#sk-517b11f5-ba47-46ef-8ab7-310132fbcd0a div.sk-container {/* jupyter's `normalize.less` sets `[hidden] { display: none; }` but bootstrap.min.css set `[hidden] { display: none !important; }` so we also need the `!important` here to be able to override the default hidden behavior on the sphinx rendered scikit-learn.org. See: https://github.com/scikit-learn/scikit-learn/issues/21755 */display: inline-block !important;position: relative;}#sk-517b11f5-ba47-46ef-8ab7-310132fbcd0a div.sk-text-repr-fallback {display: none;}</style><div id=\"sk-517b11f5-ba47-46ef-8ab7-310132fbcd0a\" class=\"sk-top-container\"><div class=\"sk-text-repr-fallback\"><pre>GridSearchCV(cv=5,\n",
       "             estimator=Pipeline(steps=[(&#x27;columntransformer&#x27;,\n",
       "                                        ColumnTransformer(transformers=[(&#x27;num&#x27;,\n",
       "                                                                         Pipeline(steps=[(&#x27;imputer&#x27;,\n",
       "                                                                                          SimpleImputer(strategy=&#x27;median&#x27;)),\n",
       "                                                                                         (&#x27;scaler&#x27;,\n",
       "                                                                                          StandardScaler())]),\n",
       "                                                                         [&#x27;NumberofBuildings&#x27;,\n",
       "                                                                          &#x27;NumberofFloors&#x27;,\n",
       "                                                                          &#x27;PropertyGFATotal&#x27;,\n",
       "                                                                          &#x27;PropertyGFAParking&#x27;,\n",
       "                                                                          &#x27;PropertyGFABuilding(s)&#x27;,\n",
       "                                                                          &#x27;LargestPropertyUseTypeGFA&#x27;,\n",
       "                                                                          &#x27;SourceEUIWN(kBtu/sf)&#x27;,\n",
       "                                                                          &#x27;GHGEmissionsIntensity&#x27;,\n",
       "                                                                          &#x27;BuildingAge&#x27;,\n",
       "                                                                          &#x27;ENERGYSTARScore&#x27;]),\n",
       "                                                                        (&#x27;cat&#x27;,\n",
       "                                                                         OneHotEncoder(handle_unknown=&#x27;ignore&#x27;),\n",
       "                                                                         [&#x27;PrimaryPropertyType&#x27;,\n",
       "                                                                          &#x27;Neighborhood&#x27;,\n",
       "                                                                          &#x27;LargestPropertyUseType&#x27;,\n",
       "                                                                          &#x27;ComplianceStatus&#x27;])])),\n",
       "                                       (&#x27;linearregression&#x27;,\n",
       "                                        LinearRegression())]),\n",
       "             param_grid={&#x27;linearregression__fit_intercept&#x27;: [True, False]},\n",
       "             scoring=&#x27;r2&#x27;)</pre><b>Please rerun this cell to show the HTML repr or trust the notebook.</b></div><div class=\"sk-container\" hidden><div class=\"sk-item sk-dashed-wrapped\"><div class=\"sk-label-container\"><div class=\"sk-label sk-toggleable\"><input class=\"sk-toggleable__control sk-hidden--visually\" id=\"6a8c0a70-d07b-42e0-8de8-d79f2b3fd093\" type=\"checkbox\" ><label for=\"6a8c0a70-d07b-42e0-8de8-d79f2b3fd093\" class=\"sk-toggleable__label sk-toggleable__label-arrow\">GridSearchCV</label><div class=\"sk-toggleable__content\"><pre>GridSearchCV(cv=5,\n",
       "             estimator=Pipeline(steps=[(&#x27;columntransformer&#x27;,\n",
       "                                        ColumnTransformer(transformers=[(&#x27;num&#x27;,\n",
       "                                                                         Pipeline(steps=[(&#x27;imputer&#x27;,\n",
       "                                                                                          SimpleImputer(strategy=&#x27;median&#x27;)),\n",
       "                                                                                         (&#x27;scaler&#x27;,\n",
       "                                                                                          StandardScaler())]),\n",
       "                                                                         [&#x27;NumberofBuildings&#x27;,\n",
       "                                                                          &#x27;NumberofFloors&#x27;,\n",
       "                                                                          &#x27;PropertyGFATotal&#x27;,\n",
       "                                                                          &#x27;PropertyGFAParking&#x27;,\n",
       "                                                                          &#x27;PropertyGFABuilding(s)&#x27;,\n",
       "                                                                          &#x27;LargestPropertyUseTypeGFA&#x27;,\n",
       "                                                                          &#x27;SourceEUIWN(kBtu/sf)&#x27;,\n",
       "                                                                          &#x27;GHGEmissionsIntensity&#x27;,\n",
       "                                                                          &#x27;BuildingAge&#x27;,\n",
       "                                                                          &#x27;ENERGYSTARScore&#x27;]),\n",
       "                                                                        (&#x27;cat&#x27;,\n",
       "                                                                         OneHotEncoder(handle_unknown=&#x27;ignore&#x27;),\n",
       "                                                                         [&#x27;PrimaryPropertyType&#x27;,\n",
       "                                                                          &#x27;Neighborhood&#x27;,\n",
       "                                                                          &#x27;LargestPropertyUseType&#x27;,\n",
       "                                                                          &#x27;ComplianceStatus&#x27;])])),\n",
       "                                       (&#x27;linearregression&#x27;,\n",
       "                                        LinearRegression())]),\n",
       "             param_grid={&#x27;linearregression__fit_intercept&#x27;: [True, False]},\n",
       "             scoring=&#x27;r2&#x27;)</pre></div></div></div><div class=\"sk-parallel\"><div class=\"sk-parallel-item\"><div class=\"sk-item\"><div class=\"sk-serial\"><div class=\"sk-item\"><div class=\"sk-serial\"><div class=\"sk-item sk-dashed-wrapped\"><div class=\"sk-label-container\"><div class=\"sk-label sk-toggleable\"><input class=\"sk-toggleable__control sk-hidden--visually\" id=\"8646a479-c75c-4f90-bb1b-9d1c9c7bef0f\" type=\"checkbox\" ><label for=\"8646a479-c75c-4f90-bb1b-9d1c9c7bef0f\" class=\"sk-toggleable__label sk-toggleable__label-arrow\">columntransformer: ColumnTransformer</label><div class=\"sk-toggleable__content\"><pre>ColumnTransformer(transformers=[(&#x27;num&#x27;,\n",
       "                                 Pipeline(steps=[(&#x27;imputer&#x27;,\n",
       "                                                  SimpleImputer(strategy=&#x27;median&#x27;)),\n",
       "                                                 (&#x27;scaler&#x27;, StandardScaler())]),\n",
       "                                 [&#x27;NumberofBuildings&#x27;, &#x27;NumberofFloors&#x27;,\n",
       "                                  &#x27;PropertyGFATotal&#x27;, &#x27;PropertyGFAParking&#x27;,\n",
       "                                  &#x27;PropertyGFABuilding(s)&#x27;,\n",
       "                                  &#x27;LargestPropertyUseTypeGFA&#x27;,\n",
       "                                  &#x27;SourceEUIWN(kBtu/sf)&#x27;,\n",
       "                                  &#x27;GHGEmissionsIntensity&#x27;, &#x27;BuildingAge&#x27;,\n",
       "                                  &#x27;ENERGYSTARScore&#x27;]),\n",
       "                                (&#x27;cat&#x27;, OneHotEncoder(handle_unknown=&#x27;ignore&#x27;),\n",
       "                                 [&#x27;PrimaryPropertyType&#x27;, &#x27;Neighborhood&#x27;,\n",
       "                                  &#x27;LargestPropertyUseType&#x27;,\n",
       "                                  &#x27;ComplianceStatus&#x27;])])</pre></div></div></div><div class=\"sk-parallel\"><div class=\"sk-parallel-item\"><div class=\"sk-item\"><div class=\"sk-label-container\"><div class=\"sk-label sk-toggleable\"><input class=\"sk-toggleable__control sk-hidden--visually\" id=\"9c44c0c8-0dac-44d9-9782-590eef820e65\" type=\"checkbox\" ><label for=\"9c44c0c8-0dac-44d9-9782-590eef820e65\" class=\"sk-toggleable__label sk-toggleable__label-arrow\">num</label><div class=\"sk-toggleable__content\"><pre>[&#x27;NumberofBuildings&#x27;, &#x27;NumberofFloors&#x27;, &#x27;PropertyGFATotal&#x27;, &#x27;PropertyGFAParking&#x27;, &#x27;PropertyGFABuilding(s)&#x27;, &#x27;LargestPropertyUseTypeGFA&#x27;, &#x27;SourceEUIWN(kBtu/sf)&#x27;, &#x27;GHGEmissionsIntensity&#x27;, &#x27;BuildingAge&#x27;, &#x27;ENERGYSTARScore&#x27;]</pre></div></div></div><div class=\"sk-serial\"><div class=\"sk-item\"><div class=\"sk-serial\"><div class=\"sk-item\"><div class=\"sk-estimator sk-toggleable\"><input class=\"sk-toggleable__control sk-hidden--visually\" id=\"099e7e62-5e07-43e5-9aac-ed66aae6257e\" type=\"checkbox\" ><label for=\"099e7e62-5e07-43e5-9aac-ed66aae6257e\" class=\"sk-toggleable__label sk-toggleable__label-arrow\">SimpleImputer</label><div class=\"sk-toggleable__content\"><pre>SimpleImputer(strategy=&#x27;median&#x27;)</pre></div></div></div><div class=\"sk-item\"><div class=\"sk-estimator sk-toggleable\"><input class=\"sk-toggleable__control sk-hidden--visually\" id=\"4790062a-cec3-4829-86bd-fc4f9b06ccf4\" type=\"checkbox\" ><label for=\"4790062a-cec3-4829-86bd-fc4f9b06ccf4\" class=\"sk-toggleable__label sk-toggleable__label-arrow\">StandardScaler</label><div class=\"sk-toggleable__content\"><pre>StandardScaler()</pre></div></div></div></div></div></div></div></div><div class=\"sk-parallel-item\"><div class=\"sk-item\"><div class=\"sk-label-container\"><div class=\"sk-label sk-toggleable\"><input class=\"sk-toggleable__control sk-hidden--visually\" id=\"807b7f21-bcbc-4808-899a-15ab34147872\" type=\"checkbox\" ><label for=\"807b7f21-bcbc-4808-899a-15ab34147872\" class=\"sk-toggleable__label sk-toggleable__label-arrow\">cat</label><div class=\"sk-toggleable__content\"><pre>[&#x27;PrimaryPropertyType&#x27;, &#x27;Neighborhood&#x27;, &#x27;LargestPropertyUseType&#x27;, &#x27;ComplianceStatus&#x27;]</pre></div></div></div><div class=\"sk-serial\"><div class=\"sk-item\"><div class=\"sk-estimator sk-toggleable\"><input class=\"sk-toggleable__control sk-hidden--visually\" id=\"4c0047a9-fa43-468b-947b-d51460cd7301\" type=\"checkbox\" ><label for=\"4c0047a9-fa43-468b-947b-d51460cd7301\" class=\"sk-toggleable__label sk-toggleable__label-arrow\">OneHotEncoder</label><div class=\"sk-toggleable__content\"><pre>OneHotEncoder(handle_unknown=&#x27;ignore&#x27;)</pre></div></div></div></div></div></div></div></div><div class=\"sk-item\"><div class=\"sk-estimator sk-toggleable\"><input class=\"sk-toggleable__control sk-hidden--visually\" id=\"5685fb60-6b61-459d-ad37-f69dbb0621f3\" type=\"checkbox\" ><label for=\"5685fb60-6b61-459d-ad37-f69dbb0621f3\" class=\"sk-toggleable__label sk-toggleable__label-arrow\">LinearRegression</label><div class=\"sk-toggleable__content\"><pre>LinearRegression()</pre></div></div></div></div></div></div></div></div></div></div></div></div>"
      ],
      "text/plain": [
       "GridSearchCV(cv=5,\n",
       "             estimator=Pipeline(steps=[('columntransformer',\n",
       "                                        ColumnTransformer(transformers=[('num',\n",
       "                                                                         Pipeline(steps=[('imputer',\n",
       "                                                                                          SimpleImputer(strategy='median')),\n",
       "                                                                                         ('scaler',\n",
       "                                                                                          StandardScaler())]),\n",
       "                                                                         ['NumberofBuildings',\n",
       "                                                                          'NumberofFloors',\n",
       "                                                                          'PropertyGFATotal',\n",
       "                                                                          'PropertyGFAParking',\n",
       "                                                                          'PropertyGFABuilding(s)',\n",
       "                                                                          'LargestPropertyUseTypeGFA',\n",
       "                                                                          'SourceEUIWN(kBtu/sf)',\n",
       "                                                                          'GHGEmissionsIntensity',\n",
       "                                                                          'BuildingAge',\n",
       "                                                                          'ENERGYSTARScore']),\n",
       "                                                                        ('cat',\n",
       "                                                                         OneHotEncoder(handle_unknown='ignore'),\n",
       "                                                                         ['PrimaryPropertyType',\n",
       "                                                                          'Neighborhood',\n",
       "                                                                          'LargestPropertyUseType',\n",
       "                                                                          'ComplianceStatus'])])),\n",
       "                                       ('linearregression',\n",
       "                                        LinearRegression())]),\n",
       "             param_grid={'linearregression__fit_intercept': [True, False]},\n",
       "             scoring='r2')"
      ]
     },
     "execution_count": 110,
     "metadata": {},
     "output_type": "execute_result"
    }
   ],
   "source": [
    "lr = LinearRegression()\n",
    "# On crée le modèle à l'aide de pipeline\n",
    "pipe_lr= make_pipeline(column_trans,lr)\n",
    "#Grille de recherche:\n",
    "parameter= {'linearregression__fit_intercept':[True,False]}\n",
    "grid_lr= GridSearchCV(pipe_lr, parameter, cv=5,scoring='r2')\n",
    "grid_lr.fit(X_train,y_train)"
   ]
  },
  {
   "cell_type": "code",
   "execution_count": 111,
   "metadata": {},
   "outputs": [
    {
     "data": {
      "text/html": [
       "<style>#sk-cf02cb90-864d-4fb7-94e9-3e7836337f62 {color: black;background-color: white;}#sk-cf02cb90-864d-4fb7-94e9-3e7836337f62 pre{padding: 0;}#sk-cf02cb90-864d-4fb7-94e9-3e7836337f62 div.sk-toggleable {background-color: white;}#sk-cf02cb90-864d-4fb7-94e9-3e7836337f62 label.sk-toggleable__label {cursor: pointer;display: block;width: 100%;margin-bottom: 0;padding: 0.3em;box-sizing: border-box;text-align: center;}#sk-cf02cb90-864d-4fb7-94e9-3e7836337f62 label.sk-toggleable__label-arrow:before {content: \"▸\";float: left;margin-right: 0.25em;color: #696969;}#sk-cf02cb90-864d-4fb7-94e9-3e7836337f62 label.sk-toggleable__label-arrow:hover:before {color: black;}#sk-cf02cb90-864d-4fb7-94e9-3e7836337f62 div.sk-estimator:hover label.sk-toggleable__label-arrow:before {color: black;}#sk-cf02cb90-864d-4fb7-94e9-3e7836337f62 div.sk-toggleable__content {max-height: 0;max-width: 0;overflow: hidden;text-align: left;background-color: #f0f8ff;}#sk-cf02cb90-864d-4fb7-94e9-3e7836337f62 div.sk-toggleable__content pre {margin: 0.2em;color: black;border-radius: 0.25em;background-color: #f0f8ff;}#sk-cf02cb90-864d-4fb7-94e9-3e7836337f62 input.sk-toggleable__control:checked~div.sk-toggleable__content {max-height: 200px;max-width: 100%;overflow: auto;}#sk-cf02cb90-864d-4fb7-94e9-3e7836337f62 input.sk-toggleable__control:checked~label.sk-toggleable__label-arrow:before {content: \"▾\";}#sk-cf02cb90-864d-4fb7-94e9-3e7836337f62 div.sk-estimator input.sk-toggleable__control:checked~label.sk-toggleable__label {background-color: #d4ebff;}#sk-cf02cb90-864d-4fb7-94e9-3e7836337f62 div.sk-label input.sk-toggleable__control:checked~label.sk-toggleable__label {background-color: #d4ebff;}#sk-cf02cb90-864d-4fb7-94e9-3e7836337f62 input.sk-hidden--visually {border: 0;clip: rect(1px 1px 1px 1px);clip: rect(1px, 1px, 1px, 1px);height: 1px;margin: -1px;overflow: hidden;padding: 0;position: absolute;width: 1px;}#sk-cf02cb90-864d-4fb7-94e9-3e7836337f62 div.sk-estimator {font-family: monospace;background-color: #f0f8ff;border: 1px dotted black;border-radius: 0.25em;box-sizing: border-box;margin-bottom: 0.5em;}#sk-cf02cb90-864d-4fb7-94e9-3e7836337f62 div.sk-estimator:hover {background-color: #d4ebff;}#sk-cf02cb90-864d-4fb7-94e9-3e7836337f62 div.sk-parallel-item::after {content: \"\";width: 100%;border-bottom: 1px solid gray;flex-grow: 1;}#sk-cf02cb90-864d-4fb7-94e9-3e7836337f62 div.sk-label:hover label.sk-toggleable__label {background-color: #d4ebff;}#sk-cf02cb90-864d-4fb7-94e9-3e7836337f62 div.sk-serial::before {content: \"\";position: absolute;border-left: 1px solid gray;box-sizing: border-box;top: 2em;bottom: 0;left: 50%;}#sk-cf02cb90-864d-4fb7-94e9-3e7836337f62 div.sk-serial {display: flex;flex-direction: column;align-items: center;background-color: white;padding-right: 0.2em;padding-left: 0.2em;}#sk-cf02cb90-864d-4fb7-94e9-3e7836337f62 div.sk-item {z-index: 1;}#sk-cf02cb90-864d-4fb7-94e9-3e7836337f62 div.sk-parallel {display: flex;align-items: stretch;justify-content: center;background-color: white;}#sk-cf02cb90-864d-4fb7-94e9-3e7836337f62 div.sk-parallel::before {content: \"\";position: absolute;border-left: 1px solid gray;box-sizing: border-box;top: 2em;bottom: 0;left: 50%;}#sk-cf02cb90-864d-4fb7-94e9-3e7836337f62 div.sk-parallel-item {display: flex;flex-direction: column;position: relative;background-color: white;}#sk-cf02cb90-864d-4fb7-94e9-3e7836337f62 div.sk-parallel-item:first-child::after {align-self: flex-end;width: 50%;}#sk-cf02cb90-864d-4fb7-94e9-3e7836337f62 div.sk-parallel-item:last-child::after {align-self: flex-start;width: 50%;}#sk-cf02cb90-864d-4fb7-94e9-3e7836337f62 div.sk-parallel-item:only-child::after {width: 0;}#sk-cf02cb90-864d-4fb7-94e9-3e7836337f62 div.sk-dashed-wrapped {border: 1px dashed gray;margin: 0 0.4em 0.5em 0.4em;box-sizing: border-box;padding-bottom: 0.4em;background-color: white;position: relative;}#sk-cf02cb90-864d-4fb7-94e9-3e7836337f62 div.sk-label label {font-family: monospace;font-weight: bold;background-color: white;display: inline-block;line-height: 1.2em;}#sk-cf02cb90-864d-4fb7-94e9-3e7836337f62 div.sk-label-container {position: relative;z-index: 2;text-align: center;}#sk-cf02cb90-864d-4fb7-94e9-3e7836337f62 div.sk-container {/* jupyter's `normalize.less` sets `[hidden] { display: none; }` but bootstrap.min.css set `[hidden] { display: none !important; }` so we also need the `!important` here to be able to override the default hidden behavior on the sphinx rendered scikit-learn.org. See: https://github.com/scikit-learn/scikit-learn/issues/21755 */display: inline-block !important;position: relative;}#sk-cf02cb90-864d-4fb7-94e9-3e7836337f62 div.sk-text-repr-fallback {display: none;}</style><div id=\"sk-cf02cb90-864d-4fb7-94e9-3e7836337f62\" class=\"sk-top-container\"><div class=\"sk-text-repr-fallback\"><pre>Pipeline(steps=[(&#x27;columntransformer&#x27;,\n",
       "                 ColumnTransformer(transformers=[(&#x27;num&#x27;,\n",
       "                                                  Pipeline(steps=[(&#x27;imputer&#x27;,\n",
       "                                                                   SimpleImputer(strategy=&#x27;median&#x27;)),\n",
       "                                                                  (&#x27;scaler&#x27;,\n",
       "                                                                   StandardScaler())]),\n",
       "                                                  [&#x27;NumberofBuildings&#x27;,\n",
       "                                                   &#x27;NumberofFloors&#x27;,\n",
       "                                                   &#x27;PropertyGFATotal&#x27;,\n",
       "                                                   &#x27;PropertyGFAParking&#x27;,\n",
       "                                                   &#x27;PropertyGFABuilding(s)&#x27;,\n",
       "                                                   &#x27;LargestPropertyUseTypeGFA&#x27;,\n",
       "                                                   &#x27;SourceEUIWN(kBtu/sf)&#x27;,\n",
       "                                                   &#x27;GHGEmissionsIntensity&#x27;,\n",
       "                                                   &#x27;BuildingAge&#x27;,\n",
       "                                                   &#x27;ENERGYSTARScore&#x27;]),\n",
       "                                                 (&#x27;cat&#x27;,\n",
       "                                                  OneHotEncoder(handle_unknown=&#x27;ignore&#x27;),\n",
       "                                                  [&#x27;PrimaryPropertyType&#x27;,\n",
       "                                                   &#x27;Neighborhood&#x27;,\n",
       "                                                   &#x27;LargestPropertyUseType&#x27;,\n",
       "                                                   &#x27;ComplianceStatus&#x27;])])),\n",
       "                (&#x27;linearregression&#x27;, LinearRegression())])</pre><b>Please rerun this cell to show the HTML repr or trust the notebook.</b></div><div class=\"sk-container\" hidden><div class=\"sk-item sk-dashed-wrapped\"><div class=\"sk-label-container\"><div class=\"sk-label sk-toggleable\"><input class=\"sk-toggleable__control sk-hidden--visually\" id=\"1e6593de-52cd-4ba7-8a39-be5007d8c338\" type=\"checkbox\" ><label for=\"1e6593de-52cd-4ba7-8a39-be5007d8c338\" class=\"sk-toggleable__label sk-toggleable__label-arrow\">Pipeline</label><div class=\"sk-toggleable__content\"><pre>Pipeline(steps=[(&#x27;columntransformer&#x27;,\n",
       "                 ColumnTransformer(transformers=[(&#x27;num&#x27;,\n",
       "                                                  Pipeline(steps=[(&#x27;imputer&#x27;,\n",
       "                                                                   SimpleImputer(strategy=&#x27;median&#x27;)),\n",
       "                                                                  (&#x27;scaler&#x27;,\n",
       "                                                                   StandardScaler())]),\n",
       "                                                  [&#x27;NumberofBuildings&#x27;,\n",
       "                                                   &#x27;NumberofFloors&#x27;,\n",
       "                                                   &#x27;PropertyGFATotal&#x27;,\n",
       "                                                   &#x27;PropertyGFAParking&#x27;,\n",
       "                                                   &#x27;PropertyGFABuilding(s)&#x27;,\n",
       "                                                   &#x27;LargestPropertyUseTypeGFA&#x27;,\n",
       "                                                   &#x27;SourceEUIWN(kBtu/sf)&#x27;,\n",
       "                                                   &#x27;GHGEmissionsIntensity&#x27;,\n",
       "                                                   &#x27;BuildingAge&#x27;,\n",
       "                                                   &#x27;ENERGYSTARScore&#x27;]),\n",
       "                                                 (&#x27;cat&#x27;,\n",
       "                                                  OneHotEncoder(handle_unknown=&#x27;ignore&#x27;),\n",
       "                                                  [&#x27;PrimaryPropertyType&#x27;,\n",
       "                                                   &#x27;Neighborhood&#x27;,\n",
       "                                                   &#x27;LargestPropertyUseType&#x27;,\n",
       "                                                   &#x27;ComplianceStatus&#x27;])])),\n",
       "                (&#x27;linearregression&#x27;, LinearRegression())])</pre></div></div></div><div class=\"sk-serial\"><div class=\"sk-item sk-dashed-wrapped\"><div class=\"sk-label-container\"><div class=\"sk-label sk-toggleable\"><input class=\"sk-toggleable__control sk-hidden--visually\" id=\"8ca8a620-a3ce-4885-92e8-414eff331ce0\" type=\"checkbox\" ><label for=\"8ca8a620-a3ce-4885-92e8-414eff331ce0\" class=\"sk-toggleable__label sk-toggleable__label-arrow\">columntransformer: ColumnTransformer</label><div class=\"sk-toggleable__content\"><pre>ColumnTransformer(transformers=[(&#x27;num&#x27;,\n",
       "                                 Pipeline(steps=[(&#x27;imputer&#x27;,\n",
       "                                                  SimpleImputer(strategy=&#x27;median&#x27;)),\n",
       "                                                 (&#x27;scaler&#x27;, StandardScaler())]),\n",
       "                                 [&#x27;NumberofBuildings&#x27;, &#x27;NumberofFloors&#x27;,\n",
       "                                  &#x27;PropertyGFATotal&#x27;, &#x27;PropertyGFAParking&#x27;,\n",
       "                                  &#x27;PropertyGFABuilding(s)&#x27;,\n",
       "                                  &#x27;LargestPropertyUseTypeGFA&#x27;,\n",
       "                                  &#x27;SourceEUIWN(kBtu/sf)&#x27;,\n",
       "                                  &#x27;GHGEmissionsIntensity&#x27;, &#x27;BuildingAge&#x27;,\n",
       "                                  &#x27;ENERGYSTARScore&#x27;]),\n",
       "                                (&#x27;cat&#x27;, OneHotEncoder(handle_unknown=&#x27;ignore&#x27;),\n",
       "                                 [&#x27;PrimaryPropertyType&#x27;, &#x27;Neighborhood&#x27;,\n",
       "                                  &#x27;LargestPropertyUseType&#x27;,\n",
       "                                  &#x27;ComplianceStatus&#x27;])])</pre></div></div></div><div class=\"sk-parallel\"><div class=\"sk-parallel-item\"><div class=\"sk-item\"><div class=\"sk-label-container\"><div class=\"sk-label sk-toggleable\"><input class=\"sk-toggleable__control sk-hidden--visually\" id=\"d5a5ccc4-078a-4fb7-87b2-548ab1f72365\" type=\"checkbox\" ><label for=\"d5a5ccc4-078a-4fb7-87b2-548ab1f72365\" class=\"sk-toggleable__label sk-toggleable__label-arrow\">num</label><div class=\"sk-toggleable__content\"><pre>[&#x27;NumberofBuildings&#x27;, &#x27;NumberofFloors&#x27;, &#x27;PropertyGFATotal&#x27;, &#x27;PropertyGFAParking&#x27;, &#x27;PropertyGFABuilding(s)&#x27;, &#x27;LargestPropertyUseTypeGFA&#x27;, &#x27;SourceEUIWN(kBtu/sf)&#x27;, &#x27;GHGEmissionsIntensity&#x27;, &#x27;BuildingAge&#x27;, &#x27;ENERGYSTARScore&#x27;]</pre></div></div></div><div class=\"sk-serial\"><div class=\"sk-item\"><div class=\"sk-serial\"><div class=\"sk-item\"><div class=\"sk-estimator sk-toggleable\"><input class=\"sk-toggleable__control sk-hidden--visually\" id=\"6d8b0200-dafa-4265-9b3b-43cfdedb72dc\" type=\"checkbox\" ><label for=\"6d8b0200-dafa-4265-9b3b-43cfdedb72dc\" class=\"sk-toggleable__label sk-toggleable__label-arrow\">SimpleImputer</label><div class=\"sk-toggleable__content\"><pre>SimpleImputer(strategy=&#x27;median&#x27;)</pre></div></div></div><div class=\"sk-item\"><div class=\"sk-estimator sk-toggleable\"><input class=\"sk-toggleable__control sk-hidden--visually\" id=\"3f3e302c-506c-46dc-8e7a-7108fb0864fb\" type=\"checkbox\" ><label for=\"3f3e302c-506c-46dc-8e7a-7108fb0864fb\" class=\"sk-toggleable__label sk-toggleable__label-arrow\">StandardScaler</label><div class=\"sk-toggleable__content\"><pre>StandardScaler()</pre></div></div></div></div></div></div></div></div><div class=\"sk-parallel-item\"><div class=\"sk-item\"><div class=\"sk-label-container\"><div class=\"sk-label sk-toggleable\"><input class=\"sk-toggleable__control sk-hidden--visually\" id=\"5729188f-f0da-402f-9073-7237f7610e6b\" type=\"checkbox\" ><label for=\"5729188f-f0da-402f-9073-7237f7610e6b\" class=\"sk-toggleable__label sk-toggleable__label-arrow\">cat</label><div class=\"sk-toggleable__content\"><pre>[&#x27;PrimaryPropertyType&#x27;, &#x27;Neighborhood&#x27;, &#x27;LargestPropertyUseType&#x27;, &#x27;ComplianceStatus&#x27;]</pre></div></div></div><div class=\"sk-serial\"><div class=\"sk-item\"><div class=\"sk-estimator sk-toggleable\"><input class=\"sk-toggleable__control sk-hidden--visually\" id=\"8e7eb2d4-3289-49cf-b4b7-804d8a20643b\" type=\"checkbox\" ><label for=\"8e7eb2d4-3289-49cf-b4b7-804d8a20643b\" class=\"sk-toggleable__label sk-toggleable__label-arrow\">OneHotEncoder</label><div class=\"sk-toggleable__content\"><pre>OneHotEncoder(handle_unknown=&#x27;ignore&#x27;)</pre></div></div></div></div></div></div></div></div><div class=\"sk-item\"><div class=\"sk-estimator sk-toggleable\"><input class=\"sk-toggleable__control sk-hidden--visually\" id=\"c8018e55-fa4a-4bb1-97a2-e4d1decd7c22\" type=\"checkbox\" ><label for=\"c8018e55-fa4a-4bb1-97a2-e4d1decd7c22\" class=\"sk-toggleable__label sk-toggleable__label-arrow\">LinearRegression</label><div class=\"sk-toggleable__content\"><pre>LinearRegression()</pre></div></div></div></div></div></div></div>"
      ],
      "text/plain": [
       "Pipeline(steps=[('columntransformer',\n",
       "                 ColumnTransformer(transformers=[('num',\n",
       "                                                  Pipeline(steps=[('imputer',\n",
       "                                                                   SimpleImputer(strategy='median')),\n",
       "                                                                  ('scaler',\n",
       "                                                                   StandardScaler())]),\n",
       "                                                  ['NumberofBuildings',\n",
       "                                                   'NumberofFloors',\n",
       "                                                   'PropertyGFATotal',\n",
       "                                                   'PropertyGFAParking',\n",
       "                                                   'PropertyGFABuilding(s)',\n",
       "                                                   'LargestPropertyUseTypeGFA',\n",
       "                                                   'SourceEUIWN(kBtu/sf)',\n",
       "                                                   'GHGEmissionsIntensity',\n",
       "                                                   'BuildingAge',\n",
       "                                                   'ENERGYSTARScore']),\n",
       "                                                 ('cat',\n",
       "                                                  OneHotEncoder(handle_unknown='ignore'),\n",
       "                                                  ['PrimaryPropertyType',\n",
       "                                                   'Neighborhood',\n",
       "                                                   'LargestPropertyUseType',\n",
       "                                                   'ComplianceStatus'])])),\n",
       "                ('linearregression', LinearRegression())])"
      ]
     },
     "execution_count": 111,
     "metadata": {},
     "output_type": "execute_result"
    }
   ],
   "source": [
    "pipe_lr"
   ]
  },
  {
   "cell_type": "code",
   "execution_count": 112,
   "metadata": {},
   "outputs": [
    {
     "data": {
      "text/plain": [
       "0.769597213024252"
      ]
     },
     "execution_count": 112,
     "metadata": {},
     "output_type": "execute_result"
    }
   ],
   "source": [
    "model_lr= grid_lr.best_estimator_\n",
    "pred_lr= model_lr.predict(X_test)\n",
    "r2_score(y_test, pred_lr)"
   ]
  },
  {
   "cell_type": "code",
   "execution_count": 113,
   "metadata": {},
   "outputs": [
    {
     "data": {
      "text/plain": [
       "[29.335345112567012,\n",
       " 860.5624728734093,\n",
       " 18.472773224769856,\n",
       " 10.272505776802,\n",
       " 0.769597213024252]"
      ]
     },
     "execution_count": 113,
     "metadata": {},
     "output_type": "execute_result"
    }
   ],
   "source": [
    "# calcul des métriques:\n",
    "compute_scores(y_test, pred_lr)"
   ]
  },
  {
   "cell_type": "markdown",
   "metadata": {},
   "source": [
    "#### Application du modèle Ridge Regression:"
   ]
  },
  {
   "cell_type": "code",
   "execution_count": 114,
   "metadata": {},
   "outputs": [],
   "source": [
    "# instaciation de l'objet:\n",
    "ridge= Ridge()\n",
    "pipe_ridge= make_pipeline(column_trans,ridge)"
   ]
  },
  {
   "cell_type": "code",
   "execution_count": 115,
   "metadata": {},
   "outputs": [
    {
     "data": {
      "text/plain": [
       "array([ 0.67448877,  0.70684225, -0.55462459,  0.71761072,  0.66611427])"
      ]
     },
     "execution_count": 115,
     "metadata": {},
     "output_type": "execute_result"
    }
   ],
   "source": [
    "cross_val_score(pipe_ridge,X_train,y_train,cv=5,scoring='r2')"
   ]
  },
  {
   "cell_type": "code",
   "execution_count": 116,
   "metadata": {},
   "outputs": [
    {
     "data": {
      "text/plain": [
       "dict_keys(['memory', 'steps', 'verbose', 'columntransformer', 'ridge', 'columntransformer__n_jobs', 'columntransformer__remainder', 'columntransformer__sparse_threshold', 'columntransformer__transformer_weights', 'columntransformer__transformers', 'columntransformer__verbose', 'columntransformer__verbose_feature_names_out', 'columntransformer__num', 'columntransformer__cat', 'columntransformer__num__memory', 'columntransformer__num__steps', 'columntransformer__num__verbose', 'columntransformer__num__imputer', 'columntransformer__num__scaler', 'columntransformer__num__imputer__add_indicator', 'columntransformer__num__imputer__copy', 'columntransformer__num__imputer__fill_value', 'columntransformer__num__imputer__missing_values', 'columntransformer__num__imputer__strategy', 'columntransformer__num__imputer__verbose', 'columntransformer__num__scaler__copy', 'columntransformer__num__scaler__with_mean', 'columntransformer__num__scaler__with_std', 'columntransformer__cat__categories', 'columntransformer__cat__drop', 'columntransformer__cat__dtype', 'columntransformer__cat__handle_unknown', 'columntransformer__cat__sparse', 'ridge__alpha', 'ridge__copy_X', 'ridge__fit_intercept', 'ridge__max_iter', 'ridge__normalize', 'ridge__positive', 'ridge__random_state', 'ridge__solver', 'ridge__tol'])"
      ]
     },
     "execution_count": 116,
     "metadata": {},
     "output_type": "execute_result"
    }
   ],
   "source": [
    "# liste des paramètres de l'estimateur:\n",
    "pipe_ridge.get_params().keys()"
   ]
  },
  {
   "cell_type": "code",
   "execution_count": 117,
   "metadata": {},
   "outputs": [],
   "source": [
    "# Définition des paramètres:\n",
    "#le paramètre alpha permet de corriger l'overfitting\n",
    "parameter= {'ridge__alpha': [5,10,15]}\n",
    "#Grille de recherche:\n",
    "grid_ridge= GridSearchCV(pipe_ridge,parameter, cv=5,scoring='r2')"
   ]
  },
  {
   "cell_type": "code",
   "execution_count": 118,
   "metadata": {},
   "outputs": [
    {
     "data": {
      "text/html": [
       "<style>#sk-5960006a-4ad1-4e93-8892-bc4f6ceeb674 {color: black;background-color: white;}#sk-5960006a-4ad1-4e93-8892-bc4f6ceeb674 pre{padding: 0;}#sk-5960006a-4ad1-4e93-8892-bc4f6ceeb674 div.sk-toggleable {background-color: white;}#sk-5960006a-4ad1-4e93-8892-bc4f6ceeb674 label.sk-toggleable__label {cursor: pointer;display: block;width: 100%;margin-bottom: 0;padding: 0.3em;box-sizing: border-box;text-align: center;}#sk-5960006a-4ad1-4e93-8892-bc4f6ceeb674 label.sk-toggleable__label-arrow:before {content: \"▸\";float: left;margin-right: 0.25em;color: #696969;}#sk-5960006a-4ad1-4e93-8892-bc4f6ceeb674 label.sk-toggleable__label-arrow:hover:before {color: black;}#sk-5960006a-4ad1-4e93-8892-bc4f6ceeb674 div.sk-estimator:hover label.sk-toggleable__label-arrow:before {color: black;}#sk-5960006a-4ad1-4e93-8892-bc4f6ceeb674 div.sk-toggleable__content {max-height: 0;max-width: 0;overflow: hidden;text-align: left;background-color: #f0f8ff;}#sk-5960006a-4ad1-4e93-8892-bc4f6ceeb674 div.sk-toggleable__content pre {margin: 0.2em;color: black;border-radius: 0.25em;background-color: #f0f8ff;}#sk-5960006a-4ad1-4e93-8892-bc4f6ceeb674 input.sk-toggleable__control:checked~div.sk-toggleable__content {max-height: 200px;max-width: 100%;overflow: auto;}#sk-5960006a-4ad1-4e93-8892-bc4f6ceeb674 input.sk-toggleable__control:checked~label.sk-toggleable__label-arrow:before {content: \"▾\";}#sk-5960006a-4ad1-4e93-8892-bc4f6ceeb674 div.sk-estimator input.sk-toggleable__control:checked~label.sk-toggleable__label {background-color: #d4ebff;}#sk-5960006a-4ad1-4e93-8892-bc4f6ceeb674 div.sk-label input.sk-toggleable__control:checked~label.sk-toggleable__label {background-color: #d4ebff;}#sk-5960006a-4ad1-4e93-8892-bc4f6ceeb674 input.sk-hidden--visually {border: 0;clip: rect(1px 1px 1px 1px);clip: rect(1px, 1px, 1px, 1px);height: 1px;margin: -1px;overflow: hidden;padding: 0;position: absolute;width: 1px;}#sk-5960006a-4ad1-4e93-8892-bc4f6ceeb674 div.sk-estimator {font-family: monospace;background-color: #f0f8ff;border: 1px dotted black;border-radius: 0.25em;box-sizing: border-box;margin-bottom: 0.5em;}#sk-5960006a-4ad1-4e93-8892-bc4f6ceeb674 div.sk-estimator:hover {background-color: #d4ebff;}#sk-5960006a-4ad1-4e93-8892-bc4f6ceeb674 div.sk-parallel-item::after {content: \"\";width: 100%;border-bottom: 1px solid gray;flex-grow: 1;}#sk-5960006a-4ad1-4e93-8892-bc4f6ceeb674 div.sk-label:hover label.sk-toggleable__label {background-color: #d4ebff;}#sk-5960006a-4ad1-4e93-8892-bc4f6ceeb674 div.sk-serial::before {content: \"\";position: absolute;border-left: 1px solid gray;box-sizing: border-box;top: 2em;bottom: 0;left: 50%;}#sk-5960006a-4ad1-4e93-8892-bc4f6ceeb674 div.sk-serial {display: flex;flex-direction: column;align-items: center;background-color: white;padding-right: 0.2em;padding-left: 0.2em;}#sk-5960006a-4ad1-4e93-8892-bc4f6ceeb674 div.sk-item {z-index: 1;}#sk-5960006a-4ad1-4e93-8892-bc4f6ceeb674 div.sk-parallel {display: flex;align-items: stretch;justify-content: center;background-color: white;}#sk-5960006a-4ad1-4e93-8892-bc4f6ceeb674 div.sk-parallel::before {content: \"\";position: absolute;border-left: 1px solid gray;box-sizing: border-box;top: 2em;bottom: 0;left: 50%;}#sk-5960006a-4ad1-4e93-8892-bc4f6ceeb674 div.sk-parallel-item {display: flex;flex-direction: column;position: relative;background-color: white;}#sk-5960006a-4ad1-4e93-8892-bc4f6ceeb674 div.sk-parallel-item:first-child::after {align-self: flex-end;width: 50%;}#sk-5960006a-4ad1-4e93-8892-bc4f6ceeb674 div.sk-parallel-item:last-child::after {align-self: flex-start;width: 50%;}#sk-5960006a-4ad1-4e93-8892-bc4f6ceeb674 div.sk-parallel-item:only-child::after {width: 0;}#sk-5960006a-4ad1-4e93-8892-bc4f6ceeb674 div.sk-dashed-wrapped {border: 1px dashed gray;margin: 0 0.4em 0.5em 0.4em;box-sizing: border-box;padding-bottom: 0.4em;background-color: white;position: relative;}#sk-5960006a-4ad1-4e93-8892-bc4f6ceeb674 div.sk-label label {font-family: monospace;font-weight: bold;background-color: white;display: inline-block;line-height: 1.2em;}#sk-5960006a-4ad1-4e93-8892-bc4f6ceeb674 div.sk-label-container {position: relative;z-index: 2;text-align: center;}#sk-5960006a-4ad1-4e93-8892-bc4f6ceeb674 div.sk-container {/* jupyter's `normalize.less` sets `[hidden] { display: none; }` but bootstrap.min.css set `[hidden] { display: none !important; }` so we also need the `!important` here to be able to override the default hidden behavior on the sphinx rendered scikit-learn.org. See: https://github.com/scikit-learn/scikit-learn/issues/21755 */display: inline-block !important;position: relative;}#sk-5960006a-4ad1-4e93-8892-bc4f6ceeb674 div.sk-text-repr-fallback {display: none;}</style><div id=\"sk-5960006a-4ad1-4e93-8892-bc4f6ceeb674\" class=\"sk-top-container\"><div class=\"sk-text-repr-fallback\"><pre>GridSearchCV(cv=5,\n",
       "             estimator=Pipeline(steps=[(&#x27;columntransformer&#x27;,\n",
       "                                        ColumnTransformer(transformers=[(&#x27;num&#x27;,\n",
       "                                                                         Pipeline(steps=[(&#x27;imputer&#x27;,\n",
       "                                                                                          SimpleImputer(strategy=&#x27;median&#x27;)),\n",
       "                                                                                         (&#x27;scaler&#x27;,\n",
       "                                                                                          StandardScaler())]),\n",
       "                                                                         [&#x27;NumberofBuildings&#x27;,\n",
       "                                                                          &#x27;NumberofFloors&#x27;,\n",
       "                                                                          &#x27;PropertyGFATotal&#x27;,\n",
       "                                                                          &#x27;PropertyGFAParking&#x27;,\n",
       "                                                                          &#x27;PropertyGFABuilding(s)&#x27;,\n",
       "                                                                          &#x27;LargestPropertyUseTypeGFA&#x27;,\n",
       "                                                                          &#x27;SourceEUIWN(kBtu/sf)&#x27;,\n",
       "                                                                          &#x27;GHGEmissionsIntensity&#x27;,\n",
       "                                                                          &#x27;BuildingAge&#x27;,\n",
       "                                                                          &#x27;ENERGYSTARScore&#x27;]),\n",
       "                                                                        (&#x27;cat&#x27;,\n",
       "                                                                         OneHotEncoder(handle_unknown=&#x27;ignore&#x27;),\n",
       "                                                                         [&#x27;PrimaryPropertyType&#x27;,\n",
       "                                                                          &#x27;Neighborhood&#x27;,\n",
       "                                                                          &#x27;LargestPropertyUseType&#x27;,\n",
       "                                                                          &#x27;ComplianceStatus&#x27;])])),\n",
       "                                       (&#x27;ridge&#x27;, Ridge())]),\n",
       "             param_grid={&#x27;ridge__alpha&#x27;: [5, 10, 15]}, scoring=&#x27;r2&#x27;)</pre><b>Please rerun this cell to show the HTML repr or trust the notebook.</b></div><div class=\"sk-container\" hidden><div class=\"sk-item sk-dashed-wrapped\"><div class=\"sk-label-container\"><div class=\"sk-label sk-toggleable\"><input class=\"sk-toggleable__control sk-hidden--visually\" id=\"76f32235-15ac-4936-9c2d-9524686f9e47\" type=\"checkbox\" ><label for=\"76f32235-15ac-4936-9c2d-9524686f9e47\" class=\"sk-toggleable__label sk-toggleable__label-arrow\">GridSearchCV</label><div class=\"sk-toggleable__content\"><pre>GridSearchCV(cv=5,\n",
       "             estimator=Pipeline(steps=[(&#x27;columntransformer&#x27;,\n",
       "                                        ColumnTransformer(transformers=[(&#x27;num&#x27;,\n",
       "                                                                         Pipeline(steps=[(&#x27;imputer&#x27;,\n",
       "                                                                                          SimpleImputer(strategy=&#x27;median&#x27;)),\n",
       "                                                                                         (&#x27;scaler&#x27;,\n",
       "                                                                                          StandardScaler())]),\n",
       "                                                                         [&#x27;NumberofBuildings&#x27;,\n",
       "                                                                          &#x27;NumberofFloors&#x27;,\n",
       "                                                                          &#x27;PropertyGFATotal&#x27;,\n",
       "                                                                          &#x27;PropertyGFAParking&#x27;,\n",
       "                                                                          &#x27;PropertyGFABuilding(s)&#x27;,\n",
       "                                                                          &#x27;LargestPropertyUseTypeGFA&#x27;,\n",
       "                                                                          &#x27;SourceEUIWN(kBtu/sf)&#x27;,\n",
       "                                                                          &#x27;GHGEmissionsIntensity&#x27;,\n",
       "                                                                          &#x27;BuildingAge&#x27;,\n",
       "                                                                          &#x27;ENERGYSTARScore&#x27;]),\n",
       "                                                                        (&#x27;cat&#x27;,\n",
       "                                                                         OneHotEncoder(handle_unknown=&#x27;ignore&#x27;),\n",
       "                                                                         [&#x27;PrimaryPropertyType&#x27;,\n",
       "                                                                          &#x27;Neighborhood&#x27;,\n",
       "                                                                          &#x27;LargestPropertyUseType&#x27;,\n",
       "                                                                          &#x27;ComplianceStatus&#x27;])])),\n",
       "                                       (&#x27;ridge&#x27;, Ridge())]),\n",
       "             param_grid={&#x27;ridge__alpha&#x27;: [5, 10, 15]}, scoring=&#x27;r2&#x27;)</pre></div></div></div><div class=\"sk-parallel\"><div class=\"sk-parallel-item\"><div class=\"sk-item\"><div class=\"sk-serial\"><div class=\"sk-item\"><div class=\"sk-serial\"><div class=\"sk-item sk-dashed-wrapped\"><div class=\"sk-label-container\"><div class=\"sk-label sk-toggleable\"><input class=\"sk-toggleable__control sk-hidden--visually\" id=\"59e10fa0-5c4b-459b-b4a4-7e1464d8f7a6\" type=\"checkbox\" ><label for=\"59e10fa0-5c4b-459b-b4a4-7e1464d8f7a6\" class=\"sk-toggleable__label sk-toggleable__label-arrow\">columntransformer: ColumnTransformer</label><div class=\"sk-toggleable__content\"><pre>ColumnTransformer(transformers=[(&#x27;num&#x27;,\n",
       "                                 Pipeline(steps=[(&#x27;imputer&#x27;,\n",
       "                                                  SimpleImputer(strategy=&#x27;median&#x27;)),\n",
       "                                                 (&#x27;scaler&#x27;, StandardScaler())]),\n",
       "                                 [&#x27;NumberofBuildings&#x27;, &#x27;NumberofFloors&#x27;,\n",
       "                                  &#x27;PropertyGFATotal&#x27;, &#x27;PropertyGFAParking&#x27;,\n",
       "                                  &#x27;PropertyGFABuilding(s)&#x27;,\n",
       "                                  &#x27;LargestPropertyUseTypeGFA&#x27;,\n",
       "                                  &#x27;SourceEUIWN(kBtu/sf)&#x27;,\n",
       "                                  &#x27;GHGEmissionsIntensity&#x27;, &#x27;BuildingAge&#x27;,\n",
       "                                  &#x27;ENERGYSTARScore&#x27;]),\n",
       "                                (&#x27;cat&#x27;, OneHotEncoder(handle_unknown=&#x27;ignore&#x27;),\n",
       "                                 [&#x27;PrimaryPropertyType&#x27;, &#x27;Neighborhood&#x27;,\n",
       "                                  &#x27;LargestPropertyUseType&#x27;,\n",
       "                                  &#x27;ComplianceStatus&#x27;])])</pre></div></div></div><div class=\"sk-parallel\"><div class=\"sk-parallel-item\"><div class=\"sk-item\"><div class=\"sk-label-container\"><div class=\"sk-label sk-toggleable\"><input class=\"sk-toggleable__control sk-hidden--visually\" id=\"09ccc2fe-0508-460f-b6c4-bfd8397f35ba\" type=\"checkbox\" ><label for=\"09ccc2fe-0508-460f-b6c4-bfd8397f35ba\" class=\"sk-toggleable__label sk-toggleable__label-arrow\">num</label><div class=\"sk-toggleable__content\"><pre>[&#x27;NumberofBuildings&#x27;, &#x27;NumberofFloors&#x27;, &#x27;PropertyGFATotal&#x27;, &#x27;PropertyGFAParking&#x27;, &#x27;PropertyGFABuilding(s)&#x27;, &#x27;LargestPropertyUseTypeGFA&#x27;, &#x27;SourceEUIWN(kBtu/sf)&#x27;, &#x27;GHGEmissionsIntensity&#x27;, &#x27;BuildingAge&#x27;, &#x27;ENERGYSTARScore&#x27;]</pre></div></div></div><div class=\"sk-serial\"><div class=\"sk-item\"><div class=\"sk-serial\"><div class=\"sk-item\"><div class=\"sk-estimator sk-toggleable\"><input class=\"sk-toggleable__control sk-hidden--visually\" id=\"72a25ca4-ada9-4147-8736-a17a14e09005\" type=\"checkbox\" ><label for=\"72a25ca4-ada9-4147-8736-a17a14e09005\" class=\"sk-toggleable__label sk-toggleable__label-arrow\">SimpleImputer</label><div class=\"sk-toggleable__content\"><pre>SimpleImputer(strategy=&#x27;median&#x27;)</pre></div></div></div><div class=\"sk-item\"><div class=\"sk-estimator sk-toggleable\"><input class=\"sk-toggleable__control sk-hidden--visually\" id=\"2a207278-d472-4730-939a-dc6c9fc76fd8\" type=\"checkbox\" ><label for=\"2a207278-d472-4730-939a-dc6c9fc76fd8\" class=\"sk-toggleable__label sk-toggleable__label-arrow\">StandardScaler</label><div class=\"sk-toggleable__content\"><pre>StandardScaler()</pre></div></div></div></div></div></div></div></div><div class=\"sk-parallel-item\"><div class=\"sk-item\"><div class=\"sk-label-container\"><div class=\"sk-label sk-toggleable\"><input class=\"sk-toggleable__control sk-hidden--visually\" id=\"8d588220-4154-4adb-89f2-5bb85e9eaee2\" type=\"checkbox\" ><label for=\"8d588220-4154-4adb-89f2-5bb85e9eaee2\" class=\"sk-toggleable__label sk-toggleable__label-arrow\">cat</label><div class=\"sk-toggleable__content\"><pre>[&#x27;PrimaryPropertyType&#x27;, &#x27;Neighborhood&#x27;, &#x27;LargestPropertyUseType&#x27;, &#x27;ComplianceStatus&#x27;]</pre></div></div></div><div class=\"sk-serial\"><div class=\"sk-item\"><div class=\"sk-estimator sk-toggleable\"><input class=\"sk-toggleable__control sk-hidden--visually\" id=\"8040a8fb-c24d-4177-b343-40188f772145\" type=\"checkbox\" ><label for=\"8040a8fb-c24d-4177-b343-40188f772145\" class=\"sk-toggleable__label sk-toggleable__label-arrow\">OneHotEncoder</label><div class=\"sk-toggleable__content\"><pre>OneHotEncoder(handle_unknown=&#x27;ignore&#x27;)</pre></div></div></div></div></div></div></div></div><div class=\"sk-item\"><div class=\"sk-estimator sk-toggleable\"><input class=\"sk-toggleable__control sk-hidden--visually\" id=\"5266e539-bdb9-4417-80f4-876b6dbe9ef9\" type=\"checkbox\" ><label for=\"5266e539-bdb9-4417-80f4-876b6dbe9ef9\" class=\"sk-toggleable__label sk-toggleable__label-arrow\">Ridge</label><div class=\"sk-toggleable__content\"><pre>Ridge()</pre></div></div></div></div></div></div></div></div></div></div></div></div>"
      ],
      "text/plain": [
       "GridSearchCV(cv=5,\n",
       "             estimator=Pipeline(steps=[('columntransformer',\n",
       "                                        ColumnTransformer(transformers=[('num',\n",
       "                                                                         Pipeline(steps=[('imputer',\n",
       "                                                                                          SimpleImputer(strategy='median')),\n",
       "                                                                                         ('scaler',\n",
       "                                                                                          StandardScaler())]),\n",
       "                                                                         ['NumberofBuildings',\n",
       "                                                                          'NumberofFloors',\n",
       "                                                                          'PropertyGFATotal',\n",
       "                                                                          'PropertyGFAParking',\n",
       "                                                                          'PropertyGFABuilding(s)',\n",
       "                                                                          'LargestPropertyUseTypeGFA',\n",
       "                                                                          'SourceEUIWN(kBtu/sf)',\n",
       "                                                                          'GHGEmissionsIntensity',\n",
       "                                                                          'BuildingAge',\n",
       "                                                                          'ENERGYSTARScore']),\n",
       "                                                                        ('cat',\n",
       "                                                                         OneHotEncoder(handle_unknown='ignore'),\n",
       "                                                                         ['PrimaryPropertyType',\n",
       "                                                                          'Neighborhood',\n",
       "                                                                          'LargestPropertyUseType',\n",
       "                                                                          'ComplianceStatus'])])),\n",
       "                                       ('ridge', Ridge())]),\n",
       "             param_grid={'ridge__alpha': [5, 10, 15]}, scoring='r2')"
      ]
     },
     "execution_count": 118,
     "metadata": {},
     "output_type": "execute_result"
    }
   ],
   "source": [
    "grid_ridge.fit(X_train,y_train)"
   ]
  },
  {
   "cell_type": "code",
   "execution_count": 119,
   "metadata": {},
   "outputs": [
    {
     "name": "stdout",
     "output_type": "stream",
     "text": [
      "0.4546239849580845\n",
      "{'ridge__alpha': 15}\n"
     ]
    }
   ],
   "source": [
    "print(grid_ridge.best_score_)\n",
    "print(grid_ridge.best_params_)"
   ]
  },
  {
   "cell_type": "code",
   "execution_count": 120,
   "metadata": {},
   "outputs": [],
   "source": [
    "model_ridge= grid_ridge.best_estimator_"
   ]
  },
  {
   "cell_type": "code",
   "execution_count": 121,
   "metadata": {},
   "outputs": [],
   "source": [
    "pred_ridge= model_ridge.predict(X_test)"
   ]
  },
  {
   "cell_type": "code",
   "execution_count": 122,
   "metadata": {},
   "outputs": [
    {
     "data": {
      "text/plain": [
       "[36.80593820799177,\n",
       " 1354.6770873705088,\n",
       " 20.647988412140986,\n",
       " 10.874545881188519,\n",
       " 0.6373053831406522]"
      ]
     },
     "execution_count": 122,
     "metadata": {},
     "output_type": "execute_result"
    }
   ],
   "source": [
    "# Evaluation des métriques:\n",
    "compute_scores(y_test, pred_ridge)"
   ]
  },
  {
   "cell_type": "markdown",
   "metadata": {},
   "source": [
    "#### Application du modèle SVR:"
   ]
  },
  {
   "cell_type": "code",
   "execution_count": 123,
   "metadata": {},
   "outputs": [],
   "source": [
    "# Instanciation de l'objet:\n",
    "svr= SVR()\n",
    "# On crée le modèle à l'aide de pipeline\n",
    "from sklearn.pipeline import make_pipeline\n",
    "pipe_svr= make_pipeline(column_trans,svr)"
   ]
  },
  {
   "cell_type": "code",
   "execution_count": 124,
   "metadata": {},
   "outputs": [],
   "source": [
    "# Optimisation des hyperparamètres avec: GridSearchCV()\n",
    "parameters = {'svr__kernel': ('poly','linear','rbf')}\n",
    "#Grille de recherche:\n",
    "grid_svr= GridSearchCV(pipe_svr,parameters, cv=5,scoring='r2')"
   ]
  },
  {
   "cell_type": "code",
   "execution_count": 125,
   "metadata": {},
   "outputs": [
    {
     "data": {
      "text/html": [
       "<style>#sk-c2f86a0e-2a1b-405d-9e80-3969b9eb7ed0 {color: black;background-color: white;}#sk-c2f86a0e-2a1b-405d-9e80-3969b9eb7ed0 pre{padding: 0;}#sk-c2f86a0e-2a1b-405d-9e80-3969b9eb7ed0 div.sk-toggleable {background-color: white;}#sk-c2f86a0e-2a1b-405d-9e80-3969b9eb7ed0 label.sk-toggleable__label {cursor: pointer;display: block;width: 100%;margin-bottom: 0;padding: 0.3em;box-sizing: border-box;text-align: center;}#sk-c2f86a0e-2a1b-405d-9e80-3969b9eb7ed0 label.sk-toggleable__label-arrow:before {content: \"▸\";float: left;margin-right: 0.25em;color: #696969;}#sk-c2f86a0e-2a1b-405d-9e80-3969b9eb7ed0 label.sk-toggleable__label-arrow:hover:before {color: black;}#sk-c2f86a0e-2a1b-405d-9e80-3969b9eb7ed0 div.sk-estimator:hover label.sk-toggleable__label-arrow:before {color: black;}#sk-c2f86a0e-2a1b-405d-9e80-3969b9eb7ed0 div.sk-toggleable__content {max-height: 0;max-width: 0;overflow: hidden;text-align: left;background-color: #f0f8ff;}#sk-c2f86a0e-2a1b-405d-9e80-3969b9eb7ed0 div.sk-toggleable__content pre {margin: 0.2em;color: black;border-radius: 0.25em;background-color: #f0f8ff;}#sk-c2f86a0e-2a1b-405d-9e80-3969b9eb7ed0 input.sk-toggleable__control:checked~div.sk-toggleable__content {max-height: 200px;max-width: 100%;overflow: auto;}#sk-c2f86a0e-2a1b-405d-9e80-3969b9eb7ed0 input.sk-toggleable__control:checked~label.sk-toggleable__label-arrow:before {content: \"▾\";}#sk-c2f86a0e-2a1b-405d-9e80-3969b9eb7ed0 div.sk-estimator input.sk-toggleable__control:checked~label.sk-toggleable__label {background-color: #d4ebff;}#sk-c2f86a0e-2a1b-405d-9e80-3969b9eb7ed0 div.sk-label input.sk-toggleable__control:checked~label.sk-toggleable__label {background-color: #d4ebff;}#sk-c2f86a0e-2a1b-405d-9e80-3969b9eb7ed0 input.sk-hidden--visually {border: 0;clip: rect(1px 1px 1px 1px);clip: rect(1px, 1px, 1px, 1px);height: 1px;margin: -1px;overflow: hidden;padding: 0;position: absolute;width: 1px;}#sk-c2f86a0e-2a1b-405d-9e80-3969b9eb7ed0 div.sk-estimator {font-family: monospace;background-color: #f0f8ff;border: 1px dotted black;border-radius: 0.25em;box-sizing: border-box;margin-bottom: 0.5em;}#sk-c2f86a0e-2a1b-405d-9e80-3969b9eb7ed0 div.sk-estimator:hover {background-color: #d4ebff;}#sk-c2f86a0e-2a1b-405d-9e80-3969b9eb7ed0 div.sk-parallel-item::after {content: \"\";width: 100%;border-bottom: 1px solid gray;flex-grow: 1;}#sk-c2f86a0e-2a1b-405d-9e80-3969b9eb7ed0 div.sk-label:hover label.sk-toggleable__label {background-color: #d4ebff;}#sk-c2f86a0e-2a1b-405d-9e80-3969b9eb7ed0 div.sk-serial::before {content: \"\";position: absolute;border-left: 1px solid gray;box-sizing: border-box;top: 2em;bottom: 0;left: 50%;}#sk-c2f86a0e-2a1b-405d-9e80-3969b9eb7ed0 div.sk-serial {display: flex;flex-direction: column;align-items: center;background-color: white;padding-right: 0.2em;padding-left: 0.2em;}#sk-c2f86a0e-2a1b-405d-9e80-3969b9eb7ed0 div.sk-item {z-index: 1;}#sk-c2f86a0e-2a1b-405d-9e80-3969b9eb7ed0 div.sk-parallel {display: flex;align-items: stretch;justify-content: center;background-color: white;}#sk-c2f86a0e-2a1b-405d-9e80-3969b9eb7ed0 div.sk-parallel::before {content: \"\";position: absolute;border-left: 1px solid gray;box-sizing: border-box;top: 2em;bottom: 0;left: 50%;}#sk-c2f86a0e-2a1b-405d-9e80-3969b9eb7ed0 div.sk-parallel-item {display: flex;flex-direction: column;position: relative;background-color: white;}#sk-c2f86a0e-2a1b-405d-9e80-3969b9eb7ed0 div.sk-parallel-item:first-child::after {align-self: flex-end;width: 50%;}#sk-c2f86a0e-2a1b-405d-9e80-3969b9eb7ed0 div.sk-parallel-item:last-child::after {align-self: flex-start;width: 50%;}#sk-c2f86a0e-2a1b-405d-9e80-3969b9eb7ed0 div.sk-parallel-item:only-child::after {width: 0;}#sk-c2f86a0e-2a1b-405d-9e80-3969b9eb7ed0 div.sk-dashed-wrapped {border: 1px dashed gray;margin: 0 0.4em 0.5em 0.4em;box-sizing: border-box;padding-bottom: 0.4em;background-color: white;position: relative;}#sk-c2f86a0e-2a1b-405d-9e80-3969b9eb7ed0 div.sk-label label {font-family: monospace;font-weight: bold;background-color: white;display: inline-block;line-height: 1.2em;}#sk-c2f86a0e-2a1b-405d-9e80-3969b9eb7ed0 div.sk-label-container {position: relative;z-index: 2;text-align: center;}#sk-c2f86a0e-2a1b-405d-9e80-3969b9eb7ed0 div.sk-container {/* jupyter's `normalize.less` sets `[hidden] { display: none; }` but bootstrap.min.css set `[hidden] { display: none !important; }` so we also need the `!important` here to be able to override the default hidden behavior on the sphinx rendered scikit-learn.org. See: https://github.com/scikit-learn/scikit-learn/issues/21755 */display: inline-block !important;position: relative;}#sk-c2f86a0e-2a1b-405d-9e80-3969b9eb7ed0 div.sk-text-repr-fallback {display: none;}</style><div id=\"sk-c2f86a0e-2a1b-405d-9e80-3969b9eb7ed0\" class=\"sk-top-container\"><div class=\"sk-text-repr-fallback\"><pre>GridSearchCV(cv=5,\n",
       "             estimator=Pipeline(steps=[(&#x27;columntransformer&#x27;,\n",
       "                                        ColumnTransformer(transformers=[(&#x27;num&#x27;,\n",
       "                                                                         Pipeline(steps=[(&#x27;imputer&#x27;,\n",
       "                                                                                          SimpleImputer(strategy=&#x27;median&#x27;)),\n",
       "                                                                                         (&#x27;scaler&#x27;,\n",
       "                                                                                          StandardScaler())]),\n",
       "                                                                         [&#x27;NumberofBuildings&#x27;,\n",
       "                                                                          &#x27;NumberofFloors&#x27;,\n",
       "                                                                          &#x27;PropertyGFATotal&#x27;,\n",
       "                                                                          &#x27;PropertyGFAParking&#x27;,\n",
       "                                                                          &#x27;PropertyGFABuilding(s)&#x27;,\n",
       "                                                                          &#x27;LargestPropertyUseTypeGFA&#x27;,\n",
       "                                                                          &#x27;SourceEUIWN(kBtu/sf)&#x27;,\n",
       "                                                                          &#x27;GHGEmissionsIntensity&#x27;,\n",
       "                                                                          &#x27;BuildingAge&#x27;,\n",
       "                                                                          &#x27;ENERGYSTARScore&#x27;]),\n",
       "                                                                        (&#x27;cat&#x27;,\n",
       "                                                                         OneHotEncoder(handle_unknown=&#x27;ignore&#x27;),\n",
       "                                                                         [&#x27;PrimaryPropertyType&#x27;,\n",
       "                                                                          &#x27;Neighborhood&#x27;,\n",
       "                                                                          &#x27;LargestPropertyUseType&#x27;,\n",
       "                                                                          &#x27;ComplianceStatus&#x27;])])),\n",
       "                                       (&#x27;svr&#x27;, SVR())]),\n",
       "             param_grid={&#x27;svr__kernel&#x27;: (&#x27;poly&#x27;, &#x27;linear&#x27;, &#x27;rbf&#x27;)},\n",
       "             scoring=&#x27;r2&#x27;)</pre><b>Please rerun this cell to show the HTML repr or trust the notebook.</b></div><div class=\"sk-container\" hidden><div class=\"sk-item sk-dashed-wrapped\"><div class=\"sk-label-container\"><div class=\"sk-label sk-toggleable\"><input class=\"sk-toggleable__control sk-hidden--visually\" id=\"589f420a-48b7-4f36-89c1-01abc5f8f790\" type=\"checkbox\" ><label for=\"589f420a-48b7-4f36-89c1-01abc5f8f790\" class=\"sk-toggleable__label sk-toggleable__label-arrow\">GridSearchCV</label><div class=\"sk-toggleable__content\"><pre>GridSearchCV(cv=5,\n",
       "             estimator=Pipeline(steps=[(&#x27;columntransformer&#x27;,\n",
       "                                        ColumnTransformer(transformers=[(&#x27;num&#x27;,\n",
       "                                                                         Pipeline(steps=[(&#x27;imputer&#x27;,\n",
       "                                                                                          SimpleImputer(strategy=&#x27;median&#x27;)),\n",
       "                                                                                         (&#x27;scaler&#x27;,\n",
       "                                                                                          StandardScaler())]),\n",
       "                                                                         [&#x27;NumberofBuildings&#x27;,\n",
       "                                                                          &#x27;NumberofFloors&#x27;,\n",
       "                                                                          &#x27;PropertyGFATotal&#x27;,\n",
       "                                                                          &#x27;PropertyGFAParking&#x27;,\n",
       "                                                                          &#x27;PropertyGFABuilding(s)&#x27;,\n",
       "                                                                          &#x27;LargestPropertyUseTypeGFA&#x27;,\n",
       "                                                                          &#x27;SourceEUIWN(kBtu/sf)&#x27;,\n",
       "                                                                          &#x27;GHGEmissionsIntensity&#x27;,\n",
       "                                                                          &#x27;BuildingAge&#x27;,\n",
       "                                                                          &#x27;ENERGYSTARScore&#x27;]),\n",
       "                                                                        (&#x27;cat&#x27;,\n",
       "                                                                         OneHotEncoder(handle_unknown=&#x27;ignore&#x27;),\n",
       "                                                                         [&#x27;PrimaryPropertyType&#x27;,\n",
       "                                                                          &#x27;Neighborhood&#x27;,\n",
       "                                                                          &#x27;LargestPropertyUseType&#x27;,\n",
       "                                                                          &#x27;ComplianceStatus&#x27;])])),\n",
       "                                       (&#x27;svr&#x27;, SVR())]),\n",
       "             param_grid={&#x27;svr__kernel&#x27;: (&#x27;poly&#x27;, &#x27;linear&#x27;, &#x27;rbf&#x27;)},\n",
       "             scoring=&#x27;r2&#x27;)</pre></div></div></div><div class=\"sk-parallel\"><div class=\"sk-parallel-item\"><div class=\"sk-item\"><div class=\"sk-serial\"><div class=\"sk-item\"><div class=\"sk-serial\"><div class=\"sk-item sk-dashed-wrapped\"><div class=\"sk-label-container\"><div class=\"sk-label sk-toggleable\"><input class=\"sk-toggleable__control sk-hidden--visually\" id=\"0337d3df-8f1c-42fc-a632-cd9d375a4ad8\" type=\"checkbox\" ><label for=\"0337d3df-8f1c-42fc-a632-cd9d375a4ad8\" class=\"sk-toggleable__label sk-toggleable__label-arrow\">columntransformer: ColumnTransformer</label><div class=\"sk-toggleable__content\"><pre>ColumnTransformer(transformers=[(&#x27;num&#x27;,\n",
       "                                 Pipeline(steps=[(&#x27;imputer&#x27;,\n",
       "                                                  SimpleImputer(strategy=&#x27;median&#x27;)),\n",
       "                                                 (&#x27;scaler&#x27;, StandardScaler())]),\n",
       "                                 [&#x27;NumberofBuildings&#x27;, &#x27;NumberofFloors&#x27;,\n",
       "                                  &#x27;PropertyGFATotal&#x27;, &#x27;PropertyGFAParking&#x27;,\n",
       "                                  &#x27;PropertyGFABuilding(s)&#x27;,\n",
       "                                  &#x27;LargestPropertyUseTypeGFA&#x27;,\n",
       "                                  &#x27;SourceEUIWN(kBtu/sf)&#x27;,\n",
       "                                  &#x27;GHGEmissionsIntensity&#x27;, &#x27;BuildingAge&#x27;,\n",
       "                                  &#x27;ENERGYSTARScore&#x27;]),\n",
       "                                (&#x27;cat&#x27;, OneHotEncoder(handle_unknown=&#x27;ignore&#x27;),\n",
       "                                 [&#x27;PrimaryPropertyType&#x27;, &#x27;Neighborhood&#x27;,\n",
       "                                  &#x27;LargestPropertyUseType&#x27;,\n",
       "                                  &#x27;ComplianceStatus&#x27;])])</pre></div></div></div><div class=\"sk-parallel\"><div class=\"sk-parallel-item\"><div class=\"sk-item\"><div class=\"sk-label-container\"><div class=\"sk-label sk-toggleable\"><input class=\"sk-toggleable__control sk-hidden--visually\" id=\"e7da9247-abea-4b37-9633-69450dd3290a\" type=\"checkbox\" ><label for=\"e7da9247-abea-4b37-9633-69450dd3290a\" class=\"sk-toggleable__label sk-toggleable__label-arrow\">num</label><div class=\"sk-toggleable__content\"><pre>[&#x27;NumberofBuildings&#x27;, &#x27;NumberofFloors&#x27;, &#x27;PropertyGFATotal&#x27;, &#x27;PropertyGFAParking&#x27;, &#x27;PropertyGFABuilding(s)&#x27;, &#x27;LargestPropertyUseTypeGFA&#x27;, &#x27;SourceEUIWN(kBtu/sf)&#x27;, &#x27;GHGEmissionsIntensity&#x27;, &#x27;BuildingAge&#x27;, &#x27;ENERGYSTARScore&#x27;]</pre></div></div></div><div class=\"sk-serial\"><div class=\"sk-item\"><div class=\"sk-serial\"><div class=\"sk-item\"><div class=\"sk-estimator sk-toggleable\"><input class=\"sk-toggleable__control sk-hidden--visually\" id=\"4007c9c5-3936-4e6f-a21a-4d7c5ee13818\" type=\"checkbox\" ><label for=\"4007c9c5-3936-4e6f-a21a-4d7c5ee13818\" class=\"sk-toggleable__label sk-toggleable__label-arrow\">SimpleImputer</label><div class=\"sk-toggleable__content\"><pre>SimpleImputer(strategy=&#x27;median&#x27;)</pre></div></div></div><div class=\"sk-item\"><div class=\"sk-estimator sk-toggleable\"><input class=\"sk-toggleable__control sk-hidden--visually\" id=\"7866fe50-5dce-48f9-b033-b49d54daee20\" type=\"checkbox\" ><label for=\"7866fe50-5dce-48f9-b033-b49d54daee20\" class=\"sk-toggleable__label sk-toggleable__label-arrow\">StandardScaler</label><div class=\"sk-toggleable__content\"><pre>StandardScaler()</pre></div></div></div></div></div></div></div></div><div class=\"sk-parallel-item\"><div class=\"sk-item\"><div class=\"sk-label-container\"><div class=\"sk-label sk-toggleable\"><input class=\"sk-toggleable__control sk-hidden--visually\" id=\"aab21ad2-2c46-4112-9b17-bc2777e1cf68\" type=\"checkbox\" ><label for=\"aab21ad2-2c46-4112-9b17-bc2777e1cf68\" class=\"sk-toggleable__label sk-toggleable__label-arrow\">cat</label><div class=\"sk-toggleable__content\"><pre>[&#x27;PrimaryPropertyType&#x27;, &#x27;Neighborhood&#x27;, &#x27;LargestPropertyUseType&#x27;, &#x27;ComplianceStatus&#x27;]</pre></div></div></div><div class=\"sk-serial\"><div class=\"sk-item\"><div class=\"sk-estimator sk-toggleable\"><input class=\"sk-toggleable__control sk-hidden--visually\" id=\"cbf7efb5-ca56-4eba-9dfc-28d682731b8a\" type=\"checkbox\" ><label for=\"cbf7efb5-ca56-4eba-9dfc-28d682731b8a\" class=\"sk-toggleable__label sk-toggleable__label-arrow\">OneHotEncoder</label><div class=\"sk-toggleable__content\"><pre>OneHotEncoder(handle_unknown=&#x27;ignore&#x27;)</pre></div></div></div></div></div></div></div></div><div class=\"sk-item\"><div class=\"sk-estimator sk-toggleable\"><input class=\"sk-toggleable__control sk-hidden--visually\" id=\"d6b9aa83-7ee4-4345-8697-8c65ff2c2d1e\" type=\"checkbox\" ><label for=\"d6b9aa83-7ee4-4345-8697-8c65ff2c2d1e\" class=\"sk-toggleable__label sk-toggleable__label-arrow\">SVR</label><div class=\"sk-toggleable__content\"><pre>SVR()</pre></div></div></div></div></div></div></div></div></div></div></div></div>"
      ],
      "text/plain": [
       "GridSearchCV(cv=5,\n",
       "             estimator=Pipeline(steps=[('columntransformer',\n",
       "                                        ColumnTransformer(transformers=[('num',\n",
       "                                                                         Pipeline(steps=[('imputer',\n",
       "                                                                                          SimpleImputer(strategy='median')),\n",
       "                                                                                         ('scaler',\n",
       "                                                                                          StandardScaler())]),\n",
       "                                                                         ['NumberofBuildings',\n",
       "                                                                          'NumberofFloors',\n",
       "                                                                          'PropertyGFATotal',\n",
       "                                                                          'PropertyGFAParking',\n",
       "                                                                          'PropertyGFABuilding(s)',\n",
       "                                                                          'LargestPropertyUseTypeGFA',\n",
       "                                                                          'SourceEUIWN(kBtu/sf)',\n",
       "                                                                          'GHGEmissionsIntensity',\n",
       "                                                                          'BuildingAge',\n",
       "                                                                          'ENERGYSTARScore']),\n",
       "                                                                        ('cat',\n",
       "                                                                         OneHotEncoder(handle_unknown='ignore'),\n",
       "                                                                         ['PrimaryPropertyType',\n",
       "                                                                          'Neighborhood',\n",
       "                                                                          'LargestPropertyUseType',\n",
       "                                                                          'ComplianceStatus'])])),\n",
       "                                       ('svr', SVR())]),\n",
       "             param_grid={'svr__kernel': ('poly', 'linear', 'rbf')},\n",
       "             scoring='r2')"
      ]
     },
     "execution_count": 125,
     "metadata": {},
     "output_type": "execute_result"
    }
   ],
   "source": [
    "grid_svr.fit(X_train,y_train)"
   ]
  },
  {
   "cell_type": "code",
   "execution_count": 126,
   "metadata": {},
   "outputs": [
    {
     "data": {
      "text/plain": [
       "0.7480220598658296"
      ]
     },
     "execution_count": 126,
     "metadata": {},
     "output_type": "execute_result"
    }
   ],
   "source": [
    "model_svr= grid_svr.best_estimator_\n",
    "pred_svr= model_svr.predict(X_test)\n",
    "r2_score(y_test, pred_svr)"
   ]
  },
  {
   "cell_type": "code",
   "execution_count": 127,
   "metadata": {},
   "outputs": [
    {
     "data": {
      "text/plain": [
       "[30.678109866748656,\n",
       " 941.1464249963013,\n",
       " 16.289675647473075,\n",
       " 5.713080480544761,\n",
       " 0.7480220598658296]"
      ]
     },
     "execution_count": 127,
     "metadata": {},
     "output_type": "execute_result"
    }
   ],
   "source": [
    "# calcul des métriques:\n",
    "compute_scores(y_test, pred_svr)"
   ]
  },
  {
   "cell_type": "markdown",
   "metadata": {},
   "source": [
    "#### Application du modèle Lasso"
   ]
  },
  {
   "cell_type": "code",
   "execution_count": 128,
   "metadata": {},
   "outputs": [],
   "source": [
    "lasso= Lasso(tol=0.1)\n",
    "# On crée le modèle à l'aide de pipeline\n",
    "pipe_lasso= make_pipeline(column_trans,lasso)"
   ]
  },
  {
   "cell_type": "code",
   "execution_count": 129,
   "metadata": {},
   "outputs": [
    {
     "data": {
      "text/html": [
       "<style>#sk-97e221d6-c10b-4d0e-9480-711c70e8e5ef {color: black;background-color: white;}#sk-97e221d6-c10b-4d0e-9480-711c70e8e5ef pre{padding: 0;}#sk-97e221d6-c10b-4d0e-9480-711c70e8e5ef div.sk-toggleable {background-color: white;}#sk-97e221d6-c10b-4d0e-9480-711c70e8e5ef label.sk-toggleable__label {cursor: pointer;display: block;width: 100%;margin-bottom: 0;padding: 0.3em;box-sizing: border-box;text-align: center;}#sk-97e221d6-c10b-4d0e-9480-711c70e8e5ef label.sk-toggleable__label-arrow:before {content: \"▸\";float: left;margin-right: 0.25em;color: #696969;}#sk-97e221d6-c10b-4d0e-9480-711c70e8e5ef label.sk-toggleable__label-arrow:hover:before {color: black;}#sk-97e221d6-c10b-4d0e-9480-711c70e8e5ef div.sk-estimator:hover label.sk-toggleable__label-arrow:before {color: black;}#sk-97e221d6-c10b-4d0e-9480-711c70e8e5ef div.sk-toggleable__content {max-height: 0;max-width: 0;overflow: hidden;text-align: left;background-color: #f0f8ff;}#sk-97e221d6-c10b-4d0e-9480-711c70e8e5ef div.sk-toggleable__content pre {margin: 0.2em;color: black;border-radius: 0.25em;background-color: #f0f8ff;}#sk-97e221d6-c10b-4d0e-9480-711c70e8e5ef input.sk-toggleable__control:checked~div.sk-toggleable__content {max-height: 200px;max-width: 100%;overflow: auto;}#sk-97e221d6-c10b-4d0e-9480-711c70e8e5ef input.sk-toggleable__control:checked~label.sk-toggleable__label-arrow:before {content: \"▾\";}#sk-97e221d6-c10b-4d0e-9480-711c70e8e5ef div.sk-estimator input.sk-toggleable__control:checked~label.sk-toggleable__label {background-color: #d4ebff;}#sk-97e221d6-c10b-4d0e-9480-711c70e8e5ef div.sk-label input.sk-toggleable__control:checked~label.sk-toggleable__label {background-color: #d4ebff;}#sk-97e221d6-c10b-4d0e-9480-711c70e8e5ef input.sk-hidden--visually {border: 0;clip: rect(1px 1px 1px 1px);clip: rect(1px, 1px, 1px, 1px);height: 1px;margin: -1px;overflow: hidden;padding: 0;position: absolute;width: 1px;}#sk-97e221d6-c10b-4d0e-9480-711c70e8e5ef div.sk-estimator {font-family: monospace;background-color: #f0f8ff;border: 1px dotted black;border-radius: 0.25em;box-sizing: border-box;margin-bottom: 0.5em;}#sk-97e221d6-c10b-4d0e-9480-711c70e8e5ef div.sk-estimator:hover {background-color: #d4ebff;}#sk-97e221d6-c10b-4d0e-9480-711c70e8e5ef div.sk-parallel-item::after {content: \"\";width: 100%;border-bottom: 1px solid gray;flex-grow: 1;}#sk-97e221d6-c10b-4d0e-9480-711c70e8e5ef div.sk-label:hover label.sk-toggleable__label {background-color: #d4ebff;}#sk-97e221d6-c10b-4d0e-9480-711c70e8e5ef div.sk-serial::before {content: \"\";position: absolute;border-left: 1px solid gray;box-sizing: border-box;top: 2em;bottom: 0;left: 50%;}#sk-97e221d6-c10b-4d0e-9480-711c70e8e5ef div.sk-serial {display: flex;flex-direction: column;align-items: center;background-color: white;padding-right: 0.2em;padding-left: 0.2em;}#sk-97e221d6-c10b-4d0e-9480-711c70e8e5ef div.sk-item {z-index: 1;}#sk-97e221d6-c10b-4d0e-9480-711c70e8e5ef div.sk-parallel {display: flex;align-items: stretch;justify-content: center;background-color: white;}#sk-97e221d6-c10b-4d0e-9480-711c70e8e5ef div.sk-parallel::before {content: \"\";position: absolute;border-left: 1px solid gray;box-sizing: border-box;top: 2em;bottom: 0;left: 50%;}#sk-97e221d6-c10b-4d0e-9480-711c70e8e5ef div.sk-parallel-item {display: flex;flex-direction: column;position: relative;background-color: white;}#sk-97e221d6-c10b-4d0e-9480-711c70e8e5ef div.sk-parallel-item:first-child::after {align-self: flex-end;width: 50%;}#sk-97e221d6-c10b-4d0e-9480-711c70e8e5ef div.sk-parallel-item:last-child::after {align-self: flex-start;width: 50%;}#sk-97e221d6-c10b-4d0e-9480-711c70e8e5ef div.sk-parallel-item:only-child::after {width: 0;}#sk-97e221d6-c10b-4d0e-9480-711c70e8e5ef div.sk-dashed-wrapped {border: 1px dashed gray;margin: 0 0.4em 0.5em 0.4em;box-sizing: border-box;padding-bottom: 0.4em;background-color: white;position: relative;}#sk-97e221d6-c10b-4d0e-9480-711c70e8e5ef div.sk-label label {font-family: monospace;font-weight: bold;background-color: white;display: inline-block;line-height: 1.2em;}#sk-97e221d6-c10b-4d0e-9480-711c70e8e5ef div.sk-label-container {position: relative;z-index: 2;text-align: center;}#sk-97e221d6-c10b-4d0e-9480-711c70e8e5ef div.sk-container {/* jupyter's `normalize.less` sets `[hidden] { display: none; }` but bootstrap.min.css set `[hidden] { display: none !important; }` so we also need the `!important` here to be able to override the default hidden behavior on the sphinx rendered scikit-learn.org. See: https://github.com/scikit-learn/scikit-learn/issues/21755 */display: inline-block !important;position: relative;}#sk-97e221d6-c10b-4d0e-9480-711c70e8e5ef div.sk-text-repr-fallback {display: none;}</style><div id=\"sk-97e221d6-c10b-4d0e-9480-711c70e8e5ef\" class=\"sk-top-container\"><div class=\"sk-text-repr-fallback\"><pre>GridSearchCV(cv=5,\n",
       "             estimator=Pipeline(steps=[(&#x27;columntransformer&#x27;,\n",
       "                                        ColumnTransformer(transformers=[(&#x27;num&#x27;,\n",
       "                                                                         Pipeline(steps=[(&#x27;imputer&#x27;,\n",
       "                                                                                          SimpleImputer(strategy=&#x27;median&#x27;)),\n",
       "                                                                                         (&#x27;scaler&#x27;,\n",
       "                                                                                          StandardScaler())]),\n",
       "                                                                         [&#x27;NumberofBuildings&#x27;,\n",
       "                                                                          &#x27;NumberofFloors&#x27;,\n",
       "                                                                          &#x27;PropertyGFATotal&#x27;,\n",
       "                                                                          &#x27;PropertyGFAParking&#x27;,\n",
       "                                                                          &#x27;PropertyGFABuilding(s)&#x27;,\n",
       "                                                                          &#x27;LargestPropertyUseTypeGFA&#x27;,\n",
       "                                                                          &#x27;SourceEUIWN(kBtu/sf)&#x27;,\n",
       "                                                                          &#x27;GHGEmissionsIntensity&#x27;,\n",
       "                                                                          &#x27;BuildingAge&#x27;,\n",
       "                                                                          &#x27;ENERGYSTARScore&#x27;]),\n",
       "                                                                        (&#x27;cat&#x27;,\n",
       "                                                                         OneHotEncoder(handle_unknown=&#x27;ignore&#x27;),\n",
       "                                                                         [&#x27;PrimaryPropertyType&#x27;,\n",
       "                                                                          &#x27;Neighborhood&#x27;,\n",
       "                                                                          &#x27;LargestPropertyUseType&#x27;,\n",
       "                                                                          &#x27;ComplianceStatus&#x27;])])),\n",
       "                                       (&#x27;lasso&#x27;, Lasso(tol=0.1))]),\n",
       "             param_grid={&#x27;lasso__alpha&#x27;: [60, 70, 80]}, scoring=&#x27;r2&#x27;)</pre><b>Please rerun this cell to show the HTML repr or trust the notebook.</b></div><div class=\"sk-container\" hidden><div class=\"sk-item sk-dashed-wrapped\"><div class=\"sk-label-container\"><div class=\"sk-label sk-toggleable\"><input class=\"sk-toggleable__control sk-hidden--visually\" id=\"5e7f7345-0c9f-4fc3-a341-cc05129f2ac5\" type=\"checkbox\" ><label for=\"5e7f7345-0c9f-4fc3-a341-cc05129f2ac5\" class=\"sk-toggleable__label sk-toggleable__label-arrow\">GridSearchCV</label><div class=\"sk-toggleable__content\"><pre>GridSearchCV(cv=5,\n",
       "             estimator=Pipeline(steps=[(&#x27;columntransformer&#x27;,\n",
       "                                        ColumnTransformer(transformers=[(&#x27;num&#x27;,\n",
       "                                                                         Pipeline(steps=[(&#x27;imputer&#x27;,\n",
       "                                                                                          SimpleImputer(strategy=&#x27;median&#x27;)),\n",
       "                                                                                         (&#x27;scaler&#x27;,\n",
       "                                                                                          StandardScaler())]),\n",
       "                                                                         [&#x27;NumberofBuildings&#x27;,\n",
       "                                                                          &#x27;NumberofFloors&#x27;,\n",
       "                                                                          &#x27;PropertyGFATotal&#x27;,\n",
       "                                                                          &#x27;PropertyGFAParking&#x27;,\n",
       "                                                                          &#x27;PropertyGFABuilding(s)&#x27;,\n",
       "                                                                          &#x27;LargestPropertyUseTypeGFA&#x27;,\n",
       "                                                                          &#x27;SourceEUIWN(kBtu/sf)&#x27;,\n",
       "                                                                          &#x27;GHGEmissionsIntensity&#x27;,\n",
       "                                                                          &#x27;BuildingAge&#x27;,\n",
       "                                                                          &#x27;ENERGYSTARScore&#x27;]),\n",
       "                                                                        (&#x27;cat&#x27;,\n",
       "                                                                         OneHotEncoder(handle_unknown=&#x27;ignore&#x27;),\n",
       "                                                                         [&#x27;PrimaryPropertyType&#x27;,\n",
       "                                                                          &#x27;Neighborhood&#x27;,\n",
       "                                                                          &#x27;LargestPropertyUseType&#x27;,\n",
       "                                                                          &#x27;ComplianceStatus&#x27;])])),\n",
       "                                       (&#x27;lasso&#x27;, Lasso(tol=0.1))]),\n",
       "             param_grid={&#x27;lasso__alpha&#x27;: [60, 70, 80]}, scoring=&#x27;r2&#x27;)</pre></div></div></div><div class=\"sk-parallel\"><div class=\"sk-parallel-item\"><div class=\"sk-item\"><div class=\"sk-serial\"><div class=\"sk-item\"><div class=\"sk-serial\"><div class=\"sk-item sk-dashed-wrapped\"><div class=\"sk-label-container\"><div class=\"sk-label sk-toggleable\"><input class=\"sk-toggleable__control sk-hidden--visually\" id=\"fce27a27-8d8c-49e1-ac46-3f02d5fb1522\" type=\"checkbox\" ><label for=\"fce27a27-8d8c-49e1-ac46-3f02d5fb1522\" class=\"sk-toggleable__label sk-toggleable__label-arrow\">columntransformer: ColumnTransformer</label><div class=\"sk-toggleable__content\"><pre>ColumnTransformer(transformers=[(&#x27;num&#x27;,\n",
       "                                 Pipeline(steps=[(&#x27;imputer&#x27;,\n",
       "                                                  SimpleImputer(strategy=&#x27;median&#x27;)),\n",
       "                                                 (&#x27;scaler&#x27;, StandardScaler())]),\n",
       "                                 [&#x27;NumberofBuildings&#x27;, &#x27;NumberofFloors&#x27;,\n",
       "                                  &#x27;PropertyGFATotal&#x27;, &#x27;PropertyGFAParking&#x27;,\n",
       "                                  &#x27;PropertyGFABuilding(s)&#x27;,\n",
       "                                  &#x27;LargestPropertyUseTypeGFA&#x27;,\n",
       "                                  &#x27;SourceEUIWN(kBtu/sf)&#x27;,\n",
       "                                  &#x27;GHGEmissionsIntensity&#x27;, &#x27;BuildingAge&#x27;,\n",
       "                                  &#x27;ENERGYSTARScore&#x27;]),\n",
       "                                (&#x27;cat&#x27;, OneHotEncoder(handle_unknown=&#x27;ignore&#x27;),\n",
       "                                 [&#x27;PrimaryPropertyType&#x27;, &#x27;Neighborhood&#x27;,\n",
       "                                  &#x27;LargestPropertyUseType&#x27;,\n",
       "                                  &#x27;ComplianceStatus&#x27;])])</pre></div></div></div><div class=\"sk-parallel\"><div class=\"sk-parallel-item\"><div class=\"sk-item\"><div class=\"sk-label-container\"><div class=\"sk-label sk-toggleable\"><input class=\"sk-toggleable__control sk-hidden--visually\" id=\"42301649-6715-4ecb-b147-4090d0c33e62\" type=\"checkbox\" ><label for=\"42301649-6715-4ecb-b147-4090d0c33e62\" class=\"sk-toggleable__label sk-toggleable__label-arrow\">num</label><div class=\"sk-toggleable__content\"><pre>[&#x27;NumberofBuildings&#x27;, &#x27;NumberofFloors&#x27;, &#x27;PropertyGFATotal&#x27;, &#x27;PropertyGFAParking&#x27;, &#x27;PropertyGFABuilding(s)&#x27;, &#x27;LargestPropertyUseTypeGFA&#x27;, &#x27;SourceEUIWN(kBtu/sf)&#x27;, &#x27;GHGEmissionsIntensity&#x27;, &#x27;BuildingAge&#x27;, &#x27;ENERGYSTARScore&#x27;]</pre></div></div></div><div class=\"sk-serial\"><div class=\"sk-item\"><div class=\"sk-serial\"><div class=\"sk-item\"><div class=\"sk-estimator sk-toggleable\"><input class=\"sk-toggleable__control sk-hidden--visually\" id=\"cfc2b624-f8a7-4987-8ff2-fbf0fcdbe104\" type=\"checkbox\" ><label for=\"cfc2b624-f8a7-4987-8ff2-fbf0fcdbe104\" class=\"sk-toggleable__label sk-toggleable__label-arrow\">SimpleImputer</label><div class=\"sk-toggleable__content\"><pre>SimpleImputer(strategy=&#x27;median&#x27;)</pre></div></div></div><div class=\"sk-item\"><div class=\"sk-estimator sk-toggleable\"><input class=\"sk-toggleable__control sk-hidden--visually\" id=\"1f050cc0-547d-49f6-a870-4595611e53a7\" type=\"checkbox\" ><label for=\"1f050cc0-547d-49f6-a870-4595611e53a7\" class=\"sk-toggleable__label sk-toggleable__label-arrow\">StandardScaler</label><div class=\"sk-toggleable__content\"><pre>StandardScaler()</pre></div></div></div></div></div></div></div></div><div class=\"sk-parallel-item\"><div class=\"sk-item\"><div class=\"sk-label-container\"><div class=\"sk-label sk-toggleable\"><input class=\"sk-toggleable__control sk-hidden--visually\" id=\"e0150d24-d942-42dd-8ef5-a75067bf1c7f\" type=\"checkbox\" ><label for=\"e0150d24-d942-42dd-8ef5-a75067bf1c7f\" class=\"sk-toggleable__label sk-toggleable__label-arrow\">cat</label><div class=\"sk-toggleable__content\"><pre>[&#x27;PrimaryPropertyType&#x27;, &#x27;Neighborhood&#x27;, &#x27;LargestPropertyUseType&#x27;, &#x27;ComplianceStatus&#x27;]</pre></div></div></div><div class=\"sk-serial\"><div class=\"sk-item\"><div class=\"sk-estimator sk-toggleable\"><input class=\"sk-toggleable__control sk-hidden--visually\" id=\"466db3f2-32ad-4ef8-9d9a-a23245969709\" type=\"checkbox\" ><label for=\"466db3f2-32ad-4ef8-9d9a-a23245969709\" class=\"sk-toggleable__label sk-toggleable__label-arrow\">OneHotEncoder</label><div class=\"sk-toggleable__content\"><pre>OneHotEncoder(handle_unknown=&#x27;ignore&#x27;)</pre></div></div></div></div></div></div></div></div><div class=\"sk-item\"><div class=\"sk-estimator sk-toggleable\"><input class=\"sk-toggleable__control sk-hidden--visually\" id=\"31016942-e50f-4b70-bd56-6cbe1d29c0d9\" type=\"checkbox\" ><label for=\"31016942-e50f-4b70-bd56-6cbe1d29c0d9\" class=\"sk-toggleable__label sk-toggleable__label-arrow\">Lasso</label><div class=\"sk-toggleable__content\"><pre>Lasso(tol=0.1)</pre></div></div></div></div></div></div></div></div></div></div></div></div>"
      ],
      "text/plain": [
       "GridSearchCV(cv=5,\n",
       "             estimator=Pipeline(steps=[('columntransformer',\n",
       "                                        ColumnTransformer(transformers=[('num',\n",
       "                                                                         Pipeline(steps=[('imputer',\n",
       "                                                                                          SimpleImputer(strategy='median')),\n",
       "                                                                                         ('scaler',\n",
       "                                                                                          StandardScaler())]),\n",
       "                                                                         ['NumberofBuildings',\n",
       "                                                                          'NumberofFloors',\n",
       "                                                                          'PropertyGFATotal',\n",
       "                                                                          'PropertyGFAParking',\n",
       "                                                                          'PropertyGFABuilding(s)',\n",
       "                                                                          'LargestPropertyUseTypeGFA',\n",
       "                                                                          'SourceEUIWN(kBtu/sf)',\n",
       "                                                                          'GHGEmissionsIntensity',\n",
       "                                                                          'BuildingAge',\n",
       "                                                                          'ENERGYSTARScore']),\n",
       "                                                                        ('cat',\n",
       "                                                                         OneHotEncoder(handle_unknown='ignore'),\n",
       "                                                                         ['PrimaryPropertyType',\n",
       "                                                                          'Neighborhood',\n",
       "                                                                          'LargestPropertyUseType',\n",
       "                                                                          'ComplianceStatus'])])),\n",
       "                                       ('lasso', Lasso(tol=0.1))]),\n",
       "             param_grid={'lasso__alpha': [60, 70, 80]}, scoring='r2')"
      ]
     },
     "execution_count": 129,
     "metadata": {},
     "output_type": "execute_result"
    }
   ],
   "source": [
    "# Optimisation des hyperparamètres avec: GridSearchCV()\n",
    "parameters = {'lasso__alpha':[60,70,80]}\n",
    "#Grille de recherche:\n",
    "grid_lasso= GridSearchCV(pipe_lasso,parameters, cv=5,scoring='r2')\n",
    "grid_lasso.fit(X_train,y_train)"
   ]
  },
  {
   "cell_type": "code",
   "execution_count": 130,
   "metadata": {},
   "outputs": [
    {
     "data": {
      "text/plain": [
       "-0.0039546428929231325"
      ]
     },
     "execution_count": 130,
     "metadata": {},
     "output_type": "execute_result"
    }
   ],
   "source": [
    "model_lasso= grid_lasso.best_estimator_\n",
    "model_lasso.score(X_test,y_test)"
   ]
  },
  {
   "cell_type": "code",
   "execution_count": 131,
   "metadata": {},
   "outputs": [
    {
     "data": {
      "text/plain": [
       "[61.23565731742075,\n",
       " 3749.805727096586,\n",
       " 45.95119989680082,\n",
       " 38.43351578947368,\n",
       " -0.0039546428929231325]"
      ]
     },
     "execution_count": 131,
     "metadata": {},
     "output_type": "execute_result"
    }
   ],
   "source": [
    "pred_lasso= model_lasso.predict(X_test)\n",
    "# Evaluation des métriques:\n",
    "compute_scores(y_test, pred_lasso)"
   ]
  },
  {
   "cell_type": "markdown",
   "metadata": {},
   "source": [
    "#### Application du modèle Elastic Net"
   ]
  },
  {
   "cell_type": "code",
   "execution_count": 132,
   "metadata": {},
   "outputs": [],
   "source": [
    "elastic= ElasticNet(tol=0.1)\n",
    "# On crée le modèle à l'aide de pipeline\n",
    "pipe_elastic= make_pipeline(column_trans,elastic)"
   ]
  },
  {
   "cell_type": "code",
   "execution_count": 133,
   "metadata": {},
   "outputs": [
    {
     "data": {
      "text/html": [
       "<style>#sk-79f1862d-84b6-41bf-8f50-45e670dd13a6 {color: black;background-color: white;}#sk-79f1862d-84b6-41bf-8f50-45e670dd13a6 pre{padding: 0;}#sk-79f1862d-84b6-41bf-8f50-45e670dd13a6 div.sk-toggleable {background-color: white;}#sk-79f1862d-84b6-41bf-8f50-45e670dd13a6 label.sk-toggleable__label {cursor: pointer;display: block;width: 100%;margin-bottom: 0;padding: 0.3em;box-sizing: border-box;text-align: center;}#sk-79f1862d-84b6-41bf-8f50-45e670dd13a6 label.sk-toggleable__label-arrow:before {content: \"▸\";float: left;margin-right: 0.25em;color: #696969;}#sk-79f1862d-84b6-41bf-8f50-45e670dd13a6 label.sk-toggleable__label-arrow:hover:before {color: black;}#sk-79f1862d-84b6-41bf-8f50-45e670dd13a6 div.sk-estimator:hover label.sk-toggleable__label-arrow:before {color: black;}#sk-79f1862d-84b6-41bf-8f50-45e670dd13a6 div.sk-toggleable__content {max-height: 0;max-width: 0;overflow: hidden;text-align: left;background-color: #f0f8ff;}#sk-79f1862d-84b6-41bf-8f50-45e670dd13a6 div.sk-toggleable__content pre {margin: 0.2em;color: black;border-radius: 0.25em;background-color: #f0f8ff;}#sk-79f1862d-84b6-41bf-8f50-45e670dd13a6 input.sk-toggleable__control:checked~div.sk-toggleable__content {max-height: 200px;max-width: 100%;overflow: auto;}#sk-79f1862d-84b6-41bf-8f50-45e670dd13a6 input.sk-toggleable__control:checked~label.sk-toggleable__label-arrow:before {content: \"▾\";}#sk-79f1862d-84b6-41bf-8f50-45e670dd13a6 div.sk-estimator input.sk-toggleable__control:checked~label.sk-toggleable__label {background-color: #d4ebff;}#sk-79f1862d-84b6-41bf-8f50-45e670dd13a6 div.sk-label input.sk-toggleable__control:checked~label.sk-toggleable__label {background-color: #d4ebff;}#sk-79f1862d-84b6-41bf-8f50-45e670dd13a6 input.sk-hidden--visually {border: 0;clip: rect(1px 1px 1px 1px);clip: rect(1px, 1px, 1px, 1px);height: 1px;margin: -1px;overflow: hidden;padding: 0;position: absolute;width: 1px;}#sk-79f1862d-84b6-41bf-8f50-45e670dd13a6 div.sk-estimator {font-family: monospace;background-color: #f0f8ff;border: 1px dotted black;border-radius: 0.25em;box-sizing: border-box;margin-bottom: 0.5em;}#sk-79f1862d-84b6-41bf-8f50-45e670dd13a6 div.sk-estimator:hover {background-color: #d4ebff;}#sk-79f1862d-84b6-41bf-8f50-45e670dd13a6 div.sk-parallel-item::after {content: \"\";width: 100%;border-bottom: 1px solid gray;flex-grow: 1;}#sk-79f1862d-84b6-41bf-8f50-45e670dd13a6 div.sk-label:hover label.sk-toggleable__label {background-color: #d4ebff;}#sk-79f1862d-84b6-41bf-8f50-45e670dd13a6 div.sk-serial::before {content: \"\";position: absolute;border-left: 1px solid gray;box-sizing: border-box;top: 2em;bottom: 0;left: 50%;}#sk-79f1862d-84b6-41bf-8f50-45e670dd13a6 div.sk-serial {display: flex;flex-direction: column;align-items: center;background-color: white;padding-right: 0.2em;padding-left: 0.2em;}#sk-79f1862d-84b6-41bf-8f50-45e670dd13a6 div.sk-item {z-index: 1;}#sk-79f1862d-84b6-41bf-8f50-45e670dd13a6 div.sk-parallel {display: flex;align-items: stretch;justify-content: center;background-color: white;}#sk-79f1862d-84b6-41bf-8f50-45e670dd13a6 div.sk-parallel::before {content: \"\";position: absolute;border-left: 1px solid gray;box-sizing: border-box;top: 2em;bottom: 0;left: 50%;}#sk-79f1862d-84b6-41bf-8f50-45e670dd13a6 div.sk-parallel-item {display: flex;flex-direction: column;position: relative;background-color: white;}#sk-79f1862d-84b6-41bf-8f50-45e670dd13a6 div.sk-parallel-item:first-child::after {align-self: flex-end;width: 50%;}#sk-79f1862d-84b6-41bf-8f50-45e670dd13a6 div.sk-parallel-item:last-child::after {align-self: flex-start;width: 50%;}#sk-79f1862d-84b6-41bf-8f50-45e670dd13a6 div.sk-parallel-item:only-child::after {width: 0;}#sk-79f1862d-84b6-41bf-8f50-45e670dd13a6 div.sk-dashed-wrapped {border: 1px dashed gray;margin: 0 0.4em 0.5em 0.4em;box-sizing: border-box;padding-bottom: 0.4em;background-color: white;position: relative;}#sk-79f1862d-84b6-41bf-8f50-45e670dd13a6 div.sk-label label {font-family: monospace;font-weight: bold;background-color: white;display: inline-block;line-height: 1.2em;}#sk-79f1862d-84b6-41bf-8f50-45e670dd13a6 div.sk-label-container {position: relative;z-index: 2;text-align: center;}#sk-79f1862d-84b6-41bf-8f50-45e670dd13a6 div.sk-container {/* jupyter's `normalize.less` sets `[hidden] { display: none; }` but bootstrap.min.css set `[hidden] { display: none !important; }` so we also need the `!important` here to be able to override the default hidden behavior on the sphinx rendered scikit-learn.org. See: https://github.com/scikit-learn/scikit-learn/issues/21755 */display: inline-block !important;position: relative;}#sk-79f1862d-84b6-41bf-8f50-45e670dd13a6 div.sk-text-repr-fallback {display: none;}</style><div id=\"sk-79f1862d-84b6-41bf-8f50-45e670dd13a6\" class=\"sk-top-container\"><div class=\"sk-text-repr-fallback\"><pre>GridSearchCV(cv=5,\n",
       "             estimator=Pipeline(steps=[(&#x27;columntransformer&#x27;,\n",
       "                                        ColumnTransformer(transformers=[(&#x27;num&#x27;,\n",
       "                                                                         Pipeline(steps=[(&#x27;imputer&#x27;,\n",
       "                                                                                          SimpleImputer(strategy=&#x27;median&#x27;)),\n",
       "                                                                                         (&#x27;scaler&#x27;,\n",
       "                                                                                          StandardScaler())]),\n",
       "                                                                         [&#x27;NumberofBuildings&#x27;,\n",
       "                                                                          &#x27;NumberofFloors&#x27;,\n",
       "                                                                          &#x27;PropertyGFATotal&#x27;,\n",
       "                                                                          &#x27;PropertyGFAParking&#x27;,\n",
       "                                                                          &#x27;PropertyGFABuilding(s)&#x27;,\n",
       "                                                                          &#x27;LargestPropertyUseTypeGFA&#x27;,\n",
       "                                                                          &#x27;SourceEUIWN(kBtu/sf)&#x27;,\n",
       "                                                                          &#x27;GHGEmissionsIntensity&#x27;,\n",
       "                                                                          &#x27;BuildingAge&#x27;,\n",
       "                                                                          &#x27;ENERGYSTARScore&#x27;]),\n",
       "                                                                        (&#x27;cat&#x27;,\n",
       "                                                                         OneHotEncoder(handle_unknown=&#x27;ignore&#x27;),\n",
       "                                                                         [&#x27;PrimaryPropertyType&#x27;,\n",
       "                                                                          &#x27;Neighborhood&#x27;,\n",
       "                                                                          &#x27;LargestPropertyUseType&#x27;,\n",
       "                                                                          &#x27;ComplianceStatus&#x27;])])),\n",
       "                                       (&#x27;elasticnet&#x27;, ElasticNet(tol=0.1))]),\n",
       "             param_grid={&#x27;elasticnet__alpha&#x27;: [0.01, 0.1, 1],\n",
       "                         &#x27;elasticnet__l1_ratio&#x27;: [1e-05, 0.0001, 0.001]})</pre><b>Please rerun this cell to show the HTML repr or trust the notebook.</b></div><div class=\"sk-container\" hidden><div class=\"sk-item sk-dashed-wrapped\"><div class=\"sk-label-container\"><div class=\"sk-label sk-toggleable\"><input class=\"sk-toggleable__control sk-hidden--visually\" id=\"c04444af-6f73-4f60-b41c-d3a3b6af4a7e\" type=\"checkbox\" ><label for=\"c04444af-6f73-4f60-b41c-d3a3b6af4a7e\" class=\"sk-toggleable__label sk-toggleable__label-arrow\">GridSearchCV</label><div class=\"sk-toggleable__content\"><pre>GridSearchCV(cv=5,\n",
       "             estimator=Pipeline(steps=[(&#x27;columntransformer&#x27;,\n",
       "                                        ColumnTransformer(transformers=[(&#x27;num&#x27;,\n",
       "                                                                         Pipeline(steps=[(&#x27;imputer&#x27;,\n",
       "                                                                                          SimpleImputer(strategy=&#x27;median&#x27;)),\n",
       "                                                                                         (&#x27;scaler&#x27;,\n",
       "                                                                                          StandardScaler())]),\n",
       "                                                                         [&#x27;NumberofBuildings&#x27;,\n",
       "                                                                          &#x27;NumberofFloors&#x27;,\n",
       "                                                                          &#x27;PropertyGFATotal&#x27;,\n",
       "                                                                          &#x27;PropertyGFAParking&#x27;,\n",
       "                                                                          &#x27;PropertyGFABuilding(s)&#x27;,\n",
       "                                                                          &#x27;LargestPropertyUseTypeGFA&#x27;,\n",
       "                                                                          &#x27;SourceEUIWN(kBtu/sf)&#x27;,\n",
       "                                                                          &#x27;GHGEmissionsIntensity&#x27;,\n",
       "                                                                          &#x27;BuildingAge&#x27;,\n",
       "                                                                          &#x27;ENERGYSTARScore&#x27;]),\n",
       "                                                                        (&#x27;cat&#x27;,\n",
       "                                                                         OneHotEncoder(handle_unknown=&#x27;ignore&#x27;),\n",
       "                                                                         [&#x27;PrimaryPropertyType&#x27;,\n",
       "                                                                          &#x27;Neighborhood&#x27;,\n",
       "                                                                          &#x27;LargestPropertyUseType&#x27;,\n",
       "                                                                          &#x27;ComplianceStatus&#x27;])])),\n",
       "                                       (&#x27;elasticnet&#x27;, ElasticNet(tol=0.1))]),\n",
       "             param_grid={&#x27;elasticnet__alpha&#x27;: [0.01, 0.1, 1],\n",
       "                         &#x27;elasticnet__l1_ratio&#x27;: [1e-05, 0.0001, 0.001]})</pre></div></div></div><div class=\"sk-parallel\"><div class=\"sk-parallel-item\"><div class=\"sk-item\"><div class=\"sk-serial\"><div class=\"sk-item\"><div class=\"sk-serial\"><div class=\"sk-item sk-dashed-wrapped\"><div class=\"sk-label-container\"><div class=\"sk-label sk-toggleable\"><input class=\"sk-toggleable__control sk-hidden--visually\" id=\"9f7c9073-1eae-4abe-86d7-ff9a584122a2\" type=\"checkbox\" ><label for=\"9f7c9073-1eae-4abe-86d7-ff9a584122a2\" class=\"sk-toggleable__label sk-toggleable__label-arrow\">columntransformer: ColumnTransformer</label><div class=\"sk-toggleable__content\"><pre>ColumnTransformer(transformers=[(&#x27;num&#x27;,\n",
       "                                 Pipeline(steps=[(&#x27;imputer&#x27;,\n",
       "                                                  SimpleImputer(strategy=&#x27;median&#x27;)),\n",
       "                                                 (&#x27;scaler&#x27;, StandardScaler())]),\n",
       "                                 [&#x27;NumberofBuildings&#x27;, &#x27;NumberofFloors&#x27;,\n",
       "                                  &#x27;PropertyGFATotal&#x27;, &#x27;PropertyGFAParking&#x27;,\n",
       "                                  &#x27;PropertyGFABuilding(s)&#x27;,\n",
       "                                  &#x27;LargestPropertyUseTypeGFA&#x27;,\n",
       "                                  &#x27;SourceEUIWN(kBtu/sf)&#x27;,\n",
       "                                  &#x27;GHGEmissionsIntensity&#x27;, &#x27;BuildingAge&#x27;,\n",
       "                                  &#x27;ENERGYSTARScore&#x27;]),\n",
       "                                (&#x27;cat&#x27;, OneHotEncoder(handle_unknown=&#x27;ignore&#x27;),\n",
       "                                 [&#x27;PrimaryPropertyType&#x27;, &#x27;Neighborhood&#x27;,\n",
       "                                  &#x27;LargestPropertyUseType&#x27;,\n",
       "                                  &#x27;ComplianceStatus&#x27;])])</pre></div></div></div><div class=\"sk-parallel\"><div class=\"sk-parallel-item\"><div class=\"sk-item\"><div class=\"sk-label-container\"><div class=\"sk-label sk-toggleable\"><input class=\"sk-toggleable__control sk-hidden--visually\" id=\"d54c774f-7d04-4bf9-a1e0-be7c9a915a9a\" type=\"checkbox\" ><label for=\"d54c774f-7d04-4bf9-a1e0-be7c9a915a9a\" class=\"sk-toggleable__label sk-toggleable__label-arrow\">num</label><div class=\"sk-toggleable__content\"><pre>[&#x27;NumberofBuildings&#x27;, &#x27;NumberofFloors&#x27;, &#x27;PropertyGFATotal&#x27;, &#x27;PropertyGFAParking&#x27;, &#x27;PropertyGFABuilding(s)&#x27;, &#x27;LargestPropertyUseTypeGFA&#x27;, &#x27;SourceEUIWN(kBtu/sf)&#x27;, &#x27;GHGEmissionsIntensity&#x27;, &#x27;BuildingAge&#x27;, &#x27;ENERGYSTARScore&#x27;]</pre></div></div></div><div class=\"sk-serial\"><div class=\"sk-item\"><div class=\"sk-serial\"><div class=\"sk-item\"><div class=\"sk-estimator sk-toggleable\"><input class=\"sk-toggleable__control sk-hidden--visually\" id=\"4340e3c8-9ba4-4e26-bec2-f07ae9146a36\" type=\"checkbox\" ><label for=\"4340e3c8-9ba4-4e26-bec2-f07ae9146a36\" class=\"sk-toggleable__label sk-toggleable__label-arrow\">SimpleImputer</label><div class=\"sk-toggleable__content\"><pre>SimpleImputer(strategy=&#x27;median&#x27;)</pre></div></div></div><div class=\"sk-item\"><div class=\"sk-estimator sk-toggleable\"><input class=\"sk-toggleable__control sk-hidden--visually\" id=\"164f9bf2-b4c0-4a8f-8623-ca5204d82a00\" type=\"checkbox\" ><label for=\"164f9bf2-b4c0-4a8f-8623-ca5204d82a00\" class=\"sk-toggleable__label sk-toggleable__label-arrow\">StandardScaler</label><div class=\"sk-toggleable__content\"><pre>StandardScaler()</pre></div></div></div></div></div></div></div></div><div class=\"sk-parallel-item\"><div class=\"sk-item\"><div class=\"sk-label-container\"><div class=\"sk-label sk-toggleable\"><input class=\"sk-toggleable__control sk-hidden--visually\" id=\"1df9211a-4f7e-4ce3-bbba-e0bbc560ddc6\" type=\"checkbox\" ><label for=\"1df9211a-4f7e-4ce3-bbba-e0bbc560ddc6\" class=\"sk-toggleable__label sk-toggleable__label-arrow\">cat</label><div class=\"sk-toggleable__content\"><pre>[&#x27;PrimaryPropertyType&#x27;, &#x27;Neighborhood&#x27;, &#x27;LargestPropertyUseType&#x27;, &#x27;ComplianceStatus&#x27;]</pre></div></div></div><div class=\"sk-serial\"><div class=\"sk-item\"><div class=\"sk-estimator sk-toggleable\"><input class=\"sk-toggleable__control sk-hidden--visually\" id=\"399531ba-8b96-4412-9a75-a6a5d01f1ba5\" type=\"checkbox\" ><label for=\"399531ba-8b96-4412-9a75-a6a5d01f1ba5\" class=\"sk-toggleable__label sk-toggleable__label-arrow\">OneHotEncoder</label><div class=\"sk-toggleable__content\"><pre>OneHotEncoder(handle_unknown=&#x27;ignore&#x27;)</pre></div></div></div></div></div></div></div></div><div class=\"sk-item\"><div class=\"sk-estimator sk-toggleable\"><input class=\"sk-toggleable__control sk-hidden--visually\" id=\"8c8c8e8e-8961-488e-9364-25e9d840821c\" type=\"checkbox\" ><label for=\"8c8c8e8e-8961-488e-9364-25e9d840821c\" class=\"sk-toggleable__label sk-toggleable__label-arrow\">ElasticNet</label><div class=\"sk-toggleable__content\"><pre>ElasticNet(tol=0.1)</pre></div></div></div></div></div></div></div></div></div></div></div></div>"
      ],
      "text/plain": [
       "GridSearchCV(cv=5,\n",
       "             estimator=Pipeline(steps=[('columntransformer',\n",
       "                                        ColumnTransformer(transformers=[('num',\n",
       "                                                                         Pipeline(steps=[('imputer',\n",
       "                                                                                          SimpleImputer(strategy='median')),\n",
       "                                                                                         ('scaler',\n",
       "                                                                                          StandardScaler())]),\n",
       "                                                                         ['NumberofBuildings',\n",
       "                                                                          'NumberofFloors',\n",
       "                                                                          'PropertyGFATotal',\n",
       "                                                                          'PropertyGFAParking',\n",
       "                                                                          'PropertyGFABuilding(s)',\n",
       "                                                                          'LargestPropertyUseTypeGFA',\n",
       "                                                                          'SourceEUIWN(kBtu/sf)',\n",
       "                                                                          'GHGEmissionsIntensity',\n",
       "                                                                          'BuildingAge',\n",
       "                                                                          'ENERGYSTARScore']),\n",
       "                                                                        ('cat',\n",
       "                                                                         OneHotEncoder(handle_unknown='ignore'),\n",
       "                                                                         ['PrimaryPropertyType',\n",
       "                                                                          'Neighborhood',\n",
       "                                                                          'LargestPropertyUseType',\n",
       "                                                                          'ComplianceStatus'])])),\n",
       "                                       ('elasticnet', ElasticNet(tol=0.1))]),\n",
       "             param_grid={'elasticnet__alpha': [0.01, 0.1, 1],\n",
       "                         'elasticnet__l1_ratio': [1e-05, 0.0001, 0.001]})"
      ]
     },
     "execution_count": 133,
     "metadata": {},
     "output_type": "execute_result"
    }
   ],
   "source": [
    "# Optimisation des hyperparamètres avec: GridSearchCV()\n",
    "parameters = {'elasticnet__l1_ratio':[1e-5,1e-4,1e-3],'elasticnet__alpha':[1e-2,0.1,1]}\n",
    "#Grille de recherche:\n",
    "grid_elastic= GridSearchCV(pipe_elastic,parameters, cv=5)\n",
    "grid_elastic.fit(X_train,y_train)"
   ]
  },
  {
   "cell_type": "code",
   "execution_count": 134,
   "metadata": {},
   "outputs": [
    {
     "data": {
      "text/plain": [
       "0.61090764870336"
      ]
     },
     "execution_count": 134,
     "metadata": {},
     "output_type": "execute_result"
    }
   ],
   "source": [
    "model_elastic= grid_elastic.best_estimator_\n",
    "model_elastic.score(X_test,y_test)"
   ]
  },
  {
   "cell_type": "code",
   "execution_count": 135,
   "metadata": {},
   "outputs": [
    {
     "data": {
      "text/plain": [
       "[38.12182510515748,\n",
       " 1453.2735493482146,\n",
       " 21.835968945381563,\n",
       " 12.513275830360854,\n",
       " 0.61090764870336]"
      ]
     },
     "execution_count": 135,
     "metadata": {},
     "output_type": "execute_result"
    }
   ],
   "source": [
    "pred_elastic= model_elastic.predict(X_test)\n",
    "# Evaluation des métriques:\n",
    "compute_scores(y_test, pred_elastic)"
   ]
  },
  {
   "cell_type": "markdown",
   "metadata": {},
   "source": [
    "#### Application du modèle Forests of randomized trees"
   ]
  },
  {
   "cell_type": "code",
   "execution_count": 136,
   "metadata": {},
   "outputs": [],
   "source": [
    "randomforest= RandomForestRegressor()\n",
    "# On crée le modèle à l'aide de pipeline\n",
    "pipe_randomforest= make_pipeline(column_trans, randomforest)"
   ]
  },
  {
   "cell_type": "code",
   "execution_count": 137,
   "metadata": {},
   "outputs": [
    {
     "data": {
      "text/html": [
       "<style>#sk-fddc0d8b-7a86-425c-942b-77d200c665b4 {color: black;background-color: white;}#sk-fddc0d8b-7a86-425c-942b-77d200c665b4 pre{padding: 0;}#sk-fddc0d8b-7a86-425c-942b-77d200c665b4 div.sk-toggleable {background-color: white;}#sk-fddc0d8b-7a86-425c-942b-77d200c665b4 label.sk-toggleable__label {cursor: pointer;display: block;width: 100%;margin-bottom: 0;padding: 0.3em;box-sizing: border-box;text-align: center;}#sk-fddc0d8b-7a86-425c-942b-77d200c665b4 label.sk-toggleable__label-arrow:before {content: \"▸\";float: left;margin-right: 0.25em;color: #696969;}#sk-fddc0d8b-7a86-425c-942b-77d200c665b4 label.sk-toggleable__label-arrow:hover:before {color: black;}#sk-fddc0d8b-7a86-425c-942b-77d200c665b4 div.sk-estimator:hover label.sk-toggleable__label-arrow:before {color: black;}#sk-fddc0d8b-7a86-425c-942b-77d200c665b4 div.sk-toggleable__content {max-height: 0;max-width: 0;overflow: hidden;text-align: left;background-color: #f0f8ff;}#sk-fddc0d8b-7a86-425c-942b-77d200c665b4 div.sk-toggleable__content pre {margin: 0.2em;color: black;border-radius: 0.25em;background-color: #f0f8ff;}#sk-fddc0d8b-7a86-425c-942b-77d200c665b4 input.sk-toggleable__control:checked~div.sk-toggleable__content {max-height: 200px;max-width: 100%;overflow: auto;}#sk-fddc0d8b-7a86-425c-942b-77d200c665b4 input.sk-toggleable__control:checked~label.sk-toggleable__label-arrow:before {content: \"▾\";}#sk-fddc0d8b-7a86-425c-942b-77d200c665b4 div.sk-estimator input.sk-toggleable__control:checked~label.sk-toggleable__label {background-color: #d4ebff;}#sk-fddc0d8b-7a86-425c-942b-77d200c665b4 div.sk-label input.sk-toggleable__control:checked~label.sk-toggleable__label {background-color: #d4ebff;}#sk-fddc0d8b-7a86-425c-942b-77d200c665b4 input.sk-hidden--visually {border: 0;clip: rect(1px 1px 1px 1px);clip: rect(1px, 1px, 1px, 1px);height: 1px;margin: -1px;overflow: hidden;padding: 0;position: absolute;width: 1px;}#sk-fddc0d8b-7a86-425c-942b-77d200c665b4 div.sk-estimator {font-family: monospace;background-color: #f0f8ff;border: 1px dotted black;border-radius: 0.25em;box-sizing: border-box;margin-bottom: 0.5em;}#sk-fddc0d8b-7a86-425c-942b-77d200c665b4 div.sk-estimator:hover {background-color: #d4ebff;}#sk-fddc0d8b-7a86-425c-942b-77d200c665b4 div.sk-parallel-item::after {content: \"\";width: 100%;border-bottom: 1px solid gray;flex-grow: 1;}#sk-fddc0d8b-7a86-425c-942b-77d200c665b4 div.sk-label:hover label.sk-toggleable__label {background-color: #d4ebff;}#sk-fddc0d8b-7a86-425c-942b-77d200c665b4 div.sk-serial::before {content: \"\";position: absolute;border-left: 1px solid gray;box-sizing: border-box;top: 2em;bottom: 0;left: 50%;}#sk-fddc0d8b-7a86-425c-942b-77d200c665b4 div.sk-serial {display: flex;flex-direction: column;align-items: center;background-color: white;padding-right: 0.2em;padding-left: 0.2em;}#sk-fddc0d8b-7a86-425c-942b-77d200c665b4 div.sk-item {z-index: 1;}#sk-fddc0d8b-7a86-425c-942b-77d200c665b4 div.sk-parallel {display: flex;align-items: stretch;justify-content: center;background-color: white;}#sk-fddc0d8b-7a86-425c-942b-77d200c665b4 div.sk-parallel::before {content: \"\";position: absolute;border-left: 1px solid gray;box-sizing: border-box;top: 2em;bottom: 0;left: 50%;}#sk-fddc0d8b-7a86-425c-942b-77d200c665b4 div.sk-parallel-item {display: flex;flex-direction: column;position: relative;background-color: white;}#sk-fddc0d8b-7a86-425c-942b-77d200c665b4 div.sk-parallel-item:first-child::after {align-self: flex-end;width: 50%;}#sk-fddc0d8b-7a86-425c-942b-77d200c665b4 div.sk-parallel-item:last-child::after {align-self: flex-start;width: 50%;}#sk-fddc0d8b-7a86-425c-942b-77d200c665b4 div.sk-parallel-item:only-child::after {width: 0;}#sk-fddc0d8b-7a86-425c-942b-77d200c665b4 div.sk-dashed-wrapped {border: 1px dashed gray;margin: 0 0.4em 0.5em 0.4em;box-sizing: border-box;padding-bottom: 0.4em;background-color: white;position: relative;}#sk-fddc0d8b-7a86-425c-942b-77d200c665b4 div.sk-label label {font-family: monospace;font-weight: bold;background-color: white;display: inline-block;line-height: 1.2em;}#sk-fddc0d8b-7a86-425c-942b-77d200c665b4 div.sk-label-container {position: relative;z-index: 2;text-align: center;}#sk-fddc0d8b-7a86-425c-942b-77d200c665b4 div.sk-container {/* jupyter's `normalize.less` sets `[hidden] { display: none; }` but bootstrap.min.css set `[hidden] { display: none !important; }` so we also need the `!important` here to be able to override the default hidden behavior on the sphinx rendered scikit-learn.org. See: https://github.com/scikit-learn/scikit-learn/issues/21755 */display: inline-block !important;position: relative;}#sk-fddc0d8b-7a86-425c-942b-77d200c665b4 div.sk-text-repr-fallback {display: none;}</style><div id=\"sk-fddc0d8b-7a86-425c-942b-77d200c665b4\" class=\"sk-top-container\"><div class=\"sk-text-repr-fallback\"><pre>GridSearchCV(cv=5,\n",
       "             estimator=Pipeline(steps=[(&#x27;columntransformer&#x27;,\n",
       "                                        ColumnTransformer(transformers=[(&#x27;num&#x27;,\n",
       "                                                                         Pipeline(steps=[(&#x27;imputer&#x27;,\n",
       "                                                                                          SimpleImputer(strategy=&#x27;median&#x27;)),\n",
       "                                                                                         (&#x27;scaler&#x27;,\n",
       "                                                                                          StandardScaler())]),\n",
       "                                                                         [&#x27;NumberofBuildings&#x27;,\n",
       "                                                                          &#x27;NumberofFloors&#x27;,\n",
       "                                                                          &#x27;PropertyGFATotal&#x27;,\n",
       "                                                                          &#x27;PropertyGFAParking&#x27;,\n",
       "                                                                          &#x27;PropertyGFABuilding(s)&#x27;,\n",
       "                                                                          &#x27;LargestPropertyUseTypeGFA&#x27;,\n",
       "                                                                          &#x27;SourceEUIWN(kBtu/sf)&#x27;,\n",
       "                                                                          &#x27;GHGEmissionsIntensity&#x27;,\n",
       "                                                                          &#x27;BuildingAge&#x27;,\n",
       "                                                                          &#x27;ENERGYSTARScore&#x27;]),\n",
       "                                                                        (&#x27;cat&#x27;,\n",
       "                                                                         OneHotEncoder(handle_unknown=&#x27;ignore&#x27;),\n",
       "                                                                         [&#x27;PrimaryPropertyType&#x27;,\n",
       "                                                                          &#x27;Neighborhood&#x27;,\n",
       "                                                                          &#x27;LargestPropertyUseType&#x27;,\n",
       "                                                                          &#x27;ComplianceStatus&#x27;])])),\n",
       "                                       (&#x27;randomforestregressor&#x27;,\n",
       "                                        RandomForestRegressor())]),\n",
       "             param_grid={&#x27;randomforestregressor__n_estimators&#x27;: [100, 200,\n",
       "                                                                 300]})</pre><b>Please rerun this cell to show the HTML repr or trust the notebook.</b></div><div class=\"sk-container\" hidden><div class=\"sk-item sk-dashed-wrapped\"><div class=\"sk-label-container\"><div class=\"sk-label sk-toggleable\"><input class=\"sk-toggleable__control sk-hidden--visually\" id=\"eadd7938-2e6d-485f-aacc-2b635fbd5577\" type=\"checkbox\" ><label for=\"eadd7938-2e6d-485f-aacc-2b635fbd5577\" class=\"sk-toggleable__label sk-toggleable__label-arrow\">GridSearchCV</label><div class=\"sk-toggleable__content\"><pre>GridSearchCV(cv=5,\n",
       "             estimator=Pipeline(steps=[(&#x27;columntransformer&#x27;,\n",
       "                                        ColumnTransformer(transformers=[(&#x27;num&#x27;,\n",
       "                                                                         Pipeline(steps=[(&#x27;imputer&#x27;,\n",
       "                                                                                          SimpleImputer(strategy=&#x27;median&#x27;)),\n",
       "                                                                                         (&#x27;scaler&#x27;,\n",
       "                                                                                          StandardScaler())]),\n",
       "                                                                         [&#x27;NumberofBuildings&#x27;,\n",
       "                                                                          &#x27;NumberofFloors&#x27;,\n",
       "                                                                          &#x27;PropertyGFATotal&#x27;,\n",
       "                                                                          &#x27;PropertyGFAParking&#x27;,\n",
       "                                                                          &#x27;PropertyGFABuilding(s)&#x27;,\n",
       "                                                                          &#x27;LargestPropertyUseTypeGFA&#x27;,\n",
       "                                                                          &#x27;SourceEUIWN(kBtu/sf)&#x27;,\n",
       "                                                                          &#x27;GHGEmissionsIntensity&#x27;,\n",
       "                                                                          &#x27;BuildingAge&#x27;,\n",
       "                                                                          &#x27;ENERGYSTARScore&#x27;]),\n",
       "                                                                        (&#x27;cat&#x27;,\n",
       "                                                                         OneHotEncoder(handle_unknown=&#x27;ignore&#x27;),\n",
       "                                                                         [&#x27;PrimaryPropertyType&#x27;,\n",
       "                                                                          &#x27;Neighborhood&#x27;,\n",
       "                                                                          &#x27;LargestPropertyUseType&#x27;,\n",
       "                                                                          &#x27;ComplianceStatus&#x27;])])),\n",
       "                                       (&#x27;randomforestregressor&#x27;,\n",
       "                                        RandomForestRegressor())]),\n",
       "             param_grid={&#x27;randomforestregressor__n_estimators&#x27;: [100, 200,\n",
       "                                                                 300]})</pre></div></div></div><div class=\"sk-parallel\"><div class=\"sk-parallel-item\"><div class=\"sk-item\"><div class=\"sk-serial\"><div class=\"sk-item\"><div class=\"sk-serial\"><div class=\"sk-item sk-dashed-wrapped\"><div class=\"sk-label-container\"><div class=\"sk-label sk-toggleable\"><input class=\"sk-toggleable__control sk-hidden--visually\" id=\"de9b254d-06aa-4957-8ffd-839447107f56\" type=\"checkbox\" ><label for=\"de9b254d-06aa-4957-8ffd-839447107f56\" class=\"sk-toggleable__label sk-toggleable__label-arrow\">columntransformer: ColumnTransformer</label><div class=\"sk-toggleable__content\"><pre>ColumnTransformer(transformers=[(&#x27;num&#x27;,\n",
       "                                 Pipeline(steps=[(&#x27;imputer&#x27;,\n",
       "                                                  SimpleImputer(strategy=&#x27;median&#x27;)),\n",
       "                                                 (&#x27;scaler&#x27;, StandardScaler())]),\n",
       "                                 [&#x27;NumberofBuildings&#x27;, &#x27;NumberofFloors&#x27;,\n",
       "                                  &#x27;PropertyGFATotal&#x27;, &#x27;PropertyGFAParking&#x27;,\n",
       "                                  &#x27;PropertyGFABuilding(s)&#x27;,\n",
       "                                  &#x27;LargestPropertyUseTypeGFA&#x27;,\n",
       "                                  &#x27;SourceEUIWN(kBtu/sf)&#x27;,\n",
       "                                  &#x27;GHGEmissionsIntensity&#x27;, &#x27;BuildingAge&#x27;,\n",
       "                                  &#x27;ENERGYSTARScore&#x27;]),\n",
       "                                (&#x27;cat&#x27;, OneHotEncoder(handle_unknown=&#x27;ignore&#x27;),\n",
       "                                 [&#x27;PrimaryPropertyType&#x27;, &#x27;Neighborhood&#x27;,\n",
       "                                  &#x27;LargestPropertyUseType&#x27;,\n",
       "                                  &#x27;ComplianceStatus&#x27;])])</pre></div></div></div><div class=\"sk-parallel\"><div class=\"sk-parallel-item\"><div class=\"sk-item\"><div class=\"sk-label-container\"><div class=\"sk-label sk-toggleable\"><input class=\"sk-toggleable__control sk-hidden--visually\" id=\"6afbf734-895b-4a6e-b7c9-c4875f6424ae\" type=\"checkbox\" ><label for=\"6afbf734-895b-4a6e-b7c9-c4875f6424ae\" class=\"sk-toggleable__label sk-toggleable__label-arrow\">num</label><div class=\"sk-toggleable__content\"><pre>[&#x27;NumberofBuildings&#x27;, &#x27;NumberofFloors&#x27;, &#x27;PropertyGFATotal&#x27;, &#x27;PropertyGFAParking&#x27;, &#x27;PropertyGFABuilding(s)&#x27;, &#x27;LargestPropertyUseTypeGFA&#x27;, &#x27;SourceEUIWN(kBtu/sf)&#x27;, &#x27;GHGEmissionsIntensity&#x27;, &#x27;BuildingAge&#x27;, &#x27;ENERGYSTARScore&#x27;]</pre></div></div></div><div class=\"sk-serial\"><div class=\"sk-item\"><div class=\"sk-serial\"><div class=\"sk-item\"><div class=\"sk-estimator sk-toggleable\"><input class=\"sk-toggleable__control sk-hidden--visually\" id=\"ce80b571-0f70-4919-b93e-1b12bcd141d2\" type=\"checkbox\" ><label for=\"ce80b571-0f70-4919-b93e-1b12bcd141d2\" class=\"sk-toggleable__label sk-toggleable__label-arrow\">SimpleImputer</label><div class=\"sk-toggleable__content\"><pre>SimpleImputer(strategy=&#x27;median&#x27;)</pre></div></div></div><div class=\"sk-item\"><div class=\"sk-estimator sk-toggleable\"><input class=\"sk-toggleable__control sk-hidden--visually\" id=\"a35e4c09-40e6-40f8-a74f-5d5bf3c2cd7f\" type=\"checkbox\" ><label for=\"a35e4c09-40e6-40f8-a74f-5d5bf3c2cd7f\" class=\"sk-toggleable__label sk-toggleable__label-arrow\">StandardScaler</label><div class=\"sk-toggleable__content\"><pre>StandardScaler()</pre></div></div></div></div></div></div></div></div><div class=\"sk-parallel-item\"><div class=\"sk-item\"><div class=\"sk-label-container\"><div class=\"sk-label sk-toggleable\"><input class=\"sk-toggleable__control sk-hidden--visually\" id=\"a44de479-f7b4-4980-90db-e48d064770ef\" type=\"checkbox\" ><label for=\"a44de479-f7b4-4980-90db-e48d064770ef\" class=\"sk-toggleable__label sk-toggleable__label-arrow\">cat</label><div class=\"sk-toggleable__content\"><pre>[&#x27;PrimaryPropertyType&#x27;, &#x27;Neighborhood&#x27;, &#x27;LargestPropertyUseType&#x27;, &#x27;ComplianceStatus&#x27;]</pre></div></div></div><div class=\"sk-serial\"><div class=\"sk-item\"><div class=\"sk-estimator sk-toggleable\"><input class=\"sk-toggleable__control sk-hidden--visually\" id=\"91c7293c-20ee-4ee3-bc4d-e2183e75e4cd\" type=\"checkbox\" ><label for=\"91c7293c-20ee-4ee3-bc4d-e2183e75e4cd\" class=\"sk-toggleable__label sk-toggleable__label-arrow\">OneHotEncoder</label><div class=\"sk-toggleable__content\"><pre>OneHotEncoder(handle_unknown=&#x27;ignore&#x27;)</pre></div></div></div></div></div></div></div></div><div class=\"sk-item\"><div class=\"sk-estimator sk-toggleable\"><input class=\"sk-toggleable__control sk-hidden--visually\" id=\"aaac60cc-5b90-4a2b-80c9-6f3c0b05609a\" type=\"checkbox\" ><label for=\"aaac60cc-5b90-4a2b-80c9-6f3c0b05609a\" class=\"sk-toggleable__label sk-toggleable__label-arrow\">RandomForestRegressor</label><div class=\"sk-toggleable__content\"><pre>RandomForestRegressor()</pre></div></div></div></div></div></div></div></div></div></div></div></div>"
      ],
      "text/plain": [
       "GridSearchCV(cv=5,\n",
       "             estimator=Pipeline(steps=[('columntransformer',\n",
       "                                        ColumnTransformer(transformers=[('num',\n",
       "                                                                         Pipeline(steps=[('imputer',\n",
       "                                                                                          SimpleImputer(strategy='median')),\n",
       "                                                                                         ('scaler',\n",
       "                                                                                          StandardScaler())]),\n",
       "                                                                         ['NumberofBuildings',\n",
       "                                                                          'NumberofFloors',\n",
       "                                                                          'PropertyGFATotal',\n",
       "                                                                          'PropertyGFAParking',\n",
       "                                                                          'PropertyGFABuilding(s)',\n",
       "                                                                          'LargestPropertyUseTypeGFA',\n",
       "                                                                          'SourceEUIWN(kBtu/sf)',\n",
       "                                                                          'GHGEmissionsIntensity',\n",
       "                                                                          'BuildingAge',\n",
       "                                                                          'ENERGYSTARScore']),\n",
       "                                                                        ('cat',\n",
       "                                                                         OneHotEncoder(handle_unknown='ignore'),\n",
       "                                                                         ['PrimaryPropertyType',\n",
       "                                                                          'Neighborhood',\n",
       "                                                                          'LargestPropertyUseType',\n",
       "                                                                          'ComplianceStatus'])])),\n",
       "                                       ('randomforestregressor',\n",
       "                                        RandomForestRegressor())]),\n",
       "             param_grid={'randomforestregressor__n_estimators': [100, 200,\n",
       "                                                                 300]})"
      ]
     },
     "execution_count": 137,
     "metadata": {},
     "output_type": "execute_result"
    }
   ],
   "source": [
    "parameter= {'randomforestregressor__n_estimators': [100,200,300]}\n",
    "#Grille de recherche:\n",
    "grid_randomforest= GridSearchCV(pipe_randomforest, parameter, cv=5)\n",
    "grid_randomforest.fit(X_train,y_train)"
   ]
  },
  {
   "cell_type": "code",
   "execution_count": 138,
   "metadata": {},
   "outputs": [
    {
     "data": {
      "text/plain": [
       "0.9748470212670647"
      ]
     },
     "execution_count": 138,
     "metadata": {},
     "output_type": "execute_result"
    }
   ],
   "source": [
    "model_randomforest= grid_randomforest.best_estimator_\n",
    "model_randomforest.score(X_test,y_test)"
   ]
  },
  {
   "cell_type": "code",
   "execution_count": 139,
   "metadata": {},
   "outputs": [
    {
     "data": {
      "text/plain": [
       "[9.692639261759862,\n",
       " 93.94725585860874,\n",
       " 4.049945465686269,\n",
       " 1.0956500000000036,\n",
       " 0.9748470212670647]"
      ]
     },
     "execution_count": 139,
     "metadata": {},
     "output_type": "execute_result"
    }
   ],
   "source": [
    "pred_randomforest= model_randomforest.predict(X_test)\n",
    "# Evaluation des métriques:\n",
    "compute_scores(y_test, pred_randomforest)"
   ]
  },
  {
   "cell_type": "markdown",
   "metadata": {},
   "source": [
    "#### Application du modèle: Decision Tree Regression with AdaBoost"
   ]
  },
  {
   "cell_type": "code",
   "execution_count": 140,
   "metadata": {},
   "outputs": [],
   "source": [
    "adaboost= AdaBoostRegressor(DecisionTreeRegressor(max_depth=4), n_estimators=300)\n",
    "# On crée le modèle à l'aide de pipeline\n",
    "pipe_adaboost= make_pipeline(column_trans, adaboost)"
   ]
  },
  {
   "cell_type": "code",
   "execution_count": 141,
   "metadata": {},
   "outputs": [
    {
     "data": {
      "text/html": [
       "<style>#sk-16e8e195-7f53-47a8-bb58-bb0c44fa6d8b {color: black;background-color: white;}#sk-16e8e195-7f53-47a8-bb58-bb0c44fa6d8b pre{padding: 0;}#sk-16e8e195-7f53-47a8-bb58-bb0c44fa6d8b div.sk-toggleable {background-color: white;}#sk-16e8e195-7f53-47a8-bb58-bb0c44fa6d8b label.sk-toggleable__label {cursor: pointer;display: block;width: 100%;margin-bottom: 0;padding: 0.3em;box-sizing: border-box;text-align: center;}#sk-16e8e195-7f53-47a8-bb58-bb0c44fa6d8b label.sk-toggleable__label-arrow:before {content: \"▸\";float: left;margin-right: 0.25em;color: #696969;}#sk-16e8e195-7f53-47a8-bb58-bb0c44fa6d8b label.sk-toggleable__label-arrow:hover:before {color: black;}#sk-16e8e195-7f53-47a8-bb58-bb0c44fa6d8b div.sk-estimator:hover label.sk-toggleable__label-arrow:before {color: black;}#sk-16e8e195-7f53-47a8-bb58-bb0c44fa6d8b div.sk-toggleable__content {max-height: 0;max-width: 0;overflow: hidden;text-align: left;background-color: #f0f8ff;}#sk-16e8e195-7f53-47a8-bb58-bb0c44fa6d8b div.sk-toggleable__content pre {margin: 0.2em;color: black;border-radius: 0.25em;background-color: #f0f8ff;}#sk-16e8e195-7f53-47a8-bb58-bb0c44fa6d8b input.sk-toggleable__control:checked~div.sk-toggleable__content {max-height: 200px;max-width: 100%;overflow: auto;}#sk-16e8e195-7f53-47a8-bb58-bb0c44fa6d8b input.sk-toggleable__control:checked~label.sk-toggleable__label-arrow:before {content: \"▾\";}#sk-16e8e195-7f53-47a8-bb58-bb0c44fa6d8b div.sk-estimator input.sk-toggleable__control:checked~label.sk-toggleable__label {background-color: #d4ebff;}#sk-16e8e195-7f53-47a8-bb58-bb0c44fa6d8b div.sk-label input.sk-toggleable__control:checked~label.sk-toggleable__label {background-color: #d4ebff;}#sk-16e8e195-7f53-47a8-bb58-bb0c44fa6d8b input.sk-hidden--visually {border: 0;clip: rect(1px 1px 1px 1px);clip: rect(1px, 1px, 1px, 1px);height: 1px;margin: -1px;overflow: hidden;padding: 0;position: absolute;width: 1px;}#sk-16e8e195-7f53-47a8-bb58-bb0c44fa6d8b div.sk-estimator {font-family: monospace;background-color: #f0f8ff;border: 1px dotted black;border-radius: 0.25em;box-sizing: border-box;margin-bottom: 0.5em;}#sk-16e8e195-7f53-47a8-bb58-bb0c44fa6d8b div.sk-estimator:hover {background-color: #d4ebff;}#sk-16e8e195-7f53-47a8-bb58-bb0c44fa6d8b div.sk-parallel-item::after {content: \"\";width: 100%;border-bottom: 1px solid gray;flex-grow: 1;}#sk-16e8e195-7f53-47a8-bb58-bb0c44fa6d8b div.sk-label:hover label.sk-toggleable__label {background-color: #d4ebff;}#sk-16e8e195-7f53-47a8-bb58-bb0c44fa6d8b div.sk-serial::before {content: \"\";position: absolute;border-left: 1px solid gray;box-sizing: border-box;top: 2em;bottom: 0;left: 50%;}#sk-16e8e195-7f53-47a8-bb58-bb0c44fa6d8b div.sk-serial {display: flex;flex-direction: column;align-items: center;background-color: white;padding-right: 0.2em;padding-left: 0.2em;}#sk-16e8e195-7f53-47a8-bb58-bb0c44fa6d8b div.sk-item {z-index: 1;}#sk-16e8e195-7f53-47a8-bb58-bb0c44fa6d8b div.sk-parallel {display: flex;align-items: stretch;justify-content: center;background-color: white;}#sk-16e8e195-7f53-47a8-bb58-bb0c44fa6d8b div.sk-parallel::before {content: \"\";position: absolute;border-left: 1px solid gray;box-sizing: border-box;top: 2em;bottom: 0;left: 50%;}#sk-16e8e195-7f53-47a8-bb58-bb0c44fa6d8b div.sk-parallel-item {display: flex;flex-direction: column;position: relative;background-color: white;}#sk-16e8e195-7f53-47a8-bb58-bb0c44fa6d8b div.sk-parallel-item:first-child::after {align-self: flex-end;width: 50%;}#sk-16e8e195-7f53-47a8-bb58-bb0c44fa6d8b div.sk-parallel-item:last-child::after {align-self: flex-start;width: 50%;}#sk-16e8e195-7f53-47a8-bb58-bb0c44fa6d8b div.sk-parallel-item:only-child::after {width: 0;}#sk-16e8e195-7f53-47a8-bb58-bb0c44fa6d8b div.sk-dashed-wrapped {border: 1px dashed gray;margin: 0 0.4em 0.5em 0.4em;box-sizing: border-box;padding-bottom: 0.4em;background-color: white;position: relative;}#sk-16e8e195-7f53-47a8-bb58-bb0c44fa6d8b div.sk-label label {font-family: monospace;font-weight: bold;background-color: white;display: inline-block;line-height: 1.2em;}#sk-16e8e195-7f53-47a8-bb58-bb0c44fa6d8b div.sk-label-container {position: relative;z-index: 2;text-align: center;}#sk-16e8e195-7f53-47a8-bb58-bb0c44fa6d8b div.sk-container {/* jupyter's `normalize.less` sets `[hidden] { display: none; }` but bootstrap.min.css set `[hidden] { display: none !important; }` so we also need the `!important` here to be able to override the default hidden behavior on the sphinx rendered scikit-learn.org. See: https://github.com/scikit-learn/scikit-learn/issues/21755 */display: inline-block !important;position: relative;}#sk-16e8e195-7f53-47a8-bb58-bb0c44fa6d8b div.sk-text-repr-fallback {display: none;}</style><div id=\"sk-16e8e195-7f53-47a8-bb58-bb0c44fa6d8b\" class=\"sk-top-container\"><div class=\"sk-text-repr-fallback\"><pre>GridSearchCV(cv=5,\n",
       "             estimator=Pipeline(steps=[(&#x27;columntransformer&#x27;,\n",
       "                                        ColumnTransformer(transformers=[(&#x27;num&#x27;,\n",
       "                                                                         Pipeline(steps=[(&#x27;imputer&#x27;,\n",
       "                                                                                          SimpleImputer(strategy=&#x27;median&#x27;)),\n",
       "                                                                                         (&#x27;scaler&#x27;,\n",
       "                                                                                          StandardScaler())]),\n",
       "                                                                         [&#x27;NumberofBuildings&#x27;,\n",
       "                                                                          &#x27;NumberofFloors&#x27;,\n",
       "                                                                          &#x27;PropertyGFATotal&#x27;,\n",
       "                                                                          &#x27;PropertyGFAParking&#x27;,\n",
       "                                                                          &#x27;PropertyGFABuilding(s)&#x27;,\n",
       "                                                                          &#x27;LargestPropertyUseTypeGFA&#x27;,\n",
       "                                                                          &#x27;SourceEUIWN(kBtu/sf)&#x27;,\n",
       "                                                                          &#x27;...\n",
       "                                                                          &#x27;Neighborhood&#x27;,\n",
       "                                                                          &#x27;LargestPropertyUseType&#x27;,\n",
       "                                                                          &#x27;ComplianceStatus&#x27;])])),\n",
       "                                       (&#x27;adaboostregressor&#x27;,\n",
       "                                        AdaBoostRegressor(base_estimator=DecisionTreeRegressor(max_depth=4),\n",
       "                                                          n_estimators=300))]),\n",
       "             param_grid={&#x27;adaboostregressor__base_estimator__max_depth&#x27;: [4, 6,\n",
       "                                                                          8],\n",
       "                         &#x27;adaboostregressor__loss&#x27;: [&#x27;linear&#x27;, &#x27;square&#x27;,\n",
       "                                                     &#x27;exponential&#x27;],\n",
       "                         &#x27;adaboostregressor__n_estimators&#x27;: [300, 400, 500]})</pre><b>Please rerun this cell to show the HTML repr or trust the notebook.</b></div><div class=\"sk-container\" hidden><div class=\"sk-item sk-dashed-wrapped\"><div class=\"sk-label-container\"><div class=\"sk-label sk-toggleable\"><input class=\"sk-toggleable__control sk-hidden--visually\" id=\"fa6242c9-d1c2-416c-ac07-81fb545916be\" type=\"checkbox\" ><label for=\"fa6242c9-d1c2-416c-ac07-81fb545916be\" class=\"sk-toggleable__label sk-toggleable__label-arrow\">GridSearchCV</label><div class=\"sk-toggleable__content\"><pre>GridSearchCV(cv=5,\n",
       "             estimator=Pipeline(steps=[(&#x27;columntransformer&#x27;,\n",
       "                                        ColumnTransformer(transformers=[(&#x27;num&#x27;,\n",
       "                                                                         Pipeline(steps=[(&#x27;imputer&#x27;,\n",
       "                                                                                          SimpleImputer(strategy=&#x27;median&#x27;)),\n",
       "                                                                                         (&#x27;scaler&#x27;,\n",
       "                                                                                          StandardScaler())]),\n",
       "                                                                         [&#x27;NumberofBuildings&#x27;,\n",
       "                                                                          &#x27;NumberofFloors&#x27;,\n",
       "                                                                          &#x27;PropertyGFATotal&#x27;,\n",
       "                                                                          &#x27;PropertyGFAParking&#x27;,\n",
       "                                                                          &#x27;PropertyGFABuilding(s)&#x27;,\n",
       "                                                                          &#x27;LargestPropertyUseTypeGFA&#x27;,\n",
       "                                                                          &#x27;SourceEUIWN(kBtu/sf)&#x27;,\n",
       "                                                                          &#x27;...\n",
       "                                                                          &#x27;Neighborhood&#x27;,\n",
       "                                                                          &#x27;LargestPropertyUseType&#x27;,\n",
       "                                                                          &#x27;ComplianceStatus&#x27;])])),\n",
       "                                       (&#x27;adaboostregressor&#x27;,\n",
       "                                        AdaBoostRegressor(base_estimator=DecisionTreeRegressor(max_depth=4),\n",
       "                                                          n_estimators=300))]),\n",
       "             param_grid={&#x27;adaboostregressor__base_estimator__max_depth&#x27;: [4, 6,\n",
       "                                                                          8],\n",
       "                         &#x27;adaboostregressor__loss&#x27;: [&#x27;linear&#x27;, &#x27;square&#x27;,\n",
       "                                                     &#x27;exponential&#x27;],\n",
       "                         &#x27;adaboostregressor__n_estimators&#x27;: [300, 400, 500]})</pre></div></div></div><div class=\"sk-parallel\"><div class=\"sk-parallel-item\"><div class=\"sk-item\"><div class=\"sk-serial\"><div class=\"sk-item\"><div class=\"sk-serial\"><div class=\"sk-item sk-dashed-wrapped\"><div class=\"sk-label-container\"><div class=\"sk-label sk-toggleable\"><input class=\"sk-toggleable__control sk-hidden--visually\" id=\"77809ce6-5a1b-4c2d-be48-155b595c8b70\" type=\"checkbox\" ><label for=\"77809ce6-5a1b-4c2d-be48-155b595c8b70\" class=\"sk-toggleable__label sk-toggleable__label-arrow\">columntransformer: ColumnTransformer</label><div class=\"sk-toggleable__content\"><pre>ColumnTransformer(transformers=[(&#x27;num&#x27;,\n",
       "                                 Pipeline(steps=[(&#x27;imputer&#x27;,\n",
       "                                                  SimpleImputer(strategy=&#x27;median&#x27;)),\n",
       "                                                 (&#x27;scaler&#x27;, StandardScaler())]),\n",
       "                                 [&#x27;NumberofBuildings&#x27;, &#x27;NumberofFloors&#x27;,\n",
       "                                  &#x27;PropertyGFATotal&#x27;, &#x27;PropertyGFAParking&#x27;,\n",
       "                                  &#x27;PropertyGFABuilding(s)&#x27;,\n",
       "                                  &#x27;LargestPropertyUseTypeGFA&#x27;,\n",
       "                                  &#x27;SourceEUIWN(kBtu/sf)&#x27;,\n",
       "                                  &#x27;GHGEmissionsIntensity&#x27;, &#x27;BuildingAge&#x27;,\n",
       "                                  &#x27;ENERGYSTARScore&#x27;]),\n",
       "                                (&#x27;cat&#x27;, OneHotEncoder(handle_unknown=&#x27;ignore&#x27;),\n",
       "                                 [&#x27;PrimaryPropertyType&#x27;, &#x27;Neighborhood&#x27;,\n",
       "                                  &#x27;LargestPropertyUseType&#x27;,\n",
       "                                  &#x27;ComplianceStatus&#x27;])])</pre></div></div></div><div class=\"sk-parallel\"><div class=\"sk-parallel-item\"><div class=\"sk-item\"><div class=\"sk-label-container\"><div class=\"sk-label sk-toggleable\"><input class=\"sk-toggleable__control sk-hidden--visually\" id=\"cce1f2e7-a877-432c-905a-824948533bc0\" type=\"checkbox\" ><label for=\"cce1f2e7-a877-432c-905a-824948533bc0\" class=\"sk-toggleable__label sk-toggleable__label-arrow\">num</label><div class=\"sk-toggleable__content\"><pre>[&#x27;NumberofBuildings&#x27;, &#x27;NumberofFloors&#x27;, &#x27;PropertyGFATotal&#x27;, &#x27;PropertyGFAParking&#x27;, &#x27;PropertyGFABuilding(s)&#x27;, &#x27;LargestPropertyUseTypeGFA&#x27;, &#x27;SourceEUIWN(kBtu/sf)&#x27;, &#x27;GHGEmissionsIntensity&#x27;, &#x27;BuildingAge&#x27;, &#x27;ENERGYSTARScore&#x27;]</pre></div></div></div><div class=\"sk-serial\"><div class=\"sk-item\"><div class=\"sk-serial\"><div class=\"sk-item\"><div class=\"sk-estimator sk-toggleable\"><input class=\"sk-toggleable__control sk-hidden--visually\" id=\"05e841af-990b-4d0e-936b-8455695a5723\" type=\"checkbox\" ><label for=\"05e841af-990b-4d0e-936b-8455695a5723\" class=\"sk-toggleable__label sk-toggleable__label-arrow\">SimpleImputer</label><div class=\"sk-toggleable__content\"><pre>SimpleImputer(strategy=&#x27;median&#x27;)</pre></div></div></div><div class=\"sk-item\"><div class=\"sk-estimator sk-toggleable\"><input class=\"sk-toggleable__control sk-hidden--visually\" id=\"f8a2d93b-8264-49ad-99fa-1fd4ddf308e0\" type=\"checkbox\" ><label for=\"f8a2d93b-8264-49ad-99fa-1fd4ddf308e0\" class=\"sk-toggleable__label sk-toggleable__label-arrow\">StandardScaler</label><div class=\"sk-toggleable__content\"><pre>StandardScaler()</pre></div></div></div></div></div></div></div></div><div class=\"sk-parallel-item\"><div class=\"sk-item\"><div class=\"sk-label-container\"><div class=\"sk-label sk-toggleable\"><input class=\"sk-toggleable__control sk-hidden--visually\" id=\"ea06536b-a3c8-4cbd-ad51-10b1cc85e212\" type=\"checkbox\" ><label for=\"ea06536b-a3c8-4cbd-ad51-10b1cc85e212\" class=\"sk-toggleable__label sk-toggleable__label-arrow\">cat</label><div class=\"sk-toggleable__content\"><pre>[&#x27;PrimaryPropertyType&#x27;, &#x27;Neighborhood&#x27;, &#x27;LargestPropertyUseType&#x27;, &#x27;ComplianceStatus&#x27;]</pre></div></div></div><div class=\"sk-serial\"><div class=\"sk-item\"><div class=\"sk-estimator sk-toggleable\"><input class=\"sk-toggleable__control sk-hidden--visually\" id=\"ecd2adda-4f38-4bee-b30d-6feb01e7eed4\" type=\"checkbox\" ><label for=\"ecd2adda-4f38-4bee-b30d-6feb01e7eed4\" class=\"sk-toggleable__label sk-toggleable__label-arrow\">OneHotEncoder</label><div class=\"sk-toggleable__content\"><pre>OneHotEncoder(handle_unknown=&#x27;ignore&#x27;)</pre></div></div></div></div></div></div></div></div><div class=\"sk-item sk-dashed-wrapped\"><div class=\"sk-label-container\"><div class=\"sk-label sk-toggleable\"><input class=\"sk-toggleable__control sk-hidden--visually\" id=\"519c84de-de50-4fb5-be7a-7406cf48f797\" type=\"checkbox\" ><label for=\"519c84de-de50-4fb5-be7a-7406cf48f797\" class=\"sk-toggleable__label sk-toggleable__label-arrow\">adaboostregressor: AdaBoostRegressor</label><div class=\"sk-toggleable__content\"><pre>AdaBoostRegressor(base_estimator=DecisionTreeRegressor(max_depth=4),\n",
       "                  n_estimators=300)</pre></div></div></div><div class=\"sk-parallel\"><div class=\"sk-parallel-item\"><div class=\"sk-item\"><div class=\"sk-serial\"><div class=\"sk-item\"><div class=\"sk-estimator sk-toggleable\"><input class=\"sk-toggleable__control sk-hidden--visually\" id=\"4f8e3b74-59b5-4305-ac30-bd4fddc1235c\" type=\"checkbox\" ><label for=\"4f8e3b74-59b5-4305-ac30-bd4fddc1235c\" class=\"sk-toggleable__label sk-toggleable__label-arrow\">DecisionTreeRegressor</label><div class=\"sk-toggleable__content\"><pre>DecisionTreeRegressor(max_depth=4)</pre></div></div></div></div></div></div></div></div></div></div></div></div></div></div></div></div></div>"
      ],
      "text/plain": [
       "GridSearchCV(cv=5,\n",
       "             estimator=Pipeline(steps=[('columntransformer',\n",
       "                                        ColumnTransformer(transformers=[('num',\n",
       "                                                                         Pipeline(steps=[('imputer',\n",
       "                                                                                          SimpleImputer(strategy='median')),\n",
       "                                                                                         ('scaler',\n",
       "                                                                                          StandardScaler())]),\n",
       "                                                                         ['NumberofBuildings',\n",
       "                                                                          'NumberofFloors',\n",
       "                                                                          'PropertyGFATotal',\n",
       "                                                                          'PropertyGFAParking',\n",
       "                                                                          'PropertyGFABuilding(s)',\n",
       "                                                                          'LargestPropertyUseTypeGFA',\n",
       "                                                                          'SourceEUIWN(kBtu/sf)',\n",
       "                                                                          '...\n",
       "                                                                          'Neighborhood',\n",
       "                                                                          'LargestPropertyUseType',\n",
       "                                                                          'ComplianceStatus'])])),\n",
       "                                       ('adaboostregressor',\n",
       "                                        AdaBoostRegressor(base_estimator=DecisionTreeRegressor(max_depth=4),\n",
       "                                                          n_estimators=300))]),\n",
       "             param_grid={'adaboostregressor__base_estimator__max_depth': [4, 6,\n",
       "                                                                          8],\n",
       "                         'adaboostregressor__loss': ['linear', 'square',\n",
       "                                                     'exponential'],\n",
       "                         'adaboostregressor__n_estimators': [300, 400, 500]})"
      ]
     },
     "execution_count": 141,
     "metadata": {},
     "output_type": "execute_result"
    }
   ],
   "source": [
    "parameter= {'adaboostregressor__loss': ['linear', 'square', 'exponential'], \n",
    "           'adaboostregressor__base_estimator__max_depth':[4,6,8]\n",
    "           , 'adaboostregressor__n_estimators':[300,400,500]}\n",
    "#Grille de recherche:\n",
    "grid_adaboost= GridSearchCV(pipe_adaboost, parameter, cv=5)\n",
    "grid_adaboost.fit(X_train,y_train)"
   ]
  },
  {
   "cell_type": "code",
   "execution_count": 142,
   "metadata": {},
   "outputs": [
    {
     "data": {
      "text/plain": [
       "0.9772416968647573"
      ]
     },
     "execution_count": 142,
     "metadata": {},
     "output_type": "execute_result"
    }
   ],
   "source": [
    "model_adaboost= grid_adaboost.best_estimator_\n",
    "model_adaboost.score(X_test,y_test)"
   ]
  },
  {
   "cell_type": "code",
   "execution_count": 143,
   "metadata": {},
   "outputs": [
    {
     "data": {
      "text/plain": [
       "[9.219710336751048,\n",
       " 85.00305869359413,\n",
       " 5.449777894163419,\n",
       " 3.868999999999996,\n",
       " 0.9772416968647573]"
      ]
     },
     "execution_count": 143,
     "metadata": {},
     "output_type": "execute_result"
    }
   ],
   "source": [
    "pred_adaboost= model_adaboost.predict(X_test)\n",
    "# Evaluation des métriques:\n",
    "compute_scores(y_test, pred_adaboost)"
   ]
  },
  {
   "cell_type": "markdown",
   "metadata": {},
   "source": [
    "##### Synthèse métriques:"
   ]
  },
  {
   "cell_type": "code",
   "execution_count": 144,
   "metadata": {},
   "outputs": [],
   "source": [
    "lst=[compute_scores(y_test, pred_lr),compute_scores(y_test, pred_ridge),compute_scores(y_test, pred_svr),\n",
    "     compute_scores(y_test, pred_lasso),compute_scores(y_test, pred_elastic),compute_scores(y_test, pred_randomforest),\n",
    "    compute_scores(y_test, pred_adaboost)]\n",
    "                   \n",
    "df_metrics_2= pd.DataFrame(lst, index =['Linear regression','Ridge regression','SVR','Lasso','ElasticNet',\n",
    "                                                       'RandomForest', 'Adaboost']\n",
    "                            , columns =['RMSE', 'MSE', 'MAE', 'MEDIAN AE', 'R²'])"
   ]
  },
  {
   "cell_type": "code",
   "execution_count": 145,
   "metadata": {},
   "outputs": [
    {
     "data": {
      "text/html": [
       "<div>\n",
       "<style scoped>\n",
       "    .dataframe tbody tr th:only-of-type {\n",
       "        vertical-align: middle;\n",
       "    }\n",
       "\n",
       "    .dataframe tbody tr th {\n",
       "        vertical-align: top;\n",
       "    }\n",
       "\n",
       "    .dataframe thead th {\n",
       "        text-align: right;\n",
       "    }\n",
       "</style>\n",
       "<table border=\"1\" class=\"dataframe\">\n",
       "  <thead>\n",
       "    <tr style=\"text-align: right;\">\n",
       "      <th></th>\n",
       "      <th>RMSE</th>\n",
       "      <th>MSE</th>\n",
       "      <th>MAE</th>\n",
       "      <th>MEDIAN AE</th>\n",
       "      <th>R²</th>\n",
       "    </tr>\n",
       "  </thead>\n",
       "  <tbody>\n",
       "    <tr>\n",
       "      <th>Linear regression</th>\n",
       "      <td>29.335345</td>\n",
       "      <td>860.562473</td>\n",
       "      <td>18.472773</td>\n",
       "      <td>10.272506</td>\n",
       "      <td>0.769597</td>\n",
       "    </tr>\n",
       "    <tr>\n",
       "      <th>Ridge regression</th>\n",
       "      <td>36.805938</td>\n",
       "      <td>1354.677087</td>\n",
       "      <td>20.647988</td>\n",
       "      <td>10.874546</td>\n",
       "      <td>0.637305</td>\n",
       "    </tr>\n",
       "    <tr>\n",
       "      <th>SVR</th>\n",
       "      <td>30.678110</td>\n",
       "      <td>941.146425</td>\n",
       "      <td>16.289676</td>\n",
       "      <td>5.713080</td>\n",
       "      <td>0.748022</td>\n",
       "    </tr>\n",
       "    <tr>\n",
       "      <th>Lasso</th>\n",
       "      <td>61.235657</td>\n",
       "      <td>3749.805727</td>\n",
       "      <td>45.951200</td>\n",
       "      <td>38.433516</td>\n",
       "      <td>-0.003955</td>\n",
       "    </tr>\n",
       "    <tr>\n",
       "      <th>ElasticNet</th>\n",
       "      <td>38.121825</td>\n",
       "      <td>1453.273549</td>\n",
       "      <td>21.835969</td>\n",
       "      <td>12.513276</td>\n",
       "      <td>0.610908</td>\n",
       "    </tr>\n",
       "    <tr>\n",
       "      <th>RandomForest</th>\n",
       "      <td>9.692639</td>\n",
       "      <td>93.947256</td>\n",
       "      <td>4.049945</td>\n",
       "      <td>1.095650</td>\n",
       "      <td>0.974847</td>\n",
       "    </tr>\n",
       "    <tr>\n",
       "      <th>Adaboost</th>\n",
       "      <td>9.219710</td>\n",
       "      <td>85.003059</td>\n",
       "      <td>5.449778</td>\n",
       "      <td>3.869000</td>\n",
       "      <td>0.977242</td>\n",
       "    </tr>\n",
       "  </tbody>\n",
       "</table>\n",
       "</div>"
      ],
      "text/plain": [
       "                        RMSE          MSE        MAE  MEDIAN AE        R²\n",
       "Linear regression  29.335345   860.562473  18.472773  10.272506  0.769597\n",
       "Ridge regression   36.805938  1354.677087  20.647988  10.874546  0.637305\n",
       "SVR                30.678110   941.146425  16.289676   5.713080  0.748022\n",
       "Lasso              61.235657  3749.805727  45.951200  38.433516 -0.003955\n",
       "ElasticNet         38.121825  1453.273549  21.835969  12.513276  0.610908\n",
       "RandomForest        9.692639    93.947256   4.049945   1.095650  0.974847\n",
       "Adaboost            9.219710    85.003059   5.449778   3.869000  0.977242"
      ]
     },
     "execution_count": 145,
     "metadata": {},
     "output_type": "execute_result"
    }
   ],
   "source": [
    "df_metrics_2"
   ]
  },
  {
   "cell_type": "markdown",
   "metadata": {},
   "source": [
    "On fait une synthèse du score R² des différents modèles sur le Train Set."
   ]
  },
  {
   "cell_type": "code",
   "execution_count": 146,
   "metadata": {},
   "outputs": [],
   "source": [
    "r2_lr= grid_lr.best_score_\n",
    "r2_ridge= grid_ridge.best_score_\n",
    "r2_svr= grid_svr.best_score_\n",
    "r2_lasso= grid_lasso.best_score_\n",
    "r2_elastic= grid_elastic.best_score_\n",
    "r2_randomforest= grid_randomforest.best_score_\n",
    "r2_adaboost= grid_adaboost.best_score_\n",
    "\n",
    "lst= [r2_lr, r2_ridge, r2_svr, r2_lasso, r2_elastic,r2_randomforest,r2_adaboost]\n",
    "\n",
    "df_Xtrain_r2= pd.DataFrame(lst, index =['Linear regression','Ridge regression','SVR','Lasso','ElasticNet',\n",
    "                                                       'RandomForest', 'Adaboost'], columns =['R²'])"
   ]
  },
  {
   "cell_type": "code",
   "execution_count": 147,
   "metadata": {},
   "outputs": [
    {
     "data": {
      "text/html": [
       "<div>\n",
       "<style scoped>\n",
       "    .dataframe tbody tr th:only-of-type {\n",
       "        vertical-align: middle;\n",
       "    }\n",
       "\n",
       "    .dataframe tbody tr th {\n",
       "        vertical-align: top;\n",
       "    }\n",
       "\n",
       "    .dataframe thead th {\n",
       "        text-align: right;\n",
       "    }\n",
       "</style>\n",
       "<table border=\"1\" class=\"dataframe\">\n",
       "  <thead>\n",
       "    <tr style=\"text-align: right;\">\n",
       "      <th></th>\n",
       "      <th>R²</th>\n",
       "    </tr>\n",
       "  </thead>\n",
       "  <tbody>\n",
       "    <tr>\n",
       "      <th>Linear regression</th>\n",
       "      <td>0.460737</td>\n",
       "    </tr>\n",
       "    <tr>\n",
       "      <th>Ridge regression</th>\n",
       "      <td>0.454624</td>\n",
       "    </tr>\n",
       "    <tr>\n",
       "      <th>SVR</th>\n",
       "      <td>0.548991</td>\n",
       "    </tr>\n",
       "    <tr>\n",
       "      <th>Lasso</th>\n",
       "      <td>-0.005012</td>\n",
       "    </tr>\n",
       "    <tr>\n",
       "      <th>ElasticNet</th>\n",
       "      <td>0.497011</td>\n",
       "    </tr>\n",
       "    <tr>\n",
       "      <th>RandomForest</th>\n",
       "      <td>0.956867</td>\n",
       "    </tr>\n",
       "    <tr>\n",
       "      <th>Adaboost</th>\n",
       "      <td>0.956973</td>\n",
       "    </tr>\n",
       "  </tbody>\n",
       "</table>\n",
       "</div>"
      ],
      "text/plain": [
       "                         R²\n",
       "Linear regression  0.460737\n",
       "Ridge regression   0.454624\n",
       "SVR                0.548991\n",
       "Lasso             -0.005012\n",
       "ElasticNet         0.497011\n",
       "RandomForest       0.956867\n",
       "Adaboost           0.956973"
      ]
     },
     "execution_count": 147,
     "metadata": {},
     "output_type": "execute_result"
    }
   ],
   "source": [
    "df_Xtrain_r2"
   ]
  },
  {
   "cell_type": "markdown",
   "metadata": {},
   "source": [
    "Les 2 modèles: Decision Tree Regression with AdaBoost & Forests of randomized trees donnent les meilleurs scores de prédiction."
   ]
  }
 ],
 "metadata": {
  "kernelspec": {
   "display_name": "Python 3",
   "language": "python",
   "name": "python3"
  },
  "language_info": {
   "codemirror_mode": {
    "name": "ipython",
    "version": 3
   },
   "file_extension": ".py",
   "mimetype": "text/x-python",
   "name": "python",
   "nbconvert_exporter": "python",
   "pygments_lexer": "ipython3",
   "version": "3.7.6"
  }
 },
 "nbformat": 4,
 "nbformat_minor": 4
}
